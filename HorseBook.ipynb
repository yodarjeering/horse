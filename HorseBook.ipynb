{
 "cells": [
  {
   "cell_type": "markdown",
   "id": "485b75ae-02d8-4d3e-b0f4-c8cad9518e8c",
   "metadata": {},
   "source": [
    "# import"
   ]
  },
  {
   "cell_type": "code",
   "execution_count": 1,
   "id": "fa116d3b-51ac-42de-bf7a-fb55eb148689",
   "metadata": {},
   "outputs": [],
   "source": [
    "import pandas as pd\n",
    "from tqdm.notebook import tqdm as tqdm\n",
    "import requests\n",
    "from bs4 import BeautifulSoup\n",
    "import re\n",
    "import time\n",
    "import urllib.request\n",
    "import xgboost as xgb\n",
    "from sklearn.metrics import classification_report, accuracy_score,roc_curve, roc_auc_score\n",
    "from imblearn.under_sampling import RandomUnderSampler\n",
    "from sklearn.metrics import average_precision_score\n",
    "import numpy as np\n",
    "import matplotlib.pyplot as plt\n",
    "from graphviz import *\n",
    "from sklearn.preprocessing import LabelEncoder\n",
    "import optuna.integration.xgboost as xgb_o\n",
    "import optuna.integration.lightgbm as lgb_o\n",
    "import scipy as sp\n",
    "import lightgbm as lgb\n",
    "import optuna\n",
    "import sklearn\n",
    "from scipy.special import comb\n",
    "from itertools import combinations\n",
    "import copy\n",
    "from sklearn.metrics import r2_score\n",
    "from sklearn.metrics import roc_auc_score\n",
    "from scipy.special import comb\n",
    "from itertools import permutations\n",
    "import datetime\n",
    "import lxml"
   ]
  },
  {
   "cell_type": "markdown",
   "id": "89abdac4-ad14-4a42-a549-33a6270db233",
   "metadata": {},
   "source": [
    "# funcs"
   ]
  },
  {
   "cell_type": "code",
   "execution_count": 2,
   "id": "aa496290-3b79-4e19-9f1b-a7c4a08f209c",
   "metadata": {
    "tags": []
   },
   "outputs": [],
   "source": [
    "def split_data(df, test_size=0.2):\n",
    "    sorted_id_list = df.sort_values(\"date\").index.unique()\n",
    "    train_id_list = sorted_id_list[: round(len(sorted_id_list) * (1 - test_size))]\n",
    "    test_id_list = sorted_id_list[round(len(sorted_id_list) * (1 - test_size)) :]\n",
    "    train = df.loc[train_id_list]#.drop(['date'], axis=1)\n",
    "    test = df.loc[test_id_list]#.drop(['date'], axis=1)\n",
    "    return train, test\n",
    "\n",
    "def load_csv(load_path):\n",
    "    df = pd.read_csv(load_path, index_col=0)\n",
    "    return df\n",
    "\n",
    "def gain(return_func, x_, n_samples=100,lower=50,t_range=[0.5,3.5]):\n",
    "    gain = {}\n",
    "    for i in range(n_samples):\n",
    "        threshold = t_range[1] * (i/n_samples) + t_range[0] *(1-i/n_samples)\n",
    "        n_bets, return_rate, n_hits,std = return_func(x_, threshold)\n",
    "        if n_bets > lower:\n",
    "            gain[threshold] = {'return_rate':return_rate,'n_hits':n_hits,'std':std,'n_bets':n_bets}\n",
    "    return pd.DataFrame(gain).T\n",
    "\n",
    "place_dict = {\n",
    "    '札幌':'01',  '函館':'02',  '福島':'03',  '新潟':'04',  '東京':'05', \n",
    "    '中山':'06',  '中京':'07',  '京都':'08',  '阪神':'09',  '小倉':'10'\n",
    "}\n",
    "\n",
    "race_type_dict = {\n",
    "    '芝': '芝', 'ダ': 'ダート', '障': '障害'\n",
    "}\n",
    "\n",
    "def plot(g,label=''):\n",
    "    plt.fill_between(g.index,y1 = g['return_rate'] - g['std'],y2=g['return_rate']+g['std'],alpha=0.3)\n",
    "    plt.plot(g.index,g['return_rate'],label=label)\n",
    "    plt.grid(True)\n",
    "    \n",
    "def update_data(old, new):\n",
    "    \"\"\"\n",
    "    Parameters:\n",
    "    ----------\n",
    "    old : pandas.DataFrame\n",
    "        古いデータ\n",
    "    new : pandas.DataFrame\n",
    "        新しいデータ\n",
    "    \"\"\"\n",
    "\n",
    "    filtered_old = old[~old.index.isin(new.index)]\n",
    "    return pd.concat([filtered_old, new])\n",
    "\n",
    "def scrape_race_results(race_id_list, pre_race_results={}):\n",
    "    race_results = pre_race_results\n",
    "    for race_id in race_id_list:\n",
    "        if race_id in race_results.keys():\n",
    "            continue\n",
    "        try:\n",
    "            time.sleep(0.5)\n",
    "            url = \"https://db.netkeiba.com/race/\" + race_id\n",
    "            race_results[race_id] = pd.read_html(url)[0]\n",
    "        except IndexError:\n",
    "            continue\n",
    "        except Exception as e:\n",
    "            print(e)\n",
    "            break\n",
    "        except:\n",
    "            break\n",
    "    return race_results\n",
    "\n",
    "def plot_importances(xgb_model, x_test):\n",
    "    importances = pd.DataFrame(\n",
    "    {'features' : x_test.columns, 'importances' : xgb_model.feature_importances_})\n",
    "    print(importances.sort_values('importances', ascending=False)[:20])\n",
    "    \n",
    "def xgb_pred(x_train, y_train, x_test, y_test):\n",
    "    param_dist = {'objective':'binary:logistic',\n",
    "                  'n_estimators':14,\n",
    "                  'use_label_encoder':False,\n",
    "                 'max_depth':4,\n",
    "                 'random_state':100}\n",
    "    \n",
    "    best_params = {'booster': 'gbtree', \n",
    "                   'objective': 'binary:logistic',\n",
    "                   'use_label_encoder':False,\n",
    "                   'eval_metric': 'rmse', \n",
    "                   'random_state': 100, \n",
    "                   'use_label_encoder':False,\n",
    "                   'eta': 0.13449222415941048,\n",
    "                   'max_depth': 3,\n",
    "                   'lambda': 0.7223936363734638, \n",
    "                   'n_estimators': 14, \n",
    "                   'reg_alpha': 0.7879044553842869,\n",
    "                   'reg_lambda': 0.7780344172793093,\n",
    "                   'importance_type': 'gain'}\n",
    "    xgb_model = xgb.XGBClassifier(**best_params)\n",
    "    hr_pred = xgb_model.fit(x_train.astype(float), np.array(y_train), eval_metric='logloss').predict(x_test.astype(float))\n",
    "    print(\"---------------------\")\n",
    "    y_proba_train = xgb_model.predict_proba(x_train)[:,1]\n",
    "    y_proba = xgb_model.predict_proba(x_test)[:,1]\n",
    "    print('AUC train:',roc_auc_score(y_train,y_proba_train))    \n",
    "    print('AUC test :',roc_auc_score(y_test,y_proba))\n",
    "    print(classification_report(np.array(y_test), hr_pred))\n",
    "    xgb.plot_importance(xgb_model) \n",
    "    plot_importances(xgb_model, x_test)\n",
    "    return xgb_model\n",
    "\n",
    "def lgb_pred(x_train, y_train, x_test, y_test):\n",
    "    param_dist = {\n",
    "        'objective' : 'binary',\n",
    "          'random_state':100,\n",
    "                 }\n",
    "    best_params = {\n",
    "    'objective': 'binary',\n",
    "    'random_state': 100,\n",
    "    'feature_pre_filter': False,\n",
    "    'lambda_l1': 4.693572572985162e-07,\n",
    "    'lambda_l2': 0.8052948126650886,\n",
    "    'num_leaves': 5,\n",
    "    'feature_fraction': 0.8,\n",
    "    'bagging_fraction': 0.9783720284106503,\n",
    "    'bagging_freq': 7,\n",
    "    'min_child_samples': 50\n",
    "    }\n",
    "\n",
    "    lgb_model = lgb.LGBMClassifier(**best_params)\n",
    "    hr_pred = lgb_model.fit(x_train.astype(float), np.array(y_train), eval_metric='logloss').predict(x_test.astype(float))\n",
    "    print(\"---------------------\")\n",
    "    y_proba_train = lgb_model.predict_proba(x_train.astype(float))[:,1]\n",
    "    y_proba = lgb_model.predict_proba(x_test.astype(float))[:,1]\n",
    "    print('AUC train:',roc_auc_score(y_train,y_proba_train))    \n",
    "    print('AUC test :',roc_auc_score(y_test,y_proba))\n",
    "    print(classification_report(np.array(y_test), hr_pred))\n",
    "    plt.clf()\n",
    "    lgb.plot_importance(lgb_model) \n",
    "    plot_importances(lgb_model, x_test)\n",
    "    return lgb_model\n",
    "\n",
    "def make_data(data_,test_rate=0.8,is_rus=True):\n",
    "    data_ = data_.sort_values('date')\n",
    "    x_ = data_.drop(['rank','date','単勝'],axis=1)\n",
    "    y_ = data_['rank']\n",
    "\n",
    "    test_rate = int(test_rate*len(x_))\n",
    "    x_train, x_test = x_.iloc[:test_rate],x_.iloc[test_rate:]\n",
    "    y_train, y_test = y_.iloc[:test_rate],y_.iloc[test_rate:]\n",
    "    if is_rus:\n",
    "        rus = RandomUnderSampler(random_state=0)\n",
    "        x_resampled, y_resampled = rus.fit_resample(x_train, y_train)\n",
    "        return x_resampled, y_resampled, x_test, y_test\n",
    "    else:\n",
    "        return x_train,y_train,x_test,y_test\n",
    "\n",
    "def make_check_data(data_,test_rate=0.8):\n",
    "    data_ = data_.sort_values('date')\n",
    "    x_ = data_.drop(['rank','date'],axis=1)\n",
    "    y_ = data_['rank']\n",
    "\n",
    "    test_rate = int(test_rate*len(x_))\n",
    "    x_train, x_check = x_.iloc[:test_rate],x_.iloc[test_rate:]\n",
    "    y_train, y_check = y_.iloc[:test_rate],y_.iloc[test_rate:]\n",
    "\n",
    "    return x_check,y_check\n",
    "\n"
   ]
  },
  {
   "cell_type": "markdown",
   "id": "6897b3ed-08f1-452f-bc5c-840f04015aed",
   "metadata": {},
   "source": [
    "# race_id 命名規則"
   ]
  },
  {
   "cell_type": "markdown",
   "id": "f840d19f-0d83-4c24-a9d6-245b20e6eac6",
   "metadata": {},
   "source": [
    "race_id 202105040802\\\n",
    "yyyy_pp_xx_xxrr\\\n",
    "y : year\\\n",
    "p : palce\\\n",
    "x : 謎\\\n",
    "r : race番号"
   ]
  },
  {
   "cell_type": "markdown",
   "id": "56f4a8a9-d289-4262-bbd7-e7196f6b2d2c",
   "metadata": {},
   "source": [
    "# classes"
   ]
  },
  {
   "cell_type": "code",
   "execution_count": 44,
   "id": "d27a0076-950a-49b1-9b34-5ca61c6adfcf",
   "metadata": {
    "tags": []
   },
   "outputs": [],
   "source": [
    "\n",
    "class HorseResults:\n",
    "    def __init__(self, horse_results):\n",
    "        self.horse_results = horse_results[['日付', '着順', '賞金', '着差', '通過',\n",
    "                                            '開催', '距離']]\n",
    "        self.preprocessing()\n",
    "        \n",
    "    @classmethod\n",
    "    def read_pickle(cls, path_list):\n",
    "        df = pd.concat([pd.read_pickle(path) for path in path_list])\n",
    "        return cls(df)\n",
    "    \n",
    "    @staticmethod\n",
    "    def scrape(horse_id_list):\n",
    "        #horse_idをkeyにしてDataFrame型を格納\n",
    "        horse_results = {}\n",
    "        for horse_id in tqdm(horse_id_list):\n",
    "#         for horse_id in horse_id_list:\n",
    "            try:\n",
    "                url = 'https://db.netkeiba.com/horse/' + horse_id\n",
    "                df = pd.read_html(url)[3]\n",
    "                #受賞歴がある馬の場合、3番目に受賞歴テーブルが来るため、4番目のデータを取得する\n",
    "                if df.columns[0]=='受賞歴':\n",
    "                    df = pd.read_html(url)[4]\n",
    "                df.index = [horse_id] * len(df)\n",
    "                horse_results[horse_id] = df\n",
    "                time.sleep(0.5)\n",
    "            except IndexError:\n",
    "                continue\n",
    "            except Exception as e:\n",
    "                print(e)\n",
    "                break\n",
    "            except:\n",
    "                break\n",
    "\n",
    "        #pd.DataFrame型にして一つのデータにまとめる        \n",
    "        horse_results_df = pd.concat([horse_results[key] for key in horse_results])\n",
    "\n",
    "        return horse_results_df\n",
    "    \n",
    "    \n",
    "    #省略\n",
    "        \n",
    "    def preprocessing(self):\n",
    "        df = self.horse_results.copy()\n",
    "\n",
    "        # 着順に数字以外の文字列が含まれているものを取り除く\n",
    "        df['着順'] = pd.to_numeric(df['着順'], errors='coerce')\n",
    "        df.dropna(subset=['着順'], inplace=True)\n",
    "        df['着順'] = df['着順'].astype(int)\n",
    "\n",
    "        df[\"date\"] = pd.to_datetime(df[\"日付\"])\n",
    "        df.drop(['日付'], axis=1, inplace=True)\n",
    "        \n",
    "        #賞金のNaNを0で埋める\n",
    "        df['賞金'].fillna(0, inplace=True)\n",
    "        \n",
    "        #1着の着差を0にする\n",
    "        df['着差'] = df['着差'].map(lambda x: 0 if x<0 else x)\n",
    "        \n",
    "        #レース展開データ\n",
    "        #n=1: 最初のコーナー位置, n=4: 最終コーナー位置\n",
    "        def corner(x, n):\n",
    "            if type(x) != str:\n",
    "                return x\n",
    "            elif n==4:\n",
    "                return int(re.findall(r'\\d+', x)[-1])\n",
    "            elif n==1:\n",
    "                return int(re.findall(r'\\d+', x)[0])\n",
    "        df['first_corner'] = df['通過'].map(lambda x: corner(x, 1))\n",
    "        df['final_corner'] = df['通過'].map(lambda x: corner(x, 4))\n",
    "        \n",
    "        df['final_to_rank'] = df['final_corner'] - df['着順']\n",
    "        df['first_to_rank'] = df['first_corner'] - df['着順']\n",
    "        df['first_to_final'] = df['first_corner'] - df['final_corner']\n",
    "        \n",
    "        #開催場所\n",
    "        df['開催'] = df['開催'].str.extract(r'(\\D+)')[0].map(place_dict).fillna('11')\n",
    "        #race_type\n",
    "        df['race_type'] = df['距離'].str.extract(r'(\\D+)')[0].map(race_type_dict)\n",
    "        #距離\n",
    "        df['course_len'] = df['距離'].str.extract(r'(\\d+)').astype(int) // 100\n",
    "        df.drop(['距離'], axis=1, inplace=True)\n",
    "        \n",
    "        #インデックス名を与える\n",
    "        df.index.name = 'horse_id'\n",
    "    \n",
    "        self.horse_results = df\n",
    "        self.target_list = ['着順', '賞金', '着差', 'first_corner',\n",
    "                            'first_to_rank', 'first_to_final','final_to_rank']\n",
    "        \n",
    "        \n",
    "    def average(self, horse_id_list, date, n_samples='all'):\n",
    "        target_df = self.horse_results.query('index in @horse_id_list')\n",
    "        \n",
    "        #過去何走分取り出すか指定\n",
    "        if n_samples == 'all':\n",
    "            filtered_df = target_df[target_df['date'] < date]\n",
    "        elif n_samples > 0:\n",
    "            filtered_df = target_df[target_df['date'] < date].\\\n",
    "                sort_values('date', ascending=False).groupby(level=0).head(n_samples)\n",
    "        else:\n",
    "            raise Exception('n_samples must be >0')\n",
    "          \n",
    "        self.average_dict = {}\n",
    "        self.average_dict['non_category'] = filtered_df.groupby(level=0)[self.target_list]\\\n",
    "            .mean().add_suffix('_{}R'.format(n_samples))\n",
    "        for column in ['course_len', 'race_type', '開催']:\n",
    "            self.average_dict[column] = filtered_df.groupby(['horse_id', column])\\\n",
    "                [self.target_list].mean().add_suffix('_{}_{}R'.format(column, n_samples))\n",
    "\n",
    "    \n",
    "    def merge(self, results, date, n_samples='all'):\n",
    "        df = results[results['date']==date]\n",
    "        horse_id_list = df['horse_id']\n",
    "        self.average(horse_id_list, date, n_samples)\n",
    "        merged_df = df.merge(self.average_dict['non_category'], left_on='horse_id',\n",
    "                             right_index=True, how='left')\n",
    "        for column in ['course_len','race_type', '開催']:\n",
    "            merged_df = merged_df.merge(self.average_dict[column], \n",
    "                                        left_on=['horse_id', column],\n",
    "                                        right_index=True, how='left')\n",
    "        return merged_df\n",
    "    \n",
    "    def merge_all(self, results, n_samples='all'):\n",
    "        date_list = results['date'].unique()\n",
    "        merged_df = pd.concat(\n",
    "            [self.merge(results, date, n_samples) for date in tqdm(date_list)]\n",
    "        )\n",
    "        return merged_df\n",
    "\n",
    "class Return:\n",
    "\n",
    "    def __init__(self, return_tables):\n",
    "        self.return_tables = return_tables\n",
    "    \n",
    "    @classmethod\n",
    "    def read_pickle(cls, path_list):\n",
    "        df = pd.concat([pd.read_pickle(path) for path in path_list])\n",
    "        return cls(df)\n",
    "\n",
    "    @staticmethod\n",
    "    def scrape(race_id_list):\n",
    "        \"\"\"\n",
    "        払い戻し表データをスクレイピングする関数\n",
    "\n",
    "        Parameters:\n",
    "        ----------\n",
    "        race_id_list : list\n",
    "            レースIDのリスト\n",
    "\n",
    "        Returns:\n",
    "        ----------\n",
    "        return_tables_df : pandas.DataFrame\n",
    "            全払い戻し表データをまとめてDataFrame型にしたもの\n",
    "        \"\"\"\n",
    "\n",
    "        return_tables = {}\n",
    "        for race_id in tqdm(race_id_list):\n",
    "            try:\n",
    "                url = \"https://db.netkeiba.com/race/\" + race_id\n",
    "\n",
    "                #普通にスクレイピングすると複勝やワイドなどが区切られないで繋がってしまう。\n",
    "                #そのため、改行コードを文字列brに変換して後でsplitする\n",
    "                f = urllib.request.urlopen(url)\n",
    "                html = f.read()\n",
    "                html = html.replace(b'<br />', b'br')\n",
    "                dfs = pd.read_html(html)\n",
    "\n",
    "                #dfsの1番目に単勝〜馬連、2番目にワイド〜三連単がある\n",
    "                df = pd.concat([dfs[1], dfs[2]])\n",
    "\n",
    "                df.index = [race_id] * len(df)\n",
    "                return_tables[race_id] = df\n",
    "                time.sleep(0.5)\n",
    "            except IndexError:\n",
    "                continue\n",
    "            except Exception as e:\n",
    "                print(e)\n",
    "                break\n",
    "            except:\n",
    "                break\n",
    "\n",
    "        #pd.DataFrame型にして一つのデータにまとめる\n",
    "        return_tables_df = pd.concat([return_tables[key] for key in return_tables])\n",
    "        return return_tables_df\n",
    "    \n",
    "    \n",
    "    \n",
    "   \n",
    "    @property\n",
    "    def fukusho(self):\n",
    "        fukusho = self.return_tables[self.return_tables[0]=='複勝'][[1,2]]\n",
    "        wins = fukusho[1].str.split('br', expand=True)[[0,1,2]]\n",
    "        \n",
    "        wins.columns = ['win_0', 'win_1', 'win_2']\n",
    "        returns = fukusho[2].str.split('br', expand=True)[[0,1,2]]\n",
    "        returns.columns = ['return_0', 'return_1', 'return_2']\n",
    "        \n",
    "        df = pd.concat([wins, returns], axis=1)\n",
    "        for column in df.columns:\n",
    "            df[column] = df[column].str.replace(',', '')\n",
    "        return df.fillna(0).astype(int)\n",
    "    \n",
    "    @property\n",
    "    def tansho(self):\n",
    "        tansho = self.return_tables[self.return_tables[0]=='単勝'][[1,2]]\n",
    "        tansho.columns = ['win', 'return']\n",
    "        \n",
    "        for column in tansho.columns:\n",
    "            tansho[column] = pd.to_numeric(tansho[column], errors='coerce')\n",
    "            \n",
    "        return tansho\n",
    "    \n",
    "    @property\n",
    "    def umaren(self):\n",
    "        umaren = self.return_tables[self.return_tables[0]=='馬連'][[1,2]]\n",
    "        wins = umaren[1].str.split('-', expand=True)[[0,1]].add_prefix('win_')\n",
    "        return_ = umaren[2].rename('return')  \n",
    "        df = pd.concat([wins, return_], axis=1)        \n",
    "        return df.apply(lambda x: pd.to_numeric(x, errors='coerce'))\n",
    "    \n",
    "    @property\n",
    "    def umatan(self):\n",
    "        umatan = self.return_tables[self.return_tables[0]=='馬単'][[1,2]]\n",
    "        wins = umatan[1].str.split('→', expand=True)[[0,1]].add_prefix('win_')\n",
    "        return_ = umatan[2].rename('return')  \n",
    "        df = pd.concat([wins, return_], axis=1)        \n",
    "        return df.apply(lambda x: pd.to_numeric(x, errors='coerce'))\n",
    "    \n",
    "    @property\n",
    "    def wide(self):\n",
    "        wide = self.return_tables[self.return_tables[0]=='ワイド'][[1,2]]\n",
    "        wins = wide[1].str.split('br', expand=True)[[0,1,2]]\n",
    "        wins = wins.stack().str.split('-', expand=True).add_prefix('win_')\n",
    "        return_ = wide[2].str.split('br', expand=True)[[0,1,2]]\n",
    "        return_ = return_.stack().rename('return')\n",
    "        df = pd.concat([wins, return_], axis=1)\n",
    "        return df.apply(lambda x: pd.to_numeric(x.str.replace(',',''), errors='coerce'))\n",
    "    \n",
    "    @property\n",
    "    def sanrentan(self):\n",
    "        rentan = self.return_tables[self.return_tables[0]=='三連単'][[1,2]]\n",
    "        wins = rentan[1].str.split('→', expand=True)[[0,1,2]].add_prefix('win_')\n",
    "        return_ = rentan[2].rename('return')\n",
    "        df = pd.concat([wins, return_], axis=1) \n",
    "        return df.apply(lambda x: pd.to_numeric(x, errors='coerce'))\n",
    "    \n",
    "    @property\n",
    "    def sanrenpuku(self):\n",
    "        renpuku = self.return_tables[self.return_tables[0]=='三連複'][[1,2]]\n",
    "        wins = renpuku[1].str.split('-', expand=True)[[0,1,2]].add_prefix('win_')\n",
    "        return_ = renpuku[2].rename('return')\n",
    "        df = pd.concat([wins, return_], axis=1) \n",
    "        return df.apply(lambda x: pd.to_numeric(x, errors='coerce'))\n",
    "    \n",
    "class ModelEvaluator:\n",
    "\n",
    "    \n",
    "    def __init__(self, model, return_tables):\n",
    "        self.model = model\n",
    "        self.rt = Return(return_tables)\n",
    "        self.fukusho = self.rt.fukusho\n",
    "        self.tansho = self.rt.tansho\n",
    "        self.umaren = self.rt.umaren\n",
    "        self.umatan = self.rt.umatan\n",
    "        self.wide = self.rt.wide\n",
    "        self.sanrenpuku = self.rt.sanrenpuku\n",
    "        self.sanrentan = self.rt.sanrentan\n",
    "\n",
    "    \n",
    "    #3着以内に入る確率を予測\n",
    "    def predict_proba(self, X, train=True, std=True, minmax=False):\n",
    "        if train:\n",
    "            proba = pd.Series(\n",
    "                self.model.predict_proba(X.drop(['単勝'], axis=1))[:, 1], index=X.index\n",
    "            )\n",
    "        else:\n",
    "            proba = pd.Series(\n",
    "                self.model.predict_proba(X, axis=1)[:, 1], index=X.index\n",
    "            )\n",
    "        if std:\n",
    "            #レース内で標準化して、相対評価する。「レース内偏差値」みたいなもの。\n",
    "            standard_scaler = lambda x: (x - x.mean()) / x.std()\n",
    "            proba = proba.groupby(level=0).transform(standard_scaler)\n",
    "        if minmax:\n",
    "            #データ全体を0~1にする\n",
    "            proba = (proba - proba.min()) / (proba.max() - proba.min())\n",
    "        return proba\n",
    "    \n",
    "    #0か1かを予測\n",
    "    def predict(self, X, threshold=0.5):\n",
    "        y_pred = self.predict_proba(X)\n",
    "        self.proba = y_pred\n",
    "        return [0 if p<threshold else 1 for p in y_pred]\n",
    "    \n",
    "    def score(self, y_true, X):\n",
    "        return roc_auc_score(y_true, self.predict_proba(X))\n",
    "    \n",
    "    def feature_importance(self, X, n_display=20):\n",
    "        importances = pd.DataFrame({\"features\": X.columns, \n",
    "                                    \"importance\": self.model.feature_importances_})\n",
    "        return importances.sort_values(\"importance\", ascending=False)[:n_display]\n",
    "    \n",
    "    def pred_table(self, X, threshold=0.5, bet_only=True):\n",
    "        pred_table = X.copy()[['馬番', '単勝']]\n",
    "        pred_table['pred'] = self.predict(X, threshold)\n",
    "        pred_table['score'] = self.proba\n",
    "        if bet_only:\n",
    "            return pred_table[pred_table['pred']==1][['馬番', '単勝', 'score','pred']]\n",
    "        else:\n",
    "            return pred_table[['馬番', '単勝', 'score', 'pred']]\n",
    "        \n",
    "    def bet(self, race_id, kind, umaban, amount):\n",
    "        if kind == 'fukusho':\n",
    "            rt_1R = self.fukusho.loc[race_id]\n",
    "            return_ = (rt_1R[['win_0', 'win_1', 'win_2']]==umaban).values * \\\n",
    "                rt_1R[['return_0', 'return_1', 'return_2']].values * amount/100\n",
    "            return_ = np.sum(return_)\n",
    "        if kind == 'tansho':\n",
    "            rt_1R = self.tansho.loc[race_id]\n",
    "            return_ = (rt_1R['win']==umaban) * rt_1R['return'] * amount/100\n",
    "        if kind == 'umaren':\n",
    "            rt_1R = self.umaren.loc[race_id]\n",
    "            return_ = (set(rt_1R[['win_0', 'win_1']]) == set(umaban)) \\\n",
    "                * rt_1R['return']/100 * amount\n",
    "        if kind == 'umatan':\n",
    "            rt_1R = self.umatan.loc[race_id]\n",
    "            return_ = (list(rt_1R[['win_0', 'win_1']]) == list(umaban))\\\n",
    "                * rt_1R['return']/100 * amount\n",
    "        if kind == 'wide':\n",
    "            rt_1R = self.wide.loc[race_id]\n",
    "            return_ = (rt_1R[['win_0', 'win_1']].\\\n",
    "                           apply(lambda x: set(x)==set(umaban), axis=1)) \\\n",
    "                * rt_1R['return']/100 * amount\n",
    "            return_ = return_.sum()\n",
    "        if kind == 'sanrentan':\n",
    "            rt_1R = self.sanrentan.loc[race_id]\n",
    "            return_ = (list(rt_1R[['win_0', 'win_1', 'win_2']]) == list(umaban)) * \\\n",
    "                rt_1R['return']/100 * amount\n",
    "        if kind == 'sanrenpuku':\n",
    "            rt_1R = self.sanrenpuku.loc[race_id]\n",
    "            return_ = (set(rt_1R[['win_0', 'win_1', 'win_2']]) == set(umaban)) \\\n",
    "                * rt_1R['return']/100 * amount\n",
    "        if not (return_ >= 0):\n",
    "                return_ = amount\n",
    "        return return_\n",
    "        \n",
    "    def fukusho_return(self, X, threshold=0.5):\n",
    "        pred_table = self.pred_table(X, threshold)\n",
    "        n_bets = len(pred_table)\n",
    "        \n",
    "        return_list = []\n",
    "        for race_id, preds in pred_table.groupby(level=0):\n",
    "            return_list.append(np.sum([\n",
    "                self.bet(race_id, 'fukusho', umaban, 1) for umaban in preds['馬番']\n",
    "            ]))\n",
    "        return_rate = np.sum(return_list) / n_bets\n",
    "        std = np.std(return_list) * np.sqrt(len(return_list)) / n_bets\n",
    "        n_hits = np.sum([x>0 for x in return_list])\n",
    "        return n_bets, return_rate, n_hits, std\n",
    "    \n",
    "    def tansho_return(self, X, threshold=0.5):\n",
    "        pred_table = self.pred_table(X, threshold)\n",
    "        self.sample = pred_table\n",
    "        n_bets = len(pred_table)\n",
    "        \n",
    "        return_list = []\n",
    "        for race_id, preds in pred_table.groupby(level=0):\n",
    "            return_list.append(\n",
    "                np.sum([self.bet(race_id, 'tansho', umaban, 1) for umaban in preds['馬番']])\n",
    "            )\n",
    "        \n",
    "        std = np.std(return_list) * np.sqrt(len(return_list)) / n_bets\n",
    "        \n",
    "        n_hits = np.sum([x>0 for x in return_list])\n",
    "        return_rate = np.sum(return_list) / n_bets\n",
    "        return n_bets, return_rate, n_hits, std\n",
    "    \n",
    "    def tansho_return_proper(self, X, threshold=0.5):\n",
    "        pred_table = self.pred_table(X, threshold)\n",
    "        n_bets = len(pred_table)\n",
    "        \n",
    "        return_list = []\n",
    "        for race_id, preds in pred_table.groupby(level=0):\n",
    "            return_list.append(\n",
    "                np.sum(preds.apply(lambda x: self.bet(\n",
    "                    race_id, 'tansho', x['馬番'], 1/x['単勝']), axis=1)))\n",
    "        \n",
    "        bet_money = (1 / pred_table['単勝']).sum()\n",
    "        \n",
    "        std = np.std(return_list) * np.sqrt(len(return_list)) / bet_money\n",
    "        \n",
    "        n_hits = np.sum([x>0 for x in return_list])\n",
    "        return_rate = np.sum(return_list) / bet_money\n",
    "        return n_bets, return_rate, n_hits, std\n",
    "    \n",
    "    def umaren_box(self, X, threshold=0.5, n_aite=5):\n",
    "        pred_table = self.pred_table(X, threshold)\n",
    "        n_bets = 0\n",
    "        \n",
    "        return_list = []\n",
    "        for race_id, preds in pred_table.groupby(level=0):\n",
    "            return_ = 0\n",
    "            preds_jiku = preds.query('pred == 1')\n",
    "            if len(preds_jiku) == 1:\n",
    "                continue\n",
    "            elif len(preds_jiku) >= 2:\n",
    "                for umaban in combinations(preds_jiku['馬番'], 2):\n",
    "                    return_ += self.bet(race_id, 'umaren', umaban, 1)\n",
    "                    n_bets += 1\n",
    "                return_list.append(return_)\n",
    "        \n",
    "        std = np.std(return_list) * np.sqrt(len(return_list)) / n_bets\n",
    "        \n",
    "        n_hits = np.sum([x>0 for x in return_list])\n",
    "        return_rate = np.sum(return_list) / n_bets\n",
    "        return n_bets, return_rate, n_hits, std\n",
    "    \n",
    "    def umatan_box(self, X, threshold=0.5, n_aite=5):\n",
    "        pred_table = self.pred_table(X, threshold, bet_only = False)\n",
    "        n_bets = 0\n",
    "        \n",
    "        return_list = []\n",
    "        for race_id, preds in pred_table.groupby(level=0):\n",
    "            return_ = 0\n",
    "            preds_jiku = preds.query('pred == 1')\n",
    "            if len(preds_jiku) == 1:\n",
    "                continue   \n",
    "            elif len(preds_jiku) >= 2:\n",
    "                for umaban in permutations(preds_jiku['馬番'], 2):\n",
    "                    return_ += self.bet(race_id, 'umatan', umaban, 1)\n",
    "                    n_bets += 1\n",
    "            return_list.append(return_)\n",
    "        \n",
    "        std = np.std(return_list) * np.sqrt(len(return_list)) / n_bets\n",
    "        \n",
    "        n_hits = np.sum([x>0 for x in return_list])\n",
    "        return_rate = np.sum(return_list) / n_bets\n",
    "        return n_bets, return_rate, n_hits, std\n",
    "    \n",
    "    def wide_box(self, X, threshold=0.5, n_aite=5):\n",
    "        pred_table = self.pred_table(X, threshold, bet_only = False)\n",
    "        n_bets = 0\n",
    "        \n",
    "        return_list = []\n",
    "        for race_id, preds in pred_table.groupby(level=0):\n",
    "            return_ = 0\n",
    "            preds_jiku = preds.query('pred == 1')\n",
    "            if len(preds_jiku) == 1:\n",
    "                continue\n",
    "            elif len(preds_jiku) >= 2:\n",
    "                for umaban in combinations(preds_jiku['馬番'], 2):\n",
    "                    return_ += self.bet(race_id, 'wide', umaban, 1)\n",
    "                    n_bets += 1\n",
    "                return_list.append(return_)\n",
    "        \n",
    "        std = np.std(return_list) * np.sqrt(len(return_list)) / n_bets\n",
    "        \n",
    "        n_hits = np.sum([x>0 for x in return_list])\n",
    "        return_rate = np.sum(return_list) / n_bets\n",
    "        return n_bets, return_rate, n_hits, std  \n",
    "        \n",
    "    def sanrentan_box(self, X, threshold=0.5):\n",
    "        pred_table = self.pred_table(X, threshold)\n",
    "        n_bets = 0\n",
    "        \n",
    "        return_list = []\n",
    "        for race_id, preds in pred_table.groupby(level=0):\n",
    "            return_ = 0\n",
    "            if len(preds)<3:\n",
    "                continue\n",
    "            else:\n",
    "                for umaban in permutations(preds['馬番'], 3):\n",
    "                    return_ += self.bet(race_id, 'sanrentan', umaban, 1)\n",
    "                    n_bets += 1\n",
    "                return_list.append(return_)\n",
    "        \n",
    "        std = np.std(return_list) * np.sqrt(len(return_list)) / n_bets\n",
    "        \n",
    "        n_hits = np.sum([x>0 for x in return_list])\n",
    "        return_rate = np.sum(return_list) / n_bets\n",
    "        return n_bets, return_rate, n_hits, std\n",
    "    \n",
    "    def sanrenpuku_box(self, X, threshold=0.5):\n",
    "        pred_table = self.pred_table(X, threshold)\n",
    "        n_bets = 0\n",
    "        \n",
    "        return_list = []\n",
    "        for race_id, preds in pred_table.groupby(level=0):\n",
    "            return_ = 0\n",
    "            if len(preds)<3:\n",
    "                continue\n",
    "            else:\n",
    "                for umaban in combinations(preds['馬番'], 3):\n",
    "                    return_ += self.bet(race_id, 'sanrenpuku', umaban, 1)\n",
    "                    n_bets += 1\n",
    "                return_list.append(return_)\n",
    "        \n",
    "        std = np.std(return_list) * np.sqrt(len(return_list)) / n_bets\n",
    "        \n",
    "        n_hits = np.sum([x>0 for x in return_list])\n",
    "        return_rate = np.sum(return_list) / n_bets\n",
    "        return n_bets, return_rate, n_hits, std\n",
    "    \n",
    "    def umaren_nagashi(self, X, threshold=0.5, n_aite=5):\n",
    "        pred_table = self.pred_table(X, threshold, bet_only = False)\n",
    "        n_bets = 0\n",
    "        \n",
    "        return_list = []\n",
    "        for race_id, preds in pred_table.groupby(level=0):\n",
    "            return_ = 0\n",
    "            preds_jiku = preds.query('pred == 1')\n",
    "            if len(preds_jiku) == 1:\n",
    "                preds_aite = preds.sort_values('score', ascending = False)\\\n",
    "                    .iloc[1:(n_aite+1)]['馬番']\n",
    "                return_ = preds_aite.map(\n",
    "                    lambda x: self.bet(\n",
    "                        race_id, 'umaren', [preds_jiku['馬番'].values[0], x], 1\n",
    "                    )\n",
    "                ).sum()\n",
    "                n_bets += n_aite\n",
    "                return_list.append(return_)\n",
    "            elif len(preds_jiku) >= 2:\n",
    "                for umaban in combinations(preds_jiku['馬番'], 2):\n",
    "                    return_ += self.bet(race_id, 'umaren', umaban, 1)\n",
    "                    n_bets += 1\n",
    "                return_list.append(return_)\n",
    "        \n",
    "        std = np.std(return_list) * np.sqrt(len(return_list)) / n_bets\n",
    "        \n",
    "        n_hits = np.sum([x>0 for x in return_list])\n",
    "        return_rate = np.sum(return_list) / n_bets\n",
    "        return n_bets, return_rate, n_hits, std\n",
    "    \n",
    "    def umatan_nagashi(self, X, threshold=0.5, n_aite=5):\n",
    "        pred_table = self.pred_table(X, threshold, bet_only = False)\n",
    "        n_bets = 0\n",
    "        \n",
    "        return_list = []\n",
    "        for race_id, preds in pred_table.groupby(level=0):\n",
    "            return_ = 0\n",
    "            preds_jiku = preds.query('pred == 1')\n",
    "            if len(preds_jiku) == 1:\n",
    "                preds_aite = preds.sort_values('score', ascending = False)\\\n",
    "                    .iloc[1:(n_aite+1)]['馬番']\n",
    "                return_ = preds_aite.map(\n",
    "                    lambda x: self.bet(\n",
    "                        race_id, 'umatan', [preds_jiku['馬番'].values[0], x], 1\n",
    "                    )\n",
    "                ).sum()\n",
    "                n_bets += n_aite\n",
    "                \n",
    "            elif len(preds_jiku) >= 2:\n",
    "                for umaban in permutations(preds_jiku['馬番'], 2):\n",
    "                    return_ += self.bet(race_id, 'umatan', umaban, 1)\n",
    "                    n_bets += 1\n",
    "            return_list.append(return_)\n",
    "        \n",
    "        std = np.std(return_list) * np.sqrt(len(return_list)) / n_bets\n",
    "        \n",
    "        n_hits = np.sum([x>0 for x in return_list])\n",
    "        return_rate = np.sum(return_list) / n_bets\n",
    "        return n_bets, return_rate, n_hits, std\n",
    "    \n",
    "    def wide_nagashi(self, X, threshold=0.5, n_aite=5):\n",
    "        pred_table = self.pred_table(X, threshold, bet_only = False)\n",
    "        n_bets = 0\n",
    "        \n",
    "        return_list = []\n",
    "        for race_id, preds in pred_table.groupby(level=0):\n",
    "            return_ = 0\n",
    "            preds_jiku = preds.query('pred == 1')\n",
    "            if len(preds_jiku) == 1:\n",
    "                preds_aite = preds.sort_values('score', ascending = False)\\\n",
    "                    .iloc[1:(n_aite+1)]['馬番']\n",
    "                return_ = preds_aite.map(\n",
    "                    lambda x: self.bet(\n",
    "                        race_id, 'wide', [preds_jiku['馬番'].values[0], x], 1\n",
    "                    )\n",
    "                ).sum()\n",
    "                n_bets += len(preds_aite)\n",
    "                return_list.append(return_)\n",
    "            elif len(preds_jiku) >= 2:\n",
    "                for umaban in combinations(preds_jiku['馬番'], 2):\n",
    "                    return_ += self.bet(race_id, 'wide', umaban, 1)\n",
    "                    n_bets += 1\n",
    "                return_list.append(return_)\n",
    "        \n",
    "        std = np.std(return_list) * np.sqrt(len(return_list)) / n_bets\n",
    "        \n",
    "        n_hits = np.sum([x>0 for x in return_list])\n",
    "        return_rate = np.sum(return_list) / n_bets\n",
    "        return n_bets, return_rate, n_hits, std\n",
    "    \n",
    "    def sanrentan_nagashi(self, X, threshold = 1.5, n_aite=7):\n",
    "        pred_table = self.pred_table(X, threshold, bet_only = False)\n",
    "        n_bets = 0\n",
    "        return_list = []\n",
    "        for race_id, preds in pred_table.groupby(level=0):\n",
    "            preds_jiku = preds.query('pred == 1')\n",
    "            if len(preds_jiku) == 1:\n",
    "                continue\n",
    "            elif len(preds_jiku) == 2:\n",
    "                preds_aite = preds.sort_values('score', ascending = False)\\\n",
    "                    .iloc[2:(n_aite+2)]['馬番']\n",
    "                return_ = preds_aite.map(\n",
    "                    lambda x: self.bet(\n",
    "                        race_id, 'sanrentan',\n",
    "                        np.append(preds_jiku['馬番'].values, x),\n",
    "                        1\n",
    "                    )\n",
    "                ).sum()\n",
    "                n_bets += len(preds_aite)\n",
    "                return_list.append(return_)\n",
    "            elif len(preds_jiku) >= 3:\n",
    "                return_ = 0\n",
    "                for umaban in permutations(preds_jiku['馬番'], 3):\n",
    "                    return_ += self.bet(race_id, 'sanrentan', umaban, 1)\n",
    "                    n_bets += 1\n",
    "                return_list.append(return_)\n",
    "        \n",
    "        std = np.std(return_list) * np.sqrt(len(return_list)) / n_bets\n",
    "        \n",
    "        n_hits = np.sum([x>0 for x in return_list])\n",
    "        return_rate = np.sum(return_list) / n_bets\n",
    "        return n_bets, return_rate, n_hits, std\n",
    "    \n",
    "class DataProcessor:\n",
    "    \n",
    "    def __init__(self):\n",
    "        self.data = pd.DataFrame() #raw data\n",
    "        self.data_p = pd.DataFrame() #after preprocessing\n",
    "        self.data_h = pd.DataFrame() #after merging horse_results\n",
    "        self.data_pe = pd.DataFrame() #after merging peds\n",
    "        self.data_c = pd.DataFrame() #after processing categorical features\n",
    "        \n",
    "    #馬の過去成績データの追加\n",
    "    def merge_horse_results(self, hr, n_samples_list=[5, 9, 'all']):\n",
    "        self.data_h = self.data_p.copy()\n",
    "        for n_samples in n_samples_list:\n",
    "            self.data_h = hr.merge_all(self.data_h, n_samples=n_samples)\n",
    "        self.data_h.drop(['開催'], axis=1, inplace=True)\n",
    "            \n",
    "    #血統データ追加\n",
    "    def merge_peds(self, peds):\n",
    "        self.data_pe = \\\n",
    "            self.data_h.merge(peds, left_on='horse_id', right_index=True,\n",
    "                                                             how='left')\n",
    "        self.no_peds = self.data_pe[self.data_pe['peds_0'].isnull()]\\\n",
    "            ['horse_id'].unique()\n",
    "        if len(self.no_peds) > 0:\n",
    "            print('scrape peds at horse_id_list \"no_peds\"')\n",
    "            \n",
    "        #カテゴリ変数の処理\n",
    "    def process_categorical(self, le_horse, le_jockey, results_m):\n",
    "        df = self.data_pe.copy()\n",
    "        \n",
    "        #ラベルエンコーディング。horse_id, jockey_idを0始まりの整数に変換\n",
    "        mask_horse = df['horse_id'].isin(le_horse.classes_)\n",
    "        new_horse_id = df['horse_id'].mask(mask_horse).dropna().unique()\n",
    "        le_horse.classes_ = np.concatenate([le_horse.classes_, new_horse_id])\n",
    "        df['horse_id'] = le_horse.transform(df['horse_id'])\n",
    "        mask_jockey = df['jockey_id'].isin(le_jockey.classes_)\n",
    "        new_jockey_id = df['jockey_id'].mask(mask_jockey).dropna().unique()\n",
    "        le_jockey.classes_ = np.concatenate([le_jockey.classes_, new_jockey_id])\n",
    "        df['jockey_id'] = le_jockey.transform(df['jockey_id'])\n",
    "        \n",
    "        #horse_id, jockey_idをpandasのcategory型に変換\n",
    "        df['horse_id'] = df['horse_id'].astype('category')\n",
    "        df['jockey_id'] = df['jockey_id'].astype('category')\n",
    "        \n",
    "        #そのほかのカテゴリ変数をpandasのcategory型に変換してからダミー変数化\n",
    "        #列を一定にするため\n",
    "        weathers = results_m['weather'].unique()\n",
    "        race_types = results_m['race_type'].unique()\n",
    "        ground_states = results_m['ground_state'].unique()\n",
    "        sexes = results_m['性'].unique()\n",
    "        df['weather'] = pd.Categorical(df['weather'], weathers)\n",
    "        df['race_type'] = pd.Categorical(df['race_type'], race_types)\n",
    "        df['ground_state'] = pd.Categorical(df['ground_state'], ground_states)\n",
    "        df['性'] = pd.Categorical(df['性'], sexes)\n",
    "        df = pd.get_dummies(df, columns=['weather', 'race_type', 'ground_state', '性'])\n",
    "        \n",
    "        self.data_c = df    \n",
    "    \n",
    "class ShutubaTable(DataProcessor):\n",
    "    def __init__(self, shutuba_tables):\n",
    "        super(ShutubaTable, self).__init__()\n",
    "        self.data = shutuba_tables\n",
    "    \n",
    "    @classmethod\n",
    "    def scrape(cls, race_id_list, date):\n",
    "        data = pd.DataFrame()\n",
    "        for race_id in tqdm(race_id_list):\n",
    "            url = 'https://race.netkeiba.com/race/shutuba.html?race_id=' + race_id\n",
    "            df = pd.read_html(url)[0]\n",
    "            df = df.T.reset_index(level=0, drop=True).T\n",
    "\n",
    "            html = requests.get(url)\n",
    "            html.encoding = \"EUC-JP\"\n",
    "            soup = BeautifulSoup(html.text, \"html.parser\")\n",
    "\n",
    "            texts = soup.find('div', attrs={'class': 'RaceData01'}).text\n",
    "            texts = re.findall(r'\\w+', texts)\n",
    "            for text in texts:\n",
    "                if 'm' in text:\n",
    "                    df['course_len'] = [int(re.findall(r'\\d+', text)[0])] * len(df)\n",
    "                if text in [\"曇\", \"晴\", \"雨\", \"小雨\", \"小雪\", \"雪\"]:\n",
    "                    df[\"weather\"] = [text] * len(df)\n",
    "                if text in [\"良\", \"稍重\", \"重\",\"稍\"]:\n",
    "                    df[\"ground_state\"] = [text] * len(df)\n",
    "                if '不' in text:\n",
    "                    df[\"ground_state\"] = ['不良'] * len(df)\n",
    "                if '芝' in text:\n",
    "                    df['race_type'] = ['芝'] * len(df)\n",
    "                if '障' in text:\n",
    "                    df['race_type'] = ['障害'] * len(df)\n",
    "                if 'ダ' in text:\n",
    "                    df['race_type'] = ['ダート'] * len(df)\n",
    "            df['date'] = [date] * len(df)\n",
    "\n",
    "            # horse_id\n",
    "            horse_id_list = []\n",
    "            horse_td_list = soup.find_all(\"td\", attrs={'class': 'HorseInfo'})\n",
    "            for td in horse_td_list:\n",
    "                horse_id = re.findall(r'\\d+', td.find('a')['href'])[0]\n",
    "                horse_id_list.append(horse_id)\n",
    "            # jockey_id\n",
    "            jockey_id_list = []\n",
    "            jockey_td_list = soup.find_all(\"td\", attrs={'class': 'Jockey'})\n",
    "            for td in jockey_td_list:\n",
    "                jockey_id = re.findall(r'\\d+', td.find('a')['href'])[0]\n",
    "                jockey_id_list.append(jockey_id)\n",
    "            df['horse_id'] = list(map(lambda x: int(x),horse_id_list)) \n",
    "            df['jockey_id'] = jockey_id_list\n",
    "\n",
    "            df.index = [race_id] * len(df)\n",
    "#             win 環境だとなぜかintに直せない.floatならつかえる\n",
    "            df.index = df.index.astype(float)\n",
    "            data = data.append(df)\n",
    "\n",
    "            \n",
    "        return data\n",
    "                \n",
    "    def preprocessing(self):\n",
    "        df = self.data.copy()\n",
    "        \n",
    "        df[\"性\"] = df[\"性齢\"].map(lambda x: str(x)[0])\n",
    "        df[\"年齢\"] = df[\"性齢\"].map(lambda x: str(x)[1:]).astype(int)\n",
    "\n",
    "        # 馬体重を体重と体重変化に分ける\n",
    "        df = df[df[\"馬体重(増減)\"] != '--']\n",
    "        df[\"体重\"] = df[\"馬体重(増減)\"].str.split(\"(\", expand=True)[0].astype(int)\n",
    "        df[\"体重変化\"] = df[\"馬体重(増減)\"].str.split(\"(\", expand=True)[1].str[:-1].astype(int)\n",
    "        \n",
    "        df[\"date\"] = pd.to_datetime(df[\"date\"])\n",
    "        \n",
    "        df['枠'] = df['枠'].astype(int)\n",
    "        df['馬番'] = df['馬番'].astype(int)\n",
    "        df['斤量'] = df['斤量'].astype(int)\n",
    "        df['開催'] = df.index.map(lambda x:str(x)[4:6])\n",
    "        df['n_horse'] = df.index.map(lambda x: len(df.loc[x]))\n",
    "\n",
    "        # 不要な列を削除\n",
    "        df = df[['枠', '馬番', '斤量', 'course_len', 'weather','race_type',\n",
    "        'ground_state', 'date', 'horse_id', 'jockey_id', '性', '年齢',\n",
    "       '体重', '体重変化','開催','n_horse']]\n",
    "        \n",
    "        self.data_p = df.rename(columns={'枠': '枠番'})\n",
    "        \n",
    "class Results(DataProcessor):\n",
    "    def __init__(self, results):\n",
    "        super(Results, self).__init__()\n",
    "        self.data = results\n",
    "        \n",
    "        \n",
    "    @staticmethod\n",
    "    def scrape(race_id_list):\n",
    "        #race_idをkeyにしてDataFrame型を格納\n",
    "        race_results = {}\n",
    "        for race_id in tqdm(race_id_list):\n",
    "            time.sleep(0.5)\n",
    "            try:\n",
    "                url = \"https://db.netkeiba.com/race/\" + race_id\n",
    "                #メインとなるテーブルデータを取得\n",
    "                df = pd.read_html(url)[0]\n",
    "                html = requests.get(url)\n",
    "                html.encoding = \"EUC-JP\"\n",
    "                soup = BeautifulSoup(html.text, \"html.parser\")\n",
    "\n",
    "                #天候、レースの種類、コースの長さ、馬場の状態、日付をスクレイピング\n",
    "                texts = (\n",
    "                    soup.find(\"div\", attrs={\"class\": \"data_intro\"}).find_all(\"p\")[0].text\n",
    "                    + soup.find(\"div\", attrs={\"class\": \"data_intro\"}).find_all(\"p\")[1].text\n",
    "                )\n",
    "                info = re.findall(r'\\w+', texts)\n",
    "                for text in info:\n",
    "                    if text in [\"芝\", \"ダート\"]:\n",
    "                        df[\"race_type\"] = [text] * len(df)\n",
    "                    if \"障\" in text:\n",
    "                        df[\"race_type\"] = [\"障害\"] * len(df)\n",
    "                    if \"m\" in text:\n",
    "                        df[\"course_len\"] = [int(re.findall(r\"\\d+\", text)[0])] * len(df)\n",
    "                    if text in [\"良\", \"稍重\", \"重\", \"不良\"]:\n",
    "                        df[\"ground_state\"] = [text] * len(df)\n",
    "                    if text in [\"曇\", \"晴\", \"雨\", \"小雨\", \"小雪\", \"雪\"]:\n",
    "                        df[\"weather\"] = [text] * len(df)\n",
    "                    if \"年\" in text:\n",
    "                        df[\"date\"] = [text] * len(df)\n",
    "\n",
    "                #馬ID、騎手IDをスクレイピング\n",
    "                horse_id_list = []\n",
    "                horse_a_list = soup.find(\"table\", attrs={\"summary\": \"レース結果\"}).find_all(\n",
    "                    \"a\", attrs={\"href\": re.compile(\"^/horse\")}\n",
    "                )\n",
    "                for a in horse_a_list:\n",
    "                    horse_id = re.findall(r\"\\d+\", a[\"href\"])\n",
    "                    horse_id_list.append(horse_id[0])\n",
    "                jockey_id_list = []\n",
    "                jockey_a_list = soup.find(\"table\", attrs={\"summary\": \"レース結果\"}).find_all(\n",
    "                    \"a\", attrs={\"href\": re.compile(\"^/jockey\")}\n",
    "                )\n",
    "                for a in jockey_a_list:\n",
    "                    jockey_id = re.findall(r\"\\d+\", a[\"href\"])\n",
    "                    jockey_id_list.append(jockey_id[0])\n",
    "                df[\"horse_id\"] = horse_id_list\n",
    "                df[\"jockey_id\"] = jockey_id_list\n",
    "\n",
    "                #インデックスをrace_idにする\n",
    "                df.index = [race_id] * len(df)\n",
    "\n",
    "                race_results[race_id] = df\n",
    "            #存在しないrace_idを飛ばす\n",
    "            except IndexError:\n",
    "                continue\n",
    "            #wifiの接続が切れた時などでも途中までのデータを返せるようにする\n",
    "            except Exception as e:\n",
    "                print(e)\n",
    "                break\n",
    "            #Jupyterで停止ボタンを押した時の対処\n",
    "            except:\n",
    "                break\n",
    "\n",
    "        #pd.DataFrame型にして一つのデータにまとめる\n",
    "        race_results_df = pd.concat([race_results[key] for key in race_results])\n",
    "\n",
    "        return race_results_df\n",
    "        \n",
    "    #前処理    \n",
    "    def preprocessing(self):\n",
    "        df = self.data.copy()\n",
    "\n",
    "        # 着順に数字以外の文字列が含まれているものを取り除く\n",
    "        df['着順'] = pd.to_numeric(df['着順'], errors='coerce')\n",
    "        df.dropna(subset=['着順'], inplace=True)\n",
    "        df['着順'] = df['着順'].astype(int)\n",
    "        df['rank'] = df['着順'].map(lambda x:1 if x<4 else 0)\n",
    "\n",
    "        # 性齢を性と年齢に分ける\n",
    "        df[\"性\"] = df[\"性齢\"].map(lambda x: str(x)[0])\n",
    "        df[\"年齢\"] = df[\"性齢\"].map(lambda x: str(x)[1:]).astype(int)\n",
    "\n",
    "        # 馬体重を体重と体重変化に分ける\n",
    "        df[\"体重\"] = df[\"馬体重\"].str.split(\"(\", expand=True)[0].astype(int)\n",
    "        df[\"体重変化\"] = df[\"馬体重\"].str.split(\"(\", expand=True)[1].str[:-1].astype(int)\n",
    "\n",
    "        # データをint, floatに変換\n",
    "        df[\"単勝\"] = df[\"単勝\"].astype(float)\n",
    "        df[\"course_len\"] = df[\"course_len\"].astype(float) // 100\n",
    "\n",
    "        # 不要な列を削除\n",
    "        df.drop([\"タイム\", \"着差\", \"調教師\", \"性齢\", \"馬体重\", '馬名', '騎手', '人気', '着順'],\n",
    "                axis=1, inplace=True)\n",
    "\n",
    "        df[\"date\"] = pd.to_datetime(df[\"date\"], format=\"%Y年%m月%d日\")\n",
    "        \n",
    "        #開催場所\n",
    "        df['開催'] = df.index.map(lambda x:str(x)[4:6])\n",
    "        df['n_horse'] = df.index.map(lambda x: len(df.loc[x]))\n",
    "        \n",
    "        self.data_p = df\n",
    "    \n",
    "    #カテゴリ変数の処理\n",
    "    def process_categorical(self):\n",
    "        self.le_horse = LabelEncoder().fit(self.data_pe['horse_id'])\n",
    "        self.le_jockey = LabelEncoder().fit(self.data_pe['jockey_id'])\n",
    "        super().process_categorical(self.le_horse, self.le_jockey, self.data_pe)\n",
    "        \n",
    "class Peds:\n",
    "\n",
    "    def __init__(self, peds):\n",
    "        self.peds = peds\n",
    "        self.peds_e = pd.DataFrame() #after label encoding and transforming into category\n",
    "    \n",
    "    @classmethod\n",
    "    def read_pickle(cls, path_list):\n",
    "        df = pd.concat([pd.read_pickle(path) for path in path_list])\n",
    "        return cls(df)\n",
    "    \n",
    "    @staticmethod\n",
    "    def scrape(horse_id_list):\n",
    "        peds_dict = {}\n",
    "        for horse_id in tqdm(horse_id_list):\n",
    "#         for horse_id in horse_id_list:\n",
    "            try:\n",
    "                url = \"https://db.netkeiba.com/horse/ped/\" + horse_id\n",
    "                df = pd.read_html(url)[0]\n",
    "\n",
    "                #重複を削除して1列のSeries型データに直す\n",
    "                generations = {}\n",
    "                for i in reversed(range(5)):\n",
    "                    generations[i] = df[i]\n",
    "                    df.drop([i], axis=1, inplace=True)\n",
    "                    df = df.drop_duplicates()\n",
    "                ped = pd.concat([generations[i] for i in range(5)]).rename(horse_id)\n",
    "\n",
    "                peds_dict[horse_id] = ped.reset_index(drop=True)\n",
    "                time.sleep(0.5)\n",
    "            except IndexError:\n",
    "                continue\n",
    "            except Exception as e:\n",
    "                print(e)\n",
    "                break\n",
    "            except:\n",
    "                break\n",
    "\n",
    "        #列名をpeds_0, ..., peds_61にする\n",
    "        peds_df = pd.concat([peds_dict[key] for key in peds_dict],\n",
    "                            axis=1).T.add_prefix('peds_')\n",
    "\n",
    "        return peds_df\n",
    "    \n",
    "    def encode(self):\n",
    "        df = self.peds.copy()\n",
    "        for column in df.columns:\n",
    "            df[column] = LabelEncoder().fit_transform(df[column].fillna('Na'))\n",
    "        self.peds_e = df.astype('category')\n"
   ]
  },
  {
   "cell_type": "markdown",
   "id": "a920e716-5257-45d8-9831-2effe586aa2c",
   "metadata": {},
   "source": [
    "# load data"
   ]
  },
  {
   "cell_type": "code",
   "execution_count": 46,
   "id": "2cafb76f-29dc-4841-bb1b-2792c246cd20",
   "metadata": {},
   "outputs": [],
   "source": [
    "results = load_csv(path_win2+'results.csv')\n",
    "horse_results = load_csv(path_win2+'horse_results.csv')\n",
    "peds = load_csv(path_win2+'peds.csv')\n",
    "return_tables = load_csv(path_win2+'return.csv')"
   ]
  },
  {
   "cell_type": "markdown",
   "id": "ce12d14d-0f52-464d-ad3f-2e39dc96c74b",
   "metadata": {
    "jp-MarkdownHeadingCollapsed": true,
    "tags": []
   },
   "source": [
    "# 学習データ作成"
   ]
  },
  {
   "cell_type": "code",
   "execution_count": 47,
   "id": "39f7cf65-fb01-48d7-b4b8-1b92a5ee2e12",
   "metadata": {
    "tags": []
   },
   "outputs": [
    {
     "data": {
      "application/vnd.jupyter.widget-view+json": {
       "model_id": "0a272f95e8f6412cb2617a6e0a64d742",
       "version_major": 2,
       "version_minor": 0
      },
      "text/plain": [
       "  0%|          | 0/197 [00:00<?, ?it/s]"
      ]
     },
     "metadata": {},
     "output_type": "display_data"
    },
    {
     "data": {
      "application/vnd.jupyter.widget-view+json": {
       "model_id": "89fac3712b5b4294bb620301423860a8",
       "version_major": 2,
       "version_minor": 0
      },
      "text/plain": [
       "  0%|          | 0/197 [00:00<?, ?it/s]"
      ]
     },
     "metadata": {},
     "output_type": "display_data"
    },
    {
     "data": {
      "application/vnd.jupyter.widget-view+json": {
       "model_id": "04d9609c31074b9dabb2a76d54734e61",
       "version_major": 2,
       "version_minor": 0
      },
      "text/plain": [
       "  0%|          | 0/197 [00:00<?, ?it/s]"
      ]
     },
     "metadata": {},
     "output_type": "display_data"
    }
   ],
   "source": [
    "#Resultsクラスのオブジェクト作成\n",
    "r = Results(results)\n",
    "\n",
    "#前処理\n",
    "r.preprocessing()\n",
    "\n",
    "#馬の過去成績データ追加\n",
    "hr = HorseResults(horse_results)\n",
    "r.merge_horse_results(hr)\n",
    "\n",
    "#血統データ追加\n",
    "p = Peds(peds)\n",
    "p.encode()\n",
    "r.merge_peds(p.peds_e)\n",
    "\n",
    "#カテゴリ変数の処理\n",
    "r.process_categorical()\n"
   ]
  },
  {
   "cell_type": "code",
   "execution_count": 48,
   "id": "663eea4a-e607-4d8f-aa0e-b487f8217c81",
   "metadata": {},
   "outputs": [],
   "source": [
    "return_tables.rename(columns={'0':0,'1':1,'2':2,'3':3},inplace=True)"
   ]
  },
  {
   "cell_type": "markdown",
   "id": "06827ba2-6082-4441-b494-d27b15b78e06",
   "metadata": {},
   "source": [
    "# 学習 & 評価"
   ]
  },
  {
   "cell_type": "code",
   "execution_count": 51,
   "id": "158b9027-e61c-4d47-a71b-ccb4e0c8eba7",
   "metadata": {
    "tags": []
   },
   "outputs": [],
   "source": [
    "train, test = split_data(r.data_c,test_size=0.8)\n",
    "X_train = train.drop(['rank', 'date','単勝'], axis=1)\n",
    "y_train = train['rank']\n",
    "X_test = test.drop(['rank', 'date'], axis=1)\n",
    "y_test = test['rank']\n",
    "\n",
    "#訓練\n",
    "params = {\n",
    "    'objective': 'binary',\n",
    "    'random_state': 100,\n",
    "    'feature_pre_filter': False,\n",
    "    'lambda_l1': 0.00020915763049139397,\n",
    "    'lambda_l2': 0.0004315924345758067,\n",
    "    'num_leaves': 31,\n",
    "    'feature_fraction': 0.7,\n",
    "    'bagging_fraction': 1.0,\n",
    "    'bagging_freq': 0,\n",
    "    'min_child_samples': 100\n",
    "}\n",
    "lgb_clf = lgb.LGBMClassifier(**params)\n",
    "lgb_clf.fit(X_train.values, y_train.values)\n",
    "\n",
    "#回収率シミュレーション\n",
    "me2 = ModelEvaluator(lgb_clf, return_tables)\n",
    "\n",
    "\n",
    "#回収率プ"
   ]
  },
  {
   "cell_type": "code",
   "execution_count": 70,
   "id": "6a342081-9141-42a5-b030-6f8849de8695",
   "metadata": {},
   "outputs": [
    {
     "name": "stdout",
     "output_type": "stream",
     "text": [
      "---------------------\n",
      "AUC train: 0.7199633756443341\n",
      "AUC test : 0.7048017699168434\n",
      "              precision    recall  f1-score   support\n",
      "\n",
      "           0       0.88      0.60      0.71     13354\n",
      "           1       0.33      0.70      0.45      3823\n",
      "\n",
      "    accuracy                           0.62     17177\n",
      "   macro avg       0.60      0.65      0.58     17177\n",
      "weighted avg       0.75      0.62      0.65     17177\n",
      "\n",
      "             features  importances\n",
      "24    着順_race_type_5R     0.250712\n",
      "10              着順_5R     0.107175\n",
      "38              着順_9R     0.091379\n",
      "52    着順_race_type_9R     0.074190\n",
      "80  着順_race_type_allR     0.062179\n",
      "17   着順_course_len_5R     0.056251\n",
      "11              賞金_5R     0.054699\n",
      "66            着順_allR     0.034876\n",
      "31           着順_開催_5R     0.031384\n",
      "81  賞金_race_type_allR     0.021636\n",
      "9             n_horse     0.021075\n",
      "53    賞金_race_type_9R     0.019597\n",
      "4            horse_id     0.019509\n",
      "5           jockey_id     0.018874\n",
      "60           賞金_開催_9R     0.017991\n",
      "87         着順_開催_allR     0.017716\n",
      "25    賞金_race_type_5R     0.014903\n",
      "18   賞金_course_len_5R     0.013185\n",
      "12              着差_5R     0.013100\n",
      "7                  体重     0.012537\n"
     ]
    },
    {
     "data": {
      "text/plain": [
       "XGBClassifier(base_score=0.5, booster='gbtree', colsample_bylevel=1,\n",
       "              colsample_bynode=1, colsample_bytree=1, enable_categorical=False,\n",
       "              eta=0.13449222415941048, eval_metric='rmse', gamma=0, gpu_id=-1,\n",
       "              importance_type='gain', interaction_constraints='',\n",
       "              lambda=0.7223936363734638, learning_rate=0.134492218,\n",
       "              max_delta_step=0, max_depth=3, min_child_weight=1, missing=nan,\n",
       "              monotone_constraints='()', n_estimators=14, n_jobs=20,\n",
       "              num_parallel_tree=1, predictor='auto', random_state=100,\n",
       "              reg_alpha=0.7879044553842869, reg_lambda=0.7780344172793093,\n",
       "              scale_pos_weight=1, subsample=1, tree_method='exact',\n",
       "              use_label_encoder=False, ...)"
      ]
     },
     "execution_count": 70,
     "metadata": {},
     "output_type": "execute_result"
    },
    {
     "name": "stderr",
     "output_type": "stream",
     "text": [
      "C:\\JupyterLab\\resources\\jlab_server\\lib\\site-packages\\matplotlib\\backends\\backend_agg.py:240: RuntimeWarning: Glyph 30528 missing from current font.\n",
      "  font.set_text(s, 0.0, flags=flags)\n",
      "C:\\JupyterLab\\resources\\jlab_server\\lib\\site-packages\\matplotlib\\backends\\backend_agg.py:240: RuntimeWarning: Glyph 38918 missing from current font.\n",
      "  font.set_text(s, 0.0, flags=flags)\n",
      "C:\\JupyterLab\\resources\\jlab_server\\lib\\site-packages\\matplotlib\\backends\\backend_agg.py:240: RuntimeWarning: Glyph 36062 missing from current font.\n",
      "  font.set_text(s, 0.0, flags=flags)\n",
      "C:\\JupyterLab\\resources\\jlab_server\\lib\\site-packages\\matplotlib\\backends\\backend_agg.py:240: RuntimeWarning: Glyph 37329 missing from current font.\n",
      "  font.set_text(s, 0.0, flags=flags)\n",
      "C:\\JupyterLab\\resources\\jlab_server\\lib\\site-packages\\matplotlib\\backends\\backend_agg.py:240: RuntimeWarning: Glyph 24046 missing from current font.\n",
      "  font.set_text(s, 0.0, flags=flags)\n",
      "C:\\JupyterLab\\resources\\jlab_server\\lib\\site-packages\\matplotlib\\backends\\backend_agg.py:240: RuntimeWarning: Glyph 38283 missing from current font.\n",
      "  font.set_text(s, 0.0, flags=flags)\n",
      "C:\\JupyterLab\\resources\\jlab_server\\lib\\site-packages\\matplotlib\\backends\\backend_agg.py:240: RuntimeWarning: Glyph 20652 missing from current font.\n",
      "  font.set_text(s, 0.0, flags=flags)\n",
      "C:\\JupyterLab\\resources\\jlab_server\\lib\\site-packages\\matplotlib\\backends\\backend_agg.py:240: RuntimeWarning: Glyph 20307 missing from current font.\n",
      "  font.set_text(s, 0.0, flags=flags)\n",
      "C:\\JupyterLab\\resources\\jlab_server\\lib\\site-packages\\matplotlib\\backends\\backend_agg.py:240: RuntimeWarning: Glyph 37325 missing from current font.\n",
      "  font.set_text(s, 0.0, flags=flags)\n",
      "C:\\JupyterLab\\resources\\jlab_server\\lib\\site-packages\\matplotlib\\backends\\backend_agg.py:203: RuntimeWarning: Glyph 30528 missing from current font.\n",
      "  font.set_text(s, 0, flags=flags)\n",
      "C:\\JupyterLab\\resources\\jlab_server\\lib\\site-packages\\matplotlib\\backends\\backend_agg.py:203: RuntimeWarning: Glyph 38918 missing from current font.\n",
      "  font.set_text(s, 0, flags=flags)\n",
      "C:\\JupyterLab\\resources\\jlab_server\\lib\\site-packages\\matplotlib\\backends\\backend_agg.py:203: RuntimeWarning: Glyph 36062 missing from current font.\n",
      "  font.set_text(s, 0, flags=flags)\n",
      "C:\\JupyterLab\\resources\\jlab_server\\lib\\site-packages\\matplotlib\\backends\\backend_agg.py:203: RuntimeWarning: Glyph 37329 missing from current font.\n",
      "  font.set_text(s, 0, flags=flags)\n",
      "C:\\JupyterLab\\resources\\jlab_server\\lib\\site-packages\\matplotlib\\backends\\backend_agg.py:203: RuntimeWarning: Glyph 24046 missing from current font.\n",
      "  font.set_text(s, 0, flags=flags)\n",
      "C:\\JupyterLab\\resources\\jlab_server\\lib\\site-packages\\matplotlib\\backends\\backend_agg.py:203: RuntimeWarning: Glyph 38283 missing from current font.\n",
      "  font.set_text(s, 0, flags=flags)\n",
      "C:\\JupyterLab\\resources\\jlab_server\\lib\\site-packages\\matplotlib\\backends\\backend_agg.py:203: RuntimeWarning: Glyph 20652 missing from current font.\n",
      "  font.set_text(s, 0, flags=flags)\n",
      "C:\\JupyterLab\\resources\\jlab_server\\lib\\site-packages\\matplotlib\\backends\\backend_agg.py:203: RuntimeWarning: Glyph 20307 missing from current font.\n",
      "  font.set_text(s, 0, flags=flags)\n",
      "C:\\JupyterLab\\resources\\jlab_server\\lib\\site-packages\\matplotlib\\backends\\backend_agg.py:203: RuntimeWarning: Glyph 37325 missing from current font.\n",
      "  font.set_text(s, 0, flags=flags)\n"
     ]
    },
    {
     "data": {
      "image/png": "[encoded data removed]",
      "text/plain": [
       "<Figure size 432x288 with 1 Axes>"
      ]
     },
     "metadata": {
      "needs_background": "light"
     },
     "output_type": "display_data"
    }
   ],
   "source": [
    "x_train,y_train,x_test,y_test= make_data(r.data_c)\n",
    "xgb_pred(x_train,y_train,x_test,y_test)"
   ]
  },
  {
   "cell_type": "code",
   "execution_count": 71,
   "id": "46ee8384-df89-4975-8515-6e3ce6355a9d",
   "metadata": {},
   "outputs": [
    {
     "name": "stdout",
     "output_type": "stream",
     "text": [
      "[LightGBM] [Warning] feature_fraction is set=0.8, colsample_bytree=1.0 will be ignored. Current value: feature_fraction=0.8\n",
      "[LightGBM] [Warning] lambda_l1 is set=4.693572572985162e-07, reg_alpha=0.0 will be ignored. Current value: lambda_l1=4.693572572985162e-07\n",
      "[LightGBM] [Warning] bagging_fraction is set=0.9783720284106503, subsample=1.0 will be ignored. Current value: bagging_fraction=0.9783720284106503\n",
      "[LightGBM] [Warning] lambda_l2 is set=0.8052948126650886, reg_lambda=0.0 will be ignored. Current value: lambda_l2=0.8052948126650886\n",
      "[LightGBM] [Warning] bagging_freq is set=7, subsample_freq=0 will be ignored. Current value: bagging_freq=7\n",
      "---------------------\n",
      "AUC train: 0.7426315269375308\n",
      "AUC test : 0.7148138179439447\n",
      "              precision    recall  f1-score   support\n",
      "\n",
      "           0       0.88      0.61      0.72     13354\n",
      "           1       0.34      0.71      0.46      3823\n",
      "\n",
      "    accuracy                           0.63     17177\n",
      "   macro avg       0.61      0.66      0.59     17177\n",
      "weighted avg       0.76      0.63      0.66     17177\n",
      "\n",
      "              features  importances\n",
      "9              n_horse           35\n",
      "7                   体重           26\n",
      "4             horse_id           24\n",
      "11               賞金_5R           21\n",
      "5            jockey_id           18\n",
      "31            着順_開催_5R           17\n",
      "52     着順_race_type_9R           16\n",
      "2                   斤量           13\n",
      "24     着順_race_type_5R           12\n",
      "68             着差_allR           11\n",
      "10               着順_5R           10\n",
      "25     賞金_race_type_5R            9\n",
      "40               着差_9R            9\n",
      "89          着差_開催_allR            8\n",
      "12               着差_5R            8\n",
      "87          着順_開催_allR            8\n",
      "32            賞金_開催_5R            7\n",
      "38               着順_9R            7\n",
      "80   着順_race_type_allR            6\n",
      "137            peds_43            6\n"
     ]
    },
    {
     "data": {
      "text/plain": [
       "LGBMClassifier(bagging_fraction=0.9783720284106503, bagging_freq=7,\n",
       "               feature_fraction=0.8, feature_pre_filter=False,\n",
       "               lambda_l1=4.693572572985162e-07, lambda_l2=0.8052948126650886,\n",
       "               min_child_samples=50, num_leaves=5, objective='binary',\n",
       "               random_state=100)"
      ]
     },
     "execution_count": 71,
     "metadata": {},
     "output_type": "execute_result"
    },
    {
     "data": {
      "text/plain": [
       "<Figure size 432x288 with 0 Axes>"
      ]
     },
     "metadata": {},
     "output_type": "display_data"
    },
    {
     "name": "stderr",
     "output_type": "stream",
     "text": [
      "C:\\JupyterLab\\resources\\jlab_server\\lib\\site-packages\\matplotlib\\backends\\backend_agg.py:240: RuntimeWarning: Glyph 39340 missing from current font.\n",
      "  font.set_text(s, 0.0, flags=flags)\n",
      "C:\\JupyterLab\\resources\\jlab_server\\lib\\site-packages\\matplotlib\\backends\\backend_agg.py:240: RuntimeWarning: Glyph 30058 missing from current font.\n",
      "  font.set_text(s, 0.0, flags=flags)\n",
      "C:\\JupyterLab\\resources\\jlab_server\\lib\\site-packages\\matplotlib\\backends\\backend_agg.py:240: RuntimeWarning: Glyph 30528 missing from current font.\n",
      "  font.set_text(s, 0.0, flags=flags)\n",
      "C:\\JupyterLab\\resources\\jlab_server\\lib\\site-packages\\matplotlib\\backends\\backend_agg.py:240: RuntimeWarning: Glyph 24046 missing from current font.\n",
      "  font.set_text(s, 0.0, flags=flags)\n",
      "C:\\JupyterLab\\resources\\jlab_server\\lib\\site-packages\\matplotlib\\backends\\backend_agg.py:240: RuntimeWarning: Glyph 38283 missing from current font.\n",
      "  font.set_text(s, 0.0, flags=flags)\n",
      "C:\\JupyterLab\\resources\\jlab_server\\lib\\site-packages\\matplotlib\\backends\\backend_agg.py:240: RuntimeWarning: Glyph 20652 missing from current font.\n",
      "  font.set_text(s, 0.0, flags=flags)\n",
      "C:\\JupyterLab\\resources\\jlab_server\\lib\\site-packages\\matplotlib\\backends\\backend_agg.py:240: RuntimeWarning: Glyph 36062 missing from current font.\n",
      "  font.set_text(s, 0.0, flags=flags)\n",
      "C:\\JupyterLab\\resources\\jlab_server\\lib\\site-packages\\matplotlib\\backends\\backend_agg.py:240: RuntimeWarning: Glyph 37329 missing from current font.\n",
      "  font.set_text(s, 0.0, flags=flags)\n",
      "C:\\JupyterLab\\resources\\jlab_server\\lib\\site-packages\\matplotlib\\backends\\backend_agg.py:240: RuntimeWarning: Glyph 38918 missing from current font.\n",
      "  font.set_text(s, 0.0, flags=flags)\n",
      "C:\\JupyterLab\\resources\\jlab_server\\lib\\site-packages\\matplotlib\\backends\\backend_agg.py:240: RuntimeWarning: Glyph 33437 missing from current font.\n",
      "  font.set_text(s, 0.0, flags=flags)\n",
      "C:\\JupyterLab\\resources\\jlab_server\\lib\\site-packages\\matplotlib\\backends\\backend_agg.py:240: RuntimeWarning: Glyph 20307 missing from current font.\n",
      "  font.set_text(s, 0.0, flags=flags)\n",
      "C:\\JupyterLab\\resources\\jlab_server\\lib\\site-packages\\matplotlib\\backends\\backend_agg.py:240: RuntimeWarning: Glyph 37325 missing from current font.\n",
      "  font.set_text(s, 0.0, flags=flags)\n",
      "C:\\JupyterLab\\resources\\jlab_server\\lib\\site-packages\\matplotlib\\backends\\backend_agg.py:240: RuntimeWarning: Glyph 22793 missing from current font.\n",
      "  font.set_text(s, 0.0, flags=flags)\n",
      "C:\\JupyterLab\\resources\\jlab_server\\lib\\site-packages\\matplotlib\\backends\\backend_agg.py:240: RuntimeWarning: Glyph 21270 missing from current font.\n",
      "  font.set_text(s, 0.0, flags=flags)\n",
      "C:\\JupyterLab\\resources\\jlab_server\\lib\\site-packages\\matplotlib\\backends\\backend_agg.py:240: RuntimeWarning: Glyph 24180 missing from current font.\n",
      "  font.set_text(s, 0.0, flags=flags)\n",
      "C:\\JupyterLab\\resources\\jlab_server\\lib\\site-packages\\matplotlib\\backends\\backend_agg.py:240: RuntimeWarning: Glyph 40802 missing from current font.\n",
      "  font.set_text(s, 0.0, flags=flags)\n",
      "C:\\JupyterLab\\resources\\jlab_server\\lib\\site-packages\\matplotlib\\backends\\backend_agg.py:240: RuntimeWarning: Glyph 26020 missing from current font.\n",
      "  font.set_text(s, 0.0, flags=flags)\n",
      "C:\\JupyterLab\\resources\\jlab_server\\lib\\site-packages\\matplotlib\\backends\\backend_agg.py:240: RuntimeWarning: Glyph 37327 missing from current font.\n",
      "  font.set_text(s, 0.0, flags=flags)\n",
      "C:\\JupyterLab\\resources\\jlab_server\\lib\\site-packages\\matplotlib\\backends\\backend_agg.py:203: RuntimeWarning: Glyph 39340 missing from current font.\n",
      "  font.set_text(s, 0, flags=flags)\n",
      "C:\\JupyterLab\\resources\\jlab_server\\lib\\site-packages\\matplotlib\\backends\\backend_agg.py:203: RuntimeWarning: Glyph 30058 missing from current font.\n",
      "  font.set_text(s, 0, flags=flags)\n",
      "C:\\JupyterLab\\resources\\jlab_server\\lib\\site-packages\\matplotlib\\backends\\backend_agg.py:203: RuntimeWarning: Glyph 30528 missing from current font.\n",
      "  font.set_text(s, 0, flags=flags)\n",
      "C:\\JupyterLab\\resources\\jlab_server\\lib\\site-packages\\matplotlib\\backends\\backend_agg.py:203: RuntimeWarning: Glyph 24046 missing from current font.\n",
      "  font.set_text(s, 0, flags=flags)\n",
      "C:\\JupyterLab\\resources\\jlab_server\\lib\\site-packages\\matplotlib\\backends\\backend_agg.py:203: RuntimeWarning: Glyph 38283 missing from current font.\n",
      "  font.set_text(s, 0, flags=flags)\n",
      "C:\\JupyterLab\\resources\\jlab_server\\lib\\site-packages\\matplotlib\\backends\\backend_agg.py:203: RuntimeWarning: Glyph 20652 missing from current font.\n",
      "  font.set_text(s, 0, flags=flags)\n",
      "C:\\JupyterLab\\resources\\jlab_server\\lib\\site-packages\\matplotlib\\backends\\backend_agg.py:203: RuntimeWarning: Glyph 36062 missing from current font.\n",
      "  font.set_text(s, 0, flags=flags)\n",
      "C:\\JupyterLab\\resources\\jlab_server\\lib\\site-packages\\matplotlib\\backends\\backend_agg.py:203: RuntimeWarning: Glyph 37329 missing from current font.\n",
      "  font.set_text(s, 0, flags=flags)\n",
      "C:\\JupyterLab\\resources\\jlab_server\\lib\\site-packages\\matplotlib\\backends\\backend_agg.py:203: RuntimeWarning: Glyph 38918 missing from current font.\n",
      "  font.set_text(s, 0, flags=flags)\n",
      "C:\\JupyterLab\\resources\\jlab_server\\lib\\site-packages\\matplotlib\\backends\\backend_agg.py:203: RuntimeWarning: Glyph 33437 missing from current font.\n",
      "  font.set_text(s, 0, flags=flags)\n",
      "C:\\JupyterLab\\resources\\jlab_server\\lib\\site-packages\\matplotlib\\backends\\backend_agg.py:203: RuntimeWarning: Glyph 20307 missing from current font.\n",
      "  font.set_text(s, 0, flags=flags)\n",
      "C:\\JupyterLab\\resources\\jlab_server\\lib\\site-packages\\matplotlib\\backends\\backend_agg.py:203: RuntimeWarning: Glyph 37325 missing from current font.\n",
      "  font.set_text(s, 0, flags=flags)\n",
      "C:\\JupyterLab\\resources\\jlab_server\\lib\\site-packages\\matplotlib\\backends\\backend_agg.py:203: RuntimeWarning: Glyph 22793 missing from current font.\n",
      "  font.set_text(s, 0, flags=flags)\n",
      "C:\\JupyterLab\\resources\\jlab_server\\lib\\site-packages\\matplotlib\\backends\\backend_agg.py:203: RuntimeWarning: Glyph 21270 missing from current font.\n",
      "  font.set_text(s, 0, flags=flags)\n",
      "C:\\JupyterLab\\resources\\jlab_server\\lib\\site-packages\\matplotlib\\backends\\backend_agg.py:203: RuntimeWarning: Glyph 24180 missing from current font.\n",
      "  font.set_text(s, 0, flags=flags)\n",
      "C:\\JupyterLab\\resources\\jlab_server\\lib\\site-packages\\matplotlib\\backends\\backend_agg.py:203: RuntimeWarning: Glyph 40802 missing from current font.\n",
      "  font.set_text(s, 0, flags=flags)\n",
      "C:\\JupyterLab\\resources\\jlab_server\\lib\\site-packages\\matplotlib\\backends\\backend_agg.py:203: RuntimeWarning: Glyph 26020 missing from current font.\n",
      "  font.set_text(s, 0, flags=flags)\n",
      "C:\\JupyterLab\\resources\\jlab_server\\lib\\site-packages\\matplotlib\\backends\\backend_agg.py:203: RuntimeWarning: Glyph 37327 missing from current font.\n",
      "  font.set_text(s, 0, flags=flags)\n"
     ]
    },
    {
     "data": {
      "image/png": "[encoded data removed]",
      "text/plain": [
       "<Figure size 432x288 with 1 Axes>"
      ]
     },
     "metadata": {
      "needs_background": "light"
     },
     "output_type": "display_data"
    }
   ],
   "source": [
    "x_train,y_train,x_test,y_test= make_data(r.data_c)\n",
    "lgb_pred(x_train,y_train,x_test,y_test)"
   ]
  },
  {
   "cell_type": "code",
   "execution_count": 284,
   "id": "8b90a0f1-e5a3-47f2-bf27-a71a5194e493",
   "metadata": {
    "tags": []
   },
   "outputs": [
    {
     "data": {
      "image/png": "[encoded data removed]",
      "text/plain": [
       "<Figure size 432x288 with 1 Axes>"
      ]
     },
     "metadata": {
      "needs_background": "light"
     },
     "output_type": "display_data"
    }
   ],
   "source": [
    "gain_optuna = gain(me2.tansho_return_proper, X_test)\n",
    "plot(gain_optuna)"
   ]
  },
  {
   "cell_type": "code",
   "execution_count": 291,
   "id": "e0792da2-b102-43cc-9009-c004be76d4ba",
   "metadata": {},
   "outputs": [
    {
     "data": {
      "image/png": "[encoded data removed]",
      "text/plain": [
       "<Figure size 432x288 with 1 Axes>"
      ]
     },
     "metadata": {
      "needs_background": "light"
     },
     "output_type": "display_data"
    }
   ],
   "source": [
    "gain_optuna = gain(me2.fukusho_return, X_test)\n",
    "plot(gain_optuna)"
   ]
  },
  {
   "cell_type": "code",
   "execution_count": 292,
   "id": "5eb8a0b5-785a-4630-b318-9378140ffb8b",
   "metadata": {},
   "outputs": [
    {
     "data": {
      "image/png": "[encoded data removed]",
      "text/plain": [
       "<Figure size 432x288 with 1 Axes>"
      ]
     },
     "metadata": {
      "needs_background": "light"
     },
     "output_type": "display_data"
    }
   ],
   "source": [
    "gain_optuna = gain(me2.tansho_return, X_test)\n",
    "plot(gain_optuna)"
   ]
  },
  {
   "cell_type": "code",
   "execution_count": 299,
   "id": "08d8d866-cc4d-4e74-ab2f-caa336dbfcde",
   "metadata": {},
   "outputs": [
    {
     "name": "stderr",
     "output_type": "stream",
     "text": [
      "/usr/local/lib/python3.9/site-packages/numpy/core/_methods.py:233: RuntimeWarning: Degrees of freedom <= 0 for slice\n",
      "  ret = _var(a, axis=axis, dtype=dtype, out=out, ddof=ddof,\n",
      "/usr/local/lib/python3.9/site-packages/numpy/core/_methods.py:194: RuntimeWarning: invalid value encountered in true_divide\n",
      "  arrmean = um.true_divide(\n",
      "/usr/local/lib/python3.9/site-packages/numpy/core/_methods.py:226: RuntimeWarning: invalid value encountered in double_scalars\n",
      "  ret = ret.dtype.type(ret / rcount)\n",
      "<ipython-input-296-e749af09bc8f>:401: RuntimeWarning: invalid value encountered in double_scalars\n",
      "  return_rate = np.sum(return_list) / n_bets\n"
     ]
    },
    {
     "data": {
      "image/png": "[encoded data removed]",
      "text/plain": [
       "<Figure size 432x288 with 1 Axes>"
      ]
     },
     "metadata": {
      "needs_background": "light"
     },
     "output_type": "display_data"
    }
   ],
   "source": [
    "gain_optuna = gain(me2.umaren_box, X_test)\n",
    "plot(gain_optuna)"
   ]
  },
  {
   "cell_type": "code",
   "execution_count": 307,
   "id": "81f1933b-a1f9-451e-b26c-4f2346dff82f",
   "metadata": {},
   "outputs": [
    {
     "name": "stderr",
     "output_type": "stream",
     "text": [
      "<ipython-input-305-e749af09bc8f>:420: RuntimeWarning: invalid value encountered in double_scalars\n",
      "  std = np.std(return_list) * np.sqrt(len(return_list)) / n_bets\n",
      "<ipython-input-305-e749af09bc8f>:423: RuntimeWarning: invalid value encountered in long_scalars\n",
      "  return_rate = np.sum(return_list) / n_bets\n"
     ]
    },
    {
     "data": {
      "image/png": "[encoded data removed]",
      "text/plain": [
       "<Figure size 432x288 with 1 Axes>"
      ]
     },
     "metadata": {
      "needs_background": "light"
     },
     "output_type": "display_data"
    }
   ],
   "source": [
    "gain_optuna = gain(me2.umatan_box, X_test)\n",
    "plot(gain_optuna)"
   ]
  },
  {
   "cell_type": "code",
   "execution_count": 308,
   "id": "7a15f3e7-cc66-48ad-b9c5-257828549958",
   "metadata": {},
   "outputs": [
    {
     "name": "stderr",
     "output_type": "stream",
     "text": [
      "/usr/local/lib/python3.9/site-packages/numpy/core/_methods.py:233: RuntimeWarning: Degrees of freedom <= 0 for slice\n",
      "  ret = _var(a, axis=axis, dtype=dtype, out=out, ddof=ddof,\n",
      "/usr/local/lib/python3.9/site-packages/numpy/core/_methods.py:194: RuntimeWarning: invalid value encountered in true_divide\n",
      "  arrmean = um.true_divide(\n",
      "/usr/local/lib/python3.9/site-packages/numpy/core/_methods.py:226: RuntimeWarning: invalid value encountered in double_scalars\n",
      "  ret = ret.dtype.type(ret / rcount)\n",
      "<ipython-input-305-e749af09bc8f>:445: RuntimeWarning: invalid value encountered in double_scalars\n",
      "  return_rate = np.sum(return_list) / n_bets\n"
     ]
    },
    {
     "data": {
      "image/png": "[encoded data removed]",
      "text/plain": [
       "<Figure size 432x288 with 1 Axes>"
      ]
     },
     "metadata": {
      "needs_background": "light"
     },
     "output_type": "display_data"
    }
   ],
   "source": [
    "gain_optuna = gain(me2.wide_box, X_test)\n",
    "plot(gain_optuna)"
   ]
  },
  {
   "cell_type": "code",
   "execution_count": 309,
   "id": "d692a9cf-8071-4d5b-b775-78e2dd1f5f3d",
   "metadata": {},
   "outputs": [
    {
     "name": "stderr",
     "output_type": "stream",
     "text": [
      "/usr/local/lib/python3.9/site-packages/numpy/core/_methods.py:233: RuntimeWarning: Degrees of freedom <= 0 for slice\n",
      "  ret = _var(a, axis=axis, dtype=dtype, out=out, ddof=ddof,\n",
      "/usr/local/lib/python3.9/site-packages/numpy/core/_methods.py:194: RuntimeWarning: invalid value encountered in true_divide\n",
      "  arrmean = um.true_divide(\n",
      "/usr/local/lib/python3.9/site-packages/numpy/core/_methods.py:226: RuntimeWarning: invalid value encountered in double_scalars\n",
      "  ret = ret.dtype.type(ret / rcount)\n",
      "<ipython-input-305-e749af09bc8f>:466: RuntimeWarning: invalid value encountered in double_scalars\n",
      "  return_rate = np.sum(return_list) / n_bets\n"
     ]
    },
    {
     "data": {
      "image/png": "[encoded data removed]",
      "text/plain": [
       "<Figure size 432x288 with 1 Axes>"
      ]
     },
     "metadata": {
      "needs_background": "light"
     },
     "output_type": "display_data"
    }
   ],
   "source": [
    "gain_optuna = gain(me2.sanrentan_box, X_test)\n",
    "plot(gain_optuna)"
   ]
  },
  {
   "cell_type": "code",
   "execution_count": 311,
   "id": "1fb6b0c9-2333-48e9-87af-ad3aecd2e6f8",
   "metadata": {},
   "outputs": [
    {
     "name": "stderr",
     "output_type": "stream",
     "text": [
      "/usr/local/lib/python3.9/site-packages/numpy/core/_methods.py:233: RuntimeWarning: Degrees of freedom <= 0 for slice\n",
      "  ret = _var(a, axis=axis, dtype=dtype, out=out, ddof=ddof,\n",
      "/usr/local/lib/python3.9/site-packages/numpy/core/_methods.py:194: RuntimeWarning: invalid value encountered in true_divide\n",
      "  arrmean = um.true_divide(\n",
      "/usr/local/lib/python3.9/site-packages/numpy/core/_methods.py:226: RuntimeWarning: invalid value encountered in double_scalars\n",
      "  ret = ret.dtype.type(ret / rcount)\n",
      "<ipython-input-305-e749af09bc8f>:487: RuntimeWarning: invalid value encountered in double_scalars\n",
      "  return_rate = np.sum(return_list) / n_bets\n"
     ]
    },
    {
     "data": {
      "image/png": "[encoded data removed]",
      "text/plain": [
       "<Figure size 432x288 with 1 Axes>"
      ]
     },
     "metadata": {
      "needs_background": "light"
     },
     "output_type": "display_data"
    }
   ],
   "source": [
    "gain_optuna = gain(me2.sanrenpuku_box, X_test)\n",
    "plot(gain_optuna)"
   ]
  },
  {
   "cell_type": "code",
   "execution_count": 312,
   "id": "562cdaad-9499-42e0-b09e-a9139cf79b75",
   "metadata": {},
   "outputs": [
    {
     "data": {
      "image/png": "[encoded data removed]",
      "text/plain": [
       "<Figure size 432x288 with 1 Axes>"
      ]
     },
     "metadata": {
      "needs_background": "light"
     },
     "output_type": "display_data"
    }
   ],
   "source": [
    "gain_optuna = gain(me2.umaren_nagashi, X_test)\n",
    "plot(gain_optuna)"
   ]
  },
  {
   "cell_type": "code",
   "execution_count": 313,
   "id": "a1ea7199-b7db-4ebd-b7b7-871e5a5f034e",
   "metadata": {},
   "outputs": [
    {
     "data": {
      "image/png": "[encoded data removed]",
      "text/plain": [
       "<Figure size 432x288 with 1 Axes>"
      ]
     },
     "metadata": {
      "needs_background": "light"
     },
     "output_type": "display_data"
    }
   ],
   "source": [
    "gain_optuna = gain(me2.umatan_nagashi, X_test)\n",
    "plot(gain_optuna)"
   ]
  },
  {
   "cell_type": "code",
   "execution_count": 314,
   "id": "2d085e9f-0564-48bd-bb80-7915f4469c8f",
   "metadata": {},
   "outputs": [
    {
     "data": {
      "image/png": "[encoded data removed]",
      "text/plain": [
       "<Figure size 432x288 with 1 Axes>"
      ]
     },
     "metadata": {
      "needs_background": "light"
     },
     "output_type": "display_data"
    }
   ],
   "source": [
    "gain_optuna = gain(me2.wide_nagashi, X_test)\n",
    "plot(gain_optuna)"
   ]
  },
  {
   "cell_type": "code",
   "execution_count": 315,
   "id": "abd1576c-75f6-4c07-936b-480adba6ca93",
   "metadata": {},
   "outputs": [
    {
     "name": "stderr",
     "output_type": "stream",
     "text": [
      "/usr/local/lib/python3.9/site-packages/numpy/core/_methods.py:233: RuntimeWarning: Degrees of freedom <= 0 for slice\n",
      "  ret = _var(a, axis=axis, dtype=dtype, out=out, ddof=ddof,\n",
      "/usr/local/lib/python3.9/site-packages/numpy/core/_methods.py:194: RuntimeWarning: invalid value encountered in true_divide\n",
      "  arrmean = um.true_divide(\n",
      "/usr/local/lib/python3.9/site-packages/numpy/core/_methods.py:226: RuntimeWarning: invalid value encountered in double_scalars\n",
      "  ret = ret.dtype.type(ret / rcount)\n",
      "<ipython-input-305-e749af09bc8f>:610: RuntimeWarning: invalid value encountered in double_scalars\n",
      "  return_rate = np.sum(return_list) / n_bets\n"
     ]
    },
    {
     "data": {
      "image/png": "[encoded data removed]",
      "text/plain": [
       "<Figure size 432x288 with 1 Axes>"
      ]
     },
     "metadata": {
      "needs_background": "light"
     },
     "output_type": "display_data"
    }
   ],
   "source": [
    "gain_optuna = gain(me2.sanrentan_nagashi, X_test)\n",
    "plot(gain_optuna)"
   ]
  },
  {
   "cell_type": "markdown",
   "id": "4876b466-59c2-42f8-86d7-dfc045d61254",
   "metadata": {},
   "source": [
    "# 予測"
   ]
  },
  {
   "cell_type": "markdown",
   "id": "efb79ba6-9db0-4764-93c8-9b937e072a46",
   "metadata": {},
   "source": [
    "新馬はやめた方が良さそう"
   ]
  },
  {
   "cell_type": "code",
   "execution_count": 83,
   "id": "c5db1168-57f4-4088-85af-1a74d30f05ff",
   "metadata": {
    "tags": []
   },
   "outputs": [
    {
     "data": {
      "application/vnd.jupyter.widget-view+json": {
       "model_id": "77a409ae40dd46dfaa9931e58b42ea78",
       "version_major": 2,
       "version_minor": 0
      },
      "text/plain": [
       "  0%|          | 0/1 [00:00<?, ?it/s]"
      ]
     },
     "metadata": {},
     "output_type": "display_data"
    }
   ],
   "source": [
    "race_id = 202109050411\n",
    "data =  ShutubaTable.scrape([str(race_id)], '2021/11/14')"
   ]
  },
  {
   "cell_type": "code",
   "execution_count": 84,
   "id": "5086e846-6df5-4c64-856e-39f5727c3ae2",
   "metadata": {
    "tags": []
   },
   "outputs": [
    {
     "data": {
      "application/vnd.jupyter.widget-view+json": {
       "model_id": "fc047d719687445abc9f86fe817b4b7b",
       "version_major": 2,
       "version_minor": 0
      },
      "text/plain": [
       "  0%|          | 0/1 [00:00<?, ?it/s]"
      ]
     },
     "metadata": {},
     "output_type": "display_data"
    },
    {
     "data": {
      "application/vnd.jupyter.widget-view+json": {
       "model_id": "fb678294a6d041daa77929872a5a42b1",
       "version_major": 2,
       "version_minor": 0
      },
      "text/plain": [
       "  0%|          | 0/1 [00:00<?, ?it/s]"
      ]
     },
     "metadata": {},
     "output_type": "display_data"
    },
    {
     "data": {
      "application/vnd.jupyter.widget-view+json": {
       "model_id": "9660168d1d344a878f0266e56e18af35",
       "version_major": 2,
       "version_minor": 0
      },
      "text/plain": [
       "  0%|          | 0/1 [00:00<?, ?it/s]"
      ]
     },
     "metadata": {},
     "output_type": "display_data"
    }
   ],
   "source": [
    "# race_id_list = ['2020010106{}'.format(str(i).zfill(2)) for i in range(1,13)]\n",
    "st = ShutubaTable(data)\n",
    "\n",
    "\n",
    "#前処理\n",
    "st.preprocessing()\n",
    "\n",
    "#馬の過去成績データ追加\n",
    "st.merge_horse_results(hr)\n",
    "\n",
    "#血統データ追加\n",
    "st.merge_peds(p.peds_e)\n",
    "\n",
    "#カテゴリ変数の処理\n",
    "st.process_categorical(r.le_horse, r.le_jockey, r.data_pe)"
   ]
  },
  {
   "cell_type": "code",
   "execution_count": 85,
   "id": "92ff6074-5782-44c5-8911-dd5240fdf2c3",
   "metadata": {
    "tags": []
   },
   "outputs": [
    {
     "name": "stdout",
     "output_type": "stream",
     "text": [
      "[LightGBM] [Warning] Unknown parameter: axis\n"
     ]
    },
    {
     "data": {
      "text/html": [
       "<div>\n",
       "<style scoped>\n",
       "    .dataframe tbody tr th:only-of-type {\n",
       "        vertical-align: middle;\n",
       "    }\n",
       "\n",
       "    .dataframe tbody tr th {\n",
       "        vertical-align: top;\n",
       "    }\n",
       "\n",
       "    .dataframe thead th {\n",
       "        text-align: right;\n",
       "    }\n",
       "</style>\n",
       "<table border=\"1\" class=\"dataframe\">\n",
       "  <thead>\n",
       "    <tr style=\"text-align: right;\">\n",
       "      <th></th>\n",
       "      <th>馬番</th>\n",
       "      <th>scores</th>\n",
       "    </tr>\n",
       "  </thead>\n",
       "  <tbody>\n",
       "    <tr>\n",
       "      <th>2.021091e+11</th>\n",
       "      <td>1</td>\n",
       "      <td>1.990943</td>\n",
       "    </tr>\n",
       "    <tr>\n",
       "      <th>2.021091e+11</th>\n",
       "      <td>2</td>\n",
       "      <td>1.642466</td>\n",
       "    </tr>\n",
       "    <tr>\n",
       "      <th>2.021091e+11</th>\n",
       "      <td>3</td>\n",
       "      <td>0.690102</td>\n",
       "    </tr>\n",
       "    <tr>\n",
       "      <th>2.021091e+11</th>\n",
       "      <td>12</td>\n",
       "      <td>0.627865</td>\n",
       "    </tr>\n",
       "    <tr>\n",
       "      <th>2.021091e+11</th>\n",
       "      <td>10</td>\n",
       "      <td>0.596286</td>\n",
       "    </tr>\n",
       "    <tr>\n",
       "      <th>2.021091e+11</th>\n",
       "      <td>4</td>\n",
       "      <td>0.589192</td>\n",
       "    </tr>\n",
       "    <tr>\n",
       "      <th>2.021091e+11</th>\n",
       "      <td>8</td>\n",
       "      <td>0.350938</td>\n",
       "    </tr>\n",
       "    <tr>\n",
       "      <th>2.021091e+11</th>\n",
       "      <td>6</td>\n",
       "      <td>0.132527</td>\n",
       "    </tr>\n",
       "    <tr>\n",
       "      <th>2.021091e+11</th>\n",
       "      <td>16</td>\n",
       "      <td>-0.100690</td>\n",
       "    </tr>\n",
       "    <tr>\n",
       "      <th>2.021091e+11</th>\n",
       "      <td>5</td>\n",
       "      <td>-0.110488</td>\n",
       "    </tr>\n",
       "    <tr>\n",
       "      <th>2.021091e+11</th>\n",
       "      <td>11</td>\n",
       "      <td>-0.350739</td>\n",
       "    </tr>\n",
       "    <tr>\n",
       "      <th>2.021091e+11</th>\n",
       "      <td>9</td>\n",
       "      <td>-0.476064</td>\n",
       "    </tr>\n",
       "    <tr>\n",
       "      <th>2.021091e+11</th>\n",
       "      <td>17</td>\n",
       "      <td>-0.545304</td>\n",
       "    </tr>\n",
       "    <tr>\n",
       "      <th>2.021091e+11</th>\n",
       "      <td>15</td>\n",
       "      <td>-0.856807</td>\n",
       "    </tr>\n",
       "    <tr>\n",
       "      <th>2.021091e+11</th>\n",
       "      <td>7</td>\n",
       "      <td>-1.125817</td>\n",
       "    </tr>\n",
       "    <tr>\n",
       "      <th>2.021091e+11</th>\n",
       "      <td>14</td>\n",
       "      <td>-1.147125</td>\n",
       "    </tr>\n",
       "    <tr>\n",
       "      <th>2.021091e+11</th>\n",
       "      <td>13</td>\n",
       "      <td>-1.907285</td>\n",
       "    </tr>\n",
       "  </tbody>\n",
       "</table>\n",
       "</div>"
      ],
      "text/plain": [
       "              馬番    scores\n",
       "2.021091e+11   1  1.990943\n",
       "2.021091e+11   2  1.642466\n",
       "2.021091e+11   3  0.690102\n",
       "2.021091e+11  12  0.627865\n",
       "2.021091e+11  10  0.596286\n",
       "2.021091e+11   4  0.589192\n",
       "2.021091e+11   8  0.350938\n",
       "2.021091e+11   6  0.132527\n",
       "2.021091e+11  16 -0.100690\n",
       "2.021091e+11   5 -0.110488\n",
       "2.021091e+11  11 -0.350739\n",
       "2.021091e+11   9 -0.476064\n",
       "2.021091e+11  17 -0.545304\n",
       "2.021091e+11  15 -0.856807\n",
       "2.021091e+11   7 -1.125817\n",
       "2.021091e+11  14 -1.147125\n",
       "2.021091e+11  13 -1.907285"
      ]
     },
     "execution_count": 85,
     "metadata": {},
     "output_type": "execute_result"
    }
   ],
   "source": [
    "# return_tables = pd.read_pickle('return_tables.pickle')\n",
    "return_tables.rename(columns={'0':0,'1':1,'2':2,'3':3},inplace=True)\n",
    "me_st = ModelEvaluator(lgb_clf, return_tables)\n",
    "\n",
    "#予測\n",
    "scores = me_st.predict_proba(st.data_c.drop(['date'],axis=1),train=False)\n",
    "pred = st.data_c[['馬番']].copy()\n",
    "pred['scores'] = scores\n",
    "pred.loc[race_id].sort_values('scores',ascending=False)\n"
   ]
  },
  {
   "cell_type": "markdown",
   "id": "2090f35d-d31a-46ff-aa8a-9c85a3c2bc90",
   "metadata": {},
   "source": [
    "# 2020年のデータと2021年のデータをconcat"
   ]
  },
  {
   "cell_type": "code",
   "execution_count": 206,
   "id": "0afcd7e2-eed6-409b-854e-b5b229bb9f0c",
   "metadata": {},
   "outputs": [],
   "source": [
    "return_tables = update_data(return_tables_old, return_tables_new)\n",
    "\n",
    "results = update_data(results_old, results_new)\n",
    "\n",
    "peds = update_data(peds_old, peds_new)\n",
    "\n",
    "horse_results = update_data(horse_results_old,horse_results_new)\n",
    "\n",
    "save_path = '/Users/rince/Desktop/Horse/Data/20_21/return_tables.csv'\n",
    "return_tables.to_csv(save_path)\n",
    "\n",
    "save_path = '/Users/rince/Desktop/Horse/Data/20_21/results.csv'\n",
    "results.to_csv(save_path)\n",
    "\n",
    "save_path = '/Users/rince/Desktop/Horse/Data/20_21/peds.csv'\n",
    "peds.to_csv(save_path)"
   ]
  },
  {
   "cell_type": "code",
   "execution_count": 219,
   "id": "e4b8c3c3-572b-44c6-ac9d-dcf11a0958b5",
   "metadata": {},
   "outputs": [],
   "source": [
    "save_path = '/Users/rince/Desktop/Horse/Data/20_21/horse_results.csv'\n",
    "horse_results.to_csv(save_path)\n",
    "\n",
    "# Data 更新手順\n"
   ]
  },
  {
   "cell_type": "code",
   "execution_count": 30,
   "id": "9fe0eb4a-25c7-405e-a15a-cbffd1dc6b8a",
   "metadata": {
    "tags": []
   },
   "outputs": [],
   "source": [
    "race_id_list = []\n",
    "# これは2021/10/31のやつ\n",
    "for place in ['03','05','09']:\n",
    "    for kai in ['02','05']:\n",
    "        for num in ['03','04']:\n",
    "            for r in range(1,13):\n",
    "                race_id = '2021'+place +kai + num +str(r).zfill(2)\n",
    "                race_id_list.append(race_id)\n",
    "    \n",
    "# test3 = scrape_race_results(race_id_list)\n",
    "# for key in test3:\n",
    "#     test3[key].index = [key] * len(test3[key])\n",
    "# raw_results = pd.concat([test3[key] for key in test3], sort=False) \n",
    "# # results.to_pickle('results.pickle')\n",
    "# raw_results.head()"
   ]
  },
  {
   "cell_type": "markdown",
   "id": "fd8ec390-bc7f-4821-8417-76382d034041",
   "metadata": {},
   "source": [
    "# Results scraping"
   ]
  },
  {
   "cell_type": "code",
   "execution_count": 36,
   "id": "131add0a-4ac5-4133-b242-3fa2109a4762",
   "metadata": {
    "tags": []
   },
   "outputs": [
    {
     "data": {
      "application/vnd.jupyter.widget-view+json": {
       "model_id": "1b08fd7216df4fce99ae4cf2fdfc94df",
       "version_major": 2,
       "version_minor": 0
      },
      "text/plain": [
       "  0%|          | 0/144 [00:00<?, ?it/s]"
      ]
     },
     "metadata": {},
     "output_type": "display_data"
    }
   ],
   "source": [
    "# race_id_list = results.index.astype('str')\n",
    "\n",
    "results = Results.scrape(race_id_list)\n",
    "\n",
    "results.to_csv(path_win+'results_new.csv')"
   ]
  },
  {
   "cell_type": "markdown",
   "id": "3c0ac189-894a-48ac-adb2-4e731640bc5c",
   "metadata": {},
   "source": [
    "# Horse_results scraping"
   ]
  },
  {
   "cell_type": "code",
   "execution_count": 37,
   "id": "1fb495b3-1044-4b5a-afdc-cdf1b60aa6f8",
   "metadata": {},
   "outputs": [
    {
     "data": {
      "application/vnd.jupyter.widget-view+json": {
       "model_id": "0072dd122b734b7fbd50cafa179a142a",
       "version_major": 2,
       "version_minor": 0
      },
      "text/plain": [
       "  0%|          | 0/1593 [00:00<?, ?it/s]"
      ]
     },
     "metadata": {},
     "output_type": "display_data"
    }
   ],
   "source": [
    "horse_id_list = results['horse_id'].astype(str).unique()\n",
    "horse_results = HorseResults.scrape(horse_id_list)\n",
    "# save_path = '/Users/rince/Desktop/Horse/Data/horse_2020.csv'\n",
    "horse_results.to_csv(path_win+'horse_results_new.csv')"
   ]
  },
  {
   "cell_type": "markdown",
   "id": "c1569216-aa8f-40a3-8303-5d54a442b00e",
   "metadata": {},
   "source": [
    "# Peds scraping"
   ]
  },
  {
   "cell_type": "code",
   "execution_count": 38,
   "id": "56d56e6b-7a60-4721-a111-892aafa204d9",
   "metadata": {},
   "outputs": [
    {
     "data": {
      "application/vnd.jupyter.widget-view+json": {
       "model_id": "2075697c470e4cfb9ff0b47fa37c2a64",
       "version_major": 2,
       "version_minor": 0
      },
      "text/plain": [
       "  0%|          | 0/1593 [00:00<?, ?it/s]"
      ]
     },
     "metadata": {},
     "output_type": "display_data"
    }
   ],
   "source": [
    "peds_2021 = Peds.scrape(horse_id_list)\n",
    "peds_2021.to_csv(path_win+'peds_new.csv')"
   ]
  },
  {
   "cell_type": "markdown",
   "id": "2d1db0da-3505-4825-8408-e7dd58205c96",
   "metadata": {},
   "source": [
    "# Return scraping"
   ]
  },
  {
   "cell_type": "code",
   "execution_count": 39,
   "id": "56a4d97d-94cc-477f-b643-5144c7173613",
   "metadata": {},
   "outputs": [
    {
     "data": {
      "application/vnd.jupyter.widget-view+json": {
       "model_id": "1000b7356d584c02a4398a6726676be2",
       "version_major": 2,
       "version_minor": 0
      },
      "text/plain": [
       "  0%|          | 0/144 [00:00<?, ?it/s]"
      ]
     },
     "metadata": {},
     "output_type": "display_data"
    }
   ],
   "source": [
    "returns_2021 = Return.scrape(race_id_list)\n",
    "returns_2021.to_csv(path_win+'returns_new.csv')"
   ]
  },
  {
   "cell_type": "markdown",
   "id": "ead0b915-918e-4f64-b782-824f90b2ec02",
   "metadata": {},
   "source": [
    "# path \n"
   ]
  },
  {
   "cell_type": "code",
   "execution_count": 45,
   "id": "986deea5-7f15-43cc-b9ce-7fcf1c5c64e6",
   "metadata": {},
   "outputs": [],
   "source": [
    "path_ubu = '/home/hipro/デスクトップ/Horse/Data/20_21'\n",
    "path_mac = '/Users/rince/Desktop/Horse/Data/saishin/'\n",
    "path_win = '/Users/Owner/Desktop/program/Horse/Data/saishin/'\n",
    "path_win2 = '/Users/Owner/Desktop/program/Horse/Data/saishin2/'"
   ]
  },
  {
   "cell_type": "markdown",
   "id": "6e175b9a-1a2d-4d5d-a5e2-e771c86dd8d2",
   "metadata": {},
   "source": [
    "# update"
   ]
  },
  {
   "cell_type": "code",
   "execution_count": 40,
   "id": "428fa2b8-2058-4c1d-af05-ec10e9f3768d",
   "metadata": {},
   "outputs": [],
   "source": [
    "new_results = update_data(load_csv(path_win+'results.csv'), load_csv(path_win+'results_new.csv'))\n",
    "new_horse_results = update_data(load_csv(path_win+'horse_results.csv'), load_csv(path_win+'horse_results_new.csv'))\n",
    "new_peds = update_data(load_csv(path_win+'peds.csv'), load_csv(path_win+'peds_new.csv'))\n",
    "new_return = update_data(load_csv(path_win+'return.csv'), load_csv(path_win+'returns_new.csv'))"
   ]
  },
  {
   "cell_type": "markdown",
   "id": "d77364dd-545a-43d4-97aa-070ca0595356",
   "metadata": {},
   "source": [
    "# save"
   ]
  },
  {
   "cell_type": "code",
   "execution_count": 41,
   "id": "875dc8e7-f696-4b78-933d-4f62f3603430",
   "metadata": {},
   "outputs": [],
   "source": [
    "new_results.to_csv(path_win2+'results.csv')\n",
    "new_horse_results.to_csv(path_win2+'horse_results.csv')\n",
    "new_peds.to_csv(path_win2+'peds.csv')\n",
    "new_return.to_csv(path_win2+'return.csv')"
   ]
  },
  {
   "cell_type": "code",
   "execution_count": 4,
   "id": "f71e0e7f-bb46-455c-8e1c-6e9f03894bf6",
   "metadata": {},
   "outputs": [],
   "source": [
    "from tensorflow.python.client import device_lib"
   ]
  },
  {
   "cell_type": "code",
   "execution_count": 17,
   "id": "9b1f5617-8658-4380-b91c-6597ee928797",
   "metadata": {},
   "outputs": [
    {
     "data": {
      "text/plain": [
       "[name: \"/device:CPU:0\"\n",
       " device_type: \"CPU\"\n",
       " memory_limit: 268435456\n",
       " locality {\n",
       " }\n",
       " incarnation: 10935015223338129124\n",
       " xla_global_id: -1]"
      ]
     },
     "execution_count": 17,
     "metadata": {},
     "output_type": "execute_result"
    }
   ],
   "source": [
    "device_lib.list_local_devices()"
   ]
  },
  {
   "cell_type": "markdown",
   "id": "e64e35c3-7240-4c3a-9a17-e840ccfcd68b",
   "metadata": {},
   "source": [
    "# 今後の方針\n",
    "1. XGB試してみる\n",
    "2. ME 自己流につくりかえる\n",
    "3. シミュレーションとか, 自分流に変える."
   ]
  },
  {
   "cell_type": "code",
   "execution_count": null,
   "id": "ca46e785-0061-41d2-b9b4-32418cd68cdd",
   "metadata": {},
   "outputs": [],
   "source": []
  }
 ],
 "metadata": {
  "kernelspec": {
   "display_name": "Python 3",
   "language": "python",
   "name": "python3"
  },
  "language_info": {
   "codemirror_mode": {
    "name": "ipython",
    "version": 3
   },
   "file_extension": ".py",
   "mimetype": "text/x-python",
   "name": "python",
   "nbconvert_exporter": "python",
   "pygments_lexer": "ipython3",
   "version": "3.9.6"
  }
 },
 "nbformat": 4,
 "nbformat_minor": 5
}
