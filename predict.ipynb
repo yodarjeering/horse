{
 "cells": [
  {
   "cell_type": "markdown",
   "metadata": {},
   "source": [
    "# import"
   ]
  },
  {
   "cell_type": "code",
   "execution_count": null,
   "metadata": {},
   "outputs": [],
   "source": [
    "import pandas as pd\n",
    "import time\n",
    "from graphviz import *\n",
    "import lightgbm as lgb\n",
    "# from hyperopt import hp, tpe, Trials, fmin,STATUS_OK\n",
    "path_ = '/home/hipro/デスクトップ/keibaAI-v2'\n",
    "import sys\n",
    "sys.path.append(path_)\n",
    "from modules.constants import LocalPaths\n",
    "from modules.constants import HorseResultsCols\n",
    "from modules import preparing\n",
    "from modules import preprocessing\n",
    "from modules import training\n",
    "from modules import simulation\n",
    "from modules import policies\n",
    "# import fasttext as ft\n",
    "# import importlib\n",
    "# importlib.reload(hoge)\n",
    "from my_library.horse import *\n",
    "import pickle\n"
   ]
  }
 ],
 "metadata": {
  "kernelspec": {
   "display_name": "Python 3.8.10 64-bit",
   "language": "python",
   "name": "python3"
  },
  "language_info": {
   "name": "python",
   "version": "3.8.10"
  },
  "orig_nbformat": 4,
  "vscode": {
   "interpreter": {
    "hash": "916dbcbb3f70747c44a77c7bcd40155683ae19c65e1c03b4aa3499c5328201f1"
   }
  }
 },
 "nbformat": 4,
 "nbformat_minor": 2
}
