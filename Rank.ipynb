{
 "cells": [
  {
   "cell_type": "markdown",
   "id": "f8712346",
   "metadata": {},
   "source": [
    "# import"
   ]
  },
  {
   "cell_type": "code",
   "execution_count": 1,
   "id": "fa116d3b-51ac-42de-bf7a-fb55eb148689",
   "metadata": {},
   "outputs": [],
   "source": [
    "\n",
    "import pandas as pd\n",
    "from tqdm.notebook import tqdm as tqdm\n",
    "import time\n",
    "from graphviz import *\n",
    "import lightgbm as lgb\n",
    "from hyperopt import hp, tpe, Trials, fmin,STATUS_OK\n",
    "import fasttext as ft\n",
    "# import importlib\n",
    "# importlib.reload(hoge)\n",
    "from my_library.horse import *"
   ]
  },
  {
   "cell_type": "markdown",
   "id": "1782806f-f29f-40fe-9c06-7dfca7dd2339",
   "metadata": {},
   "source": [
    "# path"
   ]
  },
  {
   "cell_type": "code",
   "execution_count": 2,
   "id": "8a4008e3-1c76-4f8e-b375-0f3533379d5b",
   "metadata": {},
   "outputs": [],
   "source": [
    "path_ubu = '/home/hipro/デスクトップ/Horse/Data/20_21'\n",
    "path_win2 = '/Users/rince/Desktop/Horse/Data/saishin2/'\n",
    "path_win = '/Users/rince/Desktop/Horse/Data/saishin/'\n",
    "path_win = '/Users/Owner/Desktop/program/Horse/Data/saishin/'\n",
    "path_win2 = '/Users/Owner/Desktop/program/Horse/Data/saishin2/'\n",
    "path_ft = '/Users/Owner/Desktop/Horse/ft_data/peds_ft.txt'"
   ]
  },
  {
   "cell_type": "markdown",
   "id": "a920e716-5257-45d8-9831-2effe586aa2c",
   "metadata": {},
   "source": [
    "# load data"
   ]
  },
  {
   "cell_type": "code",
   "execution_count": 2,
   "id": "bf820811",
   "metadata": {},
   "outputs": [],
   "source": [
    "path_tmp = '/Users/rince/Desktop/Horse/Data/2020/'\n",
    "\n",
    "results = load_csv(path_tmp+'results_2020.csv')\n",
    "horse_results = load_csv(path_tmp+'horse_2020.csv')\n",
    "peds = load_csv(path_tmp+'peds_2020.csv')\n",
    "# 何回やってもロードすると, nanが出る\n",
    "peds.fillna('nan',inplace=True)\n",
    "return_tables = load_csv(path_tmp+'returns_2020.csv')\n",
    "return_tables.rename(columns={'0':0,'1':1,'2':2,'3':3},inplace=True)"
   ]
  },
  {
   "cell_type": "code",
   "execution_count": 4,
   "id": "2cafb76f-29dc-4841-bb1b-2792c246cd20",
   "metadata": {
    "tags": []
   },
   "outputs": [],
   "source": [
    "results = load_csv(path_win+'results.csv')\n",
    "horse_results = load_csv(path_win+'horse_results.csv')\n",
    "peds = load_csv(path_win+'peds.csv')\n",
    "# 何回やってもロードすると, nanが出る\n",
    "peds.fillna('nan',inplace=True)\n",
    "return_tables = load_csv(path_win+'return.csv')\n",
    "return_tables.rename(columns={'0':0,'1':1,'2':2,'3':3},inplace=True)"
   ]
  },
  {
   "cell_type": "code",
   "execution_count": 11,
   "id": "332acd97",
   "metadata": {},
   "outputs": [
    {
     "data": {
      "text/plain": [
       "46968"
      ]
     },
     "execution_count": 11,
     "metadata": {},
     "output_type": "execute_result"
    }
   ],
   "source": [
    "len(results)"
   ]
  },
  {
   "cell_type": "markdown",
   "id": "6897b3ed-08f1-452f-bc5c-840f04015aed",
   "metadata": {},
   "source": [
    "# race_id 命名規則"
   ]
  },
  {
   "cell_type": "markdown",
   "id": "f840d19f-0d83-4c24-a9d6-245b20e6eac6",
   "metadata": {},
   "source": [
    "race_id 202105040802\\\n",
    "yyyy_pp_xx_xxrr\\\n",
    "y : year\\\n",
    "p : palce\\\n",
    "x : 謎\\\n",
    "r : race番号"
   ]
  },
  {
   "cell_type": "code",
   "execution_count": 5,
   "id": "c895357f",
   "metadata": {},
   "outputs": [
    {
     "data": {
      "application/vnd.jupyter.widget-view+json": {
       "model_id": "745698b030314e488905708296eb59b3",
       "version_major": 2,
       "version_minor": 0
      },
      "text/plain": [
       "HBox(children=(FloatProgress(value=0.0, max=11495.0), HTML(value='')))"
      ]
     },
     "metadata": {},
     "output_type": "display_data"
    },
    {
     "name": "stdout",
     "output_type": "stream",
     "text": [
      "\n"
     ]
    },
    {
     "data": {
      "application/vnd.jupyter.widget-view+json": {
       "model_id": "73e18383dc9043e990e5968084c87d17",
       "version_major": 2,
       "version_minor": 0
      },
      "text/plain": [
       "HBox(children=(FloatProgress(value=0.0, max=11495.0), HTML(value='')))"
      ]
     },
     "metadata": {},
     "output_type": "display_data"
    },
    {
     "name": "stdout",
     "output_type": "stream",
     "text": [
      "\n",
      "pe finish\n",
      "pe regularizrd\n"
     ]
    },
    {
     "data": {
      "application/vnd.jupyter.widget-view+json": {
       "model_id": "988a2690da8348f6aa3d8e0e928b71dc",
       "version_major": 2,
       "version_minor": 0
      },
      "text/plain": [
       "HBox(children=(FloatProgress(value=0.0, max=109.0), HTML(value='')))"
      ]
     },
     "metadata": {},
     "output_type": "display_data"
    },
    {
     "name": "stdout",
     "output_type": "stream",
     "text": [
      "\n"
     ]
    },
    {
     "data": {
      "application/vnd.jupyter.widget-view+json": {
       "model_id": "93af3ba6ee7d4bfa806638a4a4e9cf3f",
       "version_major": 2,
       "version_minor": 0
      },
      "text/plain": [
       "HBox(children=(FloatProgress(value=0.0, max=109.0), HTML(value='')))"
      ]
     },
     "metadata": {},
     "output_type": "display_data"
    },
    {
     "name": "stdout",
     "output_type": "stream",
     "text": [
      "\n"
     ]
    },
    {
     "data": {
      "application/vnd.jupyter.widget-view+json": {
       "model_id": "03a7363665ed467190204b158b3b3829",
       "version_major": 2,
       "version_minor": 0
      },
      "text/plain": [
       "HBox(children=(FloatProgress(value=0.0, max=109.0), HTML(value='')))"
      ]
     },
     "metadata": {},
     "output_type": "display_data"
    },
    {
     "name": "stdout",
     "output_type": "stream",
     "text": [
      "\n"
     ]
    },
    {
     "name": "stderr",
     "output_type": "stream",
     "text": [
      "/Users/rince/Library/Python/3.7/lib/python/site-packages/lightgbm/engine.py:151: UserWarning: Found `n_estimators` in params. Will use it instead of argument\n",
      "  warnings.warn(\"Found `{}` in params. Will use it instead of argument\".format(alias))\n"
     ]
    },
    {
     "name": "stdout",
     "output_type": "stream",
     "text": [
      "[LightGBM] [Info] Total Bins 40892\n",
      "[LightGBM] [Info] Number of data points in the train set: 37228, number of used features: 172\n"
     ]
    }
   ],
   "source": [
    "ll = LearnLGBM(peds,results,horse_results)\n",
    "ll.path_ft = \"/Users/rince/Desktop/Horse/code/horse/peds_ft.txt\"\n",
    "ll.learn_lgb()"
   ]
  },
  {
   "cell_type": "code",
   "execution_count": 10,
   "id": "adff9124",
   "metadata": {},
   "outputs": [
    {
     "name": "stdout",
     "output_type": "stream",
     "text": [
      "枠番\n",
      "馬番\n",
      "斤量\n",
      "course_len\n",
      "horse_id\n",
      "jockey_id\n",
      "年齢\n",
      "体重\n",
      "体重変化\n",
      "n_horse\n",
      "着順_5R\n",
      "賞金_5R\n",
      "着差_5R\n",
      "first_corner_5R\n",
      "first_to_rank_5R\n",
      "first_to_final_5R\n",
      "final_to_rank_5R\n",
      "着順_course_len_5R\n",
      "賞金_course_len_5R\n",
      "着差_course_len_5R\n",
      "first_corner_course_len_5R\n",
      "first_to_rank_course_len_5R\n",
      "first_to_final_course_len_5R\n",
      "final_to_rank_course_len_5R\n",
      "着順_race_type_5R\n",
      "賞金_race_type_5R\n",
      "着差_race_type_5R\n",
      "first_corner_race_type_5R\n",
      "first_to_rank_race_type_5R\n",
      "first_to_final_race_type_5R\n",
      "final_to_rank_race_type_5R\n",
      "着順_開催_5R\n",
      "賞金_開催_5R\n",
      "着差_開催_5R\n",
      "first_corner_開催_5R\n",
      "first_to_rank_開催_5R\n",
      "first_to_final_開催_5R\n",
      "final_to_rank_開催_5R\n",
      "着順_9R\n",
      "賞金_9R\n",
      "着差_9R\n",
      "first_corner_9R\n",
      "first_to_rank_9R\n",
      "first_to_final_9R\n",
      "final_to_rank_9R\n",
      "着順_course_len_9R\n",
      "賞金_course_len_9R\n",
      "着差_course_len_9R\n",
      "first_corner_course_len_9R\n",
      "first_to_rank_course_len_9R\n",
      "first_to_final_course_len_9R\n",
      "final_to_rank_course_len_9R\n",
      "着順_race_type_9R\n",
      "賞金_race_type_9R\n",
      "着差_race_type_9R\n",
      "first_corner_race_type_9R\n",
      "first_to_rank_race_type_9R\n",
      "first_to_final_race_type_9R\n",
      "final_to_rank_race_type_9R\n",
      "着順_開催_9R\n",
      "賞金_開催_9R\n",
      "着差_開催_9R\n",
      "first_corner_開催_9R\n",
      "first_to_rank_開催_9R\n",
      "first_to_final_開催_9R\n",
      "final_to_rank_開催_9R\n",
      "着順_allR\n",
      "賞金_allR\n",
      "着差_allR\n",
      "first_corner_allR\n",
      "first_to_rank_allR\n",
      "first_to_final_allR\n",
      "final_to_rank_allR\n",
      "着順_course_len_allR\n",
      "賞金_course_len_allR\n",
      "着差_course_len_allR\n",
      "first_corner_course_len_allR\n",
      "first_to_rank_course_len_allR\n",
      "first_to_final_course_len_allR\n",
      "final_to_rank_course_len_allR\n",
      "着順_race_type_allR\n",
      "賞金_race_type_allR\n",
      "着差_race_type_allR\n",
      "first_corner_race_type_allR\n",
      "first_to_rank_race_type_allR\n",
      "first_to_final_race_type_allR\n",
      "final_to_rank_race_type_allR\n",
      "着順_開催_allR\n",
      "賞金_開催_allR\n",
      "着差_開催_allR\n",
      "first_corner_開催_allR\n",
      "first_to_rank_開催_allR\n",
      "first_to_final_開催_allR\n",
      "final_to_rank_開催_allR\n",
      "peds_0\n",
      "peds_1\n",
      "peds_2\n",
      "peds_3\n",
      "peds_4\n",
      "peds_5\n",
      "peds_6\n",
      "peds_7\n",
      "peds_8\n",
      "peds_9\n",
      "peds_10\n",
      "peds_11\n",
      "peds_12\n",
      "peds_13\n",
      "peds_14\n",
      "peds_15\n",
      "peds_16\n",
      "peds_17\n",
      "peds_18\n",
      "peds_19\n",
      "peds_20\n",
      "peds_21\n",
      "peds_22\n",
      "peds_23\n",
      "peds_24\n",
      "peds_25\n",
      "peds_26\n",
      "peds_27\n",
      "peds_28\n",
      "peds_29\n",
      "peds_30\n",
      "peds_31\n",
      "peds_32\n",
      "peds_33\n",
      "peds_34\n",
      "peds_35\n",
      "peds_36\n",
      "peds_37\n",
      "peds_38\n",
      "peds_39\n",
      "peds_40\n",
      "peds_41\n",
      "peds_42\n",
      "peds_43\n",
      "peds_44\n",
      "peds_45\n",
      "peds_46\n",
      "peds_47\n",
      "peds_48\n",
      "peds_49\n",
      "peds_50\n",
      "peds_51\n",
      "peds_52\n",
      "peds_53\n",
      "peds_54\n",
      "peds_55\n",
      "peds_56\n",
      "peds_57\n",
      "peds_58\n",
      "peds_59\n",
      "peds_60\n",
      "peds_61\n",
      "weather_曇\n",
      "weather_晴\n",
      "weather_雨\n",
      "weather_小雨\n",
      "weather_雪\n",
      "weather_小雪\n",
      "race_type_芝\n",
      "race_type_ダート\n",
      "race_type_障害\n",
      "ground_state_良\n",
      "ground_state_稍重\n",
      "ground_state_重\n",
      "ground_state_不良\n",
      "性_牝\n",
      "性_牡\n",
      "性_セ\n"
     ]
    }
   ],
   "source": [
    "for col in ll.x_train.columns:\n",
    "    print(col)"
   ]
  },
  {
   "cell_type": "code",
   "execution_count": 51,
   "id": "3ea3a0f9",
   "metadata": {},
   "outputs": [
    {
     "data": {
      "text/plain": [
       "202008010106    0.0\n",
       "202005010209    0.0\n",
       "202006020109    0.0\n",
       "202009020609    0.0\n",
       "202002010112    0.0\n",
       "202002020208    2.0\n",
       "202001020408    0.0\n",
       "202001020807    3.0\n",
       "202007020708    0.0\n",
       "Name: 着順_開催_5R, dtype: float64"
      ]
     },
     "execution_count": 51,
     "metadata": {},
     "output_type": "execute_result"
    }
   ],
   "source": [
    "ll.x_train[ll.x_train['horse_id']==7317]['着順_開催_5R']"
   ]
  },
  {
   "cell_type": "code",
   "execution_count": null,
   "id": "a702ca2c",
   "metadata": {},
   "outputs": [],
   "source": [
    "# 平均じゃなくて, そのままの値が入っている"
   ]
  },
  {
   "cell_type": "code",
   "execution_count": 50,
   "id": "b7390814",
   "metadata": {},
   "outputs": [
    {
     "data": {
      "text/plain": [
       "202008010106    464\n",
       "202005010209    462\n",
       "202006020109    454\n",
       "202009020609    456\n",
       "202002010112    460\n",
       "202002020208    460\n",
       "202001020408    458\n",
       "202001020807    456\n",
       "202007020708    452\n",
       "Name: 体重, dtype: int64"
      ]
     },
     "execution_count": 50,
     "metadata": {},
     "output_type": "execute_result"
    }
   ],
   "source": []
  },
  {
   "cell_type": "code",
   "execution_count": 47,
   "id": "b03d5335",
   "metadata": {},
   "outputs": [
    {
     "data": {
      "text/html": [
       "<div>\n",
       "<style scoped>\n",
       "    .dataframe tbody tr th:only-of-type {\n",
       "        vertical-align: middle;\n",
       "    }\n",
       "\n",
       "    .dataframe tbody tr th {\n",
       "        vertical-align: top;\n",
       "    }\n",
       "\n",
       "    .dataframe thead th {\n",
       "        text-align: right;\n",
       "    }\n",
       "</style>\n",
       "<table border=\"1\" class=\"dataframe\">\n",
       "  <thead>\n",
       "    <tr style=\"text-align: right;\">\n",
       "      <th></th>\n",
       "      <th>着順</th>\n",
       "      <th>枠番</th>\n",
       "      <th>馬番</th>\n",
       "      <th>馬名</th>\n",
       "      <th>性齢</th>\n",
       "      <th>斤量</th>\n",
       "      <th>騎手</th>\n",
       "      <th>タイム</th>\n",
       "      <th>着差</th>\n",
       "      <th>単勝</th>\n",
       "      <th>人気</th>\n",
       "      <th>馬体重</th>\n",
       "      <th>調教師</th>\n",
       "      <th>course_len</th>\n",
       "      <th>weather</th>\n",
       "      <th>race_type</th>\n",
       "      <th>ground_state</th>\n",
       "      <th>date</th>\n",
       "      <th>horse_id</th>\n",
       "      <th>jockey_id</th>\n",
       "    </tr>\n",
       "  </thead>\n",
       "  <tbody>\n",
       "    <tr>\n",
       "      <th>202002020208</th>\n",
       "      <td>1</td>\n",
       "      <td>2</td>\n",
       "      <td>2</td>\n",
       "      <td>ポリアンサ</td>\n",
       "      <td>牝4</td>\n",
       "      <td>55.0</td>\n",
       "      <td>杉原誠人</td>\n",
       "      <td>2:01.5</td>\n",
       "      <td>NaN</td>\n",
       "      <td>27.2</td>\n",
       "      <td>7.0</td>\n",
       "      <td>482(+6)</td>\n",
       "      <td>[東] 木村哲也</td>\n",
       "      <td>2000</td>\n",
       "      <td>曇</td>\n",
       "      <td>芝</td>\n",
       "      <td>良</td>\n",
       "      <td>2020年7月5日</td>\n",
       "      <td>2016104241</td>\n",
       "      <td>1135</td>\n",
       "    </tr>\n",
       "    <tr>\n",
       "      <th>202002020208</th>\n",
       "      <td>2</td>\n",
       "      <td>3</td>\n",
       "      <td>3</td>\n",
       "      <td>ルビーカサブランカ</td>\n",
       "      <td>牝3</td>\n",
       "      <td>52.0</td>\n",
       "      <td>藤岡康太</td>\n",
       "      <td>2:02.2</td>\n",
       "      <td>4</td>\n",
       "      <td>2.8</td>\n",
       "      <td>1.0</td>\n",
       "      <td>460(0)</td>\n",
       "      <td>[西] 須貝尚介</td>\n",
       "      <td>2000</td>\n",
       "      <td>曇</td>\n",
       "      <td>芝</td>\n",
       "      <td>良</td>\n",
       "      <td>2020年7月5日</td>\n",
       "      <td>2017105582</td>\n",
       "      <td>1116</td>\n",
       "    </tr>\n",
       "    <tr>\n",
       "      <th>202002020208</th>\n",
       "      <td>3</td>\n",
       "      <td>7</td>\n",
       "      <td>7</td>\n",
       "      <td>イルマタル</td>\n",
       "      <td>牝4</td>\n",
       "      <td>55.0</td>\n",
       "      <td>藤岡佑介</td>\n",
       "      <td>2:02.5</td>\n",
       "      <td>2</td>\n",
       "      <td>3.8</td>\n",
       "      <td>3.0</td>\n",
       "      <td>466(+24)</td>\n",
       "      <td>[西] 渡辺薫彦</td>\n",
       "      <td>2000</td>\n",
       "      <td>曇</td>\n",
       "      <td>芝</td>\n",
       "      <td>良</td>\n",
       "      <td>2020年7月5日</td>\n",
       "      <td>2016105066</td>\n",
       "      <td>1093</td>\n",
       "    </tr>\n",
       "    <tr>\n",
       "      <th>202002020208</th>\n",
       "      <td>4</td>\n",
       "      <td>1</td>\n",
       "      <td>1</td>\n",
       "      <td>アークロイヤル</td>\n",
       "      <td>牝4</td>\n",
       "      <td>55.0</td>\n",
       "      <td>岩田康誠</td>\n",
       "      <td>2:02.7</td>\n",
       "      <td>1.1/4</td>\n",
       "      <td>11.2</td>\n",
       "      <td>5.0</td>\n",
       "      <td>422(+2)</td>\n",
       "      <td>[西] 今野貞一</td>\n",
       "      <td>2000</td>\n",
       "      <td>曇</td>\n",
       "      <td>芝</td>\n",
       "      <td>良</td>\n",
       "      <td>2020年7月5日</td>\n",
       "      <td>2016104968</td>\n",
       "      <td>5203</td>\n",
       "    </tr>\n",
       "    <tr>\n",
       "      <th>202002020208</th>\n",
       "      <td>5</td>\n",
       "      <td>8</td>\n",
       "      <td>9</td>\n",
       "      <td>ウインアルカンナ</td>\n",
       "      <td>牝3</td>\n",
       "      <td>52.0</td>\n",
       "      <td>横山武史</td>\n",
       "      <td>2:03.3</td>\n",
       "      <td>3.1/2</td>\n",
       "      <td>3.0</td>\n",
       "      <td>2.0</td>\n",
       "      <td>462(+10)</td>\n",
       "      <td>[東] 武市康男</td>\n",
       "      <td>2000</td>\n",
       "      <td>曇</td>\n",
       "      <td>芝</td>\n",
       "      <td>良</td>\n",
       "      <td>2020年7月5日</td>\n",
       "      <td>2017101417</td>\n",
       "      <td>1170</td>\n",
       "    </tr>\n",
       "    <tr>\n",
       "      <th>202002020208</th>\n",
       "      <td>6</td>\n",
       "      <td>4</td>\n",
       "      <td>4</td>\n",
       "      <td>デサフィアンテ</td>\n",
       "      <td>牝5</td>\n",
       "      <td>55.0</td>\n",
       "      <td>丸山元気</td>\n",
       "      <td>2:03.5</td>\n",
       "      <td>1.1/4</td>\n",
       "      <td>9.4</td>\n",
       "      <td>4.0</td>\n",
       "      <td>500(+2)</td>\n",
       "      <td>[東] 稲垣幸雄</td>\n",
       "      <td>2000</td>\n",
       "      <td>曇</td>\n",
       "      <td>芝</td>\n",
       "      <td>良</td>\n",
       "      <td>2020年7月5日</td>\n",
       "      <td>2015104642</td>\n",
       "      <td>1127</td>\n",
       "    </tr>\n",
       "    <tr>\n",
       "      <th>202002020208</th>\n",
       "      <td>7</td>\n",
       "      <td>5</td>\n",
       "      <td>5</td>\n",
       "      <td>マジックリアリズム</td>\n",
       "      <td>牝4</td>\n",
       "      <td>55.0</td>\n",
       "      <td>大野拓弥</td>\n",
       "      <td>2:03.5</td>\n",
       "      <td>ハナ</td>\n",
       "      <td>23.4</td>\n",
       "      <td>6.0</td>\n",
       "      <td>462(+6)</td>\n",
       "      <td>[東] 尾関知人</td>\n",
       "      <td>2000</td>\n",
       "      <td>曇</td>\n",
       "      <td>芝</td>\n",
       "      <td>良</td>\n",
       "      <td>2020年7月5日</td>\n",
       "      <td>2016105091</td>\n",
       "      <td>1096</td>\n",
       "    </tr>\n",
       "    <tr>\n",
       "      <th>202002020208</th>\n",
       "      <td>8</td>\n",
       "      <td>6</td>\n",
       "      <td>6</td>\n",
       "      <td>レディーキティ</td>\n",
       "      <td>牝5</td>\n",
       "      <td>55.0</td>\n",
       "      <td>国分恭介</td>\n",
       "      <td>2:03.7</td>\n",
       "      <td>3/4</td>\n",
       "      <td>35.2</td>\n",
       "      <td>8.0</td>\n",
       "      <td>406(-4)</td>\n",
       "      <td>[西] 野中賢二</td>\n",
       "      <td>2000</td>\n",
       "      <td>曇</td>\n",
       "      <td>芝</td>\n",
       "      <td>良</td>\n",
       "      <td>2020年7月5日</td>\n",
       "      <td>2015104245</td>\n",
       "      <td>1124</td>\n",
       "    </tr>\n",
       "    <tr>\n",
       "      <th>202002020208</th>\n",
       "      <td>9</td>\n",
       "      <td>7</td>\n",
       "      <td>8</td>\n",
       "      <td>レローヴ</td>\n",
       "      <td>牝6</td>\n",
       "      <td>55.0</td>\n",
       "      <td>横山和生</td>\n",
       "      <td>2:04.1</td>\n",
       "      <td>2.1/2</td>\n",
       "      <td>83.8</td>\n",
       "      <td>9.0</td>\n",
       "      <td>510(0)</td>\n",
       "      <td>[東] 黒岩陽一</td>\n",
       "      <td>2000</td>\n",
       "      <td>曇</td>\n",
       "      <td>芝</td>\n",
       "      <td>良</td>\n",
       "      <td>2020年7月5日</td>\n",
       "      <td>2014105371</td>\n",
       "      <td>1140</td>\n",
       "    </tr>\n",
       "    <tr>\n",
       "      <th>202002020208</th>\n",
       "      <td>10</td>\n",
       "      <td>8</td>\n",
       "      <td>10</td>\n",
       "      <td>ミフリマ</td>\n",
       "      <td>牝4</td>\n",
       "      <td>53.0</td>\n",
       "      <td>亀田温心</td>\n",
       "      <td>2:04.5</td>\n",
       "      <td>2.1/2</td>\n",
       "      <td>248.2</td>\n",
       "      <td>10.0</td>\n",
       "      <td>452(+4)</td>\n",
       "      <td>[東] 本間忍</td>\n",
       "      <td>2000</td>\n",
       "      <td>曇</td>\n",
       "      <td>芝</td>\n",
       "      <td>良</td>\n",
       "      <td>2020年7月5日</td>\n",
       "      <td>2016103653</td>\n",
       "      <td>1176</td>\n",
       "    </tr>\n",
       "  </tbody>\n",
       "</table>\n",
       "</div>"
      ],
      "text/plain": [
       "              着順  枠番  馬番         馬名  性齢    斤量    騎手     タイム     着差     単勝  \\\n",
       "202002020208   1   2   2      ポリアンサ  牝4  55.0  杉原誠人  2:01.5    NaN   27.2   \n",
       "202002020208   2   3   3  ルビーカサブランカ  牝3  52.0  藤岡康太  2:02.2      4    2.8   \n",
       "202002020208   3   7   7      イルマタル  牝4  55.0  藤岡佑介  2:02.5      2    3.8   \n",
       "202002020208   4   1   1    アークロイヤル  牝4  55.0  岩田康誠  2:02.7  1.1/4   11.2   \n",
       "202002020208   5   8   9   ウインアルカンナ  牝3  52.0  横山武史  2:03.3  3.1/2    3.0   \n",
       "202002020208   6   4   4    デサフィアンテ  牝5  55.0  丸山元気  2:03.5  1.1/4    9.4   \n",
       "202002020208   7   5   5  マジックリアリズム  牝4  55.0  大野拓弥  2:03.5     ハナ   23.4   \n",
       "202002020208   8   6   6    レディーキティ  牝5  55.0  国分恭介  2:03.7    3/4   35.2   \n",
       "202002020208   9   7   8       レローヴ  牝6  55.0  横山和生  2:04.1  2.1/2   83.8   \n",
       "202002020208  10   8  10       ミフリマ  牝4  53.0  亀田温心  2:04.5  2.1/2  248.2   \n",
       "\n",
       "                人気       馬体重       調教師  course_len weather race_type  \\\n",
       "202002020208   7.0   482(+6)  [東] 木村哲也        2000       曇         芝   \n",
       "202002020208   1.0    460(0)  [西] 須貝尚介        2000       曇         芝   \n",
       "202002020208   3.0  466(+24)  [西] 渡辺薫彦        2000       曇         芝   \n",
       "202002020208   5.0   422(+2)  [西] 今野貞一        2000       曇         芝   \n",
       "202002020208   2.0  462(+10)  [東] 武市康男        2000       曇         芝   \n",
       "202002020208   4.0   500(+2)  [東] 稲垣幸雄        2000       曇         芝   \n",
       "202002020208   6.0   462(+6)  [東] 尾関知人        2000       曇         芝   \n",
       "202002020208   8.0   406(-4)  [西] 野中賢二        2000       曇         芝   \n",
       "202002020208   9.0    510(0)  [東] 黒岩陽一        2000       曇         芝   \n",
       "202002020208  10.0   452(+4)   [東] 本間忍        2000       曇         芝   \n",
       "\n",
       "             ground_state       date    horse_id  jockey_id  \n",
       "202002020208            良  2020年7月5日  2016104241       1135  \n",
       "202002020208            良  2020年7月5日  2017105582       1116  \n",
       "202002020208            良  2020年7月5日  2016105066       1093  \n",
       "202002020208            良  2020年7月5日  2016104968       5203  \n",
       "202002020208            良  2020年7月5日  2017101417       1170  \n",
       "202002020208            良  2020年7月5日  2015104642       1127  \n",
       "202002020208            良  2020年7月5日  2016105091       1096  \n",
       "202002020208            良  2020年7月5日  2015104245       1124  \n",
       "202002020208            良  2020年7月5日  2014105371       1140  \n",
       "202002020208            良  2020年7月5日  2016103653       1176  "
      ]
     },
     "execution_count": 47,
     "metadata": {},
     "output_type": "execute_result"
    }
   ],
   "source": [
    "results.loc[202002020208]"
   ]
  },
  {
   "cell_type": "code",
   "execution_count": 46,
   "id": "f81a6ae2",
   "metadata": {},
   "outputs": [
    {
     "data": {
      "text/html": [
       "<div>\n",
       "<style scoped>\n",
       "    .dataframe tbody tr th:only-of-type {\n",
       "        vertical-align: middle;\n",
       "    }\n",
       "\n",
       "    .dataframe tbody tr th {\n",
       "        vertical-align: top;\n",
       "    }\n",
       "\n",
       "    .dataframe thead th {\n",
       "        text-align: right;\n",
       "    }\n",
       "</style>\n",
       "<table border=\"1\" class=\"dataframe\">\n",
       "  <thead>\n",
       "    <tr style=\"text-align: right;\">\n",
       "      <th></th>\n",
       "      <th>枠番</th>\n",
       "      <th>馬番</th>\n",
       "      <th>斤量</th>\n",
       "      <th>course_len</th>\n",
       "      <th>horse_id</th>\n",
       "      <th>jockey_id</th>\n",
       "      <th>年齢</th>\n",
       "      <th>体重</th>\n",
       "      <th>体重変化</th>\n",
       "      <th>n_horse</th>\n",
       "      <th>...</th>\n",
       "      <th>race_type_芝</th>\n",
       "      <th>race_type_ダート</th>\n",
       "      <th>race_type_障害</th>\n",
       "      <th>ground_state_良</th>\n",
       "      <th>ground_state_稍重</th>\n",
       "      <th>ground_state_重</th>\n",
       "      <th>ground_state_不良</th>\n",
       "      <th>性_牝</th>\n",
       "      <th>性_牡</th>\n",
       "      <th>性_セ</th>\n",
       "    </tr>\n",
       "  </thead>\n",
       "  <tbody>\n",
       "    <tr>\n",
       "      <th>202008010106</th>\n",
       "      <td>3</td>\n",
       "      <td>5</td>\n",
       "      <td>54.0</td>\n",
       "      <td>18.0</td>\n",
       "      <td>7317</td>\n",
       "      <td>56</td>\n",
       "      <td>3</td>\n",
       "      <td>464</td>\n",
       "      <td>0</td>\n",
       "      <td>16</td>\n",
       "      <td>...</td>\n",
       "      <td>1</td>\n",
       "      <td>0</td>\n",
       "      <td>0</td>\n",
       "      <td>1</td>\n",
       "      <td>0</td>\n",
       "      <td>0</td>\n",
       "      <td>0</td>\n",
       "      <td>1</td>\n",
       "      <td>0</td>\n",
       "      <td>0</td>\n",
       "    </tr>\n",
       "    <tr>\n",
       "      <th>202008010106</th>\n",
       "      <td>2</td>\n",
       "      <td>3</td>\n",
       "      <td>54.0</td>\n",
       "      <td>18.0</td>\n",
       "      <td>5563</td>\n",
       "      <td>13</td>\n",
       "      <td>3</td>\n",
       "      <td>418</td>\n",
       "      <td>0</td>\n",
       "      <td>16</td>\n",
       "      <td>...</td>\n",
       "      <td>1</td>\n",
       "      <td>0</td>\n",
       "      <td>0</td>\n",
       "      <td>1</td>\n",
       "      <td>0</td>\n",
       "      <td>0</td>\n",
       "      <td>0</td>\n",
       "      <td>1</td>\n",
       "      <td>0</td>\n",
       "      <td>0</td>\n",
       "    </tr>\n",
       "    <tr>\n",
       "      <th>202008010106</th>\n",
       "      <td>2</td>\n",
       "      <td>4</td>\n",
       "      <td>56.0</td>\n",
       "      <td>18.0</td>\n",
       "      <td>7329</td>\n",
       "      <td>21</td>\n",
       "      <td>3</td>\n",
       "      <td>496</td>\n",
       "      <td>0</td>\n",
       "      <td>16</td>\n",
       "      <td>...</td>\n",
       "      <td>1</td>\n",
       "      <td>0</td>\n",
       "      <td>0</td>\n",
       "      <td>1</td>\n",
       "      <td>0</td>\n",
       "      <td>0</td>\n",
       "      <td>0</td>\n",
       "      <td>0</td>\n",
       "      <td>1</td>\n",
       "      <td>0</td>\n",
       "    </tr>\n",
       "    <tr>\n",
       "      <th>202008010106</th>\n",
       "      <td>5</td>\n",
       "      <td>9</td>\n",
       "      <td>56.0</td>\n",
       "      <td>18.0</td>\n",
       "      <td>4228</td>\n",
       "      <td>82</td>\n",
       "      <td>3</td>\n",
       "      <td>490</td>\n",
       "      <td>0</td>\n",
       "      <td>16</td>\n",
       "      <td>...</td>\n",
       "      <td>1</td>\n",
       "      <td>0</td>\n",
       "      <td>0</td>\n",
       "      <td>1</td>\n",
       "      <td>0</td>\n",
       "      <td>0</td>\n",
       "      <td>0</td>\n",
       "      <td>0</td>\n",
       "      <td>1</td>\n",
       "      <td>0</td>\n",
       "    </tr>\n",
       "    <tr>\n",
       "      <th>202008010106</th>\n",
       "      <td>4</td>\n",
       "      <td>8</td>\n",
       "      <td>54.0</td>\n",
       "      <td>18.0</td>\n",
       "      <td>4881</td>\n",
       "      <td>91</td>\n",
       "      <td>3</td>\n",
       "      <td>442</td>\n",
       "      <td>0</td>\n",
       "      <td>16</td>\n",
       "      <td>...</td>\n",
       "      <td>1</td>\n",
       "      <td>0</td>\n",
       "      <td>0</td>\n",
       "      <td>1</td>\n",
       "      <td>0</td>\n",
       "      <td>0</td>\n",
       "      <td>0</td>\n",
       "      <td>1</td>\n",
       "      <td>0</td>\n",
       "      <td>0</td>\n",
       "    </tr>\n",
       "    <tr>\n",
       "      <th>202008010106</th>\n",
       "      <td>5</td>\n",
       "      <td>10</td>\n",
       "      <td>52.0</td>\n",
       "      <td>18.0</td>\n",
       "      <td>7558</td>\n",
       "      <td>124</td>\n",
       "      <td>3</td>\n",
       "      <td>468</td>\n",
       "      <td>0</td>\n",
       "      <td>16</td>\n",
       "      <td>...</td>\n",
       "      <td>1</td>\n",
       "      <td>0</td>\n",
       "      <td>0</td>\n",
       "      <td>1</td>\n",
       "      <td>0</td>\n",
       "      <td>0</td>\n",
       "      <td>0</td>\n",
       "      <td>1</td>\n",
       "      <td>0</td>\n",
       "      <td>0</td>\n",
       "    </tr>\n",
       "    <tr>\n",
       "      <th>202008010106</th>\n",
       "      <td>8</td>\n",
       "      <td>15</td>\n",
       "      <td>54.0</td>\n",
       "      <td>18.0</td>\n",
       "      <td>5520</td>\n",
       "      <td>6</td>\n",
       "      <td>3</td>\n",
       "      <td>460</td>\n",
       "      <td>0</td>\n",
       "      <td>16</td>\n",
       "      <td>...</td>\n",
       "      <td>1</td>\n",
       "      <td>0</td>\n",
       "      <td>0</td>\n",
       "      <td>1</td>\n",
       "      <td>0</td>\n",
       "      <td>0</td>\n",
       "      <td>0</td>\n",
       "      <td>1</td>\n",
       "      <td>0</td>\n",
       "      <td>0</td>\n",
       "    </tr>\n",
       "    <tr>\n",
       "      <th>202008010106</th>\n",
       "      <td>1</td>\n",
       "      <td>1</td>\n",
       "      <td>56.0</td>\n",
       "      <td>18.0</td>\n",
       "      <td>4380</td>\n",
       "      <td>61</td>\n",
       "      <td>3</td>\n",
       "      <td>484</td>\n",
       "      <td>0</td>\n",
       "      <td>16</td>\n",
       "      <td>...</td>\n",
       "      <td>1</td>\n",
       "      <td>0</td>\n",
       "      <td>0</td>\n",
       "      <td>1</td>\n",
       "      <td>0</td>\n",
       "      <td>0</td>\n",
       "      <td>0</td>\n",
       "      <td>0</td>\n",
       "      <td>1</td>\n",
       "      <td>0</td>\n",
       "    </tr>\n",
       "    <tr>\n",
       "      <th>202008010106</th>\n",
       "      <td>7</td>\n",
       "      <td>13</td>\n",
       "      <td>56.0</td>\n",
       "      <td>18.0</td>\n",
       "      <td>7545</td>\n",
       "      <td>136</td>\n",
       "      <td>3</td>\n",
       "      <td>440</td>\n",
       "      <td>0</td>\n",
       "      <td>16</td>\n",
       "      <td>...</td>\n",
       "      <td>1</td>\n",
       "      <td>0</td>\n",
       "      <td>0</td>\n",
       "      <td>1</td>\n",
       "      <td>0</td>\n",
       "      <td>0</td>\n",
       "      <td>0</td>\n",
       "      <td>0</td>\n",
       "      <td>1</td>\n",
       "      <td>0</td>\n",
       "    </tr>\n",
       "    <tr>\n",
       "      <th>202008010106</th>\n",
       "      <td>7</td>\n",
       "      <td>14</td>\n",
       "      <td>56.0</td>\n",
       "      <td>18.0</td>\n",
       "      <td>5676</td>\n",
       "      <td>80</td>\n",
       "      <td>3</td>\n",
       "      <td>448</td>\n",
       "      <td>0</td>\n",
       "      <td>16</td>\n",
       "      <td>...</td>\n",
       "      <td>1</td>\n",
       "      <td>0</td>\n",
       "      <td>0</td>\n",
       "      <td>1</td>\n",
       "      <td>0</td>\n",
       "      <td>0</td>\n",
       "      <td>0</td>\n",
       "      <td>0</td>\n",
       "      <td>1</td>\n",
       "      <td>0</td>\n",
       "    </tr>\n",
       "    <tr>\n",
       "      <th>202008010106</th>\n",
       "      <td>3</td>\n",
       "      <td>6</td>\n",
       "      <td>54.0</td>\n",
       "      <td>18.0</td>\n",
       "      <td>7582</td>\n",
       "      <td>113</td>\n",
       "      <td>3</td>\n",
       "      <td>474</td>\n",
       "      <td>0</td>\n",
       "      <td>16</td>\n",
       "      <td>...</td>\n",
       "      <td>1</td>\n",
       "      <td>0</td>\n",
       "      <td>0</td>\n",
       "      <td>1</td>\n",
       "      <td>0</td>\n",
       "      <td>0</td>\n",
       "      <td>0</td>\n",
       "      <td>1</td>\n",
       "      <td>0</td>\n",
       "      <td>0</td>\n",
       "    </tr>\n",
       "    <tr>\n",
       "      <th>202008010106</th>\n",
       "      <td>6</td>\n",
       "      <td>12</td>\n",
       "      <td>56.0</td>\n",
       "      <td>18.0</td>\n",
       "      <td>6914</td>\n",
       "      <td>60</td>\n",
       "      <td>3</td>\n",
       "      <td>490</td>\n",
       "      <td>0</td>\n",
       "      <td>16</td>\n",
       "      <td>...</td>\n",
       "      <td>1</td>\n",
       "      <td>0</td>\n",
       "      <td>0</td>\n",
       "      <td>1</td>\n",
       "      <td>0</td>\n",
       "      <td>0</td>\n",
       "      <td>0</td>\n",
       "      <td>0</td>\n",
       "      <td>1</td>\n",
       "      <td>0</td>\n",
       "    </tr>\n",
       "    <tr>\n",
       "      <th>202008010106</th>\n",
       "      <td>4</td>\n",
       "      <td>7</td>\n",
       "      <td>56.0</td>\n",
       "      <td>18.0</td>\n",
       "      <td>7694</td>\n",
       "      <td>105</td>\n",
       "      <td>3</td>\n",
       "      <td>514</td>\n",
       "      <td>0</td>\n",
       "      <td>16</td>\n",
       "      <td>...</td>\n",
       "      <td>1</td>\n",
       "      <td>0</td>\n",
       "      <td>0</td>\n",
       "      <td>1</td>\n",
       "      <td>0</td>\n",
       "      <td>0</td>\n",
       "      <td>0</td>\n",
       "      <td>0</td>\n",
       "      <td>1</td>\n",
       "      <td>0</td>\n",
       "    </tr>\n",
       "    <tr>\n",
       "      <th>202008010106</th>\n",
       "      <td>1</td>\n",
       "      <td>2</td>\n",
       "      <td>56.0</td>\n",
       "      <td>18.0</td>\n",
       "      <td>4353</td>\n",
       "      <td>86</td>\n",
       "      <td>3</td>\n",
       "      <td>464</td>\n",
       "      <td>0</td>\n",
       "      <td>16</td>\n",
       "      <td>...</td>\n",
       "      <td>1</td>\n",
       "      <td>0</td>\n",
       "      <td>0</td>\n",
       "      <td>1</td>\n",
       "      <td>0</td>\n",
       "      <td>0</td>\n",
       "      <td>0</td>\n",
       "      <td>0</td>\n",
       "      <td>1</td>\n",
       "      <td>0</td>\n",
       "    </tr>\n",
       "    <tr>\n",
       "      <th>202008010106</th>\n",
       "      <td>6</td>\n",
       "      <td>11</td>\n",
       "      <td>56.0</td>\n",
       "      <td>18.0</td>\n",
       "      <td>7784</td>\n",
       "      <td>139</td>\n",
       "      <td>3</td>\n",
       "      <td>442</td>\n",
       "      <td>0</td>\n",
       "      <td>16</td>\n",
       "      <td>...</td>\n",
       "      <td>1</td>\n",
       "      <td>0</td>\n",
       "      <td>0</td>\n",
       "      <td>1</td>\n",
       "      <td>0</td>\n",
       "      <td>0</td>\n",
       "      <td>0</td>\n",
       "      <td>0</td>\n",
       "      <td>1</td>\n",
       "      <td>0</td>\n",
       "    </tr>\n",
       "    <tr>\n",
       "      <th>202008010106</th>\n",
       "      <td>8</td>\n",
       "      <td>16</td>\n",
       "      <td>56.0</td>\n",
       "      <td>18.0</td>\n",
       "      <td>4827</td>\n",
       "      <td>23</td>\n",
       "      <td>3</td>\n",
       "      <td>510</td>\n",
       "      <td>0</td>\n",
       "      <td>16</td>\n",
       "      <td>...</td>\n",
       "      <td>1</td>\n",
       "      <td>0</td>\n",
       "      <td>0</td>\n",
       "      <td>1</td>\n",
       "      <td>0</td>\n",
       "      <td>0</td>\n",
       "      <td>0</td>\n",
       "      <td>0</td>\n",
       "      <td>1</td>\n",
       "      <td>0</td>\n",
       "    </tr>\n",
       "  </tbody>\n",
       "</table>\n",
       "<p>16 rows × 172 columns</p>\n",
       "</div>"
      ],
      "text/plain": [
       "              枠番  馬番    斤量  course_len horse_id jockey_id  年齢   体重  体重変化  \\\n",
       "202008010106   3   5  54.0        18.0     7317        56   3  464     0   \n",
       "202008010106   2   3  54.0        18.0     5563        13   3  418     0   \n",
       "202008010106   2   4  56.0        18.0     7329        21   3  496     0   \n",
       "202008010106   5   9  56.0        18.0     4228        82   3  490     0   \n",
       "202008010106   4   8  54.0        18.0     4881        91   3  442     0   \n",
       "202008010106   5  10  52.0        18.0     7558       124   3  468     0   \n",
       "202008010106   8  15  54.0        18.0     5520         6   3  460     0   \n",
       "202008010106   1   1  56.0        18.0     4380        61   3  484     0   \n",
       "202008010106   7  13  56.0        18.0     7545       136   3  440     0   \n",
       "202008010106   7  14  56.0        18.0     5676        80   3  448     0   \n",
       "202008010106   3   6  54.0        18.0     7582       113   3  474     0   \n",
       "202008010106   6  12  56.0        18.0     6914        60   3  490     0   \n",
       "202008010106   4   7  56.0        18.0     7694       105   3  514     0   \n",
       "202008010106   1   2  56.0        18.0     4353        86   3  464     0   \n",
       "202008010106   6  11  56.0        18.0     7784       139   3  442     0   \n",
       "202008010106   8  16  56.0        18.0     4827        23   3  510     0   \n",
       "\n",
       "              n_horse  ...  race_type_芝  race_type_ダート  race_type_障害  \\\n",
       "202008010106       16  ...            1              0             0   \n",
       "202008010106       16  ...            1              0             0   \n",
       "202008010106       16  ...            1              0             0   \n",
       "202008010106       16  ...            1              0             0   \n",
       "202008010106       16  ...            1              0             0   \n",
       "202008010106       16  ...            1              0             0   \n",
       "202008010106       16  ...            1              0             0   \n",
       "202008010106       16  ...            1              0             0   \n",
       "202008010106       16  ...            1              0             0   \n",
       "202008010106       16  ...            1              0             0   \n",
       "202008010106       16  ...            1              0             0   \n",
       "202008010106       16  ...            1              0             0   \n",
       "202008010106       16  ...            1              0             0   \n",
       "202008010106       16  ...            1              0             0   \n",
       "202008010106       16  ...            1              0             0   \n",
       "202008010106       16  ...            1              0             0   \n",
       "\n",
       "              ground_state_良  ground_state_稍重  ground_state_重  \\\n",
       "202008010106               1                0               0   \n",
       "202008010106               1                0               0   \n",
       "202008010106               1                0               0   \n",
       "202008010106               1                0               0   \n",
       "202008010106               1                0               0   \n",
       "202008010106               1                0               0   \n",
       "202008010106               1                0               0   \n",
       "202008010106               1                0               0   \n",
       "202008010106               1                0               0   \n",
       "202008010106               1                0               0   \n",
       "202008010106               1                0               0   \n",
       "202008010106               1                0               0   \n",
       "202008010106               1                0               0   \n",
       "202008010106               1                0               0   \n",
       "202008010106               1                0               0   \n",
       "202008010106               1                0               0   \n",
       "\n",
       "              ground_state_不良  性_牝  性_牡  性_セ  \n",
       "202008010106                0    1    0    0  \n",
       "202008010106                0    1    0    0  \n",
       "202008010106                0    0    1    0  \n",
       "202008010106                0    0    1    0  \n",
       "202008010106                0    1    0    0  \n",
       "202008010106                0    1    0    0  \n",
       "202008010106                0    1    0    0  \n",
       "202008010106                0    0    1    0  \n",
       "202008010106                0    0    1    0  \n",
       "202008010106                0    0    1    0  \n",
       "202008010106                0    1    0    0  \n",
       "202008010106                0    0    1    0  \n",
       "202008010106                0    0    1    0  \n",
       "202008010106                0    0    1    0  \n",
       "202008010106                0    0    1    0  \n",
       "202008010106                0    0    1    0  \n",
       "\n",
       "[16 rows x 172 columns]"
      ]
     },
     "execution_count": 46,
     "metadata": {},
     "output_type": "execute_result"
    }
   ],
   "source": [
    "ll.x_train.loc[ll.y_train.index[4]]"
   ]
  },
  {
   "cell_type": "code",
   "execution_count": 41,
   "id": "58108b4e",
   "metadata": {},
   "outputs": [
    {
     "data": {
      "text/plain": [
       "202008010106    1\n",
       "202008010106    1\n",
       "202008010106    1\n",
       "202008010106    0\n",
       "202008010106    0\n",
       "202008010106    0\n",
       "202008010106    0\n",
       "202008010106    0\n",
       "202008010106    0\n",
       "202008010106    0\n",
       "202008010106    0\n",
       "202008010106    0\n",
       "202008010106    0\n",
       "202008010106    0\n",
       "202008010106    0\n",
       "202008010106    0\n",
       "Name: rank, dtype: int64"
      ]
     },
     "execution_count": 41,
     "metadata": {},
     "output_type": "execute_result"
    }
   ],
   "source": [
    "ll.y_train.loc[ll.y_train.index[8]]"
   ]
  },
  {
   "cell_type": "code",
   "execution_count": 36,
   "id": "00bdbc19",
   "metadata": {},
   "outputs": [
    {
     "data": {
      "text/plain": [
       "202002020208    1\n",
       "202002020208    1\n",
       "202002020208    1\n",
       "202002020208    0\n",
       "202002020208    0\n",
       "202002020208    0\n",
       "202002020208    0\n",
       "202002020208    0\n",
       "202002020208    0\n",
       "202002020208    0\n",
       "Name: rank, dtype: int64"
      ]
     },
     "execution_count": 36,
     "metadata": {},
     "output_type": "execute_result"
    }
   ],
   "source": [
    "ll.y_train.loc[202002020208]"
   ]
  },
  {
   "cell_type": "markdown",
   "id": "94b133ed",
   "metadata": {},
   "source": [
    "# デバグ"
   ]
  },
  {
   "cell_type": "code",
   "execution_count": null,
   "id": "73b4f1bc",
   "metadata": {},
   "outputs": [],
   "source": [
    "x_train = ll.x_train\n",
    "y_train = ll.y_train\n",
    "x_test = ll.x_test\n",
    "y_test = ll.y_test"
   ]
  },
  {
   "cell_type": "code",
   "execution_count": 71,
   "id": "351ccec2",
   "metadata": {},
   "outputs": [
    {
     "name": "stdout",
     "output_type": "stream",
     "text": [
      "枠番\n",
      "馬番\n",
      "斤量\n",
      "course_len\n",
      "horse_id\n",
      "jockey_id\n",
      "年齢\n",
      "体重\n",
      "体重変化\n",
      "n_horse\n",
      "着順_5R\n",
      "賞金_5R\n",
      "着差_5R\n",
      "first_corner_5R\n",
      "first_to_rank_5R\n",
      "first_to_final_5R\n",
      "final_to_rank_5R\n",
      "着順_course_len_5R\n",
      "賞金_course_len_5R\n",
      "着差_course_len_5R\n",
      "first_corner_course_len_5R\n",
      "first_to_rank_course_len_5R\n",
      "first_to_final_course_len_5R\n",
      "final_to_rank_course_len_5R\n",
      "着順_race_type_5R\n",
      "賞金_race_type_5R\n",
      "着差_race_type_5R\n",
      "first_corner_race_type_5R\n",
      "first_to_rank_race_type_5R\n",
      "first_to_final_race_type_5R\n",
      "final_to_rank_race_type_5R\n",
      "着順_開催_5R\n",
      "賞金_開催_5R\n",
      "着差_開催_5R\n",
      "first_corner_開催_5R\n",
      "first_to_rank_開催_5R\n",
      "first_to_final_開催_5R\n",
      "final_to_rank_開催_5R\n",
      "着順_9R\n",
      "賞金_9R\n",
      "着差_9R\n",
      "first_corner_9R\n",
      "first_to_rank_9R\n",
      "first_to_final_9R\n",
      "final_to_rank_9R\n",
      "着順_course_len_9R\n",
      "賞金_course_len_9R\n",
      "着差_course_len_9R\n",
      "first_corner_course_len_9R\n",
      "first_to_rank_course_len_9R\n",
      "first_to_final_course_len_9R\n",
      "final_to_rank_course_len_9R\n",
      "着順_race_type_9R\n",
      "賞金_race_type_9R\n",
      "着差_race_type_9R\n",
      "first_corner_race_type_9R\n",
      "first_to_rank_race_type_9R\n",
      "first_to_final_race_type_9R\n",
      "final_to_rank_race_type_9R\n",
      "着順_開催_9R\n",
      "賞金_開催_9R\n",
      "着差_開催_9R\n",
      "first_corner_開催_9R\n",
      "first_to_rank_開催_9R\n",
      "first_to_final_開催_9R\n",
      "final_to_rank_開催_9R\n",
      "着順_allR\n",
      "賞金_allR\n",
      "着差_allR\n",
      "first_corner_allR\n",
      "first_to_rank_allR\n",
      "first_to_final_allR\n",
      "final_to_rank_allR\n",
      "着順_course_len_allR\n",
      "賞金_course_len_allR\n",
      "着差_course_len_allR\n",
      "first_corner_course_len_allR\n",
      "first_to_rank_course_len_allR\n",
      "first_to_final_course_len_allR\n",
      "final_to_rank_course_len_allR\n",
      "着順_race_type_allR\n",
      "賞金_race_type_allR\n",
      "着差_race_type_allR\n",
      "first_corner_race_type_allR\n",
      "first_to_rank_race_type_allR\n",
      "first_to_final_race_type_allR\n",
      "final_to_rank_race_type_allR\n",
      "着順_開催_allR\n",
      "賞金_開催_allR\n",
      "着差_開催_allR\n",
      "first_corner_開催_allR\n",
      "first_to_rank_開催_allR\n",
      "first_to_final_開催_allR\n",
      "final_to_rank_開催_allR\n",
      "peds_0\n",
      "peds_1\n",
      "peds_2\n",
      "peds_3\n",
      "peds_4\n",
      "peds_5\n",
      "peds_6\n",
      "peds_7\n",
      "peds_8\n",
      "peds_9\n",
      "peds_10\n",
      "peds_11\n",
      "peds_12\n",
      "peds_13\n",
      "peds_14\n",
      "peds_15\n",
      "peds_16\n",
      "peds_17\n",
      "peds_18\n",
      "peds_19\n",
      "peds_20\n",
      "peds_21\n",
      "peds_22\n",
      "peds_23\n",
      "peds_24\n",
      "peds_25\n",
      "peds_26\n",
      "peds_27\n",
      "peds_28\n",
      "peds_29\n",
      "peds_30\n",
      "peds_31\n",
      "peds_32\n",
      "peds_33\n",
      "peds_34\n",
      "peds_35\n",
      "peds_36\n",
      "peds_37\n",
      "peds_38\n",
      "peds_39\n",
      "peds_40\n",
      "peds_41\n",
      "peds_42\n",
      "peds_43\n",
      "peds_44\n",
      "peds_45\n",
      "peds_46\n",
      "peds_47\n",
      "peds_48\n",
      "peds_49\n",
      "peds_50\n",
      "peds_51\n",
      "peds_52\n",
      "peds_53\n",
      "peds_54\n",
      "peds_55\n",
      "peds_56\n",
      "peds_57\n",
      "peds_58\n",
      "peds_59\n",
      "peds_60\n",
      "peds_61\n",
      "weather_曇\n",
      "weather_晴\n",
      "weather_雨\n",
      "weather_小雨\n",
      "weather_雪\n",
      "weather_小雪\n",
      "race_type_芝\n",
      "race_type_ダート\n",
      "race_type_障害\n",
      "ground_state_良\n",
      "ground_state_稍重\n",
      "ground_state_重\n",
      "ground_state_不良\n",
      "性_牝\n",
      "性_牡\n",
      "性_セ\n"
     ]
    }
   ],
   "source": [
    "for col in x_train.columns:\n",
    "    print(col)"
   ]
  },
  {
   "cell_type": "code",
   "execution_count": 75,
   "id": "dd1e7a01",
   "metadata": {},
   "outputs": [
    {
     "data": {
      "text/html": [
       "<div>\n",
       "<style scoped>\n",
       "    .dataframe tbody tr th:only-of-type {\n",
       "        vertical-align: middle;\n",
       "    }\n",
       "\n",
       "    .dataframe tbody tr th {\n",
       "        vertical-align: top;\n",
       "    }\n",
       "\n",
       "    .dataframe thead th {\n",
       "        text-align: right;\n",
       "    }\n",
       "</style>\n",
       "<table border=\"1\" class=\"dataframe\">\n",
       "  <thead>\n",
       "    <tr style=\"text-align: right;\">\n",
       "      <th></th>\n",
       "      <th>枠番</th>\n",
       "      <th>馬番</th>\n",
       "      <th>斤量</th>\n",
       "      <th>course_len</th>\n",
       "      <th>horse_id</th>\n",
       "      <th>jockey_id</th>\n",
       "      <th>年齢</th>\n",
       "      <th>体重</th>\n",
       "      <th>体重変化</th>\n",
       "      <th>n_horse</th>\n",
       "      <th>...</th>\n",
       "      <th>race_type_芝</th>\n",
       "      <th>race_type_ダート</th>\n",
       "      <th>race_type_障害</th>\n",
       "      <th>ground_state_良</th>\n",
       "      <th>ground_state_稍重</th>\n",
       "      <th>ground_state_重</th>\n",
       "      <th>ground_state_不良</th>\n",
       "      <th>性_牝</th>\n",
       "      <th>性_牡</th>\n",
       "      <th>性_セ</th>\n",
       "    </tr>\n",
       "  </thead>\n",
       "  <tbody>\n",
       "    <tr>\n",
       "      <th>202008010106</th>\n",
       "      <td>3</td>\n",
       "      <td>5</td>\n",
       "      <td>54.0</td>\n",
       "      <td>18.0</td>\n",
       "      <td>7317</td>\n",
       "      <td>56</td>\n",
       "      <td>3</td>\n",
       "      <td>464</td>\n",
       "      <td>0</td>\n",
       "      <td>16</td>\n",
       "      <td>...</td>\n",
       "      <td>1</td>\n",
       "      <td>0</td>\n",
       "      <td>0</td>\n",
       "      <td>1</td>\n",
       "      <td>0</td>\n",
       "      <td>0</td>\n",
       "      <td>0</td>\n",
       "      <td>1</td>\n",
       "      <td>0</td>\n",
       "      <td>0</td>\n",
       "    </tr>\n",
       "    <tr>\n",
       "      <th>202008010106</th>\n",
       "      <td>2</td>\n",
       "      <td>3</td>\n",
       "      <td>54.0</td>\n",
       "      <td>18.0</td>\n",
       "      <td>5563</td>\n",
       "      <td>13</td>\n",
       "      <td>3</td>\n",
       "      <td>418</td>\n",
       "      <td>0</td>\n",
       "      <td>16</td>\n",
       "      <td>...</td>\n",
       "      <td>1</td>\n",
       "      <td>0</td>\n",
       "      <td>0</td>\n",
       "      <td>1</td>\n",
       "      <td>0</td>\n",
       "      <td>0</td>\n",
       "      <td>0</td>\n",
       "      <td>1</td>\n",
       "      <td>0</td>\n",
       "      <td>0</td>\n",
       "    </tr>\n",
       "    <tr>\n",
       "      <th>202008010106</th>\n",
       "      <td>2</td>\n",
       "      <td>4</td>\n",
       "      <td>56.0</td>\n",
       "      <td>18.0</td>\n",
       "      <td>7329</td>\n",
       "      <td>21</td>\n",
       "      <td>3</td>\n",
       "      <td>496</td>\n",
       "      <td>0</td>\n",
       "      <td>16</td>\n",
       "      <td>...</td>\n",
       "      <td>1</td>\n",
       "      <td>0</td>\n",
       "      <td>0</td>\n",
       "      <td>1</td>\n",
       "      <td>0</td>\n",
       "      <td>0</td>\n",
       "      <td>0</td>\n",
       "      <td>0</td>\n",
       "      <td>1</td>\n",
       "      <td>0</td>\n",
       "    </tr>\n",
       "    <tr>\n",
       "      <th>202008010106</th>\n",
       "      <td>5</td>\n",
       "      <td>9</td>\n",
       "      <td>56.0</td>\n",
       "      <td>18.0</td>\n",
       "      <td>4228</td>\n",
       "      <td>82</td>\n",
       "      <td>3</td>\n",
       "      <td>490</td>\n",
       "      <td>0</td>\n",
       "      <td>16</td>\n",
       "      <td>...</td>\n",
       "      <td>1</td>\n",
       "      <td>0</td>\n",
       "      <td>0</td>\n",
       "      <td>1</td>\n",
       "      <td>0</td>\n",
       "      <td>0</td>\n",
       "      <td>0</td>\n",
       "      <td>0</td>\n",
       "      <td>1</td>\n",
       "      <td>0</td>\n",
       "    </tr>\n",
       "    <tr>\n",
       "      <th>202008010106</th>\n",
       "      <td>4</td>\n",
       "      <td>8</td>\n",
       "      <td>54.0</td>\n",
       "      <td>18.0</td>\n",
       "      <td>4881</td>\n",
       "      <td>91</td>\n",
       "      <td>3</td>\n",
       "      <td>442</td>\n",
       "      <td>0</td>\n",
       "      <td>16</td>\n",
       "      <td>...</td>\n",
       "      <td>1</td>\n",
       "      <td>0</td>\n",
       "      <td>0</td>\n",
       "      <td>1</td>\n",
       "      <td>0</td>\n",
       "      <td>0</td>\n",
       "      <td>0</td>\n",
       "      <td>1</td>\n",
       "      <td>0</td>\n",
       "      <td>0</td>\n",
       "    </tr>\n",
       "    <tr>\n",
       "      <th>...</th>\n",
       "      <td>...</td>\n",
       "      <td>...</td>\n",
       "      <td>...</td>\n",
       "      <td>...</td>\n",
       "      <td>...</td>\n",
       "      <td>...</td>\n",
       "      <td>...</td>\n",
       "      <td>...</td>\n",
       "      <td>...</td>\n",
       "      <td>...</td>\n",
       "      <td>...</td>\n",
       "      <td>...</td>\n",
       "      <td>...</td>\n",
       "      <td>...</td>\n",
       "      <td>...</td>\n",
       "      <td>...</td>\n",
       "      <td>...</td>\n",
       "      <td>...</td>\n",
       "      <td>...</td>\n",
       "      <td>...</td>\n",
       "      <td>...</td>\n",
       "    </tr>\n",
       "    <tr>\n",
       "      <th>202008040210</th>\n",
       "      <td>4</td>\n",
       "      <td>7</td>\n",
       "      <td>55.0</td>\n",
       "      <td>12.0</td>\n",
       "      <td>2627</td>\n",
       "      <td>80</td>\n",
       "      <td>4</td>\n",
       "      <td>470</td>\n",
       "      <td>-6</td>\n",
       "      <td>16</td>\n",
       "      <td>...</td>\n",
       "      <td>0</td>\n",
       "      <td>1</td>\n",
       "      <td>0</td>\n",
       "      <td>0</td>\n",
       "      <td>0</td>\n",
       "      <td>1</td>\n",
       "      <td>0</td>\n",
       "      <td>1</td>\n",
       "      <td>0</td>\n",
       "      <td>0</td>\n",
       "    </tr>\n",
       "    <tr>\n",
       "      <th>202008040210</th>\n",
       "      <td>5</td>\n",
       "      <td>10</td>\n",
       "      <td>55.0</td>\n",
       "      <td>12.0</td>\n",
       "      <td>2936</td>\n",
       "      <td>136</td>\n",
       "      <td>4</td>\n",
       "      <td>504</td>\n",
       "      <td>4</td>\n",
       "      <td>16</td>\n",
       "      <td>...</td>\n",
       "      <td>0</td>\n",
       "      <td>1</td>\n",
       "      <td>0</td>\n",
       "      <td>0</td>\n",
       "      <td>0</td>\n",
       "      <td>1</td>\n",
       "      <td>0</td>\n",
       "      <td>1</td>\n",
       "      <td>0</td>\n",
       "      <td>0</td>\n",
       "    </tr>\n",
       "    <tr>\n",
       "      <th>202008040210</th>\n",
       "      <td>6</td>\n",
       "      <td>12</td>\n",
       "      <td>57.0</td>\n",
       "      <td>12.0</td>\n",
       "      <td>892</td>\n",
       "      <td>15</td>\n",
       "      <td>6</td>\n",
       "      <td>452</td>\n",
       "      <td>6</td>\n",
       "      <td>16</td>\n",
       "      <td>...</td>\n",
       "      <td>0</td>\n",
       "      <td>1</td>\n",
       "      <td>0</td>\n",
       "      <td>0</td>\n",
       "      <td>0</td>\n",
       "      <td>1</td>\n",
       "      <td>0</td>\n",
       "      <td>0</td>\n",
       "      <td>1</td>\n",
       "      <td>0</td>\n",
       "    </tr>\n",
       "    <tr>\n",
       "      <th>202008040210</th>\n",
       "      <td>3</td>\n",
       "      <td>6</td>\n",
       "      <td>57.0</td>\n",
       "      <td>12.0</td>\n",
       "      <td>619</td>\n",
       "      <td>99</td>\n",
       "      <td>6</td>\n",
       "      <td>502</td>\n",
       "      <td>-10</td>\n",
       "      <td>16</td>\n",
       "      <td>...</td>\n",
       "      <td>0</td>\n",
       "      <td>1</td>\n",
       "      <td>0</td>\n",
       "      <td>0</td>\n",
       "      <td>0</td>\n",
       "      <td>1</td>\n",
       "      <td>0</td>\n",
       "      <td>0</td>\n",
       "      <td>1</td>\n",
       "      <td>0</td>\n",
       "    </tr>\n",
       "    <tr>\n",
       "      <th>202008040210</th>\n",
       "      <td>2</td>\n",
       "      <td>4</td>\n",
       "      <td>57.0</td>\n",
       "      <td>12.0</td>\n",
       "      <td>1340</td>\n",
       "      <td>22</td>\n",
       "      <td>5</td>\n",
       "      <td>530</td>\n",
       "      <td>-2</td>\n",
       "      <td>16</td>\n",
       "      <td>...</td>\n",
       "      <td>0</td>\n",
       "      <td>1</td>\n",
       "      <td>0</td>\n",
       "      <td>0</td>\n",
       "      <td>0</td>\n",
       "      <td>1</td>\n",
       "      <td>0</td>\n",
       "      <td>0</td>\n",
       "      <td>1</td>\n",
       "      <td>0</td>\n",
       "    </tr>\n",
       "  </tbody>\n",
       "</table>\n",
       "<p>37228 rows × 172 columns</p>\n",
       "</div>"
      ],
      "text/plain": [
       "              枠番  馬番    斤量  course_len horse_id jockey_id  年齢   体重  体重変化  \\\n",
       "202008010106   3   5  54.0        18.0     7317        56   3  464     0   \n",
       "202008010106   2   3  54.0        18.0     5563        13   3  418     0   \n",
       "202008010106   2   4  56.0        18.0     7329        21   3  496     0   \n",
       "202008010106   5   9  56.0        18.0     4228        82   3  490     0   \n",
       "202008010106   4   8  54.0        18.0     4881        91   3  442     0   \n",
       "...           ..  ..   ...         ...      ...       ...  ..  ...   ...   \n",
       "202008040210   4   7  55.0        12.0     2627        80   4  470    -6   \n",
       "202008040210   5  10  55.0        12.0     2936       136   4  504     4   \n",
       "202008040210   6  12  57.0        12.0      892        15   6  452     6   \n",
       "202008040210   3   6  57.0        12.0      619        99   6  502   -10   \n",
       "202008040210   2   4  57.0        12.0     1340        22   5  530    -2   \n",
       "\n",
       "              n_horse  ...  race_type_芝  race_type_ダート  race_type_障害  \\\n",
       "202008010106       16  ...            1              0             0   \n",
       "202008010106       16  ...            1              0             0   \n",
       "202008010106       16  ...            1              0             0   \n",
       "202008010106       16  ...            1              0             0   \n",
       "202008010106       16  ...            1              0             0   \n",
       "...               ...  ...          ...            ...           ...   \n",
       "202008040210       16  ...            0              1             0   \n",
       "202008040210       16  ...            0              1             0   \n",
       "202008040210       16  ...            0              1             0   \n",
       "202008040210       16  ...            0              1             0   \n",
       "202008040210       16  ...            0              1             0   \n",
       "\n",
       "              ground_state_良  ground_state_稍重  ground_state_重  \\\n",
       "202008010106               1                0               0   \n",
       "202008010106               1                0               0   \n",
       "202008010106               1                0               0   \n",
       "202008010106               1                0               0   \n",
       "202008010106               1                0               0   \n",
       "...                      ...              ...             ...   \n",
       "202008040210               0                0               1   \n",
       "202008040210               0                0               1   \n",
       "202008040210               0                0               1   \n",
       "202008040210               0                0               1   \n",
       "202008040210               0                0               1   \n",
       "\n",
       "              ground_state_不良  性_牝  性_牡  性_セ  \n",
       "202008010106                0    1    0    0  \n",
       "202008010106                0    1    0    0  \n",
       "202008010106                0    0    1    0  \n",
       "202008010106                0    0    1    0  \n",
       "202008010106                0    1    0    0  \n",
       "...                       ...  ...  ...  ...  \n",
       "202008040210                0    1    0    0  \n",
       "202008040210                0    1    0    0  \n",
       "202008040210                0    0    1    0  \n",
       "202008040210                0    0    1    0  \n",
       "202008040210                0    0    1    0  \n",
       "\n",
       "[37228 rows x 172 columns]"
      ]
     },
     "execution_count": 75,
     "metadata": {},
     "output_type": "execute_result"
    }
   ],
   "source": [
    "x_train\n"
   ]
  },
  {
   "cell_type": "code",
   "execution_count": 85,
   "id": "7e717c0a",
   "metadata": {},
   "outputs": [
    {
     "data": {
      "text/plain": [
       "202009010106    1.500000\n",
       "202009030112    1.333333\n",
       "202004020111    0.000000\n",
       "202008040210    0.000000\n",
       "Name: 着順_開催_allR, dtype: float64"
      ]
     },
     "execution_count": 85,
     "metadata": {},
     "output_type": "execute_result"
    }
   ],
   "source": [
    "x_train.loc[202008040210]\n",
    "\"\"\" \n",
    "horse_id = 5408\n",
    "この馬に着目する\n",
    "\n",
    "\"\"\"\n",
    "\n",
    "x_train[x_train['horse_id']==5408]['着順_開催_allR']"
   ]
  },
  {
   "cell_type": "code",
   "execution_count": 84,
   "id": "d9d0b72b",
   "metadata": {},
   "outputs": [
    {
     "data": {
      "text/html": [
       "<div>\n",
       "<style scoped>\n",
       "    .dataframe tbody tr th:only-of-type {\n",
       "        vertical-align: middle;\n",
       "    }\n",
       "\n",
       "    .dataframe tbody tr th {\n",
       "        vertical-align: top;\n",
       "    }\n",
       "\n",
       "    .dataframe thead th {\n",
       "        text-align: right;\n",
       "    }\n",
       "</style>\n",
       "<table border=\"1\" class=\"dataframe\">\n",
       "  <thead>\n",
       "    <tr style=\"text-align: right;\">\n",
       "      <th></th>\n",
       "      <th>枠番</th>\n",
       "      <th>馬番</th>\n",
       "      <th>斤量</th>\n",
       "      <th>course_len</th>\n",
       "      <th>horse_id</th>\n",
       "      <th>jockey_id</th>\n",
       "      <th>年齢</th>\n",
       "      <th>体重</th>\n",
       "      <th>体重変化</th>\n",
       "      <th>n_horse</th>\n",
       "      <th>...</th>\n",
       "      <th>race_type_芝</th>\n",
       "      <th>race_type_ダート</th>\n",
       "      <th>race_type_障害</th>\n",
       "      <th>ground_state_良</th>\n",
       "      <th>ground_state_稍重</th>\n",
       "      <th>ground_state_重</th>\n",
       "      <th>ground_state_不良</th>\n",
       "      <th>性_牝</th>\n",
       "      <th>性_牡</th>\n",
       "      <th>性_セ</th>\n",
       "    </tr>\n",
       "  </thead>\n",
       "  <tbody>\n",
       "  </tbody>\n",
       "</table>\n",
       "<p>0 rows × 172 columns</p>\n",
       "</div>"
      ],
      "text/plain": [
       "Empty DataFrame\n",
       "Columns: [枠番, 馬番, 斤量, course_len, horse_id, jockey_id, 年齢, 体重, 体重変化, n_horse, 着順_5R, 賞金_5R, 着差_5R, first_corner_5R, first_to_rank_5R, first_to_final_5R, final_to_rank_5R, 着順_course_len_5R, 賞金_course_len_5R, 着差_course_len_5R, first_corner_course_len_5R, first_to_rank_course_len_5R, first_to_final_course_len_5R, final_to_rank_course_len_5R, 着順_race_type_5R, 賞金_race_type_5R, 着差_race_type_5R, first_corner_race_type_5R, first_to_rank_race_type_5R, first_to_final_race_type_5R, final_to_rank_race_type_5R, 着順_開催_5R, 賞金_開催_5R, 着差_開催_5R, first_corner_開催_5R, first_to_rank_開催_5R, first_to_final_開催_5R, final_to_rank_開催_5R, 着順_9R, 賞金_9R, 着差_9R, first_corner_9R, first_to_rank_9R, first_to_final_9R, final_to_rank_9R, 着順_course_len_9R, 賞金_course_len_9R, 着差_course_len_9R, first_corner_course_len_9R, first_to_rank_course_len_9R, first_to_final_course_len_9R, final_to_rank_course_len_9R, 着順_race_type_9R, 賞金_race_type_9R, 着差_race_type_9R, first_corner_race_type_9R, first_to_rank_race_type_9R, first_to_final_race_type_9R, final_to_rank_race_type_9R, 着順_開催_9R, 賞金_開催_9R, 着差_開催_9R, first_corner_開催_9R, first_to_rank_開催_9R, first_to_final_開催_9R, final_to_rank_開催_9R, 着順_allR, 賞金_allR, 着差_allR, first_corner_allR, first_to_rank_allR, first_to_final_allR, final_to_rank_allR, 着順_course_len_allR, 賞金_course_len_allR, 着差_course_len_allR, first_corner_course_len_allR, first_to_rank_course_len_allR, first_to_final_course_len_allR, final_to_rank_course_len_allR, 着順_race_type_allR, 賞金_race_type_allR, 着差_race_type_allR, first_corner_race_type_allR, first_to_rank_race_type_allR, first_to_final_race_type_allR, final_to_rank_race_type_allR, 着順_開催_allR, 賞金_開催_allR, 着差_開催_allR, first_corner_開催_allR, first_to_rank_開催_allR, first_to_final_開催_allR, final_to_rank_開催_allR, peds_0, peds_1, peds_2, peds_3, peds_4, peds_5, ...]\n",
       "Index: []\n",
       "\n",
       "[0 rows x 172 columns]"
      ]
     },
     "execution_count": 84,
     "metadata": {},
     "output_type": "execute_result"
    }
   ],
   "source": [
    "x_test[x_test['horse_id']==5408]"
   ]
  },
  {
   "cell_type": "code",
   "execution_count": null,
   "id": "84df9c10",
   "metadata": {},
   "outputs": [],
   "source": [
    "x_train"
   ]
  },
  {
   "cell_type": "code",
   "execution_count": 34,
   "id": "67da3af9",
   "metadata": {},
   "outputs": [
    {
     "data": {
      "text/plain": [
       "202007030112    4.0\n",
       "202007030608    3.0\n",
       "Name: 着順_開催_allR, dtype: float64"
      ]
     },
     "execution_count": 34,
     "metadata": {},
     "output_type": "execute_result"
    }
   ],
   "source": [
    "ll.x_test[ll.x_test['horse_id']==7317]['着順_開催_allR']"
   ]
  },
  {
   "cell_type": "code",
   "execution_count": 28,
   "id": "29f56c09",
   "metadata": {},
   "outputs": [
    {
     "data": {
      "text/plain": [
       "202006040704    0.0\n",
       "Name: 着順_開催_allR, dtype: float64"
      ]
     },
     "execution_count": 28,
     "metadata": {},
     "output_type": "execute_result"
    }
   ],
   "source": [
    "ll.x_train[ll.x_train['horse_id']==9992]['着順_開催_allR']"
   ]
  },
  {
   "cell_type": "code",
   "execution_count": null,
   "id": "2e3f688e",
   "metadata": {},
   "outputs": [],
   "source": []
  },
  {
   "cell_type": "code",
   "execution_count": 31,
   "id": "7071f5db",
   "metadata": {},
   "outputs": [
    {
     "data": {
      "text/plain": [
       "202006050801    1\n",
       "202006050801    1\n",
       "202006050801    1\n",
       "202006050801    0\n",
       "202006050801    0\n",
       "202006050801    0\n",
       "202006050801    0\n",
       "202006050801    0\n",
       "202006050801    0\n",
       "202006050801    0\n",
       "202006050801    0\n",
       "202006050801    0\n",
       "202006050801    0\n",
       "202006050801    0\n",
       "202006050801    0\n",
       "Name: rank, dtype: int64"
      ]
     },
     "execution_count": 31,
     "metadata": {},
     "output_type": "execute_result"
    }
   ],
   "source": [
    "ll.y_test.loc[202006050801]"
   ]
  },
  {
   "cell_type": "code",
   "execution_count": 29,
   "id": "54914e35",
   "metadata": {},
   "outputs": [
    {
     "name": "stdout",
     "output_type": "stream",
     "text": [
      "枠番                    5\n",
      "馬番                    9\n",
      "斤量                   54\n",
      "course_len           12\n",
      "horse_id           9992\n",
      "                   ... \n",
      "ground_state_重        0\n",
      "ground_state_不良       0\n",
      "性_牝                   1\n",
      "性_牡                   0\n",
      "性_セ                   0\n",
      "Name: 202006050801, Length: 172, dtype: object\n"
     ]
    },
    {
     "data": {
      "text/plain": [
       "9992"
      ]
     },
     "execution_count": 29,
     "metadata": {},
     "output_type": "execute_result"
    }
   ],
   "source": [
    "#ll.x_test['着順_開催_allR'].loc[202006050801] # 4.00\n",
    "print(ll.x_test.loc[202006050801].iloc[0])\n",
    "9992\n"
   ]
  },
  {
   "cell_type": "code",
   "execution_count": null,
   "id": "09266783",
   "metadata": {},
   "outputs": [],
   "source": [
    "train_query = ll.x_train.groupby(ll.x_train.index).size()\n",
    "train = lgb.Dataset(ll.x_train, ll.y_train, group=train_query)\n",
    "ll.learn_lgb2(train,lgbm_params=lgbm_params)"
   ]
  },
  {
   "cell_type": "code",
   "execution_count": null,
   "id": "f5a261c3",
   "metadata": {},
   "outputs": [],
   "source": [
    "# ll = LearnLGBM(peds,results,horse_results)\n",
    "# ll.get_train_data()\n",
    "\n",
    "\n",
    "val_x = ll.x_test.iloc[:-10000]\n",
    "val_y = ll.y_test.iloc[:-10000]\n",
    "test_query = val_x.groupby(val_x.index).size()\n",
    "train_query = ll.x_train.groupby(ll.x_train.index).size()\n",
    "train = lgb.Dataset(ll.x_train, ll.y_train, group=train_query)\n",
    "valid = lgb.Dataset(val_x, val_y, reference=train, group=test_query)"
   ]
  },
  {
   "cell_type": "markdown",
   "id": "27efe69c",
   "metadata": {},
   "source": [
    "# 正解ラベル　変えた"
   ]
  },
  {
   "cell_type": "code",
   "execution_count": 76,
   "id": "32108465",
   "metadata": {},
   "outputs": [],
   "source": [
    "def split_data(df, test_size=0.2, rank_learning=True):\n",
    "    \"\"\"\n",
    "    データを学習データと, 訓練データに分ける関数\n",
    "    \"\"\"\n",
    "    df_ = df.copy()\n",
    "    df_['rank'] = df_['rank'].map(lambda x: int((1/x)*10) if x<4 else(0))\n",
    "        \n",
    "    sorted_id_list = df_.sort_values(\"date\").index.unique()\n",
    "    train_id_list = sorted_id_list[: round(len(sorted_id_list) * (1 - test_size))]\n",
    "    test_id_list = sorted_id_list[round(len(sorted_id_list) * (1 - test_size)) :]\n",
    "    train = df_.loc[train_id_list]#.drop(['date'], axis=1)\n",
    "    test = df_.loc[test_id_list]#.drop(['date'], axis=1)\n",
    "    return train, test\n",
    "\n",
    "    \n",
    "train, test = split_data(pt.r.data_c.fillna(0),test_size=0.2,rank_learning=False)\n",
    "x_train = train.drop(['rank', 'date','単勝'], axis=1)\n",
    "y_train = train['rank']\n",
    "x_test = test.drop(['rank', 'date','単勝'], axis=1)\n",
    "y_test = test['rank']\n",
    "train_query = x_train.groupby(x_train.index).size()\n",
    "train = lgb.Dataset(x_train, y_train, group=train_query)\n",
    "# val_y = y_test.iloc[:-10000]\n",
    "test_query = x_test.groupby(x_test.index).size()\n",
    "valid = lgb.Dataset(x_test, y_test, reference=train, group=test_query)"
   ]
  },
  {
   "cell_type": "code",
   "execution_count": 84,
   "id": "6be3bc5a",
   "metadata": {},
   "outputs": [],
   "source": [
    "lgbm_params = {\n",
    "                'metric': 'ndcg',\n",
    "                'objective': 'lambdarank',\n",
    "                'ndcg_eval_at': [1,2,3],\n",
    "                'boosting_type': 'gbdt',\n",
    "                'random_state': 777,\n",
    "                # 'lambdarank_truncation_level': 37,\n",
    "                #  'learning_rate': 0.01271180569095827,\n",
    "                'lambdarank_truncation_level': 10,\n",
    "                'learning_rate': 0.02273417953255777,\n",
    "                'n_estimators': 97,\n",
    "                'num_leaves': 42,\n",
    "                'force_col_wise':True\n",
    "            }\n",
    "\n"
   ]
  },
  {
   "cell_type": "code",
   "execution_count": null,
   "id": "defd053c",
   "metadata": {},
   "outputs": [],
   "source": [
    "import warnings\n",
    "\n",
    "warnings.filterwarnings(\"ignore\")\n",
    "ll.learn_lgb2(train,lgbm_params=lgbm_params)"
   ]
  },
  {
   "cell_type": "code",
   "execution_count": 67,
   "id": "03dc35cc",
   "metadata": {},
   "outputs": [],
   "source": [
    "def score(params):\n",
    "    print(\"Training start:\")\n",
    "\n",
    "    N_boost_round = []\n",
    "    Score = []\n",
    "\n",
    "    lgb_results={}  #履歴格納用\n",
    "    # train = lgb.Dataset(x_train, y_train, group=train_query)\n",
    "    # valid = lgb.Dataset(x_test, y_test, reference=train, group=test_query)\n",
    "\n",
    "    \n",
    "    lgb_clf = lgb.train(\n",
    "        params,\n",
    "        train,\n",
    "        num_boost_round=1000,\n",
    "        valid_sets=valid,\n",
    "        valid_names=['valid'],\n",
    "        early_stopping_rounds=20,\n",
    "        verbose_eval=5,\n",
    "        evals_result=lgb_results,\n",
    "    )\n",
    "#     return lgb_results\n",
    "    return {'loss': -1.0 * lgb_results['valid']['ndcg@3'][lgb_clf.best_iteration], 'status': STATUS_OK}\n",
    "\n",
    "def optimize(trials):\n",
    "#探索スペース\n",
    "    space = {\n",
    "        'objective': 'lambdarank',\n",
    "        'metric': 'ndcg',\n",
    "        # 上位三着を考慮する\n",
    "        'ndcg_eval_at': [1,2,3],\n",
    "#         best paramsの返り値は, choiceだとindexか?\n",
    "        'lambdarank_truncation_level': hp.choice('lambdarank_truncation_level',range(1,50)),\n",
    "        'learning_rate': hp.uniform('learning_rate', 0.01, 0.1),\n",
    "        # n_estimators == num_iterations\n",
    "        # 'num_iterations': hp.choice('num_iterations',range(50,120)),\n",
    "        # 'num_leaves': hp.choice('num_leaves',range(20,50)),\n",
    "        'boosting_type': 'gbdt',\n",
    "        'random_state': 777\n",
    "    }\n",
    "\n",
    "    max_evals = 25      #探索回数(25くらいで十分)\n",
    "    best = fmin(score, space, algo=tpe.suggest, trials=trials, max_evals=max_evals)\n",
    "\n",
    "    print(\"best parameters:\", best)"
   ]
  },
  {
   "cell_type": "code",
   "execution_count": null,
   "id": "8ae3611f",
   "metadata": {},
   "outputs": [],
   "source": [
    "trials = Trials()\n",
    "optimize(trials)"
   ]
  },
  {
   "cell_type": "markdown",
   "id": "2b30c738-f553-4488-8239-235c9808c184",
   "metadata": {},
   "source": [
    "# Simulate\n"
   ]
  },
  {
   "cell_type": "code",
   "execution_count": 91,
   "id": "8d5658d8",
   "metadata": {},
   "outputs": [],
   "source": [
    "length = len(ll.r.data_c)\n",
    "test_c = ll.r.data_c.iloc[int(0.8*length):]"
   ]
  },
  {
   "cell_type": "code",
   "execution_count": 92,
   "id": "b4c3498b-a9bf-4891-9ec4-748f1681fe24",
   "metadata": {
    "tags": []
   },
   "outputs": [
    {
     "name": "stdout",
     "output_type": "stream",
     "text": [
      "\n",
      "odds 1.1\n",
      "not_bet_count 0\n",
      "---------------------\n",
      "単勝\n",
      "的中率 : 193 / 662\n",
      "的中% : 29.15 %\n",
      "収支   : 17780.0 円\n",
      "的中レース : {'01': 19, '02': 19, '03': 20, '04': 11, '05': 9, '06': 14, '07': 17, '08': 19, '09': 15, '10': 20, '11': 15, '12': 15}\n",
      "\n",
      "odds 2.0\n",
      "not_bet_count 77\n",
      "---------------------\n",
      "単勝\n",
      "的中率 : 153 / 585\n",
      "的中% : 26.15 %\n",
      "収支   : 18820.0 円\n",
      "的中レース : {'01': 19, '02': 19, '03': 20, '04': 11, '05': 9, '06': 14, '07': 17, '08': 19, '09': 15, '10': 20, '11': 15, '12': 15}\n",
      "\n",
      "odds 3.0\n",
      "not_bet_count 201\n",
      "---------------------\n",
      "単勝\n",
      "的中率 : 98 / 461\n",
      "的中% : 21.26 %\n",
      "収支   : 18080.0 円\n",
      "的中レース : {'01': 19, '02': 19, '03': 20, '04': 11, '05': 9, '06': 14, '07': 17, '08': 19, '09': 15, '10': 20, '11': 15, '12': 15}\n",
      "\n",
      "odds 4.0\n",
      "not_bet_count 323\n",
      "---------------------\n",
      "単勝\n",
      "的中率 : 62 / 339\n",
      "的中% : 18.29 %\n",
      "収支   : 18260.0 円\n",
      "的中レース : {'01': 19, '02': 19, '03': 20, '04': 11, '05': 9, '06': 14, '07': 17, '08': 19, '09': 15, '10': 20, '11': 15, '12': 15}\n",
      "\n",
      "odds 5.0\n",
      "not_bet_count 418\n",
      "---------------------\n",
      "単勝\n",
      "的中率 : 47 / 244\n",
      "的中% : 19.26 %\n",
      "収支   : 21260.0 円\n",
      "的中レース : {'01': 19, '02': 19, '03': 20, '04': 11, '05': 9, '06': 14, '07': 17, '08': 19, '09': 15, '10': 20, '11': 15, '12': 15}\n",
      "\n",
      "odds 6.0\n",
      "not_bet_count 472\n",
      "---------------------\n",
      "単勝\n",
      "的中率 : 38 / 190\n",
      "的中% : 20.00 %\n",
      "収支   : 21710.0 円\n",
      "的中レース : {'01': 19, '02': 19, '03': 20, '04': 11, '05': 9, '06': 14, '07': 17, '08': 19, '09': 15, '10': 20, '11': 15, '12': 15}\n",
      "\n",
      "odds 7.0\n",
      "not_bet_count 517\n",
      "---------------------\n",
      "単勝\n",
      "的中率 : 26 / 145\n",
      "的中% : 17.93 %\n",
      "収支   : 18470.0 円\n",
      "的中レース : {'01': 19, '02': 19, '03': 20, '04': 11, '05': 9, '06': 14, '07': 17, '08': 19, '09': 15, '10': 20, '11': 15, '12': 15}\n"
     ]
    }
   ],
   "source": [
    "\n",
    "for odds in [1.1,2.0,3.0,4.0,5.0,6.0,7.0]:\n",
    "    print()\n",
    "    sl = RankSimulater(ll.model)\n",
    "    print(\"odds\",odds)\n",
    "    sl.calc_tansho(test_c,return_tables,odds=odds)\n",
    "\n"
   ]
  },
  {
   "cell_type": "code",
   "execution_count": null,
   "id": "9a5acc8c-484d-4fef-ae88-1c20180881d1",
   "metadata": {},
   "outputs": [],
   "source": [
    "sl = RankSimulater(ll.model)\n",
    "sl.calc_sanrenpuku(ll.r.data_c.iloc[-5000:].fillna(0),return_tables)"
   ]
  },
  {
   "cell_type": "code",
   "execution_count": null,
   "id": "2b0526b6-d15f-4e39-abaf-40aaf6cfd0fa",
   "metadata": {
    "tags": []
   },
   "outputs": [],
   "source": [
    "sl = RankSimulater(ll.model)\n",
    "sl.calc_sanrentan(ll.r.data_c.iloc[-5000:].fillna(0),return_tables)"
   ]
  },
  {
   "cell_type": "markdown",
   "id": "ff135d8f-2a18-4583-8747-68c2938e6b79",
   "metadata": {},
   "source": [
    "# race_id_list"
   ]
  },
  {
   "cell_type": "code",
   "execution_count": 93,
   "id": "ca02207f-1319-48d2-943f-195f395e1d70",
   "metadata": {},
   "outputs": [],
   "source": [
    "\n",
    "202205021011\n",
    "race_id_list = ['2022040301{}'.format(str(i).zfill(2)) for i in range(1,13)]\n",
    "race_id_list += ['2022100401{}'.format(str(i).zfill(2)) for i in range(1,13)]\n",
    "race_id_list += ['2022010201{}'.format(str(i).zfill(2)) for i in range(1,13)]\n",
    "# race_id_list += ['2022050308{}'.format(str(i).zfill(2)) for i in range(1,13)]\n",
    "\n",
    "# race_id_list += ['2022090301{}'.format(str(i).zfill(2)) for i in range(1,13)]\n",
    "# race_id_list += ['2022090302{}'.format(str(i).zfill(2)) for i in range(1,13)]\n",
    "# race_id_list += ['2022090303{}'.format(str(i).zfill(2)) for i in range(1,13)]\n",
    "# race_id_list += ['2022090304{}'.format(str(i).zfill(2)) for i in range(1,13)]\n",
    "\n",
    "# race_id_list += ['2022020103{}'.format(str(i).zfill(2)) for i in range(1,13)]\n",
    "# race_id_list += ['2022020104{}'.format(str(i).zfill(2)) for i in range(1,13)]\n",
    "# race_id_list += ['2022020105{}'.format(str(i).zfill(2)) for i in range(1,13)]\n",
    "# race_id_list += ['2022020106{}'.format(str(i).zfill(2)) for i in range(1,13)]\n",
    "\n"
   ]
  },
  {
   "cell_type": "markdown",
   "id": "23038204",
   "metadata": {},
   "source": [
    "# Predictor"
   ]
  },
  {
   "cell_type": "code",
   "execution_count": 97,
   "id": "869c4470",
   "metadata": {},
   "outputs": [
    {
     "data": {
      "application/vnd.jupyter.widget-view+json": {
       "model_id": "d21f7563ed474f7dbcfbd873d7605d11",
       "version_major": 2,
       "version_minor": 0
      },
      "text/plain": [
       "HBox(children=(FloatProgress(value=0.0, max=36.0), HTML(value='')))"
      ]
     },
     "metadata": {},
     "output_type": "display_data"
    },
    {
     "name": "stdout",
     "output_type": "stream",
     "text": [
      "\n"
     ]
    },
    {
     "data": {
      "application/vnd.jupyter.widget-view+json": {
       "model_id": "0ac85aeead53471d8ef0a4695c1bc9a7",
       "version_major": 2,
       "version_minor": 0
      },
      "text/plain": [
       "HBox(children=(FloatProgress(value=0.0, max=357.0), HTML(value='')))"
      ]
     },
     "metadata": {},
     "output_type": "display_data"
    },
    {
     "name": "stdout",
     "output_type": "stream",
     "text": [
      "\n"
     ]
    },
    {
     "data": {
      "application/vnd.jupyter.widget-view+json": {
       "model_id": "531f35674b25485d9221501b33886be9",
       "version_major": 2,
       "version_minor": 0
      },
      "text/plain": [
       "HBox(children=(FloatProgress(value=0.0, max=357.0), HTML(value='')))"
      ]
     },
     "metadata": {},
     "output_type": "display_data"
    },
    {
     "name": "stdout",
     "output_type": "stream",
     "text": [
      "\n"
     ]
    },
    {
     "ename": "TypeError",
     "evalue": "(): incompatible function arguments. The following argument types are supported:\n    1. (self: fasttext_pybind.args, arg0: int) -> None\n\nInvoked with: <fasttext_pybind.args object at 0x7faf92277fb8>, '/Users/rince/Desktop/Horse/code/horse/peds_ft.txt'",
     "output_type": "error",
     "traceback": [
      "\u001b[0;31m---------------------------------------------------------------------------\u001b[0m",
      "\u001b[0;31mTypeError\u001b[0m                                 Traceback (most recent call last)",
      "\u001b[0;32m<ipython-input-97-3c958568c9ae>\u001b[0m in \u001b[0;36m<module>\u001b[0;34m\u001b[0m\n\u001b[1;32m      2\u001b[0m \u001b[0;31m# ********* test_size = 0  : ずっと0にしてなかった...\u001b[0m\u001b[0;34m\u001b[0m\u001b[0;34m\u001b[0m\u001b[0;34m\u001b[0m\u001b[0m\n\u001b[1;32m      3\u001b[0m \u001b[0mpt\u001b[0m\u001b[0;34m.\u001b[0m\u001b[0mpath_ft\u001b[0m \u001b[0;34m=\u001b[0m \u001b[0;34m'/Users/rince/Desktop/Horse/code/horse/peds_ft.txt'\u001b[0m\u001b[0;34m\u001b[0m\u001b[0;34m\u001b[0m\u001b[0m\n\u001b[0;32m----> 4\u001b[0;31m \u001b[0mpt\u001b[0m\u001b[0;34m.\u001b[0m\u001b[0mlearn_lgb\u001b[0m\u001b[0;34m(\u001b[0m\u001b[0mtest_size\u001b[0m\u001b[0;34m=\u001b[0m\u001b[0;36m0\u001b[0m\u001b[0;34m)\u001b[0m\u001b[0;34m\u001b[0m\u001b[0;34m\u001b[0m\u001b[0m\n\u001b[0m",
      "\u001b[0;32m~/Desktop/Horse/code/horse/my_library/horse.py\u001b[0m in \u001b[0;36mlearn_lgb\u001b[0;34m(self, lgbm_params, test_size)\u001b[0m\n\u001b[1;32m   2709\u001b[0m                 \u001b[0mlgbm_params\u001b[0m\u001b[0;34m,\u001b[0m\u001b[0;34m\u001b[0m\u001b[0;34m\u001b[0m\u001b[0m\n\u001b[1;32m   2710\u001b[0m                 \u001b[0mtrain\u001b[0m\u001b[0;34m,\u001b[0m\u001b[0;34m\u001b[0m\u001b[0;34m\u001b[0m\u001b[0m\n\u001b[0;32m-> 2711\u001b[0;31m                 \u001b[0;31m# valid_sets=test,\u001b[0m\u001b[0;34m\u001b[0m\u001b[0;34m\u001b[0m\u001b[0;34m\u001b[0m\u001b[0m\n\u001b[0m\u001b[1;32m   2712\u001b[0m                 \u001b[0mnum_boost_round\u001b[0m\u001b[0;34m=\u001b[0m\u001b[0;36m100\u001b[0m\u001b[0;34m,\u001b[0m\u001b[0;34m\u001b[0m\u001b[0;34m\u001b[0m\u001b[0m\n\u001b[1;32m   2713\u001b[0m                 \u001b[0mvalid_names\u001b[0m\u001b[0;34m=\u001b[0m\u001b[0;34m[\u001b[0m\u001b[0;34m'train'\u001b[0m\u001b[0;34m]\u001b[0m\u001b[0;34m,\u001b[0m\u001b[0;34m\u001b[0m\u001b[0;34m\u001b[0m\u001b[0m\n",
      "\u001b[0;32m~/Desktop/Horse/code/horse/my_library/horse.py\u001b[0m in \u001b[0;36mget_train_data\u001b[0;34m(self, test_size)\u001b[0m\n\u001b[1;32m   2676\u001b[0m         \u001b[0mx_train\u001b[0m \u001b[0;34m=\u001b[0m \u001b[0mtrain\u001b[0m\u001b[0;34m.\u001b[0m\u001b[0mdrop\u001b[0m\u001b[0;34m(\u001b[0m\u001b[0;34m[\u001b[0m\u001b[0;34m'rank'\u001b[0m\u001b[0;34m,\u001b[0m \u001b[0;34m'date'\u001b[0m\u001b[0;34m,\u001b[0m\u001b[0;34m'単勝'\u001b[0m\u001b[0;34m]\u001b[0m\u001b[0;34m,\u001b[0m \u001b[0maxis\u001b[0m\u001b[0;34m=\u001b[0m\u001b[0;36m1\u001b[0m\u001b[0;34m)\u001b[0m\u001b[0;34m\u001b[0m\u001b[0;34m\u001b[0m\u001b[0m\n\u001b[1;32m   2677\u001b[0m         \u001b[0my_train\u001b[0m \u001b[0;34m=\u001b[0m \u001b[0mtrain\u001b[0m\u001b[0;34m[\u001b[0m\u001b[0;34m'rank'\u001b[0m\u001b[0;34m]\u001b[0m\u001b[0;34m\u001b[0m\u001b[0;34m\u001b[0m\u001b[0m\n\u001b[0;32m-> 2678\u001b[0;31m         \u001b[0mx_test\u001b[0m \u001b[0;34m=\u001b[0m \u001b[0mtest\u001b[0m\u001b[0;34m.\u001b[0m\u001b[0mdrop\u001b[0m\u001b[0;34m(\u001b[0m\u001b[0;34m[\u001b[0m\u001b[0;34m'rank'\u001b[0m\u001b[0;34m,\u001b[0m \u001b[0;34m'date'\u001b[0m\u001b[0;34m,\u001b[0m\u001b[0;34m'単勝'\u001b[0m\u001b[0;34m]\u001b[0m\u001b[0;34m,\u001b[0m \u001b[0maxis\u001b[0m\u001b[0;34m=\u001b[0m\u001b[0;36m1\u001b[0m\u001b[0;34m)\u001b[0m\u001b[0;34m\u001b[0m\u001b[0;34m\u001b[0m\u001b[0m\n\u001b[0m\u001b[1;32m   2679\u001b[0m         \u001b[0my_test\u001b[0m \u001b[0;34m=\u001b[0m \u001b[0mtest\u001b[0m\u001b[0;34m[\u001b[0m\u001b[0;34m'rank'\u001b[0m\u001b[0;34m]\u001b[0m\u001b[0;34m\u001b[0m\u001b[0;34m\u001b[0m\u001b[0m\n\u001b[1;32m   2680\u001b[0m         \u001b[0mtrain_query\u001b[0m \u001b[0;34m=\u001b[0m \u001b[0mx_train\u001b[0m\u001b[0;34m.\u001b[0m\u001b[0mgroupby\u001b[0m\u001b[0;34m(\u001b[0m\u001b[0mx_train\u001b[0m\u001b[0;34m.\u001b[0m\u001b[0mindex\u001b[0m\u001b[0;34m)\u001b[0m\u001b[0;34m.\u001b[0m\u001b[0msize\u001b[0m\u001b[0;34m(\u001b[0m\u001b[0;34m)\u001b[0m\u001b[0;34m\u001b[0m\u001b[0;34m\u001b[0m\u001b[0m\n",
      "\u001b[0;32m~/Desktop/Horse/code/horse/my_library/horse.py\u001b[0m in \u001b[0;36mprocess_data\u001b[0;34m(self)\u001b[0m\n\u001b[1;32m   2789\u001b[0m         \u001b[0mself\u001b[0m\u001b[0;34m.\u001b[0m\u001b[0mprocess_hr\u001b[0m\u001b[0;34m(\u001b[0m\u001b[0mresults\u001b[0m\u001b[0;34m,\u001b[0m\u001b[0mhorse_results\u001b[0m\u001b[0;34m)\u001b[0m\u001b[0;34m\u001b[0m\u001b[0;34m\u001b[0m\u001b[0m\n\u001b[1;32m   2790\u001b[0m \u001b[0;34m\u001b[0m\u001b[0m\n\u001b[0;32m-> 2791\u001b[0;31m \u001b[0;34m\u001b[0m\u001b[0m\n\u001b[0m\u001b[1;32m   2792\u001b[0m     \u001b[0;32mdef\u001b[0m \u001b[0mpredict\u001b[0m\u001b[0;34m(\u001b[0m\u001b[0mself\u001b[0m\u001b[0;34m,\u001b[0m \u001b[0mrace_id\u001b[0m\u001b[0;34m)\u001b[0m\u001b[0;34m:\u001b[0m\u001b[0;34m\u001b[0m\u001b[0;34m\u001b[0m\u001b[0m\n\u001b[1;32m   2793\u001b[0m         \u001b[0mdata\u001b[0m \u001b[0;34m=\u001b[0m  \u001b[0mShutubaTable\u001b[0m\u001b[0;34m.\u001b[0m\u001b[0mscrape\u001b[0m\u001b[0;34m(\u001b[0m\u001b[0;34m[\u001b[0m\u001b[0mstr\u001b[0m\u001b[0;34m(\u001b[0m\u001b[0mrace_id\u001b[0m\u001b[0;34m)\u001b[0m\u001b[0;34m]\u001b[0m\u001b[0;34m,\u001b[0m \u001b[0mself\u001b[0m\u001b[0;34m.\u001b[0m\u001b[0mdate\u001b[0m\u001b[0;34m)\u001b[0m\u001b[0;34m\u001b[0m\u001b[0;34m\u001b[0m\u001b[0m\n",
      "\u001b[0;32m~/Desktop/Horse/code/horse/my_library/horse.py\u001b[0m in \u001b[0;36mlearn_model_ft\u001b[0;34m(self, minn, maxn)\u001b[0m\n\u001b[1;32m   2634\u001b[0m \u001b[0;34m\u001b[0m\u001b[0m\n\u001b[1;32m   2635\u001b[0m \u001b[0;34m\u001b[0m\u001b[0m\n\u001b[0;32m-> 2636\u001b[0;31m     \u001b[0;32mdef\u001b[0m \u001b[0mget_model_ft\u001b[0m\u001b[0;34m(\u001b[0m\u001b[0mself\u001b[0m\u001b[0;34m)\u001b[0m\u001b[0;34m:\u001b[0m\u001b[0;34m\u001b[0m\u001b[0;34m\u001b[0m\u001b[0m\n\u001b[0m\u001b[1;32m   2637\u001b[0m         \u001b[0;32mreturn\u001b[0m \u001b[0mself\u001b[0m\u001b[0;34m.\u001b[0m\u001b[0mmodel_ft\u001b[0m\u001b[0;34m\u001b[0m\u001b[0;34m\u001b[0m\u001b[0m\n\u001b[1;32m   2638\u001b[0m \u001b[0;34m\u001b[0m\u001b[0m\n",
      "\u001b[0;32m~/Library/Python/3.7/lib/python/site-packages/fasttext/FastText.py\u001b[0m in \u001b[0;36mtrain_unsupervised\u001b[0;34m(*kargs, **kwargs)\u001b[0m\n\u001b[1;32m    555\u001b[0m     args, manually_set_args = read_args(kargs, kwargs, arg_names,\n\u001b[1;32m    556\u001b[0m                                         unsupervised_default)\n\u001b[0;32m--> 557\u001b[0;31m     \u001b[0ma\u001b[0m \u001b[0;34m=\u001b[0m \u001b[0m_build_args\u001b[0m\u001b[0;34m(\u001b[0m\u001b[0margs\u001b[0m\u001b[0;34m,\u001b[0m \u001b[0mmanually_set_args\u001b[0m\u001b[0;34m)\u001b[0m\u001b[0;34m\u001b[0m\u001b[0;34m\u001b[0m\u001b[0m\n\u001b[0m\u001b[1;32m    558\u001b[0m     \u001b[0mft\u001b[0m \u001b[0;34m=\u001b[0m \u001b[0m_FastText\u001b[0m\u001b[0;34m(\u001b[0m\u001b[0margs\u001b[0m\u001b[0;34m=\u001b[0m\u001b[0ma\u001b[0m\u001b[0;34m)\u001b[0m\u001b[0;34m\u001b[0m\u001b[0;34m\u001b[0m\u001b[0m\n\u001b[1;32m    559\u001b[0m     \u001b[0mfasttext\u001b[0m\u001b[0;34m.\u001b[0m\u001b[0mtrain\u001b[0m\u001b[0;34m(\u001b[0m\u001b[0mft\u001b[0m\u001b[0;34m.\u001b[0m\u001b[0mf\u001b[0m\u001b[0;34m,\u001b[0m \u001b[0ma\u001b[0m\u001b[0;34m)\u001b[0m\u001b[0;34m\u001b[0m\u001b[0;34m\u001b[0m\u001b[0m\n",
      "\u001b[0;32m~/Library/Python/3.7/lib/python/site-packages/fasttext/FastText.py\u001b[0m in \u001b[0;36m_build_args\u001b[0;34m(args, manually_set_args)\u001b[0m\n\u001b[1;32m    420\u001b[0m     \u001b[0ma\u001b[0m \u001b[0;34m=\u001b[0m \u001b[0mfasttext\u001b[0m\u001b[0;34m.\u001b[0m\u001b[0margs\u001b[0m\u001b[0;34m(\u001b[0m\u001b[0;34m)\u001b[0m\u001b[0;34m\u001b[0m\u001b[0;34m\u001b[0m\u001b[0m\n\u001b[1;32m    421\u001b[0m     \u001b[0;32mfor\u001b[0m \u001b[0;34m(\u001b[0m\u001b[0mk\u001b[0m\u001b[0;34m,\u001b[0m \u001b[0mv\u001b[0m\u001b[0;34m)\u001b[0m \u001b[0;32min\u001b[0m \u001b[0margs\u001b[0m\u001b[0;34m.\u001b[0m\u001b[0mitems\u001b[0m\u001b[0;34m(\u001b[0m\u001b[0;34m)\u001b[0m\u001b[0;34m:\u001b[0m\u001b[0;34m\u001b[0m\u001b[0;34m\u001b[0m\u001b[0m\n\u001b[0;32m--> 422\u001b[0;31m         \u001b[0msetattr\u001b[0m\u001b[0;34m(\u001b[0m\u001b[0ma\u001b[0m\u001b[0;34m,\u001b[0m \u001b[0mk\u001b[0m\u001b[0;34m,\u001b[0m \u001b[0mv\u001b[0m\u001b[0;34m)\u001b[0m\u001b[0;34m\u001b[0m\u001b[0;34m\u001b[0m\u001b[0m\n\u001b[0m\u001b[1;32m    423\u001b[0m         \u001b[0;32mif\u001b[0m \u001b[0mk\u001b[0m \u001b[0;32min\u001b[0m \u001b[0mmanually_set_args\u001b[0m\u001b[0;34m:\u001b[0m\u001b[0;34m\u001b[0m\u001b[0;34m\u001b[0m\u001b[0m\n\u001b[1;32m    424\u001b[0m             \u001b[0ma\u001b[0m\u001b[0;34m.\u001b[0m\u001b[0msetManual\u001b[0m\u001b[0;34m(\u001b[0m\u001b[0mk\u001b[0m\u001b[0;34m)\u001b[0m\u001b[0;34m\u001b[0m\u001b[0;34m\u001b[0m\u001b[0m\n",
      "\u001b[0;31mTypeError\u001b[0m: (): incompatible function arguments. The following argument types are supported:\n    1. (self: fasttext_pybind.args, arg0: int) -> None\n\nInvoked with: <fasttext_pybind.args object at 0x7faf92277fb8>, '/Users/rince/Desktop/Horse/code/horse/peds_ft.txt'"
     ]
    }
   ],
   "source": [
    "pt = Predictor(peds,results,horse_results,race_id_list)\n",
    "# ********* test_size = 0  : ずっと0にしてなかった...\n",
    "pt.path_ft = '/Users/rince/Desktop/Horse/code/horse/peds_ft.txt'\n",
    "pt.learn_lgb(test_size=0)"
   ]
  },
  {
   "cell_type": "code",
   "execution_count": 111,
   "id": "3b0c0614",
   "metadata": {},
   "outputs": [
    {
     "data": {
      "text/plain": [
       "<fasttext.FastText._FastText at 0x7faf928d6cc0>"
      ]
     },
     "execution_count": 111,
     "metadata": {},
     "output_type": "execute_result"
    }
   ],
   "source": [
    "pt.model_ft"
   ]
  },
  {
   "cell_type": "code",
   "execution_count": 114,
   "id": "d04255bd",
   "metadata": {},
   "outputs": [
    {
     "data": {
      "application/vnd.jupyter.widget-view+json": {
       "model_id": "38ee32ccedc74938bbfc2cc932d0bf8d",
       "version_major": 2,
       "version_minor": 0
      },
      "text/plain": [
       "HBox(children=(FloatProgress(value=0.0, max=11852.0), HTML(value='')))"
      ]
     },
     "metadata": {},
     "output_type": "display_data"
    },
    {
     "name": "stdout",
     "output_type": "stream",
     "text": [
      "\n"
     ]
    }
   ],
   "source": [
    "pe_tmp = Peds(pt.peds)\n",
    "pe_tmp.regularize_peds() "
   ]
  },
  {
   "cell_type": "code",
   "execution_count": 117,
   "id": "498d9bed",
   "metadata": {},
   "outputs": [],
   "source": [
    "pe_tmp.peds_re\n",
    "path_ft = pt.path_ft\n",
    "pe_tmp.peds_re.to_csv(path_ft,header=False,index=False,sep=',')"
   ]
  },
  {
   "cell_type": "code",
   "execution_count": 110,
   "id": "a4f122ba",
   "metadata": {},
   "outputs": [
    {
     "data": {
      "application/vnd.jupyter.widget-view+json": {
       "model_id": "0a1815703bb94544bd0779bca4976854",
       "version_major": 2,
       "version_minor": 0
      },
      "text/plain": [
       "HBox(children=(FloatProgress(value=0.0, max=36.0), HTML(value='')))"
      ]
     },
     "metadata": {},
     "output_type": "display_data"
    },
    {
     "name": "stdout",
     "output_type": "stream",
     "text": [
      "\n"
     ]
    },
    {
     "ename": "TypeError",
     "evalue": "(): incompatible function arguments. The following argument types are supported:\n    1. (self: fasttext_pybind.args, arg0: int) -> None\n\nInvoked with: <fasttext_pybind.args object at 0x7faf93fc7d50>, '/Users/rince/Desktop/Horse/code/horse/peds_ft.txt'",
     "output_type": "error",
     "traceback": [
      "\u001b[0;31m---------------------------------------------------------------------------\u001b[0m",
      "\u001b[0;31mTypeError\u001b[0m                                 Traceback (most recent call last)",
      "\u001b[0;32m<ipython-input-110-5d98fc41d09e>\u001b[0m in \u001b[0;36m<module>\u001b[0;34m\u001b[0m\n\u001b[0;32m----> 1\u001b[0;31m \u001b[0mtrain\u001b[0m\u001b[0;34m,\u001b[0m\u001b[0mtest\u001b[0m \u001b[0;34m=\u001b[0m \u001b[0mpt\u001b[0m\u001b[0;34m.\u001b[0m\u001b[0mget_train_data\u001b[0m\u001b[0;34m(\u001b[0m\u001b[0;34m)\u001b[0m\u001b[0;34m\u001b[0m\u001b[0;34m\u001b[0m\u001b[0m\n\u001b[0m\u001b[1;32m      2\u001b[0m \u001b[0;31m# pt.process_hr(results,horse_results)\u001b[0m\u001b[0;34m\u001b[0m\u001b[0;34m\u001b[0m\u001b[0;34m\u001b[0m\u001b[0m\n\u001b[1;32m      3\u001b[0m \u001b[0;31m# pt.learn_model_ft()\u001b[0m\u001b[0;34m\u001b[0m\u001b[0;34m\u001b[0m\u001b[0;34m\u001b[0m\u001b[0m\n",
      "\u001b[0;32m~/Desktop/Horse/code/horse/my_library/horse.py\u001b[0m in \u001b[0;36mget_train_data\u001b[0;34m(self, test_size)\u001b[0m\n\u001b[1;32m   2676\u001b[0m         \u001b[0mx_train\u001b[0m \u001b[0;34m=\u001b[0m \u001b[0mtrain\u001b[0m\u001b[0;34m.\u001b[0m\u001b[0mdrop\u001b[0m\u001b[0;34m(\u001b[0m\u001b[0;34m[\u001b[0m\u001b[0;34m'rank'\u001b[0m\u001b[0;34m,\u001b[0m \u001b[0;34m'date'\u001b[0m\u001b[0;34m,\u001b[0m\u001b[0;34m'単勝'\u001b[0m\u001b[0;34m]\u001b[0m\u001b[0;34m,\u001b[0m \u001b[0maxis\u001b[0m\u001b[0;34m=\u001b[0m\u001b[0;36m1\u001b[0m\u001b[0;34m)\u001b[0m\u001b[0;34m\u001b[0m\u001b[0;34m\u001b[0m\u001b[0m\n\u001b[1;32m   2677\u001b[0m         \u001b[0my_train\u001b[0m \u001b[0;34m=\u001b[0m \u001b[0mtrain\u001b[0m\u001b[0;34m[\u001b[0m\u001b[0;34m'rank'\u001b[0m\u001b[0;34m]\u001b[0m\u001b[0;34m\u001b[0m\u001b[0;34m\u001b[0m\u001b[0m\n\u001b[0;32m-> 2678\u001b[0;31m         \u001b[0mx_test\u001b[0m \u001b[0;34m=\u001b[0m \u001b[0mtest\u001b[0m\u001b[0;34m.\u001b[0m\u001b[0mdrop\u001b[0m\u001b[0;34m(\u001b[0m\u001b[0;34m[\u001b[0m\u001b[0;34m'rank'\u001b[0m\u001b[0;34m,\u001b[0m \u001b[0;34m'date'\u001b[0m\u001b[0;34m,\u001b[0m\u001b[0;34m'単勝'\u001b[0m\u001b[0;34m]\u001b[0m\u001b[0;34m,\u001b[0m \u001b[0maxis\u001b[0m\u001b[0;34m=\u001b[0m\u001b[0;36m1\u001b[0m\u001b[0;34m)\u001b[0m\u001b[0;34m\u001b[0m\u001b[0;34m\u001b[0m\u001b[0m\n\u001b[0m\u001b[1;32m   2679\u001b[0m         \u001b[0my_test\u001b[0m \u001b[0;34m=\u001b[0m \u001b[0mtest\u001b[0m\u001b[0;34m[\u001b[0m\u001b[0;34m'rank'\u001b[0m\u001b[0;34m]\u001b[0m\u001b[0;34m\u001b[0m\u001b[0;34m\u001b[0m\u001b[0m\n\u001b[1;32m   2680\u001b[0m         \u001b[0mtrain_query\u001b[0m \u001b[0;34m=\u001b[0m \u001b[0mx_train\u001b[0m\u001b[0;34m.\u001b[0m\u001b[0mgroupby\u001b[0m\u001b[0;34m(\u001b[0m\u001b[0mx_train\u001b[0m\u001b[0;34m.\u001b[0m\u001b[0mindex\u001b[0m\u001b[0;34m)\u001b[0m\u001b[0;34m.\u001b[0m\u001b[0msize\u001b[0m\u001b[0;34m(\u001b[0m\u001b[0;34m)\u001b[0m\u001b[0;34m\u001b[0m\u001b[0;34m\u001b[0m\u001b[0m\n",
      "\u001b[0;32m~/Desktop/Horse/code/horse/my_library/horse.py\u001b[0m in \u001b[0;36mprocess_data\u001b[0;34m(self)\u001b[0m\n\u001b[1;32m   2789\u001b[0m         \u001b[0mself\u001b[0m\u001b[0;34m.\u001b[0m\u001b[0mprocess_hr\u001b[0m\u001b[0;34m(\u001b[0m\u001b[0mresults\u001b[0m\u001b[0;34m,\u001b[0m\u001b[0mhorse_results\u001b[0m\u001b[0;34m)\u001b[0m\u001b[0;34m\u001b[0m\u001b[0;34m\u001b[0m\u001b[0m\n\u001b[1;32m   2790\u001b[0m \u001b[0;34m\u001b[0m\u001b[0m\n\u001b[0;32m-> 2791\u001b[0;31m \u001b[0;34m\u001b[0m\u001b[0m\n\u001b[0m\u001b[1;32m   2792\u001b[0m     \u001b[0;32mdef\u001b[0m \u001b[0mpredict\u001b[0m\u001b[0;34m(\u001b[0m\u001b[0mself\u001b[0m\u001b[0;34m,\u001b[0m \u001b[0mrace_id\u001b[0m\u001b[0;34m)\u001b[0m\u001b[0;34m:\u001b[0m\u001b[0;34m\u001b[0m\u001b[0;34m\u001b[0m\u001b[0m\n\u001b[1;32m   2793\u001b[0m         \u001b[0mdata\u001b[0m \u001b[0;34m=\u001b[0m  \u001b[0mShutubaTable\u001b[0m\u001b[0;34m.\u001b[0m\u001b[0mscrape\u001b[0m\u001b[0;34m(\u001b[0m\u001b[0;34m[\u001b[0m\u001b[0mstr\u001b[0m\u001b[0;34m(\u001b[0m\u001b[0mrace_id\u001b[0m\u001b[0;34m)\u001b[0m\u001b[0;34m]\u001b[0m\u001b[0;34m,\u001b[0m \u001b[0mself\u001b[0m\u001b[0;34m.\u001b[0m\u001b[0mdate\u001b[0m\u001b[0;34m)\u001b[0m\u001b[0;34m\u001b[0m\u001b[0;34m\u001b[0m\u001b[0m\n",
      "\u001b[0;32m~/Desktop/Horse/code/horse/my_library/horse.py\u001b[0m in \u001b[0;36mlearn_model_ft\u001b[0;34m(self, minn, maxn)\u001b[0m\n\u001b[1;32m   2634\u001b[0m \u001b[0;34m\u001b[0m\u001b[0m\n\u001b[1;32m   2635\u001b[0m \u001b[0;34m\u001b[0m\u001b[0m\n\u001b[0;32m-> 2636\u001b[0;31m     \u001b[0;32mdef\u001b[0m \u001b[0mget_model_ft\u001b[0m\u001b[0;34m(\u001b[0m\u001b[0mself\u001b[0m\u001b[0;34m)\u001b[0m\u001b[0;34m:\u001b[0m\u001b[0;34m\u001b[0m\u001b[0;34m\u001b[0m\u001b[0m\n\u001b[0m\u001b[1;32m   2637\u001b[0m         \u001b[0;32mreturn\u001b[0m \u001b[0mself\u001b[0m\u001b[0;34m.\u001b[0m\u001b[0mmodel_ft\u001b[0m\u001b[0;34m\u001b[0m\u001b[0;34m\u001b[0m\u001b[0m\n\u001b[1;32m   2638\u001b[0m \u001b[0;34m\u001b[0m\u001b[0m\n",
      "\u001b[0;32m~/Library/Python/3.7/lib/python/site-packages/fasttext/FastText.py\u001b[0m in \u001b[0;36mtrain_unsupervised\u001b[0;34m(*kargs, **kwargs)\u001b[0m\n\u001b[1;32m    555\u001b[0m     args, manually_set_args = read_args(kargs, kwargs, arg_names,\n\u001b[1;32m    556\u001b[0m                                         unsupervised_default)\n\u001b[0;32m--> 557\u001b[0;31m     \u001b[0ma\u001b[0m \u001b[0;34m=\u001b[0m \u001b[0m_build_args\u001b[0m\u001b[0;34m(\u001b[0m\u001b[0margs\u001b[0m\u001b[0;34m,\u001b[0m \u001b[0mmanually_set_args\u001b[0m\u001b[0;34m)\u001b[0m\u001b[0;34m\u001b[0m\u001b[0;34m\u001b[0m\u001b[0m\n\u001b[0m\u001b[1;32m    558\u001b[0m     \u001b[0mft\u001b[0m \u001b[0;34m=\u001b[0m \u001b[0m_FastText\u001b[0m\u001b[0;34m(\u001b[0m\u001b[0margs\u001b[0m\u001b[0;34m=\u001b[0m\u001b[0ma\u001b[0m\u001b[0;34m)\u001b[0m\u001b[0;34m\u001b[0m\u001b[0;34m\u001b[0m\u001b[0m\n\u001b[1;32m    559\u001b[0m     \u001b[0mfasttext\u001b[0m\u001b[0;34m.\u001b[0m\u001b[0mtrain\u001b[0m\u001b[0;34m(\u001b[0m\u001b[0mft\u001b[0m\u001b[0;34m.\u001b[0m\u001b[0mf\u001b[0m\u001b[0;34m,\u001b[0m \u001b[0ma\u001b[0m\u001b[0;34m)\u001b[0m\u001b[0;34m\u001b[0m\u001b[0;34m\u001b[0m\u001b[0m\n",
      "\u001b[0;32m~/Library/Python/3.7/lib/python/site-packages/fasttext/FastText.py\u001b[0m in \u001b[0;36m_build_args\u001b[0;34m(args, manually_set_args)\u001b[0m\n\u001b[1;32m    420\u001b[0m     \u001b[0ma\u001b[0m \u001b[0;34m=\u001b[0m \u001b[0mfasttext\u001b[0m\u001b[0;34m.\u001b[0m\u001b[0margs\u001b[0m\u001b[0;34m(\u001b[0m\u001b[0;34m)\u001b[0m\u001b[0;34m\u001b[0m\u001b[0;34m\u001b[0m\u001b[0m\n\u001b[1;32m    421\u001b[0m     \u001b[0;32mfor\u001b[0m \u001b[0;34m(\u001b[0m\u001b[0mk\u001b[0m\u001b[0;34m,\u001b[0m \u001b[0mv\u001b[0m\u001b[0;34m)\u001b[0m \u001b[0;32min\u001b[0m \u001b[0margs\u001b[0m\u001b[0;34m.\u001b[0m\u001b[0mitems\u001b[0m\u001b[0;34m(\u001b[0m\u001b[0;34m)\u001b[0m\u001b[0;34m:\u001b[0m\u001b[0;34m\u001b[0m\u001b[0;34m\u001b[0m\u001b[0m\n\u001b[0;32m--> 422\u001b[0;31m         \u001b[0msetattr\u001b[0m\u001b[0;34m(\u001b[0m\u001b[0ma\u001b[0m\u001b[0;34m,\u001b[0m \u001b[0mk\u001b[0m\u001b[0;34m,\u001b[0m \u001b[0mv\u001b[0m\u001b[0;34m)\u001b[0m\u001b[0;34m\u001b[0m\u001b[0;34m\u001b[0m\u001b[0m\n\u001b[0m\u001b[1;32m    423\u001b[0m         \u001b[0;32mif\u001b[0m \u001b[0mk\u001b[0m \u001b[0;32min\u001b[0m \u001b[0mmanually_set_args\u001b[0m\u001b[0;34m:\u001b[0m\u001b[0;34m\u001b[0m\u001b[0;34m\u001b[0m\u001b[0m\n\u001b[1;32m    424\u001b[0m             \u001b[0ma\u001b[0m\u001b[0;34m.\u001b[0m\u001b[0msetManual\u001b[0m\u001b[0;34m(\u001b[0m\u001b[0mk\u001b[0m\u001b[0;34m)\u001b[0m\u001b[0;34m\u001b[0m\u001b[0;34m\u001b[0m\u001b[0m\n",
      "\u001b[0;31mTypeError\u001b[0m: (): incompatible function arguments. The following argument types are supported:\n    1. (self: fasttext_pybind.args, arg0: int) -> None\n\nInvoked with: <fasttext_pybind.args object at 0x7faf93fc7d50>, '/Users/rince/Desktop/Horse/code/horse/peds_ft.txt'"
     ]
    }
   ],
   "source": [
    "train,test = pt.get_train_data()\n",
    "# pt.process_hr(results,horse_results)\n",
    "# pt.learn_model_ft()"
   ]
  },
  {
   "cell_type": "code",
   "execution_count": 108,
   "id": "cbc90297",
   "metadata": {},
   "outputs": [
    {
     "data": {
      "application/vnd.jupyter.widget-view+json": {
       "model_id": "3e574870cf0f49af807f1a91761c137e",
       "version_major": 2,
       "version_minor": 0
      },
      "text/plain": [
       "HBox(children=(FloatProgress(value=0.0, max=11495.0), HTML(value='')))"
      ]
     },
     "metadata": {},
     "output_type": "display_data"
    },
    {
     "name": "stdout",
     "output_type": "stream",
     "text": [
      "\n"
     ]
    },
    {
     "data": {
      "application/vnd.jupyter.widget-view+json": {
       "model_id": "7937bb55192d466ead39e83353235acf",
       "version_major": 2,
       "version_minor": 0
      },
      "text/plain": [
       "HBox(children=(FloatProgress(value=0.0, max=11495.0), HTML(value='')))"
      ]
     },
     "metadata": {},
     "output_type": "display_data"
    },
    {
     "name": "stdout",
     "output_type": "stream",
     "text": [
      "\n",
      "pe finish\n",
      "pe regularizrd\n"
     ]
    }
   ],
   "source": [
    "pt.process_pe(peds)"
   ]
  },
  {
   "cell_type": "code",
   "execution_count": 109,
   "id": "4f7dca90",
   "metadata": {},
   "outputs": [
    {
     "data": {
      "application/vnd.jupyter.widget-view+json": {
       "model_id": "932f64f9f3e84380a2eb62df34f55116",
       "version_major": 2,
       "version_minor": 0
      },
      "text/plain": [
       "HBox(children=(FloatProgress(value=0.0, max=497.0), HTML(value='')))"
      ]
     },
     "metadata": {},
     "output_type": "display_data"
    },
    {
     "name": "stdout",
     "output_type": "stream",
     "text": [
      "\n",
      "hr finish\n"
     ]
    },
    {
     "data": {
      "application/vnd.jupyter.widget-view+json": {
       "model_id": "ecc441a473164bbd8b07c0e7ba25d3c3",
       "version_major": 2,
       "version_minor": 0
      },
      "text/plain": [
       "HBox(children=(FloatProgress(value=0.0, max=109.0), HTML(value='')))"
      ]
     },
     "metadata": {},
     "output_type": "display_data"
    },
    {
     "name": "stdout",
     "output_type": "stream",
     "text": [
      "\n"
     ]
    },
    {
     "data": {
      "application/vnd.jupyter.widget-view+json": {
       "model_id": "10dcf6c4a4504585a086c61a29fae9fa",
       "version_major": 2,
       "version_minor": 0
      },
      "text/plain": [
       "HBox(children=(FloatProgress(value=0.0, max=109.0), HTML(value='')))"
      ]
     },
     "metadata": {},
     "output_type": "display_data"
    },
    {
     "name": "stdout",
     "output_type": "stream",
     "text": [
      "\n"
     ]
    },
    {
     "data": {
      "application/vnd.jupyter.widget-view+json": {
       "model_id": "4f597f45f6c341278039b54b4d3c92d2",
       "version_major": 2,
       "version_minor": 0
      },
      "text/plain": [
       "HBox(children=(FloatProgress(value=0.0, max=109.0), HTML(value='')))"
      ]
     },
     "metadata": {},
     "output_type": "display_data"
    },
    {
     "name": "stdout",
     "output_type": "stream",
     "text": [
      "\n"
     ]
    }
   ],
   "source": [
    "pt.process_hr(results,horse_results)"
   ]
  },
  {
   "cell_type": "markdown",
   "id": "32941e34",
   "metadata": {},
   "source": [
    "# 東京"
   ]
  },
  {
   "cell_type": "code",
   "execution_count": 120,
   "id": "6aaf56de",
   "metadata": {},
   "outputs": [
    {
     "data": {
      "application/vnd.jupyter.widget-view+json": {
       "model_id": "da077426c6e74001924157fee1b557ac",
       "version_major": 2,
       "version_minor": 0
      },
      "text/plain": [
       "HBox(children=(FloatProgress(value=0.0, max=1.0), HTML(value='')))"
      ]
     },
     "metadata": {},
     "output_type": "display_data"
    },
    {
     "name": "stdout",
     "output_type": "stream",
     "text": [
      "\n"
     ]
    },
    {
     "data": {
      "application/vnd.jupyter.widget-view+json": {
       "model_id": "9a31da059040426c94fa062ce684a426",
       "version_major": 2,
       "version_minor": 0
      },
      "text/plain": [
       "HBox(children=(FloatProgress(value=0.0, max=1.0), HTML(value='')))"
      ]
     },
     "metadata": {},
     "output_type": "display_data"
    },
    {
     "name": "stdout",
     "output_type": "stream",
     "text": [
      "\n"
     ]
    },
    {
     "data": {
      "application/vnd.jupyter.widget-view+json": {
       "model_id": "42f2791db1e84af3944346b4fa1b9cf7",
       "version_major": 2,
       "version_minor": 0
      },
      "text/plain": [
       "HBox(children=(FloatProgress(value=0.0, max=1.0), HTML(value='')))"
      ]
     },
     "metadata": {},
     "output_type": "display_data"
    },
    {
     "name": "stdout",
     "output_type": "stream",
     "text": [
      "\n"
     ]
    },
    {
     "data": {
      "application/vnd.jupyter.widget-view+json": {
       "model_id": "e15524abb19d4dd58a6b9f5a2ea1c53e",
       "version_major": 2,
       "version_minor": 0
      },
      "text/plain": [
       "HBox(children=(FloatProgress(value=0.0, max=1.0), HTML(value='')))"
      ]
     },
     "metadata": {},
     "output_type": "display_data"
    },
    {
     "name": "stdout",
     "output_type": "stream",
     "text": [
      "\n",
      "              馬番    scores\n",
      "202205030410   6  1.371102\n",
      "202205030410   3  0.779867\n",
      "202205030410   8  0.443859\n",
      "202205030410   2  0.121382\n",
      "202205030410   5 -0.451744\n",
      "202205030410  14 -0.532018\n",
      "202205030410  10 -0.581835\n",
      "202205030410  11 -0.688470\n",
      "202205030410   4 -0.755791\n",
      "202205030410   9 -0.825304\n",
      "202205030410  12 -0.914896\n",
      "202205030410  13 -0.947285\n",
      "202205030410  15 -1.005432\n",
      "202205030410   1 -1.042639\n",
      "202205030410   7 -1.054250\n"
     ]
    }
   ],
   "source": [
    "base  = '2022050304'\n",
    "pt.predict(base+'10')"
   ]
  },
  {
   "cell_type": "markdown",
   "id": "c3b57a3d",
   "metadata": {},
   "source": [
    "# 中京"
   ]
  },
  {
   "cell_type": "code",
   "execution_count": 119,
   "id": "a6722cba",
   "metadata": {},
   "outputs": [
    {
     "data": {
      "application/vnd.jupyter.widget-view+json": {
       "model_id": "9bc1602008a342b5bc13639fa20247d9",
       "version_major": 2,
       "version_minor": 0
      },
      "text/plain": [
       "HBox(children=(FloatProgress(value=0.0, max=1.0), HTML(value='')))"
      ]
     },
     "metadata": {},
     "output_type": "display_data"
    },
    {
     "name": "stdout",
     "output_type": "stream",
     "text": [
      "\n"
     ]
    },
    {
     "data": {
      "application/vnd.jupyter.widget-view+json": {
       "model_id": "014e41cc411d48c596cd8e40e8bc17b9",
       "version_major": 2,
       "version_minor": 0
      },
      "text/plain": [
       "HBox(children=(FloatProgress(value=0.0, max=1.0), HTML(value='')))"
      ]
     },
     "metadata": {},
     "output_type": "display_data"
    },
    {
     "name": "stdout",
     "output_type": "stream",
     "text": [
      "\n"
     ]
    },
    {
     "data": {
      "application/vnd.jupyter.widget-view+json": {
       "model_id": "e41077985d3d4ad48c46f4c217a591ab",
       "version_major": 2,
       "version_minor": 0
      },
      "text/plain": [
       "HBox(children=(FloatProgress(value=0.0, max=1.0), HTML(value='')))"
      ]
     },
     "metadata": {},
     "output_type": "display_data"
    },
    {
     "name": "stdout",
     "output_type": "stream",
     "text": [
      "\n"
     ]
    },
    {
     "data": {
      "application/vnd.jupyter.widget-view+json": {
       "model_id": "10d42b1d498e4ff998e3c58fcb4ef7c2",
       "version_major": 2,
       "version_minor": 0
      },
      "text/plain": [
       "HBox(children=(FloatProgress(value=0.0, max=1.0), HTML(value='')))"
      ]
     },
     "metadata": {},
     "output_type": "display_data"
    },
    {
     "name": "stdout",
     "output_type": "stream",
     "text": [
      "\n",
      "              馬番    scores\n",
      "202207040410  10  0.893336\n",
      "202207040410   2  0.273061\n",
      "202207040410   4 -0.812102\n",
      "202207040410   8 -0.930210\n",
      "202207040410   7 -0.981755\n",
      "202207040410   9 -1.017185\n",
      "202207040410   5 -1.021039\n",
      "202207040410   1 -1.025512\n",
      "202207040410   6 -1.042639\n",
      "202207040410   3 -1.066951\n"
     ]
    }
   ],
   "source": [
    "base  = '2022070404'\n",
    "# for i in ['07','08','09','10','11']:\n",
    "pt.predict(base+'10')"
   ]
  },
  {
   "cell_type": "markdown",
   "id": "278e1ee5",
   "metadata": {},
   "source": [
    "# 函館"
   ]
  },
  {
   "cell_type": "code",
   "execution_count": null,
   "id": "844e1f79",
   "metadata": {},
   "outputs": [],
   "source": [
    "base  = '2022020102'\n",
    "# for i in ['07','08','09','10','11']:\n",
    "pt.predict(base+'11')"
   ]
  },
  {
   "cell_type": "code",
   "execution_count": null,
   "id": "4324e2ff",
   "metadata": {},
   "outputs": [],
   "source": [
    "\n",
    "pt.show_results_today()"
   ]
  },
  {
   "cell_type": "markdown",
   "id": "fd8b97e7-5e69-4334-a268-c7a57eaa10d8",
   "metadata": {},
   "source": [
    "# 日付に注意"
   ]
  },
  {
   "cell_type": "code",
   "execution_count": 4,
   "id": "5e00c431-6a37-4f54-bfd3-7a1cc01780cc",
   "metadata": {},
   "outputs": [],
   "source": [
    "date = '2022/12/31'"
   ]
  },
  {
   "cell_type": "markdown",
   "id": "fd8ec390-bc7f-4821-8417-76382d034041",
   "metadata": {},
   "source": [
    "# Results scraping"
   ]
  },
  {
   "cell_type": "code",
   "execution_count": 5,
   "id": "131add0a-4ac5-4133-b242-3fa2109a4762",
   "metadata": {
    "tags": []
   },
   "outputs": [
    {
     "data": {
      "application/vnd.jupyter.widget-view+json": {
       "model_id": "36a6927a4897458dafdf662e87bacd05",
       "version_major": 2,
       "version_minor": 0
      },
      "text/plain": [
       "  0%|          | 0/144 [00:00<?, ?it/s]"
      ]
     },
     "metadata": {},
     "output_type": "display_data"
    }
   ],
   "source": [
    "# race_id_list = results.index.astype('str')\n",
    "\n",
    "results_tmp = Results.scrape(race_id_list)"
   ]
  },
  {
   "cell_type": "markdown",
   "id": "3c0ac189-894a-48ac-adb2-4e731640bc5c",
   "metadata": {},
   "source": [
    "# Horse_results scraping"
   ]
  },
  {
   "cell_type": "code",
   "execution_count": 6,
   "id": "1fb495b3-1044-4b5a-afdc-cdf1b60aa6f8",
   "metadata": {},
   "outputs": [
    {
     "data": {
      "application/vnd.jupyter.widget-view+json": {
       "model_id": "9d943474a24f45edaa5b1c31c8451a3f",
       "version_major": 2,
       "version_minor": 0
      },
      "text/plain": [
       "  0%|          | 0/1902 [00:00<?, ?it/s]"
      ]
     },
     "metadata": {},
     "output_type": "display_data"
    }
   ],
   "source": [
    "horse_id_list = results_tmp['horse_id'].astype(str).unique()\n",
    "horse_results_tmp = HorseResults.scrape(horse_id_list)\n",
    "\n",
    "# save_path = '/Users/rince/Desktop/Horse/Data/horse_2020.csv'"
   ]
  },
  {
   "cell_type": "markdown",
   "id": "c1569216-aa8f-40a3-8303-5d54a442b00e",
   "metadata": {},
   "source": [
    "# Peds scraping"
   ]
  },
  {
   "cell_type": "code",
   "execution_count": 7,
   "id": "56d56e6b-7a60-4721-a111-892aafa204d9",
   "metadata": {},
   "outputs": [
    {
     "data": {
      "application/vnd.jupyter.widget-view+json": {
       "model_id": "a3e5a273873b40279180d5fcc5321cbb",
       "version_major": 2,
       "version_minor": 0
      },
      "text/plain": [
       "  0%|          | 0/1902 [00:00<?, ?it/s]"
      ]
     },
     "metadata": {},
     "output_type": "display_data"
    },
    {
     "data": {
      "application/vnd.jupyter.widget-view+json": {
       "model_id": "27ae1ca5f159496d846d48a6f88b0ac3",
       "version_major": 2,
       "version_minor": 0
      },
      "text/plain": [
       "  0%|          | 0/1902 [00:00<?, ?it/s]"
      ]
     },
     "metadata": {},
     "output_type": "display_data"
    }
   ],
   "source": [
    "peds_2021 = Peds.scrape(horse_id_list)\n",
    "pe_2021 = Peds(peds_2021)\n",
    "pe_2021.regularize_peds()\n",
    "peds_tmp = pe_2021.peds_re"
   ]
  },
  {
   "cell_type": "markdown",
   "id": "2d1db0da-3505-4825-8408-e7dd58205c96",
   "metadata": {},
   "source": [
    "# Return scraping"
   ]
  },
  {
   "cell_type": "code",
   "execution_count": 8,
   "id": "56a4d97d-94cc-477f-b643-5144c7173613",
   "metadata": {},
   "outputs": [
    {
     "data": {
      "application/vnd.jupyter.widget-view+json": {
       "model_id": "73576a88088e4505900f330d3bc66e75",
       "version_major": 2,
       "version_minor": 0
      },
      "text/plain": [
       "  0%|          | 0/144 [00:00<?, ?it/s]"
      ]
     },
     "metadata": {},
     "output_type": "display_data"
    }
   ],
   "source": [
    "returns_tmp = Return.scrape(race_id_list)\n"
   ]
  },
  {
   "cell_type": "markdown",
   "id": "6e175b9a-1a2d-4d5d-a5e2-e771c86dd8d2",
   "metadata": {},
   "source": [
    "# update"
   ]
  },
  {
   "cell_type": "code",
   "execution_count": 9,
   "id": "428fa2b8-2058-4c1d-af05-ec10e9f3768d",
   "metadata": {},
   "outputs": [],
   "source": [
    "new_results = update_data(load_csv(path_win+'results.csv'),results_tmp)\n",
    "new_horse_results = update_data(load_csv(path_win+'horse_results.csv'),horse_results_tmp)\n",
    "new_peds = update_data(load_csv(path_win+'peds.csv'),peds_tmp)\n",
    "returns = load_csv(path_win+'return.csv')\n",
    "returns.rename(columns={'0':0,'1':1,'2':2,'3':3},inplace=True)\n",
    "returns_tmp.rename(columns={'0':0,'1':1,'2':2,'3':3},inplace=True)\n",
    "new_return = update_data(returns,returns_tmp)\n"
   ]
  },
  {
   "cell_type": "markdown",
   "id": "d77364dd-545a-43d4-97aa-070ca0595356",
   "metadata": {},
   "source": [
    "# save"
   ]
  },
  {
   "cell_type": "code",
   "execution_count": 10,
   "id": "875dc8e7-f696-4b78-933d-4f62f3603430",
   "metadata": {},
   "outputs": [],
   "source": [
    "new_results.to_csv(path_win+'results.csv')\n",
    "new_horse_results.to_csv(path_win+'horse_results.csv')\n",
    "new_peds.to_csv(path_win+'peds.csv')\n",
    "new_return.to_csv(path_win+'return.csv')"
   ]
  },
  {
   "cell_type": "markdown",
   "id": "4bb0ca11-eae4-4d5e-b833-3184f6e85f85",
   "metadata": {},
   "source": [
    "# 重要度"
   ]
  },
  {
   "cell_type": "code",
   "execution_count": null,
   "id": "c64f0ed3-8651-4105-aa14-83bfa45b20c9",
   "metadata": {
    "tags": []
   },
   "outputs": [],
   "source": [
    "importances = pd.DataFrame(\n",
    "{'features' : x_train.columns, 'importances' : lgb_rank.feature_importance()})\n",
    "print(importances.sort_values('importances', ascending=False)[:30])"
   ]
  },
  {
   "cell_type": "markdown",
   "id": "d5dc1142-ff9b-4568-80b8-18ef0d9010c1",
   "metadata": {},
   "source": [
    "# fastText"
   ]
  },
  {
   "cell_type": "markdown",
   "id": "ea29d7bf-5052-44dc-ac80-dea59ed65444",
   "metadata": {},
   "source": [
    "流れ\n",
    "1. fasttext用の血統データの学習データを作る (血統の情報のみ, index ヘッダはいらない)\n",
    "2. fasttext学習\n",
    "3. 学習モデルを使って, 血統データをベクトル化\n",
    "4. ベクトル化して r.data_cに concat\n",
    "5. 学習\n"
   ]
  },
  {
   "cell_type": "markdown",
   "id": "23d375b9-e292-4d4a-97c2-905e3060419f",
   "metadata": {},
   "source": [
    "教師あり, 教師なしでも生成されるベクトルは等しい"
   ]
  },
  {
   "cell_type": "markdown",
   "id": "4de5229f-9b05-4bc1-820a-0e275a1d6c8f",
   "metadata": {},
   "source": [
    "# model_ft 作成"
   ]
  },
  {
   "cell_type": "code",
   "execution_count": null,
   "id": "554f0c62-72c2-4a2e-b45e-b0b4d37c2e86",
   "metadata": {
    "tags": []
   },
   "outputs": [],
   "source": [
    "# 相対パスしかできない\n",
    "# dim : 出力の次元\n",
    "# minn : n_gramの最小単位\n",
    "# maxn : n_gramの最大単位\n",
    "path_ft = '/Users/rince/Desktop/Horse/code/horse/peds_ft.txt'\n",
    "# 上書き保存OK\n",
    "peds.to_csv(path_ft,header=False,index=False,sep=',')\n",
    "model_ft = ft.train_unsupervised(path_ft,dim=62,minn=2,maxn=14)"
   ]
  },
  {
   "cell_type": "markdown",
   "id": "d9dd9030-310c-414d-8c91-6178159c00e6",
   "metadata": {},
   "source": [
    "model[model.words[1]] と model.get_input_vector(ind=1) は等価"
   ]
  },
  {
   "cell_type": "code",
   "execution_count": null,
   "id": "6b23af9b",
   "metadata": {},
   "outputs": [],
   "source": []
  }
 ],
 "metadata": {
  "kernelspec": {
   "display_name": "Python 3.8.9 64-bit",
   "language": "python",
   "name": "python3"
  },
  "language_info": {
   "codemirror_mode": {
    "name": "ipython",
    "version": 3
   },
   "file_extension": ".py",
   "mimetype": "text/x-python",
   "name": "python",
   "nbconvert_exporter": "python",
   "pygments_lexer": "ipython3",
   "version": "3.8.9"
  },
  "vscode": {
   "interpreter": {
    "hash": "31f2aee4e71d21fbe5cf8b01ff0e069b9275f58929596ceb00d14d90e3e16cd6"
   }
  }
 },
 "nbformat": 4,
 "nbformat_minor": 5
}
