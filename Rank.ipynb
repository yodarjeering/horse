{
 "cells": [
  {
   "cell_type": "markdown",
   "id": "485b75ae-02d8-4d3e-b0f4-c8cad9518e8c",
   "metadata": {},
   "source": [
    "# import"
   ]
  },
  {
   "cell_type": "code",
   "execution_count": 7,
   "id": "fa116d3b-51ac-42de-bf7a-fb55eb148689",
   "metadata": {},
   "outputs": [],
   "source": [
    "import pandas as pd\n",
    "from tqdm.notebook import tqdm as tqdm\n",
    "import time\n",
    "from graphviz import *\n",
    "import lightgbm as lgb\n",
    "from hyperopt import hp, tpe, Trials, fmin,STATUS_OK\n",
    "import fasttext as ft\n",
    "from my_library.horse import *"
   ]
  },
  {
   "cell_type": "markdown",
   "id": "1782806f-f29f-40fe-9c06-7dfca7dd2339",
   "metadata": {},
   "source": [
    "# path"
   ]
  },
  {
   "cell_type": "code",
   "execution_count": 2,
   "id": "8a4008e3-1c76-4f8e-b375-0f3533379d5b",
   "metadata": {},
   "outputs": [],
   "source": [
    "path_ubu = '/home/hipro/デスクトップ/Horse/Data/20_21'\n",
    "path_mac2 = '/Users/rince/Desktop/Horse/Data/saishin2/'\n",
    "path_mac = '/Users/rince/Desktop/Horse/Data/saishin/'\n",
    "path_win = '/Users/Owner/Desktop/program/Horse/Data/saishin/'\n",
    "path_win2 = '/Users/Owner/Desktop/program/Horse/Data/saishin2/'"
   ]
  },
  {
   "cell_type": "markdown",
   "id": "a920e716-5257-45d8-9831-2effe586aa2c",
   "metadata": {},
   "source": [
    "# load data"
   ]
  },
  {
   "cell_type": "code",
   "execution_count": 3,
   "id": "2cafb76f-29dc-4841-bb1b-2792c246cd20",
   "metadata": {
    "tags": []
   },
   "outputs": [],
   "source": [
    "results = load_csv(path_mac+'results.csv')\n",
    "horse_results = load_csv(path_mac+'horse_results.csv')\n",
    "peds = load_csv(path_mac+'peds.csv')\n",
    "# 何回やってもロードすると, nanが出る\n",
    "peds.fillna('nan',inplace=True)\n",
    "return_tables = load_csv(path_mac+'return.csv')\n",
    "return_tables.rename(columns={'0':0,'1':1,'2':2,'3':3},inplace=True)"
   ]
  },
  {
   "cell_type": "markdown",
   "id": "6897b3ed-08f1-452f-bc5c-840f04015aed",
   "metadata": {},
   "source": [
    "# race_id 命名規則"
   ]
  },
  {
   "cell_type": "markdown",
   "id": "f840d19f-0d83-4c24-a9d6-245b20e6eac6",
   "metadata": {},
   "source": [
    "race_id 202105040802\\\n",
    "yyyy_pp_xx_xxrr\\\n",
    "y : year\\\n",
    "p : palce\\\n",
    "x : 謎\\\n",
    "r : race番号"
   ]
  },
  {
   "cell_type": "code",
   "execution_count": null,
   "id": "3ab99716",
   "metadata": {},
   "outputs": [],
   "source": [
    "lgbm_params = {\n",
    "                'metric': 'ndcg',\n",
    "                'objective': 'lambdarank',\n",
    "                'ndcg_eval_at': [1,2,3],\n",
    "                'boosting_type': 'gbdt',\n",
    "                'random_state': 777,\n",
    "                'lambdarank_truncation_level': 9,\n",
    "                'learning_rate': 0.07042118817890154,\n",
    "                'num_iterations': 93,\n",
    "                'num_leaves': 40\n",
    "            }"
   ]
  },
  {
   "cell_type": "code",
   "execution_count": 4,
   "id": "c895357f",
   "metadata": {},
   "outputs": [
    {
     "data": {
      "application/vnd.jupyter.widget-view+json": {
       "model_id": "d921155e11424194aec3114dee7a07c9",
       "version_major": 2,
       "version_minor": 0
      },
      "text/plain": [
       "HBox(children=(FloatProgress(value=0.0, max=17558.0), HTML(value='')))"
      ]
     },
     "metadata": {},
     "output_type": "display_data"
    },
    {
     "name": "stdout",
     "output_type": "stream",
     "text": [
      "\n"
     ]
    },
    {
     "data": {
      "application/vnd.jupyter.widget-view+json": {
       "model_id": "e1fed3e6983d4dc886385d1e51727e11",
       "version_major": 2,
       "version_minor": 0
      },
      "text/plain": [
       "HBox(children=(FloatProgress(value=0.0, max=17558.0), HTML(value='')))"
      ]
     },
     "metadata": {},
     "output_type": "display_data"
    },
    {
     "name": "stdout",
     "output_type": "stream",
     "text": [
      "\n"
     ]
    },
    {
     "data": {
      "application/vnd.jupyter.widget-view+json": {
       "model_id": "e6060c830ccc4a2c8b97c188ee9fe89f",
       "version_major": 2,
       "version_minor": 0
      },
      "text/plain": [
       "HBox(children=(FloatProgress(value=0.0, max=247.0), HTML(value='')))"
      ]
     },
     "metadata": {},
     "output_type": "display_data"
    },
    {
     "name": "stdout",
     "output_type": "stream",
     "text": [
      "\n"
     ]
    },
    {
     "data": {
      "application/vnd.jupyter.widget-view+json": {
       "model_id": "3ee34d9d847f4b13a019ec46c0fce8b2",
       "version_major": 2,
       "version_minor": 0
      },
      "text/plain": [
       "HBox(children=(FloatProgress(value=0.0, max=247.0), HTML(value='')))"
      ]
     },
     "metadata": {},
     "output_type": "display_data"
    },
    {
     "name": "stdout",
     "output_type": "stream",
     "text": [
      "\n"
     ]
    },
    {
     "data": {
      "application/vnd.jupyter.widget-view+json": {
       "model_id": "e00957ec550643bfba92965200a4028e",
       "version_major": 2,
       "version_minor": 0
      },
      "text/plain": [
       "HBox(children=(FloatProgress(value=0.0, max=247.0), HTML(value='')))"
      ]
     },
     "metadata": {},
     "output_type": "display_data"
    },
    {
     "name": "stdout",
     "output_type": "stream",
     "text": [
      "\n",
      "[LightGBM] [Warning] Auto-choosing col-wise multi-threading, the overhead of testing was 0.070915 seconds.\n",
      "You can set `force_col_wise=true` to remove the overhead.\n",
      "[LightGBM] [Info] Total Bins 46022\n",
      "[LightGBM] [Info] Number of data points in the train set: 85884, number of used features: 172\n"
     ]
    }
   ],
   "source": [
    "ll = LearnLGBM(peds,results,horse_results)\n",
    "ll.learn_lgb()"
   ]
  },
  {
   "cell_type": "code",
   "execution_count": null,
   "id": "f5a261c3",
   "metadata": {},
   "outputs": [],
   "source": [
    "# ll = LearnLGBM(peds,results,horse_results)\n",
    "# ll.get_train_data()\n",
    "\n",
    "val_train_query = ll.x_train.groupby(ll.x_train.index).size()\n",
    "val_x = ll.x_test.iloc[:-10000]\n",
    "val_y = ll.y_test.iloc[:-10000]\n",
    "test_query = val_x.groupby(val_x.index).size()\n",
    "train = lgb.Dataset(ll.x_train, ll.y_train, group=train_query)\n",
    "valid = lgb.Dataset(val_x, val_y, reference=train, group=test_query)"
   ]
  },
  {
   "cell_type": "markdown",
   "id": "27efe69c",
   "metadata": {},
   "source": [
    "# 正解ラベル　変えた"
   ]
  },
  {
   "cell_type": "code",
   "execution_count": null,
   "id": "32108465",
   "metadata": {},
   "outputs": [],
   "source": [
    "def split_data(df, test_size=0.2, rank_learning=True):\n",
    "    \"\"\"\n",
    "    データを学習データと, 訓練データに分ける関数\n",
    "    \"\"\"\n",
    "    df_ = df.copy()\n",
    "    df_['rank'] = df_['rank'].map(lambda x: int((1/x)*10) if x<4 else(0))\n",
    "        \n",
    "    sorted_id_list = df_.sort_values(\"date\").index.unique()\n",
    "    train_id_list = sorted_id_list[: round(len(sorted_id_list) * (1 - test_size))]\n",
    "    test_id_list = sorted_id_list[round(len(sorted_id_list) * (1 - test_size)) :]\n",
    "    train = df_.loc[train_id_list]#.drop(['date'], axis=1)\n",
    "    test = df_.loc[test_id_list]#.drop(['date'], axis=1)\n",
    "    return train, test\n",
    "\n",
    "    \n",
    "train, test = split_data(ll.r.data_c.fillna(0),test_size=0.2,rank_learning=False)\n",
    "x_train = train.drop(['rank', 'date','単勝'], axis=1)\n",
    "y_train = train['rank']\n",
    "x_test = test.drop(['rank', 'date','単勝'], axis=1)\n",
    "y_test = test['rank']\n",
    "train_query = x_train.groupby(x_train.index).size()\n",
    "train = lgb.Dataset(x_train, y_train, group=train_query)\n",
    "val_y = y_test.iloc[:-10000]\n",
    "test_query = x_test.groupby(x_test.index).size()\n",
    "valid = lgb.Dataset(x_test, y_test, reference=train, group=test_query)"
   ]
  },
  {
   "cell_type": "code",
   "execution_count": null,
   "id": "6be3bc5a",
   "metadata": {},
   "outputs": [],
   "source": [
    "lgbm_params = {\n",
    "                'metric': 'ndcg',\n",
    "                'objective': 'lambdarank',\n",
    "                'ndcg_eval_at': [1,2,3],\n",
    "                'boosting_type': 'gbdt',\n",
    "                'random_state': 777,\n",
    "                'lambdarank_truncation_level': 10,\n",
    "                'learning_rate': 0.02273417953255777,\n",
    "                'num_iterations': 97,\n",
    "                'num_leaves': 42\n",
    "            }\n",
    "\n",
    "{'lambdarank_truncation_level': 10,\n",
    " 'learning_rate': 0.02273417953255777,\n",
    " 'num_iterations': 97,\n",
    " 'num_leaves': 42}"
   ]
  },
  {
   "cell_type": "code",
   "execution_count": null,
   "id": "18909448",
   "metadata": {},
   "outputs": [],
   "source": [
    "# {'lambdarank_truncation_level': range(1,50)[33], 'learning_rate': 0.09608503291165846, 'num_iterations': range(50,120)[14], 'num_leaves': range(20,50)[2]}\n",
    "\n",
    "\n",
    "{'lambdarank_truncation_level':  range(1,50)[9], 'learning_rate': 0.02273417953255777, 'num_iterations': range(50,120)[47], 'num_leaves': range(20,50)[22]}"
   ]
  },
  {
   "cell_type": "code",
   "execution_count": null,
   "id": "defd053c",
   "metadata": {},
   "outputs": [],
   "source": [
    "ll.learn_lgb2(train,lgbm_params=lgbm_params)"
   ]
  },
  {
   "cell_type": "code",
   "execution_count": null,
   "id": "03dc35cc",
   "metadata": {},
   "outputs": [],
   "source": [
    "def score(params):\n",
    "    print(\"Training start:\")\n",
    "\n",
    "    N_boost_round = []\n",
    "    Score = []\n",
    "\n",
    "    lgb_results={}  #履歴格納用\n",
    "    # train = lgb.Dataset(x_train, y_train, group=train_query)\n",
    "    # valid = lgb.Dataset(x_test, y_test, reference=train, group=test_query)\n",
    "\n",
    "    \n",
    "    lgb_clf = lgb.train(\n",
    "        params,\n",
    "        train,\n",
    "        num_boost_round=1000,\n",
    "        valid_sets=valid,\n",
    "        valid_names=['valid'],\n",
    "        early_stopping_rounds=20,\n",
    "        verbose_eval=5,\n",
    "        evals_result=lgb_results,\n",
    "    )\n",
    "#     return lgb_results\n",
    "    return {'loss': -1.0 * lgb_results['valid']['ndcg@3'][lgb_clf.best_iteration], 'status': STATUS_OK}\n",
    "\n",
    "def optimize(trials):\n",
    "#探索スペース\n",
    "    space = {\n",
    "        'objective': 'lambdarank',\n",
    "        'metric': 'ndcg',\n",
    "        # 上位三着を考慮する\n",
    "        'ndcg_eval_at': [1,2,3],\n",
    "#         best paramsの返り値は, choiceだとindexか?\n",
    "        'lambdarank_truncation_level': hp.choice('lambdarank_truncation_level',range(1,50)),\n",
    "        'learning_rate': hp.uniform('learning_rate', 0.01, 0.1),\n",
    "        # n_estimators == num_iterations\n",
    "        'num_iterations': hp.choice('num_iterations',range(50,120)),\n",
    "        'num_leaves': hp.choice('num_leaves',range(20,50)),\n",
    "        'boosting_type': 'gbdt',\n",
    "        'random_state': 777\n",
    "    }\n",
    "\n",
    "    max_evals = 100      #探索回数(25くらいで十分)\n",
    "    best = fmin(score, space, algo=tpe.suggest, trials=trials, max_evals=max_evals)\n",
    "\n",
    "    print(\"best parameters:\", best)"
   ]
  },
  {
   "cell_type": "code",
   "execution_count": null,
   "id": "8ae3611f",
   "metadata": {},
   "outputs": [],
   "source": [
    "trials = Trials()\n",
    "optimize(trials)"
   ]
  },
  {
   "cell_type": "markdown",
   "id": "2b30c738-f553-4488-8239-235c9808c184",
   "metadata": {},
   "source": [
    "# Simulate\n"
   ]
  },
  {
   "cell_type": "code",
   "execution_count": 6,
   "id": "fbe42143",
   "metadata": {},
   "outputs": [
    {
     "ename": "AttributeError",
     "evalue": "'RankSimulater' object has no attribute 'pred_odds_list'",
     "output_type": "error",
     "traceback": [
      "\u001b[0;31m---------------------------------------------------------------------------\u001b[0m",
      "\u001b[0;31mAttributeError\u001b[0m                            Traceback (most recent call last)",
      "\u001b[0;32m<ipython-input-6-f913ecc56d80>\u001b[0m in \u001b[0;36m<module>\u001b[0;34m\u001b[0m\n\u001b[0;32m----> 1\u001b[0;31m \u001b[0msl\u001b[0m\u001b[0;34m.\u001b[0m\u001b[0mpred_odds_list\u001b[0m\u001b[0;34m\u001b[0m\u001b[0;34m\u001b[0m\u001b[0m\n\u001b[0m",
      "\u001b[0;31mAttributeError\u001b[0m: 'RankSimulater' object has no attribute 'pred_odds_list'"
     ]
    }
   ],
   "source": [
    "sl.pred_odds_list"
   ]
  },
  {
   "cell_type": "code",
   "execution_count": 11,
   "id": "b4c3498b-a9bf-4891-9ec4-748f1681fe24",
   "metadata": {
    "tags": []
   },
   "outputs": [
    {
     "name": "stdout",
     "output_type": "stream",
     "text": [
      "\n",
      "odds 1.1\n",
      "not_bet_count 1\n",
      "---------------------\n",
      "単勝\n",
      "的中率 : 79 / 361\n",
      "的中% : 21.88 %\n",
      "収支   : -3800.0 円\n",
      "的中レース : {'01': 8, '02': 8, '03': 8, '04': 7, '05': 7, '06': 6, '07': 8, '08': 7, '09': 2, '10': 6, '11': 6, '12': 6}\n",
      "time 8.93926191329956\n",
      "\n",
      "odds 2.0\n",
      "not_bet_count 45\n",
      "---------------------\n",
      "単勝\n",
      "的中率 : 79 / 317\n",
      "的中% : 24.92 %\n",
      "収支   : -2900.0 円\n",
      "的中レース : {'01': 8, '02': 8, '03': 8, '04': 7, '05': 7, '06': 6, '07': 8, '08': 7, '09': 2, '10': 6, '11': 6, '12': 6}\n",
      "time 17.911739826202393\n",
      "\n",
      "odds 3.0\n",
      "not_bet_count 112\n",
      "---------------------\n",
      "単勝\n",
      "的中率 : 79 / 250\n",
      "的中% : 31.60 %\n",
      "収支   : -1600.0 円\n",
      "的中レース : {'01': 8, '02': 8, '03': 8, '04': 7, '05': 7, '06': 6, '07': 8, '08': 7, '09': 2, '10': 6, '11': 6, '12': 6}\n",
      "time 27.75297212600708\n",
      "\n",
      "odds 4.0\n",
      "not_bet_count 178\n",
      "---------------------\n",
      "単勝\n",
      "的中率 : 79 / 184\n",
      "的中% : 42.93 %\n",
      "収支   : 890.0 円\n",
      "的中レース : {'01': 8, '02': 8, '03': 8, '04': 7, '05': 7, '06': 6, '07': 8, '08': 7, '09': 2, '10': 6, '11': 6, '12': 6}\n",
      "time 36.24506592750549\n",
      "\n",
      "odds 5.0\n",
      "not_bet_count 216\n",
      "---------------------\n",
      "単勝\n",
      "的中率 : 79 / 146\n",
      "的中% : 54.11 %\n",
      "収支   : 2100.0 円\n",
      "的中レース : {'01': 8, '02': 8, '03': 8, '04': 7, '05': 7, '06': 6, '07': 8, '08': 7, '09': 2, '10': 6, '11': 6, '12': 6}\n",
      "time 44.53021788597107\n",
      "\n",
      "odds 6.0\n",
      "not_bet_count 252\n",
      "---------------------\n",
      "単勝\n",
      "的中率 : 79 / 110\n",
      "的中% : 71.82 %\n",
      "収支   : 2430.0 円\n",
      "的中レース : {'01': 8, '02': 8, '03': 8, '04': 7, '05': 7, '06': 6, '07': 8, '08': 7, '09': 2, '10': 6, '11': 6, '12': 6}\n",
      "time 53.1688449382782\n",
      "\n",
      "odds 7.0\n",
      "not_bet_count 272\n",
      "---------------------\n",
      "単勝\n",
      "的中率 : 79 / 90\n",
      "的中% : 87.78 %\n",
      "収支   : 1250.0 円\n",
      "的中レース : {'01': 8, '02': 8, '03': 8, '04': 7, '05': 7, '06': 6, '07': 8, '08': 7, '09': 2, '10': 6, '11': 6, '12': 6}\n",
      "time 61.8064489364624\n"
     ]
    }
   ],
   "source": [
    "\n",
    "start_time = time.time()\n",
    "for odds in [1.1,2.0,3.0,4.0,5.0,6.0,7.0]:\n",
    "    print()\n",
    "    sl = RankSimulater(ll.model)\n",
    "    print(\"odds\",odds)\n",
    "    sl.calc_tansho(ll.r.data_c.iloc[-5000:],return_tables,odds=odds)\n",
    "    print(\"time\", time.time() - start_time)\n"
   ]
  },
  {
   "cell_type": "code",
   "execution_count": 10,
   "id": "9a5acc8c-484d-4fef-ae88-1c20180881d1",
   "metadata": {},
   "outputs": [
    {
     "ename": "IndexError",
     "evalue": "index 0 is out of bounds for axis 0 with size 0",
     "output_type": "error",
     "traceback": [
      "\u001b[0;31m---------------------------------------------------------------------------\u001b[0m",
      "\u001b[0;31mIndexError\u001b[0m                                Traceback (most recent call last)",
      "\u001b[0;32m<ipython-input-10-65ded3798e1e>\u001b[0m in \u001b[0;36m<module>\u001b[0;34m\u001b[0m\n\u001b[1;32m      1\u001b[0m \u001b[0msl\u001b[0m \u001b[0;34m=\u001b[0m \u001b[0mRankSimulater\u001b[0m\u001b[0;34m(\u001b[0m\u001b[0mll\u001b[0m\u001b[0;34m.\u001b[0m\u001b[0mmodel\u001b[0m\u001b[0;34m)\u001b[0m\u001b[0;34m\u001b[0m\u001b[0;34m\u001b[0m\u001b[0m\n\u001b[0;32m----> 2\u001b[0;31m \u001b[0msl\u001b[0m\u001b[0;34m.\u001b[0m\u001b[0mcalc_sanrenpuku\u001b[0m\u001b[0;34m(\u001b[0m\u001b[0mll\u001b[0m\u001b[0;34m.\u001b[0m\u001b[0mr\u001b[0m\u001b[0;34m.\u001b[0m\u001b[0mdata_c\u001b[0m\u001b[0;34m.\u001b[0m\u001b[0miloc\u001b[0m\u001b[0;34m[\u001b[0m\u001b[0;34m-\u001b[0m\u001b[0;36m5000\u001b[0m\u001b[0;34m:\u001b[0m\u001b[0;34m]\u001b[0m\u001b[0;34m.\u001b[0m\u001b[0mfillna\u001b[0m\u001b[0;34m(\u001b[0m\u001b[0;36m0\u001b[0m\u001b[0;34m)\u001b[0m\u001b[0;34m,\u001b[0m\u001b[0mreturn_tables\u001b[0m\u001b[0;34m)\u001b[0m\u001b[0;34m\u001b[0m\u001b[0;34m\u001b[0m\u001b[0m\n\u001b[0m",
      "\u001b[0;32m~/Desktop/Horse/code/horse/my_library/horse.py\u001b[0m in \u001b[0;36mcalc_sanrenpuku\u001b[0;34m(self, data_c, return_tables, bet, is_long)\u001b[0m\n\u001b[1;32m   2469\u001b[0m             \u001b[0;32mif\u001b[0m \u001b[0mscore_1\u001b[0m \u001b[0;34m!=\u001b[0m \u001b[0mscore_2\u001b[0m\u001b[0;34m:\u001b[0m\u001b[0;34m\u001b[0m\u001b[0;34m\u001b[0m\u001b[0m\n\u001b[1;32m   2470\u001b[0m \u001b[0;31m#                 当たってた時\u001b[0m\u001b[0;34m\u001b[0m\u001b[0;34m\u001b[0m\u001b[0;34m\u001b[0m\u001b[0m\n\u001b[0;32m-> 2471\u001b[0;31m                 \u001b[0;32mtry\u001b[0m\u001b[0;34m:\u001b[0m\u001b[0;34m\u001b[0m\u001b[0;34m\u001b[0m\u001b[0m\n\u001b[0m\u001b[1;32m   2472\u001b[0m                     \u001b[0;32mif\u001b[0m \u001b[0;34m[\u001b[0m\u001b[0mint\u001b[0m\u001b[0;34m(\u001b[0m\u001b[0mi\u001b[0m\u001b[0;34m)\u001b[0m \u001b[0;32mfor\u001b[0m \u001b[0mi\u001b[0m \u001b[0;32min\u001b[0m \u001b[0mdf_\u001b[0m\u001b[0;34m[\u001b[0m\u001b[0mdf_\u001b[0m\u001b[0;34m[\u001b[0m\u001b[0;36m0\u001b[0m\u001b[0;34m]\u001b[0m\u001b[0;34m==\u001b[0m\u001b[0;34m'三連複'\u001b[0m\u001b[0;34m]\u001b[0m\u001b[0;34m[\u001b[0m\u001b[0;36m1\u001b[0m\u001b[0;34m]\u001b[0m\u001b[0;34m.\u001b[0m\u001b[0mvalues\u001b[0m\u001b[0;34m[\u001b[0m\u001b[0;36m0\u001b[0m\u001b[0;34m]\u001b[0m\u001b[0;34m.\u001b[0m\u001b[0mreplace\u001b[0m\u001b[0;34m(\u001b[0m\u001b[0;34m' '\u001b[0m\u001b[0;34m,\u001b[0m\u001b[0;34m''\u001b[0m\u001b[0;34m)\u001b[0m\u001b[0;34m.\u001b[0m\u001b[0msplit\u001b[0m\u001b[0;34m(\u001b[0m\u001b[0;34m'-'\u001b[0m\u001b[0;34m)\u001b[0m\u001b[0;34m]\u001b[0m \u001b[0;34m==\u001b[0m \u001b[0msorted\u001b[0m\u001b[0;34m(\u001b[0m\u001b[0;34m[\u001b[0m\u001b[0mpred_1\u001b[0m\u001b[0;34m,\u001b[0m\u001b[0mpred_2\u001b[0m\u001b[0;34m,\u001b[0m\u001b[0mpred_3\u001b[0m\u001b[0;34m]\u001b[0m\u001b[0;34m)\u001b[0m\u001b[0;34m:\u001b[0m\u001b[0;34m\u001b[0m\u001b[0;34m\u001b[0m\u001b[0m\n\u001b[1;32m   2473\u001b[0m                         \u001b[0macc_dict\u001b[0m\u001b[0;34m[\u001b[0m\u001b[0;34m'三連複'\u001b[0m\u001b[0;34m]\u001b[0m \u001b[0;34m+=\u001b[0m \u001b[0;36m1\u001b[0m\u001b[0;34m\u001b[0m\u001b[0;34m\u001b[0m\u001b[0m\n",
      "\u001b[0;31mIndexError\u001b[0m: index 0 is out of bounds for axis 0 with size 0"
     ]
    }
   ],
   "source": [
    "sl = RankSimulater(ll.model)\n",
    "sl.calc_sanrenpuku(ll.r.data_c.iloc[-5000:].fillna(0),return_tables)"
   ]
  },
  {
   "cell_type": "code",
   "execution_count": null,
   "id": "2b0526b6-d15f-4e39-abaf-40aaf6cfd0fa",
   "metadata": {
    "tags": []
   },
   "outputs": [],
   "source": [
    "sl = RankSimulater(ll.model)\n",
    "sl.calc_sanrentan(ll.r.data_c.iloc[-5000:].fillna(0),return_tables)"
   ]
  },
  {
   "cell_type": "code",
   "execution_count": null,
   "id": "869c4470",
   "metadata": {},
   "outputs": [],
   "source": [
    "pt = Predictor(peds,results,horse_results,race_id_list)\n",
    "pt.learn_lgb(lgbm_params=lgbm_params)"
   ]
  },
  {
   "cell_type": "markdown",
   "id": "32941e34",
   "metadata": {},
   "source": [
    "# 新潟"
   ]
  },
  {
   "cell_type": "code",
   "execution_count": null,
   "id": "6aaf56de",
   "metadata": {},
   "outputs": [],
   "source": [
    "base  = '2022040101'\n",
    "pt.predict(base+'05')"
   ]
  },
  {
   "cell_type": "markdown",
   "id": "c3b57a3d",
   "metadata": {},
   "source": [
    "# 東京"
   ]
  },
  {
   "cell_type": "code",
   "execution_count": null,
   "id": "a6722cba",
   "metadata": {},
   "outputs": [],
   "source": [
    "base  = '2022050205'\n",
    "pt.predict(base+'05')"
   ]
  },
  {
   "cell_type": "markdown",
   "id": "278e1ee5",
   "metadata": {},
   "source": [
    "# 中京"
   ]
  },
  {
   "cell_type": "code",
   "execution_count": null,
   "id": "844e1f79",
   "metadata": {},
   "outputs": [],
   "source": [
    "base  = '2022070301'\n",
    "pt.predict(base+'05')"
   ]
  },
  {
   "cell_type": "code",
   "execution_count": null,
   "id": "4324e2ff",
   "metadata": {},
   "outputs": [],
   "source": [
    "pt.show_results_today()"
   ]
  },
  {
   "cell_type": "markdown",
   "id": "fd8b97e7-5e69-4334-a268-c7a57eaa10d8",
   "metadata": {},
   "source": [
    "# 日付に注意"
   ]
  },
  {
   "cell_type": "code",
   "execution_count": null,
   "id": "5e00c431-6a37-4f54-bfd3-7a1cc01780cc",
   "metadata": {},
   "outputs": [],
   "source": [
    "date = '2022/12/31'"
   ]
  },
  {
   "cell_type": "markdown",
   "id": "ff135d8f-2a18-4583-8747-68c2938e6b79",
   "metadata": {},
   "source": [
    "# race_id_list"
   ]
  },
  {
   "cell_type": "code",
   "execution_count": null,
   "id": "ca02207f-1319-48d2-943f-195f395e1d70",
   "metadata": {},
   "outputs": [],
   "source": [
    "\n",
    "\n",
    "race_id_list = ['2022050205{}'.format(str(i).zfill(2)) for i in range(1,13)]\n",
    "race_id_list += ['2022050206{}'.format(str(i).zfill(2)) for i in range(1,13)]\n",
    "\n",
    "race_id_list += ['2022070301{}'.format(str(i).zfill(2)) for i in range(1,13)]\n",
    "race_id_list += ['2022070302{}'.format(str(i).zfill(2)) for i in range(1,13)]\n",
    "\n",
    "race_id_list += ['2022040101{}'.format(str(i).zfill(2)) for i in range(1,13)]\n",
    "race_id_list += ['2022040102{}'.format(str(i).zfill(2)) for i in range(1,13)]\n",
    "\n"
   ]
  },
  {
   "cell_type": "markdown",
   "id": "fd8ec390-bc7f-4821-8417-76382d034041",
   "metadata": {},
   "source": [
    "# Results scraping"
   ]
  },
  {
   "cell_type": "code",
   "execution_count": null,
   "id": "131add0a-4ac5-4133-b242-3fa2109a4762",
   "metadata": {
    "tags": []
   },
   "outputs": [],
   "source": [
    "# race_id_list = results.index.astype('str')\n",
    "\n",
    "results_tmp = Results.scrape(race_id_list)"
   ]
  },
  {
   "cell_type": "markdown",
   "id": "3c0ac189-894a-48ac-adb2-4e731640bc5c",
   "metadata": {},
   "source": [
    "# Horse_results scraping"
   ]
  },
  {
   "cell_type": "code",
   "execution_count": null,
   "id": "1fb495b3-1044-4b5a-afdc-cdf1b60aa6f8",
   "metadata": {},
   "outputs": [],
   "source": [
    "horse_id_list = results_tmp['horse_id'].astype(str).unique()\n",
    "horse_results_tmp = HorseResults.scrape(horse_id_list)\n",
    "# save_path = '/Users/rince/Desktop/Horse/Data/horse_2020.csv'"
   ]
  },
  {
   "cell_type": "markdown",
   "id": "c1569216-aa8f-40a3-8303-5d54a442b00e",
   "metadata": {},
   "source": [
    "# Peds scraping"
   ]
  },
  {
   "cell_type": "code",
   "execution_count": null,
   "id": "56d56e6b-7a60-4721-a111-892aafa204d9",
   "metadata": {},
   "outputs": [],
   "source": [
    "peds_2021 = Peds.scrape(horse_id_list)\n",
    "pe_2021 = Peds(peds_2021)\n",
    "pe_2021.regularize_peds()\n",
    "peds_tmp = pe_2021.peds_re"
   ]
  },
  {
   "cell_type": "markdown",
   "id": "2d1db0da-3505-4825-8408-e7dd58205c96",
   "metadata": {},
   "source": [
    "# Return scraping"
   ]
  },
  {
   "cell_type": "code",
   "execution_count": null,
   "id": "56a4d97d-94cc-477f-b643-5144c7173613",
   "metadata": {},
   "outputs": [],
   "source": [
    "returns_tmp = Return.scrape(race_id_list)"
   ]
  },
  {
   "cell_type": "markdown",
   "id": "6e175b9a-1a2d-4d5d-a5e2-e771c86dd8d2",
   "metadata": {},
   "source": [
    "# update"
   ]
  },
  {
   "cell_type": "code",
   "execution_count": null,
   "id": "428fa2b8-2058-4c1d-af05-ec10e9f3768d",
   "metadata": {},
   "outputs": [],
   "source": [
    "new_results = update_data(load_csv(path_mac+'results.csv'),results_tmp)\n",
    "new_horse_results = update_data(load_csv(path_mac+'horse_results.csv'),horse_results_tmp)\n",
    "new_peds = update_data(load_csv(path_mac+'peds.csv'),peds_tmp)\n",
    "new_return = update_data(load_csv(path_mac+'return.csv'),returns_tmp)"
   ]
  },
  {
   "cell_type": "markdown",
   "id": "d77364dd-545a-43d4-97aa-070ca0595356",
   "metadata": {},
   "source": [
    "# save"
   ]
  },
  {
   "cell_type": "code",
   "execution_count": null,
   "id": "875dc8e7-f696-4b78-933d-4f62f3603430",
   "metadata": {},
   "outputs": [],
   "source": [
    "new_results.to_csv(path_mac+'results.csv')\n",
    "new_horse_results.to_csv(path_mac+'horse_results.csv')\n",
    "new_peds.to_csv(path_mac+'peds.csv')\n",
    "new_return.to_csv(path_mac+'return.csv')"
   ]
  },
  {
   "cell_type": "markdown",
   "id": "4bb0ca11-eae4-4d5e-b833-3184f6e85f85",
   "metadata": {},
   "source": [
    "# 重要度"
   ]
  },
  {
   "cell_type": "code",
   "execution_count": null,
   "id": "c64f0ed3-8651-4105-aa14-83bfa45b20c9",
   "metadata": {
    "tags": []
   },
   "outputs": [],
   "source": [
    "importances = pd.DataFrame(\n",
    "{'features' : x_train.columns, 'importances' : lgb_rank.feature_importance()})\n",
    "print(importances.sort_values('importances', ascending=False)[:30])"
   ]
  },
  {
   "cell_type": "markdown",
   "id": "d5dc1142-ff9b-4568-80b8-18ef0d9010c1",
   "metadata": {},
   "source": [
    "# fastText"
   ]
  },
  {
   "cell_type": "markdown",
   "id": "ea29d7bf-5052-44dc-ac80-dea59ed65444",
   "metadata": {},
   "source": [
    "流れ\n",
    "1. fasttext用の血統データの学習データを作る (血統の情報のみ, index ヘッダはいらない)\n",
    "2. fasttext学習\n",
    "3. 学習モデルを使って, 血統データをベクトル化\n",
    "4. ベクトル化して r.data_cに concat\n",
    "5. 学習\n"
   ]
  },
  {
   "cell_type": "markdown",
   "id": "23d375b9-e292-4d4a-97c2-905e3060419f",
   "metadata": {},
   "source": [
    "教師あり, 教師なしでも生成されるベクトルは等しい"
   ]
  },
  {
   "cell_type": "markdown",
   "id": "4de5229f-9b05-4bc1-820a-0e275a1d6c8f",
   "metadata": {},
   "source": [
    "# model_ft 作成"
   ]
  },
  {
   "cell_type": "code",
   "execution_count": null,
   "id": "554f0c62-72c2-4a2e-b45e-b0b4d37c2e86",
   "metadata": {
    "tags": []
   },
   "outputs": [],
   "source": [
    "# 相対パスしかできない\n",
    "# dim : 出力の次元\n",
    "# minn : n_gramの最小単位\n",
    "# maxn : n_gramの最大単位\n",
    "path_ft = '/Users/rince/Desktop/Horse/code/horse/peds_ft.txt'\n",
    "# 上書き保存OK\n",
    "peds.to_csv(path_ft,header=False,index=False,sep=',')\n",
    "model_ft = ft.train_unsupervised(path_ft,dim=62,minn=2,maxn=14)"
   ]
  },
  {
   "cell_type": "markdown",
   "id": "d9dd9030-310c-414d-8c91-6178159c00e6",
   "metadata": {},
   "source": [
    "model[model.words[1]] と model.get_input_vector(ind=1) は等価"
   ]
  },
  {
   "cell_type": "markdown",
   "id": "7ed0b75c-8969-4b49-b522-1c0df7bbb166",
   "metadata": {},
   "source": [
    "# rank = [int((1/i)*10)] と変換してみてはどうか"
   ]
  },
  {
   "cell_type": "code",
   "execution_count": null,
   "id": "6b23af9b",
   "metadata": {},
   "outputs": [],
   "source": []
  }
 ],
 "metadata": {
  "interpreter": {
   "hash": "aee8b7b246df8f9039afb4144a1f6fd8d2ca17a180786b69acc140d282b71a49"
  },
  "kernelspec": {
   "display_name": "Python 3.7.2 64-bit",
   "language": "python",
   "name": "python3"
  },
  "language_info": {
   "codemirror_mode": {
    "name": "ipython",
    "version": 3
   },
   "file_extension": ".py",
   "mimetype": "text/x-python",
   "name": "python",
   "nbconvert_exporter": "python",
   "pygments_lexer": "ipython3",
   "version": "3.7.2"
  }
 },
 "nbformat": 4,
 "nbformat_minor": 5
}
