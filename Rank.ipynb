{
 "cells": [
  {
   "cell_type": "markdown",
   "id": "485b75ae-02d8-4d3e-b0f4-c8cad9518e8c",
   "metadata": {},
   "source": [
    "# import"
   ]
  },
  {
   "cell_type": "code",
   "execution_count": 1,
   "id": "fa116d3b-51ac-42de-bf7a-fb55eb148689",
   "metadata": {},
   "outputs": [],
   "source": [
    "import pandas as pd\n",
    "from tqdm.notebook import tqdm as tqdm\n",
    "import time\n",
    "from graphviz import *\n",
    "import lightgbm as lgb\n",
    "from hyperopt import hp, tpe, Trials, fmin,STATUS_OK\n",
    "import fasttext as ft\n",
    "# import importlib\n",
    "# importlib.reload(hoge)\n",
    "from my_library.horse import *"
   ]
  },
  {
   "cell_type": "markdown",
   "id": "1782806f-f29f-40fe-9c06-7dfca7dd2339",
   "metadata": {},
   "source": [
    "# path"
   ]
  },
  {
   "cell_type": "code",
   "execution_count": 2,
   "id": "8a4008e3-1c76-4f8e-b375-0f3533379d5b",
   "metadata": {},
   "outputs": [],
   "source": [
    "path_ubu = '/home/hipro/デスクトップ/Horse/Data/20_21'\n",
    "path_mac2 = '/Users/rince/Desktop/Horse/Data/saishin2/'\n",
    "path_mac = '/Users/rince/Desktop/Horse/Data/saishin/'\n",
    "path_win = '/Users/Owner/Desktop/program/Horse/Data/saishin/'\n",
    "path_win2 = '/Users/Owner/Desktop/program/Horse/Data/saishin2/'"
   ]
  },
  {
   "cell_type": "markdown",
   "id": "a920e716-5257-45d8-9831-2effe586aa2c",
   "metadata": {},
   "source": [
    "# load data"
   ]
  },
  {
   "cell_type": "code",
   "execution_count": 3,
   "id": "2cafb76f-29dc-4841-bb1b-2792c246cd20",
   "metadata": {
    "tags": []
   },
   "outputs": [],
   "source": [
    "results = load_csv(path_mac+'results.csv')\n",
    "horse_results = load_csv(path_mac+'horse_results.csv')\n",
    "peds = load_csv(path_mac+'peds.csv')\n",
    "# 何回やってもロードすると, nanが出る\n",
    "peds.fillna('nan',inplace=True)\n",
    "return_tables = load_csv(path_mac+'return.csv')\n",
    "return_tables.rename(columns={'0':0,'1':1,'2':2,'3':3},inplace=True)"
   ]
  },
  {
   "cell_type": "markdown",
   "id": "6897b3ed-08f1-452f-bc5c-840f04015aed",
   "metadata": {},
   "source": [
    "# race_id 命名規則"
   ]
  },
  {
   "cell_type": "markdown",
   "id": "f840d19f-0d83-4c24-a9d6-245b20e6eac6",
   "metadata": {},
   "source": [
    "race_id 202105040802\\\n",
    "yyyy_pp_xx_xxrr\\\n",
    "y : year\\\n",
    "p : palce\\\n",
    "x : 謎\\\n",
    "r : race番号"
   ]
  },
  {
   "cell_type": "code",
   "execution_count": 17,
   "id": "3ab99716",
   "metadata": {},
   "outputs": [],
   "source": [
    "lgbm_params = {\n",
    "                'metric': 'ndcg',\n",
    "                'objective': 'lambdarank',\n",
    "                'ndcg_eval_at': [1,2,3],\n",
    "                'boosting_type': 'gbdt',\n",
    "                'random_state': 777,\n",
    "                'lambdarank_truncation_level': 29,\n",
    "                'learning_rate': 0.021772987388503244,\n",
    "                'num_iterations': 93,\n",
    "                'num_leaves': 40\n",
    "            }"
   ]
  },
  {
   "cell_type": "code",
   "execution_count": 18,
   "id": "c895357f",
   "metadata": {},
   "outputs": [
    {
     "data": {
      "application/vnd.jupyter.widget-view+json": {
       "model_id": "7bd5b61a3015470893b91d185b18d56e",
       "version_major": 2,
       "version_minor": 0
      },
      "text/plain": [
       "HBox(children=(FloatProgress(value=0.0, max=17558.0), HTML(value='')))"
      ]
     },
     "metadata": {},
     "output_type": "display_data"
    },
    {
     "name": "stdout",
     "output_type": "stream",
     "text": [
      "\n"
     ]
    },
    {
     "data": {
      "application/vnd.jupyter.widget-view+json": {
       "model_id": "be3b3e55056149d6b8e930f087c658f9",
       "version_major": 2,
       "version_minor": 0
      },
      "text/plain": [
       "HBox(children=(FloatProgress(value=0.0, max=17558.0), HTML(value='')))"
      ]
     },
     "metadata": {},
     "output_type": "display_data"
    },
    {
     "name": "stdout",
     "output_type": "stream",
     "text": [
      "\n"
     ]
    },
    {
     "data": {
      "application/vnd.jupyter.widget-view+json": {
       "model_id": "b835508f20ae40a186a84ec74b1d06e2",
       "version_major": 2,
       "version_minor": 0
      },
      "text/plain": [
       "HBox(children=(FloatProgress(value=0.0, max=247.0), HTML(value='')))"
      ]
     },
     "metadata": {},
     "output_type": "display_data"
    },
    {
     "name": "stdout",
     "output_type": "stream",
     "text": [
      "\n"
     ]
    },
    {
     "data": {
      "application/vnd.jupyter.widget-view+json": {
       "model_id": "2bf56b795449413aa1ba9047bac6cfb8",
       "version_major": 2,
       "version_minor": 0
      },
      "text/plain": [
       "HBox(children=(FloatProgress(value=0.0, max=247.0), HTML(value='')))"
      ]
     },
     "metadata": {},
     "output_type": "display_data"
    },
    {
     "name": "stdout",
     "output_type": "stream",
     "text": [
      "\n"
     ]
    },
    {
     "data": {
      "application/vnd.jupyter.widget-view+json": {
       "model_id": "3ea893fcd9854762a14e9cbc5d9b8bc6",
       "version_major": 2,
       "version_minor": 0
      },
      "text/plain": [
       "HBox(children=(FloatProgress(value=0.0, max=247.0), HTML(value='')))"
      ]
     },
     "metadata": {},
     "output_type": "display_data"
    },
    {
     "name": "stdout",
     "output_type": "stream",
     "text": [
      "\n",
      "[LightGBM] [Warning] Auto-choosing col-wise multi-threading, the overhead of testing was 0.073375 seconds.\n",
      "You can set `force_col_wise=true` to remove the overhead.\n",
      "[LightGBM] [Info] Total Bins 46022\n",
      "[LightGBM] [Info] Number of data points in the train set: 85884, number of used features: 172\n"
     ]
    }
   ],
   "source": [
    "ll = LearnLGBM(peds,results,horse_results)\n",
    "ll.learn_lgb()"
   ]
  },
  {
   "cell_type": "code",
   "execution_count": 11,
   "id": "f5a261c3",
   "metadata": {},
   "outputs": [],
   "source": [
    "# ll = LearnLGBM(peds,results,horse_results)\n",
    "# ll.get_train_data()\n",
    "\n",
    "train_query = ll.x_train.groupby(ll.x_train.index).size()\n",
    "val_x = ll.x_test.iloc[:-10000]\n",
    "val_y = ll.y_test.iloc[:-10000]\n",
    "test_query = val_x.groupby(val_x.index).size()\n",
    "train = lgb.Dataset(ll.x_train, ll.y_train, group=train_query)\n",
    "valid = lgb.Dataset(val_x, val_y, reference=train, group=test_query)"
   ]
  },
  {
   "cell_type": "markdown",
   "id": "27efe69c",
   "metadata": {},
   "source": [
    "# 正解ラベル　変えた"
   ]
  },
  {
   "cell_type": "code",
   "execution_count": null,
   "id": "32108465",
   "metadata": {},
   "outputs": [],
   "source": [
    "def split_data(df, test_size=0.2, rank_learning=True):\n",
    "    \"\"\"\n",
    "    データを学習データと, 訓練データに分ける関数\n",
    "    \"\"\"\n",
    "    df_ = df.copy()\n",
    "    df_['rank'] = df_['rank'].map(lambda x: int((1/x)*10) if x<4 else(0))\n",
    "        \n",
    "    sorted_id_list = df_.sort_values(\"date\").index.unique()\n",
    "    train_id_list = sorted_id_list[: round(len(sorted_id_list) * (1 - test_size))]\n",
    "    test_id_list = sorted_id_list[round(len(sorted_id_list) * (1 - test_size)) :]\n",
    "    train = df_.loc[train_id_list]#.drop(['date'], axis=1)\n",
    "    test = df_.loc[test_id_list]#.drop(['date'], axis=1)\n",
    "    return train, test\n",
    "\n",
    "    \n",
    "train, test = split_data(ll.r.data_c.fillna(0),test_size=0.2,rank_learning=False)\n",
    "x_train = train.drop(['rank', 'date','単勝'], axis=1)\n",
    "y_train = train['rank']\n",
    "x_test = test.drop(['rank', 'date','単勝'], axis=1)\n",
    "y_test = test['rank']\n",
    "train_query = x_train.groupby(x_train.index).size()\n",
    "train = lgb.Dataset(x_train, y_train, group=train_query)\n",
    "val_y = y_test.iloc[:-10000]\n",
    "test_query = x_test.groupby(x_test.index).size()\n",
    "valid = lgb.Dataset(x_test, y_test, reference=train, group=test_query)"
   ]
  },
  {
   "cell_type": "code",
   "execution_count": null,
   "id": "6be3bc5a",
   "metadata": {},
   "outputs": [],
   "source": [
    "lgbm_params = {\n",
    "                'metric': 'ndcg',\n",
    "                'objective': 'lambdarank',\n",
    "                'ndcg_eval_at': [1,2,3],\n",
    "                'boosting_type': 'gbdt',\n",
    "                'random_state': 777,\n",
    "                'lambdarank_truncation_level': 10,\n",
    "                'learning_rate': 0.02273417953255777,\n",
    "                'num_iterations': 97,\n",
    "                'num_leaves': 42\n",
    "            }\n",
    "\n",
    "{'lambdarank_truncation_level': 10,\n",
    " 'learning_rate': 0.02273417953255777,\n",
    " 'num_iterations': 97,\n",
    " 'num_leaves': 42}"
   ]
  },
  {
   "cell_type": "code",
   "execution_count": 13,
   "id": "c03ed259",
   "metadata": {},
   "outputs": [
    {
     "data": {
      "text/plain": [
       "29"
      ]
     },
     "execution_count": 13,
     "metadata": {},
     "output_type": "execute_result"
    }
   ],
   "source": [
    "range(1,50)[28]"
   ]
  },
  {
   "cell_type": "code",
   "execution_count": null,
   "id": "18909448",
   "metadata": {},
   "outputs": [],
   "source": [
    "# {'lambdarank_truncation_level': range(1,50)[33], 'learning_rate': 0.09608503291165846, 'num_iterations': range(50,120)[14], 'num_leaves': range(20,50)[2]}\n",
    "\n",
    "{'lambdarank_truncation_level': 28, 'learning_rate': 0.021772987388503244}\n",
    "{'lambdarank_truncation_level':  range(1,50)[28], 'learning_rate': 0.02273417953255777, 'num_iterations': range(50,120)[47], 'num_leaves': range(20,50)[22]}"
   ]
  },
  {
   "cell_type": "code",
   "execution_count": null,
   "id": "defd053c",
   "metadata": {},
   "outputs": [],
   "source": [
    "ll.learn_lgb2(train,lgbm_params=lgbm_params)"
   ]
  },
  {
   "cell_type": "code",
   "execution_count": 10,
   "id": "03dc35cc",
   "metadata": {},
   "outputs": [],
   "source": [
    "def score(params):\n",
    "    print(\"Training start:\")\n",
    "\n",
    "    N_boost_round = []\n",
    "    Score = []\n",
    "\n",
    "    lgb_results={}  #履歴格納用\n",
    "    # train = lgb.Dataset(x_train, y_train, group=train_query)\n",
    "    # valid = lgb.Dataset(x_test, y_test, reference=train, group=test_query)\n",
    "\n",
    "    \n",
    "    lgb_clf = lgb.train(\n",
    "        params,\n",
    "        train,\n",
    "        num_boost_round=1000,\n",
    "        valid_sets=valid,\n",
    "        valid_names=['valid'],\n",
    "        early_stopping_rounds=20,\n",
    "        verbose_eval=5,\n",
    "        evals_result=lgb_results,\n",
    "    )\n",
    "#     return lgb_results\n",
    "    return {'loss': -1.0 * lgb_results['valid']['ndcg@3'][lgb_clf.best_iteration], 'status': STATUS_OK}\n",
    "\n",
    "def optimize(trials):\n",
    "#探索スペース\n",
    "    space = {\n",
    "        'objective': 'lambdarank',\n",
    "        'metric': 'ndcg',\n",
    "        # 上位三着を考慮する\n",
    "        'ndcg_eval_at': [1,2,3],\n",
    "#         best paramsの返り値は, choiceだとindexか?\n",
    "        'lambdarank_truncation_level': hp.choice('lambdarank_truncation_level',range(1,50)),\n",
    "        'learning_rate': hp.uniform('learning_rate', 0.01, 0.1),\n",
    "        # n_estimators == num_iterations\n",
    "        # 'num_iterations': hp.choice('num_iterations',range(50,120)),\n",
    "        # 'num_leaves': hp.choice('num_leaves',range(20,50)),\n",
    "        'boosting_type': 'gbdt',\n",
    "        'random_state': 777\n",
    "    }\n",
    "\n",
    "    max_evals = 25      #探索回数(25くらいで十分)\n",
    "    best = fmin(score, space, algo=tpe.suggest, trials=trials, max_evals=max_evals)\n",
    "\n",
    "    print(\"best parameters:\", best)"
   ]
  },
  {
   "cell_type": "code",
   "execution_count": 12,
   "id": "8ae3611f",
   "metadata": {},
   "outputs": [
    {
     "name": "stdout",
     "output_type": "stream",
     "text": [
      "Training start:                                       \n",
      "[LightGBM] [Warning]                                  \n",
      "Auto-choosing col-wise multi-threading, the overhead of testing was 0.094964 seconds.\n",
      "You can set `force_col_wise=true` to remove the overhead.\n",
      "[LightGBM] [Info]                                     \n",
      "Total Bins 46022                                      \n",
      "[LightGBM] [Info]                                     \n",
      "Number of data points in the train set: 85884, number of used features: 172\n",
      "Training until validation scores don't improve for 20 rounds\n",
      "  0%|          | 0/25 [00:02<?, ?trial/s, best loss=?]"
     ]
    },
    {
     "name": "stderr",
     "output_type": "stream",
     "text": [
      "/Users/rince/Library/Python/3.7/lib/python/site-packages/lightgbm/basic.py:1286: UserWarning: Overriding the parameters from Reference Dataset.\n",
      "  warnings.warn('Overriding the parameters from Reference Dataset.')\n",
      "\n",
      "/Users/rince/Library/Python/3.7/lib/python/site-packages/lightgbm/basic.py:1098: UserWarning: categorical_column in param dict is overridden.\n",
      "  warnings.warn('{} in param dict is overridden.'.format(cat_alias))\n",
      "\n"
     ]
    },
    {
     "name": "stdout",
     "output_type": "stream",
     "text": [
      "[5]\tvalid's ndcg@1: 0.507126\tvalid's ndcg@2: 0.492156\tvalid's ndcg@3: 0.489594\n",
      "[10]\tvalid's ndcg@1: 0.507126\tvalid's ndcg@2: 0.490826\tvalid's ndcg@3: 0.490807\n",
      "[15]\tvalid's ndcg@1: 0.510689\tvalid's ndcg@2: 0.496977\tvalid's ndcg@3: 0.493086\n",
      "[20]\tvalid's ndcg@1: 0.510689\tvalid's ndcg@2: 0.499564\tvalid's ndcg@3: 0.494827\n",
      "Early stopping, best iteration is:                    \n",
      "[1]\tvalid's ndcg@1: 0.538005\tvalid's ndcg@2: 0.512396\tvalid's ndcg@3: 0.505089\n",
      "Training start:                                                                  \n",
      "[LightGBM] [Warning]                                                             \n",
      "Auto-choosing col-wise multi-threading, the overhead of testing was 0.181499 seconds.\n",
      "You can set `force_col_wise=true` to remove the overhead.\n",
      "[LightGBM] [Info]                                                                \n",
      "Total Bins 46022                                                                 \n",
      "[LightGBM] [Info]                                                                \n",
      "Number of data points in the train set: 85884, number of used features: 172      \n",
      "Training until validation scores don't improve for 20 rounds                     \n",
      "[5]\tvalid's ndcg@1: 0.508314\tvalid's ndcg@2: 0.486331\tvalid's ndcg@3: 0.487248   \n",
      "[10]\tvalid's ndcg@1: 0.511876\tvalid's ndcg@2: 0.487597\tvalid's ndcg@3: 0.491386  \n",
      "[15]\tvalid's ndcg@1: 0.516627\tvalid's ndcg@2: 0.486544\tvalid's ndcg@3: 0.48823   \n",
      "[20]\tvalid's ndcg@1: 0.523753\tvalid's ndcg@2: 0.49367\tvalid's ndcg@3: 0.491863   \n",
      "Early stopping, best iteration is:                                               \n",
      "[1]\tvalid's ndcg@1: 0.538005\tvalid's ndcg@2: 0.512396\tvalid's ndcg@3: 0.505089\n",
      "Training start:                                                                   \n",
      "[LightGBM] [Warning]                                                              \n",
      "Auto-choosing col-wise multi-threading, the overhead of testing was 0.081373 seconds.\n",
      "You can set `force_col_wise=true` to remove the overhead.\n",
      "[LightGBM] [Info]                                                                 \n",
      "Total Bins 46022                                                                  \n",
      "[LightGBM] [Info]                                                                 \n",
      "Number of data points in the train set: 85884, number of used features: 172       \n",
      "Training until validation scores don't improve for 20 rounds                      \n",
      "[5]\tvalid's ndcg@1: 0.507126\tvalid's ndcg@2: 0.490777\tvalid's ndcg@3: 0.485402    \n",
      "[10]\tvalid's ndcg@1: 0.514252\tvalid's ndcg@2: 0.493768\tvalid's ndcg@3: 0.487138   \n",
      "[15]\tvalid's ndcg@1: 0.507126\tvalid's ndcg@2: 0.492156\tvalid's ndcg@3: 0.488233   \n",
      "[20]\tvalid's ndcg@1: 0.514252\tvalid's ndcg@2: 0.495606\tvalid's ndcg@3: 0.491736   \n",
      "Early stopping, best iteration is:                                                \n",
      "[1]\tvalid's ndcg@1: 0.538005\tvalid's ndcg@2: 0.512396\tvalid's ndcg@3: 0.505089\n",
      "Training start:                                                                   \n",
      "[LightGBM] [Warning]                                                              \n",
      "Auto-choosing row-wise multi-threading, the overhead of testing was 0.019672 seconds.\n",
      "You can set `force_row_wise=true` to remove the overhead.\n",
      "And if memory is not enough, you can set `force_col_wise=true`.\n",
      "[LightGBM] [Info]                                                                 \n",
      "Total Bins 46022                                                                  \n",
      "[LightGBM] [Info]                                                                 \n",
      "Number of data points in the train set: 85884, number of used features: 172       \n",
      "Training until validation scores don't improve for 20 rounds                      \n",
      "[5]\tvalid's ndcg@1: 0.498812\tvalid's ndcg@2: 0.483043\tvalid's ndcg@3: 0.484155    \n",
      "[10]\tvalid's ndcg@1: 0.509501\tvalid's ndcg@2: 0.489307\tvalid's ndcg@3: 0.489447   \n",
      "[15]\tvalid's ndcg@1: 0.509501\tvalid's ndcg@2: 0.491315\tvalid's ndcg@3: 0.492008   \n",
      "[20]\tvalid's ndcg@1: 0.523753\tvalid's ndcg@2: 0.492243\tvalid's ndcg@3: 0.492856   \n",
      "Early stopping, best iteration is:                                                \n",
      "[1]\tvalid's ndcg@1: 0.538005\tvalid's ndcg@2: 0.512396\tvalid's ndcg@3: 0.505089\n",
      "Training start:                                                                   \n",
      "[LightGBM] [Warning]                                                              \n",
      "Auto-choosing col-wise multi-threading, the overhead of testing was 0.072196 seconds.\n",
      "You can set `force_col_wise=true` to remove the overhead.\n",
      "[LightGBM] [Info]                                                                 \n",
      "Total Bins 46022                                                                  \n",
      "[LightGBM] [Info]                                                                 \n",
      "Number of data points in the train set: 85884, number of used features: 172       \n",
      "Training until validation scores don't improve for 20 rounds                      \n",
      "[5]\tvalid's ndcg@1: 0.501188\tvalid's ndcg@2: 0.483751\tvalid's ndcg@3: 0.485284    \n",
      "[10]\tvalid's ndcg@1: 0.509501\tvalid's ndcg@2: 0.491534\tvalid's ndcg@3: 0.49185    \n",
      "[15]\tvalid's ndcg@1: 0.507126\tvalid's ndcg@2: 0.49692\tvalid's ndcg@3: 0.4953      \n",
      "[20]\tvalid's ndcg@1: 0.517815\tvalid's ndcg@2: 0.49854\tvalid's ndcg@3: 0.499304    \n",
      "Early stopping, best iteration is:                                                \n",
      "[1]\tvalid's ndcg@1: 0.538005\tvalid's ndcg@2: 0.512396\tvalid's ndcg@3: 0.505089\n",
      "Training start:                                                                   \n",
      "[LightGBM] [Warning]                                                              \n",
      "Auto-choosing col-wise multi-threading, the overhead of testing was 0.077711 seconds.\n",
      "You can set `force_col_wise=true` to remove the overhead.\n",
      "[LightGBM] [Info]                                                                 \n",
      "Total Bins 46022                                                                  \n",
      "[LightGBM] [Info]                                                                 \n",
      "Number of data points in the train set: 85884, number of used features: 172       \n",
      "Training until validation scores don't improve for 20 rounds                      \n",
      "[5]\tvalid's ndcg@1: 0.496437\tvalid's ndcg@2: 0.489567\tvalid's ndcg@3: 0.4812      \n",
      "[10]\tvalid's ndcg@1: 0.496437\tvalid's ndcg@2: 0.48686\tvalid's ndcg@3: 0.485262    \n",
      "[15]\tvalid's ndcg@1: 0.495249\tvalid's ndcg@2: 0.485333\tvalid's ndcg@3: 0.483707   \n",
      "[20]\tvalid's ndcg@1: 0.514252\tvalid's ndcg@2: 0.492849\tvalid's ndcg@3: 0.490471   \n",
      "Early stopping, best iteration is:                                                \n",
      "[1]\tvalid's ndcg@1: 0.538005\tvalid's ndcg@2: 0.512396\tvalid's ndcg@3: 0.505089\n",
      "Training start:                                                                   \n",
      "[LightGBM] [Warning]                                                             \n",
      "Auto-choosing row-wise multi-threading, the overhead of testing was 0.026664 seconds.\n",
      "You can set `force_row_wise=true` to remove the overhead.\n",
      "And if memory is not enough, you can set `force_col_wise=true`.\n",
      "[LightGBM] [Info]                                                                \n",
      "Total Bins 46022                                                                 \n",
      "[LightGBM] [Info]                                                                \n",
      "Number of data points in the train set: 85884, number of used features: 172      \n",
      "Training until validation scores don't improve for 20 rounds                     \n",
      "[5]\tvalid's ndcg@1: 0.513064\tvalid's ndcg@2: 0.494539\tvalid's ndcg@3: 0.489424   \n",
      "[10]\tvalid's ndcg@1: 0.498812\tvalid's ndcg@2: 0.481835\tvalid's ndcg@3: 0.487899  \n",
      "[15]\tvalid's ndcg@1: 0.489311\tvalid's ndcg@2: 0.477847\tvalid's ndcg@3: 0.487036  \n",
      "[20]\tvalid's ndcg@1: 0.495249\tvalid's ndcg@2: 0.486542\tvalid's ndcg@3: 0.488652  \n",
      "Early stopping, best iteration is:                                               \n",
      "[1]\tvalid's ndcg@1: 0.538005\tvalid's ndcg@2: 0.512396\tvalid's ndcg@3: 0.505089\n",
      "Training start:                                                                  \n",
      "[LightGBM] [Warning]                                                             \n",
      "Auto-choosing col-wise multi-threading, the overhead of testing was 0.084183 seconds.\n",
      "You can set `force_col_wise=true` to remove the overhead.\n",
      "[LightGBM] [Info]                                                                \n",
      "Total Bins 46022                                                                 \n",
      "[LightGBM] [Info]                                                                \n",
      "Number of data points in the train set: 85884, number of used features: 172      \n",
      "Training until validation scores don't improve for 20 rounds                     \n",
      "[5]\tvalid's ndcg@1: 0.5\tvalid's ndcg@2: 0.482224\tvalid's ndcg@3: 0.480821        \n",
      "[10]\tvalid's ndcg@1: 0.522565\tvalid's ndcg@2: 0.496568\tvalid's ndcg@3: 0.492621  \n",
      "[15]\tvalid's ndcg@1: 0.515439\tvalid's ndcg@2: 0.491789\tvalid's ndcg@3: 0.491027  \n",
      "[20]\tvalid's ndcg@1: 0.526128\tvalid's ndcg@2: 0.497254\tvalid's ndcg@3: 0.494886  \n",
      "Early stopping, best iteration is:                                               \n",
      "[1]\tvalid's ndcg@1: 0.549881\tvalid's ndcg@2: 0.512398\tvalid's ndcg@3: 0.498742\n",
      "Training start:                                                                  \n",
      "[LightGBM] [Warning]                                                             \n",
      "Auto-choosing col-wise multi-threading, the overhead of testing was 0.066848 seconds.\n",
      "You can set `force_col_wise=true` to remove the overhead.\n",
      "[LightGBM] [Info]                                                                \n",
      "Total Bins 46022                                                                 \n",
      "[LightGBM] [Info]                                                                \n",
      "Number of data points in the train set: 85884, number of used features: 172      \n",
      "Training until validation scores don't improve for 20 rounds                     \n",
      "[5]\tvalid's ndcg@1: 0.505938\tvalid's ndcg@2: 0.488961\tvalid's ndcg@3: 0.485923   \n",
      "[10]\tvalid's ndcg@1: 0.510689\tvalid's ndcg@2: 0.493591\tvalid's ndcg@3: 0.487506  \n",
      "[15]\tvalid's ndcg@1: 0.517815\tvalid's ndcg@2: 0.490948\tvalid's ndcg@3: 0.490404  \n",
      "[20]\tvalid's ndcg@1: 0.521378\tvalid's ndcg@2: 0.499395\tvalid's ndcg@3: 0.494029  \n",
      "Early stopping, best iteration is:                                               \n",
      "[1]\tvalid's ndcg@1: 0.538005\tvalid's ndcg@2: 0.508381\tvalid's ndcg@3: 0.499361\n",
      "Training start:                                                                  \n",
      "[LightGBM] [Warning]                                                             \n",
      "Auto-choosing col-wise multi-threading, the overhead of testing was 0.072513 seconds.\n",
      "You can set `force_col_wise=true` to remove the overhead.\n",
      "[LightGBM] [Info]                                                                \n",
      "Total Bins 46022                                                                 \n",
      "[LightGBM] [Info]                                                                \n",
      "Number of data points in the train set: 85884, number of used features: 172      \n",
      "Training until validation scores don't improve for 20 rounds                     \n",
      "[5]\tvalid's ndcg@1: 0.503563\tvalid's ndcg@2: 0.492728\tvalid's ndcg@3: 0.489902   \n",
      "[10]\tvalid's ndcg@1: 0.515439\tvalid's ndcg@2: 0.494835\tvalid's ndcg@3: 0.492426  \n",
      "[15]\tvalid's ndcg@1: 0.513064\tvalid's ndcg@2: 0.498433\tvalid's ndcg@3: 0.492857  \n",
      "[20]\tvalid's ndcg@1: 0.52019\tvalid's ndcg@2: 0.499296\tvalid's ndcg@3: 0.49795    \n",
      "Early stopping, best iteration is:                                               \n",
      "[1]\tvalid's ndcg@1: 0.538005\tvalid's ndcg@2: 0.512396\tvalid's ndcg@3: 0.505089\n",
      "Training start:                                                                   \n",
      "[LightGBM] [Warning]                                                              \n",
      "Auto-choosing row-wise multi-threading, the overhead of testing was 0.013662 seconds.\n",
      "You can set `force_row_wise=true` to remove the overhead.\n",
      "And if memory is not enough, you can set `force_col_wise=true`.\n",
      "[LightGBM] [Info]                                                                 \n",
      "Total Bins 46022                                                                  \n",
      "[LightGBM] [Info]                                                                 \n",
      "Number of data points in the train set: 85884, number of used features: 172       \n",
      "Training until validation scores don't improve for 20 rounds                      \n",
      "[5]\tvalid's ndcg@1: 0.524941\tvalid's ndcg@2: 0.49314\tvalid's ndcg@3: 0.491655     \n",
      "[10]\tvalid's ndcg@1: 0.515439\tvalid's ndcg@2: 0.493288\tvalid's ndcg@3: 0.487858   \n",
      "[15]\tvalid's ndcg@1: 0.509501\tvalid's ndcg@2: 0.488438\tvalid's ndcg@3: 0.489688   \n",
      "[20]\tvalid's ndcg@1: 0.508314\tvalid's ndcg@2: 0.492884\tvalid's ndcg@3: 0.492165   \n",
      "Early stopping, best iteration is:                                                \n",
      "[1]\tvalid's ndcg@1: 0.538005\tvalid's ndcg@2: 0.512396\tvalid's ndcg@3: 0.505089\n",
      "Training start:                                                                   \n",
      "[LightGBM] [Warning]                                                              \n",
      "Auto-choosing col-wise multi-threading, the overhead of testing was 0.087874 seconds.\n",
      "You can set `force_col_wise=true` to remove the overhead.\n",
      "[LightGBM] [Info]                                                                 \n",
      "Total Bins 46022                                                                  \n",
      "[LightGBM] [Info]                                                                 \n",
      "Number of data points in the train set: 85884, number of used features: 172       \n",
      "Training until validation scores don't improve for 20 rounds                      \n",
      "[5]\tvalid's ndcg@1: 0.496437\tvalid's ndcg@2: 0.492275\tvalid's ndcg@3: 0.484636    \n",
      "[10]\tvalid's ndcg@1: 0.503563\tvalid's ndcg@2: 0.495944\tvalid's ndcg@3: 0.491073   \n",
      "[15]\tvalid's ndcg@1: 0.514252\tvalid's ndcg@2: 0.502667\tvalid's ndcg@3: 0.496452   \n",
      "[20]\tvalid's ndcg@1: 0.52019\tvalid's ndcg@2: 0.501883\tvalid's ndcg@3: 0.495862    \n",
      "Early stopping, best iteration is:                                                \n",
      "[1]\tvalid's ndcg@1: 0.538005\tvalid's ndcg@2: 0.512396\tvalid's ndcg@3: 0.505089\n",
      "Training start:                                                                   \n",
      "[LightGBM] [Warning]                                                              \n",
      "Auto-choosing col-wise multi-threading, the overhead of testing was 0.094337 seconds.\n",
      "You can set `force_col_wise=true` to remove the overhead.\n",
      "[LightGBM] [Info]                                                                 \n",
      "Total Bins 46022                                                                  \n",
      "[LightGBM] [Info]                                                                 \n",
      "Number of data points in the train set: 85884, number of used features: 172       \n",
      "Training until validation scores don't improve for 20 rounds                      \n",
      "[5]\tvalid's ndcg@1: 0.515439\tvalid's ndcg@2: 0.492779\tvalid's ndcg@3: 0.49156     \n",
      "[10]\tvalid's ndcg@1: 0.507126\tvalid's ndcg@2: 0.497209\tvalid's ndcg@3: 0.49276    \n",
      "[15]\tvalid's ndcg@1: 0.510689\tvalid's ndcg@2: 0.498814\tvalid's ndcg@3: 0.493733   \n",
      "[20]\tvalid's ndcg@1: 0.515439\tvalid's ndcg@2: 0.495295\tvalid's ndcg@3: 0.494307   \n",
      "Early stopping, best iteration is:                                                \n",
      "[1]\tvalid's ndcg@1: 0.538005\tvalid's ndcg@2: 0.512396\tvalid's ndcg@3: 0.505089\n",
      "Training start:                                                                   \n",
      "[LightGBM] [Warning]                                                              \n",
      "Auto-choosing col-wise multi-threading, the overhead of testing was 0.090410 seconds.\n",
      "You can set `force_col_wise=true` to remove the overhead.\n",
      "[LightGBM] [Info]                                                                 \n",
      "Total Bins 46022                                                                  \n",
      "[LightGBM] [Info]                                                                 \n",
      "Number of data points in the train set: 85884, number of used features: 172       \n",
      "Training until validation scores don't improve for 20 rounds                      \n",
      "[5]\tvalid's ndcg@1: 0.494062\tvalid's ndcg@2: 0.493165\tvalid's ndcg@3: 0.486879    \n",
      "[10]\tvalid's ndcg@1: 0.509501\tvalid's ndcg@2: 0.50343\tvalid's ndcg@3: 0.496365    \n",
      "[15]\tvalid's ndcg@1: 0.517815\tvalid's ndcg@2: 0.509397\tvalid's ndcg@3: 0.498677   \n",
      "[20]\tvalid's ndcg@1: 0.519002\tvalid's ndcg@2: 0.503573\tvalid's ndcg@3: 0.496741   \n",
      "Early stopping, best iteration is:                                                \n",
      "[1]\tvalid's ndcg@1: 0.538005\tvalid's ndcg@2: 0.512396\tvalid's ndcg@3: 0.505089\n",
      "Training start:                                                                   \n",
      "[LightGBM] [Warning]                                                              \n",
      "Auto-choosing col-wise multi-threading, the overhead of testing was 0.077740 seconds.\n",
      "You can set `force_col_wise=true` to remove the overhead.\n",
      "[LightGBM] [Info]                                                                 \n",
      "Total Bins 46022                                                                  \n",
      "[LightGBM] [Info]                                                                 \n",
      "Number of data points in the train set: 85884, number of used features: 172       \n",
      "Training until validation scores don't improve for 20 rounds                      \n",
      "[5]\tvalid's ndcg@1: 0.514252\tvalid's ndcg@2: 0.490842\tvalid's ndcg@3: 0.490841    \n",
      "[10]\tvalid's ndcg@1: 0.514252\tvalid's ndcg@2: 0.490722\tvalid's ndcg@3: 0.487198   \n",
      "[15]\tvalid's ndcg@1: 0.524941\tvalid's ndcg@2: 0.497565\tvalid's ndcg@3: 0.48999    \n",
      "[20]\tvalid's ndcg@1: 0.523753\tvalid's ndcg@2: 0.501771\tvalid's ndcg@3: 0.492647   \n",
      "Early stopping, best iteration is:                                                \n",
      "[1]\tvalid's ndcg@1: 0.538005\tvalid's ndcg@2: 0.512396\tvalid's ndcg@3: 0.505089\n",
      "Training start:                                                                   \n",
      "[LightGBM] [Warning]                                                              \n",
      "Auto-choosing row-wise multi-threading, the overhead of testing was 0.018941 seconds.\n",
      "You can set `force_row_wise=true` to remove the overhead.\n",
      "And if memory is not enough, you can set `force_col_wise=true`.\n",
      "[LightGBM] [Info]                                                                 \n",
      "Total Bins 46022                                                                  \n",
      "[LightGBM] [Info]                                                                 \n",
      "Number of data points in the train set: 85884, number of used features: 172       \n",
      "Training until validation scores don't improve for 20 rounds                      \n",
      "[5]\tvalid's ndcg@1: 0.495249\tvalid's ndcg@2: 0.484245\tvalid's ndcg@3: 0.482879    \n",
      "[10]\tvalid's ndcg@1: 0.498812\tvalid's ndcg@2: 0.483213\tvalid's ndcg@3: 0.481569   \n",
      "[15]\tvalid's ndcg@1: 0.503563\tvalid's ndcg@2: 0.485207\tvalid's ndcg@3: 0.484492   \n",
      "[20]\tvalid's ndcg@1: 0.502375\tvalid's ndcg@2: 0.490452\tvalid's ndcg@3: 0.486893   \n",
      "Early stopping, best iteration is:                                                \n",
      "[1]\tvalid's ndcg@1: 0.538005\tvalid's ndcg@2: 0.512396\tvalid's ndcg@3: 0.505089\n",
      "Training start:                                                                    \n",
      "[LightGBM] [Warning]                                                               \n",
      "Auto-choosing col-wise multi-threading, the overhead of testing was 0.136633 seconds.\n",
      "You can set `force_col_wise=true` to remove the overhead.\n",
      "[LightGBM] [Info]                                                                  \n",
      "Total Bins 46022                                                                   \n",
      "[LightGBM] [Info]                                                                  \n",
      "Number of data points in the train set: 85884, number of used features: 172        \n",
      "Training until validation scores don't improve for 20 rounds                       \n",
      "[5]\tvalid's ndcg@1: 0.491686\tvalid's ndcg@2: 0.48189\tvalid's ndcg@3: 0.479554      \n",
      "[10]\tvalid's ndcg@1: 0.492874\tvalid's ndcg@2: 0.482958\tvalid's ndcg@3: 0.48269     \n",
      "[15]\tvalid's ndcg@1: 0.497625\tvalid's ndcg@2: 0.48662\tvalid's ndcg@3: 0.484845     \n",
      "[20]\tvalid's ndcg@1: 0.517815\tvalid's ndcg@2: 0.494695\tvalid's ndcg@3: 0.49014     \n",
      "Early stopping, best iteration is:                                                 \n",
      "[1]\tvalid's ndcg@1: 0.538005\tvalid's ndcg@2: 0.512396\tvalid's ndcg@3: 0.505089\n",
      "Training start:                                                                    \n",
      "[LightGBM] [Warning]                                                               \n",
      "Auto-choosing col-wise multi-threading, the overhead of testing was 0.075875 seconds.\n",
      "You can set `force_col_wise=true` to remove the overhead.\n",
      "[LightGBM] [Info]                                                                  \n",
      "Total Bins 46022                                                                   \n",
      "[LightGBM] [Info]                                                                  \n",
      "Number of data points in the train set: 85884, number of used features: 172        \n",
      "Training until validation scores don't improve for 20 rounds                       \n",
      "[5]\tvalid's ndcg@1: 0.510689\tvalid's ndcg@2: 0.493252\tvalid's ndcg@3: 0.485813     \n",
      "[10]\tvalid's ndcg@1: 0.507126\tvalid's ndcg@2: 0.496001\tvalid's ndcg@3: 0.491647    \n",
      "[15]\tvalid's ndcg@1: 0.503563\tvalid's ndcg@2: 0.492438\tvalid's ndcg@3: 0.494017    \n",
      "[20]\tvalid's ndcg@1: 0.524941\tvalid's ndcg@2: 0.500202\tvalid's ndcg@3: 0.494591    \n",
      "Early stopping, best iteration is:                                                 \n",
      "[1]\tvalid's ndcg@1: 0.538005\tvalid's ndcg@2: 0.512396\tvalid's ndcg@3: 0.505089\n",
      "Training start:                                                                    \n",
      "[LightGBM] [Warning]                                                               \n",
      "Auto-choosing col-wise multi-threading, the overhead of testing was 0.087301 seconds.\n",
      "You can set `force_col_wise=true` to remove the overhead.\n",
      "[LightGBM] [Info]                                                                  \n",
      "Total Bins 46022                                                                   \n",
      "[LightGBM] [Info]                                                                  \n",
      "Number of data points in the train set: 85884, number of used features: 172        \n",
      "Training until validation scores don't improve for 20 rounds                       \n",
      "[5]\tvalid's ndcg@1: 0.504751\tvalid's ndcg@2: 0.495124\tvalid's ndcg@3: 0.493602     \n",
      "[10]\tvalid's ndcg@1: 0.522565\tvalid's ndcg@2: 0.496158\tvalid's ndcg@3: 0.494221    \n",
      "[15]\tvalid's ndcg@1: 0.513064\tvalid's ndcg@2: 0.491541\tvalid's ndcg@3: 0.49174     \n",
      "[20]\tvalid's ndcg@1: 0.521378\tvalid's ndcg@2: 0.502661\tvalid's ndcg@3: 0.495915    \n",
      "Early stopping, best iteration is:                                                 \n",
      "[1]\tvalid's ndcg@1: 0.538005\tvalid's ndcg@2: 0.512396\tvalid's ndcg@3: 0.505089\n",
      "Training start:                                                                    \n",
      "[LightGBM] [Warning]                                                               \n",
      "Auto-choosing row-wise multi-threading, the overhead of testing was 0.015219 seconds.\n",
      "You can set `force_row_wise=true` to remove the overhead.\n",
      "And if memory is not enough, you can set `force_col_wise=true`.\n",
      "[LightGBM] [Info]                                                                  \n",
      "Total Bins 46022                                                                   \n",
      "[LightGBM] [Info]                                                                  \n",
      "Number of data points in the train set: 85884, number of used features: 172        \n",
      "Training until validation scores don't improve for 20 rounds                       \n",
      "[5]\tvalid's ndcg@1: 0.502375\tvalid's ndcg@2: 0.487186\tvalid's ndcg@3: 0.48484      \n",
      "[10]\tvalid's ndcg@1: 0.509501\tvalid's ndcg@2: 0.492184\tvalid's ndcg@3: 0.490994    \n",
      "[15]\tvalid's ndcg@1: 0.511876\tvalid's ndcg@2: 0.500122\tvalid's ndcg@3: 0.496708    \n",
      "[20]\tvalid's ndcg@1: 0.519002\tvalid's ndcg@2: 0.499727\tvalid's ndcg@3: 0.496452    \n",
      "Early stopping, best iteration is:                                                 \n",
      "[1]\tvalid's ndcg@1: 0.538005\tvalid's ndcg@2: 0.512396\tvalid's ndcg@3: 0.505089\n",
      "Training start:                                                                    \n",
      "[LightGBM] [Warning]                                                               \n",
      "Auto-choosing col-wise multi-threading, the overhead of testing was 0.086840 seconds.\n",
      "You can set `force_col_wise=true` to remove the overhead.\n",
      "[LightGBM] [Info]                                                                  \n",
      "Total Bins 46022                                                                   \n",
      "[LightGBM] [Info]                                                                  \n",
      "Number of data points in the train set: 85884, number of used features: 172        \n",
      "Training until validation scores don't improve for 20 rounds                       \n",
      "[5]\tvalid's ndcg@1: 0.509501\tvalid's ndcg@2: 0.496369\tvalid's ndcg@3: 0.487462     \n",
      "[10]\tvalid's ndcg@1: 0.504751\tvalid's ndcg@2: 0.491448\tvalid's ndcg@3: 0.48658     \n",
      "[15]\tvalid's ndcg@1: 0.505938\tvalid's ndcg@2: 0.48959\tvalid's ndcg@3: 0.490079     \n",
      "[20]\tvalid's ndcg@1: 0.52019\tvalid's ndcg@2: 0.497119\tvalid's ndcg@3: 0.496386     \n",
      "Early stopping, best iteration is:                                                 \n",
      "[1]\tvalid's ndcg@1: 0.538005\tvalid's ndcg@2: 0.512396\tvalid's ndcg@3: 0.505089\n",
      "Training start:                                                                    \n",
      "[LightGBM] [Warning]                                                               \n",
      "Auto-choosing col-wise multi-threading, the overhead of testing was 0.079011 seconds.\n",
      "You can set `force_col_wise=true` to remove the overhead.\n",
      "[LightGBM] [Info]                                                                  \n",
      "Total Bins 46022                                                                   \n",
      "[LightGBM] [Info]                                                                  \n",
      "Number of data points in the train set: 85884, number of used features: 172        \n",
      "Training until validation scores don't improve for 20 rounds                       \n",
      "[5]\tvalid's ndcg@1: 0.514252\tvalid's ndcg@2: 0.490262\tvalid's ndcg@3: 0.488906     \n",
      "[10]\tvalid's ndcg@1: 0.494062\tvalid's ndcg@2: 0.481558\tvalid's ndcg@3: 0.485798    \n",
      "[15]\tvalid's ndcg@1: 0.503563\tvalid's ndcg@2: 0.488303\tvalid's ndcg@3: 0.488739    \n",
      "[20]\tvalid's ndcg@1: 0.516627\tvalid's ndcg@2: 0.489131\tvalid's ndcg@3: 0.491144    \n",
      "Early stopping, best iteration is:                                                 \n",
      "[1]\tvalid's ndcg@1: 0.538005\tvalid's ndcg@2: 0.512396\tvalid's ndcg@3: 0.505089\n",
      "Training start:                                                                    \n",
      "[LightGBM] [Warning]                                                               \n",
      "Auto-choosing row-wise multi-threading, the overhead of testing was 0.013076 seconds.\n",
      "You can set `force_row_wise=true` to remove the overhead.\n",
      "And if memory is not enough, you can set `force_col_wise=true`.\n",
      "[LightGBM] [Info]                                                                  \n",
      "Total Bins 46022                                                                   \n",
      "[LightGBM] [Info]                                                                  \n",
      "Number of data points in the train set: 85884, number of used features: 172        \n",
      "Training until validation scores don't improve for 20 rounds                       \n",
      "[5]\tvalid's ndcg@1: 0.495249\tvalid's ndcg@2: 0.480908\tvalid's ndcg@3: 0.485199     \n",
      "[10]\tvalid's ndcg@1: 0.523753\tvalid's ndcg@2: 0.496427\tvalid's ndcg@3: 0.491316    \n",
      "[15]\tvalid's ndcg@1: 0.515439\tvalid's ndcg@2: 0.496673\tvalid's ndcg@3: 0.493412    \n",
      "[20]\tvalid's ndcg@1: 0.516627\tvalid's ndcg@2: 0.496023\tvalid's ndcg@3: 0.491879    \n",
      "Early stopping, best iteration is:                                                 \n",
      "[1]\tvalid's ndcg@1: 0.538005\tvalid's ndcg@2: 0.512396\tvalid's ndcg@3: 0.505089\n",
      "Training start:                                                                    \n",
      "[LightGBM] [Warning]                                                               \n",
      "Auto-choosing col-wise multi-threading, the overhead of testing was 0.115346 seconds.\n",
      "You can set `force_col_wise=true` to remove the overhead.\n",
      "[LightGBM] [Info]                                                                  \n",
      "Total Bins 46022                                                                   \n",
      "[LightGBM] [Info]                                                                  \n",
      "Number of data points in the train set: 85884, number of used features: 172        \n",
      "Training until validation scores don't improve for 20 rounds                       \n",
      "[5]\tvalid's ndcg@1: 0.503563\tvalid's ndcg@2: 0.487914\tvalid's ndcg@3: 0.490292     \n",
      "[10]\tvalid's ndcg@1: 0.514252\tvalid's ndcg@2: 0.496355\tvalid's ndcg@3: 0.490474    \n",
      "[15]\tvalid's ndcg@1: 0.523753\tvalid's ndcg@2: 0.491154\tvalid's ndcg@3: 0.49157     \n",
      "[20]\tvalid's ndcg@1: 0.524941\tvalid's ndcg@2: 0.494688\tvalid's ndcg@3: 0.492867    \n",
      "Early stopping, best iteration is:                                                 \n",
      "[1]\tvalid's ndcg@1: 0.538005\tvalid's ndcg@2: 0.500642\tvalid's ndcg@3: 0.49069\n",
      "Training start:                                                                    \n",
      "[LightGBM] [Warning]                                                               \n",
      "Auto-choosing col-wise multi-threading, the overhead of testing was 0.078276 seconds.\n",
      "You can set `force_col_wise=true` to remove the overhead.\n",
      "[LightGBM] [Info]                                                                  \n",
      "Total Bins 46022                                                                   \n",
      "[LightGBM] [Info]                                                                  \n",
      "Number of data points in the train set: 85884, number of used features: 172        \n",
      "Training until validation scores don't improve for 20 rounds                       \n",
      "[5]\tvalid's ndcg@1: 0.516627\tvalid's ndcg@2: 0.49902\tvalid's ndcg@3: 0.490832      \n",
      "[10]\tvalid's ndcg@1: 0.513064\tvalid's ndcg@2: 0.496256\tvalid's ndcg@3: 0.491353    \n",
      "[15]\tvalid's ndcg@1: 0.517815\tvalid's ndcg@2: 0.48969\tvalid's ndcg@3: 0.490143     \n",
      "[20]\tvalid's ndcg@1: 0.517815\tvalid's ndcg@2: 0.494744\tvalid's ndcg@3: 0.490177    \n",
      "Early stopping, best iteration is:                                                 \n",
      "[1]\tvalid's ndcg@1: 0.538005\tvalid's ndcg@2: 0.512396\tvalid's ndcg@3: 0.505089\n",
      "100%|██████████| 25/25 [00:30<00:00,  1.21s/trial, best loss: -0.49700315032586234]\n",
      "best parameters: {'lambdarank_truncation_level': 28, 'learning_rate': 0.021772987388503244}\n"
     ]
    }
   ],
   "source": [
    "trials = Trials()\n",
    "optimize(trials)"
   ]
  },
  {
   "cell_type": "markdown",
   "id": "2b30c738-f553-4488-8239-235c9808c184",
   "metadata": {},
   "source": [
    "# Simulate\n"
   ]
  },
  {
   "cell_type": "code",
   "execution_count": 20,
   "id": "b4c3498b-a9bf-4891-9ec4-748f1681fe24",
   "metadata": {
    "tags": []
   },
   "outputs": [
    {
     "name": "stdout",
     "output_type": "stream",
     "text": [
      "\n",
      "odds 1.1\n",
      "not_bet_count 0\n",
      "---------------------\n",
      "単勝\n",
      "的中率 : 0 / 718\n",
      "的中% : 0.00 %\n",
      "収支   : -6020.0 円\n",
      "的中レース : {'01': 18, '02': 16, '03': 16, '04': 17, '05': 14, '06': 14, '07': 21, '08': 13, '09': 5, '10': 16, '11': 7, '12': 16}\n",
      "time 17.107146978378296\n",
      "\n",
      "odds 2.0\n",
      "not_bet_count 95\n",
      "---------------------\n",
      "単勝\n",
      "的中率 : 0 / 623\n",
      "的中% : 0.00 %\n",
      "収支   : -4480.0 円\n",
      "的中レース : {'01': 18, '02': 16, '03': 16, '04': 17, '05': 14, '06': 14, '07': 21, '08': 13, '09': 5, '10': 16, '11': 7, '12': 16}\n",
      "time 34.02035689353943\n",
      "\n",
      "odds 3.0\n",
      "not_bet_count 233\n",
      "---------------------\n",
      "単勝\n",
      "的中率 : 0 / 485\n",
      "的中% : 0.00 %\n",
      "収支   : -1770.0 円\n",
      "的中レース : {'01': 18, '02': 16, '03': 16, '04': 17, '05': 14, '06': 14, '07': 21, '08': 13, '09': 5, '10': 16, '11': 7, '12': 16}\n",
      "time 50.90834403038025\n",
      "\n",
      "odds 4.0\n",
      "not_bet_count 362\n",
      "---------------------\n",
      "単勝\n",
      "的中率 : 0 / 356\n",
      "的中% : 0.00 %\n",
      "収支   : -370.0 円\n",
      "的中レース : {'01': 18, '02': 16, '03': 16, '04': 17, '05': 14, '06': 14, '07': 21, '08': 13, '09': 5, '10': 16, '11': 7, '12': 16}\n",
      "time 67.90319395065308\n",
      "\n",
      "odds 5.0\n",
      "not_bet_count 445\n",
      "---------------------\n",
      "単勝\n",
      "的中率 : 0 / 273\n",
      "的中% : 0.00 %\n",
      "収支   : 1870.0 円\n",
      "的中レース : {'01': 18, '02': 16, '03': 16, '04': 17, '05': 14, '06': 14, '07': 21, '08': 13, '09': 5, '10': 16, '11': 7, '12': 16}\n",
      "time 84.66572594642639\n",
      "\n",
      "odds 6.0\n",
      "not_bet_count 507\n",
      "---------------------\n",
      "単勝\n",
      "的中率 : 0 / 211\n",
      "的中% : 0.00 %\n",
      "収支   : 3660.0 円\n",
      "的中レース : {'01': 18, '02': 16, '03': 16, '04': 17, '05': 14, '06': 14, '07': 21, '08': 13, '09': 5, '10': 16, '11': 7, '12': 16}\n",
      "time 101.3780632019043\n",
      "\n",
      "odds 7.0\n",
      "not_bet_count 546\n",
      "---------------------\n",
      "単勝\n",
      "的中率 : 0 / 172\n",
      "的中% : 0.00 %\n",
      "収支   : 1050.0 円\n",
      "的中レース : {'01': 18, '02': 16, '03': 16, '04': 17, '05': 14, '06': 14, '07': 21, '08': 13, '09': 5, '10': 16, '11': 7, '12': 16}\n",
      "time 118.10821413993835\n"
     ]
    }
   ],
   "source": [
    "\n",
    "start_time = time.time()\n",
    "for odds in [1.1,2.0,3.0,4.0,5.0,6.0,7.0]:\n",
    "    print()\n",
    "    sl = RankSimulater(ll.model)\n",
    "    print(\"odds\",odds)\n",
    "    sl.calc_tansho(ll.r.data_c.iloc[-10000:],return_tables,odds=odds)\n",
    "    print(\"time\", time.time() - start_time)\n",
    "\n"
   ]
  },
  {
   "cell_type": "code",
   "execution_count": null,
   "id": "9a5acc8c-484d-4fef-ae88-1c20180881d1",
   "metadata": {},
   "outputs": [],
   "source": [
    "sl = RankSimulater(ll.model)\n",
    "sl.calc_sanrenpuku(ll.r.data_c.iloc[-5000:].fillna(0),return_tables)"
   ]
  },
  {
   "cell_type": "code",
   "execution_count": null,
   "id": "2b0526b6-d15f-4e39-abaf-40aaf6cfd0fa",
   "metadata": {
    "tags": []
   },
   "outputs": [],
   "source": [
    "sl = RankSimulater(ll.model)\n",
    "sl.calc_sanrentan(ll.r.data_c.iloc[-5000:].fillna(0),return_tables)"
   ]
  },
  {
   "cell_type": "markdown",
   "id": "ff135d8f-2a18-4583-8747-68c2938e6b79",
   "metadata": {},
   "source": [
    "# race_id_list"
   ]
  },
  {
   "cell_type": "code",
   "execution_count": 6,
   "id": "ca02207f-1319-48d2-943f-195f395e1d70",
   "metadata": {},
   "outputs": [],
   "source": [
    "\n",
    "\n",
    "race_id_list = ['2022050208{}'.format(str(i).zfill(2)) for i in range(1,13)]\n",
    "# race_id_list += ['2022050206{}'.format(str(i).zfill(2)) for i in range(1,13)]\n",
    "\n",
    "race_id_list += ['2022070304{}'.format(str(i).zfill(2)) for i in range(1,13)]\n",
    "# race_id_list += ['2022070302{}'.format(str(i).zfill(2)) for i in range(1,13)]\n",
    "\n",
    "race_id_list += ['2022040104{}'.format(str(i).zfill(2)) for i in range(1,13)]\n",
    "# race_id_list += ['2022040102{}'.format(str(i).zfill(2)) for i in range(1,13)]\n",
    "\n"
   ]
  },
  {
   "cell_type": "code",
   "execution_count": null,
   "id": "cf10c50e",
   "metadata": {},
   "outputs": [],
   "source": [
    "    \n",
    "class Predictor(LearnLGBM):\n",
    "\n",
    "\n",
    "    def __init__(self,peds,results,horse_results,race_id_list):\n",
    "        super(Predictor, self).__init__(peds,results,horse_results)\n",
    "        self.race_id_list = race_id_list\n",
    "\n",
    "\n",
    "    def process_data(self):\n",
    "        race_id_list = self.race_id_list.copy()\n",
    "        data =  ShutubaTable.scrape(race_id_list, self.date)\n",
    "        self.data = data\n",
    "        peds = self.peds.copy()\n",
    "        results = self.results.copy()\n",
    "        horse_results = self.horse_results.copy()\n",
    "\n",
    "\n",
    "        nopeds_id_list = []\n",
    "        for ind in data['horse_id'].astype(int).unique():\n",
    "            if ind not in peds.index:\n",
    "                nopeds_id_list.append(str(ind))\n",
    "\n",
    "        if len(nopeds_id_list)!=0:\n",
    "            peds_tmp = Peds.scrape(nopeds_id_list)\n",
    "            pe_tmp = Peds(peds_tmp)\n",
    "            pe_tmp.regularize_peds() \n",
    "            new_peds = update_data(peds, pe_tmp.peds_re)\n",
    "        else:\n",
    "            new_peds = peds.copy()\n",
    "        self.peds = new_peds.copy()\n",
    "        path_ft = '/Users/rince/Desktop/Horse/code/horse/peds_ft.txt'\n",
    "        new_peds.to_csv(path_ft,header=False,index=False,sep=',')\n",
    "        self.learn_model_ft(path_ft=path_ft)\n",
    "        model_ft = self.get_model_ft()\n",
    "\n",
    "        pe = Peds(new_peds)\n",
    "        pe.regularize_peds()\n",
    "        pe.vectorize(pe.peds_re,model_ft)\n",
    "        self.pe = pe\n",
    "        print(\"pe finish\")\n",
    "        print(\"pe regularizrd\")\n",
    "\n",
    "        r = Results(results)\n",
    "        r.preprocessing()\n",
    "        horse_id_list = data['horse_id'].astype(str).unique()\n",
    "        horse_results_tmp = HorseResults.scrape(horse_id_list)\n",
    "        new_horse_results = update_data(horse_results,horse_results_tmp)\n",
    "        self.hores_results = new_horse_results.copy()\n",
    "        hr = HorseResults(new_horse_results)\n",
    "        self.hr = hr\n",
    "        print(\"hr finish\")\n",
    "\n",
    "        r.merge_horse_results(hr)\n",
    "        r.merge_peds(pe.peds_vec)\n",
    "        r.process_categorical()  \n",
    "        self.r = r\n",
    "    \n",
    "    \n",
    "    def predict(self, race_id):\n",
    "        data =  ShutubaTable.scrape([str(race_id)], self.date)\n",
    "        st = ShutubaTable(data)\n",
    "        st.preprocessing()\n",
    "        st.merge_horse_results(self.hr)\n",
    "        st.merge_peds(self.pe.peds_vec)\n",
    "        st.process_categorical(self.r.le_horse, self.r.le_jockey, self.r.data_pe)\n",
    "        self.st = st\n",
    "        sl = RankSimulater(self.model)\n",
    "        pred_table = sl.return_pred_table(st.data_c)\n",
    "        self.sl = sl\n",
    "        print(pred_table)\n",
    "            \n",
    "\n",
    "    def show_results_today(self):\n",
    "        data =  ShutubaTable.scrape(self.race_id_list, self.date)\n",
    "        self.data = data.copy()\n",
    "        st = ShutubaTable(self.data)\n",
    "        st.preprocessing()\n",
    "        st.merge_horse_results(self.hr)\n",
    "        st.merge_peds(self.pe.peds_vec)\n",
    "        st.process_categorical(self.r.le_horse, self.r.le_jockey, self.r.data_pe)\n",
    "        sl = RankSimulater(self.model)\n",
    "        sl.return_table_today(self.race_id_list)\n",
    "        sl.show_results_today(st ,self.race_id_list)"
   ]
  },
  {
   "cell_type": "code",
   "execution_count": 15,
   "id": "869c4470",
   "metadata": {},
   "outputs": [
    {
     "data": {
      "application/vnd.jupyter.widget-view+json": {
       "model_id": "9dafd9f6697146feab00d6abb6ac309d",
       "version_major": 2,
       "version_minor": 0
      },
      "text/plain": [
       "HBox(children=(FloatProgress(value=0.0, max=36.0), HTML(value='')))"
      ]
     },
     "metadata": {},
     "output_type": "display_data"
    },
    {
     "name": "stdout",
     "output_type": "stream",
     "text": [
      "\n"
     ]
    },
    {
     "data": {
      "application/vnd.jupyter.widget-view+json": {
       "model_id": "8cfdc79f5b2c4857a48b65480c10be3f",
       "version_major": 2,
       "version_minor": 0
      },
      "text/plain": [
       "HBox(children=(FloatProgress(value=0.0, max=16.0), HTML(value='')))"
      ]
     },
     "metadata": {},
     "output_type": "display_data"
    },
    {
     "name": "stdout",
     "output_type": "stream",
     "text": [
      "\n"
     ]
    },
    {
     "data": {
      "application/vnd.jupyter.widget-view+json": {
       "model_id": "f0588a4ebdee495a9f3ceddf1f2e5dc2",
       "version_major": 2,
       "version_minor": 0
      },
      "text/plain": [
       "HBox(children=(FloatProgress(value=0.0, max=16.0), HTML(value='')))"
      ]
     },
     "metadata": {},
     "output_type": "display_data"
    },
    {
     "name": "stdout",
     "output_type": "stream",
     "text": [
      "\n"
     ]
    },
    {
     "data": {
      "application/vnd.jupyter.widget-view+json": {
       "model_id": "02edcafc9b894fdb9f19ba45af3c897d",
       "version_major": 2,
       "version_minor": 0
      },
      "text/plain": [
       "HBox(children=(FloatProgress(value=0.0, max=17574.0), HTML(value='')))"
      ]
     },
     "metadata": {},
     "output_type": "display_data"
    },
    {
     "name": "stdout",
     "output_type": "stream",
     "text": [
      "\n"
     ]
    },
    {
     "data": {
      "application/vnd.jupyter.widget-view+json": {
       "model_id": "864a7f7cb6b7443f907b6110ef3a7c6e",
       "version_major": 2,
       "version_minor": 0
      },
      "text/plain": [
       "HBox(children=(FloatProgress(value=0.0, max=17574.0), HTML(value='')))"
      ]
     },
     "metadata": {},
     "output_type": "display_data"
    },
    {
     "name": "stdout",
     "output_type": "stream",
     "text": [
      "\n",
      "pe finish\n",
      "pe regularizrd\n"
     ]
    },
    {
     "data": {
      "application/vnd.jupyter.widget-view+json": {
       "model_id": "61f7fc5bcab84aceb5c58976f3002f8e",
       "version_major": 2,
       "version_minor": 0
      },
      "text/plain": [
       "HBox(children=(FloatProgress(value=0.0, max=457.0), HTML(value='')))"
      ]
     },
     "metadata": {},
     "output_type": "display_data"
    },
    {
     "name": "stdout",
     "output_type": "stream",
     "text": [
      "\n",
      "hr finish\n"
     ]
    },
    {
     "data": {
      "application/vnd.jupyter.widget-view+json": {
       "model_id": "b80b369ed6e6413c9129d28222d459d1",
       "version_major": 2,
       "version_minor": 0
      },
      "text/plain": [
       "HBox(children=(FloatProgress(value=0.0, max=247.0), HTML(value='')))"
      ]
     },
     "metadata": {},
     "output_type": "display_data"
    },
    {
     "name": "stdout",
     "output_type": "stream",
     "text": [
      "\n"
     ]
    },
    {
     "data": {
      "application/vnd.jupyter.widget-view+json": {
       "model_id": "72a6cb62cc0f4d61a3562f824cef5b8b",
       "version_major": 2,
       "version_minor": 0
      },
      "text/plain": [
       "HBox(children=(FloatProgress(value=0.0, max=247.0), HTML(value='')))"
      ]
     },
     "metadata": {},
     "output_type": "display_data"
    },
    {
     "name": "stdout",
     "output_type": "stream",
     "text": [
      "\n"
     ]
    },
    {
     "data": {
      "application/vnd.jupyter.widget-view+json": {
       "model_id": "ad86661f8aa54e43b6fdf6419521ce50",
       "version_major": 2,
       "version_minor": 0
      },
      "text/plain": [
       "HBox(children=(FloatProgress(value=0.0, max=247.0), HTML(value='')))"
      ]
     },
     "metadata": {},
     "output_type": "display_data"
    },
    {
     "name": "stdout",
     "output_type": "stream",
     "text": [
      "\n"
     ]
    },
    {
     "name": "stderr",
     "output_type": "stream",
     "text": [
      "/Users/rince/Library/Python/3.7/lib/python/site-packages/lightgbm/engine.py:151: UserWarning: Found `num_iterations` in params. Will use it instead of argument\n",
      "  warnings.warn(\"Found `{}` in params. Will use it instead of argument\".format(alias))\n"
     ]
    },
    {
     "name": "stdout",
     "output_type": "stream",
     "text": [
      "[LightGBM] [Warning] Auto-choosing col-wise multi-threading, the overhead of testing was 0.067707 seconds.\n",
      "You can set `force_col_wise=true` to remove the overhead.\n",
      "[LightGBM] [Info] Total Bins 46026\n",
      "[LightGBM] [Info] Number of data points in the train set: 85884, number of used features: 172\n"
     ]
    }
   ],
   "source": [
    "pt = Predictor(peds,results,horse_results,race_id_list)\n",
    "pt.learn_lgb(lgbm_params=lgbm_params)"
   ]
  },
  {
   "cell_type": "markdown",
   "id": "32941e34",
   "metadata": {},
   "source": [
    "# 新潟"
   ]
  },
  {
   "cell_type": "code",
   "execution_count": null,
   "id": "6aaf56de",
   "metadata": {},
   "outputs": [],
   "source": [
    "base  = '2022040101'\n",
    "pt.predict(base+'05')"
   ]
  },
  {
   "cell_type": "markdown",
   "id": "c3b57a3d",
   "metadata": {},
   "source": [
    "# 東京"
   ]
  },
  {
   "cell_type": "code",
   "execution_count": null,
   "id": "a6722cba",
   "metadata": {},
   "outputs": [],
   "source": [
    "base  = '2022050205'\n",
    "pt.predict(base+'05')"
   ]
  },
  {
   "cell_type": "markdown",
   "id": "278e1ee5",
   "metadata": {},
   "source": [
    "# 中京"
   ]
  },
  {
   "cell_type": "code",
   "execution_count": null,
   "id": "844e1f79",
   "metadata": {},
   "outputs": [],
   "source": [
    "base  = '2022070301'\n",
    "pt.predict(base+'05')"
   ]
  },
  {
   "cell_type": "code",
   "execution_count": 16,
   "id": "4324e2ff",
   "metadata": {},
   "outputs": [
    {
     "data": {
      "application/vnd.jupyter.widget-view+json": {
       "model_id": "aaf081fb6d8c4bd8912336d644217604",
       "version_major": 2,
       "version_minor": 0
      },
      "text/plain": [
       "HBox(children=(FloatProgress(value=0.0, max=36.0), HTML(value='')))"
      ]
     },
     "metadata": {},
     "output_type": "display_data"
    },
    {
     "name": "stdout",
     "output_type": "stream",
     "text": [
      "\n"
     ]
    },
    {
     "data": {
      "application/vnd.jupyter.widget-view+json": {
       "model_id": "21e2de2e13ad4effa3cfe7066eeefb47",
       "version_major": 2,
       "version_minor": 0
      },
      "text/plain": [
       "HBox(children=(FloatProgress(value=0.0, max=1.0), HTML(value='')))"
      ]
     },
     "metadata": {},
     "output_type": "display_data"
    },
    {
     "name": "stdout",
     "output_type": "stream",
     "text": [
      "\n"
     ]
    },
    {
     "data": {
      "application/vnd.jupyter.widget-view+json": {
       "model_id": "a23790f3675241a484265937936551a4",
       "version_major": 2,
       "version_minor": 0
      },
      "text/plain": [
       "HBox(children=(FloatProgress(value=0.0, max=1.0), HTML(value='')))"
      ]
     },
     "metadata": {},
     "output_type": "display_data"
    },
    {
     "name": "stdout",
     "output_type": "stream",
     "text": [
      "\n"
     ]
    },
    {
     "data": {
      "application/vnd.jupyter.widget-view+json": {
       "model_id": "b399417b7c064fe2b0a60767384da417",
       "version_major": 2,
       "version_minor": 0
      },
      "text/plain": [
       "HBox(children=(FloatProgress(value=0.0, max=1.0), HTML(value='')))"
      ]
     },
     "metadata": {},
     "output_type": "display_data"
    },
    {
     "name": "stdout",
     "output_type": "stream",
     "text": [
      "\n"
     ]
    },
    {
     "data": {
      "application/vnd.jupyter.widget-view+json": {
       "model_id": "dbe065643fa44c7e9d33c140f091e2b2",
       "version_major": 2,
       "version_minor": 0
      },
      "text/plain": [
       "HBox(children=(FloatProgress(value=0.0, max=36.0), HTML(value='')))"
      ]
     },
     "metadata": {},
     "output_type": "display_data"
    },
    {
     "name": "stdout",
     "output_type": "stream",
     "text": [
      "\n",
      "-------------------\n",
      "predict\n",
      "              馬番    scores\n",
      "202205020801   1 -0.858855\n",
      "202205020801   2 -0.858855\n",
      "202205020801   3 -0.858855\n",
      "actual\n",
      "                0            1                 2            3\n",
      "202205020801   単勝            6              140円          1人気\n",
      "202205020801   複勝        6 9 5      100円670円130円    1人気9人気2人気\n",
      "202205020801   枠連          5 6            4,050円          9人気\n",
      "202205020801   馬連          6 9            4,530円         12人気\n",
      "202205020801  ワイド  6 9 5 6 5 9  1,150円130円2,440円  13人気1人気22人気\n",
      "202205020801   馬単          6 9            5,770円         15人気\n",
      "202205020801  3連複        5 6 9            3,620円         12人気\n",
      "202205020801  3連単        6 9 5           20,450円         56人気\n",
      "-------------------\n",
      "predict\n",
      "              馬番    scores\n",
      "202205020802   9 -0.857867\n",
      "202205020802  10 -0.857867\n",
      "202205020802   1 -0.858855\n",
      "actual\n",
      "                0              1             2            3\n",
      "202205020802   単勝              1          430円          2人気\n",
      "202205020802   複勝         1 7 11  180円230円190円    3人気6人気4人気\n",
      "202205020802   枠連            1 5        1,430円          5人気\n",
      "202205020802   馬連            1 7        1,600円          5人気\n",
      "202205020802  ワイド  1 7 1 11 7 11  770円620円670円  12人気6人気10人気\n",
      "202205020802   馬単            1 7        2,980円          8人気\n",
      "202205020802  3連複         1 7 11        2,840円          7人気\n",
      "202205020802  3連単         1 7 11       12,710円         21人気\n",
      "-------------------\n",
      "predict\n",
      "              馬番    scores\n",
      "202205020803   2 -0.857867\n",
      "202205020803   4 -0.857867\n",
      "202205020803   1 -0.858855\n",
      "actual\n",
      "                0            1                 2            3\n",
      "202205020803   単勝            3              260円          1人気\n",
      "202205020803   複勝        3 7 1    110円1,020円140円    1人気9人気2人気\n",
      "202205020803   枠連          3 6            3,140円         12人気\n",
      "202205020803   馬連          3 7           12,560円         23人気\n",
      "202205020803  ワイド  3 7 1 3 1 7  2,400円180円3,160円  22人気1人気26人気\n",
      "202205020803   馬単          3 7           16,680円         40人気\n",
      "202205020803  3連複        1 3 7            7,270円         20人気\n",
      "202205020803  3連単        3 7 1           50,090円        146人気\n",
      "-------------------\n",
      "predict\n",
      "              馬番    scores\n",
      "202205020804  18 -0.857867\n",
      "202205020804   7 -0.857867\n",
      "202205020804  14 -0.857867\n",
      "actual\n",
      "                0                1                  2             3\n",
      "202205020804   単勝               10               360円           2人気\n",
      "202205020804   複勝          10 8 13     170円460円2,060円    1人気6人気12人気\n",
      "202205020804   枠連              4 5             2,700円          10人気\n",
      "202205020804   馬連             8 10             2,990円          11人気\n",
      "202205020804  ワイド  8 10 10 13 8 13  980円7,150円17,700円  11人気47人気75人気\n",
      "202205020804   馬単             10 8             4,920円          21人気\n",
      "202205020804  3連複          8 10 13            93,300円         150人気\n",
      "202205020804  3連単          10 8 13           319,340円         655人気\n",
      "-------------------\n",
      "predict\n",
      "              馬番    scores\n",
      "202205020805   3 -0.857867\n",
      "202205020805   4 -0.857867\n",
      "202205020805   1 -0.858855\n",
      "actual\n",
      "                0            1             2          3\n",
      "202205020805   単勝            4          160円        1人気\n",
      "202205020805   複勝          4 5      110円120円     1人気2人気\n",
      "202205020805   馬連          4 5          180円        1人気\n",
      "202205020805  ワイド  4 5 1 4 1 5  110円120円130円  1人気2人気3人気\n",
      "202205020805   馬単          4 5          250円        1人気\n",
      "202205020805  3連複        1 4 5          160円        1人気\n",
      "202205020805  3連単        4 5 1          390円        1人気\n",
      "-------------------\n",
      "predict\n",
      "              馬番    scores\n",
      "202205020806   8  0.341565\n",
      "202205020806   2  0.269522\n",
      "202205020806   3  0.243159\n",
      "actual\n",
      "                0            1               2           3\n",
      "202205020806   単勝            3            150円         1人気\n",
      "202205020806   複勝        3 1 2    110円180円270円   1人気3人気6人気\n",
      "202205020806   枠連          1 3            660円         3人気\n",
      "202205020806   馬連          1 3            560円         3人気\n",
      "202205020806  ワイド  1 3 2 3 1 2  280円520円1,190円  2人気6人気18人気\n",
      "202205020806   馬単          3 1            720円         3人気\n",
      "202205020806  3連複        1 2 3          2,280円        12人気\n",
      "202205020806  3連単        3 1 2          4,880円        15人気\n",
      "-------------------\n",
      "predict\n",
      "              馬番    scores\n",
      "202205020807   5  0.237179\n",
      "202205020807  10 -0.201856\n",
      "202205020807   9 -0.487765\n",
      "actual\n",
      "                0              1             2           3\n",
      "202205020807   単勝              2          700円         3人気\n",
      "202205020807   複勝         2 11 9  170円150円120円   3人気2人気1人気\n",
      "202205020807   枠連            2 8        1,150円         6人気\n",
      "202205020807   馬連           2 11        1,880円         8人気\n",
      "202205020807  ワイド  2 11 2 9 9 11  690円290円280円  11人気2人気1人気\n",
      "202205020807   馬単           2 11        3,980円        18人気\n",
      "202205020807  3連複         2 9 11        1,320円         3人気\n",
      "202205020807  3連単         2 11 9       11,970円        41人気\n",
      "-------------------\n",
      "predict\n",
      "              馬番    scores\n",
      "202205020808   7  1.015036\n",
      "202205020808   4  0.667217\n",
      "202205020808   9 -0.290741\n",
      "actual\n",
      "                0            1                 2            3\n",
      "202205020808   単勝            1              680円          5人気\n",
      "202205020808   複勝        1 6 3      190円180円420円    4人気2人気7人気\n",
      "202205020808   枠連          1 6            1,280円          6人気\n",
      "202205020808   馬連          1 6            1,390円          7人気\n",
      "202205020808  ワイド  1 6 1 3 3 6  570円1,620円1,060円  9人気20人気16人気\n",
      "202205020808   馬単          1 6            2,740円         13人気\n",
      "202205020808  3連複        1 3 6            7,330円         29人気\n",
      "202205020808  3連単        1 6 3           31,050円        124人気\n",
      "-------------------\n",
      "predict\n",
      "              馬番    scores\n",
      "202205020809   7  0.676775\n",
      "202205020809  11 -0.207569\n",
      "202205020809   3 -0.537165\n",
      "actual\n",
      "                0              1             2           3\n",
      "202205020809   単勝             10        1,270円         5人気\n",
      "202205020809   複勝         10 5 7  340円190円180円   5人気4人気3人気\n",
      "202205020809   枠連            5 7        3,620円        15人気\n",
      "202205020809   馬連           5 10        3,550円        14人気\n",
      "202205020809  ワイド  5 10 7 10 5 7  900円990円510円  9人気11人気6人気\n",
      "202205020809   馬単           10 5        8,430円        28人気\n",
      "202205020809  3連複         5 7 10        5,710円        22人気\n",
      "202205020809  3連単         10 5 7       50,350円       158人気\n",
      "-------------------\n",
      "predict\n",
      "              馬番    scores\n",
      "202205020810   1 -0.857867\n",
      "202205020810  12 -0.857867\n",
      "202205020810   2 -0.858855\n",
      "actual\n",
      "                0                1                   2             3\n",
      "202205020810   単勝                3                990円           5人気\n",
      "202205020810   複勝          3 10 12        340円220円580円     7人気4人気9人気\n",
      "202205020810   枠連              3 7              1,220円           4人気\n",
      "202205020810   馬連             3 10              3,660円          18人気\n",
      "202205020810  ワイド  3 10 3 12 10 12  1,200円3,400円2,290円  17人気38人気30人気\n",
      "202205020810   馬単             3 10              6,930円          33人気\n",
      "202205020810  3連複          3 10 12             25,800円          83人気\n",
      "202205020810  3連単          3 10 12            140,230円         459人気\n",
      "-------------------\n",
      "predict\n",
      "              馬番    scores\n",
      "202205020811  12  0.532662\n",
      "202205020811   5 -0.008373\n",
      "202205020811   7 -0.080685\n",
      "actual\n",
      "                0              1                 2            3\n",
      "202205020811   単勝              5              570円          4人気\n",
      "202205020811   複勝         5 11 7      230円190円360円    4人気2人気6人気\n",
      "202205020811   枠連            3 6            1,770円          7人気\n",
      "202205020811   馬連           5 11            2,010円          6人気\n",
      "202205020811  ワイド  5 11 5 7 7 11  730円1,460円1,470円  5人気15人気13人気\n",
      "202205020811   馬単           5 11            4,010円         12人気\n",
      "202205020811  3連複         5 7 11            8,270円         21人気\n",
      "202205020811  3連単         5 11 7           43,780円        117人気\n",
      "-------------------\n",
      "predict\n",
      "              馬番    scores\n",
      "202205020812   7  0.757080\n",
      "202205020812   2  0.385078\n",
      "202205020812  10 -0.265248\n",
      "actual\n",
      "                0              1             2          3\n",
      "202205020812   単勝              5          410円        2人気\n",
      "202205020812   複勝         5 12 7  180円230円260円  2人気3人気5人気\n",
      "202205020812   枠連            3 6          560円        1人気\n",
      "202205020812   馬連           5 12        1,410円        3人気\n",
      "202205020812  ワイド  5 12 5 7 7 12  620円690円960円  4人気5人気9人気\n",
      "202205020812   馬単           5 12        2,700円        6人気\n",
      "202205020812  3連複         5 7 12        3,870円        6人気\n",
      "202205020812  3連単         5 12 7       17,210円       30人気\n",
      "-------------------\n",
      "predict\n",
      "              馬番    scores\n",
      "202207030401  14 -0.857867\n",
      "202207030401   1 -0.858855\n",
      "202207030401   2 -0.858855\n",
      "actual\n",
      "                0            1                  2            3\n",
      "202207030401   単勝            2            17,370円         12人気\n",
      "202207030401   複勝        2 6 1     2,060円130円460円   13人気1人気7人気\n",
      "202207030401   枠連          1 3             1,660円          6人気\n",
      "202207030401   馬連          2 6            17,320円         36人気\n",
      "202207030401  ワイド  2 6 1 2 1 6  4,110円17,440円910円  34人気71人気8人気\n",
      "202207030401   馬単          2 6            50,940円         84人気\n",
      "202207030401  3連複        1 2 6            66,560円        119人気\n",
      "202207030401  3連単        2 6 1           730,640円        917人気\n",
      "-------------------\n",
      "predict\n",
      "              馬番    scores\n",
      "202207030402   7 -0.857867\n",
      "202207030402   1 -0.858855\n",
      "202207030402   2 -0.858855\n",
      "actual\n",
      "                0              1               2            3\n",
      "202207030402   単勝              9            320円          2人気\n",
      "202207030402   複勝         9 1 11    200円210円260円    3人気4人気5人気\n",
      "202207030402   枠連            1 6            790円          3人気\n",
      "202207030402   馬連            1 9          1,960円          8人気\n",
      "202207030402  ワイド  1 9 9 11 1 11  720円960円1,230円  8人気13人気16人気\n",
      "202207030402   馬単            9 1          2,660円          9人気\n",
      "202207030402  3連複         1 9 11          7,450円         26人気\n",
      "202207030402  3連単         9 1 11         20,600円         72人気\n",
      "-------------------\n",
      "predict\n",
      "              馬番    scores\n",
      "202207030403  17 -0.857867\n",
      "202207030403  14 -0.857867\n",
      "202207030403  13 -0.857867\n",
      "actual\n",
      "                0                1                 2            3\n",
      "202207030403   単勝                7              720円          3人気\n",
      "202207030403   複勝          7 16 12      210円170円710円    3人気2人気9人気\n",
      "202207030403   枠連              4 8            1,110円          4人気\n",
      "202207030403   馬連             7 16            1,250円          4人気\n",
      "202207030403  ワイド  7 16 7 12 12 16  570円2,750円2,220円  3人気25人気22人気\n",
      "202207030403   馬単             7 16            3,110円         11人気\n",
      "202207030403  3連複          7 12 16           11,150円         34人気\n",
      "202207030403  3連単          7 16 12           64,190円        191人気\n",
      "-------------------\n",
      "predict\n",
      "              馬番    scores\n",
      "202207030404   4 -0.857867\n",
      "202207030404   6 -0.857867\n",
      "202207030404   1 -0.858855\n",
      "actual\n",
      "                0            1               2           3\n",
      "202207030404   単勝            2            540円         2人気\n",
      "202207030404   複勝        2 1 8    140円300円110円   2人気7人気1人気\n",
      "202207030404   枠連          1 2          7,960円        19人気\n",
      "202207030404   馬連          1 2          6,060円        15人気\n",
      "202207030404  ワイド  1 2 2 8 1 8  1,240円200円550円  15人気1人気6人気\n",
      "202207030404   馬単          2 1         11,240円        26人気\n",
      "202207030404  3連複        1 2 8          1,500円         5人気\n",
      "202207030404  3連単        2 1 8         20,400円        67人気\n",
      "-------------------\n",
      "predict\n",
      "              馬番    scores\n",
      "202207030405   7 -0.857867\n",
      "202207030405  10 -0.857867\n",
      "202207030405  11 -0.857867\n",
      "actual\n",
      "                0            1             2          3\n",
      "202207030405   単勝            7          650円        3人気\n",
      "202207030405   複勝        7 5 4  150円110円170円  3人気1人気4人気\n",
      "202207030405   枠連          5 6          410円        1人気\n",
      "202207030405   馬連          5 7          460円        2人気\n",
      "202207030405  ワイド  5 7 4 7 4 5  230円550円300円  2人気7人気3人気\n",
      "202207030405   馬単          7 5        1,230円        5人気\n",
      "202207030405  3連複        4 5 7        1,060円        3人気\n",
      "202207030405  3連単        7 5 4        5,950円       12人気\n",
      "-------------------\n",
      "predict\n",
      "              馬番    scores\n",
      "202207030406  13 -0.857867\n",
      "202207030406   1 -0.858855\n",
      "202207030406   2 -0.858855\n",
      "actual\n",
      "                0                  1                   2            3\n",
      "202207030406   単勝                 14                630円          2人気\n",
      "202207030406   複勝           14 11 12        290円660円320円    2人気8人気3人気\n",
      "202207030406   枠連                6 7              2,100円          7人気\n",
      "202207030406   馬連              11 14             14,010円         33人気\n",
      "202207030406  ワイド  11 14 12 14 11 12  2,390円1,050円2,420円  21人気8人気24人気\n",
      "202207030406   馬単              14 11             21,000円         48人気\n",
      "202207030406  3連複           11 12 14             25,320円         70人気\n",
      "202207030406  3連単           14 11 12            140,940円        342人気\n",
      "-------------------\n",
      "predict\n",
      "              馬番    scores\n",
      "202207030407   2  0.787984\n",
      "202207030407   6  0.104941\n",
      "202207030407   4 -0.785564\n",
      "actual\n",
      "                0            1             2          3\n",
      "202207030407   単勝            2          140円        1人気\n",
      "202207030407   複勝          2 5      110円200円     1人気4人気\n",
      "202207030407   馬連          2 5          410円        2人気\n",
      "202207030407  ワイド  2 5 2 3 3 5  160円140円280円  2人気1人気4人気\n",
      "202207030407   馬単          2 5          500円        3人気\n",
      "202207030407  3連複        2 3 5          340円        1人気\n",
      "202207030407  3連単        2 5 3        1,220円        3人気\n",
      "-------------------\n",
      "predict\n",
      "              馬番    scores\n",
      "202207030408   5  1.104390\n",
      "202207030408   6  0.092240\n",
      "202207030408   4 -0.801783\n",
      "actual\n",
      "                0            1               2             3\n",
      "202207030408   単勝            6          1,550円           5人気\n",
      "202207030408   複勝        6 1 4    420円300円440円     4人気3人気6人気\n",
      "202207030408   枠連          1 6          3,890円           9人気\n",
      "202207030408   馬連          1 6          3,410円          10人気\n",
      "202207030408  ワイド  1 6 4 6 1 4  820円1,510円920円  10人気16人気11人気\n",
      "202207030408   馬単          6 1          8,980円          25人気\n",
      "202207030408  3連複        1 4 6          8,190円          25人気\n",
      "202207030408  3連単        6 1 4         74,040円         158人気\n",
      "-------------------\n",
      "predict\n",
      "              馬番    scores\n",
      "202207030409   2  0.441408\n",
      "202207030409   4  0.212640\n",
      "202207030409   8  0.164461\n",
      "actual\n",
      "                0            1             2          3\n",
      "202207030409   単勝            3          760円        3人気\n",
      "202207030409   複勝        3 2 1  140円130円110円  3人気2人気1人気\n",
      "202207030409   枠連          2 3        2,530円        7人気\n",
      "202207030409   馬連          2 3        1,780円        7人気\n",
      "202207030409  ワイド  2 3 1 3 1 2  390円260円200円  4人気2人気1人気\n",
      "202207030409   馬単          3 2        3,360円       13人気\n",
      "202207030409  3連複        1 2 3          640円        1人気\n",
      "202207030409  3連単        3 2 1        6,190円       16人気\n",
      "-------------------\n",
      "predict\n",
      "              馬番    scores\n",
      "202207030410   4  0.841758\n",
      "202207030410   9  0.623043\n",
      "202207030410   5  0.597373\n",
      "actual\n",
      "                0            1             2          3\n",
      "202207030410   単勝            2          780円        4人気\n",
      "202207030410   複勝        2 6 4  170円110円130円  5人気1人気2人気\n",
      "202207030410   枠連          2 6        1,020円        4人気\n",
      "202207030410   馬連          2 6        1,020円        4人気\n",
      "202207030410  ワイド  2 6 2 4 4 6  360円460円200円  4人気7人気2人気\n",
      "202207030410   馬単          2 6        2,510円       10人気\n",
      "202207030410  3連複        2 4 6        1,110円        4人気\n",
      "202207030410  3連単        2 6 4        8,560円       31人気\n",
      "-------------------\n",
      "predict\n",
      "              馬番    scores\n",
      "202207030411  16  1.731741\n",
      "202207030411  10  1.336037\n",
      "202207030411   8  0.722088\n",
      "actual\n",
      "                0              1               2           3\n",
      "202207030411   単勝             16            800円         3人気\n",
      "202207030411   複勝         16 5 4    270円210円160円   4人気3人気1人気\n",
      "202207030411   枠連            3 8          1,930円        10人気\n",
      "202207030411   馬連           5 16          3,340円        10人気\n",
      "202207030411  ワイド  5 16 4 16 4 5  1,270円670円720円  13人気2人気3人気\n",
      "202207030411   馬単           16 5          6,420円        20人気\n",
      "202207030411  3連複         4 5 16          5,000円         8人気\n",
      "202207030411  3連単         16 5 4         31,370円        53人気\n",
      "-------------------\n",
      "predict\n",
      "              馬番    scores\n",
      "202207030412   2 -0.164621\n",
      "202207030412   1 -0.633054\n",
      "202207030412   4 -0.686987\n",
      "actual\n",
      "                0            1             2          3\n",
      "202207030412   単勝            1          290円        2人気\n",
      "202207030412   複勝          1 3      130円120円     2人気1人気\n",
      "202207030412   馬連          1 3          250円        1人気\n",
      "202207030412  ワイド  1 3 1 5 3 5  130円210円160円  1人気3人気2人気\n",
      "202207030412   馬単          1 3          530円        2人気\n",
      "202207030412  3連複        1 3 5          340円        1人気\n",
      "202207030412  3連単        1 3 5        1,540円        3人気\n",
      "-------------------\n",
      "predict\n",
      "              馬番    scores\n",
      "202204010401   1 -0.857867\n",
      "202204010401   2 -0.857867\n",
      "202204010401  13 -0.857867\n",
      "actual\n",
      "                0                1               2           3\n",
      "202204010401   単勝               11            550円         2人気\n",
      "202204010401   複勝          11 13 6    200円260円130円   3人気5人気1人気\n",
      "202204010401   枠連              6 7          2,210円        10人気\n",
      "202204010401   馬連            11 13          4,070円        14人気\n",
      "202204010401  ワイド  11 13 6 11 6 13  1,210円440円730円  14人気3人気6人気\n",
      "202204010401   馬単            11 13          7,280円        27人気\n",
      "202204010401  3連複          6 11 13          4,240円        12人気\n",
      "202204010401  3連単          11 13 6         34,180円       104人気\n",
      "-------------------\n",
      "predict\n",
      "              馬番    scores\n",
      "202204010402   4 -0.857867\n",
      "202204010402   7 -0.857867\n",
      "202204010402  10 -0.857867\n",
      "actual\n",
      "                0              1             2           3\n",
      "202204010402   単勝              9          480円         2人気\n",
      "202204010402   複勝         9 3 10  210円160円250円   4人気1人気5人気\n",
      "202204010402   枠連            2 5          590円         1人気\n",
      "202204010402   馬連            3 9        1,790円         6人気\n",
      "202204010402  ワイド  3 9 9 10 3 10  640円550円790円  6人気5人気10人気\n",
      "202204010402   馬単            9 3        3,200円        10人気\n",
      "202204010402  3連複         3 9 10        2,820円         4人気\n",
      "202204010402  3連単         9 3 10       13,680円        15人気\n",
      "-------------------\n",
      "predict\n",
      "              馬番    scores\n",
      "202204010403   2 -0.857867\n",
      "202204010403   3 -0.857867\n",
      "202204010403   4 -0.857867\n",
      "actual\n",
      "                0              1             2          3\n",
      "202204010403   単勝             10          370円        1人気\n",
      "202204010403   複勝         10 9 8  160円250円160円  1人気6人気2人気\n",
      "202204010403   枠連            5 6          620円        1人気\n",
      "202204010403   馬連           9 10        1,920円        7人気\n",
      "202204010403  ワイド  9 10 8 10 8 9  690円390円710円  7人気1人気8人気\n",
      "202204010403   馬単           10 9        3,090円       12人気\n",
      "202204010403  3連複         8 9 10        2,660円        4人気\n",
      "202204010403  3連単         10 9 8       14,290円       29人気\n",
      "-------------------\n",
      "predict\n",
      "              馬番    scores\n",
      "202204010404  10  0.930524\n",
      "202204010404   3 -0.335374\n",
      "202204010404  12 -0.634626\n",
      "actual\n",
      "                0            1                 2            3\n",
      "202204010404   単勝            8              200円          1人気\n",
      "202204010404   複勝        8 9 7      110円150円550円   1人気2人気10人気\n",
      "202204010404   枠連          6 7              410円          1人気\n",
      "202204010404   馬連          8 9              450円          1人気\n",
      "202204010404  ワイド  8 9 7 8 7 9  270円1,250円1,800円  2人気14人気23人気\n",
      "202204010404   馬単          8 9              890円          1人気\n",
      "202204010404  3連複        7 8 9            3,720円         12人気\n",
      "202204010404  3連単        8 9 7           13,930円         35人気\n",
      "-------------------\n",
      "predict\n",
      "              馬番    scores\n",
      "202204010405  12 -0.651937\n",
      "202204010405   1 -0.734496\n",
      "202204010405   6 -0.746235\n",
      "actual\n",
      "                0            1             2          3\n",
      "202204010405   単勝            3        1,700円        6人気\n",
      "202204010405   複勝        3 2 9  290円120円120円  6人気2人気1人気\n",
      "202204010405   枠連          2 3        2,640円       11人気\n",
      "202204010405   馬連          2 3        2,160円        9人気\n",
      "202204010405  ワイド  2 3 3 9 2 9  630円580円210円  9人気8人気1人気\n",
      "202204010405   馬単          3 2        6,300円       23人気\n",
      "202204010405  3連複        2 3 9        1,370円        3人気\n",
      "202204010405  3連単        3 2 9       16,470円       52人気\n",
      "-------------------\n",
      "predict\n",
      "              馬番    scores\n",
      "202204010406   2 -0.857867\n",
      "202204010406   3 -0.857867\n",
      "202204010406   1 -0.858855\n",
      "actual\n",
      "                0              1             2          3\n",
      "202204010406   単勝              8          350円        1人気\n",
      "202204010406   複勝         8 7 10  130円130円130円  2人気3人気1人気\n",
      "202204010406   枠連            5 6          700円        2人気\n",
      "202204010406   馬連            7 8          830円        1人気\n",
      "202204010406  ワイド  7 8 8 10 7 10  340円350円290円  2人気3人気1人気\n",
      "202204010406   馬単            8 7        1,620円        3人気\n",
      "202204010406  3連複         7 8 10        1,370円        4人気\n",
      "202204010406  3連単         8 7 10        7,350円       12人気\n",
      "-------------------\n",
      "predict\n",
      "              馬番    scores\n",
      "202204010407   9 -0.564458\n",
      "202204010407   5 -0.599066\n",
      "202204010407  11 -0.711092\n",
      "actual\n",
      "                0              1                   2             3\n",
      "202204010407   単勝              7              2,650円           7人気\n",
      "202204010407   複勝         7 5 14        690円350円470円     8人気5人気6人気\n",
      "202204010407   枠連            3 4              2,260円          11人気\n",
      "202204010407   馬連            5 7             10,320円          24人気\n",
      "202204010407  ワイド  5 7 7 14 5 14  2,640円5,190円2,740円  25人気38人気26人気\n",
      "202204010407   馬単            7 5             25,460円          55人気\n",
      "202204010407  3連複         5 7 14             62,920円         111人気\n",
      "202204010407  3連単         7 5 14            493,420円         734人気\n",
      "-------------------\n",
      "predict\n",
      "              馬番    scores\n",
      "202204010408   6 -0.607231\n",
      "202204010408   1 -0.698881\n",
      "202204010408   7 -0.777075\n",
      "actual\n",
      "                0            1             2          3\n",
      "202204010408   単勝            6          860円        4人気\n",
      "202204010408   複勝        6 5 1  170円120円110円  5人気2人気1人気\n",
      "202204010408   枠連          5 6        1,270円        6人気\n",
      "202204010408   馬連          5 6        1,320円        6人気\n",
      "202204010408  ワイド  5 6 1 6 1 5  390円330円190円  7人気4人気1人気\n",
      "202204010408   馬単          6 5        3,600円       16人気\n",
      "202204010408  3連複        1 5 6          870円        2人気\n",
      "202204010408  3連単        6 5 1        7,680円       19人気\n",
      "profit 390\n",
      "-------------------\n",
      "predict\n",
      "              馬番    scores\n",
      "202204010409   3 -0.800447\n",
      "202204010409   2 -0.857867\n",
      "202204010409   9 -0.857867\n",
      "actual\n",
      "                0                  1                 2           3\n",
      "202204010409   単勝                 13              390円         1人気\n",
      "202204010409   複勝           13 14 15      150円170円450円   1人気2人気7人気\n",
      "202204010409   枠連                7 7              780円         3人気\n",
      "202204010409   馬連              13 14              800円         1人気\n",
      "202204010409  ワイド  13 14 13 15 14 15  370円1,030円1,060円  1人気7人気10人気\n",
      "202204010409   馬単              13 14            1,550円         1人気\n",
      "202204010409  3連複           13 14 15            3,540円         4人気\n",
      "202204010409  3連単           13 14 15           13,410円        12人気\n",
      "-------------------\n",
      "predict\n",
      "              馬番    scores\n",
      "202204010410   6  1.147188\n",
      "202204010410  14  0.928543\n",
      "202204010410   5  0.627366\n",
      "actual\n",
      "                0            1             2          3\n",
      "202204010410   単勝            3          330円        1人気\n",
      "202204010410   複勝        3 6 5  130円180円310円  1人気3人気5人気\n",
      "202204010410   枠連          2 4          920円        2人気\n",
      "202204010410   馬連          3 6          980円        2人気\n",
      "202204010410  ワイド  3 6 3 5 5 6  440円670円830円  2人気5人気7人気\n",
      "202204010410   馬単          3 6        1,820円        3人気\n",
      "202204010410  3連複        3 5 6        2,920円        4人気\n",
      "202204010410  3連単        3 6 5       10,970円       11人気\n",
      "-------------------\n",
      "predict\n",
      "              馬番    scores\n",
      "202204010411   2  1.317917\n",
      "202204010411   6  0.897850\n",
      "202204010411   7  0.765587\n",
      "actual\n",
      "                0              1                   2             3\n",
      "202204010411   単勝             10              1,660円           6人気\n",
      "202204010411   複勝         10 3 5        290円160円850円    5人気1人気10人気\n",
      "202204010411   枠連            3 8              1,430円           6人気\n",
      "202204010411   馬連           3 10              3,250円          11人気\n",
      "202204010411  ワイド  3 10 5 10 3 5  1,010円6,820円1,840円  11人気43人気24人気\n",
      "202204010411   馬単           10 3              9,180円          34人気\n",
      "202204010411  3連複         3 5 10             27,370円          76人気\n",
      "202204010411  3連単         10 3 5            161,690円         398人気\n",
      "-------------------\n",
      "predict\n",
      "              馬番    scores\n",
      "202204010412  14  1.586441\n",
      "202204010412   9 -0.517045\n",
      "202204010412  13 -0.593486\n",
      "actual\n",
      "                0                1             2           3\n",
      "202204010412   単勝               10          740円         4人気\n",
      "202204010412   複勝          10 16 6  190円190円190円   3人気2人気4人気\n",
      "202204010412   枠連              5 8          630円         1人気\n",
      "202204010412   馬連            10 16        1,830円         5人気\n",
      "202204010412  ワイド  10 16 6 10 6 16  700円900円590円  5人気10人気3人気\n",
      "202204010412   馬単            10 16        3,920円        12人気\n",
      "202204010412  3連複          6 10 16        3,510円         5人気\n",
      "202204010412  3連単          10 16 6       25,260円        58人気\n",
      "---------------------\n",
      "単勝\n",
      "的中率 : 4 / 36\n",
      "的中% : 11.11 %\n",
      "収支   : -1150 円\n",
      "的中レース ['05', '07', '11', '08']\n",
      "---------------------\n",
      "複勝\n",
      "的中率 : 9 / 36\n",
      "的中% : 25.00 %\n",
      "収支   : -2020 円\n",
      "的中レース ['09', '12', '05', '07', '09', '10', '11', '08', '10']\n",
      "---------------------\n",
      "ワイド\n",
      "的中率 : 1 / 36\n",
      "的中% : 2.78 %\n",
      "収支   : -3210 円\n",
      "的中レース ['08']\n"
     ]
    }
   ],
   "source": [
    "pt.show_results_today()"
   ]
  },
  {
   "cell_type": "markdown",
   "id": "fd8b97e7-5e69-4334-a268-c7a57eaa10d8",
   "metadata": {},
   "source": [
    "# 日付に注意"
   ]
  },
  {
   "cell_type": "code",
   "execution_count": null,
   "id": "5e00c431-6a37-4f54-bfd3-7a1cc01780cc",
   "metadata": {},
   "outputs": [],
   "source": [
    "date = '2022/12/31'"
   ]
  },
  {
   "cell_type": "markdown",
   "id": "fd8ec390-bc7f-4821-8417-76382d034041",
   "metadata": {},
   "source": [
    "# Results scraping"
   ]
  },
  {
   "cell_type": "code",
   "execution_count": null,
   "id": "131add0a-4ac5-4133-b242-3fa2109a4762",
   "metadata": {
    "tags": []
   },
   "outputs": [],
   "source": [
    "# race_id_list = results.index.astype('str')\n",
    "\n",
    "results_tmp = Results.scrape(race_id_list)"
   ]
  },
  {
   "cell_type": "markdown",
   "id": "3c0ac189-894a-48ac-adb2-4e731640bc5c",
   "metadata": {},
   "source": [
    "# Horse_results scraping"
   ]
  },
  {
   "cell_type": "code",
   "execution_count": null,
   "id": "1fb495b3-1044-4b5a-afdc-cdf1b60aa6f8",
   "metadata": {},
   "outputs": [],
   "source": [
    "horse_id_list = results_tmp['horse_id'].astype(str).unique()\n",
    "horse_results_tmp = HorseResults.scrape(horse_id_list)\n",
    "# save_path = '/Users/rince/Desktop/Horse/Data/horse_2020.csv'"
   ]
  },
  {
   "cell_type": "markdown",
   "id": "c1569216-aa8f-40a3-8303-5d54a442b00e",
   "metadata": {},
   "source": [
    "# Peds scraping"
   ]
  },
  {
   "cell_type": "code",
   "execution_count": null,
   "id": "56d56e6b-7a60-4721-a111-892aafa204d9",
   "metadata": {},
   "outputs": [],
   "source": [
    "peds_2021 = Peds.scrape(horse_id_list)\n",
    "pe_2021 = Peds(peds_2021)\n",
    "pe_2021.regularize_peds()\n",
    "peds_tmp = pe_2021.peds_re"
   ]
  },
  {
   "cell_type": "markdown",
   "id": "2d1db0da-3505-4825-8408-e7dd58205c96",
   "metadata": {},
   "source": [
    "# Return scraping"
   ]
  },
  {
   "cell_type": "code",
   "execution_count": null,
   "id": "56a4d97d-94cc-477f-b643-5144c7173613",
   "metadata": {},
   "outputs": [],
   "source": [
    "returns_tmp = Return.scrape(race_id_list)"
   ]
  },
  {
   "cell_type": "markdown",
   "id": "6e175b9a-1a2d-4d5d-a5e2-e771c86dd8d2",
   "metadata": {},
   "source": [
    "# update"
   ]
  },
  {
   "cell_type": "code",
   "execution_count": null,
   "id": "428fa2b8-2058-4c1d-af05-ec10e9f3768d",
   "metadata": {},
   "outputs": [],
   "source": [
    "new_results = update_data(load_csv(path_mac+'results.csv'),results_tmp)\n",
    "new_horse_results = update_data(load_csv(path_mac+'horse_results.csv'),horse_results_tmp)\n",
    "new_peds = update_data(load_csv(path_mac+'peds.csv'),peds_tmp)\n",
    "new_return = update_data(load_csv(path_mac+'return.csv'),returns_tmp)"
   ]
  },
  {
   "cell_type": "markdown",
   "id": "d77364dd-545a-43d4-97aa-070ca0595356",
   "metadata": {},
   "source": [
    "# save"
   ]
  },
  {
   "cell_type": "code",
   "execution_count": null,
   "id": "875dc8e7-f696-4b78-933d-4f62f3603430",
   "metadata": {},
   "outputs": [],
   "source": [
    "new_results.to_csv(path_mac+'results.csv')\n",
    "new_horse_results.to_csv(path_mac+'horse_results.csv')\n",
    "new_peds.to_csv(path_mac+'peds.csv')\n",
    "new_return.to_csv(path_mac+'return.csv')"
   ]
  },
  {
   "cell_type": "markdown",
   "id": "4bb0ca11-eae4-4d5e-b833-3184f6e85f85",
   "metadata": {},
   "source": [
    "# 重要度"
   ]
  },
  {
   "cell_type": "code",
   "execution_count": null,
   "id": "c64f0ed3-8651-4105-aa14-83bfa45b20c9",
   "metadata": {
    "tags": []
   },
   "outputs": [],
   "source": [
    "importances = pd.DataFrame(\n",
    "{'features' : x_train.columns, 'importances' : lgb_rank.feature_importance()})\n",
    "print(importances.sort_values('importances', ascending=False)[:30])"
   ]
  },
  {
   "cell_type": "markdown",
   "id": "d5dc1142-ff9b-4568-80b8-18ef0d9010c1",
   "metadata": {},
   "source": [
    "# fastText"
   ]
  },
  {
   "cell_type": "markdown",
   "id": "ea29d7bf-5052-44dc-ac80-dea59ed65444",
   "metadata": {},
   "source": [
    "流れ\n",
    "1. fasttext用の血統データの学習データを作る (血統の情報のみ, index ヘッダはいらない)\n",
    "2. fasttext学習\n",
    "3. 学習モデルを使って, 血統データをベクトル化\n",
    "4. ベクトル化して r.data_cに concat\n",
    "5. 学習\n"
   ]
  },
  {
   "cell_type": "markdown",
   "id": "23d375b9-e292-4d4a-97c2-905e3060419f",
   "metadata": {},
   "source": [
    "教師あり, 教師なしでも生成されるベクトルは等しい"
   ]
  },
  {
   "cell_type": "markdown",
   "id": "4de5229f-9b05-4bc1-820a-0e275a1d6c8f",
   "metadata": {},
   "source": [
    "# model_ft 作成"
   ]
  },
  {
   "cell_type": "code",
   "execution_count": null,
   "id": "554f0c62-72c2-4a2e-b45e-b0b4d37c2e86",
   "metadata": {
    "tags": []
   },
   "outputs": [],
   "source": [
    "# 相対パスしかできない\n",
    "# dim : 出力の次元\n",
    "# minn : n_gramの最小単位\n",
    "# maxn : n_gramの最大単位\n",
    "path_ft = '/Users/rince/Desktop/Horse/code/horse/peds_ft.txt'\n",
    "# 上書き保存OK\n",
    "peds.to_csv(path_ft,header=False,index=False,sep=',')\n",
    "model_ft = ft.train_unsupervised(path_ft,dim=62,minn=2,maxn=14)"
   ]
  },
  {
   "cell_type": "markdown",
   "id": "d9dd9030-310c-414d-8c91-6178159c00e6",
   "metadata": {},
   "source": [
    "model[model.words[1]] と model.get_input_vector(ind=1) は等価"
   ]
  },
  {
   "cell_type": "markdown",
   "id": "7ed0b75c-8969-4b49-b522-1c0df7bbb166",
   "metadata": {},
   "source": [
    "# rank = [int((1/i)*10)] と変換してみてはどうか"
   ]
  },
  {
   "cell_type": "code",
   "execution_count": null,
   "id": "6b23af9b",
   "metadata": {},
   "outputs": [],
   "source": []
  }
 ],
 "metadata": {
  "interpreter": {
   "hash": "aee8b7b246df8f9039afb4144a1f6fd8d2ca17a180786b69acc140d282b71a49"
  },
  "kernelspec": {
   "display_name": "Python 3.7.2 64-bit",
   "language": "python",
   "name": "python3"
  },
  "language_info": {
   "codemirror_mode": {
    "name": "ipython",
    "version": 3
   },
   "file_extension": ".py",
   "mimetype": "text/x-python",
   "name": "python",
   "nbconvert_exporter": "python",
   "pygments_lexer": "ipython3",
   "version": "3.7.2"
  }
 },
 "nbformat": 4,
 "nbformat_minor": 5
}
