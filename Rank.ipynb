{
 "cells": [
  {
   "cell_type": "markdown",
   "id": "485b75ae-02d8-4d3e-b0f4-c8cad9518e8c",
   "metadata": {},
   "source": [
    "# import"
   ]
  },
  {
   "cell_type": "code",
   "execution_count": 1,
   "id": "fa116d3b-51ac-42de-bf7a-fb55eb148689",
   "metadata": {},
   "outputs": [],
   "source": [
    "import pandas as pd\n",
    "from tqdm.notebook import tqdm as tqdm\n",
    "import requests\n",
    "from bs4 import BeautifulSoup\n",
    "import re\n",
    "import time\n",
    "import urllib.request\n",
    "import xgboost as xgb\n",
    "from sklearn.metrics import classification_report, accuracy_score,roc_curve, roc_auc_score\n",
    "from imblearn.under_sampling import RandomUnderSampler\n",
    "from sklearn.metrics import average_precision_score\n",
    "import numpy as np\n",
    "import matplotlib.pyplot as plt\n",
    "from graphviz import *\n",
    "from sklearn.preprocessing import LabelEncoder\n",
    "import optuna.integration.xgboost as xgb_o\n",
    "import optuna.integration.lightgbm as lgb_o\n",
    "import scipy as sp\n",
    "import lightgbm as lgb\n",
    "import optuna\n",
    "import sklearn\n",
    "from scipy.special import comb\n",
    "from itertools import combinations\n",
    "import copy\n",
    "from sklearn.metrics import r2_score\n",
    "from sklearn.metrics import roc_auc_score\n",
    "from scipy.special import comb\n",
    "from itertools import permutations\n",
    "import datetime\n",
    "import lxml\n",
    "import seaborn as sns\n",
    "from hyperopt import hp, tpe, Trials, fmin,STATUS_OK\n",
    "import fasttext as ft\n",
    "from my_library.horse import *"
   ]
  },
  {
   "cell_type": "markdown",
   "id": "1782806f-f29f-40fe-9c06-7dfca7dd2339",
   "metadata": {},
   "source": [
    "# path"
   ]
  },
  {
   "cell_type": "code",
   "execution_count": 3,
   "id": "8a4008e3-1c76-4f8e-b375-0f3533379d5b",
   "metadata": {},
   "outputs": [],
   "source": [
    "path_ubu = '/home/hipro/デスクトップ/Horse/Data/20_21'\n",
    "path_mac2 = '/Users/rince/Desktop/Horse/Data/saishin2/'\n",
    "path_mac = '/Users/rince/Desktop/Horse/Data/saishin/'\n",
    "path_win = '/Users/Owner/Desktop/program/Horse/Data/saishin/'\n",
    "path_win2 = '/Users/Owner/Desktop/program/Horse/Data/saishin2/'"
   ]
  },
  {
   "cell_type": "markdown",
   "id": "a920e716-5257-45d8-9831-2effe586aa2c",
   "metadata": {},
   "source": [
    "# load data"
   ]
  },
  {
   "cell_type": "code",
   "execution_count": 4,
   "id": "2cafb76f-29dc-4841-bb1b-2792c246cd20",
   "metadata": {
    "tags": []
   },
   "outputs": [],
   "source": [
    "results = load_csv(path_mac+'results.csv')\n",
    "horse_results = load_csv(path_mac+'horse_results.csv')\n",
    "peds = load_csv(path_mac+'peds.csv')\n",
    "# 何回やってもロードすると, nanが出る\n",
    "peds.fillna('nan',inplace=True)\n",
    "return_tables = load_csv(path_mac+'return.csv')\n",
    "return_tables.rename(columns={'0':0,'1':1,'2':2,'3':3},inplace=True)"
   ]
  },
  {
   "cell_type": "markdown",
   "id": "6897b3ed-08f1-452f-bc5c-840f04015aed",
   "metadata": {},
   "source": [
    "# race_id 命名規則"
   ]
  },
  {
   "cell_type": "markdown",
   "id": "f840d19f-0d83-4c24-a9d6-245b20e6eac6",
   "metadata": {},
   "source": [
    "race_id 202105040802\\\n",
    "yyyy_pp_xx_xxrr\\\n",
    "y : year\\\n",
    "p : palce\\\n",
    "x : 謎\\\n",
    "r : race番号"
   ]
  },
  {
   "cell_type": "code",
   "execution_count": 37,
   "id": "3ab99716",
   "metadata": {},
   "outputs": [],
   "source": [
    "lgbm_params = {\n",
    "                'lambdarank_truncation_level': 2,\n",
    "                'metric': 'ndcg',\n",
    "                'objective': 'lambdarank',\n",
    "                'ndcg_eval_at': [1,2,3],\n",
    "                'learning_rate': 0.03508204271531795,\n",
    "                'boosting_type': 'gbdt',\n",
    "                'random_state': 777\n",
    "            }"
   ]
  },
  {
   "cell_type": "code",
   "execution_count": 38,
   "id": "c895357f",
   "metadata": {},
   "outputs": [
    {
     "data": {
      "application/vnd.jupyter.widget-view+json": {
       "model_id": "5f5437c3f0854f16b716e386382f4422",
       "version_major": 2,
       "version_minor": 0
      },
      "text/plain": [
       "HBox(children=(FloatProgress(value=0.0, max=17530.0), HTML(value='')))"
      ]
     },
     "metadata": {},
     "output_type": "display_data"
    },
    {
     "name": "stdout",
     "output_type": "stream",
     "text": [
      "\n"
     ]
    },
    {
     "data": {
      "application/vnd.jupyter.widget-view+json": {
       "model_id": "c28b78d0785d44919fb3e4d606f307ac",
       "version_major": 2,
       "version_minor": 0
      },
      "text/plain": [
       "HBox(children=(FloatProgress(value=0.0, max=245.0), HTML(value='')))"
      ]
     },
     "metadata": {},
     "output_type": "display_data"
    },
    {
     "name": "stdout",
     "output_type": "stream",
     "text": [
      "\n"
     ]
    },
    {
     "data": {
      "application/vnd.jupyter.widget-view+json": {
       "model_id": "e3fad4f8139642728888a6fec91362d0",
       "version_major": 2,
       "version_minor": 0
      },
      "text/plain": [
       "HBox(children=(FloatProgress(value=0.0, max=245.0), HTML(value='')))"
      ]
     },
     "metadata": {},
     "output_type": "display_data"
    },
    {
     "name": "stdout",
     "output_type": "stream",
     "text": [
      "\n"
     ]
    },
    {
     "data": {
      "application/vnd.jupyter.widget-view+json": {
       "model_id": "0132629d3b15455b98be9e62acbbc321",
       "version_major": 2,
       "version_minor": 0
      },
      "text/plain": [
       "HBox(children=(FloatProgress(value=0.0, max=245.0), HTML(value='')))"
      ]
     },
     "metadata": {},
     "output_type": "display_data"
    },
    {
     "name": "stdout",
     "output_type": "stream",
     "text": [
      "\n",
      "[LightGBM] [Warning] Auto-choosing col-wise multi-threading, the overhead of testing was 0.086781 seconds.\n",
      "You can set `force_col_wise=true` to remove the overhead.\n",
      "[LightGBM] [Info] Total Bins 45938\n",
      "[LightGBM] [Info] Number of data points in the train set: 85124, number of used features: 172\n"
     ]
    }
   ],
   "source": [
    "ll = LearnLGBM(peds,results,horse_results)\n",
    "ll.learn_lgb(lgbm_params=lgbm_params)"
   ]
  },
  {
   "cell_type": "code",
   "execution_count": 5,
   "id": "f5a261c3",
   "metadata": {},
   "outputs": [
    {
     "data": {
      "application/vnd.jupyter.widget-view+json": {
       "model_id": "b3b9a049572442018c5dd408dee00b6b",
       "version_major": 2,
       "version_minor": 0
      },
      "text/plain": [
       "HBox(children=(FloatProgress(value=0.0, max=17530.0), HTML(value='')))"
      ]
     },
     "metadata": {},
     "output_type": "display_data"
    },
    {
     "name": "stdout",
     "output_type": "stream",
     "text": [
      "\n"
     ]
    },
    {
     "data": {
      "application/vnd.jupyter.widget-view+json": {
       "model_id": "3a6b3a2d7fca42ce9f9424bb37289312",
       "version_major": 2,
       "version_minor": 0
      },
      "text/plain": [
       "HBox(children=(FloatProgress(value=0.0, max=245.0), HTML(value='')))"
      ]
     },
     "metadata": {},
     "output_type": "display_data"
    },
    {
     "name": "stdout",
     "output_type": "stream",
     "text": [
      "\n"
     ]
    },
    {
     "data": {
      "application/vnd.jupyter.widget-view+json": {
       "model_id": "0b2097e1cd854d12baf5dcc74109b6b5",
       "version_major": 2,
       "version_minor": 0
      },
      "text/plain": [
       "HBox(children=(FloatProgress(value=0.0, max=245.0), HTML(value='')))"
      ]
     },
     "metadata": {},
     "output_type": "display_data"
    },
    {
     "name": "stdout",
     "output_type": "stream",
     "text": [
      "\n"
     ]
    },
    {
     "data": {
      "application/vnd.jupyter.widget-view+json": {
       "model_id": "eabbbd5887594737b93ad0291611db42",
       "version_major": 2,
       "version_minor": 0
      },
      "text/plain": [
       "HBox(children=(FloatProgress(value=0.0, max=245.0), HTML(value='')))"
      ]
     },
     "metadata": {},
     "output_type": "display_data"
    },
    {
     "name": "stdout",
     "output_type": "stream",
     "text": [
      "\n"
     ]
    }
   ],
   "source": [
    "ll = LearnLGBM(peds,results,horse_results)\n",
    "ll.get_train_data()\n",
    "train_query = ll.x_train.groupby(ll.x_train.index).size()\n",
    "val_x = ll.x_test.iloc[:-5000]\n",
    "val_y = ll.y_test.iloc[:-5000]\n",
    "test_query = val_x.groupby(val_x.index).size()\n",
    "train = lgb.Dataset(ll.x_train, ll.y_train, group=train_query)\n",
    "valid = lgb.Dataset(val_x, val_y, reference=train, group=test_query)"
   ]
  },
  {
   "cell_type": "code",
   "execution_count": 32,
   "id": "03dc35cc",
   "metadata": {},
   "outputs": [],
   "source": [
    "def score(params):\n",
    "    print(\"Training start:\")\n",
    "\n",
    "    N_boost_round = []\n",
    "    Score = []\n",
    "\n",
    "    lgb_results={}  #履歴格納用\n",
    "    # train = lgb.Dataset(x_train, y_train, group=train_query)\n",
    "    # valid = lgb.Dataset(x_test, y_test, reference=train, group=test_query)\n",
    "\n",
    "    \n",
    "    lgb_clf = lgb.train(\n",
    "       params,\n",
    "       train,\n",
    "       num_boost_round=1000,\n",
    "       valid_sets=valid,\n",
    "       valid_names=['valid'],\n",
    "       early_stopping_rounds=20,\n",
    "       verbose_eval=5,\n",
    "       evals_result=lgb_results\n",
    "    )\n",
    "#     return lgb_results\n",
    "    return {'loss': -1.0 * lgb_results['valid']['ndcg@3'][lgb_clf.best_iteration], 'status': STATUS_OK}\n",
    "\n",
    "def optimize(trials):\n",
    "#探索スペース\n",
    "    space = {\n",
    "        'objective': 'lambdarank',\n",
    "        'metric': 'ndcg',\n",
    "        # 上位三着を考慮する\n",
    "        'ndcg_eval_at': [1,2,3],\n",
    "        'learning_rate': hp.uniform('learning_rate', 0.01, 0.1),\n",
    "#         なぜか, uniformだと strに変換されてしまう\n",
    "#         lambda_rank_truncation_levelは int型\n",
    "#         よって, int以外はstrに勝手に変換されてしまい, エラーとなったのではないか\n",
    "        'lambdarank_truncation_level': hp.choice('lambdarank_truncation_level',[2,3,4,5,6,7,15,20,25,30,35,40,43,50,55,60]),\n",
    "#         best paramsの返り値は, choiceだとindexか？\n",
    "        'n_estimators': hp.choice('n_estimators',[50,60,70,80,90,100,110,120]),\n",
    "        'boosting_type': 'gbdt',\n",
    "        'random_state': 777,\n",
    "    }\n",
    "\n",
    "    max_evals = 50      #探索回数(25くらいで十分)\n",
    "    best = fmin(score, space, algo=tpe.suggest, trials=trials, max_evals=max_evals)\n",
    "\n",
    "    print(\"best parameters:\", best)"
   ]
  },
  {
   "cell_type": "code",
   "execution_count": 33,
   "id": "8ae3611f",
   "metadata": {},
   "outputs": [
    {
     "name": "stdout",
     "output_type": "stream",
     "text": [
      "Training start:                                       \n",
      "  0%|          | 0/50 [00:00<?, ?trial/s, best loss=?]"
     ]
    },
    {
     "name": "stderr",
     "output_type": "stream",
     "text": [
      "/Users/rince/Library/Python/3.7/lib/python/site-packages/lightgbm/engine.py:151: UserWarning: Found `n_estimators` in params. Will use it instead of argument\n",
      "  warnings.warn(\"Found `{}` in params. Will use it instead of argument\".format(alias))\n",
      "\n"
     ]
    },
    {
     "name": "stdout",
     "output_type": "stream",
     "text": [
      "[LightGBM] [Warning]                                  \n",
      "Auto-choosing col-wise multi-threading, the overhead of testing was 0.152153 seconds.\n",
      "You can set `force_col_wise=true` to remove the overhead.\n",
      "[LightGBM] [Info]                                     \n",
      "Total Bins 45938                                      \n",
      "[LightGBM] [Info]                                     \n",
      "Number of data points in the train set: 85124, number of used features: 172\n",
      "Training until validation scores don't improve for 20 rounds\n",
      "[5]\tvalid's ndcg@1: 0.525695\tvalid's ndcg@2: 0.498866\tvalid's ndcg@3: 0.49621\n",
      "[10]\tvalid's ndcg@1: 0.524853\tvalid's ndcg@2: 0.496273\tvalid's ndcg@3: 0.492116\n",
      "[15]\tvalid's ndcg@1: 0.535805\tvalid's ndcg@2: 0.497654\tvalid's ndcg@3: 0.495024\n",
      "[20]\tvalid's ndcg@1: 0.533277\tvalid's ndcg@2: 0.503274\tvalid's ndcg@3: 0.498896\n",
      "[25]\tvalid's ndcg@1: 0.536647\tvalid's ndcg@2: 0.503094\tvalid's ndcg@3: 0.500327\n",
      "[30]\tvalid's ndcg@1: 0.543387\tvalid's ndcg@2: 0.507106\tvalid's ndcg@3: 0.502977\n",
      "[35]\tvalid's ndcg@1: 0.539174\tvalid's ndcg@2: 0.506153\tvalid's ndcg@3: 0.501488\n",
      "[40]\tvalid's ndcg@1: 0.531592\tvalid's ndcg@2: 0.504317\tvalid's ndcg@3: 0.501212\n",
      "[45]\tvalid's ndcg@1: 0.535805\tvalid's ndcg@2: 0.507466\tvalid's ndcg@3: 0.499489\n",
      "Early stopping, best iteration is:                    \n",
      "[27]\tvalid's ndcg@1: 0.551811\tvalid's ndcg@2: 0.505016\tvalid's ndcg@3: 0.501362\n",
      "Training start:                                                                   \n",
      "[LightGBM] [Warning]                                                              \n",
      "Auto-choosing row-wise multi-threading, the overhead of testing was 0.014342 seconds.\n",
      "You can set `force_row_wise=true` to remove the overhead.\n",
      "And if memory is not enough, you can set `force_col_wise=true`.\n",
      "[LightGBM] [Info]                                                                 \n",
      "Total Bins 45938                                                                  \n",
      "[LightGBM] [Info]                                                                 \n",
      "Number of data points in the train set: 85124, number of used features: 172       \n",
      "Training until validation scores don't improve for 20 rounds                      \n",
      "[5]\tvalid's ndcg@1: 0.52738\tvalid's ndcg@2: 0.508081\tvalid's ndcg@3: 0.502905     \n",
      "[10]\tvalid's ndcg@1: 0.525695\tvalid's ndcg@2: 0.505419\tvalid's ndcg@3: 0.498127   \n",
      "[15]\tvalid's ndcg@1: 0.525695\tvalid's ndcg@2: 0.502365\tvalid's ndcg@3: 0.500194   \n",
      "[20]\tvalid's ndcg@1: 0.524853\tvalid's ndcg@2: 0.503032\tvalid's ndcg@3: 0.49906    \n",
      "[25]\tvalid's ndcg@1: 0.532435\tvalid's ndcg@2: 0.505931\tvalid's ndcg@3: 0.501551   \n",
      "Early stopping, best iteration is:                                                \n",
      "[5]\tvalid's ndcg@1: 0.52738\tvalid's ndcg@2: 0.508081\tvalid's ndcg@3: 0.502905\n",
      "Training start:                                                                   \n",
      "[LightGBM] [Warning]                                                             \n",
      "Auto-choosing col-wise multi-threading, the overhead of testing was 0.068939 seconds.\n",
      "You can set `force_col_wise=true` to remove the overhead.\n",
      "[LightGBM] [Info]                                                                \n",
      "Total Bins 45938                                                                 \n",
      "[LightGBM] [Info]                                                                \n",
      "Number of data points in the train set: 85124, number of used features: 172      \n",
      "Training until validation scores don't improve for 20 rounds                     \n",
      "[5]\tvalid's ndcg@1: 0.52738\tvalid's ndcg@2: 0.501889\tvalid's ndcg@3: 0.495232    \n",
      "[10]\tvalid's ndcg@1: 0.53075\tvalid's ndcg@2: 0.504898\tvalid's ndcg@3: 0.495983   \n",
      "[15]\tvalid's ndcg@1: 0.528222\tvalid's ndcg@2: 0.504772\tvalid's ndcg@3: 0.497083  \n",
      "[20]\tvalid's ndcg@1: 0.52401\tvalid's ndcg@2: 0.50586\tvalid's ndcg@3: 0.498068    \n",
      "Early stopping, best iteration is:                                               \n",
      "[2]\tvalid's ndcg@1: 0.540017\tvalid's ndcg@2: 0.501866\tvalid's ndcg@3: 0.491539\n",
      "Training start:                                                                  \n",
      "[LightGBM] [Warning]                                                             \n",
      "Auto-choosing col-wise multi-threading, the overhead of testing was 0.072032 seconds.\n",
      "You can set `force_col_wise=true` to remove the overhead.\n",
      "[LightGBM] [Info]                                                                \n",
      "Total Bins 45938                                                                 \n",
      "[LightGBM] [Info]                                                                \n",
      "Number of data points in the train set: 85124, number of used features: 172      \n",
      "Training until validation scores don't improve for 20 rounds                     \n",
      "[5]\tvalid's ndcg@1: 0.53075\tvalid's ndcg@2: 0.503835\tvalid's ndcg@3: 0.495196    \n",
      "[10]\tvalid's ndcg@1: 0.539174\tvalid's ndcg@2: 0.506188\tvalid's ndcg@3: 0.497398  \n",
      "[15]\tvalid's ndcg@1: 0.538332\tvalid's ndcg@2: 0.502412\tvalid's ndcg@3: 0.497705  \n",
      "[20]\tvalid's ndcg@1: 0.532435\tvalid's ndcg@2: 0.4966\tvalid's ndcg@3: 0.496083    \n",
      "[25]\tvalid's ndcg@1: 0.536647\tvalid's ndcg@2: 0.503009\tvalid's ndcg@3: 0.495519  \n",
      "[30]\tvalid's ndcg@1: 0.537489\tvalid's ndcg@2: 0.504142\tvalid's ndcg@3: 0.497826  \n",
      "[35]\tvalid's ndcg@1: 0.537489\tvalid's ndcg@2: 0.507075\tvalid's ndcg@3: 0.498916  \n",
      "[40]\tvalid's ndcg@1: 0.532435\tvalid's ndcg@2: 0.50907\tvalid's ndcg@3: 0.498878   \n",
      "[45]\tvalid's ndcg@1: 0.532435\tvalid's ndcg@2: 0.50202\tvalid's ndcg@3: 0.497248   \n",
      "Early stopping, best iteration is:                                               \n",
      "[27]\tvalid's ndcg@1: 0.544229\tvalid's ndcg@2: 0.507863\tvalid's ndcg@3: 0.500613\n",
      "Training start:                                                                  \n",
      "[LightGBM] [Warning]                                                             \n",
      "Auto-choosing col-wise multi-threading, the overhead of testing was 0.078105 seconds.\n",
      "You can set `force_col_wise=true` to remove the overhead.\n",
      "[LightGBM] [Info]                                                                \n",
      "Total Bins 45938                                                                 \n",
      "[LightGBM] [Info]                                                                \n",
      "Number of data points in the train set: 85124, number of used features: 172      \n",
      "Training until validation scores don't improve for 20 rounds                     \n",
      "[5]\tvalid's ndcg@1: 0.52064\tvalid's ndcg@2: 0.496915\tvalid's ndcg@3: 0.492125    \n",
      "[10]\tvalid's ndcg@1: 0.52401\tvalid's ndcg@2: 0.50044\tvalid's ndcg@3: 0.499253    \n",
      "[15]\tvalid's ndcg@1: 0.526537\tvalid's ndcg@2: 0.502521\tvalid's ndcg@3: 0.502768  \n",
      "[20]\tvalid's ndcg@1: 0.528222\tvalid's ndcg@2: 0.499438\tvalid's ndcg@3: 0.499021  \n",
      "Early stopping, best iteration is:                                               \n",
      "[2]\tvalid's ndcg@1: 0.539174\tvalid's ndcg@2: 0.515003\tvalid's ndcg@3: 0.500932\n",
      "Training start:                                                                  \n",
      "[LightGBM] [Warning]                                                             \n",
      "Auto-choosing row-wise multi-threading, the overhead of testing was 0.018084 seconds.\n",
      "You can set `force_row_wise=true` to remove the overhead.\n",
      "And if memory is not enough, you can set `force_col_wise=true`.\n",
      "[LightGBM] [Info]                                                                \n",
      "Total Bins 45938                                                                 \n",
      "[LightGBM] [Info]                                                                \n",
      "Number of data points in the train set: 85124, number of used features: 172      \n",
      "Training until validation scores don't improve for 20 rounds                     \n",
      "[5]\tvalid's ndcg@1: 0.505476\tvalid's ndcg@2: 0.493433\tvalid's ndcg@3: 0.490263   \n",
      "[10]\tvalid's ndcg@1: 0.52738\tvalid's ndcg@2: 0.498595\tvalid's ndcg@3: 0.496462   \n",
      "[15]\tvalid's ndcg@1: 0.52064\tvalid's ndcg@2: 0.500861\tvalid's ndcg@3: 0.498792   \n",
      "[20]\tvalid's ndcg@1: 0.529065\tvalid's ndcg@2: 0.501343\tvalid's ndcg@3: 0.499464  \n",
      "Early stopping, best iteration is:                                               \n",
      "[2]\tvalid's ndcg@1: 0.533277\tvalid's ndcg@2: 0.512244\tvalid's ndcg@3: 0.497477\n",
      "Training start:                                                                  \n",
      "[LightGBM] [Warning]                                                             \n",
      "Auto-choosing col-wise multi-threading, the overhead of testing was 0.077738 seconds.\n",
      "You can set `force_col_wise=true` to remove the overhead.\n",
      "[LightGBM] [Info]                                                                \n",
      "Total Bins 45938                                                                 \n",
      "[LightGBM] [Info]                                                                \n",
      "Number of data points in the train set: 85124, number of used features: 172      \n",
      "Training until validation scores don't improve for 20 rounds                     \n",
      "[5]\tvalid's ndcg@1: 0.509688\tvalid's ndcg@2: 0.493494\tvalid's ndcg@3: 0.49037    \n",
      "[10]\tvalid's ndcg@1: 0.518955\tvalid's ndcg@2: 0.501011\tvalid's ndcg@3: 0.493791  \n",
      "[15]\tvalid's ndcg@1: 0.510531\tvalid's ndcg@2: 0.488625\tvalid's ndcg@3: 0.489889  \n",
      "[20]\tvalid's ndcg@1: 0.52064\tvalid's ndcg@2: 0.494944\tvalid's ndcg@3: 0.493418   \n",
      "Early stopping, best iteration is:                                               \n",
      "[2]\tvalid's ndcg@1: 0.535805\tvalid's ndcg@2: 0.506779\tvalid's ndcg@3: 0.491887\n",
      "Training start:                                                                  \n",
      "[LightGBM] [Warning]                                                             \n",
      "Auto-choosing row-wise multi-threading, the overhead of testing was 0.015720 seconds.\n",
      "You can set `force_row_wise=true` to remove the overhead.\n",
      "And if memory is not enough, you can set `force_col_wise=true`.\n",
      "[LightGBM] [Info]                                                                \n",
      "Total Bins 45938                                                                 \n",
      "[LightGBM] [Info]                                                                \n",
      "Number of data points in the train set: 85124, number of used features: 172      \n",
      "Training until validation scores don't improve for 20 rounds                     \n",
      "[5]\tvalid's ndcg@1: 0.529065\tvalid's ndcg@2: 0.506919\tvalid's ndcg@3: 0.498451   \n",
      "[10]\tvalid's ndcg@1: 0.522325\tvalid's ndcg@2: 0.499321\tvalid's ndcg@3: 0.49374   \n",
      "[15]\tvalid's ndcg@1: 0.52064\tvalid's ndcg@2: 0.498614\tvalid's ndcg@3: 0.496896   \n",
      "[20]\tvalid's ndcg@1: 0.526537\tvalid's ndcg@2: 0.504065\tvalid's ndcg@3: 0.499372  \n",
      "[25]\tvalid's ndcg@1: 0.537489\tvalid's ndcg@2: 0.513267\tvalid's ndcg@3: 0.502555  \n",
      "Early stopping, best iteration is:                                               \n",
      "[6]\tvalid's ndcg@1: 0.537489\tvalid's ndcg@2: 0.510008\tvalid's ndcg@3: 0.500701\n",
      "Training start:                                                                  \n",
      "[LightGBM] [Warning]                                                             \n",
      "Auto-choosing row-wise multi-threading, the overhead of testing was 0.013825 seconds.\n",
      "You can set `force_row_wise=true` to remove the overhead.\n",
      "And if memory is not enough, you can set `force_col_wise=true`.\n",
      "[LightGBM] [Info]                                                                \n",
      "Total Bins 45938                                                                 \n",
      "[LightGBM] [Info]                                                                \n",
      "Number of data points in the train set: 85124, number of used features: 172      \n",
      "Training until validation scores don't improve for 20 rounds                     \n",
      "[5]\tvalid's ndcg@1: 0.524853\tvalid's ndcg@2: 0.499121\tvalid's ndcg@3: 0.493841   \n",
      "[10]\tvalid's ndcg@1: 0.513901\tvalid's ndcg@2: 0.493349\tvalid's ndcg@3: 0.494592  \n",
      "[15]\tvalid's ndcg@1: 0.518955\tvalid's ndcg@2: 0.49885\tvalid's ndcg@3: 0.49834    \n",
      "[20]\tvalid's ndcg@1: 0.514743\tvalid's ndcg@2: 0.50083\tvalid's ndcg@3: 0.49586    \n",
      "[25]\tvalid's ndcg@1: 0.525695\tvalid's ndcg@2: 0.503223\tvalid's ndcg@3: 0.503061  \n",
      "[30]\tvalid's ndcg@1: 0.53075\tvalid's ndcg@2: 0.506322\tvalid's ndcg@3: 0.50139    \n",
      "[35]\tvalid's ndcg@1: 0.528222\tvalid's ndcg@2: 0.506934\tvalid's ndcg@3: 0.501039  \n",
      "[40]\tvalid's ndcg@1: 0.529907\tvalid's ndcg@2: 0.509922\tvalid's ndcg@3: 0.499991  \n",
      "[45]\tvalid's ndcg@1: 0.536647\tvalid's ndcg@2: 0.511653\tvalid's ndcg@3: 0.502113  \n",
      "Early stopping, best iteration is:                                               \n",
      "[25]\tvalid's ndcg@1: 0.525695\tvalid's ndcg@2: 0.503223\tvalid's ndcg@3: 0.503061\n",
      "Training start:                                                                  \n",
      "[LightGBM] [Warning]                                                             \n",
      "Auto-choosing row-wise multi-threading, the overhead of testing was 0.038754 seconds.\n",
      "You can set `force_row_wise=true` to remove the overhead.\n",
      "And if memory is not enough, you can set `force_col_wise=true`.\n",
      "[LightGBM] [Info]                                                                \n",
      "Total Bins 45938                                                                 \n",
      "[LightGBM] [Info]                                                                \n",
      "Number of data points in the train set: 85124, number of used features: 172      \n",
      "Training until validation scores don't improve for 20 rounds                     \n",
      "[5]\tvalid's ndcg@1: 0.515586\tvalid's ndcg@2: 0.494382\tvalid's ndcg@3: 0.490793   \n",
      "[10]\tvalid's ndcg@1: 0.524853\tvalid's ndcg@2: 0.494353\tvalid's ndcg@3: 0.494302  \n",
      "[15]\tvalid's ndcg@1: 0.522325\tvalid's ndcg@2: 0.496183\tvalid's ndcg@3: 0.493515  \n",
      "[20]\tvalid's ndcg@1: 0.529907\tvalid's ndcg@2: 0.496269\tvalid's ndcg@3: 0.496301  \n",
      "Early stopping, best iteration is:                                               \n",
      "[2]\tvalid's ndcg@1: 0.525695\tvalid's ndcg@2: 0.507595\tvalid's ndcg@3: 0.500533\n",
      "Training start:                                                                   \n",
      "[LightGBM] [Warning]                                                              \n",
      "Auto-choosing col-wise multi-threading, the overhead of testing was 0.071290 seconds.\n",
      "You can set `force_col_wise=true` to remove the overhead.\n",
      "[LightGBM] [Info]                                                                 \n",
      "Total Bins 45938                                                                  \n",
      "[LightGBM] [Info]                                                                 \n",
      "Number of data points in the train set: 85124, number of used features: 172       \n",
      "Training until validation scores don't improve for 20 rounds                      \n",
      "[5]\tvalid's ndcg@1: 0.512216\tvalid's ndcg@2: 0.495199\tvalid's ndcg@3: 0.492664    \n",
      "[10]\tvalid's ndcg@1: 0.529065\tvalid's ndcg@2: 0.502973\tvalid's ndcg@3: 0.497151   \n",
      "[15]\tvalid's ndcg@1: 0.531592\tvalid's ndcg@2: 0.50562\tvalid's ndcg@3: 0.49807     \n",
      "[20]\tvalid's ndcg@1: 0.529065\tvalid's ndcg@2: 0.506026\tvalid's ndcg@3: 0.497673   \n",
      "[25]\tvalid's ndcg@1: 0.536647\tvalid's ndcg@2: 0.503059\tvalid's ndcg@3: 0.499965   \n",
      "[30]\tvalid's ndcg@1: 0.538332\tvalid's ndcg@2: 0.509307\tvalid's ndcg@3: 0.499949   \n",
      "[35]\tvalid's ndcg@1: 0.540017\tvalid's ndcg@2: 0.512827\tvalid's ndcg@3: 0.502359   \n",
      "[40]\tvalid's ndcg@1: 0.536647\tvalid's ndcg@2: 0.508033\tvalid's ndcg@3: 0.501684   \n",
      "[45]\tvalid's ndcg@1: 0.536647\tvalid's ndcg@2: 0.507622\tvalid's ndcg@3: 0.500523   \n",
      "[50]\tvalid's ndcg@1: 0.531592\tvalid's ndcg@2: 0.502361\tvalid's ndcg@3: 0.499804   \n",
      "[55]\tvalid's ndcg@1: 0.52738\tvalid's ndcg@2: 0.501819\tvalid's ndcg@3: 0.497074    \n",
      "Early stopping, best iteration is:                                                \n",
      "[37]\tvalid's ndcg@1: 0.541702\tvalid's ndcg@2: 0.51374\tvalid's ndcg@3: 0.503558\n",
      "Training start:                                                                   \n",
      "[LightGBM] [Warning]                                                              \n",
      "Auto-choosing row-wise multi-threading, the overhead of testing was 0.015597 seconds.\n",
      "You can set `force_row_wise=true` to remove the overhead.\n",
      "And if memory is not enough, you can set `force_col_wise=true`.\n",
      "[LightGBM] [Info]                                                                 \n",
      "Total Bins 45938                                                                  \n",
      "[LightGBM] [Info]                                                                 \n",
      "Number of data points in the train set: 85124, number of used features: 172       \n",
      "Training until validation scores don't improve for 20 rounds                      \n",
      "[5]\tvalid's ndcg@1: 0.516428\tvalid's ndcg@2: 0.495259\tvalid's ndcg@3: 0.492175    \n",
      "[10]\tvalid's ndcg@1: 0.538332\tvalid's ndcg@2: 0.500131\tvalid's ndcg@3: 0.495801   \n",
      "[15]\tvalid's ndcg@1: 0.532435\tvalid's ndcg@2: 0.49998\tvalid's ndcg@3: 0.497205    \n",
      "[20]\tvalid's ndcg@1: 0.523168\tvalid's ndcg@2: 0.50404\tvalid's ndcg@3: 0.496135    \n",
      "[25]\tvalid's ndcg@1: 0.533277\tvalid's ndcg@2: 0.501439\tvalid's ndcg@3: 0.496303   \n",
      "[30]\tvalid's ndcg@1: 0.528222\tvalid's ndcg@2: 0.500415\tvalid's ndcg@3: 0.493916   \n",
      "Early stopping, best iteration is:                                                \n",
      "[10]\tvalid's ndcg@1: 0.538332\tvalid's ndcg@2: 0.500131\tvalid's ndcg@3: 0.495801\n",
      "Training start:                                                                   \n",
      "[LightGBM] [Warning]                                                              \n",
      "Auto-choosing col-wise multi-threading, the overhead of testing was 0.065571 seconds.\n",
      "You can set `force_col_wise=true` to remove the overhead.\n",
      "[LightGBM] [Info]                                                                 \n",
      "Total Bins 45938                                                                  \n",
      "[LightGBM] [Info]                                                                 \n",
      "Number of data points in the train set: 85124, number of used features: 172       \n",
      "Training until validation scores don't improve for 20 rounds                      \n",
      "[5]\tvalid's ndcg@1: 0.52064\tvalid's ndcg@2: 0.508031\tvalid's ndcg@3: 0.503463     \n",
      "[10]\tvalid's ndcg@1: 0.514743\tvalid's ndcg@2: 0.502991\tvalid's ndcg@3: 0.494109   \n",
      "[15]\tvalid's ndcg@1: 0.526537\tvalid's ndcg@2: 0.50386\tvalid's ndcg@3: 0.499478    \n",
      "[20]\tvalid's ndcg@1: 0.518113\tvalid's ndcg@2: 0.501748\tvalid's ndcg@3: 0.499895   \n",
      "[25]\tvalid's ndcg@1: 0.518955\tvalid's ndcg@2: 0.501407\tvalid's ndcg@3: 0.500064   \n",
      "Early stopping, best iteration is:                                                \n",
      "[5]\tvalid's ndcg@1: 0.52064\tvalid's ndcg@2: 0.508031\tvalid's ndcg@3: 0.503463\n",
      "Training start:                                                                   \n",
      "[LightGBM] [Warning]                                                              \n",
      "Auto-choosing col-wise multi-threading, the overhead of testing was 0.067987 seconds.\n",
      "You can set `force_col_wise=true` to remove the overhead.\n",
      "[LightGBM] [Info]                                                                 \n",
      "Total Bins 45938                                                                  \n",
      "[LightGBM] [Info]                                                                 \n",
      "Number of data points in the train set: 85124, number of used features: 172       \n",
      "Training until validation scores don't improve for 20 rounds                      \n",
      "[5]\tvalid's ndcg@1: 0.515586\tvalid's ndcg@2: 0.49711\tvalid's ndcg@3: 0.49367      \n",
      "[10]\tvalid's ndcg@1: 0.501264\tvalid's ndcg@2: 0.495413\tvalid's ndcg@3: 0.489205   \n",
      "[15]\tvalid's ndcg@1: 0.521483\tvalid's ndcg@2: 0.498394\tvalid's ndcg@3: 0.495139   \n",
      "[20]\tvalid's ndcg@1: 0.522325\tvalid's ndcg@2: 0.499442\tvalid's ndcg@3: 0.494555   \n",
      "[25]\tvalid's ndcg@1: 0.529907\tvalid's ndcg@2: 0.502702\tvalid's ndcg@3: 0.496635   \n",
      "[30]\tvalid's ndcg@1: 0.525695\tvalid's ndcg@2: 0.503258\tvalid's ndcg@3: 0.497944   \n",
      "[35]\tvalid's ndcg@1: 0.531592\tvalid's ndcg@2: 0.50557\tvalid's ndcg@3: 0.500065    \n",
      "[40]\tvalid's ndcg@1: 0.533277\tvalid's ndcg@2: 0.502366\tvalid's ndcg@3: 0.500371   \n",
      "[45]\tvalid's ndcg@1: 0.533277\tvalid's ndcg@2: 0.502126\tvalid's ndcg@3: 0.499802   \n",
      "[50]\tvalid's ndcg@1: 0.535805\tvalid's ndcg@2: 0.502046\tvalid's ndcg@3: 0.500355   \n",
      "Early stopping, best iteration is:                                                \n",
      "[31]\tvalid's ndcg@1: 0.529907\tvalid's ndcg@2: 0.506492\tvalid's ndcg@3: 0.499026\n",
      "Training start:                                                                   \n",
      "[LightGBM] [Warning]                                                              \n",
      "Auto-choosing col-wise multi-threading, the overhead of testing was 0.069255 seconds.\n",
      "You can set `force_col_wise=true` to remove the overhead.\n",
      "[LightGBM] [Info]                                                                 \n",
      "Total Bins 45938                                                                  \n",
      "[LightGBM] [Info]                                                                 \n",
      "Number of data points in the train set: 85124, number of used features: 172       \n",
      "Training until validation scores don't improve for 20 rounds                      \n",
      "[5]\tvalid's ndcg@1: 0.508003\tvalid's ndcg@2: 0.497229\tvalid's ndcg@3: 0.488701    \n",
      "[10]\tvalid's ndcg@1: 0.525695\tvalid's ndcg@2: 0.499071\tvalid's ndcg@3: 0.49397    \n",
      "[15]\tvalid's ndcg@1: 0.53412\tvalid's ndcg@2: 0.50175\tvalid's ndcg@3: 0.497151     \n",
      "[20]\tvalid's ndcg@1: 0.531592\tvalid's ndcg@2: 0.500406\tvalid's ndcg@3: 0.498766   \n",
      "Early stopping, best iteration is:                                                \n",
      "[2]\tvalid's ndcg@1: 0.536647\tvalid's ndcg@2: 0.512801\tvalid's ndcg@3: 0.50107\n",
      "Training start:                                                                   \n",
      "[LightGBM] [Warning]                                                              \n",
      "Auto-choosing col-wise multi-threading, the overhead of testing was 0.072023 seconds.\n",
      "You can set `force_col_wise=true` to remove the overhead.\n",
      "[LightGBM] [Info]                                                                 \n",
      "Total Bins 45938                                                                  \n",
      "[LightGBM] [Info]                                                                 \n",
      "Number of data points in the train set: 85124, number of used features: 172       \n",
      "Training until validation scores don't improve for 20 rounds                      \n",
      "[5]\tvalid's ndcg@1: 0.512216\tvalid's ndcg@2: 0.494547\tvalid's ndcg@3: 0.491012    \n",
      "[10]\tvalid's ndcg@1: 0.531592\tvalid's ndcg@2: 0.503785\tvalid's ndcg@3: 0.49883    \n",
      "[15]\tvalid's ndcg@1: 0.524853\tvalid's ndcg@2: 0.498795\tvalid's ndcg@3: 0.497891   \n",
      "[20]\tvalid's ndcg@1: 0.52738\tvalid's ndcg@2: 0.499658\tvalid's ndcg@3: 0.501275    \n",
      "Early stopping, best iteration is:                                                \n",
      "[2]\tvalid's ndcg@1: 0.53412\tvalid's ndcg@2: 0.500978\tvalid's ndcg@3: 0.491414\n",
      "Training start:                                                                   \n",
      "[LightGBM] [Warning]                                                              \n",
      "Auto-choosing col-wise multi-threading, the overhead of testing was 0.069703 seconds.\n",
      "You can set `force_col_wise=true` to remove the overhead.\n",
      "[LightGBM] [Info]                                                                 \n",
      "Total Bins 45938                                                                  \n",
      "[LightGBM] [Info]                                                                 \n",
      "Number of data points in the train set: 85124, number of used features: 172       \n",
      "Training until validation scores don't improve for 20 rounds                      \n",
      "[5]\tvalid's ndcg@1: 0.528222\tvalid's ndcg@2: 0.502251\tvalid's ndcg@3: 0.497569    \n",
      "[10]\tvalid's ndcg@1: 0.531592\tvalid's ndcg@2: 0.506272\tvalid's ndcg@3: 0.498317   \n",
      "[15]\tvalid's ndcg@1: 0.533277\tvalid's ndcg@2: 0.50547\tvalid's ndcg@3: 0.501529    \n",
      "[20]\tvalid's ndcg@1: 0.532435\tvalid's ndcg@2: 0.500922\tvalid's ndcg@3: 0.499404   \n",
      "Early stopping, best iteration is:                                                \n",
      "[2]\tvalid's ndcg@1: 0.534962\tvalid's ndcg@2: 0.51592\tvalid's ndcg@3: 0.504047\n",
      "Training start:                                                                   \n",
      "[LightGBM] [Warning]                                                              \n",
      "Auto-choosing col-wise multi-threading, the overhead of testing was 0.070446 seconds.\n",
      "You can set `force_col_wise=true` to remove the overhead.\n",
      "[LightGBM] [Info]                                                                 \n",
      "Total Bins 45938                                                                  \n",
      "[LightGBM] [Info]                                                                 \n",
      "Number of data points in the train set: 85124, number of used features: 172       \n",
      "Training until validation scores don't improve for 20 rounds                      \n",
      "[5]\tvalid's ndcg@1: 0.513901\tvalid's ndcg@2: 0.493795\tvalid's ndcg@3: 0.490343    \n",
      "[10]\tvalid's ndcg@1: 0.512216\tvalid's ndcg@2: 0.491047\tvalid's ndcg@3: 0.489135   \n",
      "[15]\tvalid's ndcg@1: 0.513901\tvalid's ndcg@2: 0.490125\tvalid's ndcg@3: 0.492472   \n",
      "[20]\tvalid's ndcg@1: 0.522325\tvalid's ndcg@2: 0.496594\tvalid's ndcg@3: 0.494285   \n",
      "Early stopping, best iteration is:                                                \n",
      "[4]\tvalid's ndcg@1: 0.518955\tvalid's ndcg@2: 0.501868\tvalid's ndcg@3: 0.493879\n",
      "Training start:                                                                   \n",
      "[LightGBM] [Warning]                                                              \n",
      "Auto-choosing col-wise multi-threading, the overhead of testing was 0.068585 seconds.\n",
      "You can set `force_col_wise=true` to remove the overhead.\n",
      "[LightGBM] [Info]                                                                 \n",
      "Total Bins 45938                                                                  \n",
      "[LightGBM] [Info]                                                                 \n",
      "Number of data points in the train set: 85124, number of used features: 172       \n",
      "Training until validation scores don't improve for 20 rounds                      \n",
      "[5]\tvalid's ndcg@1: 0.511373\tvalid's ndcg@2: 0.498678\tvalid's ndcg@3: 0.494226    \n",
      "[10]\tvalid's ndcg@1: 0.52401\tvalid's ndcg@2: 0.503784\tvalid's ndcg@3: 0.500722    \n",
      "[15]\tvalid's ndcg@1: 0.526537\tvalid's ndcg@2: 0.500721\tvalid's ndcg@3: 0.498824   \n",
      "[20]\tvalid's ndcg@1: 0.534962\tvalid's ndcg@2: 0.507396\tvalid's ndcg@3: 0.500254   \n",
      "Early stopping, best iteration is:                                                \n",
      "[2]\tvalid's ndcg@1: 0.534962\tvalid's ndcg@2: 0.5017\tvalid's ndcg@3: 0.491849\n",
      "Training start:                                                                   \n",
      "[LightGBM] [Warning]                                                              \n",
      "Auto-choosing col-wise multi-threading, the overhead of testing was 0.065241 seconds.\n",
      "You can set `force_col_wise=true` to remove the overhead.\n",
      "[LightGBM] [Info]                                                                 \n",
      "Total Bins 45938                                                                  \n",
      "[LightGBM] [Info]                                                                 \n",
      "Number of data points in the train set: 85124, number of used features: 172       \n",
      "Training until validation scores don't improve for 20 rounds                      \n",
      "[5]\tvalid's ndcg@1: 0.525695\tvalid's ndcg@2: 0.495933\tvalid's ndcg@3: 0.489354    \n",
      "[10]\tvalid's ndcg@1: 0.52401\tvalid's ndcg@2: 0.498159\tvalid's ndcg@3: 0.493501    \n",
      "[15]\tvalid's ndcg@1: 0.536647\tvalid's ndcg@2: 0.505581\tvalid's ndcg@3: 0.49502    \n",
      "[20]\tvalid's ndcg@1: 0.53412\tvalid's ndcg@2: 0.506313\tvalid's ndcg@3: 0.498039    \n",
      "[25]\tvalid's ndcg@1: 0.543387\tvalid's ndcg@2: 0.510039\tvalid's ndcg@3: 0.50356    \n",
      "[30]\tvalid's ndcg@1: 0.539174\tvalid's ndcg@2: 0.509206\tvalid's ndcg@3: 0.500496   \n",
      "[35]\tvalid's ndcg@1: 0.529907\tvalid's ndcg@2: 0.506663\tvalid's ndcg@3: 0.501352   \n",
      "[40]\tvalid's ndcg@1: 0.53412\tvalid's ndcg@2: 0.506964\tvalid's ndcg@3: 0.501876    \n",
      "[45]\tvalid's ndcg@1: 0.52738\tvalid's ndcg@2: 0.505439\tvalid's ndcg@3: 0.499852    \n",
      "Early stopping, best iteration is:                                                \n",
      "[25]\tvalid's ndcg@1: 0.543387\tvalid's ndcg@2: 0.510039\tvalid's ndcg@3: 0.50356\n",
      "Training start:                                                                   \n",
      "[LightGBM] [Warning]                                                              \n",
      "Auto-choosing col-wise multi-threading, the overhead of testing was 0.073937 seconds.\n",
      "You can set `force_col_wise=true` to remove the overhead.\n",
      "[LightGBM] [Info]                                                                 \n",
      "Total Bins 45938                                                                  \n",
      "[LightGBM] [Info]                                                                 \n",
      "Number of data points in the train set: 85124, number of used features: 172       \n",
      "Training until validation scores don't improve for 20 rounds                      \n",
      "[5]\tvalid's ndcg@1: 0.531592\tvalid's ndcg@2: 0.503254\tvalid's ndcg@3: 0.497164    \n",
      "[10]\tvalid's ndcg@1: 0.534962\tvalid's ndcg@2: 0.5052\tvalid's ndcg@3: 0.499919     \n",
      "[15]\tvalid's ndcg@1: 0.529065\tvalid's ndcg@2: 0.503008\tvalid's ndcg@3: 0.498469   \n",
      "[20]\tvalid's ndcg@1: 0.53412\tvalid's ndcg@2: 0.505746\tvalid's ndcg@3: 0.49826     \n",
      "[25]\tvalid's ndcg@1: 0.529907\tvalid's ndcg@2: 0.504467\tvalid's ndcg@3: 0.497252   \n",
      "[30]\tvalid's ndcg@1: 0.52738\tvalid's ndcg@2: 0.506708\tvalid's ndcg@3: 0.496821    \n",
      "Early stopping, best iteration is:                                                \n",
      "[11]\tvalid's ndcg@1: 0.541702\tvalid's ndcg@2: 0.508801\tvalid's ndcg@3: 0.499373\n",
      "Training start:                                                                   \n",
      "[LightGBM] [Warning]                                                              \n",
      "Auto-choosing row-wise multi-threading, the overhead of testing was 0.016077 seconds.\n",
      "You can set `force_row_wise=true` to remove the overhead.\n",
      "And if memory is not enough, you can set `force_col_wise=true`.\n",
      "[LightGBM] [Info]                                                                 \n",
      "Total Bins 45938                                                                  \n",
      "[LightGBM] [Info]                                                                 \n",
      "Number of data points in the train set: 85124, number of used features: 172       \n",
      "Training until validation scores don't improve for 20 rounds                      \n",
      "[5]\tvalid's ndcg@1: 0.52401\tvalid's ndcg@2: 0.494694\tvalid's ndcg@3: 0.493139     \n",
      "[10]\tvalid's ndcg@1: 0.539174\tvalid's ndcg@2: 0.506805\tvalid's ndcg@3: 0.500249   \n",
      "[15]\tvalid's ndcg@1: 0.522325\tvalid's ndcg@2: 0.498429\tvalid's ndcg@3: 0.495068   \n",
      "[20]\tvalid's ndcg@1: 0.531592\tvalid's ndcg@2: 0.511316\tvalid's ndcg@3: 0.504935   \n",
      "[25]\tvalid's ndcg@1: 0.533277\tvalid's ndcg@2: 0.509175\tvalid's ndcg@3: 0.503951   \n",
      "[30]\tvalid's ndcg@1: 0.532435\tvalid's ndcg@2: 0.509516\tvalid's ndcg@3: 0.503688   \n",
      "Early stopping, best iteration is:                                                \n",
      "[10]\tvalid's ndcg@1: 0.539174\tvalid's ndcg@2: 0.506805\tvalid's ndcg@3: 0.500249\n",
      "Training start:                                                                   \n",
      "[LightGBM] [Warning]                                                              \n",
      "Auto-choosing row-wise multi-threading, the overhead of testing was 0.042642 seconds.\n",
      "You can set `force_row_wise=true` to remove the overhead.\n",
      "And if memory is not enough, you can set `force_col_wise=true`.\n",
      "[LightGBM] [Info]                                                                 \n",
      "Total Bins 45938                                                                  \n",
      "[LightGBM] [Info]                                                                 \n",
      "Number of data points in the train set: 85124, number of used features: 172       \n",
      "Training until validation scores don't improve for 20 rounds                      \n",
      "[5]\tvalid's ndcg@1: 0.513901\tvalid's ndcg@2: 0.494893\tvalid's ndcg@3: 0.492429    \n",
      "[10]\tvalid's ndcg@1: 0.52738\tvalid's ndcg@2: 0.506006\tvalid's ndcg@3: 0.498894    \n",
      "[15]\tvalid's ndcg@1: 0.53075\tvalid's ndcg@2: 0.509667\tvalid's ndcg@3: 0.502547    \n",
      "[20]\tvalid's ndcg@1: 0.521483\tvalid's ndcg@2: 0.501172\tvalid's ndcg@3: 0.49851    \n",
      "Early stopping, best iteration is:                                                \n",
      "[2]\tvalid's ndcg@1: 0.53412\tvalid's ndcg@2: 0.501424\tvalid's ndcg@3: 0.496124\n",
      "Training start:                                                                   \n",
      "[LightGBM] [Warning]                                                              \n",
      "Auto-choosing row-wise multi-threading, the overhead of testing was 0.014819 seconds.\n",
      "You can set `force_row_wise=true` to remove the overhead.\n",
      "And if memory is not enough, you can set `force_col_wise=true`.\n",
      "[LightGBM] [Info]                                                                 \n",
      "Total Bins 45938                                                                  \n",
      "[LightGBM] [Info]                                                                 \n",
      "Number of data points in the train set: 85124, number of used features: 172       \n",
      "Training until validation scores don't improve for 20 rounds                      \n",
      "[5]\tvalid's ndcg@1: 0.52401\tvalid's ndcg@2: 0.497095\tvalid's ndcg@3: 0.49173      \n",
      "[10]\tvalid's ndcg@1: 0.522325\tvalid's ndcg@2: 0.49505\tvalid's ndcg@3: 0.494967    \n",
      "[15]\tvalid's ndcg@1: 0.516428\tvalid's ndcg@2: 0.496443\tvalid's ndcg@3: 0.49405    \n",
      "[20]\tvalid's ndcg@1: 0.525695\tvalid's ndcg@2: 0.498334\tvalid's ndcg@3: 0.498727   \n",
      "Early stopping, best iteration is:                                                \n",
      "[3]\tvalid's ndcg@1: 0.53075\tvalid's ndcg@2: 0.500661\tvalid's ndcg@3: 0.493726\n",
      "Training start:                                                                   \n",
      "[LightGBM] [Warning]                                                              \n",
      "Auto-choosing col-wise multi-threading, the overhead of testing was 0.071653 seconds.\n",
      "You can set `force_col_wise=true` to remove the overhead.\n",
      "[LightGBM] [Info]                                                                 \n",
      "Total Bins 45938                                                                  \n",
      "[LightGBM] [Info]                                                                 \n",
      "Number of data points in the train set: 85124, number of used features: 172       \n",
      "Training until validation scores don't improve for 20 rounds                      \n",
      "[5]\tvalid's ndcg@1: 0.513058\tvalid's ndcg@2: 0.491238\tvalid's ndcg@3: 0.484553    \n",
      "[10]\tvalid's ndcg@1: 0.511373\tvalid's ndcg@2: 0.489347\tvalid's ndcg@3: 0.487463   \n",
      "[15]\tvalid's ndcg@1: 0.523168\tvalid's ndcg@2: 0.495396\tvalid's ndcg@3: 0.492702   \n",
      "[20]\tvalid's ndcg@1: 0.52738\tvalid's ndcg@2: 0.499041\tvalid's ndcg@3: 0.495595    \n",
      "Early stopping, best iteration is:                                                \n",
      "[1]\tvalid's ndcg@1: 0.522325\tvalid's ndcg@2: 0.503197\tvalid's ndcg@3: 0.494407\n",
      "Training start:                                                                   \n",
      "[LightGBM] [Warning]                                                              \n",
      "Auto-choosing col-wise multi-threading, the overhead of testing was 0.068136 seconds.\n",
      "You can set `force_col_wise=true` to remove the overhead.\n",
      "[LightGBM] [Info]                                                                 \n",
      "Total Bins 45938                                                                  \n",
      "[LightGBM] [Info]                                                                 \n",
      "Number of data points in the train set: 85124, number of used features: 172       \n",
      "Training until validation scores don't improve for 20 rounds                      \n",
      "[5]\tvalid's ndcg@1: 0.528222\tvalid's ndcg@2: 0.506332\tvalid's ndcg@3: 0.498612    \n",
      "[10]\tvalid's ndcg@1: 0.537489\tvalid's ndcg@2: 0.509357\tvalid's ndcg@3: 0.500439   \n",
      "[15]\tvalid's ndcg@1: 0.537489\tvalid's ndcg@2: 0.510094\tvalid's ndcg@3: 0.503742   \n",
      "[20]\tvalid's ndcg@1: 0.531592\tvalid's ndcg@2: 0.508107\tvalid's ndcg@3: 0.50269    \n",
      "[25]\tvalid's ndcg@1: 0.525695\tvalid's ndcg@2: 0.501473\tvalid's ndcg@3: 0.496251   \n",
      "[30]\tvalid's ndcg@1: 0.534962\tvalid's ndcg@2: 0.508579\tvalid's ndcg@3: 0.503437   \n",
      "Early stopping, best iteration is:                                                \n",
      "[11]\tvalid's ndcg@1: 0.546757\tvalid's ndcg@2: 0.513941\tvalid's ndcg@3: 0.506252\n",
      "Training start:                                                                   \n",
      "[LightGBM] [Warning]                                                              \n",
      "Auto-choosing col-wise multi-threading, the overhead of testing was 0.069151 seconds.\n",
      "You can set `force_col_wise=true` to remove the overhead.\n",
      "[LightGBM] [Info]                                                                 \n",
      "Total Bins 45938                                                                  \n",
      "[LightGBM] [Info]                                                                 \n",
      "Number of data points in the train set: 85124, number of used features: 172       \n",
      "Training until validation scores don't improve for 20 rounds                      \n",
      "[5]\tvalid's ndcg@1: 0.523168\tvalid's ndcg@2: 0.500901\tvalid's ndcg@3: 0.495932    \n",
      "[10]\tvalid's ndcg@1: 0.526537\tvalid's ndcg@2: 0.499468\tvalid's ndcg@3: 0.49735    \n",
      "[15]\tvalid's ndcg@1: 0.522325\tvalid's ndcg@2: 0.50222\tvalid's ndcg@3: 0.497001    \n",
      "[20]\tvalid's ndcg@1: 0.524853\tvalid's ndcg@2: 0.50238\tvalid's ndcg@3: 0.50023     \n",
      "Early stopping, best iteration is:                                                \n",
      "[2]\tvalid's ndcg@1: 0.539174\tvalid's ndcg@2: 0.515003\tvalid's ndcg@3: 0.500932\n",
      "Training start:                                                                   \n",
      "[LightGBM] [Warning]                                                              \n",
      "Auto-choosing col-wise multi-threading, the overhead of testing was 0.086773 seconds.\n",
      "You can set `force_col_wise=true` to remove the overhead.\n",
      "[LightGBM] [Info]                                                                 \n",
      "Total Bins 45938                                                                  \n",
      "[LightGBM] [Info]                                                                 \n",
      "Number of data points in the train set: 85124, number of used features: 172       \n",
      "Training until validation scores don't improve for 20 rounds                      \n",
      "[5]\tvalid's ndcg@1: 0.51727\tvalid's ndcg@2: 0.499446\tvalid's ndcg@3: 0.492997     \n",
      "[10]\tvalid's ndcg@1: 0.52401\tvalid's ndcg@2: 0.50219\tvalid's ndcg@3: 0.4973       \n",
      "[15]\tvalid's ndcg@1: 0.519798\tvalid's ndcg@2: 0.501116\tvalid's ndcg@3: 0.497676   \n",
      "[20]\tvalid's ndcg@1: 0.529065\tvalid's ndcg@2: 0.499834\tvalid's ndcg@3: 0.498608   \n",
      "Early stopping, best iteration is:                                                \n",
      "[2]\tvalid's ndcg@1: 0.522325\tvalid's ndcg@2: 0.508086\tvalid's ndcg@3: 0.496277\n",
      "Training start:                                                                   \n",
      "[LightGBM] [Warning]                                                              \n",
      "Auto-choosing col-wise multi-threading, the overhead of testing was 0.074619 seconds.\n",
      "You can set `force_col_wise=true` to remove the overhead.\n",
      "[LightGBM] [Info]                                                                 \n",
      "Total Bins 45938                                                                  \n",
      "[LightGBM] [Info]                                                                 \n",
      "Number of data points in the train set: 85124, number of used features: 172       \n",
      "Training until validation scores don't improve for 20 rounds                      \n",
      "[5]\tvalid's ndcg@1: 0.516428\tvalid's ndcg@2: 0.502224\tvalid's ndcg@3: 0.495675    \n",
      "[10]\tvalid's ndcg@1: 0.53075\tvalid's ndcg@2: 0.501073\tvalid's ndcg@3: 0.496351    \n",
      "[15]\tvalid's ndcg@1: 0.526537\tvalid's ndcg@2: 0.50036\tvalid's ndcg@3: 0.495613    \n",
      "[20]\tvalid's ndcg@1: 0.522325\tvalid's ndcg@2: 0.506747\tvalid's ndcg@3: 0.500684   \n",
      "[25]\tvalid's ndcg@1: 0.538332\tvalid's ndcg@2: 0.511056\tvalid's ndcg@3: 0.506737   \n",
      "Early stopping, best iteration is:                                                \n",
      "[8]\tvalid's ndcg@1: 0.539174\tvalid's ndcg@2: 0.503425\tvalid's ndcg@3: 0.498126\n",
      "Training start:                                                                   \n",
      "[LightGBM] [Warning]                                                              \n",
      "Auto-choosing col-wise multi-threading, the overhead of testing was 0.064873 seconds.\n",
      "You can set `force_col_wise=true` to remove the overhead.\n",
      "[LightGBM] [Info]                                                                 \n",
      "Total Bins 45938                                                                  \n",
      "[LightGBM] [Info]                                                                 \n",
      "Number of data points in the train set: 85124, number of used features: 172       \n",
      "Training until validation scores don't improve for 20 rounds                      \n",
      "[5]\tvalid's ndcg@1: 0.52064\tvalid's ndcg@2: 0.501187\tvalid's ndcg@3: 0.491625     \n",
      "[10]\tvalid's ndcg@1: 0.508003\tvalid's ndcg@2: 0.489116\tvalid's ndcg@3: 0.489272   \n",
      "[15]\tvalid's ndcg@1: 0.521483\tvalid's ndcg@2: 0.497175\tvalid's ndcg@3: 0.495209   \n",
      "[20]\tvalid's ndcg@1: 0.525695\tvalid's ndcg@2: 0.498214\tvalid's ndcg@3: 0.495998   \n",
      "[25]\tvalid's ndcg@1: 0.538332\tvalid's ndcg@2: 0.503596\tvalid's ndcg@3: 0.50327    \n",
      "[30]\tvalid's ndcg@1: 0.531592\tvalid's ndcg@2: 0.501539\tvalid's ndcg@3: 0.499989   \n",
      "[35]\tvalid's ndcg@1: 0.52738\tvalid's ndcg@2: 0.501323\tvalid's ndcg@3: 0.498749    \n",
      "[40]\tvalid's ndcg@1: 0.529907\tvalid's ndcg@2: 0.502547\tvalid's ndcg@3: 0.497506   \n",
      "[45]\tvalid's ndcg@1: 0.52401\tvalid's ndcg@2: 0.50056\tvalid's ndcg@3: 0.49772      \n",
      "Early stopping, best iteration is:                                                \n",
      "[25]\tvalid's ndcg@1: 0.538332\tvalid's ndcg@2: 0.503596\tvalid's ndcg@3: 0.50327\n",
      "Training start:                                                                   \n",
      "[LightGBM] [Warning]                                                              \n",
      "Auto-choosing row-wise multi-threading, the overhead of testing was 0.024098 seconds.\n",
      "You can set `force_row_wise=true` to remove the overhead.\n",
      "And if memory is not enough, you can set `force_col_wise=true`.\n",
      "[LightGBM] [Info]                                                                 \n",
      "Total Bins 45938                                                                  \n",
      "[LightGBM] [Info]                                                                 \n",
      "Number of data points in the train set: 85124, number of used features: 172       \n",
      "Training until validation scores don't improve for 20 rounds                      \n",
      "[5]\tvalid's ndcg@1: 0.506318\tvalid's ndcg@2: 0.496316\tvalid's ndcg@3: 0.490248    \n",
      "[10]\tvalid's ndcg@1: 0.529907\tvalid's ndcg@2: 0.50198\tvalid's ndcg@3: 0.499307    \n",
      "[15]\tvalid's ndcg@1: 0.535805\tvalid's ndcg@2: 0.50527\tvalid's ndcg@3: 0.500981    \n",
      "[20]\tvalid's ndcg@1: 0.528222\tvalid's ndcg@2: 0.501599\tvalid's ndcg@3: 0.498663   \n",
      "[25]\tvalid's ndcg@1: 0.53412\tvalid's ndcg@2: 0.504563\tvalid's ndcg@3: 0.502708    \n",
      "Early stopping, best iteration is:                                                \n",
      "[7]\tvalid's ndcg@1: 0.540017\tvalid's ndcg@2: 0.509277\tvalid's ndcg@3: 0.504178\n",
      "Training start:                                                                   \n",
      "[LightGBM] [Warning]                                                              \n",
      "Auto-choosing col-wise multi-threading, the overhead of testing was 0.074689 seconds.\n",
      "You can set `force_col_wise=true` to remove the overhead.\n",
      "[LightGBM] [Info]                                                                 \n",
      "Total Bins 45938                                                                  \n",
      "[LightGBM] [Info]                                                                 \n",
      "Number of data points in the train set: 85124, number of used features: 172       \n",
      "Training until validation scores don't improve for 20 rounds                      \n",
      "[5]\tvalid's ndcg@1: 0.52064\tvalid's ndcg@2: 0.495922\tvalid's ndcg@3: 0.491015     \n",
      "[10]\tvalid's ndcg@1: 0.531592\tvalid's ndcg@2: 0.502602\tvalid's ndcg@3: 0.499222   \n",
      "[15]\tvalid's ndcg@1: 0.521483\tvalid's ndcg@2: 0.496815\tvalid's ndcg@3: 0.496697   \n",
      "[20]\tvalid's ndcg@1: 0.529907\tvalid's ndcg@2: 0.505806\tvalid's ndcg@3: 0.502925   \n",
      "Early stopping, best iteration is:                                                \n",
      "[2]\tvalid's ndcg@1: 0.535805\tvalid's ndcg@2: 0.501359\tvalid's ndcg@3: 0.491687\n",
      "Training start:                                                                   \n",
      "[LightGBM] [Warning]                                                              \n",
      "Auto-choosing col-wise multi-threading, the overhead of testing was 0.073883 seconds.\n",
      "You can set `force_col_wise=true` to remove the overhead.\n",
      "[LightGBM] [Info]                                                                 \n",
      "Total Bins 45938                                                                  \n",
      "[LightGBM] [Info]                                                                 \n",
      "Number of data points in the train set: 85124, number of used features: 172       \n",
      "Training until validation scores don't improve for 20 rounds                      \n",
      "[5]\tvalid's ndcg@1: 0.499579\tvalid's ndcg@2: 0.488513\tvalid's ndcg@3: 0.48704     \n",
      "[10]\tvalid's ndcg@1: 0.51727\tvalid's ndcg@2: 0.498383\tvalid's ndcg@3: 0.494862    \n",
      "[15]\tvalid's ndcg@1: 0.515586\tvalid's ndcg@2: 0.49735\tvalid's ndcg@3: 0.493901    \n",
      "[20]\tvalid's ndcg@1: 0.523168\tvalid's ndcg@2: 0.498208\tvalid's ndcg@3: 0.498068   \n",
      "Early stopping, best iteration is:                                                \n",
      "[2]\tvalid's ndcg@1: 0.51727\tvalid's ndcg@2: 0.501693\tvalid's ndcg@3: 0.493651\n",
      "Training start:                                                                   \n",
      "[LightGBM] [Warning]                                                              \n",
      "Auto-choosing col-wise multi-threading, the overhead of testing was 0.084088 seconds.\n",
      "You can set `force_col_wise=true` to remove the overhead.\n",
      "[LightGBM] [Info]                                                                 \n",
      "Total Bins 45938                                                                  \n",
      "[LightGBM] [Info]                                                                 \n",
      "Number of data points in the train set: 85124, number of used features: 172       \n",
      "Training until validation scores don't improve for 20 rounds                      \n",
      "[5]\tvalid's ndcg@1: 0.528222\tvalid's ndcg@2: 0.507706\tvalid's ndcg@3: 0.502216    \n",
      "[10]\tvalid's ndcg@1: 0.529907\tvalid's ndcg@2: 0.502547\tvalid's ndcg@3: 0.497839   \n",
      "[15]\tvalid's ndcg@1: 0.538332\tvalid's ndcg@2: 0.499479\tvalid's ndcg@3: 0.50068    \n",
      "[20]\tvalid's ndcg@1: 0.526537\tvalid's ndcg@2: 0.499417\tvalid's ndcg@3: 0.499706   \n",
      "Early stopping, best iteration is:                                                \n",
      "[4]\tvalid's ndcg@1: 0.53412\tvalid's ndcg@2: 0.514049\tvalid's ndcg@3: 0.500384\n",
      "Training start:                                                                   \n",
      "[LightGBM] [Warning]                                                              \n",
      "Auto-choosing col-wise multi-threading, the overhead of testing was 0.073470 seconds.\n",
      "You can set `force_col_wise=true` to remove the overhead.\n",
      "[LightGBM] [Info]                                                                 \n",
      "Total Bins 45938                                                                  \n",
      "[LightGBM] [Info]                                                                 \n",
      "Number of data points in the train set: 85124, number of used features: 172       \n",
      "Training until validation scores don't improve for 20 rounds                      \n",
      "[5]\tvalid's ndcg@1: 0.518113\tvalid's ndcg@2: 0.495229\tvalid's ndcg@3: 0.492267    \n",
      "[10]\tvalid's ndcg@1: 0.53075\tvalid's ndcg@2: 0.501193\tvalid's ndcg@3: 0.496159    \n",
      "[15]\tvalid's ndcg@1: 0.528222\tvalid's ndcg@2: 0.498014\tvalid's ndcg@3: 0.49788    \n",
      "[20]\tvalid's ndcg@1: 0.531592\tvalid's ndcg@2: 0.50358\tvalid's ndcg@3: 0.498604    \n",
      "[25]\tvalid's ndcg@1: 0.53412\tvalid's ndcg@2: 0.50542\tvalid's ndcg@3: 0.499462     \n",
      "[30]\tvalid's ndcg@1: 0.537489\tvalid's ndcg@2: 0.51054\tvalid's ndcg@3: 0.504404    \n",
      "[35]\tvalid's ndcg@1: 0.539174\tvalid's ndcg@2: 0.515895\tvalid's ndcg@3: 0.506028   \n",
      "[40]\tvalid's ndcg@1: 0.536647\tvalid's ndcg@2: 0.516507\tvalid's ndcg@3: 0.504436   \n",
      "[45]\tvalid's ndcg@1: 0.528222\tvalid's ndcg@2: 0.513331\tvalid's ndcg@3: 0.503609   \n",
      "[50]\tvalid's ndcg@1: 0.529065\tvalid's ndcg@2: 0.511652\tvalid's ndcg@3: 0.501886   \n",
      "Early stopping, best iteration is:                                                \n",
      "[34]\tvalid's ndcg@1: 0.543387\tvalid's ndcg@2: 0.51371\tvalid's ndcg@3: 0.505991\n",
      "Training start:                                                                   \n",
      "[LightGBM] [Warning]                                                              \n",
      "Auto-choosing row-wise multi-threading, the overhead of testing was 0.015752 seconds.\n",
      "You can set `force_row_wise=true` to remove the overhead.\n",
      "And if memory is not enough, you can set `force_col_wise=true`.\n",
      "[LightGBM] [Info]                                                                 \n",
      "Total Bins 45938                                                                  \n",
      "[LightGBM] [Info]                                                                 \n",
      "Number of data points in the train set: 85124, number of used features: 172       \n",
      "Training until validation scores don't improve for 20 rounds                      \n",
      "[5]\tvalid's ndcg@1: 0.532435\tvalid's ndcg@2: 0.501283\tvalid's ndcg@3: 0.492097    \n",
      "[10]\tvalid's ndcg@1: 0.53412\tvalid's ndcg@2: 0.501424\tvalid's ndcg@3: 0.499629    \n",
      "[15]\tvalid's ndcg@1: 0.53075\tvalid's ndcg@2: 0.506202\tvalid's ndcg@3: 0.499112    \n",
      "[20]\tvalid's ndcg@1: 0.529065\tvalid's ndcg@2: 0.501824\tvalid's ndcg@3: 0.500828   \n",
      "[25]\tvalid's ndcg@1: 0.531592\tvalid's ndcg@2: 0.509326\tvalid's ndcg@3: 0.505039   \n",
      "Early stopping, best iteration is:                                                \n",
      "[8]\tvalid's ndcg@1: 0.545072\tvalid's ndcg@2: 0.507778\tvalid's ndcg@3: 0.498361\n",
      "Training start:                                                                   \n",
      "[LightGBM] [Warning]                                                              \n",
      "Auto-choosing col-wise multi-threading, the overhead of testing was 0.092251 seconds.\n",
      "You can set `force_col_wise=true` to remove the overhead.\n",
      "[LightGBM] [Info]                                                                 \n",
      "Total Bins 45938                                                                  \n",
      "[LightGBM] [Info]                                                                 \n",
      "Number of data points in the train set: 85124, number of used features: 172       \n",
      "Training until validation scores don't improve for 20 rounds                      \n",
      "[5]\tvalid's ndcg@1: 0.508846\tvalid's ndcg@2: 0.494075\tvalid's ndcg@3: 0.492005    \n",
      "[10]\tvalid's ndcg@1: 0.529065\tvalid's ndcg@2: 0.499508\tvalid's ndcg@3: 0.495763   \n",
      "[15]\tvalid's ndcg@1: 0.53412\tvalid's ndcg@2: 0.500892\tvalid's ndcg@3: 0.49728     \n",
      "[20]\tvalid's ndcg@1: 0.53075\tvalid's ndcg@2: 0.506202\tvalid's ndcg@3: 0.49746     \n",
      "[25]\tvalid's ndcg@1: 0.52401\tvalid's ndcg@2: 0.502601\tvalid's ndcg@3: 0.501799    \n",
      "Early stopping, best iteration is:                                                \n",
      "[8]\tvalid's ndcg@1: 0.535805\tvalid's ndcg@2: 0.502577\tvalid's ndcg@3: 0.497695\n",
      "Training start:                                                                   \n",
      "[LightGBM] [Warning]                                                              \n",
      "Auto-choosing col-wise multi-threading, the overhead of testing was 0.081042 seconds.\n",
      "You can set `force_col_wise=true` to remove the overhead.\n",
      "[LightGBM] [Info]                                                                 \n",
      "Total Bins 45938                                                                  \n",
      "[LightGBM] [Info]                                                                 \n",
      "Number of data points in the train set: 85124, number of used features: 172       \n",
      "Training until validation scores don't improve for 20 rounds                      \n",
      "[5]\tvalid's ndcg@1: 0.529907\tvalid's ndcg@2: 0.50373\tvalid's ndcg@3: 0.497334     \n",
      "[10]\tvalid's ndcg@1: 0.518113\tvalid's ndcg@2: 0.496172\tvalid's ndcg@3: 0.495765   \n",
      "[15]\tvalid's ndcg@1: 0.524853\tvalid's ndcg@2: 0.500922\tvalid's ndcg@3: 0.500207   \n",
      "[20]\tvalid's ndcg@1: 0.529065\tvalid's ndcg@2: 0.500245\tvalid's ndcg@3: 0.499324   \n",
      "Early stopping, best iteration is:                                                \n",
      "[2]\tvalid's ndcg@1: 0.534962\tvalid's ndcg@2: 0.501168\tvalid's ndcg@3: 0.49156\n",
      "Training start:                                                                   \n",
      "[LightGBM] [Warning]                                                              \n",
      "Auto-choosing row-wise multi-threading, the overhead of testing was 0.016433 seconds.\n",
      "You can set `force_row_wise=true` to remove the overhead.\n",
      "And if memory is not enough, you can set `force_col_wise=true`.\n",
      "[LightGBM] [Info]                                                                 \n",
      "Total Bins 45938                                                                  \n",
      "[LightGBM] [Info]                                                                 \n",
      "Number of data points in the train set: 85124, number of used features: 172       \n",
      "Training until validation scores don't improve for 20 rounds                      \n",
      "[5]\tvalid's ndcg@1: 0.509688\tvalid's ndcg@2: 0.494712\tvalid's ndcg@3: 0.49042     \n",
      "[10]\tvalid's ndcg@1: 0.534962\tvalid's ndcg@2: 0.499865\tvalid's ndcg@3: 0.495424   \n",
      "[15]\tvalid's ndcg@1: 0.52064\tvalid's ndcg@2: 0.493896\tvalid's ndcg@3: 0.493621    \n",
      "[20]\tvalid's ndcg@1: 0.523168\tvalid's ndcg@2: 0.50217\tvalid's ndcg@3: 0.500808    \n",
      "[25]\tvalid's ndcg@1: 0.53412\tvalid's ndcg@2: 0.504322\tvalid's ndcg@3: 0.500231    \n",
      "[30]\tvalid's ndcg@1: 0.531592\tvalid's ndcg@2: 0.5055\tvalid's ndcg@3: 0.500728     \n",
      "[35]\tvalid's ndcg@1: 0.532435\tvalid's ndcg@2: 0.508624\tvalid's ndcg@3: 0.500631   \n",
      "[40]\tvalid's ndcg@1: 0.534962\tvalid's ndcg@2: 0.511031\tvalid's ndcg@3: 0.501816   \n",
      "Early stopping, best iteration is:                                                \n",
      "[24]\tvalid's ndcg@1: 0.537489\tvalid's ndcg@2: 0.506388\tvalid's ndcg@3: 0.501905\n",
      "Training start:                                                                   \n",
      "[LightGBM] [Warning]                                                              \n",
      "Auto-choosing col-wise multi-threading, the overhead of testing was 0.201366 seconds.\n",
      "You can set `force_col_wise=true` to remove the overhead.\n",
      "[LightGBM] [Info]                                                                 \n",
      "Total Bins 45938                                                                  \n",
      "[LightGBM] [Info]                                                                 \n",
      "Number of data points in the train set: 85124, number of used features: 172       \n",
      "Training until validation scores don't improve for 20 rounds                      \n",
      "[5]\tvalid's ndcg@1: 0.513058\tvalid's ndcg@2: 0.49568\tvalid's ndcg@3: 0.487002     \n",
      "[10]\tvalid's ndcg@1: 0.521483\tvalid's ndcg@2: 0.501051\tvalid's ndcg@3: 0.495794   \n",
      "[15]\tvalid's ndcg@1: 0.518955\tvalid's ndcg@2: 0.503327\tvalid's ndcg@3: 0.497865   \n",
      "[20]\tvalid's ndcg@1: 0.528222\tvalid's ndcg@2: 0.508648\tvalid's ndcg@3: 0.500853   \n",
      "[25]\tvalid's ndcg@1: 0.537489\tvalid's ndcg@2: 0.509888\tvalid's ndcg@3: 0.504844   \n",
      "[30]\tvalid's ndcg@1: 0.536647\tvalid's ndcg@2: 0.510229\tvalid's ndcg@3: 0.50333    \n",
      "[35]\tvalid's ndcg@1: 0.540859\tvalid's ndcg@2: 0.515951\tvalid's ndcg@3: 0.503388   \n",
      "[40]\tvalid's ndcg@1: 0.541702\tvalid's ndcg@2: 0.514306\tvalid's ndcg@3: 0.50094    \n",
      "[45]\tvalid's ndcg@1: 0.538332\tvalid's ndcg@2: 0.507677\tvalid's ndcg@3: 0.497107   \n",
      "Early stopping, best iteration is:                                                \n",
      "[27]\tvalid's ndcg@1: 0.540859\tvalid's ndcg@2: 0.515334\tvalid's ndcg@3: 0.506911\n",
      "Training start:                                                                   \n",
      "[LightGBM] [Warning]                                                              \n",
      "Auto-choosing col-wise multi-threading, the overhead of testing was 0.079113 seconds.\n",
      "You can set `force_col_wise=true` to remove the overhead.\n",
      "[LightGBM] [Info]                                                                 \n",
      "Total Bins 45938                                                                  \n",
      "[LightGBM] [Info]                                                                 \n",
      "Number of data points in the train set: 85124, number of used features: 172       \n",
      "Training until validation scores don't improve for 20 rounds                      \n",
      "[5]\tvalid's ndcg@1: 0.518113\tvalid's ndcg@2: 0.502811\tvalid's ndcg@3: 0.492828    \n",
      "[10]\tvalid's ndcg@1: 0.529907\tvalid's ndcg@2: 0.504467\tvalid's ndcg@3: 0.495452   \n",
      "[15]\tvalid's ndcg@1: 0.529065\tvalid's ndcg@2: 0.501017\tvalid's ndcg@3: 0.497875   \n",
      "[20]\tvalid's ndcg@1: 0.531592\tvalid's ndcg@2: 0.509326\tvalid's ndcg@3: 0.503514   \n",
      "[25]\tvalid's ndcg@1: 0.539174\tvalid's ndcg@2: 0.511488\tvalid's ndcg@3: 0.506792   \n",
      "[30]\tvalid's ndcg@1: 0.535805\tvalid's ndcg@2: 0.510485\tvalid's ndcg@3: 0.506041   \n",
      "[35]\tvalid's ndcg@1: 0.539174\tvalid's ndcg@2: 0.512671\tvalid's ndcg@3: 0.504      \n",
      "[40]\tvalid's ndcg@1: 0.53412\tvalid's ndcg@2: 0.508148\tvalid's ndcg@3: 0.500958    \n",
      "Early stopping, best iteration is:                                                \n",
      "[24]\tvalid's ndcg@1: 0.540859\tvalid's ndcg@2: 0.513824\tvalid's ndcg@3: 0.506922\n",
      "Training start:                                                                   \n",
      "[LightGBM] [Warning]                                                              \n",
      "Auto-choosing col-wise multi-threading, the overhead of testing was 0.084641 seconds.\n",
      "You can set `force_col_wise=true` to remove the overhead.\n",
      "[LightGBM] [Info]                                                                 \n",
      "Total Bins 45938                                                                  \n",
      "[LightGBM] [Info]                                                                 \n",
      "Number of data points in the train set: 85124, number of used features: 172       \n",
      "Training until validation scores don't improve for 20 rounds                      \n",
      "[5]\tvalid's ndcg@1: 0.53075\tvalid's ndcg@2: 0.499889\tvalid's ndcg@3: 0.494911     \n",
      "[10]\tvalid's ndcg@1: 0.532435\tvalid's ndcg@2: 0.507922\tvalid's ndcg@3: 0.49542    \n",
      "[15]\tvalid's ndcg@1: 0.533277\tvalid's ndcg@2: 0.50559\tvalid's ndcg@3: 0.497508    \n",
      "[20]\tvalid's ndcg@1: 0.52401\tvalid's ndcg@2: 0.504677\tvalid's ndcg@3: 0.495139    \n",
      "[25]\tvalid's ndcg@1: 0.52738\tvalid's ndcg@2: 0.505439\tvalid's ndcg@3: 0.498904    \n",
      "[30]\tvalid's ndcg@1: 0.526537\tvalid's ndcg@2: 0.504717\tvalid's ndcg@3: 0.498444   \n",
      "Early stopping, best iteration is:                                                \n",
      "[12]\tvalid's ndcg@1: 0.539174\tvalid's ndcg@2: 0.508675\tvalid's ndcg@3: 0.499829\n",
      "Training start:                                                                   \n",
      "[LightGBM] [Warning]                                                              \n",
      "Auto-choosing row-wise multi-threading, the overhead of testing was 0.014723 seconds.\n",
      "You can set `force_row_wise=true` to remove the overhead.\n",
      "And if memory is not enough, you can set `force_col_wise=true`.\n",
      "[LightGBM] [Info]                                                                 \n",
      "Total Bins 45938                                                                  \n",
      "[LightGBM] [Info]                                                                 \n",
      "Number of data points in the train set: 85124, number of used features: 172       \n",
      "Training until validation scores don't improve for 20 rounds                      \n",
      "[5]\tvalid's ndcg@1: 0.53075\tvalid's ndcg@2: 0.502411\tvalid's ndcg@3: 0.496487     \n",
      "[10]\tvalid's ndcg@1: 0.53075\tvalid's ndcg@2: 0.498089\tvalid's ndcg@3: 0.491862    \n",
      "[15]\tvalid's ndcg@1: 0.529065\tvalid's ndcg@2: 0.501087\tvalid's ndcg@3: 0.500744   \n",
      "[20]\tvalid's ndcg@1: 0.540859\tvalid's ndcg@2: 0.510154\tvalid's ndcg@3: 0.504722   \n",
      "[25]\tvalid's ndcg@1: 0.53412\tvalid's ndcg@2: 0.51067\tvalid's ndcg@3: 0.504062     \n",
      "[30]\tvalid's ndcg@1: 0.53075\tvalid's ndcg@2: 0.509787\tvalid's ndcg@3: 0.502171    \n",
      "[35]\tvalid's ndcg@1: 0.534962\tvalid's ndcg@2: 0.509968\tvalid's ndcg@3: 0.500352   \n",
      "[40]\tvalid's ndcg@1: 0.524853\tvalid's ndcg@2: 0.506823\tvalid's ndcg@3: 0.498684   \n",
      "Early stopping, best iteration is:                                                \n",
      "[20]\tvalid's ndcg@1: 0.540859\tvalid's ndcg@2: 0.510154\tvalid's ndcg@3: 0.504722\n",
      "Training start:                                                                   \n",
      "[LightGBM] [Warning]                                                              \n",
      "Auto-choosing col-wise multi-threading, the overhead of testing was 0.081324 seconds.\n",
      "You can set `force_col_wise=true` to remove the overhead.\n",
      "[LightGBM] [Info]                                                                 \n",
      "Total Bins 45938                                                                  \n",
      "[LightGBM] [Info]                                                                 \n",
      "Number of data points in the train set: 85124, number of used features: 172       \n",
      "Training until validation scores don't improve for 20 rounds                      \n",
      "[5]\tvalid's ndcg@1: 0.53412\tvalid's ndcg@2: 0.505335\tvalid's ndcg@3: 0.498101     \n",
      "[10]\tvalid's ndcg@1: 0.521483\tvalid's ndcg@2: 0.503212\tvalid's ndcg@3: 0.497229   \n",
      "[15]\tvalid's ndcg@1: 0.521483\tvalid's ndcg@2: 0.503127\tvalid's ndcg@3: 0.497632   \n",
      "[20]\tvalid's ndcg@1: 0.528222\tvalid's ndcg@2: 0.504206\tvalid's ndcg@3: 0.498095   \n",
      "Early stopping, best iteration is:                                                \n",
      "[2]\tvalid's ndcg@1: 0.536647\tvalid's ndcg@2: 0.505496\tvalid's ndcg@3: 0.498835\n",
      "Training start:                                                                   \n",
      "[LightGBM] [Warning]                                                              \n",
      "Auto-choosing col-wise multi-threading, the overhead of testing was 0.083484 seconds.\n",
      "You can set `force_col_wise=true` to remove the overhead.\n",
      "[LightGBM] [Info]                                                                 \n",
      "Total Bins 45938                                                                  \n",
      "[LightGBM] [Info]                                                                 \n",
      "Number of data points in the train set: 85124, number of used features: 172       \n",
      "Training until validation scores don't improve for 20 rounds                      \n",
      "[5]\tvalid's ndcg@1: 0.52738\tvalid's ndcg@2: 0.506417\tvalid's ndcg@3: 0.496569     \n",
      "[10]\tvalid's ndcg@1: 0.524853\tvalid's ndcg@2: 0.498675\tvalid's ndcg@3: 0.500393   \n",
      "[15]\tvalid's ndcg@1: 0.528222\tvalid's ndcg@2: 0.505269\tvalid's ndcg@3: 0.502804   \n",
      "[20]\tvalid's ndcg@1: 0.528222\tvalid's ndcg@2: 0.505063\tvalid's ndcg@3: 0.502481   \n",
      "Early stopping, best iteration is:                                                \n",
      "[2]\tvalid's ndcg@1: 0.542544\tvalid's ndcg@2: 0.507567\tvalid's ndcg@3: 0.496788\n",
      "Training start:                                                                   \n",
      "[LightGBM] [Warning]                                                              \n",
      "Auto-choosing col-wise multi-threading, the overhead of testing was 0.071446 seconds.\n",
      "You can set `force_col_wise=true` to remove the overhead.\n",
      "[LightGBM] [Info]                                                                 \n",
      "Total Bins 45938                                                                  \n",
      "[LightGBM] [Info]                                                                 \n",
      "Number of data points in the train set: 85124, number of used features: 172       \n",
      "Training until validation scores don't improve for 20 rounds                      \n",
      "[5]\tvalid's ndcg@1: 0.52401\tvalid's ndcg@2: 0.497386\tvalid's ndcg@3: 0.489613     \n",
      "[10]\tvalid's ndcg@1: 0.52401\tvalid's ndcg@2: 0.495757\tvalid's ndcg@3: 0.491947    \n",
      "[15]\tvalid's ndcg@1: 0.514743\tvalid's ndcg@2: 0.501567\tvalid's ndcg@3: 0.494452   \n",
      "[20]\tvalid's ndcg@1: 0.516428\tvalid's ndcg@2: 0.498363\tvalid's ndcg@3: 0.490989   \n",
      "Early stopping, best iteration is:                                                \n",
      "[2]\tvalid's ndcg@1: 0.53412\tvalid's ndcg@2: 0.501098\tvalid's ndcg@3: 0.495676\n",
      "Training start:                                                                   \n",
      "[LightGBM] [Warning]                                                              \n",
      "Auto-choosing col-wise multi-threading, the overhead of testing was 0.089696 seconds.\n",
      "You can set `force_col_wise=true` to remove the overhead.\n",
      "[LightGBM] [Info]                                                                 \n",
      "Total Bins 45938                                                                  \n",
      "[LightGBM] [Info]                                                                 \n",
      "Number of data points in the train set: 85124, number of used features: 172       \n",
      "Training until validation scores don't improve for 20 rounds                      \n",
      "[5]\tvalid's ndcg@1: 0.529065\tvalid's ndcg@2: 0.511652\tvalid's ndcg@3: 0.499795    \n",
      "[10]\tvalid's ndcg@1: 0.52064\tvalid's ndcg@2: 0.508768\tvalid's ndcg@3: 0.498024    \n",
      "[15]\tvalid's ndcg@1: 0.525695\tvalid's ndcg@2: 0.508162\tvalid's ndcg@3: 0.497822   \n",
      "[20]\tvalid's ndcg@1: 0.526537\tvalid's ndcg@2: 0.509039\tvalid's ndcg@3: 0.501853   \n",
      "[25]\tvalid's ndcg@1: 0.52738\tvalid's ndcg@2: 0.50556\tvalid's ndcg@3: 0.501387     \n",
      "Early stopping, best iteration is:                                                \n",
      "[9]\tvalid's ndcg@1: 0.538332\tvalid's ndcg@2: 0.51236\tvalid's ndcg@3: 0.504587\n",
      "Training start:                                                                   \n",
      "[LightGBM] [Warning]                                                              \n",
      "Auto-choosing col-wise multi-threading, the overhead of testing was 0.082497 seconds.\n",
      "You can set `force_col_wise=true` to remove the overhead.\n",
      "[LightGBM] [Info]                                                                 \n",
      "Total Bins 45938                                                                  \n",
      "[LightGBM] [Info]                                                                 \n",
      "Number of data points in the train set: 85124, number of used features: 172       \n",
      "Training until validation scores don't improve for 20 rounds                      \n",
      "[5]\tvalid's ndcg@1: 0.513901\tvalid's ndcg@2: 0.498032\tvalid's ndcg@3: 0.491886    \n",
      "[10]\tvalid's ndcg@1: 0.52401\tvalid's ndcg@2: 0.500525\tvalid's ndcg@3: 0.496203    \n",
      "[15]\tvalid's ndcg@1: 0.535805\tvalid's ndcg@2: 0.506127\tvalid's ndcg@3: 0.501814   \n",
      "[20]\tvalid's ndcg@1: 0.534962\tvalid's ndcg@2: 0.506709\tvalid's ndcg@3: 0.501483   \n",
      "[25]\tvalid's ndcg@1: 0.532435\tvalid's ndcg@2: 0.50732\tvalid's ndcg@3: 0.50245     \n",
      "[30]\tvalid's ndcg@1: 0.533277\tvalid's ndcg@2: 0.512074\tvalid's ndcg@3: 0.50415    \n",
      "[35]\tvalid's ndcg@1: 0.53412\tvalid's ndcg@2: 0.514546\tvalid's ndcg@3: 0.504348    \n",
      "[40]\tvalid's ndcg@1: 0.53412\tvalid's ndcg@2: 0.51597\tvalid's ndcg@3: 0.504691     \n",
      "Early stopping, best iteration is:                                                \n",
      "[21]\tvalid's ndcg@1: 0.540017\tvalid's ndcg@2: 0.50883\tvalid's ndcg@3: 0.503002\n",
      "Training start:                                                                   \n",
      "[LightGBM] [Warning]                                                              \n",
      "Auto-choosing col-wise multi-threading, the overhead of testing was 0.065554 seconds.\n",
      "You can set `force_col_wise=true` to remove the overhead.\n",
      "[LightGBM] [Info]                                                                 \n",
      "Total Bins 45938                                                                  \n",
      "[LightGBM] [Info]                                                                 \n",
      "Number of data points in the train set: 85124, number of used features: 172       \n",
      "Training until validation scores don't improve for 20 rounds                      \n",
      "[5]\tvalid's ndcg@1: 0.515586\tvalid's ndcg@2: 0.49548\tvalid's ndcg@3: 0.493354     \n",
      "[10]\tvalid's ndcg@1: 0.52401\tvalid's ndcg@2: 0.497868\tvalid's ndcg@3: 0.492238    \n",
      "[15]\tvalid's ndcg@1: 0.515586\tvalid's ndcg@2: 0.497265\tvalid's ndcg@3: 0.496176   \n",
      "[20]\tvalid's ndcg@1: 0.52064\tvalid's ndcg@2: 0.496298\tvalid's ndcg@3: 0.494544    \n",
      "Early stopping, best iteration is:                                                \n",
      "[2]\tvalid's ndcg@1: 0.52738\tvalid's ndcg@2: 0.497943\tvalid's ndcg@3: 0.492972\n",
      "Training start:                                                                   \n",
      "[LightGBM] [Warning]                                                              \n",
      "Auto-choosing row-wise multi-threading, the overhead of testing was 0.014114 seconds.\n",
      "You can set `force_row_wise=true` to remove the overhead.\n",
      "And if memory is not enough, you can set `force_col_wise=true`.\n",
      "[LightGBM] [Info]                                                                 \n",
      "Total Bins 45938                                                                  \n",
      "[LightGBM] [Info]                                                                 \n",
      "Number of data points in the train set: 85124, number of used features: 172       \n",
      "Training until validation scores don't improve for 20 rounds                      \n",
      "[5]\tvalid's ndcg@1: 0.516428\tvalid's ndcg@2: 0.490371\tvalid's ndcg@3: 0.491261    \n",
      "[10]\tvalid's ndcg@1: 0.521483\tvalid's ndcg@2: 0.498479\tvalid's ndcg@3: 0.492161   \n",
      "[15]\tvalid's ndcg@1: 0.538332\tvalid's ndcg@2: 0.503716\tvalid's ndcg@3: 0.501085   \n",
      "[20]\tvalid's ndcg@1: 0.532435\tvalid's ndcg@2: 0.504011\tvalid's ndcg@3: 0.501821   \n",
      "[25]\tvalid's ndcg@1: 0.53412\tvalid's ndcg@2: 0.504272\tvalid's ndcg@3: 0.500123    \n",
      "[30]\tvalid's ndcg@1: 0.536647\tvalid's ndcg@2: 0.505701\tvalid's ndcg@3: 0.50374    \n",
      "[35]\tvalid's ndcg@1: 0.537489\tvalid's ndcg@2: 0.508705\tvalid's ndcg@3: 0.502863   \n",
      "[40]\tvalid's ndcg@1: 0.529907\tvalid's ndcg@2: 0.5074\tvalid's ndcg@3: 0.503488     \n",
      "[45]\tvalid's ndcg@1: 0.53412\tvalid's ndcg@2: 0.508353\tvalid's ndcg@3: 0.506051    \n",
      "[50]\tvalid's ndcg@1: 0.538332\tvalid's ndcg@2: 0.51236\tvalid's ndcg@3: 0.504928    \n",
      "Early stopping, best iteration is:                                                \n",
      "[31]\tvalid's ndcg@1: 0.542544\tvalid's ndcg@2: 0.506915\tvalid's ndcg@3: 0.504554\n",
      "100%|██████████| 50/50 [01:21<00:00,  1.62s/trial, best loss: -0.5067916241191063]\n",
      "best parameters: {'lambdarank_truncation_level': 3, 'learning_rate': 0.0963103468979652, 'n_estimators': 2}\n"
     ]
    }
   ],
   "source": [
    "trials = Trials()\n",
    "optimize(trials)"
   ]
  },
  {
   "cell_type": "markdown",
   "id": "2b30c738-f553-4488-8239-235c9808c184",
   "metadata": {},
   "source": [
    "# Simulate\n"
   ]
  },
  {
   "cell_type": "code",
   "execution_count": 39,
   "id": "b4c3498b-a9bf-4891-9ec4-748f1681fe24",
   "metadata": {
    "tags": []
   },
   "outputs": [
    {
     "name": "stdout",
     "output_type": "stream",
     "text": [
      "odds 1.1\n",
      "not_bet_count 0\n",
      "---------------------\n",
      "単勝\n",
      "的中率 : 75 / 356\n",
      "的中% : 21.07 %\n",
      "収支   : -4610.0 円\n",
      "的中レース : {'01': 10, '02': 7, '03': 6, '04': 9, '05': 4, '06': 5, '07': 12, '08': 7, '09': 2, '10': 4, '11': 5, '12': 4}\n",
      "time 11.311758756637573\n",
      "odds 2.0\n",
      "not_bet_count 43\n",
      "---------------------\n",
      "単勝\n",
      "的中率 : 55 / 313\n",
      "的中% : 17.57 %\n",
      "収支   : -3430.0 円\n",
      "的中レース : {'01': 10, '02': 7, '03': 6, '04': 9, '05': 4, '06': 5, '07': 12, '08': 7, '09': 2, '10': 4, '11': 5, '12': 4}\n",
      "time 21.666910886764526\n",
      "odds 3.0\n",
      "not_bet_count 108\n",
      "---------------------\n",
      "単勝\n",
      "的中率 : 30 / 248\n",
      "的中% : 12.10 %\n",
      "収支   : -3090.0 円\n",
      "的中レース : {'01': 10, '02': 7, '03': 6, '04': 9, '05': 4, '06': 5, '07': 12, '08': 7, '09': 2, '10': 4, '11': 5, '12': 4}\n",
      "time 30.582987785339355\n",
      "odds 4.0\n",
      "not_bet_count 177\n",
      "---------------------\n",
      "単勝\n",
      "的中率 : 17 / 179\n",
      "的中% : 9.50 %\n",
      "収支   : -710.0 円\n",
      "的中レース : {'01': 10, '02': 7, '03': 6, '04': 9, '05': 4, '06': 5, '07': 12, '08': 7, '09': 2, '10': 4, '11': 5, '12': 4}\n",
      "time 40.5599319934845\n",
      "odds 5.0\n",
      "not_bet_count 219\n",
      "---------------------\n",
      "単勝\n",
      "的中率 : 10 / 137\n",
      "的中% : 7.30 %\n",
      "収支   : 510.0 円\n",
      "的中レース : {'01': 10, '02': 7, '03': 6, '04': 9, '05': 4, '06': 5, '07': 12, '08': 7, '09': 2, '10': 4, '11': 5, '12': 4}\n",
      "time 49.5774290561676\n",
      "odds 6.0\n",
      "not_bet_count 249\n",
      "---------------------\n",
      "単勝\n",
      "的中率 : 8 / 107\n",
      "的中% : 7.48 %\n",
      "収支   : 2440.0 円\n",
      "的中レース : {'01': 10, '02': 7, '03': 6, '04': 9, '05': 4, '06': 5, '07': 12, '08': 7, '09': 2, '10': 4, '11': 5, '12': 4}\n",
      "time 60.058735847473145\n",
      "odds 7.0\n",
      "not_bet_count 267\n",
      "---------------------\n",
      "単勝\n",
      "的中率 : 5 / 89\n",
      "的中% : 5.62 %\n",
      "収支   : 2290.0 円\n",
      "的中レース : {'01': 10, '02': 7, '03': 6, '04': 9, '05': 4, '06': 5, '07': 12, '08': 7, '09': 2, '10': 4, '11': 5, '12': 4}\n",
      "time 68.95145606994629\n"
     ]
    }
   ],
   "source": [
    "sl = RankSimulater(ll.model)\n",
    "start_time = time.time()\n",
    "for odds in [1.1,2.0,3.0,4.0,5.0,6.0,7.0]:\n",
    "    print(\"odds\",odds)\n",
    "    sl.calc_tansho(ll.r.data_c.iloc[-5000:],return_tables,odds=odds)\n",
    "    print(\"time\", time.time() - start_time)"
   ]
  },
  {
   "cell_type": "code",
   "execution_count": 10,
   "id": "9a5acc8c-484d-4fef-ae88-1c20180881d1",
   "metadata": {},
   "outputs": [
    {
     "name": "stdout",
     "output_type": "stream",
     "text": [
      "\n",
      "race_id 202206030211\n",
      "---------------------\n",
      "not_bet_count 0\n",
      "三連複\n",
      "的中率 : 19 / 356\n",
      "的中% : 5.34 %\n",
      "収支   : -10970.0 円\n"
     ]
    }
   ],
   "source": [
    "sl = RankSimulater(ll.model)\n",
    "sl.calc_sanrenpuku(ll.r.data_c.iloc[-5000:].fillna(0),return_tables)"
   ]
  },
  {
   "cell_type": "code",
   "execution_count": 11,
   "id": "2b0526b6-d15f-4e39-abaf-40aaf6cfd0fa",
   "metadata": {
    "tags": []
   },
   "outputs": [
    {
     "name": "stdout",
     "output_type": "stream",
     "text": [
      "\n",
      "race_id 202206030211\n",
      "---------------------\n",
      "not_bet_count 0\n",
      "三連単\n",
      "的中率 : 5 / 356\n",
      "的中% : 1.40 %\n",
      "収支   : -10340.0 円\n"
     ]
    }
   ],
   "source": [
    "sl = RankSimulater(ll.model)\n",
    "sl.calc_sanrentan(ll.r.data_c.iloc[-5000:].fillna(0),return_tables)"
   ]
  },
  {
   "cell_type": "code",
   "execution_count": 40,
   "id": "869c4470",
   "metadata": {},
   "outputs": [
    {
     "data": {
      "application/vnd.jupyter.widget-view+json": {
       "model_id": "a885744005554d398bc8fdd23f2c78ab",
       "version_major": 2,
       "version_minor": 0
      },
      "text/plain": [
       "HBox(children=(FloatProgress(value=0.0, max=36.0), HTML(value='')))"
      ]
     },
     "metadata": {},
     "output_type": "display_data"
    },
    {
     "name": "stdout",
     "output_type": "stream",
     "text": [
      "\n"
     ]
    },
    {
     "data": {
      "application/vnd.jupyter.widget-view+json": {
       "model_id": "a3d4148c76334b58bc686158903552ce",
       "version_major": 2,
       "version_minor": 0
      },
      "text/plain": [
       "HBox(children=(FloatProgress(value=0.0, max=15.0), HTML(value='')))"
      ]
     },
     "metadata": {},
     "output_type": "display_data"
    },
    {
     "name": "stdout",
     "output_type": "stream",
     "text": [
      "\n"
     ]
    },
    {
     "data": {
      "application/vnd.jupyter.widget-view+json": {
       "model_id": "62468e53596a44c1bbd60e3c9cec87ae",
       "version_major": 2,
       "version_minor": 0
      },
      "text/plain": [
       "HBox(children=(FloatProgress(value=0.0, max=17545.0), HTML(value='')))"
      ]
     },
     "metadata": {},
     "output_type": "display_data"
    },
    {
     "name": "stdout",
     "output_type": "stream",
     "text": [
      "\n",
      "pe finish\n"
     ]
    },
    {
     "data": {
      "application/vnd.jupyter.widget-view+json": {
       "model_id": "3cf05fccfc7e432e92b395ccfe499da5",
       "version_major": 2,
       "version_minor": 0
      },
      "text/plain": [
       "HBox(children=(FloatProgress(value=0.0, max=458.0), HTML(value='')))"
      ]
     },
     "metadata": {},
     "output_type": "display_data"
    },
    {
     "name": "stdout",
     "output_type": "stream",
     "text": [
      "\n",
      "hr finish\n"
     ]
    },
    {
     "data": {
      "application/vnd.jupyter.widget-view+json": {
       "model_id": "8d91ffc0c0fb4790b2e819a5e389e1fe",
       "version_major": 2,
       "version_minor": 0
      },
      "text/plain": [
       "HBox(children=(FloatProgress(value=0.0, max=245.0), HTML(value='')))"
      ]
     },
     "metadata": {},
     "output_type": "display_data"
    },
    {
     "name": "stdout",
     "output_type": "stream",
     "text": [
      "\n"
     ]
    },
    {
     "data": {
      "application/vnd.jupyter.widget-view+json": {
       "model_id": "82c3391979ba47458ebe34fffc14972c",
       "version_major": 2,
       "version_minor": 0
      },
      "text/plain": [
       "HBox(children=(FloatProgress(value=0.0, max=245.0), HTML(value='')))"
      ]
     },
     "metadata": {},
     "output_type": "display_data"
    },
    {
     "name": "stdout",
     "output_type": "stream",
     "text": [
      "\n"
     ]
    },
    {
     "data": {
      "application/vnd.jupyter.widget-view+json": {
       "model_id": "9b94690b49b6470596f117e1b7af1c8a",
       "version_major": 2,
       "version_minor": 0
      },
      "text/plain": [
       "HBox(children=(FloatProgress(value=0.0, max=245.0), HTML(value='')))"
      ]
     },
     "metadata": {},
     "output_type": "display_data"
    },
    {
     "name": "stdout",
     "output_type": "stream",
     "text": [
      "\n",
      "[LightGBM] [Warning] Auto-choosing col-wise multi-threading, the overhead of testing was 0.067750 seconds.\n",
      "You can set `force_col_wise=true` to remove the overhead.\n",
      "[LightGBM] [Info] Total Bins 45931\n",
      "[LightGBM] [Info] Number of data points in the train set: 85124, number of used features: 172\n"
     ]
    }
   ],
   "source": [
    "pt = Predictor(peds,results,horse_results,race_id_list)\n",
    "pt.learn_lgb(lgbm_params=lgbm_params)"
   ]
  },
  {
   "cell_type": "markdown",
   "id": "32941e34",
   "metadata": {},
   "source": [
    "# 新潟"
   ]
  },
  {
   "cell_type": "code",
   "execution_count": 27,
   "id": "6aaf56de",
   "metadata": {},
   "outputs": [
    {
     "data": {
      "application/vnd.jupyter.widget-view+json": {
       "model_id": "fdedf274cc3a43309838bc843ecd5b5b",
       "version_major": 2,
       "version_minor": 0
      },
      "text/plain": [
       "HBox(children=(FloatProgress(value=0.0, max=1.0), HTML(value='')))"
      ]
     },
     "metadata": {},
     "output_type": "display_data"
    },
    {
     "name": "stdout",
     "output_type": "stream",
     "text": [
      "\n"
     ]
    },
    {
     "data": {
      "application/vnd.jupyter.widget-view+json": {
       "model_id": "53f5b0aea0b24db390a1a10ca442eb1d",
       "version_major": 2,
       "version_minor": 0
      },
      "text/plain": [
       "HBox(children=(FloatProgress(value=0.0, max=1.0), HTML(value='')))"
      ]
     },
     "metadata": {},
     "output_type": "display_data"
    },
    {
     "name": "stdout",
     "output_type": "stream",
     "text": [
      "\n"
     ]
    },
    {
     "data": {
      "application/vnd.jupyter.widget-view+json": {
       "model_id": "9cb9bf3c1de0448dacbdbfc131f4b963",
       "version_major": 2,
       "version_minor": 0
      },
      "text/plain": [
       "HBox(children=(FloatProgress(value=0.0, max=1.0), HTML(value='')))"
      ]
     },
     "metadata": {},
     "output_type": "display_data"
    },
    {
     "name": "stdout",
     "output_type": "stream",
     "text": [
      "\n"
     ]
    },
    {
     "data": {
      "application/vnd.jupyter.widget-view+json": {
       "model_id": "ddee5a38833c4c49adbb8a352f3db3e0",
       "version_major": 2,
       "version_minor": 0
      },
      "text/plain": [
       "HBox(children=(FloatProgress(value=0.0, max=1.0), HTML(value='')))"
      ]
     },
     "metadata": {},
     "output_type": "display_data"
    },
    {
     "name": "stdout",
     "output_type": "stream",
     "text": [
      "\n",
      "              馬番    scores\n",
      "202204010105   1 -1.258613\n",
      "202204010105   4 -1.258613\n",
      "202204010105   5 -1.258613\n",
      "202204010105   6 -1.258613\n",
      "202204010105   7 -1.258613\n",
      "202204010105   9 -1.258613\n",
      "202204010105  10 -1.258613\n",
      "202204010105  11 -1.258613\n",
      "202204010105  12 -1.258613\n",
      "202204010105  13 -1.258613\n",
      "202204010105  14 -1.258613\n",
      "202204010105  15 -1.258613\n",
      "202204010105  16 -1.258613\n",
      "202204010105   2 -1.290535\n",
      "202204010105   3 -1.290535\n",
      "202204010105   8 -1.290535\n"
     ]
    }
   ],
   "source": [
    "base  = '2022040101'\n",
    "pt.predict(base+'05')"
   ]
  },
  {
   "cell_type": "markdown",
   "id": "c3b57a3d",
   "metadata": {},
   "source": [
    "# 東京"
   ]
  },
  {
   "cell_type": "code",
   "execution_count": 28,
   "id": "a6722cba",
   "metadata": {},
   "outputs": [
    {
     "data": {
      "application/vnd.jupyter.widget-view+json": {
       "model_id": "5f190d4716234f8fb07cef63278307b1",
       "version_major": 2,
       "version_minor": 0
      },
      "text/plain": [
       "HBox(children=(FloatProgress(value=0.0, max=1.0), HTML(value='')))"
      ]
     },
     "metadata": {},
     "output_type": "display_data"
    },
    {
     "name": "stdout",
     "output_type": "stream",
     "text": [
      "\n"
     ]
    },
    {
     "data": {
      "application/vnd.jupyter.widget-view+json": {
       "model_id": "bca05c01932e4193bded5dcb3302f151",
       "version_major": 2,
       "version_minor": 0
      },
      "text/plain": [
       "HBox(children=(FloatProgress(value=0.0, max=1.0), HTML(value='')))"
      ]
     },
     "metadata": {},
     "output_type": "display_data"
    },
    {
     "name": "stdout",
     "output_type": "stream",
     "text": [
      "\n"
     ]
    },
    {
     "data": {
      "application/vnd.jupyter.widget-view+json": {
       "model_id": "700a79e022a942689c0c83b97efa7b67",
       "version_major": 2,
       "version_minor": 0
      },
      "text/plain": [
       "HBox(children=(FloatProgress(value=0.0, max=1.0), HTML(value='')))"
      ]
     },
     "metadata": {},
     "output_type": "display_data"
    },
    {
     "name": "stdout",
     "output_type": "stream",
     "text": [
      "\n"
     ]
    },
    {
     "data": {
      "application/vnd.jupyter.widget-view+json": {
       "model_id": "b8477b4a5f9f4170aecf019c59edacdd",
       "version_major": 2,
       "version_minor": 0
      },
      "text/plain": [
       "HBox(children=(FloatProgress(value=0.0, max=1.0), HTML(value='')))"
      ]
     },
     "metadata": {},
     "output_type": "display_data"
    },
    {
     "name": "stdout",
     "output_type": "stream",
     "text": [
      "\n",
      "              馬番    scores\n",
      "202205020505   1 -1.258613\n",
      "202205020505   2 -1.258613\n",
      "202205020505   3 -1.258613\n",
      "202205020505   4 -1.258613\n",
      "202205020505   5 -1.258613\n",
      "202205020505   6 -1.258613\n",
      "202205020505   7 -1.258613\n",
      "202205020505   8 -1.258613\n",
      "202205020505   9 -1.258613\n",
      "202205020505  10 -1.258613\n",
      "202205020505  11 -1.258613\n",
      "202205020505  12 -1.258613\n",
      "202205020505  13 -1.258613\n"
     ]
    }
   ],
   "source": [
    "base  = '2022050205'\n",
    "pt.predict(base+'05')"
   ]
  },
  {
   "cell_type": "markdown",
   "id": "278e1ee5",
   "metadata": {},
   "source": [
    "# 中京"
   ]
  },
  {
   "cell_type": "code",
   "execution_count": 29,
   "id": "844e1f79",
   "metadata": {},
   "outputs": [
    {
     "data": {
      "application/vnd.jupyter.widget-view+json": {
       "model_id": "d36b4464e95b4a23987c1b9172e72676",
       "version_major": 2,
       "version_minor": 0
      },
      "text/plain": [
       "HBox(children=(FloatProgress(value=0.0, max=1.0), HTML(value='')))"
      ]
     },
     "metadata": {},
     "output_type": "display_data"
    },
    {
     "name": "stdout",
     "output_type": "stream",
     "text": [
      "\n"
     ]
    },
    {
     "data": {
      "application/vnd.jupyter.widget-view+json": {
       "model_id": "62fbd012f66e4891b1dcb386a948fba2",
       "version_major": 2,
       "version_minor": 0
      },
      "text/plain": [
       "HBox(children=(FloatProgress(value=0.0, max=1.0), HTML(value='')))"
      ]
     },
     "metadata": {},
     "output_type": "display_data"
    },
    {
     "name": "stdout",
     "output_type": "stream",
     "text": [
      "\n"
     ]
    },
    {
     "data": {
      "application/vnd.jupyter.widget-view+json": {
       "model_id": "c42839ca9b334a72b1666435a7ff9808",
       "version_major": 2,
       "version_minor": 0
      },
      "text/plain": [
       "HBox(children=(FloatProgress(value=0.0, max=1.0), HTML(value='')))"
      ]
     },
     "metadata": {},
     "output_type": "display_data"
    },
    {
     "name": "stdout",
     "output_type": "stream",
     "text": [
      "\n"
     ]
    },
    {
     "data": {
      "application/vnd.jupyter.widget-view+json": {
       "model_id": "f2fb56c521b444eda5e4b1d8c55bcc08",
       "version_major": 2,
       "version_minor": 0
      },
      "text/plain": [
       "HBox(children=(FloatProgress(value=0.0, max=1.0), HTML(value='')))"
      ]
     },
     "metadata": {},
     "output_type": "display_data"
    },
    {
     "name": "stdout",
     "output_type": "stream",
     "text": [
      "\n",
      "              馬番    scores\n",
      "202207030105   1 -1.258613\n",
      "202207030105   2 -1.258613\n",
      "202207030105   3 -1.258613\n",
      "202207030105   4 -1.258613\n",
      "202207030105   5 -1.258613\n",
      "202207030105   6 -1.258613\n",
      "202207030105   7 -1.258613\n",
      "202207030105   8 -1.258613\n",
      "202207030105   9 -1.258613\n",
      "202207030105  10 -1.258613\n",
      "202207030105  11 -1.258613\n"
     ]
    }
   ],
   "source": [
    "base  = '2022070301'\n",
    "pt.predict(base+'05')"
   ]
  },
  {
   "cell_type": "code",
   "execution_count": 41,
   "id": "4324e2ff",
   "metadata": {},
   "outputs": [
    {
     "data": {
      "application/vnd.jupyter.widget-view+json": {
       "model_id": "404b395d502a485cb86b56fecced42af",
       "version_major": 2,
       "version_minor": 0
      },
      "text/plain": [
       "HBox(children=(FloatProgress(value=0.0, max=36.0), HTML(value='')))"
      ]
     },
     "metadata": {},
     "output_type": "display_data"
    },
    {
     "name": "stdout",
     "output_type": "stream",
     "text": [
      "\n"
     ]
    },
    {
     "data": {
      "application/vnd.jupyter.widget-view+json": {
       "model_id": "fb9b133c10a94f058451a71e64fac847",
       "version_major": 2,
       "version_minor": 0
      },
      "text/plain": [
       "HBox(children=(FloatProgress(value=0.0, max=1.0), HTML(value='')))"
      ]
     },
     "metadata": {},
     "output_type": "display_data"
    },
    {
     "name": "stdout",
     "output_type": "stream",
     "text": [
      "\n"
     ]
    },
    {
     "data": {
      "application/vnd.jupyter.widget-view+json": {
       "model_id": "3659b27ce05b494895a93123c76d1764",
       "version_major": 2,
       "version_minor": 0
      },
      "text/plain": [
       "HBox(children=(FloatProgress(value=0.0, max=1.0), HTML(value='')))"
      ]
     },
     "metadata": {},
     "output_type": "display_data"
    },
    {
     "name": "stdout",
     "output_type": "stream",
     "text": [
      "\n"
     ]
    },
    {
     "data": {
      "application/vnd.jupyter.widget-view+json": {
       "model_id": "5f1d999b76d24a7aac3115840c2461df",
       "version_major": 2,
       "version_minor": 0
      },
      "text/plain": [
       "HBox(children=(FloatProgress(value=0.0, max=1.0), HTML(value='')))"
      ]
     },
     "metadata": {},
     "output_type": "display_data"
    },
    {
     "name": "stdout",
     "output_type": "stream",
     "text": [
      "\n"
     ]
    },
    {
     "data": {
      "application/vnd.jupyter.widget-view+json": {
       "model_id": "bd002c4c2c0e44758f75796a410fb20c",
       "version_major": 2,
       "version_minor": 0
      },
      "text/plain": [
       "HBox(children=(FloatProgress(value=0.0, max=36.0), HTML(value='')))"
      ]
     },
     "metadata": {},
     "output_type": "display_data"
    },
    {
     "name": "stdout",
     "output_type": "stream",
     "text": [
      "\n",
      "-------------------\n",
      "predict\n",
      "              馬番    scores\n",
      "202205020501   1 -1.236328\n",
      "202205020501   2 -1.236328\n",
      "202205020501   3 -1.236328\n",
      "actual\n",
      "                0                1                 2            3\n",
      "202205020501   単勝               12              590円          3人気\n",
      "202205020501   複勝          12 16 8      200円210円700円    2人気4人気8人気\n",
      "202205020501   枠連              6 8              720円          2人気\n",
      "202205020501   馬連            12 16            1,570円          6人気\n",
      "202205020501  ワイド  12 16 8 12 8 16  720円3,470円2,660円  7人気32人気27人気\n",
      "202205020501   馬単            12 16            2,910円         10人気\n",
      "202205020501  3連複          8 12 16           22,780円         66人気\n",
      "202205020501  3連単          12 16 8           77,870円        239人気\n",
      "-------------------\n",
      "predict\n",
      "              馬番    scores\n",
      "202205020502   1 -1.236328\n",
      "202205020502   2 -1.236328\n",
      "202205020502   3 -1.236328\n",
      "actual\n",
      "                0                1                 2            3\n",
      "202205020502   単勝               15              530円          2人気\n",
      "202205020502   複勝          15 4 16      190円420円230円    2人気6人気3人気\n",
      "202205020502   枠連              2 8            2,930円          9人気\n",
      "202205020502   馬連             4 15            4,630円         13人気\n",
      "202205020502  ワイド  4 15 15 16 4 16  1,400円650円1,610円  13人気5人気16人気\n",
      "202205020502   馬単             15 4            8,710円         25人気\n",
      "202205020502  3連複          4 15 16            9,220円         25人気\n",
      "202205020502  3連単          15 4 16           58,020円        150人気\n",
      "-------------------\n",
      "predict\n",
      "              馬番    scores\n",
      "202205020503   1 -1.236328\n",
      "202205020503   2 -1.236328\n",
      "202205020503   3 -1.236328\n",
      "actual\n",
      "                0            1                   2             3\n",
      "202205020503   単勝            9                650円           3人気\n",
      "202205020503   複勝        9 5 4        310円230円380円     4人気3人気5人気\n",
      "202205020503   枠連          3 5              3,060円          13人気\n",
      "202205020503   馬連          5 9              3,380円          10人気\n",
      "202205020503  ワイド  5 9 4 9 4 5  1,120円2,260円1,120円  10人気25人気11人気\n",
      "202205020503   馬単          9 5              5,190円          16人気\n",
      "202205020503  3連複        4 5 9             15,090円          42人気\n",
      "202205020503  3連単        9 5 4             69,930円         201人気\n",
      "-------------------\n",
      "predict\n",
      "              馬番    scores\n",
      "202205020504   1 -1.236328\n",
      "202205020504   2 -1.236328\n",
      "202205020504   3 -1.236328\n",
      "actual\n",
      "                0              1               2            3\n",
      "202205020504   単勝              1          1,600円          6人気\n",
      "202205020504   複勝         1 18 9    410円160円210円    6人気1人気5人気\n",
      "202205020504   枠連            1 8          1,510円          5人気\n",
      "202205020504   馬連           1 18          3,290円         11人気\n",
      "202205020504  ワイド  1 18 1 9 9 18  950円1,360円520円  11人気16人気5人気\n",
      "202205020504   馬単           1 18          8,320円         25人気\n",
      "202205020504  3連複         1 9 18          4,700円         15人気\n",
      "202205020504  3連単         1 18 9         35,690円        115人気\n",
      "-------------------\n",
      "predict\n",
      "              馬番    scores\n",
      "202205020505   1 -1.236328\n",
      "202205020505   2 -1.236328\n",
      "202205020505   3 -1.236328\n",
      "actual\n",
      "                0            1                  2            3\n",
      "202205020505   単勝            7               130円          1人気\n",
      "202205020505   複勝        7 5 3     110円3,400円560円   1人気13人気8人気\n",
      "202205020505   枠連          4 5             4,920円         12人気\n",
      "202205020505   馬連          5 7            12,680円         21人気\n",
      "202205020505  ワイド  5 7 3 7 3 5  4,870円820円14,510円  35人気8人気56人気\n",
      "202205020505   馬単          7 5            11,890円         25人気\n",
      "202205020505  3連複        3 5 7            80,260円        104人気\n",
      "202205020505  3連単        7 5 3           222,140円        334人気\n",
      "-------------------\n",
      "predict\n",
      "              馬番    scores\n",
      "202205020506   5  0.034733\n",
      "202205020506  12 -1.148126\n",
      "202205020506   1 -1.236328\n",
      "actual\n",
      "                0                1             2           3\n",
      "202205020506   単勝               11          190円         1人気\n",
      "202205020506   複勝          11 12 1  110円140円220円   1人気2人気4人気\n",
      "202205020506   枠連              7 8          280円         1人気\n",
      "202205020506   馬連            11 12          380円         1人気\n",
      "202205020506  ワイド  11 12 1 11 1 12  200円420円830円  1人気3人気10人気\n",
      "202205020506   馬単            11 12          610円         1人気\n",
      "202205020506  3連複          1 11 12        1,610円         4人気\n",
      "202205020506  3連単          11 12 1        3,760円         3人気\n",
      "-------------------\n",
      "predict\n",
      "              馬番    scores\n",
      "202205020507   3 -0.711019\n",
      "202205020507   1 -0.801821\n",
      "202205020507   6 -1.060359\n",
      "actual\n",
      "                0            1             2           3\n",
      "202205020507   単勝            2          710円         3人気\n",
      "202205020507   複勝        2 4 8  220円130円190円   6人気1人気4人気\n",
      "202205020507   枠連          2 4        1,020円         5人気\n",
      "202205020507   馬連          2 4        1,040円         3人気\n",
      "202205020507  ワイド  2 4 2 8 4 8  420円970円370円  3人気12人気2人気\n",
      "202205020507   馬単          2 4        2,870円         9人気\n",
      "202205020507  3連複        2 4 8        2,260円         5人気\n",
      "202205020507  3連単        2 4 8       15,220円        41人気\n",
      "-------------------\n",
      "predict\n",
      "              馬番    scores\n",
      "202205020508  15 -0.196274\n",
      "202205020508  10 -0.532474\n",
      "202205020508   4 -0.771703\n",
      "actual\n",
      "                0              1               2            3\n",
      "202205020508   単勝              9            380円          2人気\n",
      "202205020508   複勝         9 4 10    130円400円110円    2人気7人気1人気\n",
      "202205020508   枠連            2 5          1,140円          6人気\n",
      "202205020508   馬連            4 9          6,040円         16人気\n",
      "202205020508  ワイド  4 9 9 10 4 10  1,230円170円920円  14人気1人気10人気\n",
      "202205020508   馬単            9 4         10,120円         26人気\n",
      "202205020508  3連複         4 9 10          1,600円          4人気\n",
      "202205020508  3連単         9 4 10         17,190円         46人気\n",
      "-------------------\n",
      "predict\n",
      "              馬番    scores\n",
      "202205020509   7 -0.598186\n",
      "202205020509   1 -0.871162\n",
      "202205020509   3 -0.956256\n",
      "actual\n",
      "                0            1             2          3\n",
      "202205020509   単勝            7          840円        4人気\n",
      "202205020509   複勝        7 3 6  140円110円110円  4人気2人気1人気\n",
      "202205020509   馬連          3 7          920円        5人気\n",
      "202205020509  ワイド  3 7 6 7 3 6  270円260円160円  5人気4人気1人気\n",
      "202205020509   馬単          7 3        2,550円       10人気\n",
      "202205020509  3連複        3 6 7          470円        2人気\n",
      "202205020509  3連単        7 3 6        5,530円       23人気\n",
      "-------------------\n",
      "predict\n",
      "              馬番    scores\n",
      "202205020510  12  1.504918\n",
      "202205020510   1  0.816543\n",
      "202205020510   4  0.785860\n",
      "actual\n",
      "                0              1               2           3\n",
      "202205020510   単勝              6            250円         1人気\n",
      "202205020510   複勝         6 5 10    140円240円260円   1人気4人気5人気\n",
      "202205020510   枠連            3 3          1,250円         6人気\n",
      "202205020510   馬連            5 6          1,280円         4人気\n",
      "202205020510  ワイド  5 6 6 10 5 10  490円470円1,450円  4人気3人気15人気\n",
      "202205020510   馬単            6 5          1,870円         6人気\n",
      "202205020510  3連複         5 6 10          3,180円         7人気\n",
      "202205020510  3連単         6 5 10         11,380円        23人気\n",
      "-------------------\n",
      "predict\n",
      "              馬番    scores\n",
      "202205020511  11 -0.229373\n",
      "202205020511   1 -1.236328\n",
      "202205020511   2 -1.236328\n",
      "actual\n",
      "                0            1                     2             3\n",
      "202205020511   単勝            8                1,010円           6人気\n",
      "202205020511   複勝        8 4 9        290円540円3,250円    5人気7人気14人気\n",
      "202205020511   枠連          2 4                6,220円          22人気\n",
      "202205020511   馬連          4 8               11,520円          41人気\n",
      "202205020511  ワイド  4 8 8 9 4 9  3,030円17,200円20,630円  35人気82人気86人気\n",
      "202205020511   馬単          8 4               20,550円          73人気\n",
      "202205020511  3連複        4 8 9              305,910円         332人気\n",
      "202205020511  3連単        8 4 9            1,400,950円       1,716人気\n",
      "-------------------\n",
      "predict\n",
      "              馬番    scores\n",
      "202205020512   3 -0.194413\n",
      "202205020512   4 -0.700110\n",
      "202205020512   2 -0.820719\n",
      "actual\n",
      "                0            1             2          3\n",
      "202205020512   単勝            5          170円        1人気\n",
      "202205020512   複勝        5 8 7  110円140円140円  1人気2人気3人気\n",
      "202205020512   枠連          5 8          420円        1人気\n",
      "202205020512   馬連          5 8          640円        3人気\n",
      "202205020512  ワイド  5 8 5 7 7 8  220円210円460円  2人気1人気7人気\n",
      "202205020512   馬単          5 8          810円        3人気\n",
      "202205020512  3連複        5 7 8          840円        2人気\n",
      "202205020512  3連単        5 8 7        2,730円        5人気\n",
      "-------------------\n",
      "predict\n",
      "              馬番    scores\n",
      "202207030101   1 -1.236328\n",
      "202207030101   2 -1.236328\n",
      "202207030101   3 -1.236328\n",
      "actual\n",
      "                0            1               2            3\n",
      "202207030101   単勝            3            860円          4人気\n",
      "202207030101   複勝        3 4 5    190円160円330円    4人気2人気6人気\n",
      "202207030101   枠連          3 3          1,630円          7人気\n",
      "202207030101   馬連          3 4          1,690円          6人気\n",
      "202207030101  ワイド  3 4 3 5 4 5  570円1,530円820円  5人気14人気11人気\n",
      "202207030101   馬単          3 4          3,880円         14人気\n",
      "202207030101  3連複        3 4 5          4,440円         11人気\n",
      "202207030101  3連単        3 4 5         26,930円         84人気\n",
      "-------------------\n",
      "predict\n",
      "              馬番    scores\n",
      "202207030102   1 -1.236328\n",
      "202207030102   2 -1.236328\n",
      "202207030102   3 -1.236328\n",
      "actual\n",
      "                0              1             2          3\n",
      "202207030102   単勝             10          130円        1人気\n",
      "202207030102   複勝         10 4 7  110円120円150円  3人気2人気4人気\n",
      "202207030102   枠連            4 8          250円        1人気\n",
      "202207030102   馬連           4 10          260円        1人気\n",
      "202207030102  ワイド  4 10 7 10 4 7  140円240円350円  1人気3人気5人気\n",
      "202207030102   馬単           10 4          310円        1人気\n",
      "202207030102  3連複         4 7 10          510円        2人気\n",
      "202207030102  3連単         10 4 7        1,100円        3人気\n",
      "-------------------\n",
      "predict\n",
      "              馬番    scores\n",
      "202207030103   1 -1.236328\n",
      "202207030103   2 -1.236328\n",
      "202207030103   3 -1.236328\n",
      "actual\n",
      "                0                1                   2             3\n",
      "202207030103   単勝               12              2,680円           6人気\n",
      "202207030103   複勝          12 16 2      1,930円670円780円     7人気4人気5人気\n",
      "202207030103   枠連              6 8              8,730円          20人気\n",
      "202207030103   馬連            12 16             13,420円          26人気\n",
      "202207030103  ワイド  12 16 2 12 2 16  3,340円4,220円1,810円  28人気34人気16人気\n",
      "202207030103   馬単            12 16             29,130円          51人気\n",
      "202207030103  3連複          2 12 16             40,840円          81人気\n",
      "202207030103  3連単          12 16 2            255,890円         427人気\n",
      "-------------------\n",
      "predict\n",
      "              馬番    scores\n",
      "202207030104   1 -1.236328\n",
      "202207030104   2 -1.236328\n",
      "202207030104   3 -1.236328\n",
      "actual\n",
      "                0            1               2           3\n",
      "202207030104   単勝            5          1,870円         4人気\n",
      "202207030104   複勝        5 8 1    220円100円220円   4人気1人気3人気\n",
      "202207030104   馬連          5 8            660円         2人気\n",
      "202207030104  ワイド  5 8 1 5 1 8  300円1,000円360円  2人気10人気3人気\n",
      "202207030104   馬単          5 8          3,880円         8人気\n",
      "202207030104  3連複        1 5 8          1,810円         5人気\n",
      "202207030104  3連単        5 8 1         17,450円        42人気\n",
      "-------------------\n",
      "predict\n",
      "              馬番    scores\n",
      "202207030105   1 -1.236328\n",
      "202207030105   2 -1.236328\n",
      "202207030105   3 -1.236328\n",
      "actual\n",
      "                0            1             2           3\n",
      "202207030105   単勝            1          870円         4人気\n",
      "202207030105   複勝        1 2 6  250円110円200円   5人気2人気4人気\n",
      "202207030105   枠連          1 2        1,250円         6人気\n",
      "202207030105   馬連          1 2        1,380円         7人気\n",
      "202207030105  ワイド  1 2 1 6 2 6  490円990円410円  6人気13人気4人気\n",
      "202207030105   馬単          1 2        3,270円        12人気\n",
      "202207030105  3連複        1 2 6        3,360円        11人気\n",
      "202207030105  3連単        1 2 6       20,950円        65人気\n",
      "profit 490\n",
      "-------------------\n",
      "predict\n",
      "              馬番    scores\n",
      "202207030106   2 -1.043930\n",
      "202207030106   1 -1.236328\n",
      "202207030106   3 -1.236328\n",
      "actual\n",
      "                0            1                 2            3\n",
      "202207030106   単勝            7           15,620円          9人気\n",
      "202207030106   複勝        7 8 5    4,430円240円370円    9人気2人気3人気\n",
      "202207030106   枠連          7 8            4,580円         10人気\n",
      "202207030106   馬連          7 8           23,120円         25人気\n",
      "202207030106  ワイド  7 8 5 7 5 8  3,910円3,690円290円  23人気24人気3人気\n",
      "202207030106   馬単          7 8           76,370円         52人気\n",
      "202207030106  3連複        5 7 8           25,280円         33人気\n",
      "202207030106  3連単        7 8 5          321,020円        248人気\n",
      "-------------------\n",
      "predict\n",
      "              馬番    scores\n",
      "202207030107  15  1.200526\n",
      "202207030107   2  0.927938\n",
      "202207030107  14 -0.108055\n",
      "actual\n",
      "                0            1                 2            3\n",
      "202207030107   単勝            2              710円          3人気\n",
      "202207030107   複勝        2 1 7      220円400円180円    4人気7人気2人気\n",
      "202207030107   枠連          1 2            5,690円         21人気\n",
      "202207030107   馬連          1 2            5,470円         22人気\n",
      "202207030107  ワイド  1 2 2 7 1 7  1,530円670円1,230円  20人気5人気13人気\n",
      "202207030107   馬単          2 1            9,790円         32人気\n",
      "202207030107  3連複        1 2 7            8,870円         28人気\n",
      "202207030107  3連単        2 1 7           55,030円        185人気\n",
      "-------------------\n",
      "predict\n",
      "              馬番    scores\n",
      "202207030108   3 -1.127202\n",
      "202207030108   1 -1.236328\n",
      "202207030108   2 -1.236328\n",
      "actual\n",
      "                0            1               2           3\n",
      "202207030108   単勝            2            390円         1人気\n",
      "202207030108   複勝        2 9 7    140円170円210円   1人気3人気5人気\n",
      "202207030108   枠連          2 8            540円         1人気\n",
      "202207030108   馬連          2 9            820円         2人気\n",
      "202207030108  ワイド  2 9 2 7 7 9  370円520円1,000円  2人気7人気20人気\n",
      "202207030108   馬単          2 9          1,740円         4人気\n",
      "202207030108  3連複        2 7 9          2,810円        12人気\n",
      "202207030108  3連単        2 9 7         10,770円        32人気\n",
      "-------------------\n",
      "predict\n",
      "              馬番    scores\n",
      "202207030109   2  1.090699\n",
      "202207030109   6  0.559178\n",
      "202207030109  10  0.285673\n",
      "actual\n",
      "                0              1                   2             3\n",
      "202207030109   単勝              3                930円           5人気\n",
      "202207030109   複勝         3 10 5        320円230円530円     5人気4人気8人気\n",
      "202207030109   枠連            3 8              3,990円          17人気\n",
      "202207030109   馬連           3 10              3,980円          16人気\n",
      "202207030109  ワイド  3 10 3 5 5 10  1,260円2,890円1,710円  16人気31人気23人気\n",
      "202207030109   馬単           3 10              8,150円          33人気\n",
      "202207030109  3連複         3 5 10             18,080円          56人気\n",
      "202207030109  3連単         3 10 5            108,870円         318人気\n",
      "-------------------\n",
      "predict\n",
      "              馬番    scores\n",
      "202207030110   6  0.788344\n",
      "202207030110   2 -0.443612\n",
      "202207030110   8 -0.872808\n",
      "actual\n",
      "                0            1             2           3\n",
      "202207030110   単勝            7          810円         5人気\n",
      "202207030110   複勝        7 4 6  190円120円120円   5人気2人気1人気\n",
      "202207030110   馬連          4 7        2,140円        10人気\n",
      "202207030110  ワイド  4 7 6 7 4 6  550円290円200円  10人気5人気1人気\n",
      "202207030110   馬単          7 4        4,430円        20人気\n",
      "202207030110  3連複        4 6 7          970円         4人気\n",
      "202207030110  3連単        7 4 6        8,480円        41人気\n",
      "-------------------\n",
      "predict\n",
      "              馬番    scores\n",
      "202207030111   3 -0.555565\n",
      "202207030111   1 -1.236328\n",
      "202207030111   2 -1.236328\n",
      "actual\n",
      "                0              1                   2             3\n",
      "202207030111   単勝              3              1,780円           8人気\n",
      "202207030111   複勝         3 11 9        390円390円320円     7人気6人気4人気\n",
      "202207030111   枠連            3 8              2,530円          10人気\n",
      "202207030111   馬連           3 11              7,500円          25人気\n",
      "202207030111  ワイド  3 11 3 9 9 11  1,780円2,080円1,510円  20人気23人気18人気\n",
      "202207030111   馬単           3 11             17,150円          53人気\n",
      "202207030111  3連複         3 9 11             19,830円          62人気\n",
      "202207030111  3連単         3 11 9            155,470円         389人気\n",
      "-------------------\n",
      "predict\n",
      "              馬番    scores\n",
      "202207030112  10  0.426487\n",
      "202207030112   4 -0.329578\n",
      "202207030112   2 -1.017723\n",
      "actual\n",
      "                0            1                 2             3\n",
      "202207030112   単勝            5              970円           6人気\n",
      "202207030112   複勝        5 9 7    230円1,010円220円    5人気10人気4人気\n",
      "202207030112   枠連          5 8            3,220円          15人気\n",
      "202207030112   馬連          5 9           24,030円          40人気\n",
      "202207030112  ワイド  5 9 5 7 7 9  4,910円690円4,420円  38人気10人気34人気\n",
      "202207030112   馬単          5 9           36,260円          72人気\n",
      "202207030112  3連複        5 7 9           31,340円          78人気\n",
      "202207030112  3連単        5 9 7          260,360円         481人気\n",
      "-------------------\n",
      "predict\n",
      "              馬番    scores\n",
      "202204010101   1 -0.473275\n",
      "202204010101   2 -0.534567\n",
      "202204010101   9 -0.780505\n",
      "actual\n",
      "                0                1               2           3\n",
      "202204010101   単勝                3            390円         1人気\n",
      "202204010101   複勝          3 12 14    160円210円350円   1人気3人気8人気\n",
      "202204010101   枠連              3 7            790円         1人気\n",
      "202204010101   馬連             3 12          1,370円         2人気\n",
      "202204010101  ワイド  3 12 3 14 12 14  580円980円1,140円  2人気9人気11人気\n",
      "202204010101   馬単             3 12          2,620円         3人気\n",
      "202204010101  3連複          3 12 14          4,690円         6人気\n",
      "202204010101  3連単          3 12 14         17,960円        18人気\n",
      "-------------------\n",
      "predict\n",
      "              馬番    scores\n",
      "202204010102   1 -1.236328\n",
      "202204010102   2 -1.236328\n",
      "202204010102   3 -1.236328\n",
      "actual\n",
      "                0            1             2          3\n",
      "202204010102   単勝            6          250円        1人気\n",
      "202204010102   複勝        6 1 4  110円140円160円  1人気2人気4人気\n",
      "202204010102   枠連          1 5          370円        1人気\n",
      "202204010102   馬連          1 6          400円        1人気\n",
      "202204010102  ワイド  1 6 4 6 1 4  180円320円370円  1人気2人気4人気\n",
      "202204010102   馬単          6 1          700円        1人気\n",
      "202204010102  3連複        1 4 6          850円        1人気\n",
      "202204010102  3連単        6 1 4        2,660円        1人気\n",
      "-------------------\n",
      "predict\n",
      "              馬番    scores\n",
      "202204010103   1 -1.236328\n",
      "202204010103   2 -1.236328\n",
      "202204010103   4 -1.236328\n",
      "actual\n",
      "                0              1             2          3\n",
      "202204010103   単勝              9          480円        4人気\n",
      "202204010103   複勝         9 2 12  150円150円140円  3人気4人気2人気\n",
      "202204010103   枠連            2 7          920円        6人気\n",
      "202204010103   馬連            2 9        1,110円        5人気\n",
      "202204010103  ワイド  2 9 9 12 2 12  330円410円270円  5人気6人気2人気\n",
      "202204010103   馬単            9 2        2,270円       11人気\n",
      "202204010103  3連複         2 9 12        1,570円        6人気\n",
      "202204010103  3連単         9 2 12       10,400円       37人気\n",
      "-------------------\n",
      "predict\n",
      "              馬番    scores\n",
      "202204010104   9 -0.259979\n",
      "202204010104  10 -0.856796\n",
      "202204010104   8 -0.906295\n",
      "actual\n",
      "                0            1                 2            3\n",
      "202204010104   単勝            7              170円          1人気\n",
      "202204010104   複勝        7 5 2      110円150円560円    1人気3人気8人気\n",
      "202204010104   枠連          5 7              540円          3人気\n",
      "202204010104   馬連          5 7              680円          2人気\n",
      "202204010104  ワイド  5 7 2 7 2 5  280円1,170円1,760円  2人気13人気22人気\n",
      "202204010104   馬単          7 5              780円          2人気\n",
      "202204010104  3連複        2 5 7            3,050円         10人気\n",
      "202204010104  3連単        7 5 2           10,330円         30人気\n",
      "-------------------\n",
      "predict\n",
      "              馬番    scores\n",
      "202204010105   1 -1.236328\n",
      "202204010105   4 -1.236328\n",
      "202204010105   5 -1.236328\n",
      "actual\n",
      "                0                1               2           3\n",
      "202204010105   単勝               15            670円         3人気\n",
      "202204010105   複勝          15 5 11    190円130円470円   3人気1人気7人気\n",
      "202204010105   枠連              3 8            460円         1人気\n",
      "202204010105   馬連             5 15            710円         2人気\n",
      "202204010105  ワイド  5 15 11 15 5 11  320円1,880円710円  2人気22人気7人気\n",
      "202204010105   馬単             15 5          1,700円         4人気\n",
      "202204010105  3連複          5 11 15          3,500円        10人気\n",
      "202204010105  3連単          15 5 11         17,790円        45人気\n",
      "-------------------\n",
      "predict\n",
      "              馬番    scores\n",
      "202204010106   1 -1.236328\n",
      "202204010106   2 -1.236328\n",
      "202204010106   3 -1.236328\n",
      "actual\n",
      "                0              1             2          3\n",
      "202204010106   単勝              8          820円        4人気\n",
      "202204010106   複勝         8 12 9  210円150円150円  4人気1人気3人気\n",
      "202204010106   枠連            4 6        1,010円        4人気\n",
      "202204010106   馬連           8 12        1,670円        4人気\n",
      "202204010106  ワイド  8 12 8 9 9 12  550円730円370円  4人気9人気2人気\n",
      "202204010106   馬単           8 12        3,680円       13人気\n",
      "202204010106  3連複         8 9 12        2,570円        4人気\n",
      "202204010106  3連単         8 12 9       17,460円       34人気\n",
      "-------------------\n",
      "predict\n",
      "              馬番    scores\n",
      "202204010107   5  1.137273\n",
      "202204010107   1 -0.702899\n",
      "202204010107   3 -0.856310\n",
      "actual\n",
      "                0            1             2          3\n",
      "202204010107   単勝            2          190円        1人気\n",
      "202204010107   複勝        2 3 8  110円130円170円  1人気2人気5人気\n",
      "202204010107   馬連          2 3          360円        1人気\n",
      "202204010107  ワイド  2 3 2 8 3 8  160円270円540円  1人気2人気9人気\n",
      "202204010107   馬単          2 3          560円        1人気\n",
      "202204010107  3連複        2 3 8          730円        2人気\n",
      "202204010107  3連単        2 3 8        2,270円        3人気\n",
      "-------------------\n",
      "predict\n",
      "              馬番    scores\n",
      "202204010108  10  0.572085\n",
      "202204010108  11 -0.341847\n",
      "202204010108   5 -0.761295\n",
      "actual\n",
      "                0            1                 2            3\n",
      "202204010108   単勝            8              620円          4人気\n",
      "202204010108   複勝        8 5 4      220円400円180円    4人気7人気2人気\n",
      "202204010108   枠連          5 6            2,390円         14人気\n",
      "202204010108   馬連          5 8            4,220円         16人気\n",
      "202204010108  ワイド  5 8 4 8 4 5  1,350円700円1,460円  16人気7人気19人気\n",
      "202204010108   馬単          8 5            7,810円         31人気\n",
      "202204010108  3連複        4 5 8            8,940円         39人気\n",
      "202204010108  3連単        8 5 4           34,310円        126人気\n",
      "-------------------\n",
      "predict\n",
      "              馬番    scores\n",
      "202204010109  13 -0.944158\n",
      "202204010109  11 -1.199632\n",
      "202204010109   2 -1.236328\n",
      "actual\n",
      "                0              1             2          3\n",
      "202204010109   単勝              5          270円        1人気\n",
      "202204010109   複勝         5 3 11  120円150円130円  1人気3人気2人気\n",
      "202204010109   枠連            2 3          770円        3人気\n",
      "202204010109   馬連            3 5          720円        3人気\n",
      "202204010109  ワイド  3 5 5 11 3 11  260円210円280円  2人気1人気3人気\n",
      "202204010109   馬単            5 3        1,310円        3人気\n",
      "202204010109  3連複         3 5 11          580円        1人気\n",
      "202204010109  3連単         5 3 11        3,170円        4人気\n",
      "-------------------\n",
      "predict\n",
      "              馬番    scores\n",
      "202204010110   9  0.810449\n",
      "202204010110   1  0.672175\n",
      "202204010110  11  0.227336\n",
      "actual\n",
      "                0              1                 2            3\n",
      "202204010110   単勝             10              240円          1人気\n",
      "202204010110   複勝         10 5 9      120円530円200円    1人気9人気3人気\n",
      "202204010110   枠連            4 7              910円          3人気\n",
      "202204010110   馬連           5 10            3,250円          9人気\n",
      "202204010110  ワイド  5 10 9 10 5 9  1,180円350円2,450円  12人気2人気31人気\n",
      "202204010110   馬単           10 5            4,200円         13人気\n",
      "202204010110  3連複         5 9 10            6,230円         19人気\n",
      "202204010110  3連単         10 5 9           25,530円         77人気\n",
      "-------------------\n",
      "predict\n",
      "              馬番    scores\n",
      "202204010111   2  0.649863\n",
      "202204010111   1  0.296838\n",
      "202204010111   7 -0.598237\n",
      "actual\n",
      "                0            1                 2            3\n",
      "202204010111   単勝            7              300円          1人気\n",
      "202204010111   複勝        7 1 5      160円220円400円    1人気4人気8人気\n",
      "202204010111   枠連          1 6            1,310円          7人気\n",
      "202204010111   馬連          1 7            1,130円          3人気\n",
      "202204010111  ワイド  1 7 5 7 1 5  470円1,040円1,740円  4人気13人気27人気\n",
      "202204010111   馬単          7 1            1,870円          4人気\n",
      "202204010111  3連複        1 5 7            5,960円         24人気\n",
      "202204010111  3連単        7 1 5           21,240円         77人気\n",
      "-------------------\n",
      "predict\n",
      "              馬番    scores\n",
      "202204010112  12  0.683917\n",
      "202204010112  11  0.614039\n",
      "202204010112  16 -0.562075\n",
      "actual\n",
      "                0                1                 2            3\n",
      "202204010112   単勝               12              300円          1人気\n",
      "202204010112   複勝          12 6 14      140円410円170円    1人気7人気2人気\n",
      "202204010112   枠連              3 6            2,790円         10人気\n",
      "202204010112   馬連             6 12            4,310円         12人気\n",
      "202204010112  ワイド  6 12 12 14 6 14  1,440円340円2,130円  15人気2人気22人気\n",
      "202204010112   馬単             12 6            6,530円         21人気\n",
      "202204010112  3連複          6 12 14            6,580円         16人気\n",
      "202204010112  3連単          12 6 14           39,580円        108人気\n",
      "---------------------\n",
      "単勝\n",
      "的中率 : 5 / 36\n",
      "的中% : 13.89 %\n",
      "収支   : 1790 円\n",
      "的中レース ['04', '09', '05', '11', '12']\n",
      "---------------------\n",
      "複勝\n",
      "的中率 : 9 / 36\n",
      "的中% : 25.00 %\n",
      "収支   : -1590 円\n",
      "的中レース ['04', '09', '04', '05', '10', '11', '02', '10', '12']\n",
      "---------------------\n",
      "ワイド\n",
      "的中率 : 1 / 36\n",
      "的中% : 2.78 %\n",
      "収支   : -3110 円\n",
      "的中レース ['05']\n"
     ]
    }
   ],
   "source": [
    "pt.show_results_today()"
   ]
  },
  {
   "cell_type": "markdown",
   "id": "fd8b97e7-5e69-4334-a268-c7a57eaa10d8",
   "metadata": {},
   "source": [
    "# 日付に注意"
   ]
  },
  {
   "cell_type": "code",
   "execution_count": 5,
   "id": "5e00c431-6a37-4f54-bfd3-7a1cc01780cc",
   "metadata": {},
   "outputs": [],
   "source": [
    "date = '2022/12/31'"
   ]
  },
  {
   "cell_type": "markdown",
   "id": "ff135d8f-2a18-4583-8747-68c2938e6b79",
   "metadata": {},
   "source": [
    "# race_id_list"
   ]
  },
  {
   "cell_type": "code",
   "execution_count": 11,
   "id": "ca02207f-1319-48d2-943f-195f395e1d70",
   "metadata": {},
   "outputs": [],
   "source": [
    "\n",
    "\n",
    "race_id_list = ['2022050205{}'.format(str(i).zfill(2)) for i in range(1,13)]\n",
    "# race_id_list += ['2022050204{}'.format(str(i).zfill(2)) for i in range(1,13)]\n",
    "\n",
    "race_id_list += ['2022070301{}'.format(str(i).zfill(2)) for i in range(1,13)]\n",
    "# race_id_list += ['2022090212{}'.format(str(i).zfill(2)) for i in range(1,13)]\n",
    "\n",
    "race_id_list += ['2022040101{}'.format(str(i).zfill(2)) for i in range(1,13)]\n",
    "# race_id_list += ['2022030106{}'.format(str(i).zfill(2)) for i in range(1,13)]\n",
    "\n"
   ]
  },
  {
   "cell_type": "markdown",
   "id": "fd8ec390-bc7f-4821-8417-76382d034041",
   "metadata": {},
   "source": [
    "# Results scraping"
   ]
  },
  {
   "cell_type": "code",
   "execution_count": 7,
   "id": "131add0a-4ac5-4133-b242-3fa2109a4762",
   "metadata": {
    "tags": []
   },
   "outputs": [
    {
     "data": {
      "application/vnd.jupyter.widget-view+json": {
       "model_id": "8609fc03c2c24113b4a57d55785b3260",
       "version_major": 2,
       "version_minor": 0
      },
      "text/plain": [
       "HBox(children=(FloatProgress(value=0.0, max=72.0), HTML(value='')))"
      ]
     },
     "metadata": {},
     "output_type": "display_data"
    },
    {
     "name": "stdout",
     "output_type": "stream",
     "text": [
      "\n"
     ]
    }
   ],
   "source": [
    "# race_id_list = results.index.astype('str')\n",
    "\n",
    "results = Results.scrape(race_id_list)\n",
    "\n",
    "results.to_csv(path_mac+'results_new.csv')"
   ]
  },
  {
   "cell_type": "markdown",
   "id": "3c0ac189-894a-48ac-adb2-4e731640bc5c",
   "metadata": {},
   "source": [
    "# Horse_results scraping"
   ]
  },
  {
   "cell_type": "code",
   "execution_count": 8,
   "id": "1fb495b3-1044-4b5a-afdc-cdf1b60aa6f8",
   "metadata": {},
   "outputs": [
    {
     "data": {
      "application/vnd.jupyter.widget-view+json": {
       "model_id": "315981b5e9804944a856c6e6cba694a5",
       "version_major": 2,
       "version_minor": 0
      },
      "text/plain": [
       "HBox(children=(FloatProgress(value=0.0, max=968.0), HTML(value='')))"
      ]
     },
     "metadata": {},
     "output_type": "display_data"
    },
    {
     "name": "stdout",
     "output_type": "stream",
     "text": [
      "\n"
     ]
    }
   ],
   "source": [
    "horse_id_list = results['horse_id'].astype(str).unique()\n",
    "horse_results = HorseResults.scrape(horse_id_list)\n",
    "# save_path = '/Users/rince/Desktop/Horse/Data/horse_2020.csv'\n",
    "horse_results.to_csv(path_mac+'horse_results_new.csv')"
   ]
  },
  {
   "cell_type": "markdown",
   "id": "c1569216-aa8f-40a3-8303-5d54a442b00e",
   "metadata": {},
   "source": [
    "# Peds scraping"
   ]
  },
  {
   "cell_type": "code",
   "execution_count": 9,
   "id": "56d56e6b-7a60-4721-a111-892aafa204d9",
   "metadata": {},
   "outputs": [
    {
     "data": {
      "application/vnd.jupyter.widget-view+json": {
       "model_id": "0e712b982483424080592db54475c8ad",
       "version_major": 2,
       "version_minor": 0
      },
      "text/plain": [
       "HBox(children=(FloatProgress(value=0.0, max=968.0), HTML(value='')))"
      ]
     },
     "metadata": {},
     "output_type": "display_data"
    },
    {
     "name": "stdout",
     "output_type": "stream",
     "text": [
      "\n"
     ]
    },
    {
     "data": {
      "application/vnd.jupyter.widget-view+json": {
       "model_id": "224894ea4b264c6f9f1cb4002810eee6",
       "version_major": 2,
       "version_minor": 0
      },
      "text/plain": [
       "HBox(children=(FloatProgress(value=0.0, max=968.0), HTML(value='')))"
      ]
     },
     "metadata": {},
     "output_type": "display_data"
    },
    {
     "name": "stdout",
     "output_type": "stream",
     "text": [
      "\n"
     ]
    }
   ],
   "source": [
    "peds_2021 = Peds.scrape(horse_id_list)\n",
    "pe_2021 = Peds(peds_2021)\n",
    "pe_2021.regularize_peds()\n",
    "pe_2021.peds_re.to_csv(path_mac+'peds_new.csv')"
   ]
  },
  {
   "cell_type": "markdown",
   "id": "2d1db0da-3505-4825-8408-e7dd58205c96",
   "metadata": {},
   "source": [
    "# Return scraping"
   ]
  },
  {
   "cell_type": "code",
   "execution_count": 10,
   "id": "56a4d97d-94cc-477f-b643-5144c7173613",
   "metadata": {},
   "outputs": [
    {
     "data": {
      "application/vnd.jupyter.widget-view+json": {
       "model_id": "b70686ac9be44ba3844e4b57968e4580",
       "version_major": 2,
       "version_minor": 0
      },
      "text/plain": [
       "HBox(children=(FloatProgress(value=0.0, max=72.0), HTML(value='')))"
      ]
     },
     "metadata": {},
     "output_type": "display_data"
    },
    {
     "name": "stdout",
     "output_type": "stream",
     "text": [
      "\n"
     ]
    }
   ],
   "source": [
    "returns_2021 = Return.scrape(race_id_list)\n",
    "returns_2021.to_csv(path_mac+'returns_new.csv')"
   ]
  },
  {
   "cell_type": "markdown",
   "id": "6e175b9a-1a2d-4d5d-a5e2-e771c86dd8d2",
   "metadata": {},
   "source": [
    "# update"
   ]
  },
  {
   "cell_type": "code",
   "execution_count": 11,
   "id": "428fa2b8-2058-4c1d-af05-ec10e9f3768d",
   "metadata": {},
   "outputs": [],
   "source": [
    "new_results = update_data(load_csv(path_mac+'results.csv'), load_csv(path_mac+'results_new.csv'))\n",
    "new_horse_results = update_data(load_csv(path_mac+'horse_results.csv'), load_csv(path_mac+'horse_results_new.csv'))\n",
    "new_peds = update_data(load_csv(path_mac+'peds.csv'), load_csv(path_mac+'peds_new.csv'))\n",
    "new_return = update_data(load_csv(path_mac+'return.csv'), load_csv(path_mac+'returns_new.csv'))"
   ]
  },
  {
   "cell_type": "markdown",
   "id": "d77364dd-545a-43d4-97aa-070ca0595356",
   "metadata": {},
   "source": [
    "# save"
   ]
  },
  {
   "cell_type": "code",
   "execution_count": 12,
   "id": "875dc8e7-f696-4b78-933d-4f62f3603430",
   "metadata": {},
   "outputs": [],
   "source": [
    "new_results.to_csv(path_mac2+'results.csv')\n",
    "new_horse_results.to_csv(path_mac2+'horse_results.csv')\n",
    "new_peds.to_csv(path_mac2+'peds.csv')\n",
    "new_return.to_csv(path_mac2+'return.csv')"
   ]
  },
  {
   "cell_type": "markdown",
   "id": "4bb0ca11-eae4-4d5e-b833-3184f6e85f85",
   "metadata": {},
   "source": [
    "# 重要度"
   ]
  },
  {
   "cell_type": "code",
   "execution_count": 29,
   "id": "c64f0ed3-8651-4105-aa14-83bfa45b20c9",
   "metadata": {
    "tags": []
   },
   "outputs": [
    {
     "name": "stdout",
     "output_type": "stream",
     "text": [
      "                        features  importances\n",
      "4                       horse_id         1692\n",
      "5                      jockey_id          663\n",
      "25               賞金_race_type_5R          151\n",
      "24               着順_race_type_5R           65\n",
      "52               着順_race_type_9R           58\n",
      "10                         着順_5R           56\n",
      "38                         着順_9R           47\n",
      "32                      賞金_開催_5R           36\n",
      "80             着順_race_type_allR           35\n",
      "11                         賞金_5R           22\n",
      "53               賞金_race_type_9R           21\n",
      "40                         着差_9R           19\n",
      "7                             体重           16\n",
      "6                             年齢           16\n",
      "12                         着差_5R           11\n",
      "73            着順_course_len_allR           10\n",
      "45              着順_course_len_9R           10\n",
      "18              賞金_course_len_5R            9\n",
      "60                      賞金_開催_9R            6\n",
      "120                      peds_26            6\n",
      "8                           体重変化            4\n",
      "68                       着差_allR            4\n",
      "39                         賞金_9R            3\n",
      "21   first_to_rank_course_len_5R            3\n",
      "75            着差_course_len_allR            3\n",
      "9                        n_horse            3\n",
      "144                      peds_50            3\n",
      "87                    着順_開催_allR            2\n",
      "82             着差_race_type_allR            2\n",
      "124                      peds_30            2\n"
     ]
    }
   ],
   "source": [
    "importances = pd.DataFrame(\n",
    "{'features' : x_train.columns, 'importances' : lgb_rank.feature_importance()})\n",
    "print(importances.sort_values('importances', ascending=False)[:30])"
   ]
  },
  {
   "cell_type": "markdown",
   "id": "d5dc1142-ff9b-4568-80b8-18ef0d9010c1",
   "metadata": {},
   "source": [
    "# fastText"
   ]
  },
  {
   "cell_type": "markdown",
   "id": "ea29d7bf-5052-44dc-ac80-dea59ed65444",
   "metadata": {},
   "source": [
    "流れ\n",
    "1. fasttext用の血統データの学習データを作る (血統の情報のみ, index ヘッダはいらない)\n",
    "2. fasttext学習\n",
    "3. 学習モデルを使って, 血統データをベクトル化\n",
    "4. ベクトル化して r.data_cに concat\n",
    "5. 学習\n"
   ]
  },
  {
   "cell_type": "markdown",
   "id": "23d375b9-e292-4d4a-97c2-905e3060419f",
   "metadata": {},
   "source": [
    "教師あり, 教師なしでも生成されるベクトルは等しい"
   ]
  },
  {
   "cell_type": "markdown",
   "id": "4de5229f-9b05-4bc1-820a-0e275a1d6c8f",
   "metadata": {},
   "source": [
    "# model_ft 作成"
   ]
  },
  {
   "cell_type": "code",
   "execution_count": 24,
   "id": "554f0c62-72c2-4a2e-b45e-b0b4d37c2e86",
   "metadata": {
    "tags": []
   },
   "outputs": [],
   "source": [
    "# 相対パスしかできない\n",
    "# dim : 出力の次元\n",
    "# minn : n_gramの最小単位\n",
    "# maxn : n_gramの最大単位\n",
    "path_ft = '/Users/rince/Desktop/Horse/code/horse/peds_ft.txt'\n",
    "# 上書き保存OK\n",
    "peds.to_csv(path_ft,header=False,index=False,sep=',')\n",
    "model_ft = ft.train_unsupervised(path_ft,dim=62,minn=2,maxn=14)"
   ]
  },
  {
   "cell_type": "markdown",
   "id": "d9dd9030-310c-414d-8c91-6178159c00e6",
   "metadata": {},
   "source": [
    "model[model.words[1]] と model.get_input_vector(ind=1) は等価"
   ]
  },
  {
   "cell_type": "code",
   "execution_count": null,
   "id": "7ed0b75c-8969-4b49-b522-1c0df7bbb166",
   "metadata": {},
   "outputs": [],
   "source": []
  }
 ],
 "metadata": {
  "interpreter": {
   "hash": "aee8b7b246df8f9039afb4144a1f6fd8d2ca17a180786b69acc140d282b71a49"
  },
  "kernelspec": {
   "display_name": "Python 3.7.2 64-bit",
   "language": "python",
   "name": "python3"
  },
  "language_info": {
   "codemirror_mode": {
    "name": "ipython",
    "version": 3
   },
   "file_extension": ".py",
   "mimetype": "text/x-python",
   "name": "python",
   "nbconvert_exporter": "python",
   "pygments_lexer": "ipython3",
   "version": "3.7.2"
  }
 },
 "nbformat": 4,
 "nbformat_minor": 5
}
