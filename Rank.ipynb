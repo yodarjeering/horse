{
 "cells": [
  {
   "cell_type": "markdown",
   "id": "485b75ae-02d8-4d3e-b0f4-c8cad9518e8c",
   "metadata": {},
   "source": [
    "# import"
   ]
  },
  {
   "cell_type": "code",
   "execution_count": 1,
   "id": "fa116d3b-51ac-42de-bf7a-fb55eb148689",
   "metadata": {},
   "outputs": [],
   "source": [
    "import pandas as pd\n",
    "from tqdm.notebook import tqdm as tqdm\n",
    "import time\n",
    "from graphviz import *\n",
    "import lightgbm as lgb\n",
    "from hyperopt import hp, tpe, Trials, fmin,STATUS_OK\n",
    "import fasttext as ft\n",
    "# import importlib\n",
    "# importlib.reload(hoge)\n",
    "from my_library.horse import *"
   ]
  },
  {
   "cell_type": "markdown",
   "id": "1782806f-f29f-40fe-9c06-7dfca7dd2339",
   "metadata": {},
   "source": [
    "# path"
   ]
  },
  {
   "cell_type": "code",
   "execution_count": 2,
   "id": "8a4008e3-1c76-4f8e-b375-0f3533379d5b",
   "metadata": {},
   "outputs": [],
   "source": [
    "path_ubu = '/home/hipro/デスクトップ/Horse/Data/20_21'\n",
    "path_mac2 = '/Users/rince/Desktop/Horse/Data/saishin2/'\n",
    "path_mac = '/Users/rince/Desktop/Horse/Data/saishin/'\n",
    "path_win = '/Users/Owner/Desktop/program/Horse/Data/saishin/'\n",
    "path_win2 = '/Users/Owner/Desktop/program/Horse/Data/saishin2/'"
   ]
  },
  {
   "cell_type": "markdown",
   "id": "a920e716-5257-45d8-9831-2effe586aa2c",
   "metadata": {},
   "source": [
    "# load data"
   ]
  },
  {
   "cell_type": "code",
   "execution_count": 90,
   "id": "2cafb76f-29dc-4841-bb1b-2792c246cd20",
   "metadata": {
    "tags": []
   },
   "outputs": [],
   "source": [
    "results = load_csv(path_mac+'results.csv')\n",
    "horse_results = load_csv(path_mac+'horse_results.csv')\n",
    "peds = load_csv(path_mac+'peds.csv')\n",
    "# 何回やってもロードすると, nanが出る\n",
    "peds.fillna('nan',inplace=True)\n",
    "return_tables = load_csv(path_mac+'return.csv')\n",
    "return_tables.rename(columns={'0':0,'1':1,'2':2,'3':3},inplace=True)"
   ]
  },
  {
   "cell_type": "markdown",
   "id": "6897b3ed-08f1-452f-bc5c-840f04015aed",
   "metadata": {},
   "source": [
    "# race_id 命名規則"
   ]
  },
  {
   "cell_type": "markdown",
   "id": "f840d19f-0d83-4c24-a9d6-245b20e6eac6",
   "metadata": {},
   "source": [
    "race_id 202105040802\\\n",
    "yyyy_pp_xx_xxrr\\\n",
    "y : year\\\n",
    "p : palce\\\n",
    "x : 謎\\\n",
    "r : race番号"
   ]
  },
  {
   "cell_type": "code",
   "execution_count": null,
   "id": "3ab99716",
   "metadata": {},
   "outputs": [],
   "source": [
    "lgbm_params = {\n",
    "                'metric': 'ndcg',\n",
    "                'objective': 'lambdarank',\n",
    "                'ndcg_eval_at': [1,2,3],\n",
    "                'boosting_type': 'gbdt',\n",
    "                'random_state': 777,\n",
    "                'lambdarank_truncation_level': 29,\n",
    "                'learning_rate': 0.021772987388503244,\n",
    "                'num_iterations': 93,\n",
    "                'num_leaves': 40\n",
    "            }"
   ]
  },
  {
   "cell_type": "code",
   "execution_count": 92,
   "id": "c895357f",
   "metadata": {},
   "outputs": [
    {
     "data": {
      "application/vnd.jupyter.widget-view+json": {
       "model_id": "171d89bce176470f8df58513aae18cfe",
       "version_major": 2,
       "version_minor": 0
      },
      "text/plain": [
       "HBox(children=(FloatProgress(value=0.0, max=17616.0), HTML(value='')))"
      ]
     },
     "metadata": {},
     "output_type": "display_data"
    },
    {
     "name": "stdout",
     "output_type": "stream",
     "text": [
      "\n"
     ]
    },
    {
     "data": {
      "application/vnd.jupyter.widget-view+json": {
       "model_id": "b5da12b7fa52454cb82b14851ae51124",
       "version_major": 2,
       "version_minor": 0
      },
      "text/plain": [
       "HBox(children=(FloatProgress(value=0.0, max=17616.0), HTML(value='')))"
      ]
     },
     "metadata": {},
     "output_type": "display_data"
    },
    {
     "name": "stdout",
     "output_type": "stream",
     "text": [
      "\n"
     ]
    },
    {
     "data": {
      "application/vnd.jupyter.widget-view+json": {
       "model_id": "a556af6deed548a3b6ad818c35d31c21",
       "version_major": 2,
       "version_minor": 0
      },
      "text/plain": [
       "HBox(children=(FloatProgress(value=0.0, max=251.0), HTML(value='')))"
      ]
     },
     "metadata": {},
     "output_type": "display_data"
    },
    {
     "name": "stdout",
     "output_type": "stream",
     "text": [
      "\n"
     ]
    },
    {
     "data": {
      "application/vnd.jupyter.widget-view+json": {
       "model_id": "fbeacc7bffce42139d9862fad427dc5c",
       "version_major": 2,
       "version_minor": 0
      },
      "text/plain": [
       "HBox(children=(FloatProgress(value=0.0, max=251.0), HTML(value='')))"
      ]
     },
     "metadata": {},
     "output_type": "display_data"
    },
    {
     "name": "stdout",
     "output_type": "stream",
     "text": [
      "\n"
     ]
    },
    {
     "data": {
      "application/vnd.jupyter.widget-view+json": {
       "model_id": "d9bea5c48bb246c28a35a76fd1e2aa0d",
       "version_major": 2,
       "version_minor": 0
      },
      "text/plain": [
       "HBox(children=(FloatProgress(value=0.0, max=251.0), HTML(value='')))"
      ]
     },
     "metadata": {},
     "output_type": "display_data"
    },
    {
     "name": "stdout",
     "output_type": "stream",
     "text": [
      "\n",
      "[LightGBM] [Warning] Auto-choosing col-wise multi-threading, the overhead of testing was 0.080778 seconds.\n",
      "You can set `force_col_wise=true` to remove the overhead.\n",
      "[LightGBM] [Info] Total Bins 46188\n",
      "[LightGBM] [Info] Number of data points in the train set: 87521, number of used features: 172\n"
     ]
    }
   ],
   "source": [
    "ll = LearnLGBM(peds,results,horse_results)\n",
    "ll.learn_lgb()"
   ]
  },
  {
   "cell_type": "code",
   "execution_count": 95,
   "metadata": {},
   "outputs": [
    {
     "name": "stderr",
     "output_type": "stream",
     "text": [
      "/Users/rince/Library/Python/3.7/lib/python/site-packages/lightgbm/engine.py:151: UserWarning: Found `num_iterations` in params. Will use it instead of argument\n",
      "  warnings.warn(\"Found `{}` in params. Will use it instead of argument\".format(alias))\n"
     ]
    },
    {
     "name": "stdout",
     "output_type": "stream",
     "text": [
      "[LightGBM] [Warning] Auto-choosing col-wise multi-threading, the overhead of testing was 0.068078 seconds.\n",
      "You can set `force_col_wise=true` to remove the overhead.\n",
      "[LightGBM] [Info] Total Bins 46188\n",
      "[LightGBM] [Info] Number of data points in the train set: 87521, number of used features: 172\n"
     ]
    }
   ],
   "source": [
    "train_query = ll.x_train.groupby(ll.x_train.index).size()\n",
    "train = lgb.Dataset(ll.x_train, ll.y_train, group=train_query)\n",
    "ll.learn_lgb2(train,lgbm_params=lgbm_params)"
   ]
  },
  {
   "cell_type": "code",
   "execution_count": null,
   "id": "f5a261c3",
   "metadata": {},
   "outputs": [],
   "source": [
    "# ll = LearnLGBM(peds,results,horse_results)\n",
    "# ll.get_train_data()\n",
    "\n",
    "\n",
    "val_x = ll.x_test.iloc[:-10000]\n",
    "val_y = ll.y_test.iloc[:-10000]\n",
    "test_query = val_x.groupby(val_x.index).size()\n",
    "train_query = ll.x_train.groupby(ll.x_train.index).size()\n",
    "train = lgb.Dataset(ll.x_train, ll.y_train, group=train_query)\n",
    "valid = lgb.Dataset(val_x, val_y, reference=train, group=test_query)"
   ]
  },
  {
   "cell_type": "markdown",
   "id": "27efe69c",
   "metadata": {},
   "source": [
    "# 正解ラベル　変えた"
   ]
  },
  {
   "cell_type": "code",
   "execution_count": null,
   "id": "32108465",
   "metadata": {},
   "outputs": [],
   "source": [
    "def split_data(df, test_size=0.2, rank_learning=True):\n",
    "    \"\"\"\n",
    "    データを学習データと, 訓練データに分ける関数\n",
    "    \"\"\"\n",
    "    df_ = df.copy()\n",
    "    df_['rank'] = df_['rank'].map(lambda x: int((1/x)*10) if x<4 else(0))\n",
    "        \n",
    "    sorted_id_list = df_.sort_values(\"date\").index.unique()\n",
    "    train_id_list = sorted_id_list[: round(len(sorted_id_list) * (1 - test_size))]\n",
    "    test_id_list = sorted_id_list[round(len(sorted_id_list) * (1 - test_size)) :]\n",
    "    train = df_.loc[train_id_list]#.drop(['date'], axis=1)\n",
    "    test = df_.loc[test_id_list]#.drop(['date'], axis=1)\n",
    "    return train, test\n",
    "\n",
    "    \n",
    "train, test = split_data(ll.r.data_c.fillna(0),test_size=0.2,rank_learning=False)\n",
    "x_train = train.drop(['rank', 'date','単勝'], axis=1)\n",
    "y_train = train['rank']\n",
    "x_test = test.drop(['rank', 'date','単勝'], axis=1)\n",
    "y_test = test['rank']\n",
    "train_query = x_train.groupby(x_train.index).size()\n",
    "train = lgb.Dataset(x_train, y_train, group=train_query)\n",
    "val_y = y_test.iloc[:-10000]\n",
    "test_query = x_test.groupby(x_test.index).size()\n",
    "valid = lgb.Dataset(x_test, y_test, reference=train, group=test_query)"
   ]
  },
  {
   "cell_type": "code",
   "execution_count": 94,
   "id": "6be3bc5a",
   "metadata": {},
   "outputs": [
    {
     "data": {
      "text/plain": [
       "{'lambdarank_truncation_level': 10,\n",
       " 'learning_rate': 0.02273417953255777,\n",
       " 'num_iterations': 97,\n",
       " 'num_leaves': 42}"
      ]
     },
     "execution_count": 94,
     "metadata": {},
     "output_type": "execute_result"
    }
   ],
   "source": [
    "lgbm_params = {\n",
    "                'metric': 'ndcg',\n",
    "                'objective': 'lambdarank',\n",
    "                'ndcg_eval_at': [1,2,3],\n",
    "                'boosting_type': 'gbdt',\n",
    "                'random_state': 777,\n",
    "                'lambdarank_truncation_level': 10,\n",
    "                'learning_rate': 0.02273417953255777,\n",
    "                'num_iterations': 97,\n",
    "                'num_leaves': 42\n",
    "            }\n",
    "\n",
    "{'lambdarank_truncation_level': 10,\n",
    " 'learning_rate': 0.02273417953255777,\n",
    " 'num_iterations': 97,\n",
    " 'num_leaves': 42}"
   ]
  },
  {
   "cell_type": "code",
   "execution_count": null,
   "id": "c03ed259",
   "metadata": {},
   "outputs": [],
   "source": [
    "range(1,50)[28]"
   ]
  },
  {
   "cell_type": "code",
   "execution_count": null,
   "id": "18909448",
   "metadata": {},
   "outputs": [],
   "source": [
    "# {'lambdarank_truncation_level': range(1,50)[33], 'learning_rate': 0.09608503291165846, 'num_iterations': range(50,120)[14], 'num_leaves': range(20,50)[2]}\n",
    "\n",
    "{'lambdarank_truncation_level': 28, 'learning_rate': 0.021772987388503244}\n",
    "{'lambdarank_truncation_level':  range(1,50)[28], 'learning_rate': 0.02273417953255777, 'num_iterations': range(50,120)[47], 'num_leaves': range(20,50)[22]}"
   ]
  },
  {
   "cell_type": "code",
   "execution_count": null,
   "id": "defd053c",
   "metadata": {},
   "outputs": [],
   "source": [
    "ll.learn_lgb2(train,lgbm_params=lgbm_params)"
   ]
  },
  {
   "cell_type": "code",
   "execution_count": null,
   "id": "03dc35cc",
   "metadata": {},
   "outputs": [],
   "source": [
    "def score(params):\n",
    "    print(\"Training start:\")\n",
    "\n",
    "    N_boost_round = []\n",
    "    Score = []\n",
    "\n",
    "    lgb_results={}  #履歴格納用\n",
    "    # train = lgb.Dataset(x_train, y_train, group=train_query)\n",
    "    # valid = lgb.Dataset(x_test, y_test, reference=train, group=test_query)\n",
    "\n",
    "    \n",
    "    lgb_clf = lgb.train(\n",
    "        params,\n",
    "        train,\n",
    "        num_boost_round=1000,\n",
    "        valid_sets=valid,\n",
    "        valid_names=['valid'],\n",
    "        early_stopping_rounds=20,\n",
    "        verbose_eval=5,\n",
    "        evals_result=lgb_results,\n",
    "    )\n",
    "#     return lgb_results\n",
    "    return {'loss': -1.0 * lgb_results['valid']['ndcg@3'][lgb_clf.best_iteration], 'status': STATUS_OK}\n",
    "\n",
    "def optimize(trials):\n",
    "#探索スペース\n",
    "    space = {\n",
    "        'objective': 'lambdarank',\n",
    "        'metric': 'ndcg',\n",
    "        # 上位三着を考慮する\n",
    "        'ndcg_eval_at': [1,2,3],\n",
    "#         best paramsの返り値は, choiceだとindexか?\n",
    "        'lambdarank_truncation_level': hp.choice('lambdarank_truncation_level',range(1,50)),\n",
    "        'learning_rate': hp.uniform('learning_rate', 0.01, 0.1),\n",
    "        # n_estimators == num_iterations\n",
    "        # 'num_iterations': hp.choice('num_iterations',range(50,120)),\n",
    "        # 'num_leaves': hp.choice('num_leaves',range(20,50)),\n",
    "        'boosting_type': 'gbdt',\n",
    "        'random_state': 777\n",
    "    }\n",
    "\n",
    "    max_evals = 25      #探索回数(25くらいで十分)\n",
    "    best = fmin(score, space, algo=tpe.suggest, trials=trials, max_evals=max_evals)\n",
    "\n",
    "    print(\"best parameters:\", best)"
   ]
  },
  {
   "cell_type": "code",
   "execution_count": null,
   "id": "8ae3611f",
   "metadata": {},
   "outputs": [],
   "source": [
    "trials = Trials()\n",
    "optimize(trials)"
   ]
  },
  {
   "cell_type": "markdown",
   "id": "2b30c738-f553-4488-8239-235c9808c184",
   "metadata": {},
   "source": [
    "# Simulate\n"
   ]
  },
  {
   "cell_type": "code",
   "execution_count": 96,
   "id": "b4c3498b-a9bf-4891-9ec4-748f1681fe24",
   "metadata": {
    "tags": []
   },
   "outputs": [
    {
     "name": "stdout",
     "output_type": "stream",
     "text": [
      "\n",
      "odds 1.1\n",
      "not_bet_count 0\n",
      "---------------------\n",
      "単勝\n",
      "的中率 : 153 / 727\n",
      "的中% : 21.05 %\n",
      "収支   : -8650.0 円\n",
      "的中レース : {'01': 19, '02': 17, '03': 13, '04': 12, '05': 12, '06': 12, '07': 20, '08': 9, '09': 6, '10': 11, '11': 9, '12': 13}\n",
      "time 22.824225187301636\n",
      "\n",
      "odds 2.0\n",
      "not_bet_count 92\n",
      "---------------------\n",
      "単勝\n",
      "的中率 : 115 / 635\n",
      "的中% : 18.11 %\n",
      "収支   : -5400.0 円\n",
      "的中レース : {'01': 19, '02': 17, '03': 13, '04': 12, '05': 12, '06': 12, '07': 20, '08': 9, '09': 6, '10': 11, '11': 9, '12': 13}\n",
      "time 48.00784182548523\n",
      "\n",
      "odds 3.0\n",
      "not_bet_count 236\n",
      "---------------------\n",
      "単勝\n",
      "的中率 : 62 / 491\n",
      "的中% : 12.63 %\n",
      "収支   : -3930.0 円\n",
      "的中レース : {'01': 19, '02': 17, '03': 13, '04': 12, '05': 12, '06': 12, '07': 20, '08': 9, '09': 6, '10': 11, '11': 9, '12': 13}\n",
      "time 68.47328901290894\n",
      "\n",
      "odds 4.0\n",
      "not_bet_count 372\n",
      "---------------------\n",
      "単勝\n",
      "的中率 : 37 / 355\n",
      "的中% : 10.42 %\n",
      "収支   : 1110.0 円\n",
      "的中レース : {'01': 19, '02': 17, '03': 13, '04': 12, '05': 12, '06': 12, '07': 20, '08': 9, '09': 6, '10': 11, '11': 9, '12': 13}\n",
      "time 89.69175505638123\n",
      "\n",
      "odds 5.0\n",
      "not_bet_count 454\n",
      "---------------------\n",
      "単勝\n",
      "的中率 : 23 / 273\n",
      "的中% : 8.42 %\n",
      "収支   : 3300.0 円\n",
      "的中レース : {'01': 19, '02': 17, '03': 13, '04': 12, '05': 12, '06': 12, '07': 20, '08': 9, '09': 6, '10': 11, '11': 9, '12': 13}\n",
      "time 111.89140200614929\n",
      "\n",
      "odds 6.0\n",
      "not_bet_count 515\n",
      "---------------------\n",
      "単勝\n",
      "的中率 : 15 / 212\n",
      "的中% : 7.08 %\n",
      "収支   : 5010.0 円\n",
      "的中レース : {'01': 19, '02': 17, '03': 13, '04': 12, '05': 12, '06': 12, '07': 20, '08': 9, '09': 6, '10': 11, '11': 9, '12': 13}\n",
      "time 134.7428960800171\n",
      "\n",
      "odds 7.0\n",
      "not_bet_count 548\n",
      "---------------------\n",
      "単勝\n",
      "的中率 : 11 / 179\n",
      "的中% : 6.15 %\n",
      "収支   : 5670.0 円\n",
      "的中レース : {'01': 19, '02': 17, '03': 13, '04': 12, '05': 12, '06': 12, '07': 20, '08': 9, '09': 6, '10': 11, '11': 9, '12': 13}\n",
      "time 153.29642605781555\n"
     ]
    }
   ],
   "source": [
    "\n",
    "start_time = time.time()\n",
    "for odds in [1.1,2.0,3.0,4.0,5.0,6.0,7.0]:\n",
    "    print()\n",
    "    sl = RankSimulater(ll.model)\n",
    "    print(\"odds\",odds)\n",
    "    sl.calc_tansho(ll.r.data_c.iloc[-10000:],return_tables,odds=odds)\n",
    "    print(\"time\", time.time() - start_time)\n",
    "\n"
   ]
  },
  {
   "cell_type": "code",
   "execution_count": null,
   "id": "9a5acc8c-484d-4fef-ae88-1c20180881d1",
   "metadata": {},
   "outputs": [],
   "source": [
    "sl = RankSimulater(ll.model)\n",
    "sl.calc_sanrenpuku(ll.r.data_c.iloc[-5000:].fillna(0),return_tables)"
   ]
  },
  {
   "cell_type": "code",
   "execution_count": null,
   "id": "2b0526b6-d15f-4e39-abaf-40aaf6cfd0fa",
   "metadata": {
    "tags": []
   },
   "outputs": [],
   "source": [
    "sl = RankSimulater(ll.model)\n",
    "sl.calc_sanrentan(ll.r.data_c.iloc[-5000:].fillna(0),return_tables)"
   ]
  },
  {
   "cell_type": "markdown",
   "id": "ff135d8f-2a18-4583-8747-68c2938e6b79",
   "metadata": {},
   "source": [
    "# race_id_list"
   ]
  },
  {
   "cell_type": "code",
   "execution_count": 97,
   "id": "ca02207f-1319-48d2-943f-195f395e1d70",
   "metadata": {},
   "outputs": [],
   "source": [
    "\n",
    "202205021011\n",
    "race_id_list = ['2022050211{}'.format(str(i).zfill(2)) for i in range(1,13)]\n",
    "# race_id_list += ['2022050209{}'.format(str(i).zfill(2)) for i in range(1,13)]\n",
    "\n",
    "race_id_list += ['2022070307{}'.format(str(i).zfill(2)) for i in range(1,13)]\n",
    "# race_id_list += ['2022070306{}'.format(str(i).zfill(2)) for i in range(1,13)]\n",
    "\n",
    "race_id_list += ['2022040107{}'.format(str(i).zfill(2)) for i in range(1,13)]\n",
    "# race_id_list += ['2022040106{}'.format(str(i).zfill(2)) for i in range(1,13)]\n",
    "\n"
   ]
  },
  {
   "cell_type": "code",
   "execution_count": null,
   "id": "cf10c50e",
   "metadata": {},
   "outputs": [],
   "source": [
    "    \n",
    "class Predictor(LearnLGBM):\n",
    "\n",
    "\n",
    "    def __init__(self,peds,results,horse_results,race_id_list):\n",
    "        super(Predictor, self).__init__(peds,results,horse_results)\n",
    "        self.race_id_list = race_id_list\n",
    "\n",
    "\n",
    "    def process_data(self):\n",
    "        race_id_list = self.race_id_list.copy()\n",
    "        data =  ShutubaTable.scrape(race_id_list, self.date)\n",
    "        self.data = data\n",
    "        peds = self.peds.copy()\n",
    "        results = self.results.copy()\n",
    "        horse_results = self.horse_results.copy()\n",
    "\n",
    "\n",
    "        nopeds_id_list = []\n",
    "        for ind in data['horse_id'].astype(int).unique():\n",
    "            if ind not in peds.index:\n",
    "                nopeds_id_list.append(str(ind))\n",
    "\n",
    "        if len(nopeds_id_list)!=0:\n",
    "            peds_tmp = Peds.scrape(nopeds_id_list)\n",
    "            pe_tmp = Peds(peds_tmp)\n",
    "            pe_tmp.regularize_peds() \n",
    "            new_peds = update_data(peds, pe_tmp.peds_re)\n",
    "        else:\n",
    "            new_peds = peds.copy()\n",
    "        self.peds = new_peds.copy()\n",
    "        path_ft = '/Users/rince/Desktop/Horse/code/horse/peds_ft.txt'\n",
    "        new_peds.to_csv(path_ft,header=False,index=False,sep=',')\n",
    "        self.learn_model_ft(path_ft=path_ft)\n",
    "        model_ft = self.get_model_ft()\n",
    "\n",
    "        pe = Peds(new_peds)\n",
    "        pe.regularize_peds()\n",
    "        pe.vectorize(pe.peds_re,model_ft)\n",
    "        self.pe = pe\n",
    "        print(\"pe finish\")\n",
    "        print(\"pe regularizrd\")\n",
    "\n",
    "        r = Results(results)\n",
    "        r.preprocessing()\n",
    "        horse_id_list = data['horse_id'].astype(str).unique()\n",
    "        horse_results_tmp = HorseResults.scrape(horse_id_list)\n",
    "        new_horse_results = update_data(horse_results,horse_results_tmp)\n",
    "        self.hores_results = new_horse_results.copy()\n",
    "        hr = HorseResults(new_horse_results)\n",
    "        self.hr = hr\n",
    "        print(\"hr finish\")\n",
    "\n",
    "        r.merge_horse_results(hr)\n",
    "        r.merge_peds(pe.peds_vec)\n",
    "        r.process_categorical()  \n",
    "        self.r = r\n",
    "    \n",
    "    \n",
    "    def predict(self, race_id):\n",
    "        data =  ShutubaTable.scrape([str(race_id)], self.date)\n",
    "        st = ShutubaTable(data)\n",
    "        st.preprocessing()\n",
    "        st.merge_horse_results(self.hr)\n",
    "        st.merge_peds(self.pe.peds_vec)\n",
    "        st.process_categorical(self.r.le_horse, self.r.le_jockey, self.r.data_pe)\n",
    "        self.st = st\n",
    "        sl = RankSimulater(self.model)\n",
    "        pred_table = sl.return_pred_table(st.data_c)\n",
    "        self.sl = sl\n",
    "        print(pred_table)\n",
    "            \n",
    "\n",
    "    def show_results_today(self):\n",
    "        data =  ShutubaTable.scrape(self.race_id_list, self.date)\n",
    "        self.data = data.copy()\n",
    "        st = ShutubaTable(self.data)\n",
    "        st.preprocessing()\n",
    "        st.merge_horse_results(self.hr)\n",
    "        st.merge_peds(self.pe.peds_vec)\n",
    "        st.process_categorical(self.r.le_horse, self.r.le_jockey, self.r.data_pe)\n",
    "        sl = RankSimulater(self.model)\n",
    "        sl.return_table_today(self.race_id_list)\n",
    "        sl.show_results_today(st ,self.race_id_list)"
   ]
  },
  {
   "cell_type": "code",
   "execution_count": null,
   "metadata": {},
   "outputs": [],
   "source": []
  },
  {
   "cell_type": "code",
   "execution_count": 98,
   "id": "869c4470",
   "metadata": {},
   "outputs": [
    {
     "data": {
      "application/vnd.jupyter.widget-view+json": {
       "model_id": "99fdf73daf6448f6b6cb6c70e9c9e73e",
       "version_major": 2,
       "version_minor": 0
      },
      "text/plain": [
       "HBox(children=(FloatProgress(value=0.0, max=36.0), HTML(value='')))"
      ]
     },
     "metadata": {},
     "output_type": "display_data"
    },
    {
     "name": "stdout",
     "output_type": "stream",
     "text": [
      "\n"
     ]
    },
    {
     "data": {
      "application/vnd.jupyter.widget-view+json": {
       "model_id": "58faf6278e17442aab6bea62032fbd5a",
       "version_major": 2,
       "version_minor": 0
      },
      "text/plain": [
       "HBox(children=(FloatProgress(value=0.0, max=14.0), HTML(value='')))"
      ]
     },
     "metadata": {},
     "output_type": "display_data"
    },
    {
     "name": "stdout",
     "output_type": "stream",
     "text": [
      "\n"
     ]
    },
    {
     "data": {
      "application/vnd.jupyter.widget-view+json": {
       "model_id": "62bea3497fba424ab0367354f6f36c7a",
       "version_major": 2,
       "version_minor": 0
      },
      "text/plain": [
       "HBox(children=(FloatProgress(value=0.0, max=14.0), HTML(value='')))"
      ]
     },
     "metadata": {},
     "output_type": "display_data"
    },
    {
     "name": "stdout",
     "output_type": "stream",
     "text": [
      "\n"
     ]
    },
    {
     "data": {
      "application/vnd.jupyter.widget-view+json": {
       "model_id": "18b21c69bd3641039632bccea0b4f9c6",
       "version_major": 2,
       "version_minor": 0
      },
      "text/plain": [
       "HBox(children=(FloatProgress(value=0.0, max=17630.0), HTML(value='')))"
      ]
     },
     "metadata": {},
     "output_type": "display_data"
    },
    {
     "name": "stdout",
     "output_type": "stream",
     "text": [
      "\n"
     ]
    },
    {
     "data": {
      "application/vnd.jupyter.widget-view+json": {
       "model_id": "8313951579b641ab9d60511de24bd8f8",
       "version_major": 2,
       "version_minor": 0
      },
      "text/plain": [
       "HBox(children=(FloatProgress(value=0.0, max=17630.0), HTML(value='')))"
      ]
     },
     "metadata": {},
     "output_type": "display_data"
    },
    {
     "name": "stdout",
     "output_type": "stream",
     "text": [
      "\n",
      "pe finish\n",
      "pe regularizrd\n"
     ]
    },
    {
     "data": {
      "application/vnd.jupyter.widget-view+json": {
       "model_id": "633a6c65eef448c4be8e9071f13bc099",
       "version_major": 2,
       "version_minor": 0
      },
      "text/plain": [
       "HBox(children=(FloatProgress(value=0.0, max=493.0), HTML(value='')))"
      ]
     },
     "metadata": {},
     "output_type": "display_data"
    },
    {
     "name": "stdout",
     "output_type": "stream",
     "text": [
      "[Errno 54] Connection reset by peer\n",
      "\n",
      "hr finish\n"
     ]
    },
    {
     "data": {
      "application/vnd.jupyter.widget-view+json": {
       "model_id": "72bfe21bfb114ac0a3c02a24dd5b20c8",
       "version_major": 2,
       "version_minor": 0
      },
      "text/plain": [
       "HBox(children=(FloatProgress(value=0.0, max=251.0), HTML(value='')))"
      ]
     },
     "metadata": {},
     "output_type": "display_data"
    },
    {
     "name": "stdout",
     "output_type": "stream",
     "text": [
      "\n"
     ]
    },
    {
     "data": {
      "application/vnd.jupyter.widget-view+json": {
       "model_id": "a27fa9eaf30b4387ac8ba3a36cf5a62c",
       "version_major": 2,
       "version_minor": 0
      },
      "text/plain": [
       "HBox(children=(FloatProgress(value=0.0, max=251.0), HTML(value='')))"
      ]
     },
     "metadata": {},
     "output_type": "display_data"
    },
    {
     "name": "stdout",
     "output_type": "stream",
     "text": [
      "\n"
     ]
    },
    {
     "data": {
      "application/vnd.jupyter.widget-view+json": {
       "model_id": "8b2a4b96473549139f3954a1fd5a7ecf",
       "version_major": 2,
       "version_minor": 0
      },
      "text/plain": [
       "HBox(children=(FloatProgress(value=0.0, max=251.0), HTML(value='')))"
      ]
     },
     "metadata": {},
     "output_type": "display_data"
    },
    {
     "name": "stdout",
     "output_type": "stream",
     "text": [
      "\n"
     ]
    },
    {
     "name": "stderr",
     "output_type": "stream",
     "text": [
      "/Users/rince/Library/Python/3.7/lib/python/site-packages/lightgbm/engine.py:151: UserWarning: Found `num_iterations` in params. Will use it instead of argument\n",
      "  warnings.warn(\"Found `{}` in params. Will use it instead of argument\".format(alias))\n"
     ]
    },
    {
     "name": "stdout",
     "output_type": "stream",
     "text": [
      "[LightGBM] [Warning] Auto-choosing col-wise multi-threading, the overhead of testing was 0.145745 seconds.\n",
      "You can set `force_col_wise=true` to remove the overhead.\n",
      "[LightGBM] [Info] Total Bins 46172\n",
      "[LightGBM] [Info] Number of data points in the train set: 87521, number of used features: 172\n"
     ]
    }
   ],
   "source": [
    "pt = Predictor(peds,results,horse_results,race_id_list)\n",
    "pt.learn_lgb(lgbm_params=lgbm_params)"
   ]
  },
  {
   "cell_type": "code",
   "execution_count": 130,
   "id": "2cae8252",
   "metadata": {},
   "outputs": [],
   "source": [
    "pt_model = pt.model\n",
    "ll_model = ll.model\n"
   ]
  },
  {
   "cell_type": "markdown",
   "id": "32941e34",
   "metadata": {},
   "source": [
    "# 東京"
   ]
  },
  {
   "cell_type": "code",
   "execution_count": 123,
   "id": "6aaf56de",
   "metadata": {},
   "outputs": [
    {
     "data": {
      "application/vnd.jupyter.widget-view+json": {
       "model_id": "185cbd524d1e428d93c2f2eb191b4a4a",
       "version_major": 2,
       "version_minor": 0
      },
      "text/plain": [
       "HBox(children=(FloatProgress(value=0.0, max=1.0), HTML(value='')))"
      ]
     },
     "metadata": {},
     "output_type": "display_data"
    },
    {
     "name": "stdout",
     "output_type": "stream",
     "text": [
      "\n"
     ]
    },
    {
     "data": {
      "application/vnd.jupyter.widget-view+json": {
       "model_id": "881029eae2f6487791942e3c789d5f5c",
       "version_major": 2,
       "version_minor": 0
      },
      "text/plain": [
       "HBox(children=(FloatProgress(value=0.0, max=1.0), HTML(value='')))"
      ]
     },
     "metadata": {},
     "output_type": "display_data"
    },
    {
     "name": "stdout",
     "output_type": "stream",
     "text": [
      "\n"
     ]
    },
    {
     "data": {
      "application/vnd.jupyter.widget-view+json": {
       "model_id": "f13dac93cee94047b2d2ca2a3046abb0",
       "version_major": 2,
       "version_minor": 0
      },
      "text/plain": [
       "HBox(children=(FloatProgress(value=0.0, max=1.0), HTML(value='')))"
      ]
     },
     "metadata": {},
     "output_type": "display_data"
    },
    {
     "name": "stdout",
     "output_type": "stream",
     "text": [
      "\n"
     ]
    },
    {
     "data": {
      "application/vnd.jupyter.widget-view+json": {
       "model_id": "bcb9eea8de3c4025951bc553fad4ce51",
       "version_major": 2,
       "version_minor": 0
      },
      "text/plain": [
       "HBox(children=(FloatProgress(value=0.0, max=1.0), HTML(value='')))"
      ]
     },
     "metadata": {},
     "output_type": "display_data"
    },
    {
     "name": "stdout",
     "output_type": "stream",
     "text": [
      "\n",
      "              馬番    scores\n",
      "202205021107   1 -0.937222\n",
      "202205021107   2 -0.937222\n",
      "202205021107   3 -0.937222\n",
      "202205021107   4 -0.937222\n",
      "202205021107   5 -0.937222\n"
     ]
    }
   ],
   "source": [
    "base  = '2022050211'\n",
    "pt.predict(base+'07')"
   ]
  },
  {
   "cell_type": "markdown",
   "id": "c3b57a3d",
   "metadata": {},
   "source": [
    "# 中京"
   ]
  },
  {
   "cell_type": "code",
   "execution_count": 126,
   "id": "a6722cba",
   "metadata": {},
   "outputs": [
    {
     "data": {
      "application/vnd.jupyter.widget-view+json": {
       "model_id": "f9bc51e1f0374b5f9418d7468f9cc2b5",
       "version_major": 2,
       "version_minor": 0
      },
      "text/plain": [
       "HBox(children=(FloatProgress(value=0.0, max=1.0), HTML(value='')))"
      ]
     },
     "metadata": {},
     "output_type": "display_data"
    },
    {
     "name": "stdout",
     "output_type": "stream",
     "text": [
      "\n"
     ]
    },
    {
     "data": {
      "application/vnd.jupyter.widget-view+json": {
       "model_id": "a53ff9b35852410d9002094072c42c9e",
       "version_major": 2,
       "version_minor": 0
      },
      "text/plain": [
       "HBox(children=(FloatProgress(value=0.0, max=1.0), HTML(value='')))"
      ]
     },
     "metadata": {},
     "output_type": "display_data"
    },
    {
     "name": "stdout",
     "output_type": "stream",
     "text": [
      "\n"
     ]
    },
    {
     "data": {
      "application/vnd.jupyter.widget-view+json": {
       "model_id": "3694ef47131e4421b22d9a4be755518d",
       "version_major": 2,
       "version_minor": 0
      },
      "text/plain": [
       "HBox(children=(FloatProgress(value=0.0, max=1.0), HTML(value='')))"
      ]
     },
     "metadata": {},
     "output_type": "display_data"
    },
    {
     "name": "stdout",
     "output_type": "stream",
     "text": [
      "\n"
     ]
    },
    {
     "data": {
      "application/vnd.jupyter.widget-view+json": {
       "model_id": "9570cb3342b84b98b93fd241f0d5929f",
       "version_major": 2,
       "version_minor": 0
      },
      "text/plain": [
       "HBox(children=(FloatProgress(value=0.0, max=1.0), HTML(value='')))"
      ]
     },
     "metadata": {},
     "output_type": "display_data"
    },
    {
     "name": "stdout",
     "output_type": "stream",
     "text": [
      "\n",
      "              馬番    scores\n",
      "202207030707   2  0.696487\n",
      "202207030707   9 -0.046694\n",
      "202207030707   4 -0.578141\n",
      "202207030707   3 -0.645620\n",
      "202207030707   7 -0.959719\n",
      "202207030707   1 -1.013527\n",
      "202207030707   6 -1.013527\n",
      "202207030707   8 -1.013527\n",
      "202207030707   5 -1.040436\n"
     ]
    },
    {
     "data": {
      "application/vnd.jupyter.widget-view+json": {
       "model_id": "efdd0b0c192a474aa6d909d2c87fd42c",
       "version_major": 2,
       "version_minor": 0
      },
      "text/plain": [
       "HBox(children=(FloatProgress(value=0.0, max=1.0), HTML(value='')))"
      ]
     },
     "metadata": {},
     "output_type": "display_data"
    },
    {
     "name": "stdout",
     "output_type": "stream",
     "text": [
      "\n"
     ]
    },
    {
     "data": {
      "application/vnd.jupyter.widget-view+json": {
       "model_id": "d953a7785d3f4b33b55c5c50352c7316",
       "version_major": 2,
       "version_minor": 0
      },
      "text/plain": [
       "HBox(children=(FloatProgress(value=0.0, max=1.0), HTML(value='')))"
      ]
     },
     "metadata": {},
     "output_type": "display_data"
    },
    {
     "name": "stdout",
     "output_type": "stream",
     "text": [
      "\n"
     ]
    },
    {
     "data": {
      "application/vnd.jupyter.widget-view+json": {
       "model_id": "df4da55e3a394515af52fa50bcd23648",
       "version_major": 2,
       "version_minor": 0
      },
      "text/plain": [
       "HBox(children=(FloatProgress(value=0.0, max=1.0), HTML(value='')))"
      ]
     },
     "metadata": {},
     "output_type": "display_data"
    },
    {
     "name": "stdout",
     "output_type": "stream",
     "text": [
      "\n"
     ]
    },
    {
     "data": {
      "application/vnd.jupyter.widget-view+json": {
       "model_id": "8318a8aeaeb7479ba7bdb5513e808585",
       "version_major": 2,
       "version_minor": 0
      },
      "text/plain": [
       "HBox(children=(FloatProgress(value=0.0, max=1.0), HTML(value='')))"
      ]
     },
     "metadata": {},
     "output_type": "display_data"
    },
    {
     "name": "stdout",
     "output_type": "stream",
     "text": [
      "\n",
      "              馬番    scores\n",
      "202207030708  10  0.562001\n",
      "202207030708   6 -0.246847\n",
      "202207030708   3 -0.349187\n",
      "202207030708  11 -0.961065\n",
      "202207030708   2 -0.962900\n",
      "202207030708   8 -0.965341\n",
      "202207030708   1 -0.979633\n",
      "202207030708   5 -0.983140\n",
      "202207030708   7 -1.009615\n",
      "202207030708   4 -1.013527\n",
      "202207030708   9 -1.013527\n"
     ]
    },
    {
     "data": {
      "application/vnd.jupyter.widget-view+json": {
       "model_id": "fef9fccdaf6f43eabdc95cbd2e4bc981",
       "version_major": 2,
       "version_minor": 0
      },
      "text/plain": [
       "HBox(children=(FloatProgress(value=0.0, max=1.0), HTML(value='')))"
      ]
     },
     "metadata": {},
     "output_type": "display_data"
    },
    {
     "name": "stdout",
     "output_type": "stream",
     "text": [
      "\n"
     ]
    },
    {
     "data": {
      "application/vnd.jupyter.widget-view+json": {
       "model_id": "877e1a88992742d681d5b68e075b06dc",
       "version_major": 2,
       "version_minor": 0
      },
      "text/plain": [
       "HBox(children=(FloatProgress(value=0.0, max=1.0), HTML(value='')))"
      ]
     },
     "metadata": {},
     "output_type": "display_data"
    },
    {
     "name": "stdout",
     "output_type": "stream",
     "text": [
      "\n"
     ]
    },
    {
     "data": {
      "application/vnd.jupyter.widget-view+json": {
       "model_id": "78837577b9c542c689d373130a9bb24f",
       "version_major": 2,
       "version_minor": 0
      },
      "text/plain": [
       "HBox(children=(FloatProgress(value=0.0, max=1.0), HTML(value='')))"
      ]
     },
     "metadata": {},
     "output_type": "display_data"
    },
    {
     "name": "stdout",
     "output_type": "stream",
     "text": [
      "\n"
     ]
    },
    {
     "data": {
      "application/vnd.jupyter.widget-view+json": {
       "model_id": "b065cf401d5f476087a9d620b0d539d0",
       "version_major": 2,
       "version_minor": 0
      },
      "text/plain": [
       "HBox(children=(FloatProgress(value=0.0, max=1.0), HTML(value='')))"
      ]
     },
     "metadata": {},
     "output_type": "display_data"
    },
    {
     "name": "stdout",
     "output_type": "stream",
     "text": [
      "\n",
      "              馬番    scores\n",
      "202207030709   9  1.010790\n",
      "202207030709   1  0.856161\n",
      "202207030709   7  0.677173\n",
      "202207030709   2  0.353756\n",
      "202207030709   8  0.048342\n",
      "202207030709   5 -0.160111\n",
      "202207030709   3 -0.506173\n",
      "202207030709   4 -0.841543\n",
      "202207030709   6 -0.973623\n"
     ]
    },
    {
     "data": {
      "application/vnd.jupyter.widget-view+json": {
       "model_id": "f6b97e8f82eb4123b68f09295d698d55",
       "version_major": 2,
       "version_minor": 0
      },
      "text/plain": [
       "HBox(children=(FloatProgress(value=0.0, max=1.0), HTML(value='')))"
      ]
     },
     "metadata": {},
     "output_type": "display_data"
    },
    {
     "name": "stdout",
     "output_type": "stream",
     "text": [
      "\n"
     ]
    },
    {
     "data": {
      "application/vnd.jupyter.widget-view+json": {
       "model_id": "b76ede05a2084f5696a1a5209d5d23f8",
       "version_major": 2,
       "version_minor": 0
      },
      "text/plain": [
       "HBox(children=(FloatProgress(value=0.0, max=1.0), HTML(value='')))"
      ]
     },
     "metadata": {},
     "output_type": "display_data"
    },
    {
     "name": "stdout",
     "output_type": "stream",
     "text": [
      "\n"
     ]
    },
    {
     "data": {
      "application/vnd.jupyter.widget-view+json": {
       "model_id": "515e9b1cbe6741ab938c06b89894cdcb",
       "version_major": 2,
       "version_minor": 0
      },
      "text/plain": [
       "HBox(children=(FloatProgress(value=0.0, max=1.0), HTML(value='')))"
      ]
     },
     "metadata": {},
     "output_type": "display_data"
    },
    {
     "name": "stdout",
     "output_type": "stream",
     "text": [
      "\n"
     ]
    },
    {
     "data": {
      "application/vnd.jupyter.widget-view+json": {
       "model_id": "85f9272cf60a41408ce099c5b70207d3",
       "version_major": 2,
       "version_minor": 0
      },
      "text/plain": [
       "HBox(children=(FloatProgress(value=0.0, max=1.0), HTML(value='')))"
      ]
     },
     "metadata": {},
     "output_type": "display_data"
    },
    {
     "name": "stdout",
     "output_type": "stream",
     "text": [
      "\n",
      "              馬番    scores\n",
      "202207030710  12  1.199838\n",
      "202207030710   8  0.937684\n",
      "202207030710   2  0.475729\n",
      "202207030710  13  0.469457\n",
      "202207030710  15  0.090732\n",
      "202207030710  14 -0.228860\n",
      "202207030710   6 -0.358393\n",
      "202207030710  11 -0.440840\n",
      "202207030710   4 -0.666071\n",
      "202207030710  10 -0.713065\n",
      "202207030710  16 -0.762253\n",
      "202207030710   1 -0.803113\n",
      "202207030710   9 -0.877766\n",
      "202207030710   5 -0.913407\n",
      "202207030710   3 -1.013527\n",
      "202207030710   7 -1.013527\n"
     ]
    },
    {
     "data": {
      "application/vnd.jupyter.widget-view+json": {
       "model_id": "34343c04b99d45a9b124896433778189",
       "version_major": 2,
       "version_minor": 0
      },
      "text/plain": [
       "HBox(children=(FloatProgress(value=0.0, max=1.0), HTML(value='')))"
      ]
     },
     "metadata": {},
     "output_type": "display_data"
    },
    {
     "name": "stdout",
     "output_type": "stream",
     "text": [
      "\n"
     ]
    },
    {
     "data": {
      "application/vnd.jupyter.widget-view+json": {
       "model_id": "27bb249422884a66a48d29c76cc6bd0d",
       "version_major": 2,
       "version_minor": 0
      },
      "text/plain": [
       "HBox(children=(FloatProgress(value=0.0, max=1.0), HTML(value='')))"
      ]
     },
     "metadata": {},
     "output_type": "display_data"
    },
    {
     "name": "stdout",
     "output_type": "stream",
     "text": [
      "\n"
     ]
    },
    {
     "data": {
      "application/vnd.jupyter.widget-view+json": {
       "model_id": "1d22b879e24447c395a4c0961b1accb5",
       "version_major": 2,
       "version_minor": 0
      },
      "text/plain": [
       "HBox(children=(FloatProgress(value=0.0, max=1.0), HTML(value='')))"
      ]
     },
     "metadata": {},
     "output_type": "display_data"
    },
    {
     "name": "stdout",
     "output_type": "stream",
     "text": [
      "\n"
     ]
    },
    {
     "data": {
      "application/vnd.jupyter.widget-view+json": {
       "model_id": "466a53b7d70549fb9d62780fb4e6e1d9",
       "version_major": 2,
       "version_minor": 0
      },
      "text/plain": [
       "HBox(children=(FloatProgress(value=0.0, max=1.0), HTML(value='')))"
      ]
     },
     "metadata": {},
     "output_type": "display_data"
    },
    {
     "name": "stdout",
     "output_type": "stream",
     "text": [
      "\n",
      "              馬番    scores\n",
      "202207030711   7  0.796032\n",
      "202207030711   9 -0.020983\n",
      "202207030711  15 -0.231673\n",
      "202207030711   5 -0.476024\n",
      "202207030711  11 -0.937222\n",
      "202207030711  16 -0.937222\n",
      "202207030711  14 -0.937222\n",
      "202207030711  13 -0.937222\n",
      "202207030711  12 -0.937222\n",
      "202207030711   1 -0.937222\n",
      "202207030711  10 -0.937222\n",
      "202207030711   2 -0.937222\n",
      "202207030711   8 -0.937222\n",
      "202207030711   6 -0.937222\n",
      "202207030711   4 -0.937222\n",
      "202207030711   3 -0.937222\n",
      "202207030711  17 -0.937222\n"
     ]
    }
   ],
   "source": [
    "base  = '2022070307'\n",
    "for i in ['07','08','09','10','11']:\n",
    "    pt.predict(base+i)"
   ]
  },
  {
   "cell_type": "markdown",
   "id": "278e1ee5",
   "metadata": {},
   "source": [
    "# 新潟"
   ]
  },
  {
   "cell_type": "code",
   "execution_count": 127,
   "id": "844e1f79",
   "metadata": {},
   "outputs": [
    {
     "data": {
      "application/vnd.jupyter.widget-view+json": {
       "model_id": "a57848cb413e4259972bc5f28a286da9",
       "version_major": 2,
       "version_minor": 0
      },
      "text/plain": [
       "HBox(children=(FloatProgress(value=0.0, max=1.0), HTML(value='')))"
      ]
     },
     "metadata": {},
     "output_type": "display_data"
    },
    {
     "name": "stdout",
     "output_type": "stream",
     "text": [
      "\n"
     ]
    },
    {
     "data": {
      "application/vnd.jupyter.widget-view+json": {
       "model_id": "57ae9eb60d50496eb188092bd5d20ee3",
       "version_major": 2,
       "version_minor": 0
      },
      "text/plain": [
       "HBox(children=(FloatProgress(value=0.0, max=1.0), HTML(value='')))"
      ]
     },
     "metadata": {},
     "output_type": "display_data"
    },
    {
     "name": "stdout",
     "output_type": "stream",
     "text": [
      "\n"
     ]
    },
    {
     "data": {
      "application/vnd.jupyter.widget-view+json": {
       "model_id": "b7ff4ce3cae94e2b8a3e3c34145cd592",
       "version_major": 2,
       "version_minor": 0
      },
      "text/plain": [
       "HBox(children=(FloatProgress(value=0.0, max=1.0), HTML(value='')))"
      ]
     },
     "metadata": {},
     "output_type": "display_data"
    },
    {
     "name": "stdout",
     "output_type": "stream",
     "text": [
      "\n"
     ]
    },
    {
     "data": {
      "application/vnd.jupyter.widget-view+json": {
       "model_id": "e1a895a7791e40b095ec91f957b7d863",
       "version_major": 2,
       "version_minor": 0
      },
      "text/plain": [
       "HBox(children=(FloatProgress(value=0.0, max=1.0), HTML(value='')))"
      ]
     },
     "metadata": {},
     "output_type": "display_data"
    },
    {
     "name": "stdout",
     "output_type": "stream",
     "text": [
      "\n",
      "              馬番    scores\n",
      "202204010707  15 -0.346881\n",
      "202204010707  16 -0.573098\n",
      "202204010707   1 -0.937222\n",
      "202204010707   2 -0.937222\n",
      "202204010707   3 -0.937222\n",
      "202204010707   4 -0.937222\n",
      "202204010707   5 -0.937222\n",
      "202204010707   6 -0.937222\n",
      "202204010707   7 -0.937222\n",
      "202204010707   8 -0.937222\n",
      "202204010707   9 -0.937222\n",
      "202204010707  10 -0.937222\n",
      "202204010707  11 -0.937222\n",
      "202204010707  12 -0.937222\n",
      "202204010707  13 -0.937222\n",
      "202204010707  14 -1.387775\n"
     ]
    },
    {
     "data": {
      "application/vnd.jupyter.widget-view+json": {
       "model_id": "ec29fd76054244e3b5e2db4cc30876e2",
       "version_major": 2,
       "version_minor": 0
      },
      "text/plain": [
       "HBox(children=(FloatProgress(value=0.0, max=1.0), HTML(value='')))"
      ]
     },
     "metadata": {},
     "output_type": "display_data"
    },
    {
     "name": "stdout",
     "output_type": "stream",
     "text": [
      "\n"
     ]
    },
    {
     "data": {
      "application/vnd.jupyter.widget-view+json": {
       "model_id": "22ca8914fbbd44d79fd433a9d140b1f6",
       "version_major": 2,
       "version_minor": 0
      },
      "text/plain": [
       "HBox(children=(FloatProgress(value=0.0, max=1.0), HTML(value='')))"
      ]
     },
     "metadata": {},
     "output_type": "display_data"
    },
    {
     "name": "stdout",
     "output_type": "stream",
     "text": [
      "\n"
     ]
    },
    {
     "data": {
      "application/vnd.jupyter.widget-view+json": {
       "model_id": "56e86e0165b645c8a54ba75461995f94",
       "version_major": 2,
       "version_minor": 0
      },
      "text/plain": [
       "HBox(children=(FloatProgress(value=0.0, max=1.0), HTML(value='')))"
      ]
     },
     "metadata": {},
     "output_type": "display_data"
    },
    {
     "name": "stdout",
     "output_type": "stream",
     "text": [
      "\n"
     ]
    },
    {
     "data": {
      "application/vnd.jupyter.widget-view+json": {
       "model_id": "82f71cde210342f7bc33fa6312a1f0a9",
       "version_major": 2,
       "version_minor": 0
      },
      "text/plain": [
       "HBox(children=(FloatProgress(value=0.0, max=1.0), HTML(value='')))"
      ]
     },
     "metadata": {},
     "output_type": "display_data"
    },
    {
     "name": "stdout",
     "output_type": "stream",
     "text": [
      "\n",
      "              馬番    scores\n",
      "202204010708   6 -0.266327\n",
      "202204010708  13 -0.318116\n",
      "202204010708   5 -0.455465\n",
      "202204010708   4 -0.475451\n",
      "202204010708  12 -0.510336\n",
      "202204010708   3 -0.571341\n",
      "202204010708   2 -0.791436\n",
      "202204010708   7 -1.169820\n",
      "202204010708   1 -1.233953\n",
      "202204010708   8 -1.289030\n",
      "202204010708   9 -1.328527\n",
      "202204010708  11 -1.516580\n",
      "202204010708  10 -1.695328\n"
     ]
    },
    {
     "data": {
      "application/vnd.jupyter.widget-view+json": {
       "model_id": "d140523e6d2f49be924a4c47f4edaec5",
       "version_major": 2,
       "version_minor": 0
      },
      "text/plain": [
       "HBox(children=(FloatProgress(value=0.0, max=1.0), HTML(value='')))"
      ]
     },
     "metadata": {},
     "output_type": "display_data"
    },
    {
     "name": "stdout",
     "output_type": "stream",
     "text": [
      "\n"
     ]
    },
    {
     "data": {
      "application/vnd.jupyter.widget-view+json": {
       "model_id": "41d5e9acedb9404095b38c6a2bd396a0",
       "version_major": 2,
       "version_minor": 0
      },
      "text/plain": [
       "HBox(children=(FloatProgress(value=0.0, max=1.0), HTML(value='')))"
      ]
     },
     "metadata": {},
     "output_type": "display_data"
    },
    {
     "name": "stdout",
     "output_type": "stream",
     "text": [
      "\n"
     ]
    },
    {
     "data": {
      "application/vnd.jupyter.widget-view+json": {
       "model_id": "9ffeca2bd74d400cbddc182b4ea4d87c",
       "version_major": 2,
       "version_minor": 0
      },
      "text/plain": [
       "HBox(children=(FloatProgress(value=0.0, max=1.0), HTML(value='')))"
      ]
     },
     "metadata": {},
     "output_type": "display_data"
    },
    {
     "name": "stdout",
     "output_type": "stream",
     "text": [
      "\n"
     ]
    },
    {
     "data": {
      "application/vnd.jupyter.widget-view+json": {
       "model_id": "940cb477c464440d9987bcb67f04969d",
       "version_major": 2,
       "version_minor": 0
      },
      "text/plain": [
       "HBox(children=(FloatProgress(value=0.0, max=1.0), HTML(value='')))"
      ]
     },
     "metadata": {},
     "output_type": "display_data"
    },
    {
     "name": "stdout",
     "output_type": "stream",
     "text": [
      "\n",
      "              馬番    scores\n",
      "202204010709   7 -0.166273\n",
      "202204010709  16 -0.320507\n",
      "202204010709  12 -0.405103\n",
      "202204010709   6 -0.447879\n",
      "202204010709   4 -0.451738\n",
      "202204010709   9 -0.517426\n",
      "202204010709  10 -0.657550\n",
      "202204010709   1 -0.681184\n",
      "202204010709  13 -0.701236\n",
      "202204010709  11 -0.811603\n",
      "202204010709  14 -0.956243\n",
      "202204010709  15 -1.033229\n",
      "202204010709   5 -1.046215\n",
      "202204010709   2 -1.154096\n",
      "202204010709   3 -1.179329\n",
      "202204010709   8 -1.275510\n"
     ]
    },
    {
     "data": {
      "application/vnd.jupyter.widget-view+json": {
       "model_id": "547cbcfde77440298963005d2ca4cbdc",
       "version_major": 2,
       "version_minor": 0
      },
      "text/plain": [
       "HBox(children=(FloatProgress(value=0.0, max=1.0), HTML(value='')))"
      ]
     },
     "metadata": {},
     "output_type": "display_data"
    },
    {
     "name": "stdout",
     "output_type": "stream",
     "text": [
      "\n"
     ]
    },
    {
     "data": {
      "application/vnd.jupyter.widget-view+json": {
       "model_id": "a503ea95f1404d7c8c08262014e0f90b",
       "version_major": 2,
       "version_minor": 0
      },
      "text/plain": [
       "HBox(children=(FloatProgress(value=0.0, max=1.0), HTML(value='')))"
      ]
     },
     "metadata": {},
     "output_type": "display_data"
    },
    {
     "name": "stdout",
     "output_type": "stream",
     "text": [
      "\n"
     ]
    },
    {
     "data": {
      "application/vnd.jupyter.widget-view+json": {
       "model_id": "ad42bd6fc4df4c94bfd1b606e4e96908",
       "version_major": 2,
       "version_minor": 0
      },
      "text/plain": [
       "HBox(children=(FloatProgress(value=0.0, max=1.0), HTML(value='')))"
      ]
     },
     "metadata": {},
     "output_type": "display_data"
    },
    {
     "name": "stdout",
     "output_type": "stream",
     "text": [
      "\n"
     ]
    },
    {
     "data": {
      "application/vnd.jupyter.widget-view+json": {
       "model_id": "6b8c1dc00879408da2d7db6336ee3f54",
       "version_major": 2,
       "version_minor": 0
      },
      "text/plain": [
       "HBox(children=(FloatProgress(value=0.0, max=1.0), HTML(value='')))"
      ]
     },
     "metadata": {},
     "output_type": "display_data"
    },
    {
     "name": "stdout",
     "output_type": "stream",
     "text": [
      "\n",
      "              馬番    scores\n",
      "202204010710  12  0.014143\n",
      "202204010710  10 -0.217982\n",
      "202204010710   8 -0.270307\n",
      "202204010710  13 -0.332014\n",
      "202204010710   6 -0.345817\n",
      "202204010710   7 -0.464156\n",
      "202204010710  14 -0.472230\n",
      "202204010710   2 -0.846489\n",
      "202204010710   4 -1.066491\n",
      "202204010710   1 -1.082784\n",
      "202204010710  11 -1.183934\n",
      "202204010710   9 -1.190904\n",
      "202204010710   3 -1.224308\n",
      "202204010710   5 -1.265969\n"
     ]
    },
    {
     "data": {
      "application/vnd.jupyter.widget-view+json": {
       "model_id": "2ff78a0329534420bb5ef208bcae8eb3",
       "version_major": 2,
       "version_minor": 0
      },
      "text/plain": [
       "HBox(children=(FloatProgress(value=0.0, max=1.0), HTML(value='')))"
      ]
     },
     "metadata": {},
     "output_type": "display_data"
    },
    {
     "name": "stdout",
     "output_type": "stream",
     "text": [
      "\n"
     ]
    },
    {
     "data": {
      "application/vnd.jupyter.widget-view+json": {
       "model_id": "7a20a59c96804f0d8570cb2fa8c44211",
       "version_major": 2,
       "version_minor": 0
      },
      "text/plain": [
       "HBox(children=(FloatProgress(value=0.0, max=1.0), HTML(value='')))"
      ]
     },
     "metadata": {},
     "output_type": "display_data"
    },
    {
     "name": "stdout",
     "output_type": "stream",
     "text": [
      "\n"
     ]
    },
    {
     "data": {
      "application/vnd.jupyter.widget-view+json": {
       "model_id": "5fe1822fe78d4a88b7b568baae883aca",
       "version_major": 2,
       "version_minor": 0
      },
      "text/plain": [
       "HBox(children=(FloatProgress(value=0.0, max=1.0), HTML(value='')))"
      ]
     },
     "metadata": {},
     "output_type": "display_data"
    },
    {
     "name": "stdout",
     "output_type": "stream",
     "text": [
      "\n"
     ]
    },
    {
     "data": {
      "application/vnd.jupyter.widget-view+json": {
       "model_id": "8328b2af95d14ba7a5e3a1ed4d1d909e",
       "version_major": 2,
       "version_minor": 0
      },
      "text/plain": [
       "HBox(children=(FloatProgress(value=0.0, max=1.0), HTML(value='')))"
      ]
     },
     "metadata": {},
     "output_type": "display_data"
    },
    {
     "name": "stdout",
     "output_type": "stream",
     "text": [
      "\n",
      "              馬番    scores\n",
      "202204010711   8  0.655819\n",
      "202204010711   2  0.597485\n",
      "202204010711  12  0.008215\n",
      "202204010711   3 -0.042368\n",
      "202204010711  11 -0.259554\n",
      "202204010711  10 -0.366296\n",
      "202204010711   4 -0.477588\n",
      "202204010711   5 -0.586729\n",
      "202204010711   1 -0.706779\n",
      "202204010711   9 -1.067775\n",
      "202204010711   6 -1.407519\n",
      "202204010711   7 -1.818734\n"
     ]
    }
   ],
   "source": [
    "base  = '2022040107'\n",
    "for i in ['07','08','09','10','11']:\n",
    "    pt.predict(base+i)"
   ]
  },
  {
   "cell_type": "code",
   "execution_count": 132,
   "id": "4324e2ff",
   "metadata": {},
   "outputs": [
    {
     "data": {
      "application/vnd.jupyter.widget-view+json": {
       "model_id": "3f3d0e2db184401c9538e9419baf3d41",
       "version_major": 2,
       "version_minor": 0
      },
      "text/plain": [
       "HBox(children=(FloatProgress(value=0.0, max=36.0), HTML(value='')))"
      ]
     },
     "metadata": {},
     "output_type": "display_data"
    }
   ],
   "source": [
    "pt.model = pt_model\n",
    "pt.show_results_today()"
   ]
  },
  {
   "cell_type": "markdown",
   "id": "fd8b97e7-5e69-4334-a268-c7a57eaa10d8",
   "metadata": {},
   "source": [
    "# 日付に注意"
   ]
  },
  {
   "cell_type": "code",
   "execution_count": 3,
   "id": "5e00c431-6a37-4f54-bfd3-7a1cc01780cc",
   "metadata": {},
   "outputs": [],
   "source": [
    "date = '2022/12/31'"
   ]
  },
  {
   "cell_type": "markdown",
   "id": "fd8ec390-bc7f-4821-8417-76382d034041",
   "metadata": {},
   "source": [
    "# Results scraping"
   ]
  },
  {
   "cell_type": "code",
   "execution_count": 5,
   "id": "131add0a-4ac5-4133-b242-3fa2109a4762",
   "metadata": {
    "tags": []
   },
   "outputs": [
    {
     "data": {
      "application/vnd.jupyter.widget-view+json": {
       "model_id": "80bdd48bacb7410a9e443122ce3ff208",
       "version_major": 2,
       "version_minor": 0
      },
      "text/plain": [
       "HBox(children=(FloatProgress(value=0.0, max=72.0), HTML(value='')))"
      ]
     },
     "metadata": {},
     "output_type": "display_data"
    },
    {
     "name": "stdout",
     "output_type": "stream",
     "text": [
      "\n"
     ]
    }
   ],
   "source": [
    "# race_id_list = results.index.astype('str')\n",
    "\n",
    "results_tmp = Results.scrape(race_id_list)"
   ]
  },
  {
   "cell_type": "markdown",
   "id": "3c0ac189-894a-48ac-adb2-4e731640bc5c",
   "metadata": {},
   "source": [
    "# Horse_results scraping"
   ]
  },
  {
   "cell_type": "code",
   "execution_count": 6,
   "id": "1fb495b3-1044-4b5a-afdc-cdf1b60aa6f8",
   "metadata": {},
   "outputs": [
    {
     "data": {
      "application/vnd.jupyter.widget-view+json": {
       "model_id": "7bb24435992a4b92bf08817c2109697f",
       "version_major": 2,
       "version_minor": 0
      },
      "text/plain": [
       "HBox(children=(FloatProgress(value=0.0, max=991.0), HTML(value='')))"
      ]
     },
     "metadata": {},
     "output_type": "display_data"
    },
    {
     "name": "stdout",
     "output_type": "stream",
     "text": [
      "\n"
     ]
    }
   ],
   "source": [
    "horse_id_list = results_tmp['horse_id'].astype(str).unique()\n",
    "horse_results_tmp = HorseResults.scrape(horse_id_list)\n",
    "# save_path = '/Users/rince/Desktop/Horse/Data/horse_2020.csv'"
   ]
  },
  {
   "cell_type": "markdown",
   "id": "c1569216-aa8f-40a3-8303-5d54a442b00e",
   "metadata": {},
   "source": [
    "# Peds scraping"
   ]
  },
  {
   "cell_type": "code",
   "execution_count": 7,
   "id": "56d56e6b-7a60-4721-a111-892aafa204d9",
   "metadata": {},
   "outputs": [
    {
     "data": {
      "application/vnd.jupyter.widget-view+json": {
       "model_id": "efcf9ba46ab342f78fee6f23df8d5b45",
       "version_major": 2,
       "version_minor": 0
      },
      "text/plain": [
       "HBox(children=(FloatProgress(value=0.0, max=991.0), HTML(value='')))"
      ]
     },
     "metadata": {},
     "output_type": "display_data"
    },
    {
     "name": "stdout",
     "output_type": "stream",
     "text": [
      "\n"
     ]
    },
    {
     "data": {
      "application/vnd.jupyter.widget-view+json": {
       "model_id": "67fbeaa6c8e644de80d86b1a53f38f44",
       "version_major": 2,
       "version_minor": 0
      },
      "text/plain": [
       "HBox(children=(FloatProgress(value=0.0, max=991.0), HTML(value='')))"
      ]
     },
     "metadata": {},
     "output_type": "display_data"
    },
    {
     "name": "stdout",
     "output_type": "stream",
     "text": [
      "\n"
     ]
    }
   ],
   "source": [
    "peds_2021 = Peds.scrape(horse_id_list)\n",
    "pe_2021 = Peds(peds_2021)\n",
    "pe_2021.regularize_peds()\n",
    "peds_tmp = pe_2021.peds_re"
   ]
  },
  {
   "cell_type": "markdown",
   "id": "2d1db0da-3505-4825-8408-e7dd58205c96",
   "metadata": {},
   "source": [
    "# Return scraping"
   ]
  },
  {
   "cell_type": "code",
   "execution_count": 52,
   "id": "56a4d97d-94cc-477f-b643-5144c7173613",
   "metadata": {},
   "outputs": [
    {
     "data": {
      "application/vnd.jupyter.widget-view+json": {
       "model_id": "2f847334fad74da6a8779695fca11ed0",
       "version_major": 2,
       "version_minor": 0
      },
      "text/plain": [
       "HBox(children=(FloatProgress(value=0.0, max=6625.0), HTML(value='')))"
      ]
     },
     "metadata": {},
     "output_type": "display_data"
    },
    {
     "name": "stdout",
     "output_type": "stream",
     "text": [
      "\n"
     ]
    }
   ],
   "source": [
    "returns_tmp = Return.scrape(race_id_list)\n"
   ]
  },
  {
   "cell_type": "markdown",
   "id": "6e175b9a-1a2d-4d5d-a5e2-e771c86dd8d2",
   "metadata": {},
   "source": [
    "# update"
   ]
  },
  {
   "cell_type": "code",
   "execution_count": 53,
   "id": "428fa2b8-2058-4c1d-af05-ec10e9f3768d",
   "metadata": {},
   "outputs": [],
   "source": [
    "new_results = update_data(load_csv(path_mac+'results.csv'),results_tmp)\n",
    "new_horse_results = update_data(load_csv(path_mac+'horse_results.csv'),horse_results_tmp)\n",
    "new_peds = update_data(load_csv(path_mac+'peds.csv'),peds_tmp)\n",
    "returns = load_csv(path_mac+'return.csv').rename(columns={'0':0,'1':1,'2':2,'3':3},inplace=True)\n",
    "returns_tmp = returns_tmp.rename(columns={'0':0,'1':1,'2':2,'3':3},inplace=True)\n",
    "new_return = update_data(returns,returns_tmp)\n"
   ]
  },
  {
   "cell_type": "markdown",
   "id": "d77364dd-545a-43d4-97aa-070ca0595356",
   "metadata": {},
   "source": [
    "# save"
   ]
  },
  {
   "cell_type": "code",
   "execution_count": 89,
   "id": "875dc8e7-f696-4b78-933d-4f62f3603430",
   "metadata": {},
   "outputs": [],
   "source": [
    "new_results.to_csv(path_mac+'results.csv')\n",
    "new_horse_results.to_csv(path_mac+'horse_results.csv')\n",
    "new_peds.to_csv(path_mac+'peds.csv')\n",
    "new_return.to_csv(path_mac+'return.csv')"
   ]
  },
  {
   "cell_type": "markdown",
   "id": "4bb0ca11-eae4-4d5e-b833-3184f6e85f85",
   "metadata": {},
   "source": [
    "# 重要度"
   ]
  },
  {
   "cell_type": "code",
   "execution_count": null,
   "id": "c64f0ed3-8651-4105-aa14-83bfa45b20c9",
   "metadata": {
    "tags": []
   },
   "outputs": [],
   "source": [
    "importances = pd.DataFrame(\n",
    "{'features' : x_train.columns, 'importances' : lgb_rank.feature_importance()})\n",
    "print(importances.sort_values('importances', ascending=False)[:30])"
   ]
  },
  {
   "cell_type": "markdown",
   "id": "d5dc1142-ff9b-4568-80b8-18ef0d9010c1",
   "metadata": {},
   "source": [
    "# fastText"
   ]
  },
  {
   "cell_type": "markdown",
   "id": "ea29d7bf-5052-44dc-ac80-dea59ed65444",
   "metadata": {},
   "source": [
    "流れ\n",
    "1. fasttext用の血統データの学習データを作る (血統の情報のみ, index ヘッダはいらない)\n",
    "2. fasttext学習\n",
    "3. 学習モデルを使って, 血統データをベクトル化\n",
    "4. ベクトル化して r.data_cに concat\n",
    "5. 学習\n"
   ]
  },
  {
   "cell_type": "markdown",
   "id": "23d375b9-e292-4d4a-97c2-905e3060419f",
   "metadata": {},
   "source": [
    "教師あり, 教師なしでも生成されるベクトルは等しい"
   ]
  },
  {
   "cell_type": "markdown",
   "id": "4de5229f-9b05-4bc1-820a-0e275a1d6c8f",
   "metadata": {},
   "source": [
    "# model_ft 作成"
   ]
  },
  {
   "cell_type": "code",
   "execution_count": null,
   "id": "554f0c62-72c2-4a2e-b45e-b0b4d37c2e86",
   "metadata": {
    "tags": []
   },
   "outputs": [],
   "source": [
    "# 相対パスしかできない\n",
    "# dim : 出力の次元\n",
    "# minn : n_gramの最小単位\n",
    "# maxn : n_gramの最大単位\n",
    "path_ft = '/Users/rince/Desktop/Horse/code/horse/peds_ft.txt'\n",
    "# 上書き保存OK\n",
    "peds.to_csv(path_ft,header=False,index=False,sep=',')\n",
    "model_ft = ft.train_unsupervised(path_ft,dim=62,minn=2,maxn=14)"
   ]
  },
  {
   "cell_type": "markdown",
   "id": "d9dd9030-310c-414d-8c91-6178159c00e6",
   "metadata": {},
   "source": [
    "model[model.words[1]] と model.get_input_vector(ind=1) は等価"
   ]
  },
  {
   "cell_type": "markdown",
   "id": "7ed0b75c-8969-4b49-b522-1c0df7bbb166",
   "metadata": {},
   "source": [
    "# rank = [int((1/i)*10)] と変換してみてはどうか"
   ]
  },
  {
   "cell_type": "code",
   "execution_count": null,
   "id": "6b23af9b",
   "metadata": {},
   "outputs": [],
   "source": []
  }
 ],
 "metadata": {
  "interpreter": {
   "hash": "aee8b7b246df8f9039afb4144a1f6fd8d2ca17a180786b69acc140d282b71a49"
  },
  "kernelspec": {
   "display_name": "Python 3.7.2 64-bit",
   "language": "python",
   "name": "python3"
  },
  "language_info": {
   "codemirror_mode": {
    "name": "ipython",
    "version": 3
   },
   "file_extension": ".py",
   "mimetype": "text/x-python",
   "name": "python",
   "nbconvert_exporter": "python",
   "pygments_lexer": "ipython3",
   "version": "3.7.2"
  }
 },
 "nbformat": 4,
 "nbformat_minor": 5
}
