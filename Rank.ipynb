{
 "cells": [
  {
   "cell_type": "markdown",
   "id": "485b75ae-02d8-4d3e-b0f4-c8cad9518e8c",
   "metadata": {},
   "source": [
    "# import"
   ]
  },
  {
   "cell_type": "code",
   "execution_count": 2,
   "id": "fa116d3b-51ac-42de-bf7a-fb55eb148689",
   "metadata": {},
   "outputs": [],
   "source": [
    "import pandas as pd\n",
    "from tqdm.notebook import tqdm as tqdm\n",
    "import time\n",
    "from graphviz import *\n",
    "import lightgbm as lgb\n",
    "from hyperopt import hp, tpe, Trials, fmin,STATUS_OK\n",
    "import fasttext as ft\n",
    "# import importlib\n",
    "# importlib.reload(hoge)\n",
    "from my_library.horse import *"
   ]
  },
  {
   "cell_type": "markdown",
   "id": "1782806f-f29f-40fe-9c06-7dfca7dd2339",
   "metadata": {},
   "source": [
    "# path"
   ]
  },
  {
   "cell_type": "code",
   "execution_count": 3,
   "id": "8a4008e3-1c76-4f8e-b375-0f3533379d5b",
   "metadata": {},
   "outputs": [],
   "source": [
    "path_ubu = '/home/hipro/デスクトップ/Horse/Data/20_21'\n",
    "path_mac2 = '/Users/rince/Desktop/Horse/Data/saishin2/'\n",
    "path_mac = '/Users/rince/Desktop/Horse/Data/saishin/'\n",
    "path_win = '/Users/Owner/Desktop/program/Horse/Data/saishin/'\n",
    "path_win2 = '/Users/Owner/Desktop/program/Horse/Data/saishin2/'"
   ]
  },
  {
   "cell_type": "markdown",
   "id": "a920e716-5257-45d8-9831-2effe586aa2c",
   "metadata": {},
   "source": [
    "# load data"
   ]
  },
  {
   "cell_type": "code",
   "execution_count": 7,
   "id": "2cafb76f-29dc-4841-bb1b-2792c246cd20",
   "metadata": {
    "tags": []
   },
   "outputs": [],
   "source": [
    "results = load_csv(path_mac+'results.csv')\n",
    "horse_results = load_csv(path_mac+'horse_results.csv')\n",
    "peds = load_csv(path_mac+'peds.csv')\n",
    "# 何回やってもロードすると, nanが出る\n",
    "peds.fillna('nan',inplace=True)\n",
    "return_tables = load_csv(path_mac+'return.csv')\n",
    "return_tables.rename(columns={'0':0,'1':1,'2':2,'3':3},inplace=True)"
   ]
  },
  {
   "cell_type": "markdown",
   "id": "6897b3ed-08f1-452f-bc5c-840f04015aed",
   "metadata": {},
   "source": [
    "# race_id 命名規則"
   ]
  },
  {
   "cell_type": "markdown",
   "id": "f840d19f-0d83-4c24-a9d6-245b20e6eac6",
   "metadata": {},
   "source": [
    "race_id 202105040802\\\n",
    "yyyy_pp_xx_xxrr\\\n",
    "y : year\\\n",
    "p : palce\\\n",
    "x : 謎\\\n",
    "r : race番号"
   ]
  },
  {
   "cell_type": "code",
   "execution_count": null,
   "id": "3ab99716",
   "metadata": {},
   "outputs": [],
   "source": [
    "lgbm_params = {\n",
    "                'metric': 'ndcg',\n",
    "                'objective': 'lambdarank',\n",
    "                'ndcg_eval_at': [1,2,3],\n",
    "                'boosting_type': 'gbdt',\n",
    "                'random_state': 777,\n",
    "                'lambdarank_truncation_level': 29,\n",
    "                'learning_rate': 0.021772987388503244,\n",
    "                'num_iterations': 93,\n",
    "                'num_leaves': 40\n",
    "            }"
   ]
  },
  {
   "cell_type": "code",
   "execution_count": null,
   "id": "c895357f",
   "metadata": {},
   "outputs": [],
   "source": [
    "ll = LearnLGBM(peds,results,horse_results)\n",
    "ll.learn_lgb()"
   ]
  },
  {
   "cell_type": "code",
   "execution_count": null,
   "metadata": {},
   "outputs": [],
   "source": [
    "train_query = ll.x_train.groupby(ll.x_train.index).size()\n",
    "train = lgb.Dataset(ll.x_train, ll.y_train, group=train_query)\n",
    "ll.learn_lgb2(train,lgbm_params=lgbm_params)"
   ]
  },
  {
   "cell_type": "code",
   "execution_count": null,
   "id": "f5a261c3",
   "metadata": {},
   "outputs": [],
   "source": [
    "# ll = LearnLGBM(peds,results,horse_results)\n",
    "# ll.get_train_data()\n",
    "\n",
    "\n",
    "val_x = ll.x_test.iloc[:-10000]\n",
    "val_y = ll.y_test.iloc[:-10000]\n",
    "test_query = val_x.groupby(val_x.index).size()\n",
    "train_query = ll.x_train.groupby(ll.x_train.index).size()\n",
    "train = lgb.Dataset(ll.x_train, ll.y_train, group=train_query)\n",
    "valid = lgb.Dataset(val_x, val_y, reference=train, group=test_query)"
   ]
  },
  {
   "cell_type": "markdown",
   "id": "27efe69c",
   "metadata": {},
   "source": [
    "# 正解ラベル　変えた"
   ]
  },
  {
   "cell_type": "code",
   "execution_count": null,
   "id": "32108465",
   "metadata": {},
   "outputs": [],
   "source": [
    "def split_data(df, test_size=0.2, rank_learning=True):\n",
    "    \"\"\"\n",
    "    データを学習データと, 訓練データに分ける関数\n",
    "    \"\"\"\n",
    "    df_ = df.copy()\n",
    "    df_['rank'] = df_['rank'].map(lambda x: int((1/x)*10) if x<4 else(0))\n",
    "        \n",
    "    sorted_id_list = df_.sort_values(\"date\").index.unique()\n",
    "    train_id_list = sorted_id_list[: round(len(sorted_id_list) * (1 - test_size))]\n",
    "    test_id_list = sorted_id_list[round(len(sorted_id_list) * (1 - test_size)) :]\n",
    "    train = df_.loc[train_id_list]#.drop(['date'], axis=1)\n",
    "    test = df_.loc[test_id_list]#.drop(['date'], axis=1)\n",
    "    return train, test\n",
    "\n",
    "    \n",
    "train, test = split_data(ll.r.data_c.fillna(0),test_size=0.2,rank_learning=False)\n",
    "x_train = train.drop(['rank', 'date','単勝'], axis=1)\n",
    "y_train = train['rank']\n",
    "x_test = test.drop(['rank', 'date','単勝'], axis=1)\n",
    "y_test = test['rank']\n",
    "train_query = x_train.groupby(x_train.index).size()\n",
    "train = lgb.Dataset(x_train, y_train, group=train_query)\n",
    "val_y = y_test.iloc[:-10000]\n",
    "test_query = x_test.groupby(x_test.index).size()\n",
    "valid = lgb.Dataset(x_test, y_test, reference=train, group=test_query)"
   ]
  },
  {
   "cell_type": "code",
   "execution_count": 4,
   "id": "6be3bc5a",
   "metadata": {},
   "outputs": [],
   "source": [
    "lgbm_params = {\n",
    "                'metric': 'ndcg',\n",
    "                'objective': 'lambdarank',\n",
    "                'ndcg_eval_at': [1,2,3],\n",
    "                'boosting_type': 'gbdt',\n",
    "                'random_state': 777,\n",
    "                'lambdarank_truncation_level': 10,\n",
    "                'learning_rate': 0.02273417953255777,\n",
    "                'n_estimators': 97,\n",
    "                'num_leaves': 42,\n",
    "                'force_col_wise':True\n",
    "            }\n",
    "\n"
   ]
  },
  {
   "cell_type": "code",
   "execution_count": null,
   "id": "c03ed259",
   "metadata": {},
   "outputs": [],
   "source": [
    "range(1,50)[28]"
   ]
  },
  {
   "cell_type": "code",
   "execution_count": null,
   "id": "18909448",
   "metadata": {},
   "outputs": [],
   "source": [
    "# {'lambdarank_truncation_level': range(1,50)[33], 'learning_rate': 0.09608503291165846, 'num_iterations': range(50,120)[14], 'num_leaves': range(20,50)[2]}\n",
    "\n",
    "{'lambdarank_truncation_level': 28, 'learning_rate': 0.021772987388503244}\n",
    "{'lambdarank_truncation_level':  range(1,50)[28], 'learning_rate': 0.02273417953255777, 'num_iterations': range(50,120)[47], 'num_leaves': range(20,50)[22]}"
   ]
  },
  {
   "cell_type": "code",
   "execution_count": null,
   "id": "defd053c",
   "metadata": {},
   "outputs": [],
   "source": [
    "import warnings\n",
    "\n",
    "warnings.filterwarnings(\"ignore\")\n",
    "ll.learn_lgb2(train,lgbm_params=lgbm_params)"
   ]
  },
  {
   "cell_type": "code",
   "execution_count": null,
   "id": "03dc35cc",
   "metadata": {},
   "outputs": [],
   "source": [
    "def score(params):\n",
    "    print(\"Training start:\")\n",
    "\n",
    "    N_boost_round = []\n",
    "    Score = []\n",
    "\n",
    "    lgb_results={}  #履歴格納用\n",
    "    # train = lgb.Dataset(x_train, y_train, group=train_query)\n",
    "    # valid = lgb.Dataset(x_test, y_test, reference=train, group=test_query)\n",
    "\n",
    "    \n",
    "    lgb_clf = lgb.train(\n",
    "        params,\n",
    "        train,\n",
    "        num_boost_round=1000,\n",
    "        valid_sets=valid,\n",
    "        valid_names=['valid'],\n",
    "        early_stopping_rounds=20,\n",
    "        verbose_eval=5,\n",
    "        evals_result=lgb_results,\n",
    "    )\n",
    "#     return lgb_results\n",
    "    return {'loss': -1.0 * lgb_results['valid']['ndcg@3'][lgb_clf.best_iteration], 'status': STATUS_OK}\n",
    "\n",
    "def optimize(trials):\n",
    "#探索スペース\n",
    "    space = {\n",
    "        'objective': 'lambdarank',\n",
    "        'metric': 'ndcg',\n",
    "        # 上位三着を考慮する\n",
    "        'ndcg_eval_at': [1,2,3],\n",
    "#         best paramsの返り値は, choiceだとindexか?\n",
    "        'lambdarank_truncation_level': hp.choice('lambdarank_truncation_level',range(1,50)),\n",
    "        'learning_rate': hp.uniform('learning_rate', 0.01, 0.1),\n",
    "        # n_estimators == num_iterations\n",
    "        # 'num_iterations': hp.choice('num_iterations',range(50,120)),\n",
    "        # 'num_leaves': hp.choice('num_leaves',range(20,50)),\n",
    "        'boosting_type': 'gbdt',\n",
    "        'random_state': 777\n",
    "    }\n",
    "\n",
    "    max_evals = 25      #探索回数(25くらいで十分)\n",
    "    best = fmin(score, space, algo=tpe.suggest, trials=trials, max_evals=max_evals)\n",
    "\n",
    "    print(\"best parameters:\", best)"
   ]
  },
  {
   "cell_type": "code",
   "execution_count": null,
   "id": "8ae3611f",
   "metadata": {},
   "outputs": [],
   "source": [
    "trials = Trials()\n",
    "optimize(trials)"
   ]
  },
  {
   "cell_type": "markdown",
   "id": "2b30c738-f553-4488-8239-235c9808c184",
   "metadata": {},
   "source": [
    "# Simulate\n"
   ]
  },
  {
   "cell_type": "code",
   "execution_count": null,
   "id": "b4c3498b-a9bf-4891-9ec4-748f1681fe24",
   "metadata": {
    "tags": []
   },
   "outputs": [],
   "source": [
    "\n",
    "for odds in [1.1,2.0,3.0,4.0,5.0,6.0,7.0]:\n",
    "    print()\n",
    "    sl = RankSimulater(ll.model)\n",
    "    print(\"odds\",odds)\n",
    "    sl.calc_tansho(ll.r.data_c.iloc[-10000:],return_tables,odds=odds)\n",
    "\n"
   ]
  },
  {
   "cell_type": "code",
   "execution_count": null,
   "id": "9a5acc8c-484d-4fef-ae88-1c20180881d1",
   "metadata": {},
   "outputs": [],
   "source": [
    "sl = RankSimulater(ll.model)\n",
    "sl.calc_sanrenpuku(ll.r.data_c.iloc[-5000:].fillna(0),return_tables)"
   ]
  },
  {
   "cell_type": "code",
   "execution_count": null,
   "id": "2b0526b6-d15f-4e39-abaf-40aaf6cfd0fa",
   "metadata": {
    "tags": []
   },
   "outputs": [],
   "source": [
    "sl = RankSimulater(ll.model)\n",
    "sl.calc_sanrentan(ll.r.data_c.iloc[-5000:].fillna(0),return_tables)"
   ]
  },
  {
   "cell_type": "markdown",
   "id": "ff135d8f-2a18-4583-8747-68c2938e6b79",
   "metadata": {},
   "source": [
    "# race_id_list"
   ]
  },
  {
   "cell_type": "code",
   "execution_count": 5,
   "id": "ca02207f-1319-48d2-943f-195f395e1d70",
   "metadata": {},
   "outputs": [],
   "source": [
    "\n",
    "202205021011\n",
    "race_id_list = ['2022050212{}'.format(str(i).zfill(2)) for i in range(1,13)]\n",
    "# race_id_list += ['2022050209{}'.format(str(i).zfill(2)) for i in range(1,13)]\n",
    "\n",
    "race_id_list += ['2022070308{}'.format(str(i).zfill(2)) for i in range(1,13)]\n",
    "# race_id_list += ['2022070306{}'.format(str(i).zfill(2)) for i in range(1,13)]\n",
    "\n",
    "race_id_list += ['2022040108{}'.format(str(i).zfill(2)) for i in range(1,13)]\n",
    "# race_id_list += ['2022040106{}'.format(str(i).zfill(2)) for i in range(1,13)]\n",
    "\n"
   ]
  },
  {
   "cell_type": "markdown",
   "id": "23038204",
   "metadata": {},
   "source": [
    "# Predictor"
   ]
  },
  {
   "cell_type": "code",
   "execution_count": 8,
   "id": "869c4470",
   "metadata": {},
   "outputs": [
    {
     "data": {
      "application/vnd.jupyter.widget-view+json": {
       "model_id": "fb6613977ef849cda847d878e241fec2",
       "version_major": 2,
       "version_minor": 0
      },
      "text/plain": [
       "HBox(children=(FloatProgress(value=0.0, max=36.0), HTML(value='')))"
      ]
     },
     "metadata": {},
     "output_type": "display_data"
    },
    {
     "name": "stdout",
     "output_type": "stream",
     "text": [
      "\n"
     ]
    },
    {
     "data": {
      "application/vnd.jupyter.widget-view+json": {
       "model_id": "f7d4ae655a194a54bccde0423cc5ddb9",
       "version_major": 2,
       "version_minor": 0
      },
      "text/plain": [
       "HBox(children=(FloatProgress(value=0.0, max=8.0), HTML(value='')))"
      ]
     },
     "metadata": {},
     "output_type": "display_data"
    },
    {
     "name": "stdout",
     "output_type": "stream",
     "text": [
      "\n"
     ]
    },
    {
     "data": {
      "application/vnd.jupyter.widget-view+json": {
       "model_id": "1eee6a588993498389a9979e00d9e7b4",
       "version_major": 2,
       "version_minor": 0
      },
      "text/plain": [
       "HBox(children=(FloatProgress(value=0.0, max=8.0), HTML(value='')))"
      ]
     },
     "metadata": {},
     "output_type": "display_data"
    },
    {
     "name": "stdout",
     "output_type": "stream",
     "text": [
      "\n"
     ]
    },
    {
     "data": {
      "application/vnd.jupyter.widget-view+json": {
       "model_id": "21200db8b72c4aa8b9a5de9bf3a91877",
       "version_major": 2,
       "version_minor": 0
      },
      "text/plain": [
       "HBox(children=(FloatProgress(value=0.0, max=17624.0), HTML(value='')))"
      ]
     },
     "metadata": {},
     "output_type": "display_data"
    },
    {
     "name": "stdout",
     "output_type": "stream",
     "text": [
      "\n"
     ]
    },
    {
     "data": {
      "application/vnd.jupyter.widget-view+json": {
       "model_id": "42c067b0cb3942fdbe6b5432d951a882",
       "version_major": 2,
       "version_minor": 0
      },
      "text/plain": [
       "HBox(children=(FloatProgress(value=0.0, max=17624.0), HTML(value='')))"
      ]
     },
     "metadata": {},
     "output_type": "display_data"
    },
    {
     "name": "stdout",
     "output_type": "stream",
     "text": [
      "\n",
      "pe finish\n",
      "pe regularizrd\n"
     ]
    },
    {
     "data": {
      "application/vnd.jupyter.widget-view+json": {
       "model_id": "71a5c7caba144edbb0b5e356fc43e2d0",
       "version_major": 2,
       "version_minor": 0
      },
      "text/plain": [
       "HBox(children=(FloatProgress(value=0.0, max=520.0), HTML(value='')))"
      ]
     },
     "metadata": {},
     "output_type": "display_data"
    },
    {
     "name": "stdout",
     "output_type": "stream",
     "text": [
      "\n",
      "hr finish\n"
     ]
    },
    {
     "data": {
      "application/vnd.jupyter.widget-view+json": {
       "model_id": "c4af51b9904e45bf83978307281807bc",
       "version_major": 2,
       "version_minor": 0
      },
      "text/plain": [
       "HBox(children=(FloatProgress(value=0.0, max=251.0), HTML(value='')))"
      ]
     },
     "metadata": {},
     "output_type": "display_data"
    },
    {
     "name": "stdout",
     "output_type": "stream",
     "text": [
      "\n"
     ]
    },
    {
     "data": {
      "application/vnd.jupyter.widget-view+json": {
       "model_id": "7f2a7528813345fdac26caf94b353657",
       "version_major": 2,
       "version_minor": 0
      },
      "text/plain": [
       "HBox(children=(FloatProgress(value=0.0, max=251.0), HTML(value='')))"
      ]
     },
     "metadata": {},
     "output_type": "display_data"
    },
    {
     "name": "stdout",
     "output_type": "stream",
     "text": [
      "\n"
     ]
    },
    {
     "data": {
      "application/vnd.jupyter.widget-view+json": {
       "model_id": "09d5434b2c624e6fa6506a3c96dc57ce",
       "version_major": 2,
       "version_minor": 0
      },
      "text/plain": [
       "HBox(children=(FloatProgress(value=0.0, max=251.0), HTML(value='')))"
      ]
     },
     "metadata": {},
     "output_type": "display_data"
    },
    {
     "name": "stdout",
     "output_type": "stream",
     "text": [
      "\n"
     ]
    },
    {
     "name": "stderr",
     "output_type": "stream",
     "text": [
      "/Users/rince/Library/Python/3.7/lib/python/site-packages/lightgbm/engine.py:151: UserWarning: Found `n_estimators` in params. Will use it instead of argument\n",
      "  warnings.warn(\"Found `{}` in params. Will use it instead of argument\".format(alias))\n"
     ]
    },
    {
     "name": "stdout",
     "output_type": "stream",
     "text": [
      "[LightGBM] [Info] Total Bins 48635\n",
      "[LightGBM] [Info] Number of data points in the train set: 109486, number of used features: 172\n"
     ]
    }
   ],
   "source": [
    "pt = Predictor(peds,results,horse_results,race_id_list)\n",
    "# ********* test_size = 0  : ずっと0にしてなかった...\n",
    "pt.learn_lgb(lgbm_params=lgbm_params,test_size=0)"
   ]
  },
  {
   "cell_type": "code",
   "execution_count": null,
   "id": "f8f9d4b1",
   "metadata": {},
   "outputs": [],
   "source": [
    "train,_ = pt.get_train_data(test_size=0)"
   ]
  },
  {
   "cell_type": "code",
   "execution_count": null,
   "id": "823559d0",
   "metadata": {},
   "outputs": [],
   "source": [
    "pt"
   ]
  },
  {
   "cell_type": "markdown",
   "id": "32941e34",
   "metadata": {},
   "source": [
    "# 東京"
   ]
  },
  {
   "cell_type": "code",
   "execution_count": null,
   "id": "6aaf56de",
   "metadata": {},
   "outputs": [],
   "source": [
    "base  = '2022050212'\n",
    "pt.predict(base+'12')"
   ]
  },
  {
   "cell_type": "markdown",
   "id": "c3b57a3d",
   "metadata": {},
   "source": [
    "# 中京"
   ]
  },
  {
   "cell_type": "code",
   "execution_count": null,
   "id": "a6722cba",
   "metadata": {},
   "outputs": [],
   "source": [
    "base  = '2022070308'\n",
    "# for i in ['07','08','09','10','11']:\n",
    "pt.predict(base+'12')"
   ]
  },
  {
   "cell_type": "markdown",
   "id": "278e1ee5",
   "metadata": {},
   "source": [
    "# 新潟"
   ]
  },
  {
   "cell_type": "code",
   "execution_count": null,
   "id": "844e1f79",
   "metadata": {},
   "outputs": [],
   "source": [
    "base  = '2022040108'\n",
    "# for i in ['07','08','09','10','11']:\n",
    "pt.predict(base+'12')"
   ]
  },
  {
   "cell_type": "code",
   "execution_count": 9,
   "id": "4324e2ff",
   "metadata": {},
   "outputs": [
    {
     "data": {
      "application/vnd.jupyter.widget-view+json": {
       "model_id": "d7c1193b41934522b82c731b431412eb",
       "version_major": 2,
       "version_minor": 0
      },
      "text/plain": [
       "HBox(children=(FloatProgress(value=0.0, max=36.0), HTML(value='')))"
      ]
     },
     "metadata": {},
     "output_type": "display_data"
    },
    {
     "name": "stdout",
     "output_type": "stream",
     "text": [
      "\n"
     ]
    },
    {
     "data": {
      "application/vnd.jupyter.widget-view+json": {
       "model_id": "a83539df039c46ad839c76bc7fe7159d",
       "version_major": 2,
       "version_minor": 0
      },
      "text/plain": [
       "HBox(children=(FloatProgress(value=0.0, max=1.0), HTML(value='')))"
      ]
     },
     "metadata": {},
     "output_type": "display_data"
    },
    {
     "name": "stdout",
     "output_type": "stream",
     "text": [
      "\n"
     ]
    },
    {
     "data": {
      "application/vnd.jupyter.widget-view+json": {
       "model_id": "2ed22d442266475d9df9f929cf47a067",
       "version_major": 2,
       "version_minor": 0
      },
      "text/plain": [
       "HBox(children=(FloatProgress(value=0.0, max=1.0), HTML(value='')))"
      ]
     },
     "metadata": {},
     "output_type": "display_data"
    },
    {
     "name": "stdout",
     "output_type": "stream",
     "text": [
      "\n"
     ]
    },
    {
     "data": {
      "application/vnd.jupyter.widget-view+json": {
       "model_id": "bff6ca17b4db4461b74901b6c4673532",
       "version_major": 2,
       "version_minor": 0
      },
      "text/plain": [
       "HBox(children=(FloatProgress(value=0.0, max=1.0), HTML(value='')))"
      ]
     },
     "metadata": {},
     "output_type": "display_data"
    },
    {
     "name": "stdout",
     "output_type": "stream",
     "text": [
      "\n"
     ]
    },
    {
     "data": {
      "application/vnd.jupyter.widget-view+json": {
       "model_id": "cc84b556982a4f5ba5f2a73ac8be9cde",
       "version_major": 2,
       "version_minor": 0
      },
      "text/plain": [
       "HBox(children=(FloatProgress(value=0.0, max=36.0), HTML(value='')))"
      ]
     },
     "metadata": {},
     "output_type": "display_data"
    },
    {
     "name": "stdout",
     "output_type": "stream",
     "text": [
      "\n",
      "-------------------\n",
      "predict\n",
      "              馬番    scores\n",
      "202205021201  11  0.369514\n",
      "202205021201  12 -0.581206\n",
      "202205021201   1 -1.004721\n",
      "actual\n",
      "                0              1             2          3\n",
      "202205021201   単勝             11          160円        1人気\n",
      "202205021201   複勝         11 6 1  110円140円170円  1人気2人気4人気\n",
      "202205021201   枠連            3 6          440円        2人気\n",
      "202205021201   馬連           6 11          500円        1人気\n",
      "202205021201  ワイド  6 11 1 11 1 6  240円310円640円  1人気3人気6人気\n",
      "202205021201   馬単           11 6          750円        2人気\n",
      "202205021201  3連複         1 6 11        1,200円        4人気\n",
      "202205021201  3連単         11 6 1        3,500円        6人気\n",
      "-------------------\n",
      "predict\n",
      "              馬番    scores\n",
      "202205021202   1 -1.004721\n",
      "202205021202   2 -1.004721\n",
      "202205021202   3 -1.004721\n",
      "actual\n",
      "                0                1                   2             3\n",
      "202205021202   単勝                3                800円           3人気\n",
      "202205021202   複勝          3 16 14        370円760円460円     4人気8人気5人気\n",
      "202205021202   枠連              2 8              6,530円          20人気\n",
      "202205021202   馬連             3 16              6,480円          17人気\n",
      "202205021202  ワイド  3 16 3 14 14 16  1,860円1,420円2,620円  20人気12人気27人気\n",
      "202205021202   馬単             3 16             11,540円          32人気\n",
      "202205021202  3連複          3 14 16             17,370円          50人気\n",
      "202205021202  3連単          3 16 14             97,200円         254人気\n",
      "-------------------\n",
      "predict\n",
      "              馬番    scores\n",
      "202205021203   2 -0.954247\n",
      "202205021203   1 -1.004721\n",
      "202205021203   3 -1.004721\n",
      "actual\n",
      "                0              1             2           3\n",
      "202205021203   単勝              9        1,050円         5人気\n",
      "202205021203   複勝         9 12 8  310円120円200円   6人気1人気4人気\n",
      "202205021203   枠連            7 8          790円         4人気\n",
      "202205021203   馬連           9 12        1,210円         5人気\n",
      "202205021203  ワイド  9 12 8 9 8 12  550円980円320円  5人気12人気2人気\n",
      "202205021203   馬単           9 12        3,540円        12人気\n",
      "202205021203  3連複         8 9 12        2,180円         6人気\n",
      "202205021203  3連単         9 12 8       17,630円        66人気\n",
      "-------------------\n",
      "predict\n",
      "              馬番    scores\n",
      "202205021204  17  0.407974\n",
      "202205021204  18 -0.984906\n",
      "202205021204   8 -0.988127\n",
      "actual\n",
      "                0            1                 2            3\n",
      "202205021204   単勝            1            1,150円          5人気\n",
      "202205021204   複勝        1 8 6      350円150円290円    6人気2人気4人気\n",
      "202205021204   枠連          1 4            2,970円         13人気\n",
      "202205021204   馬連          1 8            2,840円         10人気\n",
      "202205021204  ワイド  1 8 1 6 6 8  1,030円1,920円650円  12人気23人気5人気\n",
      "202205021204   馬単          1 8            6,660円         27人気\n",
      "202205021204  3連複        1 6 8            6,390円         20人気\n",
      "202205021204  3連単        1 8 6           38,800円        138人気\n",
      "-------------------\n",
      "predict\n",
      "              馬番    scores\n",
      "202205021205  14  0.103056\n",
      "202205021205  16 -0.240504\n",
      "202205021205   8 -0.388789\n",
      "actual\n",
      "                0                1                    2             3\n",
      "202205021205   単勝               13               2,050円           8人気\n",
      "202205021205   複勝          13 10 3       610円200円1,450円    8人気3人気14人気\n",
      "202205021205   枠連              5 7               3,130円          13人気\n",
      "202205021205   馬連            10 13               4,940円          17人気\n",
      "202205021205  ワイド  10 13 3 13 3 10  2,150円11,920円4,220円  19人気80人気39人気\n",
      "202205021205   馬単            13 10              11,450円          38人気\n",
      "202205021205  3連複          3 10 13              73,710円         186人気\n",
      "202205021205  3連単          13 10 3             456,230円       1,022人気\n",
      "-------------------\n",
      "predict\n",
      "              馬番    scores\n",
      "202205021206   1  0.166142\n",
      "202205021206   8 -0.100426\n",
      "202205021206   5 -0.641926\n",
      "actual\n",
      "                0                1               2            3\n",
      "202205021206   単勝               15          1,430円          6人気\n",
      "202205021206   複勝          15 5 13    380円130円120円    7人気2人気1人気\n",
      "202205021206   枠連              3 8          1,980円          9人気\n",
      "202205021206   馬連             5 15          2,810円         11人気\n",
      "202205021206  ワイド  5 15 13 15 5 13  840円1,030円260円  11人気12人気1人気\n",
      "202205021206   馬単             15 5          6,060円         25人気\n",
      "202205021206  3連複          5 13 15          2,830円          5人気\n",
      "202205021206  3連単          15 5 13         23,690円         57人気\n",
      "-------------------\n",
      "predict\n",
      "              馬番    scores\n",
      "202205021207   4 -0.783170\n",
      "202205021207   1 -0.918537\n",
      "202205021207   3 -1.027697\n",
      "actual\n",
      "                0            1             2          3\n",
      "202205021207   単勝            3          370円        2人気\n",
      "202205021207   複勝          3 1      500円560円     2人気3人気\n",
      "202205021207   馬連          1 3          700円        3人気\n",
      "202205021207  ワイド  1 3 3 4 1 4  120円110円120円  3人気1人気2人気\n",
      "202205021207   馬単          3 1        1,660円        5人気\n",
      "202205021207  3連複        1 3 4          120円        1人気\n",
      "202205021207  3連単        3 1 4        1,920円        6人気\n",
      "-------------------\n",
      "predict\n",
      "              馬番    scores\n",
      "202205021208   6 -0.490196\n",
      "202205021208  11 -0.670287\n",
      "202205021208   9 -0.675158\n",
      "actual\n",
      "                0            1             2          3\n",
      "202205021208   単勝            8          300円        1人気\n",
      "202205021208   複勝        8 7 6  120円140円140円  1人気2人気3人気\n",
      "202205021208   枠連          6 6          530円        2人気\n",
      "202205021208   馬連          7 8          510円        1人気\n",
      "202205021208  ワイド  7 8 6 8 6 7  220円330円410円  1人気2人気5人気\n",
      "202205021208   馬単          8 7          940円        1人気\n",
      "202205021208  3連複        6 7 8        1,110円        2人気\n",
      "202205021208  3連単        8 7 6        3,770円        2人気\n",
      "-------------------\n",
      "predict\n",
      "              馬番    scores\n",
      "202205021209  11  0.046537\n",
      "202205021209  12 -0.236242\n",
      "202205021209  13 -0.379832\n",
      "actual\n",
      "                0                1                 2            3\n",
      "202205021209   単勝               11              630円          5人気\n",
      "202205021209   複勝          11 12 7      240円360円180円    5人気7人気3人気\n",
      "202205021209   枠連              7 8            1,680円          7人気\n",
      "202205021209   馬連            11 12            4,090円         19人気\n",
      "202205021209  ワイド  11 12 7 11 7 12  1,240円720円1,160円  19人気9人気17人気\n",
      "202205021209   馬単            11 12            7,180円         31人気\n",
      "202205021209  3連複          7 11 12            5,570円         26人気\n",
      "202205021209  3連単          11 12 7           36,810円        144人気\n",
      "profit 1240\n",
      "-------------------\n",
      "predict\n",
      "              馬番    scores\n",
      "202205021210   8  0.958026\n",
      "202205021210   6  0.773685\n",
      "202205021210   7  0.247585\n",
      "actual\n",
      "                0                1               2           3\n",
      "202205021210   単勝               15          1,360円         6人気\n",
      "202205021210   複勝          15 16 9    310円140円200円   6人気1人気3人気\n",
      "202205021210   枠連              8 8          1,510円         6人気\n",
      "202205021210   馬連            15 16          1,820円         4人気\n",
      "202205021210  ワイド  15 16 9 15 9 16  730円1,700円460円  4人気18人気2人気\n",
      "202205021210   馬単            15 16          4,670円        13人気\n",
      "202205021210  3連複          9 15 16          3,790円         7人気\n",
      "202205021210  3連単          15 16 9         27,120円        55人気\n",
      "-------------------\n",
      "predict\n",
      "              馬番    scores\n",
      "202205021211   8  0.849121\n",
      "202205021211  10 -0.405208\n",
      "202205021211  13 -0.576056\n",
      "actual\n",
      "                0                1                 2           3\n",
      "202205021211   単勝               13              420円         3人気\n",
      "202205021211   複勝          13 18 3      160円150円410円   2人気1人気6人気\n",
      "202205021211   枠連              7 8              420円         1人気\n",
      "202205021211   馬連            13 18              730円         3人気\n",
      "202205021211  ワイド  13 18 3 13 3 18  340円1,120円1,390円  2人気7人気12人気\n",
      "202205021211   馬単            13 18            1,440円         4人気\n",
      "202205021211  3連複          3 13 18            4,570円        10人気\n",
      "202205021211  3連単          13 18 3           15,770円        33人気\n",
      "-------------------\n",
      "predict\n",
      "              馬番    scores\n",
      "202205021212   6  1.114787\n",
      "202205021212  11  1.106321\n",
      "202205021212  16  0.878941\n",
      "actual\n",
      "                0              1                   2            3\n",
      "202205021212   単勝              2                490円          2人気\n",
      "202205021212   複勝         2 8 16        200円310円500円    1人気5人気9人気\n",
      "202205021212   枠連            1 4              2,680円         13人気\n",
      "202205021212   馬連            2 8              2,720円          7人気\n",
      "202205021212  ワイド  2 8 2 16 8 16  1,020円2,020円2,610円  5人気21人気28人気\n",
      "202205021212   馬単            2 8              4,870円         12人気\n",
      "202205021212  3連複         2 8 16             14,640円         41人気\n",
      "202205021212  3連単         2 8 16             66,640円        195人気\n",
      "-------------------\n",
      "predict\n",
      "              馬番    scores\n",
      "202207030801   3 -0.507399\n",
      "202207030801  15 -0.950860\n",
      "202207030801   1 -1.004721\n",
      "actual\n",
      "                0                1                 2             3\n",
      "202207030801   単勝                8              870円           4人気\n",
      "202207030801   複勝          8 10 14      280円440円220円     4人気7人気2人気\n",
      "202207030801   枠連              4 5            3,760円          16人気\n",
      "202207030801   馬連             8 10            6,580円          22人気\n",
      "202207030801  ワイド  8 10 8 14 10 14  2,070円890円1,610円  19人気10人気17人気\n",
      "202207030801   馬単             8 10           11,150円          38人気\n",
      "202207030801  3連複          8 10 14            9,920円          32人気\n",
      "202207030801  3連単          8 10 14           70,300円         220人気\n",
      "-------------------\n",
      "predict\n",
      "              馬番    scores\n",
      "202207030802   6 -0.849680\n",
      "202207030802  15 -0.853337\n",
      "202207030802   5 -0.984410\n",
      "actual\n",
      "                0              1               2           3\n",
      "202207030802   単勝              6            110円         1人気\n",
      "202207030802   複勝         6 5 13    100円150円280円   1人気2人気6人気\n",
      "202207030802   枠連            3 4            310円         1人気\n",
      "202207030802   馬連            5 6            470円         2人気\n",
      "202207030802  ワイド  5 6 6 13 5 13  220円490円1,670円  1人気5人気17人気\n",
      "202207030802   馬単            6 5            510円         1人気\n",
      "202207030802  3連複         5 6 13          1,910円         7人気\n",
      "202207030802  3連単         6 5 13          3,970円        11人気\n",
      "-------------------\n",
      "predict\n",
      "              馬番    scores\n",
      "202207030803  10  0.218032\n",
      "202207030803   6 -0.982105\n",
      "202207030803   1 -1.004721\n",
      "actual\n",
      "                0              1                    2             3\n",
      "202207030803   単勝              2                 440円           2人気\n",
      "202207030803   複勝         2 12 3       240円540円2,260円    3人気7人気11人気\n",
      "202207030803   枠連            1 6               6,360円          17人気\n",
      "202207030803   馬連           2 12               5,740円          19人気\n",
      "202207030803  ワイド  2 12 2 3 3 12  2,200円7,770円22,320円  23人気43人気62人気\n",
      "202207030803   馬単           2 12               8,260円          29人気\n",
      "202207030803  3連複         2 3 12             172,140円         167人気\n",
      "202207030803  3連単         2 12 3             445,890円         662人気\n",
      "-------------------\n",
      "predict\n",
      "              馬番    scores\n",
      "202207030804   7  1.008617\n",
      "202207030804  13 -0.938775\n",
      "202207030804   1 -1.004721\n",
      "actual\n",
      "                0            1                  2            3\n",
      "202207030804   単勝            4               410円          2人気\n",
      "202207030804   複勝        4 7 6     140円110円3,330円   2人気1人気14人気\n",
      "202207030804   枠連          2 4               240円          1人気\n",
      "202207030804   馬連          4 7               340円          1人気\n",
      "202207030804  ワイド  4 7 4 6 6 7  190円16,670円6,820円  1人気51人気32人気\n",
      "202207030804   馬単          4 7               920円          2人気\n",
      "202207030804  3連複        4 6 7            22,270円         45人気\n",
      "202207030804  3連単        4 7 6           100,910円        225人気\n",
      "-------------------\n",
      "predict\n",
      "              馬番    scores\n",
      "202207030805   1 -1.004721\n",
      "202207030805   2 -1.004721\n",
      "202207030805   3 -1.004721\n",
      "actual\n",
      "                0              1             2          3\n",
      "202207030805   単勝              5          180円        1人気\n",
      "202207030805   複勝         5 1 11  110円140円170円  1人気3人気4人気\n",
      "202207030805   枠連            1 3          470円        2人気\n",
      "202207030805   馬連            1 5          370円        1人気\n",
      "202207030805  ワイド  1 5 5 11 1 11  220円350円460円  1人気4人気5人気\n",
      "202207030805   馬単            5 1          570円        1人気\n",
      "202207030805  3連複         1 5 11          870円        2人気\n",
      "202207030805  3連単         5 1 11        3,260円        3人気\n",
      "-------------------\n",
      "predict\n",
      "              馬番    scores\n",
      "202207030806  15  1.149447\n",
      "202207030806   3  0.217406\n",
      "202207030806   1 -0.595685\n",
      "actual\n",
      "                0                1                   2             3\n",
      "202207030806   単勝                6                500円           3人気\n",
      "202207030806   複勝          6 10 15        210円180円920円    3人気1人気11人気\n",
      "202207030806   枠連              4 6                500円           1人気\n",
      "202207030806   馬連             6 10              2,740円          12人気\n",
      "202207030806  ワイド  6 10 6 15 10 15  1,250円4,720円2,640円  13人気42人気31人気\n",
      "202207030806   馬単             6 10              5,050円          22人気\n",
      "202207030806  3連複          6 10 15             29,900円          97人気\n",
      "202207030806  3連単          6 10 15            116,340円         426人気\n",
      "-------------------\n",
      "predict\n",
      "              馬番    scores\n",
      "202207030807  13  0.426983\n",
      "202207030807   9 -0.160644\n",
      "202207030807   4 -0.182444\n",
      "actual\n",
      "                0                1               2           3\n",
      "202207030807   単勝                1            170円         1人気\n",
      "202207030807   複勝          1 12 13    110円330円170円   1人気5人気3人気\n",
      "202207030807   枠連              1 8            470円         1人気\n",
      "202207030807   馬連             1 12          1,790円         5人気\n",
      "202207030807  ワイド  1 12 1 13 12 13  720円270円1,380円  7人気2人気16人気\n",
      "202207030807   馬単             1 12          2,490円         7人気\n",
      "202207030807  3連複          1 12 13          3,140円         8人気\n",
      "202207030807  3連単          1 12 13         11,000円        31人気\n",
      "-------------------\n",
      "predict\n",
      "              馬番    scores\n",
      "202207030808   4  0.668076\n",
      "202207030808   3  0.591814\n",
      "202207030808  10  0.514473\n",
      "actual\n",
      "                0              1                   2             3\n",
      "202207030808   単勝              2              2,600円          10人気\n",
      "202207030808   複勝         2 12 7        560円220円360円     9人気3人気5人気\n",
      "202207030808   枠連            2 7              7,000円          26人気\n",
      "202207030808   馬連           2 12              6,970円          27人気\n",
      "202207030808  ワイド  2 12 2 7 7 12  2,190円3,540円1,480円  27人気42人気15人気\n",
      "202207030808   馬単           2 12             14,670円          55人気\n",
      "202207030808  3連複         2 7 12             25,720円          92人気\n",
      "202207030808  3連単         2 12 7            225,070円         736人気\n",
      "-------------------\n",
      "predict\n",
      "              馬番    scores\n",
      "202207030809   8  0.510064\n",
      "202207030809   9  0.409697\n",
      "202207030809   4  0.301359\n",
      "actual\n",
      "                0            1             2           3\n",
      "202207030809   単勝            6          410円         3人気\n",
      "202207030809   複勝        6 3 4  190円250円150円   3人気5人気2人気\n",
      "202207030809   枠連          3 6        1,750円         9人気\n",
      "202207030809   馬連          3 6        1,970円        10人気\n",
      "202207030809  ワイド  3 6 4 6 3 4  640円360円590円  10人気2人気8人気\n",
      "202207030809   馬単          6 3        3,560円        16人気\n",
      "202207030809  3連複        3 4 6        1,790円         7人気\n",
      "202207030809  3連単        6 3 4       11,910円        42人気\n",
      "-------------------\n",
      "predict\n",
      "              馬番    scores\n",
      "202207030810  16  0.724711\n",
      "202207030810   1  0.356013\n",
      "202207030810   8  0.144775\n",
      "actual\n",
      "                0              1                 2             3\n",
      "202207030810   単勝              1            1,380円           6人気\n",
      "202207030810   複勝         1 16 6      450円220円270円     6人気4人気5人気\n",
      "202207030810   枠連            1 8            3,370円          13人気\n",
      "202207030810   馬連           1 16            5,580円          16人気\n",
      "202207030810  ワイド  1 16 1 6 6 16  1,850円2,170円960円  16人気20人気10人気\n",
      "202207030810   馬単           1 16           12,090円          37人気\n",
      "202207030810  3連複         1 6 16           13,740円          42人気\n",
      "202207030810  3連単         1 16 6           92,380円         258人気\n",
      "profit 1850\n",
      "-------------------\n",
      "predict\n",
      "              馬番    scores\n",
      "202207030811   4  1.111188\n",
      "202207030811   2 -0.576846\n",
      "202207030811   7 -0.804445\n",
      "actual\n",
      "                0            1             2          3\n",
      "202207030811   単勝            7        3,030円        5人気\n",
      "202207030811   複勝          7 4      660円140円     5人気1人気\n",
      "202207030811   馬連          4 7        1,380円        5人気\n",
      "202207030811  ワイド  4 7 3 7 3 4  490円650円170円  7人気8人気1人気\n",
      "202207030811   馬単          7 4        6,090円       16人気\n",
      "202207030811  3連複        3 4 7        1,190円        4人気\n",
      "202207030811  3連単        7 4 3       13,730円       40人気\n",
      "-------------------\n",
      "predict\n",
      "              馬番    scores\n",
      "202207030812   6  1.477116\n",
      "202207030812  10  0.481898\n",
      "202207030812  16  0.471324\n",
      "actual\n",
      "                0            1                    2             3\n",
      "202207030812   単勝            6                 600円           2人気\n",
      "202207030812   複勝        6 9 7         280円990円660円   3人気13人気12人気\n",
      "202207030812   枠連          3 5               1,540円           7人気\n",
      "202207030812   馬連          6 9              14,400円          57人気\n",
      "202207030812  ワイド  6 9 6 7 7 9  4,700円3,470円11,240円  56人気42人気96人気\n",
      "202207030812   馬単          6 9              22,240円          91人気\n",
      "202207030812  3連複        6 7 9              76,090円         256人気\n",
      "202207030812  3連単        6 9 7             339,250円       1,207人気\n",
      "-------------------\n",
      "predict\n",
      "              馬番    scores\n",
      "202204010801   9 -0.921889\n",
      "202204010801   1 -1.004721\n",
      "202204010801   3 -1.004721\n",
      "actual\n",
      "                0                1             2          3\n",
      "202204010801   単勝               13          240円        1人気\n",
      "202204010801   複勝          13 7 12  120円110円340円  2人気1人気6人気\n",
      "202204010801   枠連              4 7          250円        1人気\n",
      "202204010801   馬連             7 13          290円        1人気\n",
      "202204010801  ワイド  7 13 12 13 7 12  160円600円610円  1人気7人気8人気\n",
      "202204010801   馬単             13 7          540円        1人気\n",
      "202204010801  3連複          7 12 13        1,410円        4人気\n",
      "202204010801  3連単          13 7 12        4,640円        9人気\n",
      "-------------------\n",
      "predict\n",
      "              馬番    scores\n",
      "202204010802  15 -0.598096\n",
      "202204010802   6 -0.907836\n",
      "202204010802   1 -1.004721\n",
      "actual\n",
      "                0                1                     2             3\n",
      "202204010802   単勝               11               10,990円          15人気\n",
      "202204010802   複勝          11 1 14        3,440円300円530円    15人気5人気6人気\n",
      "202204010802   枠連              1 6                1,600円          10人気\n",
      "202204010802   馬連             1 11               51,700円          74人気\n",
      "202204010802  ワイド  1 11 11 14 1 14  17,090円23,990円2,540円  88人気94人気27人気\n",
      "202204010802   馬単             11 1              105,170円         158人気\n",
      "202204010802  3連複          1 11 14              163,960円         274人気\n",
      "202204010802  3連単          11 1 14            1,147,340円       1,743人気\n",
      "-------------------\n",
      "predict\n",
      "              馬番    scores\n",
      "202204010803  13  0.438761\n",
      "202204010803   1 -1.004721\n",
      "202204010803   2 -1.004721\n",
      "actual\n",
      "                0              1                 2            3\n",
      "202204010803   単勝              9              330円          2人気\n",
      "202204010803   複勝         9 1 13      140円750円130円   2人気10人気1人気\n",
      "202204010803   枠連            1 6            8,520円         19人気\n",
      "202204010803   馬連            1 9           11,240円         31人気\n",
      "202204010803  ワイド  1 9 9 13 1 13  3,170円240円3,210円  30人気1人気31人気\n",
      "202204010803   馬単            9 1           16,130円         54人気\n",
      "202204010803  3連複         1 9 13            9,710円         32人気\n",
      "202204010803  3連単         9 1 13           82,170円        243人気\n",
      "-------------------\n",
      "predict\n",
      "              馬番    scores\n",
      "202204010804  10 -0.607024\n",
      "202204010804  11 -0.639350\n",
      "202204010804   1 -0.642976\n",
      "actual\n",
      "                0              1                 2            3\n",
      "202204010804   単勝             10              250円          1人気\n",
      "202204010804   複勝         10 4 2      140円180円770円   1人気2人気10人気\n",
      "202204010804   枠連            3 6              470円          1人気\n",
      "202204010804   馬連           4 10            1,050円          3人気\n",
      "202204010804  ワイド  4 10 2 10 2 4  420円2,580円2,250円  3人気28人気25人気\n",
      "202204010804   馬単           10 4            1,600円          3人気\n",
      "202204010804  3連複         2 4 10           10,770円         37人気\n",
      "202204010804  3連単         10 4 2           42,150円        144人気\n",
      "-------------------\n",
      "predict\n",
      "              馬番    scores\n",
      "202204010805   1 -1.004721\n",
      "202204010805   2 -1.004721\n",
      "202204010805   3 -1.004721\n",
      "actual\n",
      "                0                1             2          3\n",
      "202204010805   単勝               14          910円        4人気\n",
      "202204010805   複勝          14 8 11  190円140円110円  4人気2人気1人気\n",
      "202204010805   枠連              5 8        1,400円        5人気\n",
      "202204010805   馬連             8 14        2,600円        8人気\n",
      "202204010805  ワイド  8 14 11 14 8 11  780円360円230円  8人気3人気1人気\n",
      "202204010805   馬単             14 8        4,520円       15人気\n",
      "202204010805  3連複          8 11 14        1,100円        1人気\n",
      "202204010805  3連単          14 8 11       10,510円       24人気\n",
      "-------------------\n",
      "predict\n",
      "              馬番    scores\n",
      "202204010806  11  0.590717\n",
      "202204010806   9 -0.552588\n",
      "202204010806   1 -1.004721\n",
      "actual\n",
      "                0              1             2          3\n",
      "202204010806   単勝             11          380円        2人気\n",
      "202204010806   複勝         11 8 9  130円120円140円  2人気1人気3人気\n",
      "202204010806   枠連            6 8          370円        1人気\n",
      "202204010806   馬連           8 11          510円        1人気\n",
      "202204010806  ワイド  8 11 9 11 8 9  230円330円340円  1人気2人気3人気\n",
      "202204010806   馬単           11 8        1,220円        2人気\n",
      "202204010806  3連複         8 9 11          920円        1人気\n",
      "202204010806  3連単         11 8 9        5,250円        6人気\n",
      "profit 230\n",
      "-------------------\n",
      "predict\n",
      "              馬番    scores\n",
      "202204010807   2 -0.248599\n",
      "202204010807   5 -0.925126\n",
      "202204010807  14 -0.969149\n",
      "actual\n",
      "                0                1                 2            3\n",
      "202204010807   単勝               15              510円          2人気\n",
      "202204010807   複勝          15 14 8    220円190円1,050円   4人気3人気11人気\n",
      "202204010807   枠連              8 8            2,100円          7人気\n",
      "202204010807   馬連            14 15            1,600円          5人気\n",
      "202204010807  ワイド  14 15 8 15 8 14  610円5,400円4,110円  4人気51人気42人気\n",
      "202204010807   馬単            15 14            2,950円          6人気\n",
      "202204010807  3連複          8 14 15           19,330円         62人気\n",
      "202204010807  3連単          15 14 8           78,740円        262人気\n",
      "-------------------\n",
      "predict\n",
      "              馬番    scores\n",
      "202204010808   7  0.498892\n",
      "202204010808  13  0.119901\n",
      "202204010808   2 -0.685255\n",
      "actual\n",
      "                0              1                 2            3\n",
      "202204010808   単勝              6              540円          3人気\n",
      "202204010808   複勝         6 8 13      170円340円170円    3人気7人気2人気\n",
      "202204010808   枠連            5 6            1,600円          6人気\n",
      "202204010808   馬連            6 8            3,730円         15人気\n",
      "202204010808  ワイド  6 8 6 13 8 13  1,330円450円1,220円  16人気3人気15人気\n",
      "202204010808   馬単            6 8            5,160円         23人気\n",
      "202204010808  3連複         6 8 13            3,720円          9人気\n",
      "202204010808  3連単         6 8 13           32,580円        107人気\n",
      "-------------------\n",
      "predict\n",
      "              馬番    scores\n",
      "202204010809   6  0.612234\n",
      "202204010809   2  0.324528\n",
      "202204010809  10 -0.265489\n",
      "actual\n",
      "                0            1               2           3\n",
      "202204010809   単勝            6            530円         3人気\n",
      "202204010809   複勝        6 2 8    170円170円280円   2人気3人気6人気\n",
      "202204010809   枠連          2 5            880円         3人気\n",
      "202204010809   馬連          2 6            880円         1人気\n",
      "202204010809  ワイド  2 6 6 8 2 8  380円820円1,120円  1人気9人気13人気\n",
      "202204010809   馬単          6 2          1,850円         2人気\n",
      "202204010809  3連複        2 6 8          3,090円         6人気\n",
      "202204010809  3連単        6 2 8         12,020円        23人気\n",
      "profit 380\n",
      "-------------------\n",
      "predict\n",
      "              馬番    scores\n",
      "202204010810   4  0.977687\n",
      "202204010810   8  0.872483\n",
      "202204010810  15  0.466761\n",
      "actual\n",
      "                0                  1                   2            3\n",
      "202204010810   単勝                 16              1,050円          5人気\n",
      "202204010810   複勝           16 15 11      380円240円1,220円   5人気3人気14人気\n",
      "202204010810   枠連                8 8              3,070円         15人気\n",
      "202204010810   馬連              15 16              3,000円         10人気\n",
      "202204010810  ワイド  15 16 11 16 11 15  1,080円8,360円5,460円  8人気75人気56人気\n",
      "202204010810   馬単              16 15              6,380円         22人気\n",
      "202204010810  3連複           11 15 16             44,770円        144人気\n",
      "202204010810  3連単           16 15 11            229,100円        729人気\n",
      "-------------------\n",
      "predict\n",
      "              馬番    scores\n",
      "202204010811  13 -0.461339\n",
      "202204010811   2 -0.716990\n",
      "202204010811   7 -0.772899\n",
      "actual\n",
      "                0              1             2          3\n",
      "202204010811   単勝              4          440円        2人気\n",
      "202204010811   複勝         4 12 8  150円180円240円  2人気3人気4人気\n",
      "202204010811   枠連            4 8          330円        1人気\n",
      "202204010811   馬連           4 12        1,070円        4人気\n",
      "202204010811  ワイド  4 12 4 8 8 12  420円800円830円  3人気8人気9人気\n",
      "202204010811   馬単           4 12        2,040円        7人気\n",
      "202204010811  3連複         4 8 12        3,470円       11人気\n",
      "202204010811  3連単         4 12 8       13,570円       33人気\n",
      "-------------------\n",
      "predict\n",
      "              馬番    scores\n",
      "202204010812  14  0.337790\n",
      "202204010812   9 -0.193662\n",
      "202204010812   3 -0.686471\n",
      "actual\n",
      "                0                1               2           3\n",
      "202204010812   単勝               10            660円         3人気\n",
      "202204010812   複勝          10 9 14    230円340円140円   4人気7人気1人気\n",
      "202204010812   枠連              5 6          3,420円        12人気\n",
      "202204010812   馬連             9 10          3,860円        16人気\n",
      "202204010812  ワイド  9 10 10 14 9 14  1,130円360円560円  16人気2人気4人気\n",
      "202204010812   馬単             10 9          7,230円        28人気\n",
      "202204010812  3連複          9 10 14          2,410円         4人気\n",
      "202204010812  3連単          10 9 14         20,860円        56人気\n",
      "---------------------\n",
      "単勝\n",
      "的中率 : 7 / 36\n",
      "的中% : 19.44 %\n",
      "収支   : -940 円\n",
      "的中レース ['01', '09', '02', '12', '04', '06', '09']\n",
      "---------------------\n",
      "複勝\n",
      "的中率 : 16 / 36\n",
      "的中% : 44.44 %\n",
      "収支   : -320 円\n",
      "的中レース ['01', '08', '09', '02', '04', '05', '06', '07', '10', '11', '12', '03', '04', '06', '09', '12']\n",
      "---------------------\n",
      "ワイド\n",
      "的中率 : 4 / 36\n",
      "的中% : 11.11 %\n",
      "収支   : 100 円\n",
      "的中レース ['09', '10', '06', '09']\n"
     ]
    }
   ],
   "source": [
    "\n",
    "pt.show_results_today()"
   ]
  },
  {
   "cell_type": "markdown",
   "id": "fd8b97e7-5e69-4334-a268-c7a57eaa10d8",
   "metadata": {},
   "source": [
    "# 日付に注意"
   ]
  },
  {
   "cell_type": "code",
   "execution_count": null,
   "id": "5e00c431-6a37-4f54-bfd3-7a1cc01780cc",
   "metadata": {},
   "outputs": [],
   "source": [
    "date = '2022/12/31'"
   ]
  },
  {
   "cell_type": "markdown",
   "id": "fd8ec390-bc7f-4821-8417-76382d034041",
   "metadata": {},
   "source": [
    "# Results scraping"
   ]
  },
  {
   "cell_type": "code",
   "execution_count": null,
   "id": "131add0a-4ac5-4133-b242-3fa2109a4762",
   "metadata": {
    "tags": []
   },
   "outputs": [],
   "source": [
    "# race_id_list = results.index.astype('str')\n",
    "\n",
    "results_tmp = Results.scrape(race_id_list)"
   ]
  },
  {
   "cell_type": "markdown",
   "id": "3c0ac189-894a-48ac-adb2-4e731640bc5c",
   "metadata": {},
   "source": [
    "# Horse_results scraping"
   ]
  },
  {
   "cell_type": "code",
   "execution_count": null,
   "id": "1fb495b3-1044-4b5a-afdc-cdf1b60aa6f8",
   "metadata": {},
   "outputs": [],
   "source": [
    "horse_id_list = results_tmp['horse_id'].astype(str).unique()\n",
    "horse_results_tmp = HorseResults.scrape(horse_id_list)\n",
    "# save_path = '/Users/rince/Desktop/Horse/Data/horse_2020.csv'"
   ]
  },
  {
   "cell_type": "markdown",
   "id": "c1569216-aa8f-40a3-8303-5d54a442b00e",
   "metadata": {},
   "source": [
    "# Peds scraping"
   ]
  },
  {
   "cell_type": "code",
   "execution_count": null,
   "id": "56d56e6b-7a60-4721-a111-892aafa204d9",
   "metadata": {},
   "outputs": [],
   "source": [
    "peds_2021 = Peds.scrape(horse_id_list)\n",
    "pe_2021 = Peds(peds_2021)\n",
    "pe_2021.regularize_peds()\n",
    "peds_tmp = pe_2021.peds_re"
   ]
  },
  {
   "cell_type": "markdown",
   "id": "2d1db0da-3505-4825-8408-e7dd58205c96",
   "metadata": {},
   "source": [
    "# Return scraping"
   ]
  },
  {
   "cell_type": "code",
   "execution_count": null,
   "id": "56a4d97d-94cc-477f-b643-5144c7173613",
   "metadata": {},
   "outputs": [],
   "source": [
    "returns_tmp = Return.scrape(race_id_list)\n"
   ]
  },
  {
   "cell_type": "markdown",
   "id": "6e175b9a-1a2d-4d5d-a5e2-e771c86dd8d2",
   "metadata": {},
   "source": [
    "# update"
   ]
  },
  {
   "cell_type": "code",
   "execution_count": null,
   "id": "428fa2b8-2058-4c1d-af05-ec10e9f3768d",
   "metadata": {},
   "outputs": [],
   "source": [
    "new_results = update_data(load_csv(path_mac+'results.csv'),results_tmp)\n",
    "new_horse_results = update_data(load_csv(path_mac+'horse_results.csv'),horse_results_tmp)\n",
    "new_peds = update_data(load_csv(path_mac+'peds.csv'),peds_tmp)\n",
    "returns = load_csv(path_mac+'return.csv').rename(columns={'0':0,'1':1,'2':2,'3':3},inplace=True)\n",
    "returns_tmp = returns_tmp.rename(columns={'0':0,'1':1,'2':2,'3':3},inplace=True)\n",
    "new_return = update_data(returns,returns_tmp)\n"
   ]
  },
  {
   "cell_type": "markdown",
   "id": "d77364dd-545a-43d4-97aa-070ca0595356",
   "metadata": {},
   "source": [
    "# save"
   ]
  },
  {
   "cell_type": "code",
   "execution_count": null,
   "id": "875dc8e7-f696-4b78-933d-4f62f3603430",
   "metadata": {},
   "outputs": [],
   "source": [
    "new_results.to_csv(path_mac+'results.csv')\n",
    "new_horse_results.to_csv(path_mac+'horse_results.csv')\n",
    "new_peds.to_csv(path_mac+'peds.csv')\n",
    "new_return.to_csv(path_mac+'return.csv')"
   ]
  },
  {
   "cell_type": "markdown",
   "id": "4bb0ca11-eae4-4d5e-b833-3184f6e85f85",
   "metadata": {},
   "source": [
    "# 重要度"
   ]
  },
  {
   "cell_type": "code",
   "execution_count": null,
   "id": "c64f0ed3-8651-4105-aa14-83bfa45b20c9",
   "metadata": {
    "tags": []
   },
   "outputs": [],
   "source": [
    "importances = pd.DataFrame(\n",
    "{'features' : x_train.columns, 'importances' : lgb_rank.feature_importance()})\n",
    "print(importances.sort_values('importances', ascending=False)[:30])"
   ]
  },
  {
   "cell_type": "markdown",
   "id": "d5dc1142-ff9b-4568-80b8-18ef0d9010c1",
   "metadata": {},
   "source": [
    "# fastText"
   ]
  },
  {
   "cell_type": "markdown",
   "id": "ea29d7bf-5052-44dc-ac80-dea59ed65444",
   "metadata": {},
   "source": [
    "流れ\n",
    "1. fasttext用の血統データの学習データを作る (血統の情報のみ, index ヘッダはいらない)\n",
    "2. fasttext学習\n",
    "3. 学習モデルを使って, 血統データをベクトル化\n",
    "4. ベクトル化して r.data_cに concat\n",
    "5. 学習\n"
   ]
  },
  {
   "cell_type": "markdown",
   "id": "23d375b9-e292-4d4a-97c2-905e3060419f",
   "metadata": {},
   "source": [
    "教師あり, 教師なしでも生成されるベクトルは等しい"
   ]
  },
  {
   "cell_type": "markdown",
   "id": "4de5229f-9b05-4bc1-820a-0e275a1d6c8f",
   "metadata": {},
   "source": [
    "# model_ft 作成"
   ]
  },
  {
   "cell_type": "code",
   "execution_count": null,
   "id": "554f0c62-72c2-4a2e-b45e-b0b4d37c2e86",
   "metadata": {
    "tags": []
   },
   "outputs": [],
   "source": [
    "# 相対パスしかできない\n",
    "# dim : 出力の次元\n",
    "# minn : n_gramの最小単位\n",
    "# maxn : n_gramの最大単位\n",
    "path_ft = '/Users/rince/Desktop/Horse/code/horse/peds_ft.txt'\n",
    "# 上書き保存OK\n",
    "peds.to_csv(path_ft,header=False,index=False,sep=',')\n",
    "model_ft = ft.train_unsupervised(path_ft,dim=62,minn=2,maxn=14)"
   ]
  },
  {
   "cell_type": "markdown",
   "id": "d9dd9030-310c-414d-8c91-6178159c00e6",
   "metadata": {},
   "source": [
    "model[model.words[1]] と model.get_input_vector(ind=1) は等価"
   ]
  },
  {
   "cell_type": "code",
   "execution_count": null,
   "id": "6b23af9b",
   "metadata": {},
   "outputs": [],
   "source": []
  }
 ],
 "metadata": {
  "interpreter": {
   "hash": "aee8b7b246df8f9039afb4144a1f6fd8d2ca17a180786b69acc140d282b71a49"
  },
  "kernelspec": {
   "display_name": "Python 3.7.2 64-bit",
   "language": "python",
   "name": "python3"
  },
  "language_info": {
   "codemirror_mode": {
    "name": "ipython",
    "version": 3
   },
   "file_extension": ".py",
   "mimetype": "text/x-python",
   "name": "python",
   "nbconvert_exporter": "python",
   "pygments_lexer": "ipython3",
   "version": "3.7.2"
  }
 },
 "nbformat": 4,
 "nbformat_minor": 5
}
