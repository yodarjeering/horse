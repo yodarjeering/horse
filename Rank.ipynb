{
 "cells": [
  {
   "cell_type": "markdown",
   "id": "485b75ae-02d8-4d3e-b0f4-c8cad9518e8c",
   "metadata": {},
   "source": [
    "# import"
   ]
  },
  {
   "cell_type": "code",
   "execution_count": 10,
   "id": "fa116d3b-51ac-42de-bf7a-fb55eb148689",
   "metadata": {},
   "outputs": [],
   "source": [
    "import pandas as pd\n",
    "from tqdm.notebook import tqdm as tqdm\n",
    "import time\n",
    "from graphviz import *\n",
    "import lightgbm as lgb\n",
    "from hyperopt import hp, tpe, Trials, fmin,STATUS_OK\n",
    "import fasttext as ft\n",
    "# import importlib\n",
    "# importlib.reload(hoge)\n",
    "from my_library.horse import *"
   ]
  },
  {
   "cell_type": "markdown",
   "id": "1782806f-f29f-40fe-9c06-7dfca7dd2339",
   "metadata": {},
   "source": [
    "# path"
   ]
  },
  {
   "cell_type": "code",
   "execution_count": 11,
   "id": "8a4008e3-1c76-4f8e-b375-0f3533379d5b",
   "metadata": {},
   "outputs": [],
   "source": [
    "path_ubu = '/home/hipro/デスクトップ/Horse/Data/20_21'\n",
    "path_mac2 = '/Users/rince/Desktop/Horse/Data/saishin2/'\n",
    "path_mac = '/Users/rince/Desktop/Horse/Data/saishin/'\n",
    "path_win = '/Users/Owner/Desktop/program/Horse/Data/saishin/'\n",
    "path_win2 = '/Users/Owner/Desktop/program/Horse/Data/saishin2/'"
   ]
  },
  {
   "cell_type": "markdown",
   "id": "a920e716-5257-45d8-9831-2effe586aa2c",
   "metadata": {},
   "source": [
    "# load data"
   ]
  },
  {
   "cell_type": "code",
   "execution_count": 12,
   "id": "2cafb76f-29dc-4841-bb1b-2792c246cd20",
   "metadata": {
    "tags": []
   },
   "outputs": [],
   "source": [
    "results = load_csv(path_mac+'results.csv')\n",
    "horse_results = load_csv(path_mac+'horse_results.csv')\n",
    "peds = load_csv(path_mac+'peds.csv')\n",
    "# 何回やってもロードすると, nanが出る\n",
    "peds.fillna('nan',inplace=True)\n",
    "return_tables = load_csv(path_mac+'return.csv')\n",
    "return_tables.rename(columns={'0':0,'1':1,'2':2,'3':3},inplace=True)"
   ]
  },
  {
   "cell_type": "markdown",
   "id": "6897b3ed-08f1-452f-bc5c-840f04015aed",
   "metadata": {},
   "source": [
    "# race_id 命名規則"
   ]
  },
  {
   "cell_type": "markdown",
   "id": "f840d19f-0d83-4c24-a9d6-245b20e6eac6",
   "metadata": {},
   "source": [
    "race_id 202105040802\\\n",
    "yyyy_pp_xx_xxrr\\\n",
    "y : year\\\n",
    "p : palce\\\n",
    "x : 謎\\\n",
    "r : race番号"
   ]
  },
  {
   "cell_type": "code",
   "execution_count": null,
   "id": "c895357f",
   "metadata": {},
   "outputs": [],
   "source": [
    "ll = LearnLGBM(peds,results,horse_results)\n",
    "ll.learn_lgb()"
   ]
  },
  {
   "cell_type": "code",
   "execution_count": null,
   "metadata": {},
   "outputs": [],
   "source": [
    "train_query = ll.x_train.groupby(ll.x_train.index).size()\n",
    "train = lgb.Dataset(ll.x_train, ll.y_train, group=train_query)\n",
    "ll.learn_lgb2(train,lgbm_params=lgbm_params)"
   ]
  },
  {
   "cell_type": "code",
   "execution_count": null,
   "id": "f5a261c3",
   "metadata": {},
   "outputs": [],
   "source": [
    "# ll = LearnLGBM(peds,results,horse_results)\n",
    "# ll.get_train_data()\n",
    "\n",
    "\n",
    "val_x = ll.x_test.iloc[:-10000]\n",
    "val_y = ll.y_test.iloc[:-10000]\n",
    "test_query = val_x.groupby(val_x.index).size()\n",
    "train_query = ll.x_train.groupby(ll.x_train.index).size()\n",
    "train = lgb.Dataset(ll.x_train, ll.y_train, group=train_query)\n",
    "valid = lgb.Dataset(val_x, val_y, reference=train, group=test_query)"
   ]
  },
  {
   "cell_type": "markdown",
   "id": "27efe69c",
   "metadata": {},
   "source": [
    "# 正解ラベル　変えた"
   ]
  },
  {
   "cell_type": "code",
   "execution_count": 76,
   "id": "32108465",
   "metadata": {},
   "outputs": [],
   "source": [
    "def split_data(df, test_size=0.2, rank_learning=True):\n",
    "    \"\"\"\n",
    "    データを学習データと, 訓練データに分ける関数\n",
    "    \"\"\"\n",
    "    df_ = df.copy()\n",
    "    df_['rank'] = df_['rank'].map(lambda x: int((1/x)*10) if x<4 else(0))\n",
    "        \n",
    "    sorted_id_list = df_.sort_values(\"date\").index.unique()\n",
    "    train_id_list = sorted_id_list[: round(len(sorted_id_list) * (1 - test_size))]\n",
    "    test_id_list = sorted_id_list[round(len(sorted_id_list) * (1 - test_size)) :]\n",
    "    train = df_.loc[train_id_list]#.drop(['date'], axis=1)\n",
    "    test = df_.loc[test_id_list]#.drop(['date'], axis=1)\n",
    "    return train, test\n",
    "\n",
    "    \n",
    "train, test = split_data(pt.r.data_c.fillna(0),test_size=0.2,rank_learning=False)\n",
    "x_train = train.drop(['rank', 'date','単勝'], axis=1)\n",
    "y_train = train['rank']\n",
    "x_test = test.drop(['rank', 'date','単勝'], axis=1)\n",
    "y_test = test['rank']\n",
    "train_query = x_train.groupby(x_train.index).size()\n",
    "train = lgb.Dataset(x_train, y_train, group=train_query)\n",
    "# val_y = y_test.iloc[:-10000]\n",
    "test_query = x_test.groupby(x_test.index).size()\n",
    "valid = lgb.Dataset(x_test, y_test, reference=train, group=test_query)"
   ]
  },
  {
   "cell_type": "code",
   "execution_count": 84,
   "id": "6be3bc5a",
   "metadata": {},
   "outputs": [],
   "source": [
    "lgbm_params = {\n",
    "                'metric': 'ndcg',\n",
    "                'objective': 'lambdarank',\n",
    "                'ndcg_eval_at': [1,2,3],\n",
    "                'boosting_type': 'gbdt',\n",
    "                'random_state': 777,\n",
    "                # 'lambdarank_truncation_level': 37,\n",
    "                #  'learning_rate': 0.01271180569095827,\n",
    "                'lambdarank_truncation_level': 10,\n",
    "                'learning_rate': 0.02273417953255777,\n",
    "                'n_estimators': 97,\n",
    "                'num_leaves': 42,\n",
    "                'force_col_wise':True\n",
    "            }\n",
    "\n"
   ]
  },
  {
   "cell_type": "code",
   "execution_count": null,
   "id": "defd053c",
   "metadata": {},
   "outputs": [],
   "source": [
    "import warnings\n",
    "\n",
    "warnings.filterwarnings(\"ignore\")\n",
    "ll.learn_lgb2(train,lgbm_params=lgbm_params)"
   ]
  },
  {
   "cell_type": "code",
   "execution_count": 67,
   "id": "03dc35cc",
   "metadata": {},
   "outputs": [],
   "source": [
    "def score(params):\n",
    "    print(\"Training start:\")\n",
    "\n",
    "    N_boost_round = []\n",
    "    Score = []\n",
    "\n",
    "    lgb_results={}  #履歴格納用\n",
    "    # train = lgb.Dataset(x_train, y_train, group=train_query)\n",
    "    # valid = lgb.Dataset(x_test, y_test, reference=train, group=test_query)\n",
    "\n",
    "    \n",
    "    lgb_clf = lgb.train(\n",
    "        params,\n",
    "        train,\n",
    "        num_boost_round=1000,\n",
    "        valid_sets=valid,\n",
    "        valid_names=['valid'],\n",
    "        early_stopping_rounds=20,\n",
    "        verbose_eval=5,\n",
    "        evals_result=lgb_results,\n",
    "    )\n",
    "#     return lgb_results\n",
    "    return {'loss': -1.0 * lgb_results['valid']['ndcg@3'][lgb_clf.best_iteration], 'status': STATUS_OK}\n",
    "\n",
    "def optimize(trials):\n",
    "#探索スペース\n",
    "    space = {\n",
    "        'objective': 'lambdarank',\n",
    "        'metric': 'ndcg',\n",
    "        # 上位三着を考慮する\n",
    "        'ndcg_eval_at': [1,2,3],\n",
    "#         best paramsの返り値は, choiceだとindexか?\n",
    "        'lambdarank_truncation_level': hp.choice('lambdarank_truncation_level',range(1,50)),\n",
    "        'learning_rate': hp.uniform('learning_rate', 0.01, 0.1),\n",
    "        # n_estimators == num_iterations\n",
    "        # 'num_iterations': hp.choice('num_iterations',range(50,120)),\n",
    "        # 'num_leaves': hp.choice('num_leaves',range(20,50)),\n",
    "        'boosting_type': 'gbdt',\n",
    "        'random_state': 777\n",
    "    }\n",
    "\n",
    "    max_evals = 25      #探索回数(25くらいで十分)\n",
    "    best = fmin(score, space, algo=tpe.suggest, trials=trials, max_evals=max_evals)\n",
    "\n",
    "    print(\"best parameters:\", best)"
   ]
  },
  {
   "cell_type": "code",
   "execution_count": 77,
   "id": "8ae3611f",
   "metadata": {},
   "outputs": [
    {
     "name": "stdout",
     "output_type": "stream",
     "text": [
      "Training start:                                       \n",
      "[LightGBM] [Warning]                                  \n",
      "Auto-choosing col-wise multi-threading, the overhead of testing was 0.075784 seconds.\n",
      "You can set `force_col_wise=true` to remove the overhead.\n",
      "[LightGBM] [Info]                                     \n",
      "Total Bins 46312                                      \n",
      "[LightGBM] [Info]                                     \n",
      "Number of data points in the train set: 88842, number of used features: 172\n",
      "  0%|          | 0/25 [00:02<?, ?trial/s, best loss=?]"
     ]
    },
    {
     "name": "stderr",
     "output_type": "stream",
     "text": [
      "/Users/rince/Library/Python/3.7/lib/python/site-packages/lightgbm/basic.py:1286: UserWarning: Overriding the parameters from Reference Dataset.\n",
      "  warnings.warn('Overriding the parameters from Reference Dataset.')\n",
      "\n",
      "/Users/rince/Library/Python/3.7/lib/python/site-packages/lightgbm/basic.py:1098: UserWarning: categorical_column in param dict is overridden.\n",
      "  warnings.warn('{} in param dict is overridden.'.format(cat_alias))\n",
      "\n"
     ]
    },
    {
     "name": "stdout",
     "output_type": "stream",
     "text": [
      "Training until validation scores don't improve for 20 rounds\n",
      "[5]\tvalid's ndcg@1: 0.302163\tvalid's ndcg@2: 0.377691\tvalid's ndcg@3: 0.430869\n",
      "[10]\tvalid's ndcg@1: 0.296065\tvalid's ndcg@2: 0.372568\tvalid's ndcg@3: 0.428028\n",
      "[15]\tvalid's ndcg@1: 0.291905\tvalid's ndcg@2: 0.372077\tvalid's ndcg@3: 0.43207\n",
      "[20]\tvalid's ndcg@1: 0.299825\tvalid's ndcg@2: 0.374682\tvalid's ndcg@3: 0.433038\n",
      "Early stopping, best iteration is:                    \n",
      "[4]\tvalid's ndcg@1: 0.304076\tvalid's ndcg@2: 0.38047\tvalid's ndcg@3: 0.433424\n",
      "Training start:                                                                  \n",
      "[LightGBM] [Warning]                                                             \n",
      "Auto-choosing row-wise multi-threading, the overhead of testing was 0.018453 seconds.\n",
      "You can set `force_row_wise=true` to remove the overhead.\n",
      "And if memory is not enough, you can set `force_col_wise=true`.\n",
      "[LightGBM] [Info]                                                                \n",
      "Total Bins 46312                                                                 \n",
      "[LightGBM] [Info]                                                                \n",
      "Number of data points in the train set: 88842, number of used features: 172      \n",
      "Training until validation scores don't improve for 20 rounds                     \n",
      "[5]\tvalid's ndcg@1: 0.288085\tvalid's ndcg@2: 0.366306\tvalid's ndcg@3: 0.423368   \n",
      "[10]\tvalid's ndcg@1: 0.296596\tvalid's ndcg@2: 0.375417\tvalid's ndcg@3: 0.433832  \n",
      "[15]\tvalid's ndcg@1: 0.2916\tvalid's ndcg@2: 0.37107\tvalid's ndcg@3: 0.43209      \n",
      "[20]\tvalid's ndcg@1: 0.293359\tvalid's ndcg@2: 0.372085\tvalid's ndcg@3: 0.436162  \n",
      "[25]\tvalid's ndcg@1: 0.286546\tvalid's ndcg@2: 0.367209\tvalid's ndcg@3: 0.42892   \n",
      "Early stopping, best iteration is:                                               \n",
      "[9]\tvalid's ndcg@1: 0.298443\tvalid's ndcg@2: 0.376222\tvalid's ndcg@3: 0.433951\n",
      "Training start:                                                                  \n",
      "[LightGBM] [Warning]                                                             \n",
      "Auto-choosing row-wise multi-threading, the overhead of testing was 0.025360 seconds.\n",
      "You can set `force_row_wise=true` to remove the overhead.\n",
      "And if memory is not enough, you can set `force_col_wise=true`.\n",
      "[LightGBM] [Info]                                                                \n",
      "Total Bins 46312                                                                 \n",
      "[LightGBM] [Info]                                                                \n",
      "Number of data points in the train set: 88842, number of used features: 172      \n",
      "Training until validation scores don't improve for 20 rounds                     \n",
      "[5]\tvalid's ndcg@1: 0.290763\tvalid's ndcg@2: 0.372375\tvalid's ndcg@3: 0.42678    \n",
      "[10]\tvalid's ndcg@1: 0.288746\tvalid's ndcg@2: 0.37447\tvalid's ndcg@3: 0.433442   \n",
      "[15]\tvalid's ndcg@1: 0.288807\tvalid's ndcg@2: 0.36981\tvalid's ndcg@3: 0.430267   \n",
      "[20]\tvalid's ndcg@1: 0.292681\tvalid's ndcg@2: 0.375826\tvalid's ndcg@3: 0.4317    \n",
      "[25]\tvalid's ndcg@1: 0.292031\tvalid's ndcg@2: 0.37592\tvalid's ndcg@3: 0.435724   \n",
      "[30]\tvalid's ndcg@1: 0.293993\tvalid's ndcg@2: 0.376717\tvalid's ndcg@3: 0.430954  \n",
      "[35]\tvalid's ndcg@1: 0.289449\tvalid's ndcg@2: 0.369192\tvalid's ndcg@3: 0.428598  \n",
      "[40]\tvalid's ndcg@1: 0.295185\tvalid's ndcg@2: 0.370407\tvalid's ndcg@3: 0.430765  \n",
      "[45]\tvalid's ndcg@1: 0.28997\tvalid's ndcg@2: 0.370855\tvalid's ndcg@3: 0.429239   \n",
      "Early stopping, best iteration is:                                               \n",
      "[25]\tvalid's ndcg@1: 0.292031\tvalid's ndcg@2: 0.37592\tvalid's ndcg@3: 0.435724\n",
      "Training start:                                                                  \n",
      "[LightGBM] [Warning]                                                             \n",
      "Auto-choosing col-wise multi-threading, the overhead of testing was 0.138648 seconds.\n",
      "You can set `force_col_wise=true` to remove the overhead.\n",
      "[LightGBM] [Info]                                                                \n",
      "Total Bins 46312                                                                 \n",
      "[LightGBM] [Info]                                                                \n",
      "Number of data points in the train set: 88842, number of used features: 172      \n",
      "Training until validation scores don't improve for 20 rounds                     \n",
      "[5]\tvalid's ndcg@1: 0.289459\tvalid's ndcg@2: 0.374071\tvalid's ndcg@3: 0.434403   \n",
      "[10]\tvalid's ndcg@1: 0.288116\tvalid's ndcg@2: 0.368558\tvalid's ndcg@3: 0.425785  \n",
      "[15]\tvalid's ndcg@1: 0.290657\tvalid's ndcg@2: 0.371306\tvalid's ndcg@3: 0.431781  \n",
      "[20]\tvalid's ndcg@1: 0.284983\tvalid's ndcg@2: 0.3709\tvalid's ndcg@3: 0.430498    \n",
      "Early stopping, best iteration is:                                               \n",
      "[2]\tvalid's ndcg@1: 0.297817\tvalid's ndcg@2: 0.370779\tvalid's ndcg@3: 0.43034\n",
      "Training start:                                                                  \n",
      "[LightGBM] [Warning]                                                             \n",
      "Auto-choosing col-wise multi-threading, the overhead of testing was 0.159908 seconds.\n",
      "You can set `force_col_wise=true` to remove the overhead.\n",
      "[LightGBM] [Info]                                                                \n",
      "Total Bins 46312                                                                 \n",
      "[LightGBM] [Info]                                                                \n",
      "Number of data points in the train set: 88842, number of used features: 172      \n",
      "Training until validation scores don't improve for 20 rounds                     \n",
      "[5]\tvalid's ndcg@1: 0.2986\tvalid's ndcg@2: 0.375438\tvalid's ndcg@3: 0.431615     \n",
      "[10]\tvalid's ndcg@1: 0.295101\tvalid's ndcg@2: 0.37759\tvalid's ndcg@3: 0.436159   \n",
      "[15]\tvalid's ndcg@1: 0.289167\tvalid's ndcg@2: 0.372933\tvalid's ndcg@3: 0.432211  \n",
      "[20]\tvalid's ndcg@1: 0.292728\tvalid's ndcg@2: 0.370516\tvalid's ndcg@3: 0.429014  \n",
      "[25]\tvalid's ndcg@1: 0.28948\tvalid's ndcg@2: 0.374445\tvalid's ndcg@3: 0.429897   \n",
      "Early stopping, best iteration is:                                               \n",
      "[5]\tvalid's ndcg@1: 0.2986\tvalid's ndcg@2: 0.375438\tvalid's ndcg@3: 0.431615\n",
      "Training start:                                                                  \n",
      "[LightGBM] [Warning]                                                             \n",
      "Auto-choosing col-wise multi-threading, the overhead of testing was 0.084785 seconds.\n",
      "You can set `force_col_wise=true` to remove the overhead.\n",
      "[LightGBM] [Info]                                                                \n",
      "Total Bins 46312                                                                 \n",
      "[LightGBM] [Info]                                                                \n",
      "Number of data points in the train set: 88842, number of used features: 172      \n",
      "Training until validation scores don't improve for 20 rounds                     \n",
      "[5]\tvalid's ndcg@1: 0.294557\tvalid's ndcg@2: 0.378472\tvalid's ndcg@3: 0.430605   \n",
      "[10]\tvalid's ndcg@1: 0.282071\tvalid's ndcg@2: 0.369295\tvalid's ndcg@3: 0.427118  \n",
      "[15]\tvalid's ndcg@1: 0.286343\tvalid's ndcg@2: 0.362168\tvalid's ndcg@3: 0.425305  \n",
      "[20]\tvalid's ndcg@1: 0.291532\tvalid's ndcg@2: 0.372032\tvalid's ndcg@3: 0.430311  \n",
      "[25]\tvalid's ndcg@1: 0.287791\tvalid's ndcg@2: 0.369524\tvalid's ndcg@3: 0.42712   \n",
      "Early stopping, best iteration is:                                               \n",
      "[5]\tvalid's ndcg@1: 0.294557\tvalid's ndcg@2: 0.378472\tvalid's ndcg@3: 0.430605\n",
      "Training start:                                                                  \n",
      "[LightGBM] [Warning]                                                             \n",
      "Auto-choosing col-wise multi-threading, the overhead of testing was 0.096335 seconds.\n",
      "You can set `force_col_wise=true` to remove the overhead.\n",
      "[LightGBM] [Info]                                                                \n",
      "Total Bins 46312                                                                 \n",
      "[LightGBM] [Info]                                                                \n",
      "Number of data points in the train set: 88842, number of used features: 172      \n",
      "Training until validation scores don't improve for 20 rounds                     \n",
      "[5]\tvalid's ndcg@1: 0.291257\tvalid's ndcg@2: 0.370871\tvalid's ndcg@3: 0.426542   \n",
      "[10]\tvalid's ndcg@1: 0.286454\tvalid's ndcg@2: 0.372215\tvalid's ndcg@3: 0.432658  \n",
      "[15]\tvalid's ndcg@1: 0.291282\tvalid's ndcg@2: 0.373638\tvalid's ndcg@3: 0.433059  \n",
      "[20]\tvalid's ndcg@1: 0.286398\tvalid's ndcg@2: 0.366155\tvalid's ndcg@3: 0.427446  \n",
      "Early stopping, best iteration is:                                               \n",
      "[2]\tvalid's ndcg@1: 0.293607\tvalid's ndcg@2: 0.36784\tvalid's ndcg@3: 0.428608\n",
      "Training start:                                                                  \n",
      "[LightGBM] [Warning]                                                             \n",
      "Auto-choosing col-wise multi-threading, the overhead of testing was 0.094495 seconds.\n",
      "You can set `force_col_wise=true` to remove the overhead.\n",
      "[LightGBM] [Info]                                                                \n",
      "Total Bins 46312                                                                 \n",
      "[LightGBM] [Info]                                                                \n",
      "Number of data points in the train set: 88842, number of used features: 172      \n",
      "Training until validation scores don't improve for 20 rounds                     \n",
      "[5]\tvalid's ndcg@1: 0.298341\tvalid's ndcg@2: 0.377938\tvalid's ndcg@3: 0.43469    \n",
      "[10]\tvalid's ndcg@1: 0.279507\tvalid's ndcg@2: 0.367095\tvalid's ndcg@3: 0.428207  \n",
      "[15]\tvalid's ndcg@1: 0.291881\tvalid's ndcg@2: 0.367452\tvalid's ndcg@3: 0.431724  \n",
      "[20]\tvalid's ndcg@1: 0.2838\tvalid's ndcg@2: 0.368043\tvalid's ndcg@3: 0.430317    \n",
      "Early stopping, best iteration is:                                               \n",
      "[4]\tvalid's ndcg@1: 0.306188\tvalid's ndcg@2: 0.384301\tvalid's ndcg@3: 0.439748\n",
      "Training start:                                                                  \n",
      "[LightGBM] [Warning]                                                             \n",
      "Auto-choosing col-wise multi-threading, the overhead of testing was 0.069538 seconds.\n",
      "You can set `force_col_wise=true` to remove the overhead.\n",
      "[LightGBM] [Info]                                                                \n",
      "Total Bins 46312                                                                 \n",
      "[LightGBM] [Info]                                                                \n",
      "Number of data points in the train set: 88842, number of used features: 172      \n",
      "Training until validation scores don't improve for 20 rounds                     \n",
      "[5]\tvalid's ndcg@1: 0.294484\tvalid's ndcg@2: 0.373107\tvalid's ndcg@3: 0.42924    \n",
      "[10]\tvalid's ndcg@1: 0.290732\tvalid's ndcg@2: 0.371795\tvalid's ndcg@3: 0.43472   \n",
      "[15]\tvalid's ndcg@1: 0.29227\tvalid's ndcg@2: 0.372547\tvalid's ndcg@3: 0.431418   \n",
      "[20]\tvalid's ndcg@1: 0.287995\tvalid's ndcg@2: 0.367665\tvalid's ndcg@3: 0.43233   \n",
      "[25]\tvalid's ndcg@1: 0.289126\tvalid's ndcg@2: 0.369813\tvalid's ndcg@3: 0.436819  \n",
      "[30]\tvalid's ndcg@1: 0.291471\tvalid's ndcg@2: 0.374044\tvalid's ndcg@3: 0.431739  \n",
      "Early stopping, best iteration is:                                               \n",
      "[11]\tvalid's ndcg@1: 0.297868\tvalid's ndcg@2: 0.379396\tvalid's ndcg@3: 0.438361\n",
      "Training start:                                                                  \n",
      "[LightGBM] [Warning]                                                             \n",
      "Auto-choosing col-wise multi-threading, the overhead of testing was 0.154978 seconds.\n",
      "You can set `force_col_wise=true` to remove the overhead.\n",
      "[LightGBM] [Info]                                                                \n",
      "Total Bins 46312                                                                 \n",
      "[LightGBM] [Info]                                                                \n",
      "Number of data points in the train set: 88842, number of used features: 172      \n",
      "Training until validation scores don't improve for 20 rounds                     \n",
      "[5]\tvalid's ndcg@1: 0.297958\tvalid's ndcg@2: 0.37411\tvalid's ndcg@3: 0.433473    \n",
      "[10]\tvalid's ndcg@1: 0.288152\tvalid's ndcg@2: 0.372217\tvalid's ndcg@3: 0.430538  \n",
      "[15]\tvalid's ndcg@1: 0.285669\tvalid's ndcg@2: 0.370399\tvalid's ndcg@3: 0.43025   \n",
      "[20]\tvalid's ndcg@1: 0.289844\tvalid's ndcg@2: 0.372493\tvalid's ndcg@3: 0.433015  \n",
      "[25]\tvalid's ndcg@1: 0.284947\tvalid's ndcg@2: 0.3655\tvalid's ndcg@3: 0.426987    \n",
      "Early stopping, best iteration is:                                               \n",
      "[5]\tvalid's ndcg@1: 0.297958\tvalid's ndcg@2: 0.37411\tvalid's ndcg@3: 0.433473\n",
      "Training start:                                                                   \n",
      "[LightGBM] [Warning]                                                              \n",
      "Auto-choosing row-wise multi-threading, the overhead of testing was 0.034134 seconds.\n",
      "You can set `force_row_wise=true` to remove the overhead.\n",
      "And if memory is not enough, you can set `force_col_wise=true`.\n",
      "[LightGBM] [Info]                                                                 \n",
      "Total Bins 46312                                                                  \n",
      "[LightGBM] [Info]                                                                 \n",
      "Number of data points in the train set: 88842, number of used features: 172       \n",
      "Training until validation scores don't improve for 20 rounds                      \n",
      "[5]\tvalid's ndcg@1: 0.29139\tvalid's ndcg@2: 0.375354\tvalid's ndcg@3: 0.431867     \n",
      "[10]\tvalid's ndcg@1: 0.293441\tvalid's ndcg@2: 0.373469\tvalid's ndcg@3: 0.42771    \n",
      "[15]\tvalid's ndcg@1: 0.286349\tvalid's ndcg@2: 0.370921\tvalid's ndcg@3: 0.431103   \n",
      "[20]\tvalid's ndcg@1: 0.290262\tvalid's ndcg@2: 0.376076\tvalid's ndcg@3: 0.435623   \n",
      "[25]\tvalid's ndcg@1: 0.289157\tvalid's ndcg@2: 0.37487\tvalid's ndcg@3: 0.43031     \n",
      "Early stopping, best iteration is:                                                \n",
      "[7]\tvalid's ndcg@1: 0.295162\tvalid's ndcg@2: 0.379055\tvalid's ndcg@3: 0.433671\n",
      "Training start:                                                                   \n",
      "[LightGBM] [Warning]                                                              \n",
      "Auto-choosing col-wise multi-threading, the overhead of testing was 0.073387 seconds.\n",
      "You can set `force_col_wise=true` to remove the overhead.\n",
      "[LightGBM] [Info]                                                                 \n",
      "Total Bins 46312                                                                  \n",
      "[LightGBM] [Info]                                                                 \n",
      "Number of data points in the train set: 88842, number of used features: 172       \n",
      "Training until validation scores don't improve for 20 rounds                      \n",
      "[5]\tvalid's ndcg@1: 0.291851\tvalid's ndcg@2: 0.374219\tvalid's ndcg@3: 0.429526    \n",
      "[10]\tvalid's ndcg@1: 0.290457\tvalid's ndcg@2: 0.36813\tvalid's ndcg@3: 0.426674    \n",
      "[15]\tvalid's ndcg@1: 0.283466\tvalid's ndcg@2: 0.362369\tvalid's ndcg@3: 0.428239   \n",
      "[20]\tvalid's ndcg@1: 0.283986\tvalid's ndcg@2: 0.361698\tvalid's ndcg@3: 0.427384   \n",
      "Early stopping, best iteration is:                                                \n",
      "[4]\tvalid's ndcg@1: 0.300275\tvalid's ndcg@2: 0.384008\tvalid's ndcg@3: 0.436636\n",
      "Training start:                                                                   \n",
      "[LightGBM] [Warning]                                                              \n",
      "Auto-choosing row-wise multi-threading, the overhead of testing was 0.017216 seconds.\n",
      "You can set `force_row_wise=true` to remove the overhead.\n",
      "And if memory is not enough, you can set `force_col_wise=true`.\n",
      "[LightGBM] [Info]                                                                 \n",
      "Total Bins 46312                                                                  \n",
      "[LightGBM] [Info]                                                                 \n",
      "Number of data points in the train set: 88842, number of used features: 172       \n",
      "Training until validation scores don't improve for 20 rounds                      \n",
      "[5]\tvalid's ndcg@1: 0.292031\tvalid's ndcg@2: 0.373723\tvalid's ndcg@3: 0.434251    \n",
      "[10]\tvalid's ndcg@1: 0.289179\tvalid's ndcg@2: 0.377547\tvalid's ndcg@3: 0.437127   \n",
      "[15]\tvalid's ndcg@1: 0.292661\tvalid's ndcg@2: 0.374666\tvalid's ndcg@3: 0.437472   \n",
      "[20]\tvalid's ndcg@1: 0.297694\tvalid's ndcg@2: 0.375611\tvalid's ndcg@3: 0.436322   \n",
      "Early stopping, best iteration is:                                                \n",
      "[4]\tvalid's ndcg@1: 0.305568\tvalid's ndcg@2: 0.386195\tvalid's ndcg@3: 0.439441\n",
      "Training start:                                                                   \n",
      "[LightGBM] [Warning]                                                              \n",
      "Auto-choosing col-wise multi-threading, the overhead of testing was 0.078245 seconds.\n",
      "You can set `force_col_wise=true` to remove the overhead.\n",
      "[LightGBM] [Info]                                                                 \n",
      "Total Bins 46312                                                                  \n",
      "[LightGBM] [Info]                                                                 \n",
      "Number of data points in the train set: 88842, number of used features: 172       \n",
      "Training until validation scores don't improve for 20 rounds                      \n",
      "[5]\tvalid's ndcg@1: 0.296197\tvalid's ndcg@2: 0.378204\tvalid's ndcg@3: 0.430954    \n",
      "[10]\tvalid's ndcg@1: 0.294987\tvalid's ndcg@2: 0.381281\tvalid's ndcg@3: 0.439683   \n",
      "[15]\tvalid's ndcg@1: 0.283836\tvalid's ndcg@2: 0.376661\tvalid's ndcg@3: 0.437831   \n",
      "[20]\tvalid's ndcg@1: 0.287002\tvalid's ndcg@2: 0.368339\tvalid's ndcg@3: 0.432605   \n",
      "Early stopping, best iteration is:                                                \n",
      "[4]\tvalid's ndcg@1: 0.299139\tvalid's ndcg@2: 0.379538\tvalid's ndcg@3: 0.432085\n",
      "Training start:                                                                   \n",
      "[LightGBM] [Warning]                                                              \n",
      "Auto-choosing row-wise multi-threading, the overhead of testing was 0.013590 seconds.\n",
      "You can set `force_row_wise=true` to remove the overhead.\n",
      "And if memory is not enough, you can set `force_col_wise=true`.\n",
      "[LightGBM] [Info]                                                                 \n",
      "Total Bins 46312                                                                  \n",
      "[LightGBM] [Info]                                                                 \n",
      "Number of data points in the train set: 88842, number of used features: 172       \n",
      "Training until validation scores don't improve for 20 rounds                      \n",
      "[5]\tvalid's ndcg@1: 0.285804\tvalid's ndcg@2: 0.371179\tvalid's ndcg@3: 0.434649    \n",
      "[10]\tvalid's ndcg@1: 0.292552\tvalid's ndcg@2: 0.373901\tvalid's ndcg@3: 0.435432   \n",
      "[15]\tvalid's ndcg@1: 0.292111\tvalid's ndcg@2: 0.373807\tvalid's ndcg@3: 0.435332   \n",
      "[20]\tvalid's ndcg@1: 0.293259\tvalid's ndcg@2: 0.373187\tvalid's ndcg@3: 0.436652   \n",
      "Early stopping, best iteration is:                                                \n",
      "[2]\tvalid's ndcg@1: 0.302313\tvalid's ndcg@2: 0.374984\tvalid's ndcg@3: 0.43348\n",
      "Training start:                                                                   \n",
      "[LightGBM] [Warning]                                                              \n",
      "Auto-choosing col-wise multi-threading, the overhead of testing was 0.091624 seconds.\n",
      "You can set `force_col_wise=true` to remove the overhead.\n",
      "[LightGBM] [Info]                                                                 \n",
      "Total Bins 46312                                                                  \n",
      "[LightGBM] [Info]                                                                 \n",
      "Number of data points in the train set: 88842, number of used features: 172       \n",
      "Training until validation scores don't improve for 20 rounds                      \n",
      "[5]\tvalid's ndcg@1: 0.288768\tvalid's ndcg@2: 0.376897\tvalid's ndcg@3: 0.43876     \n",
      "[10]\tvalid's ndcg@1: 0.291202\tvalid's ndcg@2: 0.369868\tvalid's ndcg@3: 0.434566   \n",
      "[15]\tvalid's ndcg@1: 0.285471\tvalid's ndcg@2: 0.367263\tvalid's ndcg@3: 0.429963   \n",
      "[20]\tvalid's ndcg@1: 0.28463\tvalid's ndcg@2: 0.366976\tvalid's ndcg@3: 0.428873    \n",
      "[25]\tvalid's ndcg@1: 0.287256\tvalid's ndcg@2: 0.369288\tvalid's ndcg@3: 0.429499   \n",
      "Early stopping, best iteration is:                                                \n",
      "[5]\tvalid's ndcg@1: 0.288768\tvalid's ndcg@2: 0.376897\tvalid's ndcg@3: 0.43876\n",
      "Training start:                                                                   \n",
      "[LightGBM] [Warning]                                                              \n",
      "Auto-choosing col-wise multi-threading, the overhead of testing was 0.109113 seconds.\n",
      "You can set `force_col_wise=true` to remove the overhead.\n",
      "[LightGBM] [Info]                                                                 \n",
      "Total Bins 46312                                                                  \n",
      "[LightGBM] [Info]                                                                 \n",
      "Number of data points in the train set: 88842, number of used features: 172       \n",
      "Training until validation scores don't improve for 20 rounds                      \n",
      "[5]\tvalid's ndcg@1: 0.291765\tvalid's ndcg@2: 0.370102\tvalid's ndcg@3: 0.426563    \n",
      "[10]\tvalid's ndcg@1: 0.287192\tvalid's ndcg@2: 0.367169\tvalid's ndcg@3: 0.427968   \n",
      "[15]\tvalid's ndcg@1: 0.291018\tvalid's ndcg@2: 0.37401\tvalid's ndcg@3: 0.436945    \n",
      "[20]\tvalid's ndcg@1: 0.292912\tvalid's ndcg@2: 0.377223\tvalid's ndcg@3: 0.434087   \n",
      "[25]\tvalid's ndcg@1: 0.296406\tvalid's ndcg@2: 0.376821\tvalid's ndcg@3: 0.436101   \n",
      "[30]\tvalid's ndcg@1: 0.293859\tvalid's ndcg@2: 0.374314\tvalid's ndcg@3: 0.435332   \n",
      "[35]\tvalid's ndcg@1: 0.293156\tvalid's ndcg@2: 0.37103\tvalid's ndcg@3: 0.432394    \n",
      "Early stopping, best iteration is:                                                \n",
      "[18]\tvalid's ndcg@1: 0.294144\tvalid's ndcg@2: 0.379248\tvalid's ndcg@3: 0.438978\n",
      "Training start:                                                                   \n",
      "[LightGBM] [Warning]                                                              \n",
      "Auto-choosing row-wise multi-threading, the overhead of testing was 0.016435 seconds.\n",
      "You can set `force_row_wise=true` to remove the overhead.\n",
      "And if memory is not enough, you can set `force_col_wise=true`.\n",
      "[LightGBM] [Info]                                                                 \n",
      "Total Bins 46312                                                                  \n",
      "[LightGBM] [Info]                                                                 \n",
      "Number of data points in the train set: 88842, number of used features: 172       \n",
      "Training until validation scores don't improve for 20 rounds                      \n",
      "[5]\tvalid's ndcg@1: 0.29418\tvalid's ndcg@2: 0.373224\tvalid's ndcg@3: 0.426404     \n",
      "[10]\tvalid's ndcg@1: 0.287632\tvalid's ndcg@2: 0.371918\tvalid's ndcg@3: 0.429846   \n",
      "[15]\tvalid's ndcg@1: 0.290231\tvalid's ndcg@2: 0.374846\tvalid's ndcg@3: 0.430507   \n",
      "[20]\tvalid's ndcg@1: 0.294389\tvalid's ndcg@2: 0.372644\tvalid's ndcg@3: 0.432915   \n",
      "[25]\tvalid's ndcg@1: 0.289941\tvalid's ndcg@2: 0.37548\tvalid's ndcg@3: 0.432171    \n",
      "Early stopping, best iteration is:                                                \n",
      "[9]\tvalid's ndcg@1: 0.29117\tvalid's ndcg@2: 0.378381\tvalid's ndcg@3: 0.431785\n",
      "Training start:                                                                   \n",
      "[LightGBM] [Warning]                                                              \n",
      "Auto-choosing col-wise multi-threading, the overhead of testing was 0.067973 seconds.\n",
      "You can set `force_col_wise=true` to remove the overhead.\n",
      "[LightGBM] [Info]                                                                 \n",
      "Total Bins 46312                                                                  \n",
      "[LightGBM] [Info]                                                                 \n",
      "Number of data points in the train set: 88842, number of used features: 172       \n",
      "Training until validation scores don't improve for 20 rounds                      \n",
      "[5]\tvalid's ndcg@1: 0.295945\tvalid's ndcg@2: 0.374053\tvalid's ndcg@3: 0.432226    \n",
      "[10]\tvalid's ndcg@1: 0.292137\tvalid's ndcg@2: 0.374934\tvalid's ndcg@3: 0.43587    \n",
      "[15]\tvalid's ndcg@1: 0.291476\tvalid's ndcg@2: 0.372505\tvalid's ndcg@3: 0.435181   \n",
      "[20]\tvalid's ndcg@1: 0.290107\tvalid's ndcg@2: 0.371507\tvalid's ndcg@3: 0.437658   \n",
      "Early stopping, best iteration is:                                                \n",
      "[2]\tvalid's ndcg@1: 0.306647\tvalid's ndcg@2: 0.377304\tvalid's ndcg@3: 0.4348\n",
      "Training start:                                                                   \n",
      "[LightGBM] [Warning]                                                              \n",
      "Auto-choosing col-wise multi-threading, the overhead of testing was 0.076187 seconds.\n",
      "You can set `force_col_wise=true` to remove the overhead.\n",
      "[LightGBM] [Info]                                                                 \n",
      "Total Bins 46312                                                                  \n",
      "[LightGBM] [Info]                                                                 \n",
      "Number of data points in the train set: 88842, number of used features: 172       \n",
      "Training until validation scores don't improve for 20 rounds                      \n",
      "[5]\tvalid's ndcg@1: 0.288323\tvalid's ndcg@2: 0.382021\tvalid's ndcg@3: 0.438334    \n",
      "[10]\tvalid's ndcg@1: 0.294398\tvalid's ndcg@2: 0.370372\tvalid's ndcg@3: 0.431775   \n",
      "[15]\tvalid's ndcg@1: 0.286688\tvalid's ndcg@2: 0.363532\tvalid's ndcg@3: 0.430882   \n",
      "[20]\tvalid's ndcg@1: 0.28317\tvalid's ndcg@2: 0.364972\tvalid's ndcg@3: 0.425889    \n",
      "[25]\tvalid's ndcg@1: 0.283325\tvalid's ndcg@2: 0.36327\tvalid's ndcg@3: 0.421308    \n",
      "Early stopping, best iteration is:                                                \n",
      "[5]\tvalid's ndcg@1: 0.288323\tvalid's ndcg@2: 0.382021\tvalid's ndcg@3: 0.438334\n",
      "Training start:                                                                   \n",
      "[LightGBM] [Warning]                                                              \n",
      "Auto-choosing col-wise multi-threading, the overhead of testing was 0.070120 seconds.\n",
      "You can set `force_col_wise=true` to remove the overhead.\n",
      "[LightGBM] [Info]                                                                 \n",
      "Total Bins 46312                                                                  \n",
      "[LightGBM] [Info]                                                                 \n",
      "Number of data points in the train set: 88842, number of used features: 172       \n",
      "Training until validation scores don't improve for 20 rounds                      \n",
      "[5]\tvalid's ndcg@1: 0.295361\tvalid's ndcg@2: 0.383477\tvalid's ndcg@3: 0.435439    \n",
      "[10]\tvalid's ndcg@1: 0.29317\tvalid's ndcg@2: 0.375805\tvalid's ndcg@3: 0.434527    \n",
      "[15]\tvalid's ndcg@1: 0.292441\tvalid's ndcg@2: 0.375787\tvalid's ndcg@3: 0.435547   \n",
      "[20]\tvalid's ndcg@1: 0.292889\tvalid's ndcg@2: 0.376496\tvalid's ndcg@3: 0.434919   \n",
      "Early stopping, best iteration is:                                                \n",
      "[2]\tvalid's ndcg@1: 0.302892\tvalid's ndcg@2: 0.376364\tvalid's ndcg@3: 0.432813\n",
      "Training start:                                                                   \n",
      "[LightGBM] [Warning]                                                              \n",
      "Auto-choosing col-wise multi-threading, the overhead of testing was 0.072271 seconds.\n",
      "You can set `force_col_wise=true` to remove the overhead.\n",
      "[LightGBM] [Info]                                                                 \n",
      "Total Bins 46312                                                                  \n",
      "[LightGBM] [Info]                                                                 \n",
      "Number of data points in the train set: 88842, number of used features: 172       \n",
      "Training until validation scores don't improve for 20 rounds                      \n",
      "[5]\tvalid's ndcg@1: 0.307053\tvalid's ndcg@2: 0.377563\tvalid's ndcg@3: 0.440114    \n",
      "[10]\tvalid's ndcg@1: 0.295601\tvalid's ndcg@2: 0.376392\tvalid's ndcg@3: 0.440868   \n",
      "[15]\tvalid's ndcg@1: 0.290018\tvalid's ndcg@2: 0.373466\tvalid's ndcg@3: 0.435655   \n",
      "[20]\tvalid's ndcg@1: 0.295392\tvalid's ndcg@2: 0.374629\tvalid's ndcg@3: 0.434987   \n",
      "Early stopping, best iteration is:                                                \n",
      "[4]\tvalid's ndcg@1: 0.304088\tvalid's ndcg@2: 0.379783\tvalid's ndcg@3: 0.43527\n",
      "Training start:                                                                   \n",
      "[LightGBM] [Warning]                                                              \n",
      "Auto-choosing col-wise multi-threading, the overhead of testing was 0.086934 seconds.\n",
      "You can set `force_col_wise=true` to remove the overhead.\n",
      "[LightGBM] [Info]                                                                 \n",
      "Total Bins 46312                                                                  \n",
      "[LightGBM] [Info]                                                                 \n",
      "Number of data points in the train set: 88842, number of used features: 172       \n",
      "Training until validation scores don't improve for 20 rounds                      \n",
      "[5]\tvalid's ndcg@1: 0.296049\tvalid's ndcg@2: 0.3742\tvalid's ndcg@3: 0.434241      \n",
      "[10]\tvalid's ndcg@1: 0.289032\tvalid's ndcg@2: 0.369713\tvalid's ndcg@3: 0.430224   \n",
      "[15]\tvalid's ndcg@1: 0.289024\tvalid's ndcg@2: 0.368573\tvalid's ndcg@3: 0.433161   \n",
      "[20]\tvalid's ndcg@1: 0.295118\tvalid's ndcg@2: 0.375142\tvalid's ndcg@3: 0.440071   \n",
      "[25]\tvalid's ndcg@1: 0.294763\tvalid's ndcg@2: 0.374623\tvalid's ndcg@3: 0.439047   \n",
      "Early stopping, best iteration is:                                                \n",
      "[5]\tvalid's ndcg@1: 0.296049\tvalid's ndcg@2: 0.3742\tvalid's ndcg@3: 0.434241\n",
      "Training start:                                                                   \n",
      "[LightGBM] [Warning]                                                              \n",
      "Auto-choosing col-wise multi-threading, the overhead of testing was 0.072300 seconds.\n",
      "You can set `force_col_wise=true` to remove the overhead.\n",
      "[LightGBM] [Info]                                                                 \n",
      "Total Bins 46312                                                                  \n",
      "[LightGBM] [Info]                                                                 \n",
      "Number of data points in the train set: 88842, number of used features: 172       \n",
      "Training until validation scores don't improve for 20 rounds                      \n",
      "[5]\tvalid's ndcg@1: 0.287724\tvalid's ndcg@2: 0.368995\tvalid's ndcg@3: 0.428987    \n",
      "[10]\tvalid's ndcg@1: 0.291824\tvalid's ndcg@2: 0.37584\tvalid's ndcg@3: 0.43711     \n",
      "[15]\tvalid's ndcg@1: 0.292717\tvalid's ndcg@2: 0.372811\tvalid's ndcg@3: 0.43504    \n",
      "[20]\tvalid's ndcg@1: 0.295953\tvalid's ndcg@2: 0.374652\tvalid's ndcg@3: 0.439525   \n",
      "Early stopping, best iteration is:                                                \n",
      "[4]\tvalid's ndcg@1: 0.301503\tvalid's ndcg@2: 0.379032\tvalid's ndcg@3: 0.435453\n",
      "Training start:                                                                   \n",
      "[LightGBM] [Warning]                                                              \n",
      "Auto-choosing col-wise multi-threading, the overhead of testing was 0.080536 seconds.\n",
      "You can set `force_col_wise=true` to remove the overhead.\n",
      "[LightGBM] [Info]                                                                 \n",
      "Total Bins 46312                                                                  \n",
      "[LightGBM] [Info]                                                                 \n",
      "Number of data points in the train set: 88842, number of used features: 172       \n",
      "Training until validation scores don't improve for 20 rounds                      \n",
      "[5]\tvalid's ndcg@1: 0.299306\tvalid's ndcg@2: 0.378206\tvalid's ndcg@3: 0.439737    \n",
      "[10]\tvalid's ndcg@1: 0.297468\tvalid's ndcg@2: 0.378155\tvalid's ndcg@3: 0.438384   \n",
      "[15]\tvalid's ndcg@1: 0.294715\tvalid's ndcg@2: 0.376728\tvalid's ndcg@3: 0.434893   \n",
      "[20]\tvalid's ndcg@1: 0.296448\tvalid's ndcg@2: 0.375379\tvalid's ndcg@3: 0.437583   \n",
      "Early stopping, best iteration is:                                                \n",
      "[2]\tvalid's ndcg@1: 0.30107\tvalid's ndcg@2: 0.373877\tvalid's ndcg@3: 0.432442\n",
      "100%|██████████| 25/25 [00:43<00:00,  1.74s/trial, best loss: -0.4401143756918157]\n",
      "best parameters: {'lambdarank_truncation_level': 36, 'learning_rate': 0.01271180569095827}\n"
     ]
    }
   ],
   "source": [
    "trials = Trials()\n",
    "optimize(trials)"
   ]
  },
  {
   "cell_type": "markdown",
   "id": "2b30c738-f553-4488-8239-235c9808c184",
   "metadata": {},
   "source": [
    "# Simulate\n"
   ]
  },
  {
   "cell_type": "code",
   "execution_count": null,
   "id": "b4c3498b-a9bf-4891-9ec4-748f1681fe24",
   "metadata": {
    "tags": []
   },
   "outputs": [],
   "source": [
    "\n",
    "for odds in [1.1,2.0,3.0,4.0,5.0,6.0,7.0]:\n",
    "    print()\n",
    "    sl = RankSimulater(ll.model)\n",
    "    print(\"odds\",odds)\n",
    "    sl.calc_tansho(ll.r.data_c.iloc[-10000:],return_tables,odds=odds)\n",
    "\n"
   ]
  },
  {
   "cell_type": "code",
   "execution_count": null,
   "id": "9a5acc8c-484d-4fef-ae88-1c20180881d1",
   "metadata": {},
   "outputs": [],
   "source": [
    "sl = RankSimulater(ll.model)\n",
    "sl.calc_sanrenpuku(ll.r.data_c.iloc[-5000:].fillna(0),return_tables)"
   ]
  },
  {
   "cell_type": "code",
   "execution_count": null,
   "id": "2b0526b6-d15f-4e39-abaf-40aaf6cfd0fa",
   "metadata": {
    "tags": []
   },
   "outputs": [],
   "source": [
    "sl = RankSimulater(ll.model)\n",
    "sl.calc_sanrentan(ll.r.data_c.iloc[-5000:].fillna(0),return_tables)"
   ]
  },
  {
   "cell_type": "markdown",
   "id": "ff135d8f-2a18-4583-8747-68c2938e6b79",
   "metadata": {},
   "source": [
    "# race_id_list"
   ]
  },
  {
   "cell_type": "code",
   "execution_count": 85,
   "id": "ca02207f-1319-48d2-943f-195f395e1d70",
   "metadata": {},
   "outputs": [],
   "source": [
    "\n",
    "202205021011\n",
    "race_id_list = ['2022050304{}'.format(str(i).zfill(2)) for i in range(1,13)]\n",
    "# race_id_list += ['2022050302{}'.format(str(i).zfill(2)) for i in range(1,13)]\n",
    "\n",
    "race_id_list += ['2022070404{}'.format(str(i).zfill(2)) for i in range(1,13)]\n",
    "# race_id_list += ['2022070402{}'.format(str(i).zfill(2)) for i in range(1,13)]\n",
    "\n",
    "race_id_list += ['2022020102{}'.format(str(i).zfill(2)) for i in range(1,13)]\n",
    "# race_id_list += ['2022040107{}'.format(str(i).zfill(2)) for i in range(1,13)]\n",
    "\n"
   ]
  },
  {
   "cell_type": "markdown",
   "id": "23038204",
   "metadata": {},
   "source": [
    "# Predictor"
   ]
  },
  {
   "cell_type": "code",
   "execution_count": 86,
   "id": "869c4470",
   "metadata": {},
   "outputs": [
    {
     "data": {
      "application/vnd.jupyter.widget-view+json": {
       "model_id": "4a3c0f5d0b174eb78de7258426fe1ecd",
       "version_major": 2,
       "version_minor": 0
      },
      "text/plain": [
       "HBox(children=(FloatProgress(value=0.0, max=36.0), HTML(value='')))"
      ]
     },
     "metadata": {},
     "output_type": "display_data"
    },
    {
     "name": "stdout",
     "output_type": "stream",
     "text": [
      "\n"
     ]
    },
    {
     "data": {
      "application/vnd.jupyter.widget-view+json": {
       "model_id": "e9a254e36c544d03b6817dd9a62ae791",
       "version_major": 2,
       "version_minor": 0
      },
      "text/plain": [
       "HBox(children=(FloatProgress(value=0.0, max=43.0), HTML(value='')))"
      ]
     },
     "metadata": {},
     "output_type": "display_data"
    },
    {
     "name": "stdout",
     "output_type": "stream",
     "text": [
      "\n"
     ]
    },
    {
     "data": {
      "application/vnd.jupyter.widget-view+json": {
       "model_id": "cf281753265e4524a2f3ae9db0262aa3",
       "version_major": 2,
       "version_minor": 0
      },
      "text/plain": [
       "HBox(children=(FloatProgress(value=0.0, max=43.0), HTML(value='')))"
      ]
     },
     "metadata": {},
     "output_type": "display_data"
    },
    {
     "name": "stdout",
     "output_type": "stream",
     "text": [
      "\n"
     ]
    },
    {
     "data": {
      "application/vnd.jupyter.widget-view+json": {
       "model_id": "60ac0b14ecc446fa861dc20431e56a5a",
       "version_major": 2,
       "version_minor": 0
      },
      "text/plain": [
       "HBox(children=(FloatProgress(value=0.0, max=17759.0), HTML(value='')))"
      ]
     },
     "metadata": {},
     "output_type": "display_data"
    },
    {
     "name": "stdout",
     "output_type": "stream",
     "text": [
      "\n"
     ]
    },
    {
     "data": {
      "application/vnd.jupyter.widget-view+json": {
       "model_id": "3fdf034b0506484391614f15db252900",
       "version_major": 2,
       "version_minor": 0
      },
      "text/plain": [
       "HBox(children=(FloatProgress(value=0.0, max=17759.0), HTML(value='')))"
      ]
     },
     "metadata": {},
     "output_type": "display_data"
    },
    {
     "name": "stdout",
     "output_type": "stream",
     "text": [
      "\n",
      "pe finish\n",
      "pe regularizrd\n"
     ]
    },
    {
     "data": {
      "application/vnd.jupyter.widget-view+json": {
       "model_id": "b9b14f630a0649449790f1bb6647cb14",
       "version_major": 2,
       "version_minor": 0
      },
      "text/plain": [
       "HBox(children=(FloatProgress(value=0.0, max=486.0), HTML(value='')))"
      ]
     },
     "metadata": {},
     "output_type": "display_data"
    },
    {
     "name": "stdout",
     "output_type": "stream",
     "text": [
      "\n",
      "hr finish\n"
     ]
    },
    {
     "data": {
      "application/vnd.jupyter.widget-view+json": {
       "model_id": "1c36ee66fac0445197e7482f538b3b0c",
       "version_major": 2,
       "version_minor": 0
      },
      "text/plain": [
       "HBox(children=(FloatProgress(value=0.0, max=255.0), HTML(value='')))"
      ]
     },
     "metadata": {},
     "output_type": "display_data"
    },
    {
     "name": "stdout",
     "output_type": "stream",
     "text": [
      "\n"
     ]
    },
    {
     "data": {
      "application/vnd.jupyter.widget-view+json": {
       "model_id": "85cdd0cdb390409fb39990b7cf30d5b9",
       "version_major": 2,
       "version_minor": 0
      },
      "text/plain": [
       "HBox(children=(FloatProgress(value=0.0, max=255.0), HTML(value='')))"
      ]
     },
     "metadata": {},
     "output_type": "display_data"
    },
    {
     "name": "stdout",
     "output_type": "stream",
     "text": [
      "\n"
     ]
    },
    {
     "data": {
      "application/vnd.jupyter.widget-view+json": {
       "model_id": "fbfd96f24281443c974e90d7dc17eca9",
       "version_major": 2,
       "version_minor": 0
      },
      "text/plain": [
       "HBox(children=(FloatProgress(value=0.0, max=255.0), HTML(value='')))"
      ]
     },
     "metadata": {},
     "output_type": "display_data"
    },
    {
     "name": "stdout",
     "output_type": "stream",
     "text": [
      "\n"
     ]
    },
    {
     "name": "stderr",
     "output_type": "stream",
     "text": [
      "/Users/rince/Library/Python/3.7/lib/python/site-packages/lightgbm/engine.py:151: UserWarning: Found `n_estimators` in params. Will use it instead of argument\n",
      "  warnings.warn(\"Found `{}` in params. Will use it instead of argument\".format(alias))\n"
     ]
    },
    {
     "name": "stdout",
     "output_type": "stream",
     "text": [
      "[LightGBM] [Info] Total Bins 48797\n",
      "[LightGBM] [Info] Number of data points in the train set: 111127, number of used features: 172\n"
     ]
    }
   ],
   "source": [
    "pt = Predictor(peds,results,horse_results,race_id_list)\n",
    "# ********* test_size = 0  : ずっと0にしてなかった...\n",
    "pt.learn_lgb(lgbm_params=lgbm_params,test_size=0)"
   ]
  },
  {
   "cell_type": "code",
   "execution_count": 75,
   "id": "9e061f90",
   "metadata": {},
   "outputs": [
    {
     "data": {
      "application/vnd.jupyter.widget-view+json": {
       "model_id": "44923fd0def54774a12370d2b2eada49",
       "version_major": 2,
       "version_minor": 0
      },
      "text/plain": [
       "HBox(children=(FloatProgress(value=0.0, max=36.0), HTML(value='')))"
      ]
     },
     "metadata": {},
     "output_type": "display_data"
    },
    {
     "name": "stdout",
     "output_type": "stream",
     "text": [
      "\n"
     ]
    },
    {
     "data": {
      "application/vnd.jupyter.widget-view+json": {
       "model_id": "7bc757e8f86f4f68a536915699b6c1c2",
       "version_major": 2,
       "version_minor": 0
      },
      "text/plain": [
       "HBox(children=(FloatProgress(value=0.0, max=17759.0), HTML(value='')))"
      ]
     },
     "metadata": {},
     "output_type": "display_data"
    },
    {
     "name": "stdout",
     "output_type": "stream",
     "text": [
      "\n"
     ]
    },
    {
     "data": {
      "application/vnd.jupyter.widget-view+json": {
       "model_id": "62989f1dfe6d4ec68a6c26edb5516888",
       "version_major": 2,
       "version_minor": 0
      },
      "text/plain": [
       "HBox(children=(FloatProgress(value=0.0, max=17759.0), HTML(value='')))"
      ]
     },
     "metadata": {},
     "output_type": "display_data"
    },
    {
     "name": "stdout",
     "output_type": "stream",
     "text": [
      "\n",
      "pe finish\n",
      "pe regularizrd\n"
     ]
    },
    {
     "data": {
      "application/vnd.jupyter.widget-view+json": {
       "model_id": "44d2c973d02b4d899470f475f5f5b684",
       "version_major": 2,
       "version_minor": 0
      },
      "text/plain": [
       "HBox(children=(FloatProgress(value=0.0, max=487.0), HTML(value='')))"
      ]
     },
     "metadata": {},
     "output_type": "display_data"
    },
    {
     "name": "stdout",
     "output_type": "stream",
     "text": [
      "\n",
      "hr finish\n"
     ]
    },
    {
     "data": {
      "application/vnd.jupyter.widget-view+json": {
       "model_id": "6c024aa830504a2fafcfc939a36ecc9a",
       "version_major": 2,
       "version_minor": 0
      },
      "text/plain": [
       "HBox(children=(FloatProgress(value=0.0, max=255.0), HTML(value='')))"
      ]
     },
     "metadata": {},
     "output_type": "display_data"
    },
    {
     "name": "stdout",
     "output_type": "stream",
     "text": [
      "\n"
     ]
    },
    {
     "data": {
      "application/vnd.jupyter.widget-view+json": {
       "model_id": "2390a5d37ed2464c8d4c03aeff78f954",
       "version_major": 2,
       "version_minor": 0
      },
      "text/plain": [
       "HBox(children=(FloatProgress(value=0.0, max=255.0), HTML(value='')))"
      ]
     },
     "metadata": {},
     "output_type": "display_data"
    },
    {
     "name": "stdout",
     "output_type": "stream",
     "text": [
      "\n"
     ]
    },
    {
     "data": {
      "application/vnd.jupyter.widget-view+json": {
       "model_id": "e85c0fb4763741c5b05642490f5db590",
       "version_major": 2,
       "version_minor": 0
      },
      "text/plain": [
       "HBox(children=(FloatProgress(value=0.0, max=255.0), HTML(value='')))"
      ]
     },
     "metadata": {},
     "output_type": "display_data"
    },
    {
     "name": "stdout",
     "output_type": "stream",
     "text": [
      "\n"
     ]
    }
   ],
   "source": [
    "train, test = pt.get_train_data(test_size=0)"
   ]
  },
  {
   "cell_type": "code",
   "execution_count": 81,
   "id": "4f7dca90",
   "metadata": {},
   "outputs": [
    {
     "name": "stderr",
     "output_type": "stream",
     "text": [
      "/Users/rince/Library/Python/3.7/lib/python/site-packages/lightgbm/engine.py:151: UserWarning: Found `n_estimators` in params. Will use it instead of argument\n",
      "  warnings.warn(\"Found `{}` in params. Will use it instead of argument\".format(alias))\n"
     ]
    },
    {
     "name": "stdout",
     "output_type": "stream",
     "text": [
      "[LightGBM] [Info] Total Bins 46312\n",
      "[LightGBM] [Info] Number of data points in the train set: 88842, number of used features: 172\n"
     ]
    }
   ],
   "source": [
    "pt.learn_lgb2(train,lgbm_params)"
   ]
  },
  {
   "cell_type": "markdown",
   "id": "32941e34",
   "metadata": {},
   "source": [
    "# 東京"
   ]
  },
  {
   "cell_type": "code",
   "execution_count": 120,
   "id": "6aaf56de",
   "metadata": {},
   "outputs": [
    {
     "data": {
      "application/vnd.jupyter.widget-view+json": {
       "model_id": "da077426c6e74001924157fee1b557ac",
       "version_major": 2,
       "version_minor": 0
      },
      "text/plain": [
       "HBox(children=(FloatProgress(value=0.0, max=1.0), HTML(value='')))"
      ]
     },
     "metadata": {},
     "output_type": "display_data"
    },
    {
     "name": "stdout",
     "output_type": "stream",
     "text": [
      "\n"
     ]
    },
    {
     "data": {
      "application/vnd.jupyter.widget-view+json": {
       "model_id": "9a31da059040426c94fa062ce684a426",
       "version_major": 2,
       "version_minor": 0
      },
      "text/plain": [
       "HBox(children=(FloatProgress(value=0.0, max=1.0), HTML(value='')))"
      ]
     },
     "metadata": {},
     "output_type": "display_data"
    },
    {
     "name": "stdout",
     "output_type": "stream",
     "text": [
      "\n"
     ]
    },
    {
     "data": {
      "application/vnd.jupyter.widget-view+json": {
       "model_id": "42f2791db1e84af3944346b4fa1b9cf7",
       "version_major": 2,
       "version_minor": 0
      },
      "text/plain": [
       "HBox(children=(FloatProgress(value=0.0, max=1.0), HTML(value='')))"
      ]
     },
     "metadata": {},
     "output_type": "display_data"
    },
    {
     "name": "stdout",
     "output_type": "stream",
     "text": [
      "\n"
     ]
    },
    {
     "data": {
      "application/vnd.jupyter.widget-view+json": {
       "model_id": "e15524abb19d4dd58a6b9f5a2ea1c53e",
       "version_major": 2,
       "version_minor": 0
      },
      "text/plain": [
       "HBox(children=(FloatProgress(value=0.0, max=1.0), HTML(value='')))"
      ]
     },
     "metadata": {},
     "output_type": "display_data"
    },
    {
     "name": "stdout",
     "output_type": "stream",
     "text": [
      "\n",
      "              馬番    scores\n",
      "202205030410   6  1.371102\n",
      "202205030410   3  0.779867\n",
      "202205030410   8  0.443859\n",
      "202205030410   2  0.121382\n",
      "202205030410   5 -0.451744\n",
      "202205030410  14 -0.532018\n",
      "202205030410  10 -0.581835\n",
      "202205030410  11 -0.688470\n",
      "202205030410   4 -0.755791\n",
      "202205030410   9 -0.825304\n",
      "202205030410  12 -0.914896\n",
      "202205030410  13 -0.947285\n",
      "202205030410  15 -1.005432\n",
      "202205030410   1 -1.042639\n",
      "202205030410   7 -1.054250\n"
     ]
    }
   ],
   "source": [
    "base  = '2022050304'\n",
    "pt.predict(base+'10')"
   ]
  },
  {
   "cell_type": "markdown",
   "id": "c3b57a3d",
   "metadata": {},
   "source": [
    "# 中京"
   ]
  },
  {
   "cell_type": "code",
   "execution_count": 119,
   "id": "a6722cba",
   "metadata": {},
   "outputs": [
    {
     "data": {
      "application/vnd.jupyter.widget-view+json": {
       "model_id": "9bc1602008a342b5bc13639fa20247d9",
       "version_major": 2,
       "version_minor": 0
      },
      "text/plain": [
       "HBox(children=(FloatProgress(value=0.0, max=1.0), HTML(value='')))"
      ]
     },
     "metadata": {},
     "output_type": "display_data"
    },
    {
     "name": "stdout",
     "output_type": "stream",
     "text": [
      "\n"
     ]
    },
    {
     "data": {
      "application/vnd.jupyter.widget-view+json": {
       "model_id": "014e41cc411d48c596cd8e40e8bc17b9",
       "version_major": 2,
       "version_minor": 0
      },
      "text/plain": [
       "HBox(children=(FloatProgress(value=0.0, max=1.0), HTML(value='')))"
      ]
     },
     "metadata": {},
     "output_type": "display_data"
    },
    {
     "name": "stdout",
     "output_type": "stream",
     "text": [
      "\n"
     ]
    },
    {
     "data": {
      "application/vnd.jupyter.widget-view+json": {
       "model_id": "e41077985d3d4ad48c46f4c217a591ab",
       "version_major": 2,
       "version_minor": 0
      },
      "text/plain": [
       "HBox(children=(FloatProgress(value=0.0, max=1.0), HTML(value='')))"
      ]
     },
     "metadata": {},
     "output_type": "display_data"
    },
    {
     "name": "stdout",
     "output_type": "stream",
     "text": [
      "\n"
     ]
    },
    {
     "data": {
      "application/vnd.jupyter.widget-view+json": {
       "model_id": "10d42b1d498e4ff998e3c58fcb4ef7c2",
       "version_major": 2,
       "version_minor": 0
      },
      "text/plain": [
       "HBox(children=(FloatProgress(value=0.0, max=1.0), HTML(value='')))"
      ]
     },
     "metadata": {},
     "output_type": "display_data"
    },
    {
     "name": "stdout",
     "output_type": "stream",
     "text": [
      "\n",
      "              馬番    scores\n",
      "202207040410  10  0.893336\n",
      "202207040410   2  0.273061\n",
      "202207040410   4 -0.812102\n",
      "202207040410   8 -0.930210\n",
      "202207040410   7 -0.981755\n",
      "202207040410   9 -1.017185\n",
      "202207040410   5 -1.021039\n",
      "202207040410   1 -1.025512\n",
      "202207040410   6 -1.042639\n",
      "202207040410   3 -1.066951\n"
     ]
    }
   ],
   "source": [
    "base  = '2022070404'\n",
    "# for i in ['07','08','09','10','11']:\n",
    "pt.predict(base+'10')"
   ]
  },
  {
   "cell_type": "markdown",
   "id": "278e1ee5",
   "metadata": {},
   "source": [
    "# 函館"
   ]
  },
  {
   "cell_type": "code",
   "execution_count": 121,
   "id": "844e1f79",
   "metadata": {},
   "outputs": [
    {
     "data": {
      "application/vnd.jupyter.widget-view+json": {
       "model_id": "d39a8d4ed8ab42ed8f9da6d14a0352d0",
       "version_major": 2,
       "version_minor": 0
      },
      "text/plain": [
       "HBox(children=(FloatProgress(value=0.0, max=1.0), HTML(value='')))"
      ]
     },
     "metadata": {},
     "output_type": "display_data"
    },
    {
     "name": "stdout",
     "output_type": "stream",
     "text": [
      "\n"
     ]
    },
    {
     "ename": "ValueError",
     "evalue": "Cannot convert non-finite values (NA or inf) to integer",
     "output_type": "error",
     "traceback": [
      "\u001b[0;31m---------------------------------------------------------------------------\u001b[0m",
      "\u001b[0;31mValueError\u001b[0m                                Traceback (most recent call last)",
      "\u001b[0;32m<ipython-input-121-fb090dca7e68>\u001b[0m in \u001b[0;36m<module>\u001b[0;34m\u001b[0m\n\u001b[1;32m      1\u001b[0m \u001b[0mbase\u001b[0m  \u001b[0;34m=\u001b[0m \u001b[0;34m'2022020102'\u001b[0m\u001b[0;34m\u001b[0m\u001b[0;34m\u001b[0m\u001b[0m\n\u001b[1;32m      2\u001b[0m \u001b[0;31m# for i in ['07','08','09','10','11']:\u001b[0m\u001b[0;34m\u001b[0m\u001b[0;34m\u001b[0m\u001b[0;34m\u001b[0m\u001b[0m\n\u001b[0;32m----> 3\u001b[0;31m \u001b[0mpt\u001b[0m\u001b[0;34m.\u001b[0m\u001b[0mpredict\u001b[0m\u001b[0;34m(\u001b[0m\u001b[0mbase\u001b[0m\u001b[0;34m+\u001b[0m\u001b[0;34m'11'\u001b[0m\u001b[0;34m)\u001b[0m\u001b[0;34m\u001b[0m\u001b[0;34m\u001b[0m\u001b[0m\n\u001b[0m",
      "\u001b[0;32m~/Desktop/Horse/code/horse/my_library/horse.py\u001b[0m in \u001b[0;36mpredict\u001b[0;34m(self, race_id)\u001b[0m\n\u001b[1;32m   2772\u001b[0m             \u001b[0mpe_tmp\u001b[0m\u001b[0;34m.\u001b[0m\u001b[0mregularize_peds\u001b[0m\u001b[0;34m(\u001b[0m\u001b[0;34m)\u001b[0m\u001b[0;34m\u001b[0m\u001b[0;34m\u001b[0m\u001b[0m\n\u001b[1;32m   2773\u001b[0m             \u001b[0mnew_peds\u001b[0m \u001b[0;34m=\u001b[0m \u001b[0mupdate_data\u001b[0m\u001b[0;34m(\u001b[0m\u001b[0mpeds\u001b[0m\u001b[0;34m,\u001b[0m \u001b[0mpe_tmp\u001b[0m\u001b[0;34m.\u001b[0m\u001b[0mpeds_re\u001b[0m\u001b[0;34m)\u001b[0m\u001b[0;34m\u001b[0m\u001b[0;34m\u001b[0m\u001b[0m\n\u001b[0;32m-> 2774\u001b[0;31m         \u001b[0;32melse\u001b[0m\u001b[0;34m:\u001b[0m\u001b[0;34m\u001b[0m\u001b[0;34m\u001b[0m\u001b[0m\n\u001b[0m\u001b[1;32m   2775\u001b[0m             \u001b[0mnew_peds\u001b[0m \u001b[0;34m=\u001b[0m \u001b[0mpeds\u001b[0m\u001b[0;34m.\u001b[0m\u001b[0mcopy\u001b[0m\u001b[0;34m(\u001b[0m\u001b[0;34m)\u001b[0m\u001b[0;34m\u001b[0m\u001b[0;34m\u001b[0m\u001b[0m\n\u001b[1;32m   2776\u001b[0m \u001b[0;34m\u001b[0m\u001b[0m\n",
      "\u001b[0;32m~/Desktop/Horse/code/horse/my_library/horse.py\u001b[0m in \u001b[0;36mpreprocessing\u001b[0;34m(self)\u001b[0m\n\u001b[1;32m   1222\u001b[0m         \u001b[0;31m# 馬体重を体重と体重変化に分ける\u001b[0m\u001b[0;34m\u001b[0m\u001b[0;34m\u001b[0m\u001b[0;34m\u001b[0m\u001b[0m\n\u001b[1;32m   1223\u001b[0m         \u001b[0mdf\u001b[0m \u001b[0;34m=\u001b[0m \u001b[0mdf\u001b[0m\u001b[0;34m[\u001b[0m\u001b[0mdf\u001b[0m\u001b[0;34m[\u001b[0m\u001b[0;34m\"馬体重(増減)\"\u001b[0m\u001b[0;34m]\u001b[0m \u001b[0;34m!=\u001b[0m \u001b[0;34m'--'\u001b[0m\u001b[0;34m]\u001b[0m\u001b[0;34m\u001b[0m\u001b[0;34m\u001b[0m\u001b[0m\n\u001b[0;32m-> 1224\u001b[0;31m         \u001b[0mdf\u001b[0m\u001b[0;34m[\u001b[0m\u001b[0;34m\"体重\"\u001b[0m\u001b[0;34m]\u001b[0m \u001b[0;34m=\u001b[0m \u001b[0mdf\u001b[0m\u001b[0;34m[\u001b[0m\u001b[0;34m\"馬体重(増減)\"\u001b[0m\u001b[0;34m]\u001b[0m\u001b[0;34m.\u001b[0m\u001b[0mstr\u001b[0m\u001b[0;34m.\u001b[0m\u001b[0msplit\u001b[0m\u001b[0;34m(\u001b[0m\u001b[0;34m\"(\"\u001b[0m\u001b[0;34m,\u001b[0m \u001b[0mexpand\u001b[0m\u001b[0;34m=\u001b[0m\u001b[0;32mTrue\u001b[0m\u001b[0;34m)\u001b[0m\u001b[0;34m[\u001b[0m\u001b[0;36m0\u001b[0m\u001b[0;34m]\u001b[0m\u001b[0;34m.\u001b[0m\u001b[0mastype\u001b[0m\u001b[0;34m(\u001b[0m\u001b[0mint\u001b[0m\u001b[0;34m)\u001b[0m\u001b[0;34m\u001b[0m\u001b[0;34m\u001b[0m\u001b[0m\n\u001b[0m\u001b[1;32m   1225\u001b[0m         \u001b[0mdf\u001b[0m\u001b[0;34m[\u001b[0m\u001b[0;34m\"体重変化\"\u001b[0m\u001b[0;34m]\u001b[0m \u001b[0;34m=\u001b[0m \u001b[0mdf\u001b[0m\u001b[0;34m[\u001b[0m\u001b[0;34m\"馬体重(増減)\"\u001b[0m\u001b[0;34m]\u001b[0m\u001b[0;34m.\u001b[0m\u001b[0mstr\u001b[0m\u001b[0;34m.\u001b[0m\u001b[0msplit\u001b[0m\u001b[0;34m(\u001b[0m\u001b[0;34m\"(\"\u001b[0m\u001b[0;34m,\u001b[0m \u001b[0mexpand\u001b[0m\u001b[0;34m=\u001b[0m\u001b[0;32mTrue\u001b[0m\u001b[0;34m)\u001b[0m\u001b[0;34m[\u001b[0m\u001b[0;36m1\u001b[0m\u001b[0;34m]\u001b[0m\u001b[0;34m.\u001b[0m\u001b[0mstr\u001b[0m\u001b[0;34m[\u001b[0m\u001b[0;34m:\u001b[0m\u001b[0;34m-\u001b[0m\u001b[0;36m1\u001b[0m\u001b[0;34m]\u001b[0m\u001b[0;34m.\u001b[0m\u001b[0mreplace\u001b[0m\u001b[0;34m(\u001b[0m\u001b[0;34m'前計不'\u001b[0m\u001b[0;34m,\u001b[0m\u001b[0;36m0\u001b[0m\u001b[0;34m)\u001b[0m\u001b[0;34m.\u001b[0m\u001b[0mastype\u001b[0m\u001b[0;34m(\u001b[0m\u001b[0mint\u001b[0m\u001b[0;34m)\u001b[0m\u001b[0;34m\u001b[0m\u001b[0;34m\u001b[0m\u001b[0m\n\u001b[1;32m   1226\u001b[0m \u001b[0;34m\u001b[0m\u001b[0m\n",
      "\u001b[0;32m~/Library/Python/3.7/lib/python/site-packages/pandas/core/generic.py\u001b[0m in \u001b[0;36mastype\u001b[0;34m(self, dtype, copy, errors)\u001b[0m\n\u001b[1;32m   5696\u001b[0m         \u001b[0;32melse\u001b[0m\u001b[0;34m:\u001b[0m\u001b[0;34m\u001b[0m\u001b[0;34m\u001b[0m\u001b[0m\n\u001b[1;32m   5697\u001b[0m             \u001b[0;31m# else, only a single dtype is given\u001b[0m\u001b[0;34m\u001b[0m\u001b[0;34m\u001b[0m\u001b[0;34m\u001b[0m\u001b[0m\n\u001b[0;32m-> 5698\u001b[0;31m             \u001b[0mnew_data\u001b[0m \u001b[0;34m=\u001b[0m \u001b[0mself\u001b[0m\u001b[0;34m.\u001b[0m\u001b[0m_data\u001b[0m\u001b[0;34m.\u001b[0m\u001b[0mastype\u001b[0m\u001b[0;34m(\u001b[0m\u001b[0mdtype\u001b[0m\u001b[0;34m=\u001b[0m\u001b[0mdtype\u001b[0m\u001b[0;34m,\u001b[0m \u001b[0mcopy\u001b[0m\u001b[0;34m=\u001b[0m\u001b[0mcopy\u001b[0m\u001b[0;34m,\u001b[0m \u001b[0merrors\u001b[0m\u001b[0;34m=\u001b[0m\u001b[0merrors\u001b[0m\u001b[0;34m)\u001b[0m\u001b[0;34m\u001b[0m\u001b[0;34m\u001b[0m\u001b[0m\n\u001b[0m\u001b[1;32m   5699\u001b[0m             \u001b[0;32mreturn\u001b[0m \u001b[0mself\u001b[0m\u001b[0;34m.\u001b[0m\u001b[0m_constructor\u001b[0m\u001b[0;34m(\u001b[0m\u001b[0mnew_data\u001b[0m\u001b[0;34m)\u001b[0m\u001b[0;34m.\u001b[0m\u001b[0m__finalize__\u001b[0m\u001b[0;34m(\u001b[0m\u001b[0mself\u001b[0m\u001b[0;34m)\u001b[0m\u001b[0;34m\u001b[0m\u001b[0;34m\u001b[0m\u001b[0m\n\u001b[1;32m   5700\u001b[0m \u001b[0;34m\u001b[0m\u001b[0m\n",
      "\u001b[0;32m~/Library/Python/3.7/lib/python/site-packages/pandas/core/internals/managers.py\u001b[0m in \u001b[0;36mastype\u001b[0;34m(self, dtype, copy, errors)\u001b[0m\n\u001b[1;32m    580\u001b[0m \u001b[0;34m\u001b[0m\u001b[0m\n\u001b[1;32m    581\u001b[0m     \u001b[0;32mdef\u001b[0m \u001b[0mastype\u001b[0m\u001b[0;34m(\u001b[0m\u001b[0mself\u001b[0m\u001b[0;34m,\u001b[0m \u001b[0mdtype\u001b[0m\u001b[0;34m,\u001b[0m \u001b[0mcopy\u001b[0m\u001b[0;34m:\u001b[0m \u001b[0mbool\u001b[0m \u001b[0;34m=\u001b[0m \u001b[0;32mFalse\u001b[0m\u001b[0;34m,\u001b[0m \u001b[0merrors\u001b[0m\u001b[0;34m:\u001b[0m \u001b[0mstr\u001b[0m \u001b[0;34m=\u001b[0m \u001b[0;34m\"raise\"\u001b[0m\u001b[0;34m)\u001b[0m\u001b[0;34m:\u001b[0m\u001b[0;34m\u001b[0m\u001b[0;34m\u001b[0m\u001b[0m\n\u001b[0;32m--> 582\u001b[0;31m         \u001b[0;32mreturn\u001b[0m \u001b[0mself\u001b[0m\u001b[0;34m.\u001b[0m\u001b[0mapply\u001b[0m\u001b[0;34m(\u001b[0m\u001b[0;34m\"astype\"\u001b[0m\u001b[0;34m,\u001b[0m \u001b[0mdtype\u001b[0m\u001b[0;34m=\u001b[0m\u001b[0mdtype\u001b[0m\u001b[0;34m,\u001b[0m \u001b[0mcopy\u001b[0m\u001b[0;34m=\u001b[0m\u001b[0mcopy\u001b[0m\u001b[0;34m,\u001b[0m \u001b[0merrors\u001b[0m\u001b[0;34m=\u001b[0m\u001b[0merrors\u001b[0m\u001b[0;34m)\u001b[0m\u001b[0;34m\u001b[0m\u001b[0;34m\u001b[0m\u001b[0m\n\u001b[0m\u001b[1;32m    583\u001b[0m \u001b[0;34m\u001b[0m\u001b[0m\n\u001b[1;32m    584\u001b[0m     \u001b[0;32mdef\u001b[0m \u001b[0mconvert\u001b[0m\u001b[0;34m(\u001b[0m\u001b[0mself\u001b[0m\u001b[0;34m,\u001b[0m \u001b[0;34m**\u001b[0m\u001b[0mkwargs\u001b[0m\u001b[0;34m)\u001b[0m\u001b[0;34m:\u001b[0m\u001b[0;34m\u001b[0m\u001b[0;34m\u001b[0m\u001b[0m\n",
      "\u001b[0;32m~/Library/Python/3.7/lib/python/site-packages/pandas/core/internals/managers.py\u001b[0m in \u001b[0;36mapply\u001b[0;34m(self, f, filter, **kwargs)\u001b[0m\n\u001b[1;32m    440\u001b[0m                 \u001b[0mapplied\u001b[0m \u001b[0;34m=\u001b[0m \u001b[0mb\u001b[0m\u001b[0;34m.\u001b[0m\u001b[0mapply\u001b[0m\u001b[0;34m(\u001b[0m\u001b[0mf\u001b[0m\u001b[0;34m,\u001b[0m \u001b[0;34m**\u001b[0m\u001b[0mkwargs\u001b[0m\u001b[0;34m)\u001b[0m\u001b[0;34m\u001b[0m\u001b[0;34m\u001b[0m\u001b[0m\n\u001b[1;32m    441\u001b[0m             \u001b[0;32melse\u001b[0m\u001b[0;34m:\u001b[0m\u001b[0;34m\u001b[0m\u001b[0;34m\u001b[0m\u001b[0m\n\u001b[0;32m--> 442\u001b[0;31m                 \u001b[0mapplied\u001b[0m \u001b[0;34m=\u001b[0m \u001b[0mgetattr\u001b[0m\u001b[0;34m(\u001b[0m\u001b[0mb\u001b[0m\u001b[0;34m,\u001b[0m \u001b[0mf\u001b[0m\u001b[0;34m)\u001b[0m\u001b[0;34m(\u001b[0m\u001b[0;34m**\u001b[0m\u001b[0mkwargs\u001b[0m\u001b[0;34m)\u001b[0m\u001b[0;34m\u001b[0m\u001b[0;34m\u001b[0m\u001b[0m\n\u001b[0m\u001b[1;32m    443\u001b[0m             \u001b[0mresult_blocks\u001b[0m \u001b[0;34m=\u001b[0m \u001b[0m_extend_blocks\u001b[0m\u001b[0;34m(\u001b[0m\u001b[0mapplied\u001b[0m\u001b[0;34m,\u001b[0m \u001b[0mresult_blocks\u001b[0m\u001b[0;34m)\u001b[0m\u001b[0;34m\u001b[0m\u001b[0;34m\u001b[0m\u001b[0m\n\u001b[1;32m    444\u001b[0m \u001b[0;34m\u001b[0m\u001b[0m\n",
      "\u001b[0;32m~/Library/Python/3.7/lib/python/site-packages/pandas/core/internals/blocks.py\u001b[0m in \u001b[0;36mastype\u001b[0;34m(self, dtype, copy, errors)\u001b[0m\n\u001b[1;32m    623\u001b[0m             \u001b[0mvals1d\u001b[0m \u001b[0;34m=\u001b[0m \u001b[0mvalues\u001b[0m\u001b[0;34m.\u001b[0m\u001b[0mravel\u001b[0m\u001b[0;34m(\u001b[0m\u001b[0;34m)\u001b[0m\u001b[0;34m\u001b[0m\u001b[0;34m\u001b[0m\u001b[0m\n\u001b[1;32m    624\u001b[0m             \u001b[0;32mtry\u001b[0m\u001b[0;34m:\u001b[0m\u001b[0;34m\u001b[0m\u001b[0;34m\u001b[0m\u001b[0m\n\u001b[0;32m--> 625\u001b[0;31m                 \u001b[0mvalues\u001b[0m \u001b[0;34m=\u001b[0m \u001b[0mastype_nansafe\u001b[0m\u001b[0;34m(\u001b[0m\u001b[0mvals1d\u001b[0m\u001b[0;34m,\u001b[0m \u001b[0mdtype\u001b[0m\u001b[0;34m,\u001b[0m \u001b[0mcopy\u001b[0m\u001b[0;34m=\u001b[0m\u001b[0;32mTrue\u001b[0m\u001b[0;34m)\u001b[0m\u001b[0;34m\u001b[0m\u001b[0;34m\u001b[0m\u001b[0m\n\u001b[0m\u001b[1;32m    626\u001b[0m             \u001b[0;32mexcept\u001b[0m \u001b[0;34m(\u001b[0m\u001b[0mValueError\u001b[0m\u001b[0;34m,\u001b[0m \u001b[0mTypeError\u001b[0m\u001b[0;34m)\u001b[0m\u001b[0;34m:\u001b[0m\u001b[0;34m\u001b[0m\u001b[0;34m\u001b[0m\u001b[0m\n\u001b[1;32m    627\u001b[0m                 \u001b[0;31m# e.g. astype_nansafe can fail on object-dtype of strings\u001b[0m\u001b[0;34m\u001b[0m\u001b[0;34m\u001b[0m\u001b[0;34m\u001b[0m\u001b[0m\n",
      "\u001b[0;32m~/Library/Python/3.7/lib/python/site-packages/pandas/core/dtypes/cast.py\u001b[0m in \u001b[0;36mastype_nansafe\u001b[0;34m(arr, dtype, copy, skipna)\u001b[0m\n\u001b[1;32m    866\u001b[0m \u001b[0;34m\u001b[0m\u001b[0m\n\u001b[1;32m    867\u001b[0m         \u001b[0;32mif\u001b[0m \u001b[0;32mnot\u001b[0m \u001b[0mnp\u001b[0m\u001b[0;34m.\u001b[0m\u001b[0misfinite\u001b[0m\u001b[0;34m(\u001b[0m\u001b[0marr\u001b[0m\u001b[0;34m)\u001b[0m\u001b[0;34m.\u001b[0m\u001b[0mall\u001b[0m\u001b[0;34m(\u001b[0m\u001b[0;34m)\u001b[0m\u001b[0;34m:\u001b[0m\u001b[0;34m\u001b[0m\u001b[0;34m\u001b[0m\u001b[0m\n\u001b[0;32m--> 868\u001b[0;31m             \u001b[0;32mraise\u001b[0m \u001b[0mValueError\u001b[0m\u001b[0;34m(\u001b[0m\u001b[0;34m\"Cannot convert non-finite values (NA or inf) to integer\"\u001b[0m\u001b[0;34m)\u001b[0m\u001b[0;34m\u001b[0m\u001b[0;34m\u001b[0m\u001b[0m\n\u001b[0m\u001b[1;32m    869\u001b[0m \u001b[0;34m\u001b[0m\u001b[0m\n\u001b[1;32m    870\u001b[0m     \u001b[0;32melif\u001b[0m \u001b[0mis_object_dtype\u001b[0m\u001b[0;34m(\u001b[0m\u001b[0marr\u001b[0m\u001b[0;34m)\u001b[0m\u001b[0;34m:\u001b[0m\u001b[0;34m\u001b[0m\u001b[0;34m\u001b[0m\u001b[0m\n",
      "\u001b[0;31mValueError\u001b[0m: Cannot convert non-finite values (NA or inf) to integer"
     ]
    }
   ],
   "source": [
    "base  = '2022020102'\n",
    "# for i in ['07','08','09','10','11']:\n",
    "pt.predict(base+'11')"
   ]
  },
  {
   "cell_type": "code",
   "execution_count": 122,
   "id": "4324e2ff",
   "metadata": {},
   "outputs": [
    {
     "data": {
      "application/vnd.jupyter.widget-view+json": {
       "model_id": "0055c3d2dd734a0999b3b6e37fc995dc",
       "version_major": 2,
       "version_minor": 0
      },
      "text/plain": [
       "HBox(children=(FloatProgress(value=0.0, max=36.0), HTML(value='')))"
      ]
     },
     "metadata": {},
     "output_type": "display_data"
    },
    {
     "name": "stdout",
     "output_type": "stream",
     "text": [
      "\n"
     ]
    },
    {
     "data": {
      "application/vnd.jupyter.widget-view+json": {
       "model_id": "409b08589c8147579813fb2b159caeb3",
       "version_major": 2,
       "version_minor": 0
      },
      "text/plain": [
       "HBox(children=(FloatProgress(value=0.0, max=1.0), HTML(value='')))"
      ]
     },
     "metadata": {},
     "output_type": "display_data"
    },
    {
     "name": "stdout",
     "output_type": "stream",
     "text": [
      "\n"
     ]
    },
    {
     "data": {
      "application/vnd.jupyter.widget-view+json": {
       "model_id": "5b8251eb652f4abf83f94270e95c6971",
       "version_major": 2,
       "version_minor": 0
      },
      "text/plain": [
       "HBox(children=(FloatProgress(value=0.0, max=1.0), HTML(value='')))"
      ]
     },
     "metadata": {},
     "output_type": "display_data"
    },
    {
     "name": "stdout",
     "output_type": "stream",
     "text": [
      "\n"
     ]
    },
    {
     "data": {
      "application/vnd.jupyter.widget-view+json": {
       "model_id": "83c36adde187441288adb3c857c4cbd1",
       "version_major": 2,
       "version_minor": 0
      },
      "text/plain": [
       "HBox(children=(FloatProgress(value=0.0, max=1.0), HTML(value='')))"
      ]
     },
     "metadata": {},
     "output_type": "display_data"
    },
    {
     "name": "stdout",
     "output_type": "stream",
     "text": [
      "\n"
     ]
    },
    {
     "data": {
      "application/vnd.jupyter.widget-view+json": {
       "model_id": "55734ecfb1704122b04a111d7481a0c7",
       "version_major": 2,
       "version_minor": 0
      },
      "text/plain": [
       "HBox(children=(FloatProgress(value=0.0, max=36.0), HTML(value='')))"
      ]
     },
     "metadata": {},
     "output_type": "display_data"
    },
    {
     "name": "stdout",
     "output_type": "stream",
     "text": [
      "\n",
      "-------------------\n",
      "predict\n",
      "              馬番    scores\n",
      "202205030401   9 -0.412801\n",
      "202205030401   8 -0.870291\n",
      "202205030401   1 -0.994262\n",
      "actual\n",
      "                0            1               2           3\n",
      "202205030401   単勝            8            140円         1人気\n",
      "202205030401   複勝        8 4 7    100円130円310円   1人気2人気7人気\n",
      "202205030401   枠連          4 7            250円         1人気\n",
      "202205030401   馬連          4 8            280円         1人気\n",
      "202205030401  ワイド  4 8 7 8 4 7  160円560円1,150円  1人気7人気15人気\n",
      "202205030401   馬単          8 4            360円         1人気\n",
      "202205030401  3連複        4 7 8          1,650円         7人気\n",
      "202205030401  3連単        8 4 7          3,480円        11人気\n",
      "-------------------\n",
      "predict\n",
      "              馬番    scores\n",
      "202205030402   3  0.902469\n",
      "202205030402   1 -0.994262\n",
      "202205030402   2 -0.994262\n",
      "actual\n",
      "                0              1                 2            3\n",
      "202205030402   単勝              1              580円          2人気\n",
      "202205030402   複勝         1 10 2    180円110円1,210円    3人気1人気9人気\n",
      "202205030402   枠連            1 8              440円          2人気\n",
      "202205030402   馬連           1 10              440円          2人気\n",
      "202205030402  ワイド  1 10 1 2 2 10  270円7,290円2,440円  2人気33人気21人気\n",
      "202205030402   馬単           1 10            1,520円          7人気\n",
      "202205030402  3連複         1 2 10           13,070円         28人気\n",
      "202205030402  3連単         1 10 2           80,990円        147人気\n",
      "-------------------\n",
      "predict\n",
      "              馬番    scores\n",
      "202205030403   3 -0.939437\n",
      "202205030403  16 -0.941346\n",
      "202205030403   1 -0.942029\n",
      "actual\n",
      "                0            1                     2             3\n",
      "202205030403   単勝            6                3,070円           9人気\n",
      "202205030403   複勝        6 8 4      640円2,140円1,030円   9人気13人気11人気\n",
      "202205030403   枠連          3 4                3,370円          14人気\n",
      "202205030403   馬連          6 8               87,210円          94人気\n",
      "202205030403  ワイド  6 8 4 6 4 8  17,360円6,500円19,570円  92人気58人気97人気\n",
      "202205030403   馬単          6 8              176,310円         181人気\n",
      "202205030403  3連複        4 6 8              396,340円         388人気\n",
      "202205030403  3連単        6 8 4            2,742,710円       2,312人気\n",
      "-------------------\n",
      "predict\n",
      "              馬番    scores\n",
      "202205030404   5 -0.884669\n",
      "202205030404  15 -0.975995\n",
      "202205030404  11 -0.994262\n",
      "actual\n",
      "                0            1                 2            3\n",
      "202205030404   単勝            1              180円          1人気\n",
      "202205030404   複勝        1 7 5      130円790円260円   1人気10人気4人気\n",
      "202205030404   枠連          1 4            1,130円          4人気\n",
      "202205030404   馬連          1 7            3,700円         11人気\n",
      "202205030404  ワイド  1 7 1 5 5 7  1,390円480円5,350円  15人気3人気44人気\n",
      "202205030404   馬単          1 7            4,080円         13人気\n",
      "202205030404  3連複        1 5 7           10,960円         33人気\n",
      "202205030404  3連単        1 7 5           33,750円         99人気\n",
      "-------------------\n",
      "predict\n",
      "              馬番   scores\n",
      "202205030405   1 -0.98267\n",
      "202205030405   2 -0.98267\n",
      "202205030405   3 -0.98267\n",
      "actual\n",
      "                0            1                 2            3\n",
      "202205030405   単勝            8           13,190円         11人気\n",
      "202205030405   複勝        8 7 9    1,040円110円230円   11人気1人気4人気\n",
      "202205030405   枠連          6 6            5,360円         15人気\n",
      "202205030405   馬連          7 8            5,960円         16人気\n",
      "202205030405  ワイド  7 8 8 9 7 9  1,550円5,720円330円  16人気36人気3人気\n",
      "202205030405   馬単          8 7           27,650円         45人気\n",
      "202205030405  3連複        7 8 9            9,340円         26人気\n",
      "202205030405  3連単        8 7 9          191,280円        285人気\n",
      "-------------------\n",
      "predict\n",
      "              馬番    scores\n",
      "202205030406  14 -0.782900\n",
      "202205030406   1 -0.834000\n",
      "202205030406   2 -0.994262\n",
      "actual\n",
      "                0              1             2          3\n",
      "202205030406   単勝              1          210円        1人気\n",
      "202205030406   複勝         1 14 4  120円150円220円  1人気3人気4人気\n",
      "202205030406   枠連            1 8          450円        1人気\n",
      "202205030406   馬連           1 14          420円        1人気\n",
      "202205030406  ワイド  1 14 1 4 4 14  240円530円680円  2人気4人気7人気\n",
      "202205030406   馬単           1 14          720円        2人気\n",
      "202205030406  3連複         1 4 14        1,740円        2人気\n",
      "202205030406  3連単         1 14 4        4,590円        7人気\n",
      "profit 240\n",
      "-------------------\n",
      "predict\n",
      "              馬番    scores\n",
      "202205030407   9  0.089844\n",
      "202205030407   6 -0.741862\n",
      "202205030407   1 -0.753169\n",
      "actual\n",
      "                0              1                 2            3\n",
      "202205030407   単勝              8              780円          6人気\n",
      "202205030407   複勝         8 5 11      240円390円240円    5人気7人気4人気\n",
      "202205030407   枠連            4 6            2,720円         11人気\n",
      "202205030407   馬連            5 8            6,160円         26人気\n",
      "202205030407  ワイド  5 8 8 11 5 11  1,890円750円2,560円  26人気8人気33人気\n",
      "202205030407   馬単            8 5           12,030円         49人気\n",
      "202205030407  3連複         5 8 11           14,190円         52人気\n",
      "202205030407  3連単         8 5 11           68,480円        257人気\n",
      "-------------------\n",
      "predict\n",
      "              馬番    scores\n",
      "202205030408  10  0.443615\n",
      "202205030408   8 -0.605415\n",
      "202205030408  11 -0.834504\n",
      "actual\n",
      "                0                1             2           3\n",
      "202205030408   単勝               11          430円         2人気\n",
      "202205030408   複勝          11 7 10  160円230円220円   2人気5人気6人気\n",
      "202205030408   枠連              6 8          290円         1人気\n",
      "202205030408   馬連             7 11        1,550円         7人気\n",
      "202205030408  ワイド  7 11 10 11 7 10  580円460円740円  7人気2人気13人気\n",
      "202205030408   馬単             11 7        2,540円         9人気\n",
      "202205030408  3連複          7 10 11        2,750円         8人気\n",
      "202205030408  3連単          11 7 10       14,270円        45人気\n",
      "-------------------\n",
      "predict\n",
      "              馬番    scores\n",
      "202205030409  12  0.558865\n",
      "202205030409   7  0.119231\n",
      "202205030409   2  0.118063\n",
      "actual\n",
      "                0                1             2          3\n",
      "202205030409   単勝                1          330円        1人気\n",
      "202205030409   複勝          1 12 13  140円150円230円  2人気1人気5人気\n",
      "202205030409   枠連              1 6          500円        2人気\n",
      "202205030409   馬連             1 12          800円        1人気\n",
      "202205030409  ワイド  1 12 1 13 12 13  360円460円600円  1人気3人気7人気\n",
      "202205030409   馬単             1 12        1,560円        1人気\n",
      "202205030409  3連複          1 12 13        1,920円        3人気\n",
      "202205030409  3連単          1 12 13        8,860円        8人気\n",
      "-------------------\n",
      "predict\n",
      "              馬番    scores\n",
      "202205030410   6  1.371102\n",
      "202205030410   3  0.779867\n",
      "202205030410   8  0.443859\n",
      "actual\n",
      "                0                1                    2             3\n",
      "202205030410   単勝               15               4,060円           9人気\n",
      "202205030410   複勝          15 6 13       950円220円1,470円    9人気3人気11人気\n",
      "202205030410   枠連              4 8               1,880円           9人気\n",
      "202205030410   馬連             6 15              12,980円          32人気\n",
      "202205030410  ワイド  6 15 13 15 6 13  3,600円18,140円5,830円  33人気79人気42人気\n",
      "202205030410   馬単             15 6              34,930円          72人気\n",
      "202205030410  3連複          6 13 15             205,080円         222人気\n",
      "202205030410  3連単          15 6 13           1,187,160円       1,215人気\n",
      "-------------------\n",
      "predict\n",
      "              馬番    scores\n",
      "202205030411  10 -0.002582\n",
      "202205030411   7 -0.048079\n",
      "202205030411   1 -0.068064\n",
      "actual\n",
      "                0            1                 2            3\n",
      "202205030411   単勝            6              730円          4人気\n",
      "202205030411   複勝        6 8 5      230円450円160円    4人気8人気1人気\n",
      "202205030411   枠連          5 6            1,590円          9人気\n",
      "202205030411   馬連          6 8            8,010円         28人気\n",
      "202205030411  ワイド  6 8 5 6 5 8  2,040円480円1,110円  28人気3人気15人気\n",
      "202205030411   馬単          6 8           13,430円         48人気\n",
      "202205030411  3連複        5 6 8            7,260円         29人気\n",
      "202205030411  3連単        6 8 5           55,860円        210人気\n",
      "-------------------\n",
      "predict\n",
      "              馬番    scores\n",
      "202205030412   2  0.878123\n",
      "202205030412   9 -0.471416\n",
      "202205030412  13 -0.750111\n",
      "actual\n",
      "                0                  1                 2             3\n",
      "202205030412   単勝                 10              460円           1人気\n",
      "202205030412   複勝           10 11 13    200円1,060円240円    2人気11人気5人気\n",
      "202205030412   枠連                5 6              660円           1人気\n",
      "202205030412   馬連              10 11           15,210円          41人気\n",
      "202205030412  ワイド  10 11 10 13 11 13  4,530円840円4,220円  45人気11人気40人気\n",
      "202205030412   馬単              10 11           19,310円          52人気\n",
      "202205030412  3連複           10 11 13           27,990円          93人気\n",
      "202205030412  3連単           10 11 13          170,860円         482人気\n",
      "-------------------\n",
      "predict\n",
      "              馬番    scores\n",
      "202207040401   7  0.289417\n",
      "202207040401   4 -0.325229\n",
      "202207040401  10 -0.748488\n",
      "actual\n",
      "                0                1             2           3\n",
      "202207040401   単勝               10          400円         2人気\n",
      "202207040401   複勝          10 13 1  130円250円120円   1人気6人気2人気\n",
      "202207040401   枠連              7 8        1,470円         8人気\n",
      "202207040401   馬連            10 13        1,760円         6人気\n",
      "202207040401  ワイド  10 13 1 10 1 13  490円300円710円  4人気3人気10人気\n",
      "202207040401   馬単            10 13        2,700円         9人気\n",
      "202207040401  3連複          1 10 13        1,620円         2人気\n",
      "202207040401  3連単          10 13 1        9,220円        20人気\n",
      "-------------------\n",
      "predict\n",
      "              馬番    scores\n",
      "202207040402   1 -0.871187\n",
      "202207040402   2 -0.994262\n",
      "202207040402   3 -0.994262\n",
      "actual\n",
      "                0            1                 2            3\n",
      "202207040402   単勝            9            3,200円          7人気\n",
      "202207040402   複勝        9 3 2      490円170円180円    7人気2人気3人気\n",
      "202207040402   枠連          3 8              900円          5人気\n",
      "202207040402   馬連          3 9            5,780円         18人気\n",
      "202207040402  ワイド  3 9 2 9 2 3  1,310円1,270円310円  17人気16人気2人気\n",
      "202207040402   馬単          9 3           14,580円         42人気\n",
      "202207040402  3連複        2 3 9            5,680円         23人気\n",
      "202207040402  3連単        9 3 2           68,780円        198人気\n",
      "-------------------\n",
      "predict\n",
      "              馬番    scores\n",
      "202207040403  16 -0.774655\n",
      "202207040403   1 -0.994262\n",
      "202207040403   3 -0.994262\n",
      "actual\n",
      "                0                1                 2             3\n",
      "202207040403   単勝                3              510円           4人気\n",
      "202207040403   複勝          3 13 14    240円170円1,460円    5人気1人気11人気\n",
      "202207040403   枠連              2 7              680円           2人気\n",
      "202207040403   馬連             3 13            1,770円           9人気\n",
      "202207040403  ワイド  3 13 3 14 13 14  810円5,480円3,740円  10人気42人気27人気\n",
      "202207040403   馬単             3 13            3,070円          14人気\n",
      "202207040403  3連複          3 13 14           43,110円          95人気\n",
      "202207040403  3連単          3 13 14          133,530円         337人気\n",
      "-------------------\n",
      "predict\n",
      "              馬番    scores\n",
      "202207040404   9 -0.829215\n",
      "202207040404   1 -0.994262\n",
      "202207040404   3 -0.994262\n",
      "actual\n",
      "                0            1                 2            3\n",
      "202207040404   単勝            3           11,190円         11人気\n",
      "202207040404   複勝        3 2 8    1,570円190円230円   10人気3人気4人気\n",
      "202207040404   枠連          1 2            2,330円         10人気\n",
      "202207040404   馬連          2 3           14,600円         28人気\n",
      "202207040404  ワイド  2 3 3 8 2 8  4,110円4,980円710円  32人気36人気8人気\n",
      "202207040404   馬単          3 2           45,160円         72人気\n",
      "202207040404  3連複        2 3 8           28,520円         64人気\n",
      "202207040404  3連単        3 2 8          306,350円        499人気\n",
      "-------------------\n",
      "predict\n",
      "              馬番   scores\n",
      "202207040405   1 -0.98267\n",
      "202207040405   2 -0.98267\n",
      "202207040405   3 -0.98267\n",
      "actual\n",
      "                0            1             2          3\n",
      "202207040405   単勝            1          140円        1人気\n",
      "202207040405   複勝        1 3 2  110円130円200円  1人気2人気5人気\n",
      "202207040405   枠連          1 3          360円        1人気\n",
      "202207040405   馬連          1 3          340円        1人気\n",
      "202207040405  ワイド  1 3 1 2 2 3  190円310円540円  1人気4人気8人気\n",
      "202207040405   馬単          1 3          500円        1人気\n",
      "202207040405  3連複        1 2 3          750円        2人気\n",
      "202207040405  3連単        1 3 2        2,130円        3人気\n",
      "profit 310\n",
      "-------------------\n",
      "predict\n",
      "              馬番    scores\n",
      "202207040406   1 -0.994262\n",
      "202207040406   2 -0.994262\n",
      "202207040406   3 -0.994262\n",
      "actual\n",
      "                0            1                 2            3\n",
      "202207040406   単勝            4            1,090円          4人気\n",
      "202207040406   複勝        4 1 6      270円220円620円    4人気3人気9人気\n",
      "202207040406   枠連          1 4            2,480円         12人気\n",
      "202207040406   馬連          1 4            2,900円         10人気\n",
      "202207040406  ワイド  1 4 4 6 1 6  860円3,370円2,130円  9人気34人気24人気\n",
      "202207040406   馬単          4 1            5,530円         21人気\n",
      "202207040406  3連複        1 4 6           24,910円         69人気\n",
      "202207040406  3連単        4 1 6          126,340円        358人気\n",
      "-------------------\n",
      "predict\n",
      "              馬番    scores\n",
      "202207040407   1  0.440051\n",
      "202207040407  13  0.274476\n",
      "202207040407   8 -0.453687\n",
      "actual\n",
      "                0                1                     2              3\n",
      "202207040407   単勝               16                8,960円           14人気\n",
      "202207040407   複勝          16 6 14      3,010円250円1,970円    16人気3人気14人気\n",
      "202207040407   枠連              3 8                8,070円           26人気\n",
      "202207040407   馬連             6 16               65,680円           91人気\n",
      "202207040407  ワイド  6 16 14 16 6 14  15,310円30,750円5,440円  94人気114人気57人気\n",
      "202207040407   馬単             16 6              186,380円          210人気\n",
      "202207040407  3連複          6 14 16              715,660円          507人気\n",
      "202207040407  3連単          16 6 14            7,832,540円        3,217人気\n",
      "-------------------\n",
      "predict\n",
      "              馬番    scores\n",
      "202207040408   1  0.116513\n",
      "202207040408   7  0.081391\n",
      "202207040408  13  0.030812\n",
      "actual\n",
      "                0                1                   2             3\n",
      "202207040408   単勝               13              1,440円           6人気\n",
      "202207040408   複勝          13 2 11        290円820円230円    5人気10人気3人気\n",
      "202207040408   枠連              2 8              7,400円          18人気\n",
      "202207040408   馬連             2 13             19,670円          48人気\n",
      "202207040408  ワイド  2 13 11 13 2 11  4,920円1,410円2,260円  48人気17人気31人気\n",
      "202207040408   馬単             13 2             33,890円          92人気\n",
      "202207040408  3連複          2 11 13             39,180円         118人気\n",
      "202207040408  3連単          13 2 11            253,000円         738人気\n",
      "-------------------\n",
      "predict\n",
      "              馬番    scores\n",
      "202207040409   2  0.399346\n",
      "202207040409   8 -0.091586\n",
      "202207040409  11 -0.355201\n",
      "actual\n",
      "                0                1             2          3\n",
      "202207040409   単勝               11          810円        5人気\n",
      "202207040409   複勝          11 13 7  240円220円170円  5人気4人気1人気\n",
      "202207040409   枠連              6 7        1,800円       10人気\n",
      "202207040409   馬連            11 13        1,990円        7人気\n",
      "202207040409  ワイド  11 13 7 11 7 13  680円780円770円  4人気9人気6人気\n",
      "202207040409   馬単            11 13        4,090円       17人気\n",
      "202207040409  3連複          7 11 13        4,200円        9人気\n",
      "202207040409  3連単          11 13 7       24,850円       65人気\n",
      "-------------------\n",
      "predict\n",
      "              馬番    scores\n",
      "202207040410  10  0.893336\n",
      "202207040410   2  0.273061\n",
      "202207040410   4 -0.812102\n",
      "actual\n",
      "                0              1             2           3\n",
      "202207040410   単勝             10          230円         1人気\n",
      "202207040410   複勝         10 5 1  130円260円180円   1人気5人気4人気\n",
      "202207040410   枠連            5 8        1,000円         5人気\n",
      "202207040410   馬連           5 10        1,340円         5人気\n",
      "202207040410  ワイド  5 10 1 10 1 5  510円320円740円  6人気2人気11人気\n",
      "202207040410   馬単           10 5        2,000円         8人気\n",
      "202207040410  3連複         1 5 10        2,050円         7人気\n",
      "202207040410  3連単         10 5 1        7,740円        22人気\n",
      "-------------------\n",
      "predict\n",
      "              馬番    scores\n",
      "202207040411   1  1.195413\n",
      "202207040411   2  0.778181\n",
      "202207040411  16  0.774669\n",
      "actual\n",
      "                0                1               2            3\n",
      "202207040411   単勝               10            370円          2人気\n",
      "202207040411   複勝          10 2 12    160円180円350円    2人気3人気6人気\n",
      "202207040411   枠連              1 5            860円          3人気\n",
      "202207040411   馬連             2 10          1,060円          3人気\n",
      "202207040411  ワイド  2 10 10 12 2 12  460円960円1,370円  2人気10人気15人気\n",
      "202207040411   馬単             10 2          1,910円          4人気\n",
      "202207040411  3連複          2 10 12          4,490円         10人気\n",
      "202207040411  3連単          10 2 12         16,460円         39人気\n",
      "-------------------\n",
      "predict\n",
      "              馬番    scores\n",
      "202207040412   3  0.576979\n",
      "202207040412  16  0.447320\n",
      "202207040412  12 -0.359601\n",
      "actual\n",
      "                0                1                   2             3\n",
      "202207040412   単勝               10              1,220円           8人気\n",
      "202207040412   複勝          10 3 13        350円400円260円     7人気9人気4人気\n",
      "202207040412   枠連              2 5              1,770円           6人気\n",
      "202207040412   馬連             3 10              6,350円          34人気\n",
      "202207040412  ワイド  3 10 10 13 3 13  1,820円1,450円1,850円  30人気14人気31人気\n",
      "202207040412   馬単             10 3             12,430円          67人気\n",
      "202207040412  3連複          3 10 13             17,080円          73人気\n",
      "202207040412  3連単          10 3 13            113,170円         484人気\n",
      "-------------------\n",
      "predict\n",
      "              馬番    scores\n",
      "202202010201   2 -0.121298\n",
      "202202010201  10 -0.957655\n",
      "202202010201  15 -0.977135\n",
      "actual\n",
      "                0              1                 2            3\n",
      "202202010201   単勝              2              200円          1人気\n",
      "202202010201   複勝         2 1 15    110円1,460円120円   2人気14人気1人気\n",
      "202202010201   枠連            1 1            9,410円         20人気\n",
      "202202010201   馬連            1 2            8,950円         23人気\n",
      "202202010201  ワイド  1 2 2 15 1 15  2,560円170円3,040円  26人気1人気29人気\n",
      "202202010201   馬単            2 1           11,710円         32人気\n",
      "202202010201  3連複         1 2 15            7,430円         23人気\n",
      "202202010201  3連単         2 1 15           47,390円        126人気\n",
      "-------------------\n",
      "predict\n",
      "              馬番    scores\n",
      "202202010202   1  0.661768\n",
      "202202010202   2  0.054480\n",
      "202202010202   4 -0.761866\n",
      "actual\n",
      "                0              1               2            3\n",
      "202202010202   単勝              4            600円          4人気\n",
      "202202010202   複勝         4 14 2    200円360円280円    4人気6人気5人気\n",
      "202202010202   枠連            3 8          1,590円          8人気\n",
      "202202010202   馬連           4 14          3,150円         12人気\n",
      "202202010202  ワイド  4 14 2 4 2 14  950円680円1,950円  12人気8人気22人気\n",
      "202202010202   馬単           4 14          5,940円         24人気\n",
      "202202010202  3連複         2 4 14          8,510円         28人気\n",
      "202202010202  3連単         4 14 2         35,110円        120人気\n",
      "-------------------\n",
      "predict\n",
      "              馬番    scores\n",
      "202202010203   3  0.551630\n",
      "202202010203  10 -0.678673\n",
      "202202010203   1 -0.994262\n",
      "actual\n",
      "                0            1             2          3\n",
      "202202010203   単勝            3          250円        2人気\n",
      "202202010203   複勝        3 2 1  130円160円200円  2人気3人気4人気\n",
      "202202010203   枠連          2 3          570円        2人気\n",
      "202202010203   馬連          2 3          670円        2人気\n",
      "202202010203  ワイド  2 3 1 3 1 2  290円390円550円  2人気4人気8人気\n",
      "202202010203   馬単          3 2        1,140円        3人気\n",
      "202202010203  3連複        1 2 3        1,710円        5人気\n",
      "202202010203  3連単        3 2 1        5,440円       15人気\n",
      "-------------------\n",
      "predict\n",
      "              馬番    scores\n",
      "202202010204  13 -0.726989\n",
      "202202010204   3 -0.953948\n",
      "202202010204   1 -0.994262\n",
      "actual\n",
      "                0              1                 2            3\n",
      "202202010204   単勝              3              330円          2人気\n",
      "202202010204   複勝         3 14 6      150円330円470円    2人気4人気8人気\n",
      "202202010204   枠連            2 8              940円          3人気\n",
      "202202010204   馬連           3 14            2,620円         10人気\n",
      "202202010204  ワイド  3 14 3 6 6 14  820円1,090円3,040円  8人気13人気29人気\n",
      "202202010204   馬単           3 14            4,590円         13人気\n",
      "202202010204  3連複         3 6 14            9,460円         31人気\n",
      "202202010204  3連単         3 14 6           49,730円        149人気\n",
      "-------------------\n",
      "predict\n",
      "              馬番   scores\n",
      "202202010205   1 -0.98267\n",
      "202202010205   2 -0.98267\n",
      "202202010205   3 -0.98267\n",
      "actual\n",
      "                0            1                 2            3\n",
      "202202010205   単勝            8              280円          2人気\n",
      "202202010205   複勝        8 7 4      150円560円190円    2人気7人気4人気\n",
      "202202010205   枠連          7 8            2,790円          9人気\n",
      "202202010205   馬連          7 8            4,280円         13人気\n",
      "202202010205  ワイド  7 8 4 8 4 7  1,260円470円1,480円  14人気5人気17人気\n",
      "202202010205   馬単          8 7            6,180円         22人気\n",
      "202202010205  3連複        4 7 8            5,420円         18人気\n",
      "202202010205  3連単        8 7 4           32,000円        101人気\n",
      "-------------------\n",
      "predict\n",
      "              馬番    scores\n",
      "202202010206   3  0.903063\n",
      "202202010206   8 -0.879639\n",
      "202202010206   1 -0.994262\n",
      "actual\n",
      "                0            1             2          3\n",
      "202202010206   単勝            2          480円        2人気\n",
      "202202010206   複勝        2 5 3  150円210円110円  2人気4人気1人気\n",
      "202202010206   枠連          2 4        1,740円        7人気\n",
      "202202010206   馬連          2 5        3,050円       11人気\n",
      "202202010206  ワイド  2 5 2 3 3 5  800円250円420円  9人気1人気4人気\n",
      "202202010206   馬単          2 5        5,000円       16人気\n",
      "202202010206  3連複        2 3 5        1,530円        2人気\n",
      "202202010206  3連単        2 5 3       12,850円       38人気\n",
      "-------------------\n",
      "predict\n",
      "              馬番    scores\n",
      "202202010207   8  0.972303\n",
      "202202010207   7  0.303431\n",
      "202202010207  12  0.122729\n",
      "actual\n",
      "                0            1             2          3\n",
      "202202010207   単勝            9          380円        1人気\n",
      "202202010207   複勝        9 8 7  190円220円200円  2人気6人気3人気\n",
      "202202010207   枠連          6 7          830円        1人気\n",
      "202202010207   馬連          8 9        1,950円        7人気\n",
      "202202010207  ワイド  8 9 7 9 7 8  600円550円610円  5人気2人気6人気\n",
      "202202010207   馬単          9 8        3,130円        6人気\n",
      "202202010207  3連複        7 8 9        3,090円        3人気\n",
      "202202010207  3連単        9 8 7       11,320円        2人気\n",
      "-------------------\n",
      "predict\n",
      "              馬番    scores\n",
      "202202010208   7  0.354695\n",
      "202202010208   1  0.110950\n",
      "202202010208   2 -0.119130\n",
      "actual\n",
      "                0              1                 2            3\n",
      "202202010208   単勝              9              650円          4人気\n",
      "202202010208   複勝         9 11 5      200円180円400円    3人気2人気7人気\n",
      "202202010208   枠連            6 7            1,060円          4人気\n",
      "202202010208   馬連           9 11            1,260円          4人気\n",
      "202202010208  ワイド  9 11 5 9 5 11  460円1,320円1,330円  3人気16人気17人気\n",
      "202202010208   馬単           9 11            3,240円         13人気\n",
      "202202010208  3連複         5 9 11            4,300円         14人気\n",
      "202202010208  3連単         9 11 5           25,560円         80人気\n",
      "-------------------\n",
      "predict\n",
      "              馬番    scores\n",
      "202202010209   4  0.179334\n",
      "202202010209  12 -0.106189\n",
      "202202010209  14 -0.230545\n",
      "actual\n",
      "                0                1                 2            3\n",
      "202202010209   単勝               10            1,710円          7人気\n",
      "202202010209   複勝          10 1 14      360円380円150円    6人気8人気1人気\n",
      "202202010209   枠連              1 6            9,840円         24人気\n",
      "202202010209   馬連             1 10            9,850円         34人気\n",
      "202202010209  ワイド  1 10 10 14 1 14  2,660円1,150円990円  35人気14人気9人気\n",
      "202202010209   馬単             10 1           20,460円         65人気\n",
      "202202010209  3連複          1 10 14           10,900円         42人気\n",
      "202202010209  3連単          10 1 14          110,060円        378人気\n",
      "-------------------\n",
      "predict\n",
      "              馬番    scores\n",
      "202202010210  10  0.384946\n",
      "202202010210   6  0.255291\n",
      "202202010210   7  0.215138\n",
      "actual\n",
      "                0            1             2          3\n",
      "202202010210   単勝            8          260円        1人気\n",
      "202202010210   複勝        8 7 5  130円150円140円  2人気4人気3人気\n",
      "202202010210   枠連          7 7          870円        4人気\n",
      "202202010210   馬連          7 8        1,010円        5人気\n",
      "202202010210  ワイド  7 8 5 8 5 7  370円270円330円  5人気1人気4人気\n",
      "202202010210   馬単          8 7        1,680円        5人気\n",
      "202202010210  3連複        5 7 8        1,080円        2人気\n",
      "202202010210  3連単        8 7 5        5,130円        7人気\n",
      "-------------------\n",
      "predict\n",
      "              馬番    scores\n",
      "202202010211  11  1.715394\n",
      "202202010211   4  1.239804\n",
      "202202010211   8  1.098953\n",
      "actual\n",
      "                0              1                   2             3\n",
      "202202010211   単勝              7                210円           1人気\n",
      "202202010211   複勝         7 11 5      150円490円1,030円    1人気7人気12人気\n",
      "202202010211   枠連            4 6              1,260円           6人気\n",
      "202202010211   馬連           7 11              3,000円          10人気\n",
      "202202010211  ワイド  7 11 5 7 5 11  1,070円2,160円7,290円  10人気23人気58人気\n",
      "202202010211   馬単           7 11              3,850円          15人気\n",
      "202202010211  3連複         5 7 11             25,650円          78人気\n",
      "202202010211  3連単         7 11 5             88,700円         266人気\n",
      "-------------------\n",
      "predict\n",
      "              馬番    scores\n",
      "202202010212  10  1.043246\n",
      "202202010212   2  0.374840\n",
      "202202010212   5 -0.168162\n",
      "actual\n",
      "                0            1                    2             3\n",
      "202202010212   単勝            7                 340円           2人気\n",
      "202202010212   複勝        7 8 9       170円340円1,920円    2人気6人気13人気\n",
      "202202010212   枠連          5 5               2,750円          11人気\n",
      "202202010212   馬連          7 8               2,910円          11人気\n",
      "202202010212  ワイド  7 8 7 9 8 9  1,030円6,020円10,230円  12人気49人気66人気\n",
      "202202010212   馬単          7 8               4,090円          16人気\n",
      "202202010212  3連複        7 8 9              51,570円         126人気\n",
      "202202010212  3連単        7 8 9             153,080円         432人気\n",
      "---------------------\n",
      "単勝\n",
      "的中率 : 4 / 36\n",
      "的中% : 11.11 %\n",
      "収支   : -2780 円\n",
      "的中レース ['05', '10', '01', '03']\n",
      "---------------------\n",
      "複勝\n",
      "的中率 : 14 / 36\n",
      "的中% : 38.89 %\n",
      "収支   : -680 円\n",
      "的中レース ['04', '06', '08', '09', '10', '05', '06', '10', '12', '01', '03', '06', '07', '11']\n",
      "---------------------\n",
      "ワイド\n",
      "的中率 : 2 / 36\n",
      "的中% : 5.56 %\n",
      "収支   : -3050 円\n",
      "的中レース ['06', '05']\n"
     ]
    }
   ],
   "source": [
    "\n",
    "pt.show_results_today()"
   ]
  },
  {
   "cell_type": "markdown",
   "id": "fd8b97e7-5e69-4334-a268-c7a57eaa10d8",
   "metadata": {},
   "source": [
    "# 日付に注意"
   ]
  },
  {
   "cell_type": "code",
   "execution_count": null,
   "id": "5e00c431-6a37-4f54-bfd3-7a1cc01780cc",
   "metadata": {},
   "outputs": [],
   "source": [
    "date = '2022/12/31'"
   ]
  },
  {
   "cell_type": "markdown",
   "id": "fd8ec390-bc7f-4821-8417-76382d034041",
   "metadata": {},
   "source": [
    "# Results scraping"
   ]
  },
  {
   "cell_type": "code",
   "execution_count": 4,
   "id": "131add0a-4ac5-4133-b242-3fa2109a4762",
   "metadata": {
    "tags": []
   },
   "outputs": [
    {
     "data": {
      "application/vnd.jupyter.widget-view+json": {
       "model_id": "16b067ab33d74fb8a3eb59ea8bf35b4a",
       "version_major": 2,
       "version_minor": 0
      },
      "text/plain": [
       "HBox(children=(FloatProgress(value=0.0, max=48.0), HTML(value='')))"
      ]
     },
     "metadata": {},
     "output_type": "display_data"
    },
    {
     "name": "stdout",
     "output_type": "stream",
     "text": [
      "\n"
     ]
    }
   ],
   "source": [
    "# race_id_list = results.index.astype('str')\n",
    "\n",
    "results_tmp = Results.scrape(race_id_list)"
   ]
  },
  {
   "cell_type": "markdown",
   "id": "3c0ac189-894a-48ac-adb2-4e731640bc5c",
   "metadata": {},
   "source": [
    "# Horse_results scraping"
   ]
  },
  {
   "cell_type": "code",
   "execution_count": 5,
   "id": "1fb495b3-1044-4b5a-afdc-cdf1b60aa6f8",
   "metadata": {},
   "outputs": [
    {
     "data": {
      "application/vnd.jupyter.widget-view+json": {
       "model_id": "2b3afd2dd4d44ac597ec4cc6911a73ab",
       "version_major": 2,
       "version_minor": 0
      },
      "text/plain": [
       "HBox(children=(FloatProgress(value=0.0, max=636.0), HTML(value='')))"
      ]
     },
     "metadata": {},
     "output_type": "display_data"
    },
    {
     "name": "stdout",
     "output_type": "stream",
     "text": [
      "\n"
     ]
    }
   ],
   "source": [
    "horse_id_list = results_tmp['horse_id'].astype(str).unique()\n",
    "horse_results_tmp = HorseResults.scrape(horse_id_list)\n",
    "# save_path = '/Users/rince/Desktop/Horse/Data/horse_2020.csv'"
   ]
  },
  {
   "cell_type": "markdown",
   "id": "c1569216-aa8f-40a3-8303-5d54a442b00e",
   "metadata": {},
   "source": [
    "# Peds scraping"
   ]
  },
  {
   "cell_type": "code",
   "execution_count": 6,
   "id": "56d56e6b-7a60-4721-a111-892aafa204d9",
   "metadata": {},
   "outputs": [
    {
     "data": {
      "application/vnd.jupyter.widget-view+json": {
       "model_id": "654bb24ae3d34b88ae05ef68357ba10a",
       "version_major": 2,
       "version_minor": 0
      },
      "text/plain": [
       "HBox(children=(FloatProgress(value=0.0, max=636.0), HTML(value='')))"
      ]
     },
     "metadata": {},
     "output_type": "display_data"
    },
    {
     "name": "stdout",
     "output_type": "stream",
     "text": [
      "\n"
     ]
    },
    {
     "data": {
      "application/vnd.jupyter.widget-view+json": {
       "model_id": "0a66d9d483d449cdb05d93dd90da525d",
       "version_major": 2,
       "version_minor": 0
      },
      "text/plain": [
       "HBox(children=(FloatProgress(value=0.0, max=636.0), HTML(value='')))"
      ]
     },
     "metadata": {},
     "output_type": "display_data"
    },
    {
     "name": "stdout",
     "output_type": "stream",
     "text": [
      "\n"
     ]
    }
   ],
   "source": [
    "peds_2021 = Peds.scrape(horse_id_list)\n",
    "pe_2021 = Peds(peds_2021)\n",
    "pe_2021.regularize_peds()\n",
    "peds_tmp = pe_2021.peds_re"
   ]
  },
  {
   "cell_type": "markdown",
   "id": "2d1db0da-3505-4825-8408-e7dd58205c96",
   "metadata": {},
   "source": [
    "# Return scraping"
   ]
  },
  {
   "cell_type": "code",
   "execution_count": 7,
   "id": "56a4d97d-94cc-477f-b643-5144c7173613",
   "metadata": {},
   "outputs": [
    {
     "data": {
      "application/vnd.jupyter.widget-view+json": {
       "model_id": "057ddf4e01014d0e8dd79fd862df4f09",
       "version_major": 2,
       "version_minor": 0
      },
      "text/plain": [
       "HBox(children=(FloatProgress(value=0.0, max=48.0), HTML(value='')))"
      ]
     },
     "metadata": {},
     "output_type": "display_data"
    },
    {
     "name": "stdout",
     "output_type": "stream",
     "text": [
      "\n"
     ]
    }
   ],
   "source": [
    "returns_tmp = Return.scrape(race_id_list)\n"
   ]
  },
  {
   "cell_type": "markdown",
   "id": "6e175b9a-1a2d-4d5d-a5e2-e771c86dd8d2",
   "metadata": {},
   "source": [
    "# update"
   ]
  },
  {
   "cell_type": "code",
   "execution_count": 8,
   "id": "428fa2b8-2058-4c1d-af05-ec10e9f3768d",
   "metadata": {},
   "outputs": [],
   "source": [
    "new_results = update_data(load_csv(path_mac+'results.csv'),results_tmp)\n",
    "new_horse_results = update_data(load_csv(path_mac+'horse_results.csv'),horse_results_tmp)\n",
    "new_peds = update_data(load_csv(path_mac+'peds.csv'),peds_tmp)\n",
    "returns = load_csv(path_mac+'return.csv')\n",
    "returns.rename(columns={'0':0,'1':1,'2':2,'3':3},inplace=True)\n",
    "returns_tmp.rename(columns={'0':0,'1':1,'2':2,'3':3},inplace=True)\n",
    "new_return = update_data(returns,returns_tmp)\n"
   ]
  },
  {
   "cell_type": "markdown",
   "id": "d77364dd-545a-43d4-97aa-070ca0595356",
   "metadata": {},
   "source": [
    "# save"
   ]
  },
  {
   "cell_type": "code",
   "execution_count": 9,
   "id": "875dc8e7-f696-4b78-933d-4f62f3603430",
   "metadata": {},
   "outputs": [],
   "source": [
    "new_results.to_csv(path_mac+'results.csv')\n",
    "new_horse_results.to_csv(path_mac+'horse_results.csv')\n",
    "new_peds.to_csv(path_mac+'peds.csv')\n",
    "new_return.to_csv(path_mac+'return.csv')"
   ]
  },
  {
   "cell_type": "markdown",
   "id": "4bb0ca11-eae4-4d5e-b833-3184f6e85f85",
   "metadata": {},
   "source": [
    "# 重要度"
   ]
  },
  {
   "cell_type": "code",
   "execution_count": null,
   "id": "c64f0ed3-8651-4105-aa14-83bfa45b20c9",
   "metadata": {
    "tags": []
   },
   "outputs": [],
   "source": [
    "importances = pd.DataFrame(\n",
    "{'features' : x_train.columns, 'importances' : lgb_rank.feature_importance()})\n",
    "print(importances.sort_values('importances', ascending=False)[:30])"
   ]
  },
  {
   "cell_type": "markdown",
   "id": "d5dc1142-ff9b-4568-80b8-18ef0d9010c1",
   "metadata": {},
   "source": [
    "# fastText"
   ]
  },
  {
   "cell_type": "markdown",
   "id": "ea29d7bf-5052-44dc-ac80-dea59ed65444",
   "metadata": {},
   "source": [
    "流れ\n",
    "1. fasttext用の血統データの学習データを作る (血統の情報のみ, index ヘッダはいらない)\n",
    "2. fasttext学習\n",
    "3. 学習モデルを使って, 血統データをベクトル化\n",
    "4. ベクトル化して r.data_cに concat\n",
    "5. 学習\n"
   ]
  },
  {
   "cell_type": "markdown",
   "id": "23d375b9-e292-4d4a-97c2-905e3060419f",
   "metadata": {},
   "source": [
    "教師あり, 教師なしでも生成されるベクトルは等しい"
   ]
  },
  {
   "cell_type": "markdown",
   "id": "4de5229f-9b05-4bc1-820a-0e275a1d6c8f",
   "metadata": {},
   "source": [
    "# model_ft 作成"
   ]
  },
  {
   "cell_type": "code",
   "execution_count": null,
   "id": "554f0c62-72c2-4a2e-b45e-b0b4d37c2e86",
   "metadata": {
    "tags": []
   },
   "outputs": [],
   "source": [
    "# 相対パスしかできない\n",
    "# dim : 出力の次元\n",
    "# minn : n_gramの最小単位\n",
    "# maxn : n_gramの最大単位\n",
    "path_ft = '/Users/rince/Desktop/Horse/code/horse/peds_ft.txt'\n",
    "# 上書き保存OK\n",
    "peds.to_csv(path_ft,header=False,index=False,sep=',')\n",
    "model_ft = ft.train_unsupervised(path_ft,dim=62,minn=2,maxn=14)"
   ]
  },
  {
   "cell_type": "markdown",
   "id": "d9dd9030-310c-414d-8c91-6178159c00e6",
   "metadata": {},
   "source": [
    "model[model.words[1]] と model.get_input_vector(ind=1) は等価"
   ]
  },
  {
   "cell_type": "code",
   "execution_count": null,
   "id": "6b23af9b",
   "metadata": {},
   "outputs": [],
   "source": []
  }
 ],
 "metadata": {
  "interpreter": {
   "hash": "aee8b7b246df8f9039afb4144a1f6fd8d2ca17a180786b69acc140d282b71a49"
  },
  "kernelspec": {
   "display_name": "Python 3.7.2 64-bit",
   "language": "python",
   "name": "python3"
  },
  "language_info": {
   "codemirror_mode": {
    "name": "ipython",
    "version": 3
   },
   "file_extension": ".py",
   "mimetype": "text/x-python",
   "name": "python",
   "nbconvert_exporter": "python",
   "pygments_lexer": "ipython3",
   "version": "3.7.2"
  }
 },
 "nbformat": 4,
 "nbformat_minor": 5
}
