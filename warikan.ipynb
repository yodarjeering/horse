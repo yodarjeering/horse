{
 "cells": [
  {
   "cell_type": "code",
   "execution_count": 1,
   "metadata": {},
   "outputs": [],
   "source": [
    "import numpy as np\n",
    "import random\n",
    "import pandas as pd"
   ]
  },
  {
   "cell_type": "code",
   "execution_count": 2,
   "metadata": {},
   "outputs": [],
   "source": [
    "payed = 0\n",
    "player_dict = {'name':payed}\n"
   ]
  },
  {
   "cell_type": "markdown",
   "metadata": {},
   "source": [
    "# func add_player"
   ]
  },
  {
   "cell_type": "code",
   "execution_count": 3,
   "metadata": {},
   "outputs": [],
   "source": [
    "def add_player(player_dict,name,payed):\n",
    "    player_dict[name] = payed\n",
    "    return player_dict"
   ]
  },
  {
   "cell_type": "code",
   "execution_count": 13,
   "metadata": {},
   "outputs": [],
   "source": [
    "player_dict = {}\n",
    "for name in ['A','B','C','D','E','F','G','H','I']:\n",
    "    payed = random.randint(0,5000)\n",
    "    player_dict[name] = payed"
   ]
  },
  {
   "cell_type": "code",
   "execution_count": 9,
   "metadata": {},
   "outputs": [
    {
     "data": {
      "text/plain": [
       "{'依田支払い': 25852, '岩下支払い': 7953, '関谷支払い': 16700}"
      ]
     },
     "execution_count": 9,
     "metadata": {},
     "output_type": "execute_result"
    }
   ],
   "source": [
    "player_dict = {}\n",
    "player_dict['依田支払い'] = 10450 + 8030 + 7372\n",
    "player_dict['岩下支払い'] = 660 + 3146+ 4147\n",
    "player_dict['関谷支払い'] = 4200 + 4500 + 8000\n",
    "player_dict"
   ]
  },
  {
   "cell_type": "code",
   "execution_count": 11,
   "metadata": {
    "tags": []
   },
   "outputs": [
    {
     "name": "stdout",
     "output_type": "stream",
     "text": [
      "総計      : 50505\n",
      "平均支払い : 16835\n",
      "余り      : 0\n"
     ]
    }
   ],
   "source": [
    "total_payed = 0\n",
    "for i,key in enumerate(player_dict):\n",
    "    total_payed += player_dict[key]  \n",
    "player_num = len(player_dict)\n",
    "print('総計      :',total_payed)\n",
    "print('平均支払い :',total_payed//player_num)\n",
    "print('余り      :',total_payed%player_num)\n",
    "mean_int = total_payed//player_num\n",
    "residual = total_payed%player_num"
   ]
  },
  {
   "cell_type": "code",
   "execution_count": 4,
   "metadata": {},
   "outputs": [
    {
     "name": "stdout",
     "output_type": "stream",
     "text": [
      "plus {'依田': 25852}\n",
      "minus {'岩下': 7953, '関谷': 16700}\n",
      "zero {}\n"
     ]
    }
   ],
   "source": [
    "total_payed_xr = total_payed - residual\n",
    "plus_dict = {}\n",
    "minus_dict = {}\n",
    "zero_dict = {}\n",
    "\n",
    "for i,key in enumerate(player_dict):\n",
    "    if player_dict[key] > mean_int:\n",
    "        plus_dict[key] = player_dict[key]\n",
    "    elif player_dict[key] < mean_int:\n",
    "        minus_dict[key] = player_dict[key]\n",
    "    else:\n",
    "        zero_dict[key] = player_dict[key]\n",
    "print(\"plus\",plus_dict)\n",
    "print('minus',minus_dict)\n",
    "print('zero',zero_dict)"
   ]
  },
  {
   "cell_type": "markdown",
   "metadata": {},
   "source": [
    "# 注意点"
   ]
  },
  {
   "cell_type": "markdown",
   "metadata": {},
   "source": [
    "total_payed_xrで全体の支払総額から, 余りを引き算しているので, 現在の全プレイヤーの支払総額と一致しない.\n",
    "そのあたりを考慮しとき"
   ]
  },
  {
   "cell_type": "code",
   "execution_count": 63,
   "metadata": {},
   "outputs": [],
   "source": [
    "def dict_to_list(dict_):\n",
    "    name_list = []\n",
    "    value_list = []\n",
    "    for i, key in enumerate(dict_):\n",
    "        name_list.append(key)\n",
    "        value_list.append(dict_[key])\n",
    "    return name_list,value_list"
   ]
  },
  {
   "cell_type": "markdown",
   "metadata": {},
   "source": [
    "# 余りを誰かに押し付けるか, 無視するか"
   ]
  },
  {
   "cell_type": "code",
   "execution_count": 5,
   "metadata": {},
   "outputs": [
    {
     "name": "stdout",
     "output_type": "stream",
     "text": [
      "[('依田', 25852)]\n",
      "[('岩下', 7953), ('関谷', 16700)]\n"
     ]
    }
   ],
   "source": [
    "plus_tuple = sorted(plus_dict.items(),key = lambda x:x[1],reverse=True)\n",
    "minus_tuple = sorted(minus_dict.items(),key = lambda x:x[1])\n",
    "print(plus_tuple)\n",
    "print(minus_tuple)"
   ]
  },
  {
   "cell_type": "code",
   "execution_count": 107,
   "metadata": {},
   "outputs": [],
   "source": [
    "plus_dict['B'] -= residual"
   ]
  },
  {
   "cell_type": "code",
   "execution_count": 121,
   "metadata": {},
   "outputs": [
    {
     "data": {
      "text/plain": [
       "3022"
      ]
     },
     "execution_count": 121,
     "metadata": {},
     "output_type": "execute_result"
    }
   ],
   "source": [
    "2408+614"
   ]
  },
  {
   "cell_type": "code",
   "execution_count": 131,
   "metadata": {},
   "outputs": [
    {
     "data": {
      "text/plain": [
       "6162"
      ]
     },
     "execution_count": 131,
     "metadata": {},
     "output_type": "execute_result"
    }
   ],
   "source": [
    "2894 + 2408 + 860"
   ]
  },
  {
   "cell_type": "code",
   "execution_count": 8,
   "metadata": {
    "tags": []
   },
   "outputs": [
    {
     "name": "stdout",
     "output_type": "stream",
     "text": [
      "-------------------------------------------\n",
      "payer : ('岩下', 7953)\n",
      "must pay 8882\n",
      "payed to 依田   8882\n",
      "-------------------------------------------\n",
      "payer : ('関谷', 16700)\n",
      "must pay 135\n",
      "payed to 依田   135\n"
     ]
    }
   ],
   "source": [
    "pay_loop(minus_tuple,plus_tuple,plus_dict,mean_int)"
   ]
  },
  {
   "cell_type": "code",
   "execution_count": 7,
   "metadata": {},
   "outputs": [],
   "source": [
    "def pay_loop(minus_tuple,plus_tuple,plus_dict,mean_int):\n",
    "    \n",
    "    payed_person = {}\n",
    "    plus_dict = plus_dict.copy()\n",
    "    for minus_player in minus_tuple:\n",
    "        must_pay = mean_int - minus_player[1]\n",
    "        print(\"-------------------------------------------\")\n",
    "        plus_tuple = sorted(plus_dict.items(),key = lambda x:x[1],reverse=True)\n",
    "        print(\"payer :\",minus_player)\n",
    "        print(\"must pay\",must_pay)\n",
    "        while must_pay != 0: \n",
    "\n",
    "            for plus_player in plus_tuple:\n",
    "                must_given = plus_player[1] - mean_int\n",
    "\n",
    "\n",
    "                if must_pay > must_given:\n",
    "                    print(\"payed to\",plus_player[0],' ',must_given)\n",
    "                    must_pay -= must_given\n",
    "                    payed_person[plus_player[0]] = True\n",
    "                    plus_dict[plus_player[0]] = 0\n",
    "                    continue\n",
    "                elif must_pay < must_given:\n",
    "                    print(\"payed to\",plus_player[0],' ',must_pay)\n",
    "                    must_given -= must_pay\n",
    "                    plus_dict[plus_player[0]] = must_given + mean_int\n",
    "                    payed_person[minus_player[0]] = True\n",
    "                    must_pay = 0\n",
    "                    break\n",
    "                else:\n",
    "                    print(\"payed to\",plus_player[0],' ',must_pay)\n",
    "                    must_pay = 0\n",
    "                    payed_person[plus_player[0]] = True\n",
    "                    payed_person[minus_player[0]] = True\n",
    "                    break"
   ]
  },
  {
   "cell_type": "code",
   "execution_count": null,
   "metadata": {},
   "outputs": [],
   "source": [
    "def pay_loop2(minus_tuple,plus_tuple,plus_dict,mean_int):\n",
    "    \n",
    "    payed_person = {}\n",
    "    plus_dict = plus_dict.copy()\n",
    "\n",
    "    for minus_player in minus_tuple:\n",
    "        must_pay = mean_int - minus_player[1]\n",
    "        print(\"-------------------------------------------\")\n",
    "        plus_tuple = sorted(plus_dict.items(),key = lambda x:x[1],reverse=True)\n",
    "        print(\"payer :\",minus_player)\n",
    "        print(\"must pay\",must_pay)\n",
    "        while must_pay != 0: \n",
    "\n",
    "            for plus_player in plus_tuple:\n",
    "                must_given = plus_player[1] - mean_int\n",
    "\n",
    "\n",
    "                if must_pay > must_given:\n",
    "                    print(\"payed to\",plus_player[0],' ',must_given)\n",
    "                    must_pay -= must_given\n",
    "                    payed_person[plus_player[0]] = True\n",
    "                    plus_dict[plus_player[0]] = 0\n",
    "                    continue\n",
    "                elif must_pay < must_given:\n",
    "                    print(\"payed to\",plus_player[0],' ',must_pay)\n",
    "                    must_given -= must_pay\n",
    "                    plus_dict[plus_player[0]] = must_given + mean_int\n",
    "                    payed_person[minus_player[0]] = True\n",
    "                    must_pay = 0\n",
    "                    break\n",
    "                else:\n",
    "                    print(\"payed to\",plus_player[0],' ',must_pay)\n",
    "                    must_pay = 0\n",
    "                    payed_person[plus_player[0]] = True\n",
    "                    payed_person[minus_player[0]] = True\n",
    "                    break"
   ]
  },
  {
   "cell_type": "code",
   "execution_count": 133,
   "metadata": {},
   "outputs": [
    {
     "data": {
      "text/plain": [
       "[('H', 128), ('A', 614), ('C', 2162)]"
      ]
     },
     "execution_count": 133,
     "metadata": {},
     "output_type": "execute_result"
    }
   ],
   "source": [
    "minus_tuple"
   ]
  },
  {
   "cell_type": "code",
   "execution_count": 134,
   "metadata": {},
   "outputs": [
    {
     "data": {
      "text/plain": [
       "[('F', 4914), ('D', 4463), ('B', 4128), ('I', 3994), ('E', 3730), ('G', 3069)]"
      ]
     },
     "execution_count": 134,
     "metadata": {},
     "output_type": "execute_result"
    }
   ],
   "source": [
    "plus_tuple"
   ]
  },
  {
   "cell_type": "code",
   "execution_count": 135,
   "metadata": {},
   "outputs": [
    {
     "data": {
      "text/plain": [
       "{'A': 614,\n",
       " 'B': 4128,\n",
       " 'C': 2162,\n",
       " 'D': 4463,\n",
       " 'E': 3730,\n",
       " 'F': 4914,\n",
       " 'G': 3069,\n",
       " 'H': 128,\n",
       " 'I': 3994}"
      ]
     },
     "execution_count": 135,
     "metadata": {},
     "output_type": "execute_result"
    }
   ],
   "source": [
    "player_dict"
   ]
  },
  {
   "cell_type": "code",
   "execution_count": 145,
   "metadata": {},
   "outputs": [
    {
     "name": "stdout",
     "output_type": "stream",
     "text": [
      "67.5\n",
      "7.5\n",
      "-12.5\n"
     ]
    },
    {
     "data": {
      "text/plain": [
       "3022"
      ]
     },
     "execution_count": 145,
     "metadata": {},
     "output_type": "execute_result"
    }
   ],
   "source": [
    "print(130-62.5)\n",
    "print(70-62.5)\n",
    "print(50-62.5)\n",
    "mean_int\n"
   ]
  },
  {
   "cell_type": "code",
   "execution_count": 154,
   "metadata": {},
   "outputs": [
    {
     "data": {
      "text/plain": [
       "[('H', -2894),\n",
       " ('A', -2408),\n",
       " ('C', -860),\n",
       " ('G', 47),\n",
       " ('E', 708),\n",
       " ('I', 972),\n",
       " ('B', 1106),\n",
       " ('D', 1441),\n",
       " ('F', 1892)]"
      ]
     },
     "execution_count": 154,
     "metadata": {},
     "output_type": "execute_result"
    }
   ],
   "source": [
    "must_given_dict = {}\n",
    "for i in player_dict.items():\n",
    "    must_given_dict[i[0]] = i[1] - mean_int\n",
    "\n",
    "must_given_tuple =  sorted(must_given_dict.items(),key = lambda x:x[1])\n",
    "\n",
    "must_given_tuple"
   ]
  },
  {
   "cell_type": "code",
   "execution_count": 153,
   "metadata": {},
   "outputs": [
    {
     "data": {
      "text/plain": [
       "-2894"
      ]
     },
     "execution_count": 153,
     "metadata": {},
     "output_type": "execute_result"
    }
   ],
   "source": [
    "payer = must_given_tuple[0][1]\n",
    "payer_name = must_given_tuple[0][0]\n",
    "givener = must_given_tuple[-1][1]\n",
    "givener_name = must_given_tuple[-1][1]\n",
    "\n",
    "if payer + givener < 0:\n",
    "    must_given_dict[givener_name] = 0\n",
    "    "
   ]
  },
  {
   "cell_type": "code",
   "execution_count": null,
   "metadata": {},
   "outputs": [],
   "source": []
  }
 ],
 "metadata": {
  "kernelspec": {
   "display_name": "Python 3",
   "language": "python",
   "name": "python3"
  },
  "language_info": {
   "codemirror_mode": {
    "name": "ipython",
    "version": 3
   },
   "file_extension": ".py",
   "mimetype": "text/x-python",
   "name": "python",
   "nbconvert_exporter": "python",
   "pygments_lexer": "ipython3",
   "version": "3.8.10"
  },
  "toc-autonumbering": true
 },
 "nbformat": 4,
 "nbformat_minor": 4
}
